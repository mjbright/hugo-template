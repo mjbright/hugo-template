{
 "cells": [
  {
   "cell_type": "markdown",
   "id": "ultimate-software",
   "metadata": {},
   "source": [
    "---\n",
    "title: 'Lab 12. RDS (Amazon Relation Database Service)'\n",
    "date: 2019-02-11T19:27:37+10:00\n",
    "weight: 120\n",
    "---\n",
    "\n",
    "\n",
    "## Background:\n",
    "In this exercise we will demonstrate the creation and use of a PostgreSQL database via the AWS RDS Service\n",
    "\n",
    "This lab is derived from a couple of blog posts on medium.com, you may want to peruse them first:\n",
    "\n",
    "- https://tech.instacart.com/terraforming-rds-part-1-7cc78f92b24d\n",
    "- \n",
    "\n",
    "\n",
    "## Tasks:\n",
    "\n",
    "### 1. Make a directory called ‘labs/lab12’ underneath the home directory.\n",
    "### 2. Change into the directory.\n",
    "\n",
    "### 3. Create a file named main.tf for the AWS provider\n",
    "\n",
    "### 4. Create a file named rds.tf with the following content"
   ]
  },
  {
   "cell_type": "code",
   "execution_count": null,
   "id": "direct-loading",
   "metadata": {
    "attributes": {
     "classes": [
      "tf"
     ],
     "id": ""
    }
   },
   "outputs": [],
   "source": [
    "resource \"aws_db_instance\" \"rds-test\" {\n",
    "  allocated_storage    = 100\n",
    "  #db_subnet_group_name = \"db-subnetgrp\"\n",
    "  engine               = \"postgres\"\n",
    "  engine_version       = \"11.5\"\n",
    "  identifier           = \"rds-test\"\n",
    "  instance_class       = \"db.m5.large\"\n",
    "  password             = \"password\"\n",
    "  skip_final_snapshot  = true\n",
    "  storage_encrypted    = true\n",
    "  username             = \"postgres\"\n",
    "}"
   ]
  },
  {
   "cell_type": "markdown",
   "id": "formed-ranking",
   "metadata": {},
   "source": [
    "### 5. Create a file named outputs.tf with the following content"
   ]
  },
  {
   "cell_type": "code",
   "execution_count": null,
   "id": "moral-brick",
   "metadata": {
    "attributes": {
     "classes": [
      "tf"
     ],
     "id": ""
    }
   },
   "outputs": [],
   "source": [
    "output \"public_ip\" {\n",
    "  value = aws_instance.example.public_ip\n",
    "}\n",
    "\n",
    "output \"public_dns\" {\n",
    "  value = aws_instance.example.public_dns\n",
    "}\n"
   ]
  },
  {
   "cell_type": "markdown",
   "id": "modern-immune",
   "metadata": {},
   "source": [
    "To output instance ip/dns information for connectiing.\n",
    "\n",
    "### 5. Create a file named vars.tf with the following content"
   ]
  },
  {
   "cell_type": "code",
   "execution_count": null,
   "id": "historic-timber",
   "metadata": {
    "attributes": {
     "classes": [
      "tf"
     ],
     "id": ""
    }
   },
   "outputs": [],
   "source": [
    "\n",
    "variable \"region\" {\n",
    "  default = \"us-west-1\"\n",
    "}\n"
   ]
  },
  {
   "cell_type": "markdown",
   "id": "injured-district",
   "metadata": {},
   "source": [
    "### 6. Create a file named vpc.tf with the following content"
   ]
  },
  {
   "cell_type": "code",
   "execution_count": null,
   "id": "prepared-convergence",
   "metadata": {
    "attributes": {
     "classes": [
      "tf"
     ],
     "id": ""
    }
   },
   "outputs": [],
   "source": [
    "# Internet VPC\n",
    "resource \"aws_vpc\" \"main\" {\n",
    "    cidr_block = \"10.0.0.0/16\"\n",
    "    instance_tenancy = \"default\"\n",
    "    enable_dns_support = \"true\"\n",
    "    enable_dns_hostnames = \"true\"\n",
    "    enable_classiclink = \"false\"\n",
    "    tags = {\n",
    "        Name = \"main\"\n",
    "    }\n",
    "}\n",
    "\n",
    "# Subnets\n",
    "resource \"aws_subnet\" \"main-public-1\" {\n",
    "    vpc_id = \"${aws_vpc.main.id}\"\n",
    "    cidr_block = \"10.0.1.0/24\"\n",
    "    map_public_ip_on_launch = \"true\"\n",
    "    availability_zone = \"us-west-1a\"\n",
    "\n",
    "    tags = {\n",
    "        Name = \"main-public-1\"\n",
    "    }\n",
    "}\n",
    "\n",
    "resource \"aws_subnet\" \"main-public-2\" {\n",
    "    vpc_id = \"${aws_vpc.main.id}\"\n",
    "    cidr_block = \"10.0.2.0/24\"\n",
    "    map_public_ip_on_launch = \"true\"\n",
    "    availability_zone = \"us-west-1b\"\n",
    "    tags = {\n",
    "        Name = \"main-public-2\"\n",
    "    }\n",
    "}\n",
    "\n",
    "resource \"aws_subnet\" \"main-private-1\" {\n",
    "    vpc_id = \"${aws_vpc.main.id}\"\n",
    "    cidr_block = \"10.0.4.0/24\"\n",
    "    map_public_ip_on_launch = \"false\"\n",
    "    availability_zone = \"us-west-1a\"\n",
    "\n",
    "    tags = {\n",
    "        Name = \"main-private-1\"\n",
    "    }\n",
    "}\n",
    "\n",
    "resource \"aws_subnet\" \"main-private-2\" {\n",
    "    vpc_id = \"${aws_vpc.main.id}\"\n",
    "    cidr_block = \"10.0.5.0/24\"\n",
    "    map_public_ip_on_launch = \"false\"\n",
    "    availability_zone = \"us-west-1b\"\n",
    "\n",
    "    tags = {\n",
    "        Name = \"main-private-2\"\n",
    "    }\n",
    "}\n",
    "\n",
    "# Internet GW\n",
    "resource \"aws_internet_gateway\" \"main-gw\" {\n",
    "    vpc_id = \"${aws_vpc.main.id}\"\n",
    "   tags = {\n",
    "        Name = \"main\"\n",
    "    }\n",
    "}\n",
    "\n",
    "# route tables\n",
    "resource \"aws_route_table\" \"main-public\" {\n",
    "    vpc_id = \"${aws_vpc.main.id}\"\n",
    "    route {\n",
    "        cidr_block = \"0.0.0.0/0\"\n",
    "        gateway_id = \"${aws_internet_gateway.main-gw.id}\"\n",
    "    }\n",
    "\n",
    "    tags = {\n",
    "        Name = \"main-public-1\"\n",
    "    }\n",
    "}\n",
    "\n",
    "# route associations public\n",
    "resource \"aws_route_table_association\" \"main-public-1-a\" {\n",
    "    subnet_id = \"${aws_subnet.main-public-1.id}\"\n",
    "    route_table_id = \"${aws_route_table.main-public.id}\"\n",
    "}\n",
    "\n",
    "resource \"aws_route_table_association\" \"main-public-2-a\" {\n",
    "    subnet_id = \"${aws_subnet.main-public-2.id}\"\n",
    "    route_table_id = \"${aws_route_table.main-public.id}\"\n",
    "}\n"
   ]
  },
  {
   "cell_type": "markdown",
   "id": "classified-indonesian",
   "metadata": {},
   "source": [
    "### 7. Study the above vpc creation information and also the EBS definition\n",
    "\n",
    "### 8. Apply the configuration\n",
    "Run the following command:"
   ]
  },
  {
   "cell_type": "code",
   "execution_count": null,
   "id": "allied-oxide",
   "metadata": {},
   "outputs": [],
   "source": [
    "%%bash\n",
    "> terraform apply"
   ]
  },
  {
   "cell_type": "markdown",
   "id": "narrative-cream",
   "metadata": {},
   "source": [
    "Assuming that this works correctly, AWS will create a new VM instance\n",
    "\n",
    "### 9. Connect to the instance"
   ]
  },
  {
   "cell_type": "code",
   "execution_count": null,
   "id": "generic-prize",
   "metadata": {},
   "outputs": [],
   "source": [
    "%%bash\n",
    "ssh ubuntu@<public_dns>"
   ]
  },
  {
   "cell_type": "markdown",
   "id": "common-indonesian",
   "metadata": {},
   "source": [
    "Once connected look at ip networking information and disk block information using commands:"
   ]
  },
  {
   "cell_type": "code",
   "execution_count": null,
   "id": "ancient-macintosh",
   "metadata": {},
   "outputs": [],
   "source": [
    "%%bash\n",
    "> ip a\n",
    "1: lo: <LOOPBACK,UP,LOWER_UP> mtu 65536 qdisc noqueue state UNKNOWN group default qlen 1000\n",
    "    link/loopback 00:00:00:00:00:00 brd 00:00:00:00:00:00\n",
    "    inet 127.0.0.1/8 scope host lo\n",
    "       valid_lft forever preferred_lft forever\n",
    "    inet6 ::1/128 scope host\n",
    "       valid_lft forever preferred_lft forever\n",
    "2: eth0: <BROADCAST,MULTICAST,UP,LOWER_UP> mtu 9001 qdisc fq_codel state UP group default qlen 1000\n",
    "    link/ether 06:9a:61:8a:9f:b7 brd ff:ff:ff:ff:ff:ff\n",
    "    inet 10.0.1.171/24 brd 10.0.1.255 scope global dynamic eth0\n",
    "       valid_lft 2660sec preferred_lft 2660sec\n",
    "    inet6 fe80::49a:61ff:fe8a:9fb7/64 scope link\n",
    "       valid_lft forever preferred_lft forever"
   ]
  },
  {
   "cell_type": "markdown",
   "id": "baking-breeding",
   "metadata": {},
   "source": [
    "#### Let's check that our new EBS volume is present on the instance"
   ]
  },
  {
   "cell_type": "code",
   "execution_count": null,
   "id": "processed-genetics",
   "metadata": {},
   "outputs": [],
   "source": [
    "%%bash\n",
    "\n",
    ">  sudo parted --list\n",
    "Model: Xen Virtual Block Device (xvd)\n",
    "Disk /dev/xvda: 8590MB\n",
    "Sector size (logical/physical): 512B/512B\n",
    "Partition Table: msdos\n",
    "Disk Flags:\n",
    "\n",
    "Number  Start   End     Size    Type     File system  Flags\n",
    " 1      1049kB  8590MB  8589MB  primary  ext4         boot\n",
    "\n",
    "\n",
    "Error: /dev/xvdh: unrecognised disk label\n",
    "Model: Xen Virtual Block Device (xvd)\n",
    "Disk /dev/xvdh: 21.5GB\n",
    "Sector size (logical/physical): 512B/512B\n",
    "Partition Table: unknown\n",
    "Disk Flags:\n"
   ]
  },
  {
   "cell_type": "markdown",
   "id": "plain-brass",
   "metadata": {},
   "source": [
    "#### We can see that the disk exists, now let's create a filesystem on the raw device and mount it.\n",
    "\n",
    "First create an ext4 filesystem on the device:"
   ]
  },
  {
   "cell_type": "code",
   "execution_count": null,
   "id": "satisfied-restoration",
   "metadata": {},
   "outputs": [],
   "source": [
    "%%bash\n",
    "sudo mkfs.ext4 /dev/xvdh"
   ]
  },
  {
   "cell_type": "markdown",
   "id": "mysterious-coating",
   "metadata": {},
   "source": [
    "Create a new mountpoint"
   ]
  },
  {
   "cell_type": "code",
   "execution_count": null,
   "id": "departmental-northern",
   "metadata": {},
   "outputs": [],
   "source": [
    "%%bash\n",
    "sudo mkdir /mnt/extra"
   ]
  },
  {
   "cell_type": "markdown",
   "id": "boring-steel",
   "metadata": {},
   "source": [
    "Mount the device new mountpoint"
   ]
  },
  {
   "cell_type": "code",
   "execution_count": null,
   "id": "beginning-billion",
   "metadata": {},
   "outputs": [],
   "source": [
    "%%bash\n",
    "sudo mount /dev/xvdh /mnt/extra"
   ]
  },
  {
   "cell_type": "markdown",
   "id": "environmental-profit",
   "metadata": {},
   "source": [
    "Verify that the mount looks correct"
   ]
  },
  {
   "cell_type": "code",
   "execution_count": null,
   "id": "parliamentary-airplane",
   "metadata": {},
   "outputs": [],
   "source": [
    "%%bash\n",
    "df -h /mnt/extra/"
   ]
  },
  {
   "cell_type": "markdown",
   "id": "coordinated-willow",
   "metadata": {},
   "source": [
    "You should see something similar to:"
   ]
  },
  {
   "cell_type": "code",
   "execution_count": null,
   "id": "electrical-quantity",
   "metadata": {},
   "outputs": [],
   "source": [
    "Filesystem      Size  Used Avail Use% Mounted on\n",
    "/dev/xvdh        20G   45M   19G   1% /mnt/extra"
   ]
  },
  {
   "cell_type": "markdown",
   "id": "compound-inflation",
   "metadata": {},
   "source": [
    "### 15. Cleanup"
   ]
  },
  {
   "cell_type": "code",
   "execution_count": null,
   "id": "sixth-edward",
   "metadata": {},
   "outputs": [],
   "source": [
    "%%bash\n",
    "> terraform destroy"
   ]
  },
  {
   "cell_type": "markdown",
   "id": "imperial-financing",
   "metadata": {},
   "source": [
    "<hr/>\n",
    "<!-- ![](../../../static/images/LOGO_v2_CROPPED.jpg) --> <img src=\"../../../static/images/LOGO_v2_CROPPED.jpg\" width=\"200\" />"
   ]
  }
 ],
 "metadata": {
  "kernelspec": {
   "display_name": "Bash",
   "language": "bash",
   "name": "bash"
  },
  "language_info": {
   "codemirror_mode": "shell",
   "file_extension": ".sh",
   "mimetype": "text/x-sh",
   "name": "bash"
  }
 },
 "nbformat": 4,
 "nbformat_minor": 5
}
