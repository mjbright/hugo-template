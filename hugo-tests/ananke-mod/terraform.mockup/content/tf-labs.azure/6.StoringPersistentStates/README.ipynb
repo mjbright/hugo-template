{
 "cells": [
  {
   "cell_type": "markdown",
   "id": "139c3bca",
   "metadata": {},
   "source": [
    "<div id=\"TOP\" />\n",
    "<a href=\"#END\" > END of Notebook (filter) </a>\n",
    "\n",
    "$__ A BOX $\n",
    "<div class=\"alert alert-info\"> <b>Info</b>  - an info </div>\n",
    "<div class=\"alert alert-warning\"> <b>Info</b>  - a warning </div>\n",
    "<div class=\"alert alert-danger\"> <b>Info</b>  - an danger </div>"
   ]
  },
  {
   "cell_type": "code",
   "execution_count": 1,
   "id": "generous-grain",
   "metadata": {
    "scrolled": false
   },
   "outputs": [
    {
     "name": "stdout",
     "output_type": "stream",
     "text": [
      "==== Reading nbtool functions from '/home/student/scripts/nbtool.rc' ====\n",
      "TF-1.3.7 -rw-rw-r-- 1 student student 9 Jan  8 19:18 /home/student/.environment\n",
      "Reading package lists... 0%Reading package lists... 100%Reading package lists... Done\n",
      "Building dependency tree... 0%Building dependency tree... 0%Building dependency tree... 50%Building dependency tree... 50%Building dependency tree       \n",
      "Reading state information... 0%Reading state information... 0%Reading state information... Done\n",
      "sysvbanner is already the newest version (1:1.0-17fakesync1).\n",
      "The following packages were automatically installed and are no longer required:\n",
      "  linux-headers-5.4.0-120 linux-headers-5.4.0-120-generic\n",
      "  linux-image-5.4.0-120-generic linux-modules-5.4.0-120-generic\n",
      "Use 'sudo apt autoremove' to remove them.\n",
      "0 upgraded, 0 newly installed, 0 to remove and 0 not upgraded.\n",
      "\n",
      "******** Mon 09 Jan 2023 06:41:58 PM UTC: Notebook initialized on tf TF-1.3.7\n",
      "\n",
      "\u001b[01;31m\u001b[KNB_DIR=/home/student/src/mjbright.tf-scenarios-private/ServeUpLabs/content/tf-labs/6.StoringPersistentStates\u001b[m\u001b[K\n",
      "\n",
      "==== Setting TF_DATA_DIR ====\n",
      "TF_DATA_DIR\u001b[01;31m\u001b[K=/home/student/dot.terraform\u001b[m\u001b[K\n",
      "\n",
      "==== Setting AWS vars for student20 account ====\n",
      "bash: /home/student/.aws/linked/student20.rc: No such file or directory\n",
      "==== Terraform Lab \u001b[01;31m\u001b[Kweight[60] / tag[6.StoringPersistentStates] / name[Lab 6.StoringPersistentStates] ====\u001b[m\u001b[K\n",
      "NB_DIR=/home/student/src/mjbright.tf-scenarios-private/ServeUpLabs/content/tf-labs/6.StoringPersistentStates\n",
      "NB=/home/student/src/mjbright.tf-scenarios-private/ServeUpLabs/content/tf-labs/6.StoringPersistentStates/README.ipynb\n",
      "\n",
      "==== Filtering current notebook [/home/student/src/mjbright.tf-scenarios-private/ServeUpLabs/content/tf-labs/6.StoringPersistentStates/README.ipynb] ====\n",
      "\n",
      "******** Mon 09 Jan 2023 06:41:58 PM UTC: Notebook filtered on tf TF-1.3.7\n",
      "\n",
      "mv: cannot move '/home/student/Solutions/Lab' to '/home/student/Solutions/BAK/Lab': Directory not empty\n",
      "-- . ~/scripts/nbtool.rc\n",
      "TF-1.3.7 -rw-rw-r-- 1 student student 9 Jan  8 19:18 /home/student/.environment\n",
      "Reading package lists... 0%Reading package lists... 100%Reading package lists... Done\n",
      "Building dependency tree... 0%Building dependency tree... 0%Building dependency tree... 50%Building dependency tree... 50%Building dependency tree       \n",
      "Reading state information... 0%Reading state information... 0%Reading state information... Done\n",
      "sysvbanner is already the newest version (1:1.0-17fakesync1).\n",
      "The following packages were automatically installed and are no longer required:\n",
      "  linux-headers-5.4.0-120 linux-headers-5.4.0-120-generic\n",
      "  linux-image-5.4.0-120-generic linux-modules-5.4.0-120-generic\n",
      "Use 'sudo apt autoremove' to remove them.\n",
      "0 upgraded, 0 newly installed, 0 to remove and 0 not upgraded.\n",
      "/home/student/.venv/TRAINING/bin/python3\n",
      "\n",
      "-- ~/.venv/TRAINING/bin/python3 ~/scripts/nbtool.py -f ~/src/mjbright.tf-scenarios-private/ServeUpLabs/content/tf-labs/6.StoringPersistentStates/README.ipynb\n",
      "---- no VARS_SEEN ----\n",
      "i/p nb has 0 variables\n",
      "/home/student/src/mjbright.tf-scenarios-private/ServeUpLabs/content/tf-labs/6.StoringPersistentStates/README.ipynb:\n",
      "\t#cells=63\n",
      "cells to include[#50]=[[3, 7, 8, 9, 10, 11, 12, 13, 14, 15, 16, 17, 18, 20, 21, 22, 24, 25, 26, 27, 28, 29, 30, 31, 32, 33, 34, 35, 36, 37, 38, 39, 40, 41, 42, 43, 45, 46, 47, 48, 49, 51, 52, 53, 54, 55, 56, 57, 58, 59]]\n",
      "cells to include[#50]=[[59, 58, 57, 56, 55, 54, 53, 52, 51, 49, 48, 47, 46, 45, 43, 42, 41, 40, 39, 38, 37, 36, 35, 34, 33, 32, 31, 30, 29, 28, 27, 26, 25, 24, 22, 21, 20, 18, 17, 16, 15, 14, 13, 12, 11, 10, 9, 8, 7, 3]]\n",
      "included markdown cells=[3, 9, 10, 11, 13, 15, 18, 20, 22, 25, 27, 28, 29, 31, 33, 35, 37, 40, 43, 45, 48, 49, 52, 53, 55, 57, 59]\n",
      "included code     cells=[7, 8, 12, 14, 16, 17, 21, 24, 26, 30, 32, 34, 36, 38, 39, 41, 42, 46, 47, 51, 54, 56, 58]\n",
      "excluded          cells=[0, 1, 2, 4, 5, 6, 19, 23, 44, 50, 60, 61]\n",
      "---- no VARS_SEEN ----\n",
      "o/p nb has 0 variables\n",
      "/home/student/src/mjbright.tf-scenarios-private/ServeUpLabs/content/tf-labs/6.StoringPersistentStates/README.ipynb.filtered.ipynb:\n",
      "\t#cells=50\n",
      "-rw-rw-r-- 1 student student 62469 Jan  9 18:41 README.ipynb.filtered.ipynb\n",
      "\n",
      "1 VAR defs/usages in i/p file: ~/src/mjbright.tf-scenarios-private/ServeUpLabs/content/tf-labs/6.StoringPersistentStates/README.ipynb\n",
      "\n",
      "Good: No VAR defs/usages in o/p file\n",
      "\n",
      "-- jupyter-nbconvert --to markdown README.ipynb.filtered.ipynb\n",
      "[NbConvertApp] Converting notebook README.ipynb.filtered.ipynb to markdown\n",
      "[NbConvertApp] Writing 52655 bytes to README.ipynb.filtered.md\n",
      "\n",
      "-- jupyter-nbconvert --to html README.ipynb.filtered.ipynb\n",
      "[NbConvertApp] Converting notebook README.ipynb.filtered.ipynb to html\n",
      "[NbConvertApp] Writing 668488 bytes to README.ipynb.filtered.html\n",
      "\n",
      "\u001b[32m-rw-rw-r-- 1 student student  62469 Jan  9 18:41 Lab_6.StoringPersistentStates.ipynb\u001b[0m\n",
      "\u001b[32m-rw-rw-r-- 1 student student 105351 Jan  9 18:42 Lab_6.StoringPersistentStates.md\u001b[0m\n"
     ]
    }
   ],
   "source": [
    "# -- CONFIG ------------------------------------\n",
    "LAB_TAG=${PWD##*/} \n",
    "LAB_NAME=\"TFI_Azure_Lab6.StoringPersistentStates\"\n",
    "LAB_WEIGHT=60\n",
    "LAB_MODE=\"Terraform\"\n",
    "# ----------------------------------------------\n",
    "\n",
    "# NB=\"\"; cd ~/nb/2021-Terraform/content/tf-labs/XXXX; set +x\n",
    "DIE() { echo \"[$PWD] Error: $*\"; banner \"ERROR\"; exit 1; }\n",
    "NBTOOL_RC=~/scripts/nbtool.rc; [ ! -f $NBTOOL_RC ] && DIE \"No such script as $NBTOOL_RC\"\n",
    "echo \"==== Reading nbtool functions from '$NBTOOL_RC' ====\"; . $NBTOOL_RC\n",
    "EXCL_FN_INIT_NOTEBOOK\n",
    "## --INCLUDE--SECTION--\n",
    "## --EXCLUDE--SECTION--"
   ]
  },
  {
   "cell_type": "markdown",
   "id": "following-pathology",
   "metadata": {},
   "source": [
    "# --INCLUDE--SECTION--"
   ]
  },
  {
   "cell_type": "code",
   "execution_count": 2,
   "id": "60e58e4e",
   "metadata": {},
   "outputs": [
    {
     "name": "stdout",
     "output_type": "stream",
     "text": [
      "2023-Jan-09:[TF-1.3.7] Lab updated on node tf[terraform 1.3.7]\n"
     ]
    },
    {
     "ename": "",
     "evalue": "1",
     "output_type": "error",
     "traceback": []
    }
   ],
   "source": [
    "EXCL_FN_LAB_ENV"
   ]
  },
  {
   "cell_type": "markdown",
   "id": "broadband-radar",
   "metadata": {},
   "source": [
    "# Working with Remote State\n",
    "\n",
    "## Background:  \n",
    "Here, we learn how to create S3 buckets for persistent storage and use DynamoDB to store our states in tables.  We do this so that we can store our tfstate files remotely, and securely and allow versioning control so that recovery and rollbacks can be achieved as required.  \n",
    "\n",
    "See http://aws-cloud.guru/terraform-aws-backend-for-remote-state-files-with-s3-and-dynamodb/ for more details.\n",
    "\n",
    "## Tasks:\n",
    "\n",
    "### 1. Make a directory called ‘lab6’ underneath the labs directory.\n",
    "\n",
    "### 2. Change into the directory.\n",
    "\n",
    "### 3. Create a file main.tf\n",
    "\n",
    "In that file define \"*aws_s3_bucket*\" and \"*aws_dynamodb_table*\" resources as below"
   ]
  },
  {
   "cell_type": "code",
   "execution_count": 3,
   "id": "a5e095c2",
   "metadata": {},
   "outputs": [],
   "source": [
    "#EXCLUDE:\n",
    "\n",
    "mkdir -p ~/labs/lab6\n",
    "cd ~/labs/lab6"
   ]
  },
  {
   "cell_type": "code",
   "execution_count": 4,
   "id": "alike-purple",
   "metadata": {},
   "outputs": [
    {
     "name": "stdout",
     "output_type": "stream",
     "text": [
      "USE YOUR BUCKET NAME HERE:\n",
      "Mine is 20230109-mjbrightc\n"
     ]
    }
   ],
   "source": [
    "#EXCLUDE\n",
    "echo \"USE YOUR BUCKET NAME HERE:\"\n",
    "export BUCKET=\"20230109-mjbrightc\"\n",
    "echo \"Mine is $BUCKET\"\n",
    "\n",
    "#CHALLENGE: how to ...\n",
    "#NO: use STUDENT-(AWS var?) mjbrightC-date-randompet for bucket?\"\n",
    "#    DONT WANT TO RECREATE BUCKET EVERY TIME THOUGH ...\n",
    "\n",
    "#TODO:\n",
    "# add host, pwd Tag into all resources - esp. aws_instances, vpcs, buckets\""
   ]
  },
  {
   "cell_type": "code",
   "execution_count": 5,
   "id": "forward-liverpool",
   "metadata": {},
   "outputs": [],
   "source": [
    "#EXCLUDE:\n",
    "\n",
    "cat > main.tf <<EOF\n",
    "\n",
    "provider \"aws\" {\n",
    "  region = var.region\n",
    "}\n",
    "\n",
    "resource \"aws_s3_bucket\" \"remote_state\" {\n",
    "  bucket = var.unique_bucket_name\n",
    "\n",
    "  # Removed in hashicorp/aws version 4.0.0: now use aws_s3_bucket_acl if needed:\n",
    "  # acl    = \"private\"\n",
    "\n",
    "  # Removed in hashicorp/aws version 4.0.0: now use aws_s3_bucket_versioning if needed:\n",
    "  # versioning {    enabled = true  }\n",
    "\n",
    "  lifecycle { prevent_destroy = false }\n",
    "  \n",
    "  tags = {\n",
    "      LabName = \"$LAB_TAG\"\n",
    "  }\n",
    "\n",
    "  # All objects to be deleted from bucket to allow bucket deletion without error\n",
    "  force_destroy = true\n",
    "}\n",
    "\n",
    "resource \"aws_dynamodb_table\" \"terraform_locks\" {\n",
    "  name           = var.dynamodb_lock_table_name\n",
    "  read_capacity  = 1\n",
    "  write_capacity = 1\n",
    "  hash_key       = \"LockID\" \n",
    "\n",
    "  tags = {\n",
    "      LabName = \"$LAB_TAG\"\n",
    "  }\n",
    "\n",
    "  attribute {\n",
    "    name = \"LockID\"\n",
    "    type = \"S\"\n",
    "  }\n",
    "}\n",
    "\n",
    "EOF\n",
    "\n",
    "cat > vars.tf <<EOF\n",
    "variable region {\n",
    "    default = \"us-west-1\"\n",
    "}\n",
    "\n",
    "variable unique_bucket_name {\n",
    "    # e.g. default = \"20201020-student21\"\n",
    "    default = \"$BUCKET\"\n",
    "}\n",
    "\n",
    "variable dynamodb_lock_table_name {\n",
    "    default = \"dynamodb-lock\"\n",
    "}\n",
    "EOF"
   ]
  },
  {
   "cell_type": "code",
   "execution_count": 6,
   "id": "academic-radical",
   "metadata": {
    "attributes": {
     "classes": [
      "tf"
     ],
     "id": ""
    }
   },
   "outputs": [
    {
     "name": "stdout",
     "output_type": "stream",
     "text": [
      "\n",
      "provider \"aws\" {\n",
      "  region = var.region\n",
      "}\n",
      "\n",
      "resource \"aws_s3_bucket\" \"remote_state\" {\n",
      "  bucket = var.unique_bucket_name\n",
      "\n",
      "  # Removed in hashicorp/aws version 4.0.0: now use aws_s3_bucket_acl if needed:\n",
      "  # acl    = \"private\"\n",
      "\n",
      "  # Removed in hashicorp/aws version 4.0.0: now use aws_s3_bucket_versioning if needed:\n",
      "  # versioning {    enabled = true  }\n",
      "\n",
      "  lifecycle { prevent_destroy = false }\n",
      "  \n",
      "  tags = {\n",
      "      LabName = \"6.StoringPersistentStates\"\n",
      "  }\n",
      "\n",
      "  # All objects to be deleted from bucket to allow bucket deletion without error\n",
      "  force_destroy = true\n",
      "}\n",
      "\n",
      "resource \"aws_dynamodb_table\" \"terraform_locks\" {\n",
      "  name           = var.dynamodb_lock_table_name\n",
      "  read_capacity  = 1\n",
      "  write_capacity = 1\n",
      "  hash_key       = \"LockID\" \n",
      "\n",
      "  tags = {\n",
      "      LabName = \"6.StoringPersistentStates\"\n",
      "  }\n",
      "\n",
      "  attribute {\n",
      "    name = \"LockID\"\n",
      "    type = \"S\"\n",
      "  }\n",
      "}\n",
      "\n"
     ]
    }
   ],
   "source": [
    "cat main.tf"
   ]
  },
  {
   "cell_type": "code",
   "execution_count": 7,
   "id": "eb994ad0",
   "metadata": {},
   "outputs": [
    {
     "name": "stdout",
     "output_type": "stream",
     "text": [
      "variable region {\n",
      "    default = \"us-west-1\"\n",
      "}\n",
      "\n",
      "variable unique_bucket_name {\n",
      "    # e.g. default = \"20201020-student21\"\n",
      "    default = \"20230109-mjbrightc\"\n",
      "}\n",
      "\n",
      "variable dynamodb_lock_table_name {\n",
      "    default = \"dynamodb-lock\"\n",
      "}\n"
     ]
    }
   ],
   "source": [
    "cat vars.tf"
   ]
  },
  {
   "cell_type": "markdown",
   "id": "formed-fifteen",
   "metadata": {},
   "source": [
    "**Note**: The table **must** have a primary key '*hash_key*' named '*LockID*'. If not present, locking will be disabled\n",
    "\n",
    "Here we tie the state file to the dynamodb instance by creating a table in the database that uses the .tfstate file as its data source.\n",
    "\n",
    "### 4. Create a file vars.tf - enter *your* unique values here\n",
    "\n",
    "**Note**: I suggest you name the bucket including your student name e.g. 20230110-student21"
   ]
  },
  {
   "cell_type": "markdown",
   "id": "provincial-insert",
   "metadata": {
    "attributes": {
     "classes": [
      "tf"
     ],
     "id": ""
    }
   },
   "source": [
    "Your vars.tf should look something like:\n",
    "\n",
    "```\n",
    "variable region {\n",
    "    default = \"us-west-1\"\n",
    "}\n",
    "\n",
    "variable unique_bucket_name {\n",
    "    # e.g. default = \"20230110-student21\"\n",
    "    default = \"<your-unique-name-here>\"\n",
    "}\n",
    "\n",
    "variable dynamodb_lock_table_name {\n",
    "    default = \"dynamodb-lock\"\n",
    "}\n",
    "```\n"
   ]
  },
  {
   "cell_type": "markdown",
   "id": "prospective-thirty",
   "metadata": {},
   "source": [
    "### 5. Create the S3 and DynamoDB Resources\n",
    "\n",
    "We will now perform a terraform init and a terraform apply\n",
    "\n",
    "**Note**: We do this before creating the backend definition file\n",
    "\n",
    "**Note**: Alternatively we could have manually created the bucket via the AWS Console or using the cli (```aws s3 mb s3://20230110-student21``` ) **or** Created the bucket from a separate Terraform environment\n",
    " \n",
    "**Note**: Alternatively, it is also possible to pass the variables directly to the init command as described here\n",
    "https://www.terraform.io/docs/commands/init.html#backend-initialization\n",
    "\n",
    "#### Initializing the workspace - *without the backend*\n",
    "\n",
    "We first initalize the workspace."
   ]
  },
  {
   "cell_type": "code",
   "execution_count": 8,
   "id": "technical-ivory",
   "metadata": {},
   "outputs": [
    {
     "name": "stdout",
     "output_type": "stream",
     "text": [
      "\n",
      "\u001b[0m\u001b[1mInitializing the backend...\u001b[0m\n",
      "\n",
      "\u001b[0m\u001b[1mInitializing provider plugins...\u001b[0m\n",
      "- Finding latest version of hashicorp/aws...\n",
      "- Installing hashicorp/aws v4.49.0...\n",
      "- Installed hashicorp/aws v4.49.0 (signed by HashiCorp)\n",
      "\n",
      "Terraform has created a lock file \u001b[1m.terraform.lock.hcl\u001b[0m to record the provider\n",
      "selections it made above. Include this file in your version control repository\n",
      "so that Terraform can guarantee to make the same selections by default when\n",
      "you run \"terraform init\" in the future.\u001b[0m\n",
      "\n",
      "\u001b[0m\u001b[1m\u001b[32mTerraform has been successfully initialized!\u001b[0m\u001b[32m\u001b[0m\n",
      "\u001b[0m\u001b[32m\n",
      "You may now begin working with Terraform. Try running \"terraform plan\" to see\n",
      "any changes that are required for your infrastructure. All Terraform commands\n",
      "should now work.\n",
      "\n",
      "If you ever set or change modules or backend configuration for Terraform,\n",
      "rerun this command to reinitialize your working directory. If you forget, other\n",
      "commands will detect it and remind you to do so if necessary.\u001b[0m\n"
     ]
    }
   ],
   "source": [
    "terraform init"
   ]
  },
  {
   "cell_type": "markdown",
   "id": "willing-crazy",
   "metadata": {},
   "source": [
    "In case of errors you may wish to re-run init with trace logging:"
   ]
  },
  {
   "cell_type": "code",
   "execution_count": 9,
   "id": "compatible-literacy",
   "metadata": {
    "attributes": {
     "classes": [
      "sh"
     ],
     "id": ""
    },
    "scrolled": false
   },
   "outputs": [
    {
     "name": "stdout",
     "output_type": "stream",
     "text": [
      "2023-01-09T18:44:31.906Z [INFO]  Terraform version: 1.3.7\n",
      "2023-01-09T18:44:31.906Z [DEBUG] using github.com/hashicorp/go-tfe v1.9.0\n",
      "2023-01-09T18:44:31.906Z [DEBUG] using github.com/hashicorp/hcl/v2 v2.15.0\n",
      "2023-01-09T18:44:31.906Z [DEBUG] using github.com/hashicorp/terraform-config-inspect v0.0.0-20210209133302-4fd17a0faac2\n",
      "2023-01-09T18:44:31.906Z [DEBUG] using github.com/hashicorp/terraform-svchost v0.0.0-20200729002733-f050f53b9734\n",
      "2023-01-09T18:44:31.906Z [DEBUG] using github.com/zclconf/go-cty v1.12.1\n",
      "2023-01-09T18:44:31.906Z [INFO]  Go runtime version: go1.19.4\n",
      "2023-01-09T18:44:31.906Z [INFO]  CLI args: []string{\"terraform\", \"init\"}\n",
      "2023-01-09T18:44:31.906Z [TRACE] Stdout is not a terminal\n",
      "2023-01-09T18:44:31.906Z [TRACE] Stderr is a terminal of width 80\n",
      "2023-01-09T18:44:31.906Z [TRACE] Stdin is a terminal\n",
      "2023-01-09T18:44:31.906Z [DEBUG] Attempting to open CLI config file: /home/student/.terraformrc\n",
      "2023-01-09T18:44:31.906Z [DEBUG] File doesn't exist, but doesn't need to. Ignoring.\n",
      "2023-01-09T18:44:31.906Z [DEBUG] ignoring non-existing provider search directory terraform.d/plugins\n",
      "2023-01-09T18:44:31.906Z [DEBUG] ignoring non-existing provider search directory /home/student/.terraform.d/plugins\n",
      "2023-01-09T18:44:31.906Z [DEBUG] ignoring non-existing provider search directory /home/student/.local/share/terraform/plugins\n",
      "2023-01-09T18:44:31.906Z [DEBUG] ignoring non-existing provider search directory /usr/local/share/terraform/plugins\n",
      "2023-01-09T18:44:31.906Z [DEBUG] ignoring non-existing provider search directory /usr/share/terraform/plugins\n",
      "2023-01-09T18:44:31.906Z [DEBUG] ignoring non-existing provider search directory /var/lib/snapd/desktop/terraform/plugins\n",
      "2023-01-09T18:44:31.907Z [INFO]  CLI command args: []string{\"init\"}\n",
      "\n",
      "\u001b[0m\u001b[1mInitializing the backend...\u001b[0m\n",
      "2023-01-09T18:44:31.917Z [TRACE] Meta.Backend: no config given or present on disk, so returning nil config\n",
      "2023-01-09T18:44:31.917Z [TRACE] Meta.Backend: backend has not previously been initialized in this working directory\n",
      "2023-01-09T18:44:31.917Z [DEBUG] New state was assigned lineage \"39053fe4-4d44-d3b7-b4f4-e289ad333620\"\n",
      "2023-01-09T18:44:31.917Z [TRACE] Meta.Backend: using default local state only (no backend configuration, and no existing initialized backend)\n",
      "2023-01-09T18:44:31.917Z [TRACE] Meta.Backend: instantiated backend of type <nil>\n",
      "2023-01-09T18:44:31.919Z [TRACE] providercache.fillMetaCache: scanning directory /home/student/dot.terraform/providers\n",
      "2023-01-09T18:44:31.919Z [TRACE] getproviders.SearchLocalDirectory: found registry.terraform.io/hashicorp/aws v4.49.0 for linux_amd64 at /home/student/dot.terraform/providers/registry.terraform.io/hashicorp/aws/4.49.0/linux_amd64\n",
      "2023-01-09T18:44:31.919Z [TRACE] getproviders.SearchLocalDirectory: found registry.terraform.io/hashicorp/kubernetes v2.16.1 for linux_amd64 at /home/student/dot.terraform/providers/registry.terraform.io/hashicorp/kubernetes/2.16.1/linux_amd64\n",
      "2023-01-09T18:44:31.919Z [TRACE] getproviders.SearchLocalDirectory: found registry.terraform.io/hashicorp/local v2.2.3 for linux_amd64 at /home/student/dot.terraform/providers/registry.terraform.io/hashicorp/local/2.2.3/linux_amd64\n",
      "2023-01-09T18:44:31.919Z [TRACE] getproviders.SearchLocalDirectory: found registry.terraform.io/hashicorp/tls v4.0.4 for linux_amd64 at /home/student/dot.terraform/providers/registry.terraform.io/hashicorp/tls/4.0.4/linux_amd64\n",
      "2023-01-09T18:44:31.919Z [TRACE] getproviders.SearchLocalDirectory: found registry.terraform.io/kreuzwerker/docker v2.25.0 for linux_amd64 at /home/student/dot.terraform/providers/registry.terraform.io/kreuzwerker/docker/2.25.0/linux_amd64\n",
      "2023-01-09T18:44:31.919Z [TRACE] providercache.fillMetaCache: including /home/student/dot.terraform/providers/registry.terraform.io/hashicorp/tls/4.0.4/linux_amd64 as a candidate package for registry.terraform.io/hashicorp/tls 4.0.4\n",
      "2023-01-09T18:44:31.919Z [TRACE] providercache.fillMetaCache: including /home/student/dot.terraform/providers/registry.terraform.io/kreuzwerker/docker/2.25.0/linux_amd64 as a candidate package for registry.terraform.io/kreuzwerker/docker 2.25.0\n",
      "2023-01-09T18:44:31.919Z [TRACE] providercache.fillMetaCache: including /home/student/dot.terraform/providers/registry.terraform.io/hashicorp/aws/4.49.0/linux_amd64 as a candidate package for registry.terraform.io/hashicorp/aws 4.49.0\n",
      "2023-01-09T18:44:31.919Z [TRACE] providercache.fillMetaCache: including /home/student/dot.terraform/providers/registry.terraform.io/hashicorp/kubernetes/2.16.1/linux_amd64 as a candidate package for registry.terraform.io/hashicorp/kubernetes 2.16.1\n",
      "2023-01-09T18:44:31.919Z [TRACE] providercache.fillMetaCache: including /home/student/dot.terraform/providers/registry.terraform.io/hashicorp/local/2.2.3/linux_amd64 as a candidate package for registry.terraform.io/hashicorp/local 2.2.3\n",
      "2023-01-09T18:44:32.825Z [DEBUG] checking for provisioner in \".\"\n",
      "2023-01-09T18:44:32.825Z [DEBUG] checking for provisioner in \"/home/student/bin\"\n",
      "2023-01-09T18:44:32.825Z [TRACE] Meta.Backend: backend <nil> does not support operations, so wrapping it in a local backend\n",
      "2023-01-09T18:44:32.825Z [TRACE] backend/local: state manager for workspace \"default\" will:\n",
      " - read initial snapshot from terraform.tfstate\n",
      " - write new snapshots to terraform.tfstate\n",
      " - create any backup at terraform.tfstate.backup\n",
      "2023-01-09T18:44:32.825Z [TRACE] statemgr.Filesystem: reading initial snapshot from terraform.tfstate\n",
      "2023-01-09T18:44:32.825Z [TRACE] statemgr.Filesystem: snapshot file has nil snapshot, but that's okay\n",
      "2023-01-09T18:44:32.825Z [TRACE] statemgr.Filesystem: read nil snapshot\n",
      "\n",
      "\u001b[0m\u001b[1mInitializing provider plugins...\u001b[0m\n",
      "- Reusing previous version of hashicorp/aws from the dependency lock file\n",
      "2023-01-09T18:44:32.825Z [DEBUG] Service discovery for registry.terraform.io at https://registry.terraform.io/.well-known/terraform.json\n",
      "2023-01-09T18:44:32.826Z [TRACE] HTTP client GET request to https://registry.terraform.io/.well-known/terraform.json\n",
      "2023-01-09T18:44:32.908Z [DEBUG] GET https://registry.terraform.io/v1/providers/hashicorp/aws/versions\n",
      "2023-01-09T18:44:32.908Z [TRACE] HTTP client GET request to https://registry.terraform.io/v1/providers/hashicorp/aws/versions\n",
      "2023-01-09T18:44:32.980Z [TRACE] providercache.fillMetaCache: scanning directory /home/student/dot.terraform/providers\n",
      "2023-01-09T18:44:32.980Z [TRACE] getproviders.SearchLocalDirectory: found registry.terraform.io/hashicorp/aws v4.49.0 for linux_amd64 at /home/student/dot.terraform/providers/registry.terraform.io/hashicorp/aws/4.49.0/linux_amd64\n",
      "2023-01-09T18:44:32.982Z [TRACE] getproviders.SearchLocalDirectory: found registry.terraform.io/hashicorp/kubernetes v2.16.1 for linux_amd64 at /home/student/dot.terraform/providers/registry.terraform.io/hashicorp/kubernetes/2.16.1/linux_amd64\n",
      "2023-01-09T18:44:32.983Z [TRACE] getproviders.SearchLocalDirectory: found registry.terraform.io/hashicorp/local v2.2.3 for linux_amd64 at /home/student/dot.terraform/providers/registry.terraform.io/hashicorp/local/2.2.3/linux_amd64\n",
      "2023-01-09T18:44:32.983Z [TRACE] getproviders.SearchLocalDirectory: found registry.terraform.io/hashicorp/tls v4.0.4 for linux_amd64 at /home/student/dot.terraform/providers/registry.terraform.io/hashicorp/tls/4.0.4/linux_amd64\n",
      "2023-01-09T18:44:32.983Z [TRACE] getproviders.SearchLocalDirectory: found registry.terraform.io/kreuzwerker/docker v2.25.0 for linux_amd64 at /home/student/dot.terraform/providers/registry.terraform.io/kreuzwerker/docker/2.25.0/linux_amd64\n",
      "2023-01-09T18:44:32.983Z [TRACE] providercache.fillMetaCache: including /home/student/dot.terraform/providers/registry.terraform.io/hashicorp/local/2.2.3/linux_amd64 as a candidate package for registry.terraform.io/hashicorp/local 2.2.3\n",
      "2023-01-09T18:44:32.983Z [TRACE] providercache.fillMetaCache: including /home/student/dot.terraform/providers/registry.terraform.io/hashicorp/tls/4.0.4/linux_amd64 as a candidate package for registry.terraform.io/hashicorp/tls 4.0.4\n",
      "2023-01-09T18:44:32.983Z [TRACE] providercache.fillMetaCache: including /home/student/dot.terraform/providers/registry.terraform.io/kreuzwerker/docker/2.25.0/linux_amd64 as a candidate package for registry.terraform.io/kreuzwerker/docker 2.25.0\n"
     ]
    },
    {
     "name": "stdout",
     "output_type": "stream",
     "text": [
      "2023-01-09T18:44:32.983Z [TRACE] providercache.fillMetaCache: including /home/student/dot.terraform/providers/registry.terraform.io/hashicorp/aws/4.49.0/linux_amd64 as a candidate package for registry.terraform.io/hashicorp/aws 4.49.0\n",
      "2023-01-09T18:44:32.983Z [TRACE] providercache.fillMetaCache: including /home/student/dot.terraform/providers/registry.terraform.io/hashicorp/kubernetes/2.16.1/linux_amd64 as a candidate package for registry.terraform.io/hashicorp/kubernetes 2.16.1\n",
      "- Using previously-installed hashicorp/aws v4.49.0\n",
      "\n",
      "\u001b[0m\u001b[1m\u001b[32mTerraform has been successfully initialized!\u001b[0m\u001b[32m\u001b[0m\n",
      "\u001b[0m\u001b[32m\n",
      "You may now begin working with Terraform. Try running \"terraform plan\" to see\n",
      "any changes that are required for your infrastructure. All Terraform commands\n",
      "should now work.\n",
      "\n",
      "If you ever set or change modules or backend configuration for Terraform,\n",
      "rerun this command to reinitialize your working directory. If you forget, other\n",
      "commands will detect it and remind you to do so if necessary.\u001b[0m\n"
     ]
    }
   ],
   "source": [
    "TF_LOG=TRACE terraform init | tee terraform.init.log.1"
   ]
  },
  {
   "cell_type": "markdown",
   "id": "lucky-mozambique",
   "metadata": {},
   "source": [
    "#### Creating the resources\n",
    "\n",
    "We can now create the resources\n",
    "\n",
    "**Note**: At this stage the file *backend.tf* must not be present"
   ]
  },
  {
   "cell_type": "code",
   "execution_count": 10,
   "id": "nervous-juvenile",
   "metadata": {
    "scrolled": false
   },
   "outputs": [
    {
     "name": "stdout",
     "output_type": "stream",
     "text": [
      "\n",
      "Terraform used the selected providers to generate the following execution plan.\n",
      "Resource actions are indicated with the following symbols:\n",
      "  \u001b[32m+\u001b[0m create\n",
      "\u001b[0m\n",
      "Terraform will perform the following actions:\n",
      "\n",
      "\u001b[1m  # aws_dynamodb_table.terraform_locks\u001b[0m will be created\u001b[0m\u001b[0m\n",
      "\u001b[0m  \u001b[32m+\u001b[0m\u001b[0m resource \"aws_dynamodb_table\" \"terraform_locks\" {\n",
      "      \u001b[32m+\u001b[0m \u001b[0m\u001b[1m\u001b[0marn\u001b[0m\u001b[0m              = (known after apply)\n",
      "      \u001b[32m+\u001b[0m \u001b[0m\u001b[1m\u001b[0mbilling_mode\u001b[0m\u001b[0m     = \"PROVISIONED\"\n",
      "      \u001b[32m+\u001b[0m \u001b[0m\u001b[1m\u001b[0mhash_key\u001b[0m\u001b[0m         = \"LockID\"\n",
      "      \u001b[32m+\u001b[0m \u001b[0m\u001b[1m\u001b[0mid\u001b[0m\u001b[0m               = (known after apply)\n",
      "      \u001b[32m+\u001b[0m \u001b[0m\u001b[1m\u001b[0mname\u001b[0m\u001b[0m             = \"dynamodb-lock\"\n",
      "      \u001b[32m+\u001b[0m \u001b[0m\u001b[1m\u001b[0mread_capacity\u001b[0m\u001b[0m    = 1\n",
      "      \u001b[32m+\u001b[0m \u001b[0m\u001b[1m\u001b[0mstream_arn\u001b[0m\u001b[0m       = (known after apply)\n",
      "      \u001b[32m+\u001b[0m \u001b[0m\u001b[1m\u001b[0mstream_label\u001b[0m\u001b[0m     = (known after apply)\n",
      "      \u001b[32m+\u001b[0m \u001b[0m\u001b[1m\u001b[0mstream_view_type\u001b[0m\u001b[0m = (known after apply)\n",
      "      \u001b[32m+\u001b[0m \u001b[0m\u001b[1m\u001b[0mtags\u001b[0m\u001b[0m             = {\n",
      "          \u001b[32m+\u001b[0m \u001b[0m\"LabName\" = \"6.StoringPersistentStates\"\n",
      "        }\n",
      "      \u001b[32m+\u001b[0m \u001b[0m\u001b[1m\u001b[0mtags_all\u001b[0m\u001b[0m         = {\n",
      "          \u001b[32m+\u001b[0m \u001b[0m\"LabName\" = \"6.StoringPersistentStates\"\n",
      "        }\n",
      "      \u001b[32m+\u001b[0m \u001b[0m\u001b[1m\u001b[0mwrite_capacity\u001b[0m\u001b[0m   = 1\n",
      "\n",
      "      \u001b[32m+\u001b[0m \u001b[0mattribute {\n",
      "          \u001b[32m+\u001b[0m \u001b[0m\u001b[1m\u001b[0mname\u001b[0m\u001b[0m = \"LockID\"\n",
      "          \u001b[32m+\u001b[0m \u001b[0m\u001b[1m\u001b[0mtype\u001b[0m\u001b[0m = \"S\"\n",
      "        }\n",
      "\n",
      "      \u001b[32m+\u001b[0m \u001b[0mpoint_in_time_recovery {\n",
      "          \u001b[32m+\u001b[0m \u001b[0m\u001b[1m\u001b[0menabled\u001b[0m\u001b[0m = (known after apply)\n",
      "        }\n",
      "\n",
      "      \u001b[32m+\u001b[0m \u001b[0mserver_side_encryption {\n",
      "          \u001b[32m+\u001b[0m \u001b[0m\u001b[1m\u001b[0menabled\u001b[0m\u001b[0m     = (known after apply)\n",
      "          \u001b[32m+\u001b[0m \u001b[0m\u001b[1m\u001b[0mkms_key_arn\u001b[0m\u001b[0m = (known after apply)\n",
      "        }\n",
      "\n",
      "      \u001b[32m+\u001b[0m \u001b[0mttl {\n",
      "          \u001b[32m+\u001b[0m \u001b[0m\u001b[1m\u001b[0mattribute_name\u001b[0m\u001b[0m = (known after apply)\n",
      "          \u001b[32m+\u001b[0m \u001b[0m\u001b[1m\u001b[0menabled\u001b[0m\u001b[0m        = (known after apply)\n",
      "        }\n",
      "    }\n",
      "\n",
      "\u001b[1m  # aws_s3_bucket.remote_state\u001b[0m will be created\u001b[0m\u001b[0m\n",
      "\u001b[0m  \u001b[32m+\u001b[0m\u001b[0m resource \"aws_s3_bucket\" \"remote_state\" {\n",
      "      \u001b[32m+\u001b[0m \u001b[0m\u001b[1m\u001b[0macceleration_status\u001b[0m\u001b[0m         = (known after apply)\n",
      "      \u001b[32m+\u001b[0m \u001b[0m\u001b[1m\u001b[0macl\u001b[0m\u001b[0m                         = (known after apply)\n",
      "      \u001b[32m+\u001b[0m \u001b[0m\u001b[1m\u001b[0marn\u001b[0m\u001b[0m                         = (known after apply)\n",
      "      \u001b[32m+\u001b[0m \u001b[0m\u001b[1m\u001b[0mbucket\u001b[0m\u001b[0m                      = \"20230109-mjbrightc\"\n",
      "      \u001b[32m+\u001b[0m \u001b[0m\u001b[1m\u001b[0mbucket_domain_name\u001b[0m\u001b[0m          = (known after apply)\n",
      "      \u001b[32m+\u001b[0m \u001b[0m\u001b[1m\u001b[0mbucket_regional_domain_name\u001b[0m\u001b[0m = (known after apply)\n",
      "      \u001b[32m+\u001b[0m \u001b[0m\u001b[1m\u001b[0mforce_destroy\u001b[0m\u001b[0m               = true\n",
      "      \u001b[32m+\u001b[0m \u001b[0m\u001b[1m\u001b[0mhosted_zone_id\u001b[0m\u001b[0m              = (known after apply)\n",
      "      \u001b[32m+\u001b[0m \u001b[0m\u001b[1m\u001b[0mid\u001b[0m\u001b[0m                          = (known after apply)\n",
      "      \u001b[32m+\u001b[0m \u001b[0m\u001b[1m\u001b[0mobject_lock_enabled\u001b[0m\u001b[0m         = (known after apply)\n",
      "      \u001b[32m+\u001b[0m \u001b[0m\u001b[1m\u001b[0mpolicy\u001b[0m\u001b[0m                      = (known after apply)\n",
      "      \u001b[32m+\u001b[0m \u001b[0m\u001b[1m\u001b[0mregion\u001b[0m\u001b[0m                      = (known after apply)\n",
      "      \u001b[32m+\u001b[0m \u001b[0m\u001b[1m\u001b[0mrequest_payer\u001b[0m\u001b[0m               = (known after apply)\n",
      "      \u001b[32m+\u001b[0m \u001b[0m\u001b[1m\u001b[0mtags\u001b[0m\u001b[0m                        = {\n",
      "          \u001b[32m+\u001b[0m \u001b[0m\"LabName\" = \"6.StoringPersistentStates\"\n",
      "        }\n",
      "      \u001b[32m+\u001b[0m \u001b[0m\u001b[1m\u001b[0mtags_all\u001b[0m\u001b[0m                    = {\n",
      "          \u001b[32m+\u001b[0m \u001b[0m\"LabName\" = \"6.StoringPersistentStates\"\n",
      "        }\n",
      "      \u001b[32m+\u001b[0m \u001b[0m\u001b[1m\u001b[0mwebsite_domain\u001b[0m\u001b[0m              = (known after apply)\n",
      "      \u001b[32m+\u001b[0m \u001b[0m\u001b[1m\u001b[0mwebsite_endpoint\u001b[0m\u001b[0m            = (known after apply)\n",
      "\n",
      "      \u001b[32m+\u001b[0m \u001b[0mcors_rule {\n",
      "          \u001b[32m+\u001b[0m \u001b[0m\u001b[1m\u001b[0mallowed_headers\u001b[0m\u001b[0m = (known after apply)\n",
      "          \u001b[32m+\u001b[0m \u001b[0m\u001b[1m\u001b[0mallowed_methods\u001b[0m\u001b[0m = (known after apply)\n",
      "          \u001b[32m+\u001b[0m \u001b[0m\u001b[1m\u001b[0mallowed_origins\u001b[0m\u001b[0m = (known after apply)\n",
      "          \u001b[32m+\u001b[0m \u001b[0m\u001b[1m\u001b[0mexpose_headers\u001b[0m\u001b[0m  = (known after apply)\n",
      "          \u001b[32m+\u001b[0m \u001b[0m\u001b[1m\u001b[0mmax_age_seconds\u001b[0m\u001b[0m = (known after apply)\n",
      "        }\n",
      "\n",
      "      \u001b[32m+\u001b[0m \u001b[0mgrant {\n",
      "          \u001b[32m+\u001b[0m \u001b[0m\u001b[1m\u001b[0mid\u001b[0m\u001b[0m          = (known after apply)\n",
      "          \u001b[32m+\u001b[0m \u001b[0m\u001b[1m\u001b[0mpermissions\u001b[0m\u001b[0m = (known after apply)\n",
      "          \u001b[32m+\u001b[0m \u001b[0m\u001b[1m\u001b[0mtype\u001b[0m\u001b[0m        = (known after apply)\n",
      "          \u001b[32m+\u001b[0m \u001b[0m\u001b[1m\u001b[0muri\u001b[0m\u001b[0m         = (known after apply)\n",
      "        }\n",
      "\n",
      "      \u001b[32m+\u001b[0m \u001b[0mlifecycle_rule {\n",
      "          \u001b[32m+\u001b[0m \u001b[0m\u001b[1m\u001b[0mabort_incomplete_multipart_upload_days\u001b[0m\u001b[0m = (known after apply)\n",
      "          \u001b[32m+\u001b[0m \u001b[0m\u001b[1m\u001b[0menabled\u001b[0m\u001b[0m                                = (known after apply)\n",
      "          \u001b[32m+\u001b[0m \u001b[0m\u001b[1m\u001b[0mid\u001b[0m\u001b[0m                                     = (known after apply)\n",
      "          \u001b[32m+\u001b[0m \u001b[0m\u001b[1m\u001b[0mprefix\u001b[0m\u001b[0m                                 = (known after apply)\n",
      "          \u001b[32m+\u001b[0m \u001b[0m\u001b[1m\u001b[0mtags\u001b[0m\u001b[0m                                   = (known after apply)\n",
      "\n",
      "          \u001b[32m+\u001b[0m \u001b[0mexpiration {\n",
      "              \u001b[32m+\u001b[0m \u001b[0m\u001b[1m\u001b[0mdate\u001b[0m\u001b[0m                         = (known after apply)\n",
      "              \u001b[32m+\u001b[0m \u001b[0m\u001b[1m\u001b[0mdays\u001b[0m\u001b[0m                         = (known after apply)\n",
      "              \u001b[32m+\u001b[0m \u001b[0m\u001b[1m\u001b[0mexpired_object_delete_marker\u001b[0m\u001b[0m = (known after apply)\n",
      "            }\n",
      "\n",
      "          \u001b[32m+\u001b[0m \u001b[0mnoncurrent_version_expiration {\n",
      "              \u001b[32m+\u001b[0m \u001b[0m\u001b[1m\u001b[0mdays\u001b[0m\u001b[0m = (known after apply)\n",
      "            }\n",
      "\n",
      "          \u001b[32m+\u001b[0m \u001b[0mnoncurrent_version_transition {\n",
      "              \u001b[32m+\u001b[0m \u001b[0m\u001b[1m\u001b[0mdays\u001b[0m\u001b[0m          = (known after apply)\n",
      "              \u001b[32m+\u001b[0m \u001b[0m\u001b[1m\u001b[0mstorage_class\u001b[0m\u001b[0m = (known after apply)\n",
      "            }\n",
      "\n",
      "          \u001b[32m+\u001b[0m \u001b[0mtransition {\n",
      "              \u001b[32m+\u001b[0m \u001b[0m\u001b[1m\u001b[0mdate\u001b[0m\u001b[0m          = (known after apply)\n",
      "              \u001b[32m+\u001b[0m \u001b[0m\u001b[1m\u001b[0mdays\u001b[0m\u001b[0m          = (known after apply)\n",
      "              \u001b[32m+\u001b[0m \u001b[0m\u001b[1m\u001b[0mstorage_class\u001b[0m\u001b[0m = (known after apply)\n",
      "            }\n",
      "        }\n",
      "\n",
      "      \u001b[32m+\u001b[0m \u001b[0mlogging {\n",
      "          \u001b[32m+\u001b[0m \u001b[0m\u001b[1m\u001b[0mtarget_bucket\u001b[0m\u001b[0m = (known after apply)\n",
      "          \u001b[32m+\u001b[0m \u001b[0m\u001b[1m\u001b[0mtarget_prefix\u001b[0m\u001b[0m = (known after apply)\n",
      "        }\n",
      "\n",
      "      \u001b[32m+\u001b[0m \u001b[0mobject_lock_configuration {\n",
      "          \u001b[32m+\u001b[0m \u001b[0m\u001b[1m\u001b[0mobject_lock_enabled\u001b[0m\u001b[0m = (known after apply)\n",
      "\n",
      "          \u001b[32m+\u001b[0m \u001b[0mrule {\n",
      "              \u001b[32m+\u001b[0m \u001b[0mdefault_retention {\n",
      "                  \u001b[32m+\u001b[0m \u001b[0m\u001b[1m\u001b[0mdays\u001b[0m\u001b[0m  = (known after apply)\n",
      "                  \u001b[32m+\u001b[0m \u001b[0m\u001b[1m\u001b[0mmode\u001b[0m\u001b[0m  = (known after apply)\n",
      "                  \u001b[32m+\u001b[0m \u001b[0m\u001b[1m\u001b[0myears\u001b[0m\u001b[0m = (known after apply)\n",
      "                }\n",
      "            }\n",
      "        }\n",
      "\n",
      "      \u001b[32m+\u001b[0m \u001b[0mreplication_configuration {\n",
      "          \u001b[32m+\u001b[0m \u001b[0m\u001b[1m\u001b[0mrole\u001b[0m\u001b[0m = (known after apply)\n",
      "\n",
      "          \u001b[32m+\u001b[0m \u001b[0mrules {\n",
      "              \u001b[32m+\u001b[0m \u001b[0m\u001b[1m\u001b[0mdelete_marker_replication_status\u001b[0m\u001b[0m = (known after apply)\n",
      "              \u001b[32m+\u001b[0m \u001b[0m\u001b[1m\u001b[0mid\u001b[0m\u001b[0m                               = (known after apply)\n",
      "              \u001b[32m+\u001b[0m \u001b[0m\u001b[1m\u001b[0mprefix\u001b[0m\u001b[0m                           = (known after apply)\n",
      "              \u001b[32m+\u001b[0m \u001b[0m\u001b[1m\u001b[0mpriority\u001b[0m\u001b[0m                         = (known after apply)\n",
      "              \u001b[32m+\u001b[0m \u001b[0m\u001b[1m\u001b[0mstatus\u001b[0m\u001b[0m                           = (known after apply)\n",
      "\n",
      "              \u001b[32m+\u001b[0m \u001b[0mdestination {\n",
      "                  \u001b[32m+\u001b[0m \u001b[0m\u001b[1m\u001b[0maccount_id\u001b[0m\u001b[0m         = (known after apply)\n",
      "                  \u001b[32m+\u001b[0m \u001b[0m\u001b[1m\u001b[0mbucket\u001b[0m\u001b[0m             = (known after apply)\n",
      "                  \u001b[32m+\u001b[0m \u001b[0m\u001b[1m\u001b[0mreplica_kms_key_id\u001b[0m\u001b[0m = (known after apply)\n",
      "                  \u001b[32m+\u001b[0m \u001b[0m\u001b[1m\u001b[0mstorage_class\u001b[0m\u001b[0m      = (known after apply)\n",
      "\n",
      "                  \u001b[32m+\u001b[0m \u001b[0maccess_control_translation {\n",
      "                      \u001b[32m+\u001b[0m \u001b[0m\u001b[1m\u001b[0mowner\u001b[0m\u001b[0m = (known after apply)\n",
      "                    }\n",
      "\n",
      "                  \u001b[32m+\u001b[0m \u001b[0mmetrics {\n",
      "                      \u001b[32m+\u001b[0m \u001b[0m\u001b[1m\u001b[0mminutes\u001b[0m\u001b[0m = (known after apply)\n",
      "                      \u001b[32m+\u001b[0m \u001b[0m\u001b[1m\u001b[0mstatus\u001b[0m\u001b[0m  = (known after apply)\n",
      "                    }\n"
     ]
    },
    {
     "name": "stdout",
     "output_type": "stream",
     "text": [
      "\n",
      "                  \u001b[32m+\u001b[0m \u001b[0mreplication_time {\n",
      "                      \u001b[32m+\u001b[0m \u001b[0m\u001b[1m\u001b[0mminutes\u001b[0m\u001b[0m = (known after apply)\n",
      "                      \u001b[32m+\u001b[0m \u001b[0m\u001b[1m\u001b[0mstatus\u001b[0m\u001b[0m  = (known after apply)\n",
      "                    }\n",
      "                }\n",
      "\n",
      "              \u001b[32m+\u001b[0m \u001b[0mfilter {\n",
      "                  \u001b[32m+\u001b[0m \u001b[0m\u001b[1m\u001b[0mprefix\u001b[0m\u001b[0m = (known after apply)\n",
      "                  \u001b[32m+\u001b[0m \u001b[0m\u001b[1m\u001b[0mtags\u001b[0m\u001b[0m   = (known after apply)\n",
      "                }\n",
      "\n",
      "              \u001b[32m+\u001b[0m \u001b[0msource_selection_criteria {\n",
      "                  \u001b[32m+\u001b[0m \u001b[0msse_kms_encrypted_objects {\n",
      "                      \u001b[32m+\u001b[0m \u001b[0m\u001b[1m\u001b[0menabled\u001b[0m\u001b[0m = (known after apply)\n",
      "                    }\n",
      "                }\n",
      "            }\n",
      "        }\n",
      "\n",
      "      \u001b[32m+\u001b[0m \u001b[0mserver_side_encryption_configuration {\n",
      "          \u001b[32m+\u001b[0m \u001b[0mrule {\n",
      "              \u001b[32m+\u001b[0m \u001b[0m\u001b[1m\u001b[0mbucket_key_enabled\u001b[0m\u001b[0m = (known after apply)\n",
      "\n",
      "              \u001b[32m+\u001b[0m \u001b[0mapply_server_side_encryption_by_default {\n",
      "                  \u001b[32m+\u001b[0m \u001b[0m\u001b[1m\u001b[0mkms_master_key_id\u001b[0m\u001b[0m = (known after apply)\n",
      "                  \u001b[32m+\u001b[0m \u001b[0m\u001b[1m\u001b[0msse_algorithm\u001b[0m\u001b[0m     = (known after apply)\n",
      "                }\n",
      "            }\n",
      "        }\n",
      "\n",
      "      \u001b[32m+\u001b[0m \u001b[0mversioning {\n",
      "          \u001b[32m+\u001b[0m \u001b[0m\u001b[1m\u001b[0menabled\u001b[0m\u001b[0m    = (known after apply)\n",
      "          \u001b[32m+\u001b[0m \u001b[0m\u001b[1m\u001b[0mmfa_delete\u001b[0m\u001b[0m = (known after apply)\n",
      "        }\n",
      "\n",
      "      \u001b[32m+\u001b[0m \u001b[0mwebsite {\n",
      "          \u001b[32m+\u001b[0m \u001b[0m\u001b[1m\u001b[0merror_document\u001b[0m\u001b[0m           = (known after apply)\n",
      "          \u001b[32m+\u001b[0m \u001b[0m\u001b[1m\u001b[0mindex_document\u001b[0m\u001b[0m           = (known after apply)\n",
      "          \u001b[32m+\u001b[0m \u001b[0m\u001b[1m\u001b[0mredirect_all_requests_to\u001b[0m\u001b[0m = (known after apply)\n",
      "          \u001b[32m+\u001b[0m \u001b[0m\u001b[1m\u001b[0mrouting_rules\u001b[0m\u001b[0m            = (known after apply)\n",
      "        }\n",
      "    }\n",
      "\n",
      "\u001b[0m\u001b[1mPlan:\u001b[0m 2 to add, 0 to change, 0 to destroy.\n",
      "\u001b[0m\u001b[0m\u001b[1maws_dynamodb_table.terraform_locks: Creating...\u001b[0m\u001b[0m\n",
      "\u001b[0m\u001b[1maws_s3_bucket.remote_state: Creating...\u001b[0m\u001b[0m\n",
      "\u001b[0m\u001b[1maws_s3_bucket.remote_state: Creation complete after 5s [id=20230109-mjbrightc]\u001b[0m\n",
      "\u001b[0m\u001b[1maws_dynamodb_table.terraform_locks: Creation complete after 8s [id=dynamodb-lock]\u001b[0m\n",
      "\u001b[0m\u001b[1m\u001b[32m\n",
      "Apply complete! Resources: 2 added, 0 changed, 0 destroyed.\n",
      "\u001b[0m\n"
     ]
    }
   ],
   "source": [
    "TF_APPLY"
   ]
  },
  {
   "cell_type": "markdown",
   "id": "verified-tamil",
   "metadata": {},
   "source": [
    "#### If you get the 'Table already exists' error\n",
    "\n",
    "If you get the following error:\n",
    "\n",
    "```\n",
    "aws_s3_bucket.remote_state: Creating...\n",
    "aws_dynamodb_table.terraform_locks: Creating...\n",
    "aws_s3_bucket.remote_state: Still creating... [10s elapsed]\n",
    "aws_s3_bucket.remote_state: Creation complete after 13s [id=20210203-mjbrightc]\n",
    "\n",
    "Error: error creating DynamoDB Table: ResourceInUseException: Table already exists: dynamodb-lock\n",
    "```\n",
    "\n",
    "(**in this lab environment, not in production**) you will first need to delete the existing table using:\n",
    "\n",
    "```\n",
    "aws dynamodb delete-table --table-name dynamodb-lock\n",
    "```\n",
    "\n",
    "#### Verifying the resources\n",
    "\n",
    "Verify that your S3 bucket has been created using\n",
    "\n",
    "```\n",
    "    aws s3 ls \n",
    "    \n",
    "```"
   ]
  },
  {
   "cell_type": "code",
   "execution_count": 11,
   "id": "extended-socket",
   "metadata": {},
   "outputs": [
    {
     "name": "stdout",
     "output_type": "stream",
     "text": [
      "2023-01-09 18:44:54 20230109-mjbrightc\n"
     ]
    }
   ],
   "source": [
    "#EXCLUDE:\n",
    "\n",
    "aws s3 ls\n",
    "\n",
    "aws s3 ls s3://$BUCKET/\n",
    "#aws s3 ls s3://<your-unique-bucket-name>"
   ]
  },
  {
   "cell_type": "markdown",
   "id": "quality-emergency",
   "metadata": {},
   "source": [
    "Verify that your \"*dynamodb-lock*\" table has been created:"
   ]
  },
  {
   "cell_type": "code",
   "execution_count": 12,
   "id": "julian-contract",
   "metadata": {},
   "outputs": [
    {
     "name": "stdout",
     "output_type": "stream",
     "text": [
      "{\n",
      "    \"TableNames\": [\n",
      "        \"dynamodb-lock\"\n",
      "    ]\n",
      "}\n"
     ]
    }
   ],
   "source": [
    "aws dynamodb list-tables"
   ]
  },
  {
   "cell_type": "markdown",
   "id": "provincial-vitamin",
   "metadata": {},
   "source": [
    "### 6. Create a file backend.tf\n",
    "\n",
    "Now that we have created the necessary resources we will\n",
    "1. create a backend configuration\n",
    "2. re-perform the init\n",
    "3. verify the configuration\n",
    "\n",
    "We will create a file backend.tf\n",
    "\n",
    "This file will be used to make S3 - with DynamoDB locking - our remote_backend for storing state\n",
    "\n",
    "Unfortunately we cannot use variables in this file as they will not be interpreted by \"*terraform init*\".\n",
    "\n",
    "So you must manually enter the **same bucket name** in the content below:"
   ]
  },
  {
   "cell_type": "code",
   "execution_count": 13,
   "id": "false-beauty",
   "metadata": {
    "attributes": {
     "classes": [
      "tf"
     ],
     "id": ""
    }
   },
   "outputs": [],
   "source": [
    "#EXCLUDE:\n",
    "\n",
    "cat > backend.tf <<EOF\n",
    "\n",
    "terraform {\n",
    "    backend \"s3\" {\n",
    "        #key = path/to/my/key\n",
    "        key = \"terraform.tfstate\"\n",
    "\n",
    "        #region = var.region\n",
    "        region = \"us-west-1\"\n",
    "\n",
    "        # ENTRY MUST BE UPDATED !!\n",
    "        # e.g. bucket = \"20201020-student21\"\n",
    "        bucket = \"$BUCKET\"\n",
    "\n",
    "        #dynamodb_table = var.dynamodb_lock_table_name\n",
    "        dynamodb_table = \"dynamodb-lock\"\n",
    "\n",
    "        encrypt = true # Optional, S3 Bucket Server Side Encryption\n",
    "     }\n",
    "}\n",
    "EOF\n"
   ]
  },
  {
   "cell_type": "code",
   "execution_count": 14,
   "id": "coral-madonna",
   "metadata": {
    "attributes": {
     "classes": [
      "tf"
     ],
     "id": ""
    }
   },
   "outputs": [
    {
     "name": "stdout",
     "output_type": "stream",
     "text": [
      "\n",
      "terraform {\n",
      "    backend \"s3\" {\n",
      "        #key = path/to/my/key\n",
      "        key = \"terraform.tfstate\"\n",
      "\n",
      "        #region = var.region\n",
      "        region = \"us-west-1\"\n",
      "\n",
      "        # ENTRY MUST BE UPDATED !!\n",
      "        # e.g. bucket = \"20201020-student21\"\n",
      "        bucket = \"20230109-mjbrightc\"\n",
      "\n",
      "        #dynamodb_table = var.dynamodb_lock_table_name\n",
      "        dynamodb_table = \"dynamodb-lock\"\n",
      "\n",
      "        encrypt = true # Optional, S3 Bucket Server Side Encryption\n",
      "     }\n",
      "}\n"
     ]
    }
   ],
   "source": [
    "EXEC cat backend.tf"
   ]
  },
  {
   "cell_type": "markdown",
   "id": "structural-extraction",
   "metadata": {},
   "source": [
    "### 7. Initialize, preview and apply the complete configuration\n",
    "\n",
    "### 7.1 Init"
   ]
  },
  {
   "cell_type": "code",
   "execution_count": 15,
   "id": "written-ladder",
   "metadata": {},
   "outputs": [
    {
     "name": "stdout",
     "output_type": "stream",
     "text": [
      "\n",
      "\u001b[0m\u001b[1mInitializing the backend...\u001b[0m\n",
      "Acquiring state lock. This may take a few moments...\n",
      "\u001b[0m\u001b[1mDo you want to copy existing state to the new backend?\u001b[0m\n",
      "  Pre-existing state was found while migrating the previous \"local\" backend to the\n",
      "  newly configured \"s3\" backend. No existing state was found in the newly\n",
      "  configured \"s3\" backend. Do you want to copy this state to the new \"s3\"\n",
      "  backend? Enter \"yes\" to copy and \"no\" to start with an empty state.\n",
      "\n",
      "  \u001b[1mEnter a value:\u001b[0m \u001b[0m\n",
      "Releasing state lock. This may take a few moments...\n",
      "\u001b[0m\u001b[32m\n",
      "Successfully configured the backend \"s3\"! Terraform will automatically\n",
      "use this backend unless the backend configuration changes.\u001b[0m\n",
      "\n",
      "\u001b[0m\u001b[1mInitializing provider plugins...\u001b[0m\n",
      "- Reusing previous version of hashicorp/aws from the dependency lock file\n",
      "- Using previously-installed hashicorp/aws v4.49.0\n",
      "\n",
      "\u001b[0m\u001b[1m\u001b[32mTerraform has been successfully initialized!\u001b[0m\u001b[32m\u001b[0m\n",
      "\u001b[0m\u001b[32m\n",
      "You may now begin working with Terraform. Try running \"terraform plan\" to see\n",
      "any changes that are required for your infrastructure. All Terraform commands\n",
      "should now work.\n",
      "\n",
      "If you ever set or change modules or backend configuration for Terraform,\n",
      "rerun this command to reinitialize your working directory. If you forget, other\n",
      "commands will detect it and remind you to do so if necessary.\u001b[0m\n"
     ]
    }
   ],
   "source": [
    "NO_EXEC terraform  init -migrate-state\n",
    "echo yes | EXEC terraform init --backend=true  -migrate-state #--lock=false "
   ]
  },
  {
   "cell_type": "markdown",
   "id": "composed-regular",
   "metadata": {},
   "source": [
    "#### In case of errors\n",
    "\n",
    "In case of errors also use the TF_LOG trace option again:"
   ]
  },
  {
   "cell_type": "markdown",
   "id": "fd4f4b5f",
   "metadata": {
    "attributes": {
     "classes": [
      "sh"
     ],
     "id": ""
    }
   },
   "source": [
    "```TF_LOG=TRACE terraform init --backend=true -migrate-state |& tee terraform.init.log.2```"
   ]
  },
  {
   "cell_type": "markdown",
   "id": "primary-roulette",
   "metadata": {},
   "source": [
    "You can use the following command to verify that your dynamoDB table is still present (as it should be !)"
   ]
  },
  {
   "cell_type": "code",
   "execution_count": 16,
   "id": "least-cloud",
   "metadata": {
    "attributes": {
     "classes": [
      "sh"
     ],
     "id": ""
    }
   },
   "outputs": [
    {
     "name": "stdout",
     "output_type": "stream",
     "text": [
      "{\n",
      "    \"TableNames\": [\n",
      "        \"dynamodb-lock\"\n",
      "    ]\n",
      "}\n"
     ]
    }
   ],
   "source": [
    "aws dynamodb list-tables"
   ]
  },
  {
   "cell_type": "markdown",
   "id": "fallen-chocolate",
   "metadata": {},
   "source": [
    "### 7.2 Verifying the state\n",
    "\n",
    "If all went well you got no errors and you local terraform.tfstate file is now empty as state is written to the S3 bucket"
   ]
  },
  {
   "cell_type": "code",
   "execution_count": 17,
   "id": "pressed-premium",
   "metadata": {},
   "outputs": [
    {
     "name": "stdout",
     "output_type": "stream",
     "text": [
      "-rw-rw-r-- 1 student student    0 Jan  9 18:46 terraform.tfstate\n",
      "-rw-rw-r-- 1 student student 4260 Jan  9 18:46 terraform.tfstate.backup\n"
     ]
    }
   ],
   "source": [
    "ls -al terraform.tfstate*"
   ]
  },
  {
   "cell_type": "markdown",
   "id": "diagnostic-custom",
   "metadata": {},
   "source": [
    "### 7.3 Viewing the state in the S3 bucket\n",
    "\n",
    "#### Accessing the state via the cli"
   ]
  },
  {
   "cell_type": "code",
   "execution_count": 18,
   "id": "incorporated-object",
   "metadata": {},
   "outputs": [
    {
     "name": "stdout",
     "output_type": "stream",
     "text": [
      "2023-01-09 18:46:39       4260 terraform.tfstate\n"
     ]
    }
   ],
   "source": [
    "aws s3 ls s3://$BUCKET"
   ]
  },
  {
   "cell_type": "markdown",
   "id": "lucky-england",
   "metadata": {},
   "source": [
    "and you should see a terraform.tfstate file there\n",
    "\n",
    "You can obtain a local copy to look at the file as follows:"
   ]
  },
  {
   "cell_type": "code",
   "execution_count": 19,
   "id": "bottom-printing",
   "metadata": {},
   "outputs": [
    {
     "name": "stdout",
     "output_type": "stream",
     "text": [
      "download: s3://20230109-mjbrightc/terraform.tfstate to ./terraform.tfstate.localcopy\n"
     ]
    }
   ],
   "source": [
    "aws s3 cp s3://$BUCKET/terraform.tfstate terraform.tfstate.localcopy"
   ]
  },
  {
   "cell_type": "markdown",
   "id": "surprising-pride",
   "metadata": {},
   "source": [
    "#### Investigating the remote state\n",
    "\n",
    "Now using ```terraform state list``` and ```terraform state show RESOURCE``` we can investigate resources as before.\n",
    "\n",
    "You will notice that it is slower to respond as the state is obtained from our S3 bucket."
   ]
  },
  {
   "cell_type": "code",
   "execution_count": 20,
   "id": "precious-exchange",
   "metadata": {},
   "outputs": [
    {
     "name": "stdout",
     "output_type": "stream",
     "text": [
      "aws_dynamodb_table.terraform_locks\n",
      "aws_s3_bucket.remote_state\n"
     ]
    }
   ],
   "source": [
    "terraform state list "
   ]
  },
  {
   "cell_type": "code",
   "execution_count": 21,
   "id": "prescribed-investor",
   "metadata": {
    "scrolled": false
   },
   "outputs": [
    {
     "name": "stdout",
     "output_type": "stream",
     "text": [
      "# aws_s3_bucket.remote_state:\n",
      "resource \"aws_s3_bucket\" \"remote_state\" {\n",
      "    \u001b[1m\u001b[0marn\u001b[0m\u001b[0m                         = \"arn:aws:s3:::20230109-mjbrightc\"\n",
      "    \u001b[1m\u001b[0mbucket\u001b[0m\u001b[0m                      = \"20230109-mjbrightc\"\n",
      "    \u001b[1m\u001b[0mbucket_domain_name\u001b[0m\u001b[0m          = \"20230109-mjbrightc.s3.amazonaws.com\"\n",
      "    \u001b[1m\u001b[0mbucket_regional_domain_name\u001b[0m\u001b[0m = \"20230109-mjbrightc.s3.us-west-1.amazonaws.com\"\n",
      "    \u001b[1m\u001b[0mforce_destroy\u001b[0m\u001b[0m               = true\n",
      "    \u001b[1m\u001b[0mhosted_zone_id\u001b[0m\u001b[0m              = \"Z2F56UZL2M1ACD\"\n",
      "    \u001b[1m\u001b[0mid\u001b[0m\u001b[0m                          = \"20230109-mjbrightc\"\n",
      "    \u001b[1m\u001b[0mobject_lock_enabled\u001b[0m\u001b[0m         = false\n",
      "    \u001b[1m\u001b[0mregion\u001b[0m\u001b[0m                      = \"us-west-1\"\n",
      "    \u001b[1m\u001b[0mrequest_payer\u001b[0m\u001b[0m               = \"BucketOwner\"\n",
      "    \u001b[1m\u001b[0mtags\u001b[0m\u001b[0m                        = {\n",
      "        \"LabName\" = \"6.StoringPersistentStates\"\n",
      "    }\n",
      "    \u001b[1m\u001b[0mtags_all\u001b[0m\u001b[0m                    = {\n",
      "        \"LabName\" = \"6.StoringPersistentStates\"\n",
      "    }\n",
      "\n",
      "    grant {\n",
      "        \u001b[1m\u001b[0mid\u001b[0m\u001b[0m          = \"968fa2d82a42737a0bed914a047f15154b89bf1bcc8c50a320a36a56c60f1ad1\"\n",
      "        \u001b[1m\u001b[0mpermissions\u001b[0m\u001b[0m = [\n",
      "            \"FULL_CONTROL\",\n",
      "        ]\n",
      "        \u001b[1m\u001b[0mtype\u001b[0m\u001b[0m        = \"CanonicalUser\"\n",
      "    }\n",
      "\n",
      "    versioning {\n",
      "        \u001b[1m\u001b[0menabled\u001b[0m\u001b[0m    = false\n",
      "        \u001b[1m\u001b[0mmfa_delete\u001b[0m\u001b[0m = false\n",
      "    }\n",
      "}\u001b[0m\u001b[0m\n"
     ]
    }
   ],
   "source": [
    "terraform state show aws_s3_bucket.remote_state"
   ]
  },
  {
   "cell_type": "markdown",
   "id": "distinct-memorabilia",
   "metadata": {},
   "source": [
    "#### Investigating the local copy\n",
    "\n",
    "We can also use ```terraform state list``` and ```terraform state show RESOURCE``` with the option ```-state=terraform.tfstate.localcopy ``` to investigate the state as stored in the local copy we just made."
   ]
  },
  {
   "cell_type": "code",
   "execution_count": 22,
   "id": "organic-darwin",
   "metadata": {},
   "outputs": [
    {
     "name": "stdout",
     "output_type": "stream",
     "text": [
      "aws_dynamodb_table.terraform_locks\n",
      "aws_s3_bucket.remote_state\n"
     ]
    }
   ],
   "source": [
    "terraform state list -state=terraform.tfstate.localcopy "
   ]
  },
  {
   "cell_type": "code",
   "execution_count": 23,
   "id": "thick-recognition",
   "metadata": {},
   "outputs": [
    {
     "name": "stdout",
     "output_type": "stream",
     "text": [
      "# aws_s3_bucket.remote_state:\n",
      "resource \"aws_s3_bucket\" \"remote_state\" {\n",
      "    \u001b[1m\u001b[0marn\u001b[0m\u001b[0m                         = \"arn:aws:s3:::20230109-mjbrightc\"\n",
      "    \u001b[1m\u001b[0mbucket\u001b[0m\u001b[0m                      = \"20230109-mjbrightc\"\n",
      "    \u001b[1m\u001b[0mbucket_domain_name\u001b[0m\u001b[0m          = \"20230109-mjbrightc.s3.amazonaws.com\"\n",
      "    \u001b[1m\u001b[0mbucket_regional_domain_name\u001b[0m\u001b[0m = \"20230109-mjbrightc.s3.us-west-1.amazonaws.com\"\n",
      "    \u001b[1m\u001b[0mforce_destroy\u001b[0m\u001b[0m               = true\n",
      "    \u001b[1m\u001b[0mhosted_zone_id\u001b[0m\u001b[0m              = \"Z2F56UZL2M1ACD\"\n",
      "    \u001b[1m\u001b[0mid\u001b[0m\u001b[0m                          = \"20230109-mjbrightc\"\n",
      "    \u001b[1m\u001b[0mobject_lock_enabled\u001b[0m\u001b[0m         = false\n",
      "    \u001b[1m\u001b[0mregion\u001b[0m\u001b[0m                      = \"us-west-1\"\n",
      "    \u001b[1m\u001b[0mrequest_payer\u001b[0m\u001b[0m               = \"BucketOwner\"\n",
      "    \u001b[1m\u001b[0mtags\u001b[0m\u001b[0m                        = {\n",
      "        \"LabName\" = \"6.StoringPersistentStates\"\n",
      "    }\n",
      "    \u001b[1m\u001b[0mtags_all\u001b[0m\u001b[0m                    = {\n",
      "        \"LabName\" = \"6.StoringPersistentStates\"\n",
      "    }\n",
      "\n",
      "    grant {\n",
      "        \u001b[1m\u001b[0mid\u001b[0m\u001b[0m          = \"968fa2d82a42737a0bed914a047f15154b89bf1bcc8c50a320a36a56c60f1ad1\"\n",
      "        \u001b[1m\u001b[0mpermissions\u001b[0m\u001b[0m = [\n",
      "            \"FULL_CONTROL\",\n",
      "        ]\n",
      "        \u001b[1m\u001b[0mtype\u001b[0m\u001b[0m        = \"CanonicalUser\"\n",
      "    }\n",
      "\n",
      "    versioning {\n",
      "        \u001b[1m\u001b[0menabled\u001b[0m\u001b[0m    = false\n",
      "        \u001b[1m\u001b[0mmfa_delete\u001b[0m\u001b[0m = false\n",
      "    }\n",
      "}\u001b[0m\u001b[0m\n"
     ]
    }
   ],
   "source": [
    "terraform state show -state=terraform.tfstate.localcopy aws_s3_bucket.remote_state"
   ]
  },
  {
   "cell_type": "markdown",
   "id": "03e3c101",
   "metadata": {},
   "source": [
    "### 8. Add a new resource\n",
    "\n",
    "Add a new resource - a 2nd bucket with a unique name\n",
    "\n",
    "Apply this config and see that the local state file doesn't change\n"
   ]
  },
  {
   "cell_type": "code",
   "execution_count": 24,
   "id": "6943296b",
   "metadata": {},
   "outputs": [],
   "source": [
    "#EXCLUDE\n",
    "\n",
    "cat > test_bucket.tf <<EOF\n",
    "resource \"aws_s3_bucket\" \"test_bucket\" {\n",
    "  bucket = \"\\${var.unique_bucket_name}test\"\n",
    "\n",
    "  lifecycle { prevent_destroy = false }\n",
    "\n",
    "  tags = {\n",
    "      LabName = \"6.StoringPersistentStates\"\n",
    "  }\n",
    "\n",
    "  force_destroy = true \n",
    "}\n",
    "EOF\n",
    "# All objects to be deleted from bucket to allow bucket deletion without error\n",
    "#ls -al test_bucket.tf"
   ]
  },
  {
   "cell_type": "markdown",
   "id": "27ca9174",
   "metadata": {},
   "source": [
    "The local terraform.tfstate file should remain empty despite the new resource created\n",
    "\n",
    "e.g."
   ]
  },
  {
   "cell_type": "code",
   "execution_count": 25,
   "id": "14dce28b",
   "metadata": {},
   "outputs": [
    {
     "name": "stdout",
     "output_type": "stream",
     "text": [
      "resource \"aws_s3_bucket\" \"test_bucket\" {\n",
      "  bucket = \"${var.unique_bucket_name}test\"\n",
      "\n",
      "  lifecycle { prevent_destroy = false }\n",
      "\n",
      "  tags = {\n",
      "      LabName = \"6.StoringPersistentStates\"\n",
      "  }\n",
      "\n",
      "  force_destroy = true \n",
      "}\n"
     ]
    }
   ],
   "source": [
    "cat test_bucket.tf"
   ]
  },
  {
   "cell_type": "code",
   "execution_count": 26,
   "id": "c9634c19",
   "metadata": {},
   "outputs": [
    {
     "name": "stdout",
     "output_type": "stream",
     "text": [
      "Acquiring state lock. This may take a few moments...\n",
      "\u001b[0m\u001b[1maws_s3_bucket.remote_state: Refreshing state... [id=20230109-mjbrightc]\u001b[0m\n",
      "\u001b[0m\u001b[1maws_dynamodb_table.terraform_locks: Refreshing state... [id=dynamodb-lock]\u001b[0m\n",
      "\n",
      "Terraform used the selected providers to generate the following execution plan.\n",
      "Resource actions are indicated with the following symbols:\n",
      "  \u001b[32m+\u001b[0m create\n",
      "\u001b[0m\n",
      "Terraform will perform the following actions:\n",
      "\n",
      "\u001b[1m  # aws_s3_bucket.test_bucket\u001b[0m will be created\u001b[0m\u001b[0m\n",
      "\u001b[0m  \u001b[32m+\u001b[0m\u001b[0m resource \"aws_s3_bucket\" \"test_bucket\" {\n",
      "      \u001b[32m+\u001b[0m \u001b[0m\u001b[1m\u001b[0macceleration_status\u001b[0m\u001b[0m         = (known after apply)\n",
      "      \u001b[32m+\u001b[0m \u001b[0m\u001b[1m\u001b[0macl\u001b[0m\u001b[0m                         = (known after apply)\n",
      "      \u001b[32m+\u001b[0m \u001b[0m\u001b[1m\u001b[0marn\u001b[0m\u001b[0m                         = (known after apply)\n",
      "      \u001b[32m+\u001b[0m \u001b[0m\u001b[1m\u001b[0mbucket\u001b[0m\u001b[0m                      = \"20230109-mjbrightctest\"\n",
      "      \u001b[32m+\u001b[0m \u001b[0m\u001b[1m\u001b[0mbucket_domain_name\u001b[0m\u001b[0m          = (known after apply)\n",
      "      \u001b[32m+\u001b[0m \u001b[0m\u001b[1m\u001b[0mbucket_regional_domain_name\u001b[0m\u001b[0m = (known after apply)\n",
      "      \u001b[32m+\u001b[0m \u001b[0m\u001b[1m\u001b[0mforce_destroy\u001b[0m\u001b[0m               = true\n",
      "      \u001b[32m+\u001b[0m \u001b[0m\u001b[1m\u001b[0mhosted_zone_id\u001b[0m\u001b[0m              = (known after apply)\n",
      "      \u001b[32m+\u001b[0m \u001b[0m\u001b[1m\u001b[0mid\u001b[0m\u001b[0m                          = (known after apply)\n",
      "      \u001b[32m+\u001b[0m \u001b[0m\u001b[1m\u001b[0mobject_lock_enabled\u001b[0m\u001b[0m         = (known after apply)\n",
      "      \u001b[32m+\u001b[0m \u001b[0m\u001b[1m\u001b[0mpolicy\u001b[0m\u001b[0m                      = (known after apply)\n",
      "      \u001b[32m+\u001b[0m \u001b[0m\u001b[1m\u001b[0mregion\u001b[0m\u001b[0m                      = (known after apply)\n",
      "      \u001b[32m+\u001b[0m \u001b[0m\u001b[1m\u001b[0mrequest_payer\u001b[0m\u001b[0m               = (known after apply)\n",
      "      \u001b[32m+\u001b[0m \u001b[0m\u001b[1m\u001b[0mtags\u001b[0m\u001b[0m                        = {\n",
      "          \u001b[32m+\u001b[0m \u001b[0m\"LabName\" = \"6.StoringPersistentStates\"\n",
      "        }\n",
      "      \u001b[32m+\u001b[0m \u001b[0m\u001b[1m\u001b[0mtags_all\u001b[0m\u001b[0m                    = {\n",
      "          \u001b[32m+\u001b[0m \u001b[0m\"LabName\" = \"6.StoringPersistentStates\"\n",
      "        }\n",
      "      \u001b[32m+\u001b[0m \u001b[0m\u001b[1m\u001b[0mwebsite_domain\u001b[0m\u001b[0m              = (known after apply)\n",
      "      \u001b[32m+\u001b[0m \u001b[0m\u001b[1m\u001b[0mwebsite_endpoint\u001b[0m\u001b[0m            = (known after apply)\n",
      "\n",
      "      \u001b[32m+\u001b[0m \u001b[0mcors_rule {\n",
      "          \u001b[32m+\u001b[0m \u001b[0m\u001b[1m\u001b[0mallowed_headers\u001b[0m\u001b[0m = (known after apply)\n",
      "          \u001b[32m+\u001b[0m \u001b[0m\u001b[1m\u001b[0mallowed_methods\u001b[0m\u001b[0m = (known after apply)\n",
      "          \u001b[32m+\u001b[0m \u001b[0m\u001b[1m\u001b[0mallowed_origins\u001b[0m\u001b[0m = (known after apply)\n",
      "          \u001b[32m+\u001b[0m \u001b[0m\u001b[1m\u001b[0mexpose_headers\u001b[0m\u001b[0m  = (known after apply)\n",
      "          \u001b[32m+\u001b[0m \u001b[0m\u001b[1m\u001b[0mmax_age_seconds\u001b[0m\u001b[0m = (known after apply)\n",
      "        }\n",
      "\n",
      "      \u001b[32m+\u001b[0m \u001b[0mgrant {\n",
      "          \u001b[32m+\u001b[0m \u001b[0m\u001b[1m\u001b[0mid\u001b[0m\u001b[0m          = (known after apply)\n",
      "          \u001b[32m+\u001b[0m \u001b[0m\u001b[1m\u001b[0mpermissions\u001b[0m\u001b[0m = (known after apply)\n",
      "          \u001b[32m+\u001b[0m \u001b[0m\u001b[1m\u001b[0mtype\u001b[0m\u001b[0m        = (known after apply)\n",
      "          \u001b[32m+\u001b[0m \u001b[0m\u001b[1m\u001b[0muri\u001b[0m\u001b[0m         = (known after apply)\n",
      "        }\n",
      "\n",
      "      \u001b[32m+\u001b[0m \u001b[0mlifecycle_rule {\n",
      "          \u001b[32m+\u001b[0m \u001b[0m\u001b[1m\u001b[0mabort_incomplete_multipart_upload_days\u001b[0m\u001b[0m = (known after apply)\n",
      "          \u001b[32m+\u001b[0m \u001b[0m\u001b[1m\u001b[0menabled\u001b[0m\u001b[0m                                = (known after apply)\n",
      "          \u001b[32m+\u001b[0m \u001b[0m\u001b[1m\u001b[0mid\u001b[0m\u001b[0m                                     = (known after apply)\n",
      "          \u001b[32m+\u001b[0m \u001b[0m\u001b[1m\u001b[0mprefix\u001b[0m\u001b[0m                                 = (known after apply)\n",
      "          \u001b[32m+\u001b[0m \u001b[0m\u001b[1m\u001b[0mtags\u001b[0m\u001b[0m                                   = (known after apply)\n",
      "\n",
      "          \u001b[32m+\u001b[0m \u001b[0mexpiration {\n",
      "              \u001b[32m+\u001b[0m \u001b[0m\u001b[1m\u001b[0mdate\u001b[0m\u001b[0m                         = (known after apply)\n",
      "              \u001b[32m+\u001b[0m \u001b[0m\u001b[1m\u001b[0mdays\u001b[0m\u001b[0m                         = (known after apply)\n",
      "              \u001b[32m+\u001b[0m \u001b[0m\u001b[1m\u001b[0mexpired_object_delete_marker\u001b[0m\u001b[0m = (known after apply)\n",
      "            }\n",
      "\n",
      "          \u001b[32m+\u001b[0m \u001b[0mnoncurrent_version_expiration {\n",
      "              \u001b[32m+\u001b[0m \u001b[0m\u001b[1m\u001b[0mdays\u001b[0m\u001b[0m = (known after apply)\n",
      "            }\n",
      "\n",
      "          \u001b[32m+\u001b[0m \u001b[0mnoncurrent_version_transition {\n",
      "              \u001b[32m+\u001b[0m \u001b[0m\u001b[1m\u001b[0mdays\u001b[0m\u001b[0m          = (known after apply)\n",
      "              \u001b[32m+\u001b[0m \u001b[0m\u001b[1m\u001b[0mstorage_class\u001b[0m\u001b[0m = (known after apply)\n",
      "            }\n",
      "\n",
      "          \u001b[32m+\u001b[0m \u001b[0mtransition {\n",
      "              \u001b[32m+\u001b[0m \u001b[0m\u001b[1m\u001b[0mdate\u001b[0m\u001b[0m          = (known after apply)\n",
      "              \u001b[32m+\u001b[0m \u001b[0m\u001b[1m\u001b[0mdays\u001b[0m\u001b[0m          = (known after apply)\n",
      "              \u001b[32m+\u001b[0m \u001b[0m\u001b[1m\u001b[0mstorage_class\u001b[0m\u001b[0m = (known after apply)\n",
      "            }\n",
      "        }\n",
      "\n",
      "      \u001b[32m+\u001b[0m \u001b[0mlogging {\n",
      "          \u001b[32m+\u001b[0m \u001b[0m\u001b[1m\u001b[0mtarget_bucket\u001b[0m\u001b[0m = (known after apply)\n",
      "          \u001b[32m+\u001b[0m \u001b[0m\u001b[1m\u001b[0mtarget_prefix\u001b[0m\u001b[0m = (known after apply)\n",
      "        }\n",
      "\n",
      "      \u001b[32m+\u001b[0m \u001b[0mobject_lock_configuration {\n",
      "          \u001b[32m+\u001b[0m \u001b[0m\u001b[1m\u001b[0mobject_lock_enabled\u001b[0m\u001b[0m = (known after apply)\n",
      "\n",
      "          \u001b[32m+\u001b[0m \u001b[0mrule {\n",
      "              \u001b[32m+\u001b[0m \u001b[0mdefault_retention {\n",
      "                  \u001b[32m+\u001b[0m \u001b[0m\u001b[1m\u001b[0mdays\u001b[0m\u001b[0m  = (known after apply)\n",
      "                  \u001b[32m+\u001b[0m \u001b[0m\u001b[1m\u001b[0mmode\u001b[0m\u001b[0m  = (known after apply)\n",
      "                  \u001b[32m+\u001b[0m \u001b[0m\u001b[1m\u001b[0myears\u001b[0m\u001b[0m = (known after apply)\n",
      "                }\n",
      "            }\n",
      "        }\n",
      "\n",
      "      \u001b[32m+\u001b[0m \u001b[0mreplication_configuration {\n",
      "          \u001b[32m+\u001b[0m \u001b[0m\u001b[1m\u001b[0mrole\u001b[0m\u001b[0m = (known after apply)\n",
      "\n",
      "          \u001b[32m+\u001b[0m \u001b[0mrules {\n",
      "              \u001b[32m+\u001b[0m \u001b[0m\u001b[1m\u001b[0mdelete_marker_replication_status\u001b[0m\u001b[0m = (known after apply)\n",
      "              \u001b[32m+\u001b[0m \u001b[0m\u001b[1m\u001b[0mid\u001b[0m\u001b[0m                               = (known after apply)\n",
      "              \u001b[32m+\u001b[0m \u001b[0m\u001b[1m\u001b[0mprefix\u001b[0m\u001b[0m                           = (known after apply)\n",
      "              \u001b[32m+\u001b[0m \u001b[0m\u001b[1m\u001b[0mpriority\u001b[0m\u001b[0m                         = (known after apply)\n",
      "              \u001b[32m+\u001b[0m \u001b[0m\u001b[1m\u001b[0mstatus\u001b[0m\u001b[0m                           = (known after apply)\n",
      "\n",
      "              \u001b[32m+\u001b[0m \u001b[0mdestination {\n",
      "                  \u001b[32m+\u001b[0m \u001b[0m\u001b[1m\u001b[0maccount_id\u001b[0m\u001b[0m         = (known after apply)\n",
      "                  \u001b[32m+\u001b[0m \u001b[0m\u001b[1m\u001b[0mbucket\u001b[0m\u001b[0m             = (known after apply)\n",
      "                  \u001b[32m+\u001b[0m \u001b[0m\u001b[1m\u001b[0mreplica_kms_key_id\u001b[0m\u001b[0m = (known after apply)\n",
      "                  \u001b[32m+\u001b[0m \u001b[0m\u001b[1m\u001b[0mstorage_class\u001b[0m\u001b[0m      = (known after apply)\n",
      "\n",
      "                  \u001b[32m+\u001b[0m \u001b[0maccess_control_translation {\n",
      "                      \u001b[32m+\u001b[0m \u001b[0m\u001b[1m\u001b[0mowner\u001b[0m\u001b[0m = (known after apply)\n",
      "                    }\n",
      "\n",
      "                  \u001b[32m+\u001b[0m \u001b[0mmetrics {\n",
      "                      \u001b[32m+\u001b[0m \u001b[0m\u001b[1m\u001b[0mminutes\u001b[0m\u001b[0m = (known after apply)\n",
      "                      \u001b[32m+\u001b[0m \u001b[0m\u001b[1m\u001b[0mstatus\u001b[0m\u001b[0m  = (known after apply)\n",
      "                    }\n",
      "\n",
      "                  \u001b[32m+\u001b[0m \u001b[0mreplication_time {\n",
      "                      \u001b[32m+\u001b[0m \u001b[0m\u001b[1m\u001b[0mminutes\u001b[0m\u001b[0m = (known after apply)\n",
      "                      \u001b[32m+\u001b[0m \u001b[0m\u001b[1m\u001b[0mstatus\u001b[0m\u001b[0m  = (known after apply)\n",
      "                    }\n",
      "                }\n",
      "\n",
      "              \u001b[32m+\u001b[0m \u001b[0mfilter {\n",
      "                  \u001b[32m+\u001b[0m \u001b[0m\u001b[1m\u001b[0mprefix\u001b[0m\u001b[0m = (known after apply)\n",
      "                  \u001b[32m+\u001b[0m \u001b[0m\u001b[1m\u001b[0mtags\u001b[0m\u001b[0m   = (known after apply)\n",
      "                }\n",
      "\n",
      "              \u001b[32m+\u001b[0m \u001b[0msource_selection_criteria {\n",
      "                  \u001b[32m+\u001b[0m \u001b[0msse_kms_encrypted_objects {\n",
      "                      \u001b[32m+\u001b[0m \u001b[0m\u001b[1m\u001b[0menabled\u001b[0m\u001b[0m = (known after apply)\n",
      "                    }\n",
      "                }\n",
      "            }\n",
      "        }\n",
      "\n",
      "      \u001b[32m+\u001b[0m \u001b[0mserver_side_encryption_configuration {\n",
      "          \u001b[32m+\u001b[0m \u001b[0mrule {\n",
      "              \u001b[32m+\u001b[0m \u001b[0m\u001b[1m\u001b[0mbucket_key_enabled\u001b[0m\u001b[0m = (known after apply)\n",
      "\n",
      "              \u001b[32m+\u001b[0m \u001b[0mapply_server_side_encryption_by_default {\n",
      "                  \u001b[32m+\u001b[0m \u001b[0m\u001b[1m\u001b[0mkms_master_key_id\u001b[0m\u001b[0m = (known after apply)\n",
      "                  \u001b[32m+\u001b[0m \u001b[0m\u001b[1m\u001b[0msse_algorithm\u001b[0m\u001b[0m     = (known after apply)\n",
      "                }\n",
      "            }\n",
      "        }\n",
      "\n",
      "      \u001b[32m+\u001b[0m \u001b[0mversioning {\n",
      "          \u001b[32m+\u001b[0m \u001b[0m\u001b[1m\u001b[0menabled\u001b[0m\u001b[0m    = (known after apply)\n",
      "          \u001b[32m+\u001b[0m \u001b[0m\u001b[1m\u001b[0mmfa_delete\u001b[0m\u001b[0m = (known after apply)\n",
      "        }\n",
      "\n",
      "      \u001b[32m+\u001b[0m \u001b[0mwebsite {\n",
      "          \u001b[32m+\u001b[0m \u001b[0m\u001b[1m\u001b[0merror_document\u001b[0m\u001b[0m           = (known after apply)\n",
      "          \u001b[32m+\u001b[0m \u001b[0m\u001b[1m\u001b[0mindex_document\u001b[0m\u001b[0m           = (known after apply)\n"
     ]
    },
    {
     "name": "stdout",
     "output_type": "stream",
     "text": [
      "          \u001b[32m+\u001b[0m \u001b[0m\u001b[1m\u001b[0mredirect_all_requests_to\u001b[0m\u001b[0m = (known after apply)\n",
      "          \u001b[32m+\u001b[0m \u001b[0m\u001b[1m\u001b[0mrouting_rules\u001b[0m\u001b[0m            = (known after apply)\n",
      "        }\n",
      "    }\n",
      "\n",
      "\u001b[0m\u001b[1mPlan:\u001b[0m 1 to add, 0 to change, 0 to destroy.\n",
      "\u001b[0m\u001b[0m\u001b[1maws_s3_bucket.test_bucket: Creating...\u001b[0m\u001b[0m\n",
      "\u001b[0m\u001b[1maws_s3_bucket.test_bucket: Creation complete after 4s [id=20230109-mjbrightctest]\u001b[0m\n",
      "Releasing state lock. This may take a few moments...\n",
      "\u001b[0m\u001b[1m\u001b[32m\n",
      "Apply complete! Resources: 1 added, 0 changed, 0 destroyed.\n",
      "\u001b[0m\n",
      "aws_dynamodb_table.terraform_locks\n",
      "aws_s3_bucket.remote_state\n",
      "aws_s3_bucket.test_bucket\n",
      "-rw-rw-r-- 1 student student 0 Jan  9 18:46 terraform.tfstate\n"
     ]
    }
   ],
   "source": [
    "terraform apply -auto-approve\n",
    "\n",
    "terraform state list\n",
    "\n",
    "ls -al terraform.tfstate"
   ]
  },
  {
   "cell_type": "markdown",
   "id": "e6af955c",
   "metadata": {},
   "source": [
    "#### Accessing the state via the AWS Console\n",
    "\n",
    "If you are performing this lab with your own AWS credentials, you can access the AWS Console to investigate the state their in the S3 bucket - see the below screen capture\n",
    "\n",
    "**Note:** the S3 bucket name is different here as this was a previous run with a differented dated bucket name.\n",
    "\n",
    "<!-- The S3 bucket:\n",
    "<img src=\"../images/S3_bucket_terraform_state.PNG\" /> -->\n",
    "\n",
    "#### The S3 bucket description:\n",
    "<img src=\"../images/S3_bucket_terraform_state_description.PNG\" />\n",
    "\n",
    "#### The terraform.tfstate file in the S3 bucket:\n",
    "<img src=\"../images/S3_bucket_terraform_state_content.PNG\" />"
   ]
  },
  {
   "cell_type": "markdown",
   "id": "combined-length",
   "metadata": {},
   "source": [
    "### 9. The configuration when visualized should look like\n",
    "\n",
    "<div>\n",
    "    <object data=\"graph.svg\" type=\"image/svg+xml\">\n",
    "    </object>\n",
    "</div>\n",
    "\n",
    "<img src=\"graph.svg\" />\n",
    "\n",
    "#### Viewing your terraform.tfstate file as a graph\n",
    "\n",
    "**Note:** Remember that **once you have applied this config** can obtain a representation of this graph using the ```terraform graph``` command which you can copy into the web site https://dreampuf.github.io/GraphvizOnline/\n",
    "\n",
    "The output of ```terraform graph``` should look something like:\n",
    "```\n",
    "digraph {\n",
    "        compound = \"true\"\n",
    "        newrank = \"true\"\n",
    "        subgraph \"root\" {\n",
    "                \"[root] aws_subnet.vpc_subnets (expand)\" [label = \"aws_subnet.vpc_subnets\", shape = \"box\"]\n",
    "                \"[root] aws_vpc.main_vpc (expand)\" [label = \"aws_vpc.main_vpc\", shape = \"box\"]\n",
    "                \"[root] data.aws_availability_zones.aaz (expand)\" [label = \"data.aws_availability_zones.aaz\", shape = \"box\"]\n",
    "                \"[root] output.aazs\" [label = \"output.aazs\", shape = \"note\"]\n",
    "                \"[root] provider[\\\"registry.terraform.io/hashicorp/aws\\\"]\" [label = \"provider[\\\"registry.terraform.io/hashicorp/aws\\\"]\", shape = \"diamond\"]\n",
    "                \"[root] var.ami_instance\" [label = \"var.ami_instance\", shape = \"note\"]\n",
    "                \"[root] var.instance_type\" [label = \"var.instance_type\", shape = \"note\"]\n",
    "                \"[root] var.region\" [label = \"var.region\", shape = \"note\"]\n",
    "                \"[root] var.vpc_cidr\" [label = \"var.vpc_cidr\", shape = \"note\"]\n",
    "                \"[root] var.vpc_subnet_cidr\" [label = \"var.vpc_subnet_cidr\", shape = \"note\"]\n",
    "                \"[root] aws_subnet.vpc_subnets (expand)\" -> \"[root] aws_vpc.main_vpc (expand)\"\n",
    "                \"[root] aws_subnet.vpc_subnets (expand)\" -> \"[root] data.aws_availability_zones.aaz (expand)\"\n",
    "                \"[root] aws_subnet.vpc_subnets (expand)\" -> \"[root] var.vpc_subnet_cidr\"\n",
    "                \"[root] aws_vpc.main_vpc (expand)\" -> \"[root] provider[\\\"registry.terraform.io/hashicorp/aws\\\"]\"\n",
    "                \"[root] aws_vpc.main_vpc (expand)\" -> \"[root] var.vpc_cidr\"\n",
    "                \"[root] data.aws_availability_zones.aaz (expand)\" -> \"[root] provider[\\\"registry.terraform.io/hashicorp/aws\\\"]\"\n",
    "                \"[root] meta.count-boundary (EachMode fixup)\" -> \"[root] aws_subnet.vpc_subnets (expand)\"\n",
    "                \"[root] meta.count-boundary (EachMode fixup)\" -> \"[root] output.aazs\"\n",
    "                \"[root] meta.count-boundary (EachMode fixup)\" -> \"[root] var.ami_instance\"\n",
    "                \"[root] meta.count-boundary (EachMode fixup)\" -> \"[root] var.instance_type\"\n",
    "                \"[root] output.aazs\" -> \"[root] data.aws_availability_zones.aaz (expand)\"\n",
    "                \"[root] provider[\\\"registry.terraform.io/hashicorp/aws\\\"] (close)\" -> \"[root] aws_subnet.vpc_subnets (expand)\"\n",
    "                \"[root] provider[\\\"registry.terraform.io/hashicorp/aws\\\"]\" -> \"[root] var.region\"\n",
    "                \"[root] root\" -> \"[root] meta.count-boundary (EachMode fixup)\"\n",
    "                \"[root] root\" -> \"[root] provider[\\\"registry.terraform.io/hashicorp/aws\\\"] (close)\"\n",
    "        }\n",
    "}\n",
    "```\n"
   ]
  },
  {
   "cell_type": "markdown",
   "id": "approved-exclusion",
   "metadata": {},
   "source": [
    "### 10. Reverting to local state -  Removing the remote_backend\n",
    "\n",
    "Now to revert back to using a local terraform.tfstate file:\n",
    "\n",
    "Remove the backend definition from your config: ```rm backend.tf```\n",
    "- or move the backend.tf file or change to another folder\n",
    "\n",
    "Then re-init your config: ```terraform init  -migrate-state```\n",
    "\n",
    "This will disable the \"S3\" remote_backend\n",
    "\n",
    "```\n",
    "Terraform has detected you're unconfiguring your previously set \"s3\" backend.\n",
    "Do you want to copy existing state to the new backend?\n",
    "  Pre-existing state was found while migrating the previous \"s3\" backend to the\n",
    "  newly configured \"local\" backend. No existing state was found in the newly\n",
    "  configured \"local\" backend. Do you want to copy this state to the new \"local\"\n",
    "  backend? Enter \"yes\" to copy and \"no\" to start with an empty state.\n",
    "\n",
    "  Enter a value: yes\n",
    "\n",
    "\n",
    "\n",
    "Successfully unset the backend \"s3\". Terraform will now operate locally.\n",
    "\n",
    "Initializing provider plugins...\n",
    "- Reusing previous version of hashicorp/aws from the dependency lock file\n",
    "- Installing hashicorp/aws v3.26.0...\n",
    "- Installed hashicorp/aws v3.26.0 (signed by HashiCorp)\n",
    "\n",
    "Terraform has been successfully initialized!\n",
    "\n",
    "You may now begin working with Terraform. Try running \"terraform plan\" to see\n",
    "any changes that are required for your infrastructure. All Terraform commands\n",
    "should now work.\n",
    "\n",
    "If you ever set or change modules or backend configuration for Terraform,\n",
    "rerun this command to reinitialize your working directory. If you forget, other\n",
    "commands will detect it and remind you to do so if necessary.\n",
    "```"
   ]
  },
  {
   "cell_type": "code",
   "execution_count": 27,
   "id": "33147abd",
   "metadata": {},
   "outputs": [
    {
     "name": "stdout",
     "output_type": "stream",
     "text": [
      "\n",
      "\u001b[0m\u001b[1mInitializing the backend...\u001b[0m\n",
      "Terraform has detected you're unconfiguring your previously set \"s3\" backend.\n",
      "Acquiring state lock. This may take a few moments...\n",
      "\u001b[0m\u001b[1mDo you want to copy existing state to the new backend?\u001b[0m\n",
      "  Pre-existing state was found while migrating the previous \"s3\" backend to the\n",
      "  newly configured \"local\" backend. No existing state was found in the newly\n",
      "  configured \"local\" backend. Do you want to copy this state to the new \"local\"\n",
      "  backend? Enter \"yes\" to copy and \"no\" to start with an empty state.\n",
      "\n",
      "  \u001b[1mEnter a value:\u001b[0m \u001b[0m\n",
      "Releasing state lock. This may take a few moments...\n",
      "\u001b[0m\u001b[32m\n",
      "\n",
      "Successfully unset the backend \"s3\". Terraform will now operate locally.\u001b[0m\n",
      "\n",
      "\u001b[0m\u001b[1mInitializing provider plugins...\u001b[0m\n",
      "- Reusing previous version of hashicorp/aws from the dependency lock file\n",
      "- Using previously-installed hashicorp/aws v4.49.0\n",
      "\n",
      "\u001b[0m\u001b[1m\u001b[32mTerraform has been successfully initialized!\u001b[0m\u001b[32m\u001b[0m\n",
      "\u001b[0m\u001b[32m\n",
      "You may now begin working with Terraform. Try running \"terraform plan\" to see\n",
      "any changes that are required for your infrastructure. All Terraform commands\n",
      "should now work.\n",
      "\n",
      "If you ever set or change modules or backend configuration for Terraform,\n",
      "rerun this command to reinitialize your working directory. If you forget, other\n",
      "commands will detect it and remind you to do so if necessary.\u001b[0m\n",
      "-rw-rw-r-- 1 student student 6445 Jan  9 18:49 terraform.tfstate\n"
     ]
    }
   ],
   "source": [
    "rm backend.tf\n",
    "\n",
    "echo yes | terraform init  -migrate-state\n",
    "\n",
    "# Then perform ```terraform init --backend=false```\n",
    "\n",
    "ls -al terraform.tfstate"
   ]
  },
  {
   "cell_type": "code",
   "execution_count": 28,
   "id": "57f2bb6d",
   "metadata": {},
   "outputs": [
    {
     "name": "stdout",
     "output_type": "stream",
     "text": [
      "-rw-rw-r-- 1 student student 6445 Jan  9 18:49 terraform.tfstate\n",
      "-rw-rw-r-- 1 student student 4260 Jan  9 18:46 terraform.tfstate.backup\n",
      "-rw-rw-r-- 1 student student 4260 Jan  9 18:46 terraform.tfstate.localcopy\n",
      "4c4\n",
      "<   \"serial\": 1,\n",
      "---\n",
      ">   \"serial\": 0,\n",
      "97,157d96\n",
      "<             \"lifecycle_rule\": [],\n",
      "<             \"logging\": [],\n",
      "<             \"object_lock_configuration\": [],\n",
      "<             \"object_lock_enabled\": false,\n",
      "<             \"policy\": \"\",\n",
      "<             \"region\": \"us-west-1\",\n",
      "<             \"replication_configuration\": [],\n",
      "<             \"request_payer\": \"BucketOwner\",\n",
      "<             \"server_side_encryption_configuration\": [],\n",
      "<             \"tags\": {\n",
      "<               \"LabName\": \"6.StoringPersistentStates\"\n",
      "<             },\n",
      "<             \"tags_all\": {\n",
      "<               \"LabName\": \"6.StoringPersistentStates\"\n",
      "<             },\n",
      "<             \"timeouts\": null,\n",
      "<             \"versioning\": [\n",
      "<               {\n",
      "<                 \"enabled\": false,\n",
      "<                 \"mfa_delete\": false\n",
      "<               }\n",
      "<             ],\n",
      "<             \"website\": [],\n",
      "<             \"website_domain\": null,\n",
      "<             \"website_endpoint\": null\n",
      "<           },\n",
      "<           \"sensitive_attributes\": [],\n",
      "<           \"private\": \"eyJlMmJmYjczMC1lY2FhLTExZTYtOGY4OC0zNDM2M2JjN2M0YzAiOnsiY3JlYXRlIjoxMjAwMDAwMDAwMDAwLCJkZWxldGUiOjM2MDAwMDAwMDAwMDAsInJlYWQiOjEyMDAwMDAwMDAwMDAsInVwZGF0ZSI6MTIwMDAwMDAwMDAwMH19\"\n",
      "<         }\n",
      "<       ]\n",
      "<     },\n",
      "<     {\n",
      "<       \"mode\": \"managed\",\n",
      "<       \"type\": \"aws_s3_bucket\",\n",
      "<       \"name\": \"test_bucket\",\n",
      "<       \"provider\": \"provider[\\\"registry.terraform.io/hashicorp/aws\\\"]\",\n",
      "<       \"instances\": [\n",
      "<         {\n",
      "<           \"schema_version\": 0,\n",
      "<           \"attributes\": {\n",
      "<             \"acceleration_status\": \"\",\n",
      "<             \"acl\": null,\n",
      "<             \"arn\": \"arn:aws:s3:::20230109-mjbrightctest\",\n",
      "<             \"bucket\": \"20230109-mjbrightctest\",\n",
      "<             \"bucket_domain_name\": \"20230109-mjbrightctest.s3.amazonaws.com\",\n",
      "<             \"bucket_prefix\": null,\n",
      "<             \"bucket_regional_domain_name\": \"20230109-mjbrightctest.s3.us-west-1.amazonaws.com\",\n",
      "<             \"cors_rule\": [],\n",
      "<             \"force_destroy\": true,\n",
      "<             \"grant\": [\n",
      "<               {\n",
      "<                 \"id\": \"968fa2d82a42737a0bed914a047f15154b89bf1bcc8c50a320a36a56c60f1ad1\",\n",
      "<                 \"permissions\": [\n",
      "<                   \"FULL_CONTROL\"\n",
      "<                 ],\n",
      "<                 \"type\": \"CanonicalUser\",\n",
      "<                 \"uri\": \"\"\n",
      "<               }\n",
      "<             ],\n",
      "<             \"hosted_zone_id\": \"Z2F56UZL2M1ACD\",\n",
      "<             \"id\": \"20230109-mjbrightctest\",\n"
     ]
    },
    {
     "ename": "",
     "evalue": "1",
     "output_type": "error",
     "traceback": []
    }
   ],
   "source": [
    "#EXCLUDE\n",
    "\n",
    "#terraform init --backend=false -migrate-state\n",
    "\n",
    "ls -al terraform.tfstate*\n",
    "\n",
    "diff terraform.tfstate terraform.tfstate.localcopy"
   ]
  },
  {
   "cell_type": "markdown",
   "id": "8617377d",
   "metadata": {},
   "source": [
    "\n",
    "### In case of errors\n",
    "\n",
    "If you hit errors reverting to a local state, perform the following steps:\n",
    "\n",
    "**Note:** This assumes that you have TF_DATA_DIR exported as ~/dot.terraform\n",
    "\n",
    "```\n",
    "mv ~/dot.terraform/terraform.tfstate ~/dot.terraform/terraform.tfstate.remote.backup\n",
    "\n",
    "terraform init\n",
    "```"
   ]
  },
  {
   "cell_type": "code",
   "execution_count": 29,
   "id": "constant-journey",
   "metadata": {},
   "outputs": [
    {
     "name": "stdout",
     "output_type": "stream",
     "text": [
      "aws_dynamodb_table.terraform_locks\n",
      "aws_s3_bucket.remote_state\n",
      "aws_s3_bucket.test_bucket\n"
     ]
    }
   ],
   "source": [
    "terraform state list"
   ]
  },
  {
   "cell_type": "markdown",
   "id": "biblical-hybrid",
   "metadata": {},
   "source": [
    "### 10. Cleanup"
   ]
  },
  {
   "cell_type": "markdown",
   "id": "completed-costa",
   "metadata": {},
   "source": [
    "Now destroy the formerly created AWS S3 bucket and dynamoDB table"
   ]
  },
  {
   "cell_type": "code",
   "execution_count": 30,
   "id": "understood-convertible",
   "metadata": {
    "scrolled": false
   },
   "outputs": [
    {
     "name": "stdout",
     "output_type": "stream",
     "text": [
      "\u001b[0m\u001b[1maws_dynamodb_table.terraform_locks: Refreshing state... [id=dynamodb-lock]\u001b[0m\n",
      "\u001b[0m\u001b[1maws_s3_bucket.test_bucket: Refreshing state... [id=20230109-mjbrightctest]\u001b[0m\n",
      "\u001b[0m\u001b[1maws_s3_bucket.remote_state: Refreshing state... [id=20230109-mjbrightc]\u001b[0m\n",
      "\n",
      "Terraform used the selected providers to generate the following execution plan.\n",
      "Resource actions are indicated with the following symbols:\n",
      "  \u001b[31m-\u001b[0m destroy\n",
      "\u001b[0m\n",
      "Terraform will perform the following actions:\n",
      "\n",
      "\u001b[1m  # aws_dynamodb_table.terraform_locks\u001b[0m will be \u001b[1m\u001b[31mdestroyed\u001b[0m\u001b[0m\n",
      "\u001b[0m  \u001b[31m-\u001b[0m\u001b[0m resource \"aws_dynamodb_table\" \"terraform_locks\" {\n",
      "      \u001b[31m-\u001b[0m \u001b[0m\u001b[1m\u001b[0marn\u001b[0m\u001b[0m            = \"arn:aws:dynamodb:us-west-1:816376574968:table/dynamodb-lock\" \u001b[90m->\u001b[0m \u001b[0m\u001b[90mnull\u001b[0m\u001b[0m\n",
      "      \u001b[31m-\u001b[0m \u001b[0m\u001b[1m\u001b[0mbilling_mode\u001b[0m\u001b[0m   = \"PROVISIONED\" \u001b[90m->\u001b[0m \u001b[0m\u001b[90mnull\u001b[0m\u001b[0m\n",
      "      \u001b[31m-\u001b[0m \u001b[0m\u001b[1m\u001b[0mhash_key\u001b[0m\u001b[0m       = \"LockID\" \u001b[90m->\u001b[0m \u001b[0m\u001b[90mnull\u001b[0m\u001b[0m\n",
      "      \u001b[31m-\u001b[0m \u001b[0m\u001b[1m\u001b[0mid\u001b[0m\u001b[0m             = \"dynamodb-lock\" \u001b[90m->\u001b[0m \u001b[0m\u001b[90mnull\u001b[0m\u001b[0m\n",
      "      \u001b[31m-\u001b[0m \u001b[0m\u001b[1m\u001b[0mname\u001b[0m\u001b[0m           = \"dynamodb-lock\" \u001b[90m->\u001b[0m \u001b[0m\u001b[90mnull\u001b[0m\u001b[0m\n",
      "      \u001b[31m-\u001b[0m \u001b[0m\u001b[1m\u001b[0mread_capacity\u001b[0m\u001b[0m  = 1 \u001b[90m->\u001b[0m \u001b[0m\u001b[90mnull\u001b[0m\u001b[0m\n",
      "      \u001b[31m-\u001b[0m \u001b[0m\u001b[1m\u001b[0mstream_enabled\u001b[0m\u001b[0m = false \u001b[90m->\u001b[0m \u001b[0m\u001b[90mnull\u001b[0m\u001b[0m\n",
      "      \u001b[31m-\u001b[0m \u001b[0m\u001b[1m\u001b[0mtags\u001b[0m\u001b[0m           = {\n",
      "          \u001b[31m-\u001b[0m \u001b[0m\"LabName\" = \"6.StoringPersistentStates\"\n",
      "        } \u001b[90m->\u001b[0m \u001b[0m\u001b[90mnull\u001b[0m\u001b[0m\n",
      "      \u001b[31m-\u001b[0m \u001b[0m\u001b[1m\u001b[0mtags_all\u001b[0m\u001b[0m       = {\n",
      "          \u001b[31m-\u001b[0m \u001b[0m\"LabName\" = \"6.StoringPersistentStates\"\n",
      "        } \u001b[90m->\u001b[0m \u001b[0m\u001b[90mnull\u001b[0m\u001b[0m\n",
      "      \u001b[31m-\u001b[0m \u001b[0m\u001b[1m\u001b[0mwrite_capacity\u001b[0m\u001b[0m = 1 \u001b[90m->\u001b[0m \u001b[0m\u001b[90mnull\u001b[0m\u001b[0m\n",
      "\n",
      "      \u001b[31m-\u001b[0m \u001b[0mattribute {\n",
      "          \u001b[31m-\u001b[0m \u001b[0m\u001b[1m\u001b[0mname\u001b[0m\u001b[0m = \"LockID\" \u001b[90m->\u001b[0m \u001b[0m\u001b[90mnull\u001b[0m\u001b[0m\n",
      "          \u001b[31m-\u001b[0m \u001b[0m\u001b[1m\u001b[0mtype\u001b[0m\u001b[0m = \"S\" \u001b[90m->\u001b[0m \u001b[0m\u001b[90mnull\u001b[0m\u001b[0m\n",
      "        }\n",
      "\n",
      "      \u001b[31m-\u001b[0m \u001b[0mpoint_in_time_recovery {\n",
      "          \u001b[31m-\u001b[0m \u001b[0m\u001b[1m\u001b[0menabled\u001b[0m\u001b[0m = false \u001b[90m->\u001b[0m \u001b[0m\u001b[90mnull\u001b[0m\u001b[0m\n",
      "        }\n",
      "\n",
      "      \u001b[31m-\u001b[0m \u001b[0mttl {\n",
      "          \u001b[31m-\u001b[0m \u001b[0m\u001b[1m\u001b[0menabled\u001b[0m\u001b[0m = false \u001b[90m->\u001b[0m \u001b[0m\u001b[90mnull\u001b[0m\u001b[0m\n",
      "        }\n",
      "    }\n",
      "\n",
      "\u001b[1m  # aws_s3_bucket.remote_state\u001b[0m will be \u001b[1m\u001b[31mdestroyed\u001b[0m\u001b[0m\n",
      "\u001b[0m  \u001b[31m-\u001b[0m\u001b[0m resource \"aws_s3_bucket\" \"remote_state\" {\n",
      "      \u001b[31m-\u001b[0m \u001b[0m\u001b[1m\u001b[0marn\u001b[0m\u001b[0m                         = \"arn:aws:s3:::20230109-mjbrightc\" \u001b[90m->\u001b[0m \u001b[0m\u001b[90mnull\u001b[0m\u001b[0m\n",
      "      \u001b[31m-\u001b[0m \u001b[0m\u001b[1m\u001b[0mbucket\u001b[0m\u001b[0m                      = \"20230109-mjbrightc\" \u001b[90m->\u001b[0m \u001b[0m\u001b[90mnull\u001b[0m\u001b[0m\n",
      "      \u001b[31m-\u001b[0m \u001b[0m\u001b[1m\u001b[0mbucket_domain_name\u001b[0m\u001b[0m          = \"20230109-mjbrightc.s3.amazonaws.com\" \u001b[90m->\u001b[0m \u001b[0m\u001b[90mnull\u001b[0m\u001b[0m\n",
      "      \u001b[31m-\u001b[0m \u001b[0m\u001b[1m\u001b[0mbucket_regional_domain_name\u001b[0m\u001b[0m = \"20230109-mjbrightc.s3.us-west-1.amazonaws.com\" \u001b[90m->\u001b[0m \u001b[0m\u001b[90mnull\u001b[0m\u001b[0m\n",
      "      \u001b[31m-\u001b[0m \u001b[0m\u001b[1m\u001b[0mforce_destroy\u001b[0m\u001b[0m               = true \u001b[90m->\u001b[0m \u001b[0m\u001b[90mnull\u001b[0m\u001b[0m\n",
      "      \u001b[31m-\u001b[0m \u001b[0m\u001b[1m\u001b[0mhosted_zone_id\u001b[0m\u001b[0m              = \"Z2F56UZL2M1ACD\" \u001b[90m->\u001b[0m \u001b[0m\u001b[90mnull\u001b[0m\u001b[0m\n",
      "      \u001b[31m-\u001b[0m \u001b[0m\u001b[1m\u001b[0mid\u001b[0m\u001b[0m                          = \"20230109-mjbrightc\" \u001b[90m->\u001b[0m \u001b[0m\u001b[90mnull\u001b[0m\u001b[0m\n",
      "      \u001b[31m-\u001b[0m \u001b[0m\u001b[1m\u001b[0mobject_lock_enabled\u001b[0m\u001b[0m         = false \u001b[90m->\u001b[0m \u001b[0m\u001b[90mnull\u001b[0m\u001b[0m\n",
      "      \u001b[31m-\u001b[0m \u001b[0m\u001b[1m\u001b[0mregion\u001b[0m\u001b[0m                      = \"us-west-1\" \u001b[90m->\u001b[0m \u001b[0m\u001b[90mnull\u001b[0m\u001b[0m\n",
      "      \u001b[31m-\u001b[0m \u001b[0m\u001b[1m\u001b[0mrequest_payer\u001b[0m\u001b[0m               = \"BucketOwner\" \u001b[90m->\u001b[0m \u001b[0m\u001b[90mnull\u001b[0m\u001b[0m\n",
      "      \u001b[31m-\u001b[0m \u001b[0m\u001b[1m\u001b[0mtags\u001b[0m\u001b[0m                        = {\n",
      "          \u001b[31m-\u001b[0m \u001b[0m\"LabName\" = \"6.StoringPersistentStates\"\n",
      "        } \u001b[90m->\u001b[0m \u001b[0m\u001b[90mnull\u001b[0m\u001b[0m\n",
      "      \u001b[31m-\u001b[0m \u001b[0m\u001b[1m\u001b[0mtags_all\u001b[0m\u001b[0m                    = {\n",
      "          \u001b[31m-\u001b[0m \u001b[0m\"LabName\" = \"6.StoringPersistentStates\"\n",
      "        } \u001b[90m->\u001b[0m \u001b[0m\u001b[90mnull\u001b[0m\u001b[0m\n",
      "\n",
      "      \u001b[31m-\u001b[0m \u001b[0mgrant {\n",
      "          \u001b[31m-\u001b[0m \u001b[0m\u001b[1m\u001b[0mid\u001b[0m\u001b[0m          = \"968fa2d82a42737a0bed914a047f15154b89bf1bcc8c50a320a36a56c60f1ad1\" \u001b[90m->\u001b[0m \u001b[0m\u001b[90mnull\u001b[0m\u001b[0m\n",
      "          \u001b[31m-\u001b[0m \u001b[0m\u001b[1m\u001b[0mpermissions\u001b[0m\u001b[0m = [\n",
      "              \u001b[31m-\u001b[0m \u001b[0m\"FULL_CONTROL\",\n",
      "            ] \u001b[90m->\u001b[0m \u001b[0m\u001b[90mnull\u001b[0m\u001b[0m\n",
      "          \u001b[31m-\u001b[0m \u001b[0m\u001b[1m\u001b[0mtype\u001b[0m\u001b[0m        = \"CanonicalUser\" \u001b[90m->\u001b[0m \u001b[0m\u001b[90mnull\u001b[0m\u001b[0m\n",
      "        }\n",
      "\n",
      "      \u001b[31m-\u001b[0m \u001b[0mversioning {\n",
      "          \u001b[31m-\u001b[0m \u001b[0m\u001b[1m\u001b[0menabled\u001b[0m\u001b[0m    = false \u001b[90m->\u001b[0m \u001b[0m\u001b[90mnull\u001b[0m\u001b[0m\n",
      "          \u001b[31m-\u001b[0m \u001b[0m\u001b[1m\u001b[0mmfa_delete\u001b[0m\u001b[0m = false \u001b[90m->\u001b[0m \u001b[0m\u001b[90mnull\u001b[0m\u001b[0m\n",
      "        }\n",
      "    }\n",
      "\n",
      "\u001b[1m  # aws_s3_bucket.test_bucket\u001b[0m will be \u001b[1m\u001b[31mdestroyed\u001b[0m\u001b[0m\n",
      "\u001b[0m  \u001b[31m-\u001b[0m\u001b[0m resource \"aws_s3_bucket\" \"test_bucket\" {\n",
      "      \u001b[31m-\u001b[0m \u001b[0m\u001b[1m\u001b[0marn\u001b[0m\u001b[0m                         = \"arn:aws:s3:::20230109-mjbrightctest\" \u001b[90m->\u001b[0m \u001b[0m\u001b[90mnull\u001b[0m\u001b[0m\n",
      "      \u001b[31m-\u001b[0m \u001b[0m\u001b[1m\u001b[0mbucket\u001b[0m\u001b[0m                      = \"20230109-mjbrightctest\" \u001b[90m->\u001b[0m \u001b[0m\u001b[90mnull\u001b[0m\u001b[0m\n",
      "      \u001b[31m-\u001b[0m \u001b[0m\u001b[1m\u001b[0mbucket_domain_name\u001b[0m\u001b[0m          = \"20230109-mjbrightctest.s3.amazonaws.com\" \u001b[90m->\u001b[0m \u001b[0m\u001b[90mnull\u001b[0m\u001b[0m\n",
      "      \u001b[31m-\u001b[0m \u001b[0m\u001b[1m\u001b[0mbucket_regional_domain_name\u001b[0m\u001b[0m = \"20230109-mjbrightctest.s3.us-west-1.amazonaws.com\" \u001b[90m->\u001b[0m \u001b[0m\u001b[90mnull\u001b[0m\u001b[0m\n",
      "      \u001b[31m-\u001b[0m \u001b[0m\u001b[1m\u001b[0mforce_destroy\u001b[0m\u001b[0m               = true \u001b[90m->\u001b[0m \u001b[0m\u001b[90mnull\u001b[0m\u001b[0m\n",
      "      \u001b[31m-\u001b[0m \u001b[0m\u001b[1m\u001b[0mhosted_zone_id\u001b[0m\u001b[0m              = \"Z2F56UZL2M1ACD\" \u001b[90m->\u001b[0m \u001b[0m\u001b[90mnull\u001b[0m\u001b[0m\n",
      "      \u001b[31m-\u001b[0m \u001b[0m\u001b[1m\u001b[0mid\u001b[0m\u001b[0m                          = \"20230109-mjbrightctest\" \u001b[90m->\u001b[0m \u001b[0m\u001b[90mnull\u001b[0m\u001b[0m\n",
      "      \u001b[31m-\u001b[0m \u001b[0m\u001b[1m\u001b[0mobject_lock_enabled\u001b[0m\u001b[0m         = false \u001b[90m->\u001b[0m \u001b[0m\u001b[90mnull\u001b[0m\u001b[0m\n",
      "      \u001b[31m-\u001b[0m \u001b[0m\u001b[1m\u001b[0mregion\u001b[0m\u001b[0m                      = \"us-west-1\" \u001b[90m->\u001b[0m \u001b[0m\u001b[90mnull\u001b[0m\u001b[0m\n",
      "      \u001b[31m-\u001b[0m \u001b[0m\u001b[1m\u001b[0mrequest_payer\u001b[0m\u001b[0m               = \"BucketOwner\" \u001b[90m->\u001b[0m \u001b[0m\u001b[90mnull\u001b[0m\u001b[0m\n",
      "      \u001b[31m-\u001b[0m \u001b[0m\u001b[1m\u001b[0mtags\u001b[0m\u001b[0m                        = {\n",
      "          \u001b[31m-\u001b[0m \u001b[0m\"LabName\" = \"6.StoringPersistentStates\"\n",
      "        } \u001b[90m->\u001b[0m \u001b[0m\u001b[90mnull\u001b[0m\u001b[0m\n",
      "      \u001b[31m-\u001b[0m \u001b[0m\u001b[1m\u001b[0mtags_all\u001b[0m\u001b[0m                    = {\n",
      "          \u001b[31m-\u001b[0m \u001b[0m\"LabName\" = \"6.StoringPersistentStates\"\n",
      "        } \u001b[90m->\u001b[0m \u001b[0m\u001b[90mnull\u001b[0m\u001b[0m\n",
      "\n",
      "      \u001b[31m-\u001b[0m \u001b[0mgrant {\n",
      "          \u001b[31m-\u001b[0m \u001b[0m\u001b[1m\u001b[0mid\u001b[0m\u001b[0m          = \"968fa2d82a42737a0bed914a047f15154b89bf1bcc8c50a320a36a56c60f1ad1\" \u001b[90m->\u001b[0m \u001b[0m\u001b[90mnull\u001b[0m\u001b[0m\n",
      "          \u001b[31m-\u001b[0m \u001b[0m\u001b[1m\u001b[0mpermissions\u001b[0m\u001b[0m = [\n",
      "              \u001b[31m-\u001b[0m \u001b[0m\"FULL_CONTROL\",\n",
      "            ] \u001b[90m->\u001b[0m \u001b[0m\u001b[90mnull\u001b[0m\u001b[0m\n",
      "          \u001b[31m-\u001b[0m \u001b[0m\u001b[1m\u001b[0mtype\u001b[0m\u001b[0m        = \"CanonicalUser\" \u001b[90m->\u001b[0m \u001b[0m\u001b[90mnull\u001b[0m\u001b[0m\n",
      "        }\n",
      "\n",
      "      \u001b[31m-\u001b[0m \u001b[0mversioning {\n",
      "          \u001b[31m-\u001b[0m \u001b[0m\u001b[1m\u001b[0menabled\u001b[0m\u001b[0m    = false \u001b[90m->\u001b[0m \u001b[0m\u001b[90mnull\u001b[0m\u001b[0m\n",
      "          \u001b[31m-\u001b[0m \u001b[0m\u001b[1m\u001b[0mmfa_delete\u001b[0m\u001b[0m = false \u001b[90m->\u001b[0m \u001b[0m\u001b[90mnull\u001b[0m\u001b[0m\n",
      "        }\n",
      "    }\n",
      "\n",
      "\u001b[0m\u001b[1mPlan:\u001b[0m 0 to add, 0 to change, 3 to destroy.\n",
      "\u001b[0m\u001b[0m\u001b[1maws_s3_bucket.test_bucket: Destroying... [id=20230109-mjbrightctest]\u001b[0m\u001b[0m\n",
      "\u001b[0m\u001b[1maws_dynamodb_table.terraform_locks: Destroying... [id=dynamodb-lock]\u001b[0m\u001b[0m\n",
      "\u001b[0m\u001b[1maws_s3_bucket.remote_state: Destroying... [id=20230109-mjbrightc]\u001b[0m\u001b[0m\n",
      "\u001b[0m\u001b[1maws_s3_bucket.test_bucket: Destruction complete after 0s\u001b[0m\n",
      "\u001b[0m\u001b[1maws_s3_bucket.remote_state: Destruction complete after 2s\u001b[0m\n",
      "\u001b[0m\u001b[1maws_dynamodb_table.terraform_locks: Destruction complete after 4s\u001b[0m\n",
      "\u001b[0m\u001b[1m\u001b[32m\n",
      "Destroy complete! Resources: 3 destroyed.\n",
      "\u001b[0m\n"
     ]
    }
   ],
   "source": [
    "TF_DESTROY"
   ]
  },
  {
   "cell_type": "code",
   "execution_count": 31,
   "id": "graduate-survival",
   "metadata": {},
   "outputs": [],
   "source": [
    "terraform state list"
   ]
  },
  {
   "cell_type": "code",
   "execution_count": 32,
   "id": "665ff51d",
   "metadata": {},
   "outputs": [
    {
     "name": "stdout",
     "output_type": "stream",
     "text": [
      "2023-Jan-09:[TF-1.3.7] Lab updated on node tf[terraform 1.3.7]\n"
     ]
    },
    {
     "ename": "",
     "evalue": "1",
     "output_type": "error",
     "traceback": []
    }
   ],
   "source": [
    "EXCL_FN_LAB_ENV"
   ]
  },
  {
   "cell_type": "markdown",
   "id": "universal-gilbert",
   "metadata": {},
   "source": [
    "<hr/>\n",
    "\n",
    "<!-- Why does this no longer work ??\n",
    "<img src=\"../../../static/images/ThickBlueBar.png\" />\n",
    "<img src=\"../../../static/images/LOGO.jpg\" width=200 />\n",
    "-->\n",
    "\n",
    "<img src=\"../images/ThickBlueBar.png\" />\n",
    "<img src=\"../images/LOGO.jpg\" width=200 />"
   ]
  },
  {
   "cell_type": "markdown",
   "id": "29e944f7",
   "metadata": {},
   "source": [
    "# --EXCLUDE--SECTION--\n",
    "\n",
    "## **NOTE:** Save notebook first\n",
    "\n",
    "<div id=\"END\" /> <a href=\"#TOP\" > TOP OF PAGE </a>  <!-- must appear after EXCLUDE pragma !! -->"
   ]
  },
  {
   "cell_type": "code",
   "execution_count": 3,
   "id": "f73a7122",
   "metadata": {
    "scrolled": false
   },
   "outputs": [
    {
     "name": "stdout",
     "output_type": "stream",
     "text": [
      "/home/student/src/mjbright.tf-scenarios-private/ServeUpLabs/content/tf-labs/6.StoringPersistentStates\n",
      "\n",
      "==== Filtering current notebook [/home/student/src/mjbright.tf-scenarios-private/ServeUpLabs/content/tf-labs/6.StoringPersistentStates/README.ipynb] ====\n",
      "\n",
      "******** Tue 07 Jun 2022 04:06:08 PM UTC: Notebook filtered on ip-172-26-29-85 TF-LS\n",
      "\n",
      "-- . ~/scripts/nbtool.rc\n",
      "\n",
      "-- ~/.venv/TRAINING/bin/python3 ~/scripts/nbtool.py -f ~/src/mjbright.tf-scenarios-private/ServeUpLabs/content/tf-labs/6.StoringPersistentStates/README.ipynb\n",
      "---- no VARS_SEEN ----\n",
      "i/p nb has 0 variables\n",
      "/home/student/src/mjbright.tf-scenarios-private/ServeUpLabs/content/tf-labs/6.StoringPersistentStates/README.ipynb:\n",
      "\t#cells=63\n",
      "cells to include[#50]=[[3, 7, 8, 9, 10, 11, 12, 13, 14, 15, 16, 17, 18, 20, 21, 22, 24, 25, 26, 27, 28, 29, 30, 31, 32, 33, 34, 35, 36, 37, 38, 39, 40, 41, 42, 43, 45, 46, 47, 48, 49, 51, 52, 53, 54, 55, 56, 57, 58, 59]]\n",
      "cells to include[#50]=[[59, 58, 57, 56, 55, 54, 53, 52, 51, 49, 48, 47, 46, 45, 43, 42, 41, 40, 39, 38, 37, 36, 35, 34, 33, 32, 31, 30, 29, 28, 27, 26, 25, 24, 22, 21, 20, 18, 17, 16, 15, 14, 13, 12, 11, 10, 9, 8, 7, 3]]\n",
      "included markdown cells=[3, 9, 10, 11, 13, 15, 18, 20, 22, 25, 27, 28, 29, 31, 33, 35, 37, 40, 43, 45, 48, 49, 52, 53, 55, 57, 59]\n",
      "included code     cells=[7, 8, 12, 14, 16, 17, 21, 24, 26, 30, 32, 34, 36, 38, 39, 41, 42, 46, 47, 51, 54, 56, 58]\n",
      "excluded          cells=[0, 1, 2, 4, 5, 6, 19, 23, 44, 50, 60, 61]\n",
      "---- no VARS_SEEN ----\n",
      "o/p nb has 0 variables\n",
      "/home/student/src/mjbright.tf-scenarios-private/ServeUpLabs/content/tf-labs/6.StoringPersistentStates/README.ipynb.filtered.ipynb:\n",
      "\t#cells=50\n",
      "-rw-rw-r-- 1 student student 62454 Jun  7 16:06 README.ipynb.filtered.ipynb\n",
      "\n",
      "1 VAR defs/usages in i/p file: ~/src/mjbright.tf-scenarios-private/ServeUpLabs/content/tf-labs/6.StoringPersistentStates/README.ipynb\n",
      "\n",
      "Good: No VAR defs/usages in o/p file\n",
      "\n",
      "-- jupyter-nbconvert --to markdown README.ipynb.filtered.ipynb\n",
      "[NbConvertApp] Converting notebook README.ipynb.filtered.ipynb to markdown\n",
      "[NbConvertApp] Writing 52640 bytes to README.ipynb.filtered.md\n",
      "\n",
      "\u001b[32m-rw-rw-r-- 1 student student  62454 Jun  7 16:06 Lab_6.StoringPersistentStates.ipynb\u001b[0m\n",
      "\u001b[32m-rw-rw-r-- 1 student student 105336 Jun  7 16:06 Lab_6.StoringPersistentStates.md\u001b[0m\n"
     ]
    }
   ],
   "source": [
    "set +x\n",
    ". ~/scripts/nbtool.rc\n",
    "pwd\n",
    "#NB_DIR=$PWD\n",
    "#echo NB=$NB\n",
    "#echo NB_DIR=$NB_DIR\n",
    "#set -x\n",
    "set +x\n",
    "EXCL_FN_FILTER_NOTEBOOK $NB"
   ]
  },
  {
   "cell_type": "code",
   "execution_count": null,
   "id": "b25de885",
   "metadata": {},
   "outputs": [],
   "source": []
  }
 ],
 "metadata": {
  "kernelspec": {
   "display_name": "Bash",
   "language": "bash",
   "name": "bash"
  },
  "language_info": {
   "codemirror_mode": "shell",
   "file_extension": ".sh",
   "mimetype": "text/x-sh",
   "name": "bash"
  }
 },
 "nbformat": 4,
 "nbformat_minor": 5
}
