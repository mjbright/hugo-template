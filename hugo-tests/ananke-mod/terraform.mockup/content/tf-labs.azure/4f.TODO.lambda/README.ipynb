{
 "cells": [
  {
   "cell_type": "markdown",
   "id": "complimentary-israeli",
   "metadata": {},
   "source": [
    "# Adapted from https://gist.github.com/smithclay/e026b10980214cbe95600b82f67b4958\n",
    "\n",
    "Look also at:\n",
    "- https://seanmcgary.com/posts/how-to-deploy-an-aws-lambda-with-terraform/\n",
    "- https://mycloudology.com/lambda-terraform-example/\n",
    "- https://blog.wescale.fr/2018/02/01/tutoriel-architecture-serverless-avec-aws-lambda-et-terraform/"
   ]
  }
 ],
 "metadata": {
  "kernelspec": {
   "display_name": "Bash",
   "language": "bash",
   "name": "bash"
  },
  "language_info": {
   "codemirror_mode": "shell",
   "file_extension": ".sh",
   "mimetype": "text/x-sh",
   "name": "bash"
  }
 },
 "nbformat": 4,
 "nbformat_minor": 5
}
