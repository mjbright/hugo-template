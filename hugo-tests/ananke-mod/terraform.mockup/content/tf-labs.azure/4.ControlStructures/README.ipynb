{
 "cells": [
  {
   "cell_type": "markdown",
   "id": "ad45a03a",
   "metadata": {},
   "source": [
    "<div id=\"TOP\" />\n",
    "<a href=\"#END\" > END of Notebook (filter) </a>\n",
    "\n",
    "$__ A BOX $\n",
    "<div class=\"alert alert-info\"> <b>Info</b>  - an info </div>\n",
    "<div class=\"alert alert-warning\"> <b>Info</b>  - a warning </div>\n",
    "<div class=\"alert alert-danger\"> <b>Info</b>  - an danger </div>"
   ]
  },
  {
   "cell_type": "code",
   "execution_count": 1,
   "id": "7fc2347c",
   "metadata": {},
   "outputs": [
    {
     "name": "stdout",
     "output_type": "stream",
     "text": [
      "==== Reading nbtool functions from '/home/student/scripts/nbtool.rc' ====\n",
      "TF-1.3.7 -rw-rw-r-- 1 student student 9 Jan  8 19:18 /home/student/.environment\n",
      "Reading package lists... 0%Reading package lists... 100%Reading package lists... Done\n",
      "Building dependency tree... 0%Building dependency tree... 0%Building dependency tree... 50%Building dependency tree... 50%Building dependency tree       \n",
      "Reading state information... 0%Reading state information... 0%Reading state information... Done\n",
      "sysvbanner is already the newest version (1:1.0-17fakesync1).\n",
      "The following packages were automatically installed and are no longer required:\n",
      "  linux-headers-5.4.0-120 linux-headers-5.4.0-120-generic\n",
      "  linux-image-5.4.0-120-generic linux-modules-5.4.0-120-generic\n",
      "Use 'sudo apt autoremove' to remove them.\n",
      "0 upgraded, 0 newly installed, 0 to remove and 0 not upgraded.\n",
      "\n",
      "******** Mon 09 Jan 2023 02:34:58 PM UTC: Notebook initialized on tf TF-1.3.7\n",
      "\n",
      "\u001b[01;31m\u001b[KNB_DIR=/home/student/src/tf-labs/4.ControlStructures\u001b[m\u001b[K\n",
      "\n",
      "==== Setting TF_DATA_DIR ====\n",
      "TF_DATA_DIR\u001b[01;31m\u001b[K=/home/student/dot.terraform\u001b[m\u001b[K\n",
      "\n",
      "==== Setting AWS vars for student20 account ====\n",
      "bash: /home/student/.aws/linked/student20.rc: No such file or directory\n",
      "==== Terraform Lab \u001b[01;31m\u001b[Kweight[40] / tag[4.ControlStructures] / name[Lab 4.ControlStructures] ====\u001b[m\u001b[K\n",
      "NB_DIR=/home/student/src/tf-labs/4.ControlStructures\n",
      "NB=/home/student/src/tf-labs/4.ControlStructures/README.ipynb\n",
      "\n",
      "==== Filtering current notebook [/home/student/src/tf-labs/4.ControlStructures/README.ipynb] ====\n",
      "\n",
      "******** Mon 09 Jan 2023 02:34:58 PM UTC: Notebook filtered on tf TF-1.3.7\n",
      "\n",
      "mv: cannot move '/home/student/Solutions/Lab' to '/home/student/Solutions/BAK/Lab': Directory not empty\n",
      "-- . ~/scripts/nbtool.rc\n",
      "TF-1.3.7 -rw-rw-r-- 1 student student 9 Jan  8 19:18 /home/student/.environment\n",
      "Reading package lists... 0%Reading package lists... 100%Reading package lists... Done\n",
      "Building dependency tree... 0%Building dependency tree... 0%Building dependency tree... 50%Building dependency tree... 50%Building dependency tree       \n",
      "Reading state information... 0%Reading state information... 0%Reading state information... Done\n",
      "sysvbanner is already the newest version (1:1.0-17fakesync1).\n",
      "The following packages were automatically installed and are no longer required:\n",
      "  linux-headers-5.4.0-120 linux-headers-5.4.0-120-generic\n",
      "  linux-image-5.4.0-120-generic linux-modules-5.4.0-120-generic\n",
      "Use 'sudo apt autoremove' to remove them.\n",
      "0 upgraded, 0 newly installed, 0 to remove and 0 not upgraded.\n",
      "/home/student/.venv/TRAINING/bin/python3\n",
      "\n",
      "-- ~/.venv/TRAINING/bin/python3 ~/scripts/nbtool.py -f ~/src/tf-labs/4.ControlStructures/README.ipynb\n",
      "---- no VARS_SEEN ----\n",
      "i/p nb has 0 variables\n",
      "/home/student/src/tf-labs/4.ControlStructures/README.ipynb:\n",
      "\t#cells=39\n",
      "cells to include[#29]=[[4, 5, 7, 8, 9, 10, 11, 12, 13, 14, 15, 16, 17, 18, 19, 20, 21, 22, 23, 24, 25, 26, 27, 28, 29, 30, 31, 32, 33]]\n",
      "cells to include[#29]=[[33, 32, 31, 30, 29, 28, 27, 26, 25, 24, 23, 22, 21, 20, 19, 18, 17, 16, 15, 14, 13, 12, 11, 10, 9, 8, 7, 5, 4]]\n",
      "included markdown cells=[5, 8, 10, 11, 13, 15, 17, 19, 21, 23, 25, 27, 29, 31, 32]\n",
      "included code     cells=[4, 7, 9, 12, 14, 16, 18, 20, 22, 24, 26, 28, 30, 33]\n",
      "excluded          cells=[0, 1, 2, 3, 6, 34, 35, 36, 37]\n",
      "---- no VARS_SEEN ----\n",
      "o/p nb has 0 variables\n",
      "/home/student/src/tf-labs/4.ControlStructures/README.ipynb.filtered.ipynb:\n",
      "\t#cells=29\n",
      "-rw-rw-r-- 1 student student 34806 Jan  9 14:34 README.ipynb.filtered.ipynb\n",
      "\n",
      "1 VAR defs/usages in i/p file: ~/src/tf-labs/4.ControlStructures/README.ipynb\n",
      "\n",
      "Good: No VAR defs/usages in o/p file\n",
      "\n",
      "-- jupyter-nbconvert --to markdown README.ipynb.filtered.ipynb\n",
      "[NbConvertApp] Converting notebook README.ipynb.filtered.ipynb to markdown\n",
      "[NbConvertApp] Writing 28451 bytes to README.ipynb.filtered.md\n",
      "\n",
      "-- jupyter-nbconvert --to html README.ipynb.filtered.ipynb\n",
      "[NbConvertApp] Converting notebook README.ipynb.filtered.ipynb to html\n",
      "[NbConvertApp] Writing 628084 bytes to README.ipynb.filtered.html\n",
      "\n",
      "\u001b[32m-rw-rw-r-- 1 student student 34806 Jan  9 14:34 Lab_4.ControlStructures.ipynb\u001b[0m\n",
      "\u001b[32m-rw-rw-r-- 1 student student 57266 Jan  9 14:35 Lab_4.ControlStructures.md\u001b[0m\n"
     ]
    }
   ],
   "source": [
    "#cd ~/nb/2022-Terraform/content/tf-labs/4.ControlStructures/\n",
    "cd ~/src/tf-labs/4.ControlStructures/\n",
    "\n",
    "# -- CONFIG ------------------------------------\n",
    "LAB_TAG=${PWD##*/} \n",
    "LAB_NAME=\"TFI_Azure_Lab4.ControlStructures\"\n",
    "LAB_WEIGHT=40\n",
    "LAB_MODE=\"Terraform\"\n",
    "export MAX_LINE_LEN=80\n",
    "# ----------------------------------------------\n",
    "\n",
    "DIE() { echo \"[$PWD] Error: $*\"; banner \"ERROR\"; exit 1; }\n",
    "NBTOOL_RC=~/scripts/nbtool.rc; [ ! -f $NBTOOL_RC ] && DIE \"No such script as $NBTOOL_RC\"\n",
    "echo \"==== Reading nbtool functions from '$NBTOOL_RC' ====\"; . $NBTOOL_RC\n",
    "EXCL_FN_INIT_NOTEBOOK\n",
    "## --INCLUDE--SECTION--\n",
    "## --EXCLUDE--SECTION--"
   ]
  },
  {
   "cell_type": "markdown",
   "id": "bcf63718",
   "metadata": {},
   "source": [
    "#EXCLUDE\n",
    "NB_DIR=$PWD\n",
    "rm -rf ~/tmp/terraform*\n",
    "#rm -rf ~/labs\n",
    "\n",
    "FRONTMATTER=$(cat <<END_HEREDOC\n",
    "---\n",
    "title: 'Lab 4.ControlStructures'\n",
    "date: 2019-02-11T19:27:37+10:00\n",
    "weight: 40\n",
    "---\n",
    "\n",
    "END_HEREDOC\n",
    ")\n",
    "\n",
    "\n",
    "echo\n",
    "echo \"==== Reading nbtool functions ====\"\n",
    ". ~/bin/nbtool.rc\n",
    "\n",
    "echo\n",
    "echo \"==== Setting Exercise tag ====\"\n",
    "LABTAG=${PWD##*/}\n",
    "#LABTAB=\"4.ControlStructures\"\n",
    "echo \"LABTAG=$LAB_TAG\" | EXCL_FN_HIGHLIGHT_EOL =\n",
    "\n",
    "echo\n",
    "echo \"==== Setting TF_DATA_DIR ====\"\n",
    "export TF_DATA_DIR=~/dot.terraform\n",
    "echo \"TF_DATA_DIR=$TF_DATA_DIR\" | EXCL_FN_HIGHLIGHT_EOL =\n",
    "\n",
    "NO_EXEC echo SHOULD NOT BE SEEN | EXCL_FN_HIGHLIGHT_SOL SHOULD\n",
    "EXEC    echo SHOULD BE SEEN     | EXCL_FN_HIGHLIGHT_SOL SHOULD\n",
    "\n",
    "# echo\n",
    "# echo \"==== Filtering current notebook ====\"\n",
    "#\n",
    "# EXCL_FN_FILTER_NOTEBOOK index.ipynb\n",
    "\n",
    "echo\n",
    "echo \"==== Setting AWS vars for student20 account ====\"\n",
    ". ~/.aws/linked/student20.rc\n",
    "env | grep MYAWS_ACCOUNT_NAME= | EXCL_FN_HIGHLIGHT_EOL ="
   ]
  },
  {
   "cell_type": "markdown",
   "id": "flush-waterproof",
   "metadata": {},
   "source": [
    "# --INCLUDE--SECTION--"
   ]
  },
  {
   "cell_type": "code",
   "execution_count": 2,
   "id": "824c8ff0",
   "metadata": {},
   "outputs": [
    {
     "name": "stdout",
     "output_type": "stream",
     "text": [
      "2023-Jan-09:[TF-1.3.7] Lab updated on node tf[terraform 1.3.7]\n"
     ]
    },
    {
     "ename": "",
     "evalue": "1",
     "output_type": "error",
     "traceback": []
    }
   ],
   "source": [
    "EXCL_FN_LAB_ENV 0"
   ]
  },
  {
   "cell_type": "markdown",
   "id": "general-tiffany",
   "metadata": {},
   "source": [
    "## Background:\n",
    "\n",
    "Here, we learn how to create and use terraform list data structures. We will learn now to create them and how to extract individual elements of the lists.\n",
    "\n",
    "We will also show how we can output all values of each list.\n",
    "\n",
    "## Tasks:\n",
    "### 1. Make a directory called ‘lab4’ underneath the labs directory.\n",
    "### 2. Change into the directory.\n",
    "### 3. Create the following files: main.tf, resources.tf, vars.tf\n",
    "\n",
    "The contents of main.tf should be:"
   ]
  },
  {
   "cell_type": "code",
   "execution_count": 3,
   "id": "thirty-chair",
   "metadata": {
    "attributes": {
     "classes": [
      "tf"
     ],
     "id": ""
    }
   },
   "outputs": [],
   "source": [
    "#EXCLUDE:\n",
    "\n",
    "mkdir -p ~/labs/lab4\n",
    "cd  ~/labs/lab4\n",
    "\n",
    "cat > provider.tf <<EOF\n",
    "\n",
    "terraform {\n",
    "  required_version = \">= 1.1.0\"\n",
    "\n",
    "  required_providers {\n",
    "    aws = {\n",
    "      version = \"~> 4.0\"\n",
    "    }\n",
    "  }\n",
    "}\n",
    "\n",
    "provider \"aws\" {\n",
    "  region = var.region\n",
    "\n",
    "  default_tags {\n",
    "    tags = {\n",
    "      Environment = \"Terraform Introduction\"\n",
    "    }\n",
    "  }\n",
    "}\n",
    "\n",
    "EOF\n",
    "\n",
    "cat > resources.tf <<EOF\n",
    "resource \"aws_vpc\" \"main_vpc\" {\n",
    "  cidr_block       = var.vpc_cidr\n",
    "  instance_tenancy = \"default\"\n",
    "\n",
    "  tags = {\n",
    "    Name     = \"Main\"\n",
    "    Location = \"London\"\n",
    "    LabName  = \"$LAB_TAG\"\n",
    "  }\n",
    "}\n",
    "\n",
    "resource \"aws_subnet\" \"vpc_subnets\" {\n",
    "  count = length(var.aws_availability_zones)\n",
    "\n",
    "  vpc_id            = aws_vpc.main_vpc.id\n",
    "\n",
    "  cidr_block        = var.vpc_subnet_cidr[count.index]\n",
    "\n",
    "  availability_zone = var.aws_availability_zones[count.index]\n",
    "\n",
    "  tags = {\n",
    "    Name    = \"subnet-\\${count.index+1}\"\n",
    "    LabName = \"$LAB_TAG\"\n",
    "  }\n",
    "}\n",
    "EOF\n",
    "\n",
    "cat > vars.tf <<EOF\n",
    "variable \"region\" {\n",
    "  default = \"us-west-1\"\n",
    "}\n",
    "variable \"vpc_cidr\" {\n",
    "  default = \"192.168.0.0/16\"\n",
    "}\n",
    "variable \"vpc_subnet_cidr\" {\n",
    "  type = list\n",
    "  default = [\"192.168.100.0/24\",\"192.168.101.0/24\",\"192.168.102.0/24\"]\n",
    "}\n",
    "variable \"ami_instance\" {\n",
    "  default = \"ami-0ac019f4fcb7cb7e6\"\n",
    "}\n",
    "variable \"ami_instance_type\" {\n",
    "  default = \"t2.micro\"\n",
    "}\n",
    "variable \"aws_availability_zones\" {\n",
    "  type = list\n",
    "\n",
    "  # Remove us-west-1a:\n",
    "  # default = [\"us-west-1a\",\"us-west-1b\",\"us-west-1c\"]\n",
    "  default = [\"us-west-1b\",\"us-west-1c\"]\n",
    "}\n",
    "EOF\n",
    "\n",
    "cat > outputs.tf <<EOF\n",
    "output subnets { value = aws_subnet.vpc_subnets[*].cidr_block }\n",
    "output zones   { value = aws_subnet.vpc_subnets[*].availability_zone }\n",
    "EOF"
   ]
  },
  {
   "cell_type": "code",
   "execution_count": 4,
   "id": "private-hungary",
   "metadata": {
    "attributes": {
     "classes": [
      "tf"
     ],
     "id": ""
    }
   },
   "outputs": [
    {
     "name": "stdout",
     "output_type": "stream",
     "text": [
      "\n",
      "terraform {\n",
      "  required_version = \">= 1.1.0\"\n",
      "\n",
      "  required_providers {\n",
      "    aws = {\n",
      "      version = \"~> 4.0\"\n",
      "    }\n",
      "  }\n",
      "}\n",
      "\n",
      "provider \"aws\" {\n",
      "  region = var.region\n",
      "\n",
      "  default_tags {\n",
      "    tags = {\n",
      "      Environment = \"Terraform Introduction\"\n",
      "    }\n",
      "  }\n",
      "}\n",
      "\n"
     ]
    }
   ],
   "source": [
    "cat provider.tf"
   ]
  },
  {
   "cell_type": "markdown",
   "id": "tutorial-fisher",
   "metadata": {},
   "source": [
    "The contents of resources.tf should be as below:"
   ]
  },
  {
   "cell_type": "code",
   "execution_count": 5,
   "id": "bright-bargain",
   "metadata": {
    "attributes": {
     "classes": [
      "tf"
     ],
     "id": ""
    }
   },
   "outputs": [
    {
     "name": "stdout",
     "output_type": "stream",
     "text": [
      "resource \"aws_vpc\" \"main_vpc\" {\n",
      "  cidr_block       = var.vpc_cidr\n",
      "  instance_tenancy = \"default\"\n",
      "\n",
      "  tags = {\n",
      "    Name     = \"Main\"\n",
      "    Location = \"London\"\n",
      "    LabName  = \"4.ControlStructures\"\n",
      "  }\n",
      "}\n",
      "\n",
      "resource \"aws_subnet\" \"vpc_subnets\" {\n",
      "  count = length(var.aws_availability_zones)\n",
      "\n",
      "  vpc_id            = aws_vpc.main_vpc.id\n",
      "\n",
      "  cidr_block        = var.vpc_subnet_cidr[count.index]\n",
      "\n",
      "  availability_zone = var.aws_availability_zones[count.index]\n",
      "\n",
      "  tags = {\n",
      "    Name    = \"subnet-${count.index+1}\"\n",
      "    LabName = \"4.ControlStructures\"\n",
      "  }\n",
      "}\n"
     ]
    }
   ],
   "source": [
    "cat resources.tf"
   ]
  },
  {
   "cell_type": "markdown",
   "id": "spare-sister",
   "metadata": {},
   "source": [
    "**Note**: the use of the **count** special attribute in the *aws_subnet* definition above"
   ]
  },
  {
   "cell_type": "markdown",
   "id": "exceptional-tattoo",
   "metadata": {},
   "source": [
    "The contents of vars.tf should be as shown below:\n",
    "\n",
    "**Note**: However in case of\n",
    "\n",
    "- \"*Value (us-west-1X) for parameter availabilityZone is invalid*\"\n",
    "type of error message, remove that availability_zone value from the map in var.tf\n",
    "\n",
    "Due to a current error (unavailability of the zone) for us-west-1a, we have removed us-west-1a from the map.\n",
    "\n",
    "- \"Value (us-west-1a) for parameter availabilityZone is invalid\"\n",
    "\n",
    "## New resource types\n",
    "\n",
    "Note that in these files we have defined resource types that we have not previously seen\n",
    "- aws_vpc - Previously when we created VMs we did not define the VPC so a default VPC was created for us\n",
    "  - A VPC is a Virtual Private Cloud which allows our VM instances to be in a partitioned private network space\n",
    "- aws_subnet - We define the subnet addressing to be used in our VPC\n"
   ]
  },
  {
   "cell_type": "code",
   "execution_count": 6,
   "id": "active-event",
   "metadata": {
    "attributes": {
     "classes": [
      "tf"
     ],
     "id": ""
    }
   },
   "outputs": [
    {
     "name": "stdout",
     "output_type": "stream",
     "text": [
      "variable \"region\" {\n",
      "  default = \"us-west-1\"\n",
      "}\n",
      "variable \"vpc_cidr\" {\n",
      "  default = \"192.168.0.0/16\"\n",
      "}\n",
      "variable \"vpc_subnet_cidr\" {\n",
      "  type = list\n",
      "  default = [\"192.168.100.0/24\",\"192.168.101.0/24\",\"192.168.102.0/24\"]\n",
      "}\n",
      "variable \"ami_instance\" {\n",
      "  default = \"ami-0ac019f4fcb7cb7e6\"\n",
      "}\n",
      "variable \"ami_instance_type\" {\n",
      "  default = \"t2.micro\"\n",
      "}\n",
      "variable \"aws_availability_zones\" {\n",
      "  type = list\n",
      "\n",
      "  # Remove us-west-1a:\n",
      "  # default = [\"us-west-1a\",\"us-west-1b\",\"us-west-1c\"]\n",
      "  default = [\"us-west-1b\",\"us-west-1c\"]\n",
      "}\n"
     ]
    }
   ],
   "source": [
    "cat vars.tf"
   ]
  },
  {
   "cell_type": "markdown",
   "id": "fresh-simple",
   "metadata": {},
   "source": [
    "Create also an outputs.tf file containing:"
   ]
  },
  {
   "cell_type": "code",
   "execution_count": 7,
   "id": "alternate-advertising",
   "metadata": {
    "attributes": {
     "classes": [
      "tf"
     ],
     "id": ""
    }
   },
   "outputs": [
    {
     "name": "stdout",
     "output_type": "stream",
     "text": [
      "output subnets { value = aws_subnet.vpc_subnets[*].cidr_block }\n",
      "output zones   { value = aws_subnet.vpc_subnets[*].availability_zone }\n"
     ]
    }
   ],
   "source": [
    "cat outputs.tf"
   ]
  },
  {
   "cell_type": "markdown",
   "id": "intellectual-anger",
   "metadata": {},
   "source": [
    "<!-- No longer necessary now with linked accounts - Note: For each student, change the CIDR for the VPC and subnets to a unique value! -->\n",
    "\n",
    "\n",
    "### 4. Initialize the config"
   ]
  },
  {
   "cell_type": "code",
   "execution_count": 8,
   "id": "changed-listing",
   "metadata": {},
   "outputs": [
    {
     "name": "stdout",
     "output_type": "stream",
     "text": [
      "\n",
      "\u001b[0m\u001b[1mInitializing the backend...\u001b[0m\n",
      "\n",
      "\u001b[0m\u001b[1mInitializing provider plugins...\u001b[0m\n",
      "- Finding hashicorp/aws versions matching \"~> 4.0\"...\n",
      "- Installing hashicorp/aws v4.49.0...\n",
      "- Installed hashicorp/aws v4.49.0 (signed by HashiCorp)\n",
      "\n",
      "Terraform has created a lock file \u001b[1m.terraform.lock.hcl\u001b[0m to record the provider\n",
      "selections it made above. Include this file in your version control repository\n",
      "so that Terraform can guarantee to make the same selections by default when\n",
      "you run \"terraform init\" in the future.\u001b[0m\n",
      "\n",
      "\u001b[0m\u001b[1m\u001b[32mTerraform has been successfully initialized!\u001b[0m\u001b[32m\u001b[0m\n",
      "\u001b[0m\u001b[32m\n",
      "You may now begin working with Terraform. Try running \"terraform plan\" to see\n",
      "any changes that are required for your infrastructure. All Terraform commands\n",
      "should now work.\n",
      "\n",
      "If you ever set or change modules or backend configuration for Terraform,\n",
      "rerun this command to reinitialize your working directory. If you forget, other\n",
      "commands will detect it and remind you to do so if necessary.\u001b[0m\n"
     ]
    }
   ],
   "source": [
    "terraform init"
   ]
  },
  {
   "cell_type": "markdown",
   "id": "theoretical-reggae",
   "metadata": {},
   "source": [
    "### 5. Plan the changes"
   ]
  },
  {
   "cell_type": "code",
   "execution_count": 9,
   "id": "consolidated-motel",
   "metadata": {
    "scrolled": false
   },
   "outputs": [
    {
     "name": "stdout",
     "output_type": "stream",
     "text": [
      "\n",
      "Terraform used the selected providers to generate the following execution plan.\n",
      "Resource actions are indicated with the following symbols:\n",
      "  \u001b[32m+\u001b[0m create\n",
      "\u001b[0m\n",
      "Terraform will perform the following actions:\n",
      "\n",
      "\u001b[1m  # aws_subnet.vpc_subnets[0]\u001b[0m will be created\u001b[0m\u001b[0m\n",
      "\u001b[0m  \u001b[32m+\u001b[0m\u001b[0m resource \"aws_subnet\" \"vpc_subnets\" {\n",
      "      \u001b[32m+\u001b[0m \u001b[0m\u001b[1m\u001b[0marn\u001b[0m\u001b[0m                                            = (known after apply)\n",
      "      \u001b[32m+\u001b[0m \u001b[0m\u001b[1m\u001b[0massign_ipv6_address_on_creation\u001b[0m\u001b[0m                = false\n",
      "      \u001b[32m+\u001b[0m \u001b[0m\u001b[1m\u001b[0mavailability_zone\u001b[0m\u001b[0m                              = \"us-west-1b\"\n",
      "      \u001b[32m+\u001b[0m \u001b[0m\u001b[1m\u001b[0mavailability_zone_id\u001b[0m\u001b[0m                           = (known after apply)\n",
      "      \u001b[32m+\u001b[0m \u001b[0m\u001b[1m\u001b[0mcidr_block\u001b[0m\u001b[0m                                     = \"192.168.100.0/24\"\n",
      "      \u001b[32m+\u001b[0m \u001b[0m\u001b[1m\u001b[0menable_dns64\u001b[0m\u001b[0m                                   = false\n",
      "      \u001b[32m+\u001b[0m \u001b[0m\u001b[1m\u001b[0menable_resource_name_dns_a_record_on_launch\u001b[0m\u001b[0m    = false\n",
      "      \u001b[32m+\u001b[0m \u001b[0m\u001b[1m\u001b[0menable_resource_name_dns_aaaa_record_on_launch\u001b[0m\u001b[0m = false\n",
      "      \u001b[32m+\u001b[0m \u001b[0m\u001b[1m\u001b[0mid\u001b[0m\u001b[0m                                             = (known after apply)\n",
      "      \u001b[32m+\u001b[0m \u001b[0m\u001b[1m\u001b[0mipv6_cidr_block_association_id\u001b[0m\u001b[0m                 = (known after apply)\n",
      "      \u001b[32m+\u001b[0m \u001b[0m\u001b[1m\u001b[0mipv6_native\u001b[0m\u001b[0m                                    = false\n",
      "      \u001b[32m+\u001b[0m \u001b[0m\u001b[1m\u001b[0mmap_public_ip_on_launch\u001b[0m\u001b[0m                        = false\n",
      "      \u001b[32m+\u001b[0m \u001b[0m\u001b[1m\u001b[0mowner_id\u001b[0m\u001b[0m                                       = (known after apply)\n",
      "      \u001b[32m+\u001b[0m \u001b[0m\u001b[1m\u001b[0mprivate_dns_hostname_type_on_launch\u001b[0m\u001b[0m            = (known after apply)\n",
      "      \u001b[32m+\u001b[0m \u001b[0m\u001b[1m\u001b[0mtags\u001b[0m\u001b[0m                                           = {\n",
      "          \u001b[32m+\u001b[0m \u001b[0m\"LabName\" = \"4.ControlStructures\"\n",
      "          \u001b[32m+\u001b[0m \u001b[0m\"Name\"    = \"subnet-1\"\n",
      "        }\n",
      "      \u001b[32m+\u001b[0m \u001b[0m\u001b[1m\u001b[0mtags_all\u001b[0m\u001b[0m                                       = {\n",
      "          \u001b[32m+\u001b[0m \u001b[0m\"Environment\" = \"Terraform Introduction\"\n",
      "          \u001b[32m+\u001b[0m \u001b[0m\"LabName\"     = \"4.ControlStructures\"\n",
      "          \u001b[32m+\u001b[0m \u001b[0m\"Name\"        = \"subnet-1\"\n",
      "        }\n",
      "      \u001b[32m+\u001b[0m \u001b[0m\u001b[1m\u001b[0mvpc_id\u001b[0m\u001b[0m                                         = (known after apply)\n",
      "    }\n",
      "\n",
      "\u001b[1m  # aws_subnet.vpc_subnets[1]\u001b[0m will be created\u001b[0m\u001b[0m\n",
      "\u001b[0m  \u001b[32m+\u001b[0m\u001b[0m resource \"aws_subnet\" \"vpc_subnets\" {\n",
      "      \u001b[32m+\u001b[0m \u001b[0m\u001b[1m\u001b[0marn\u001b[0m\u001b[0m                                            = (known after apply)\n",
      "      \u001b[32m+\u001b[0m \u001b[0m\u001b[1m\u001b[0massign_ipv6_address_on_creation\u001b[0m\u001b[0m                = false\n",
      "      \u001b[32m+\u001b[0m \u001b[0m\u001b[1m\u001b[0mavailability_zone\u001b[0m\u001b[0m                              = \"us-west-1c\"\n",
      "      \u001b[32m+\u001b[0m \u001b[0m\u001b[1m\u001b[0mavailability_zone_id\u001b[0m\u001b[0m                           = (known after apply)\n",
      "      \u001b[32m+\u001b[0m \u001b[0m\u001b[1m\u001b[0mcidr_block\u001b[0m\u001b[0m                                     = \"192.168.101.0/24\"\n",
      "      \u001b[32m+\u001b[0m \u001b[0m\u001b[1m\u001b[0menable_dns64\u001b[0m\u001b[0m                                   = false\n",
      "      \u001b[32m+\u001b[0m \u001b[0m\u001b[1m\u001b[0menable_resource_name_dns_a_record_on_launch\u001b[0m\u001b[0m    = false\n",
      "      \u001b[32m+\u001b[0m \u001b[0m\u001b[1m\u001b[0menable_resource_name_dns_aaaa_record_on_launch\u001b[0m\u001b[0m = false\n",
      "      \u001b[32m+\u001b[0m \u001b[0m\u001b[1m\u001b[0mid\u001b[0m\u001b[0m                                             = (known after apply)\n",
      "      \u001b[32m+\u001b[0m \u001b[0m\u001b[1m\u001b[0mipv6_cidr_block_association_id\u001b[0m\u001b[0m                 = (known after apply)\n",
      "      \u001b[32m+\u001b[0m \u001b[0m\u001b[1m\u001b[0mipv6_native\u001b[0m\u001b[0m                                    = false\n",
      "      \u001b[32m+\u001b[0m \u001b[0m\u001b[1m\u001b[0mmap_public_ip_on_launch\u001b[0m\u001b[0m                        = false\n",
      "      \u001b[32m+\u001b[0m \u001b[0m\u001b[1m\u001b[0mowner_id\u001b[0m\u001b[0m                                       = (known after apply)\n",
      "      \u001b[32m+\u001b[0m \u001b[0m\u001b[1m\u001b[0mprivate_dns_hostname_type_on_launch\u001b[0m\u001b[0m            = (known after apply)\n",
      "      \u001b[32m+\u001b[0m \u001b[0m\u001b[1m\u001b[0mtags\u001b[0m\u001b[0m                                           = {\n",
      "          \u001b[32m+\u001b[0m \u001b[0m\"LabName\" = \"4.ControlStructures\"\n",
      "          \u001b[32m+\u001b[0m \u001b[0m\"Name\"    = \"subnet-2\"\n",
      "        }\n",
      "      \u001b[32m+\u001b[0m \u001b[0m\u001b[1m\u001b[0mtags_all\u001b[0m\u001b[0m                                       = {\n",
      "          \u001b[32m+\u001b[0m \u001b[0m\"Environment\" = \"Terraform Introduction\"\n",
      "          \u001b[32m+\u001b[0m \u001b[0m\"LabName\"     = \"4.ControlStructures\"\n",
      "          \u001b[32m+\u001b[0m \u001b[0m\"Name\"        = \"subnet-2\"\n",
      "        }\n",
      "      \u001b[32m+\u001b[0m \u001b[0m\u001b[1m\u001b[0mvpc_id\u001b[0m\u001b[0m                                         = (known after apply)\n",
      "    }\n",
      "\n",
      "\u001b[1m  # aws_vpc.main_vpc\u001b[0m will be created\u001b[0m\u001b[0m\n",
      "\u001b[0m  \u001b[32m+\u001b[0m\u001b[0m resource \"aws_vpc\" \"main_vpc\" {\n",
      "      \u001b[32m+\u001b[0m \u001b[0m\u001b[1m\u001b[0marn\u001b[0m\u001b[0m                                  = (known after apply)\n",
      "      \u001b[32m+\u001b[0m \u001b[0m\u001b[1m\u001b[0mcidr_block\u001b[0m\u001b[0m                           = \"192.168.0.0/16\"\n",
      "      \u001b[32m+\u001b[0m \u001b[0m\u001b[1m\u001b[0mdefault_network_acl_id\u001b[0m\u001b[0m               = (known after apply)\n",
      "      \u001b[32m+\u001b[0m \u001b[0m\u001b[1m\u001b[0mdefault_route_table_id\u001b[0m\u001b[0m               = (known after apply)\n",
      "      \u001b[32m+\u001b[0m \u001b[0m\u001b[1m\u001b[0mdefault_security_group_id\u001b[0m\u001b[0m            = (known after apply)\n",
      "      \u001b[32m+\u001b[0m \u001b[0m\u001b[1m\u001b[0mdhcp_options_id\u001b[0m\u001b[0m                      = (known after apply)\n",
      "      \u001b[32m+\u001b[0m \u001b[0m\u001b[1m\u001b[0menable_classiclink\u001b[0m\u001b[0m                   = (known after apply)\n",
      "      \u001b[32m+\u001b[0m \u001b[0m\u001b[1m\u001b[0menable_classiclink_dns_support\u001b[0m\u001b[0m       = (known after apply)\n",
      "      \u001b[32m+\u001b[0m \u001b[0m\u001b[1m\u001b[0menable_dns_hostnames\u001b[0m\u001b[0m                 = (known after apply)\n",
      "      \u001b[32m+\u001b[0m \u001b[0m\u001b[1m\u001b[0menable_dns_support\u001b[0m\u001b[0m                   = true\n",
      "      \u001b[32m+\u001b[0m \u001b[0m\u001b[1m\u001b[0menable_network_address_usage_metrics\u001b[0m\u001b[0m = (known after apply)\n",
      "      \u001b[32m+\u001b[0m \u001b[0m\u001b[1m\u001b[0mid\u001b[0m\u001b[0m                                   = (known after apply)\n",
      "      \u001b[32m+\u001b[0m \u001b[0m\u001b[1m\u001b[0minstance_tenancy\u001b[0m\u001b[0m                     = \"default\"\n",
      "      \u001b[32m+\u001b[0m \u001b[0m\u001b[1m\u001b[0mipv6_association_id\u001b[0m\u001b[0m                  = (known after apply)\n",
      "      \u001b[32m+\u001b[0m \u001b[0m\u001b[1m\u001b[0mipv6_cidr_block\u001b[0m\u001b[0m                      = (known after apply)\n",
      "      \u001b[32m+\u001b[0m \u001b[0m\u001b[1m\u001b[0mipv6_cidr_block_network_border_group\u001b[0m\u001b[0m = (known after apply)\n",
      "      \u001b[32m+\u001b[0m \u001b[0m\u001b[1m\u001b[0mmain_route_table_id\u001b[0m\u001b[0m                  = (known after apply)\n",
      "      \u001b[32m+\u001b[0m \u001b[0m\u001b[1m\u001b[0mowner_id\u001b[0m\u001b[0m                             = (known after apply)\n",
      "      \u001b[32m+\u001b[0m \u001b[0m\u001b[1m\u001b[0mtags\u001b[0m\u001b[0m                                 = {\n",
      "          \u001b[32m+\u001b[0m \u001b[0m\"LabName\"  = \"4.ControlStructures\"\n",
      "          \u001b[32m+\u001b[0m \u001b[0m\"Location\" = \"London\"\n",
      "          \u001b[32m+\u001b[0m \u001b[0m\"Name\"     = \"Main\"\n",
      "        }\n",
      "      \u001b[32m+\u001b[0m \u001b[0m\u001b[1m\u001b[0mtags_all\u001b[0m\u001b[0m                             = {\n",
      "          \u001b[32m+\u001b[0m \u001b[0m\"Environment\" = \"Terraform Introduction\"\n",
      "          \u001b[32m+\u001b[0m \u001b[0m\"LabName\"     = \"4.ControlStructures\"\n",
      "          \u001b[32m+\u001b[0m \u001b[0m\"Location\"    = \"London\"\n",
      "          \u001b[32m+\u001b[0m \u001b[0m\"Name\"        = \"Main\"\n",
      "        }\n",
      "    }\n",
      "\n",
      "\u001b[0m\u001b[1mPlan:\u001b[0m 3 to add, 0 to change, 0 to destroy.\n",
      "\u001b[0m\u001b[0m\n",
      "\u001b[1mChanges to Outputs:\u001b[0m\u001b[0m\n",
      "  \u001b[32m+\u001b[0m \u001b[0m\u001b[1m\u001b[0msubnets\u001b[0m\u001b[0m = [\n",
      "      \u001b[32m+\u001b[0m \u001b[0m\"192.168.100.0/24\",\n",
      "      \u001b[32m+\u001b[0m \u001b[0m\"192.168.101.0/24\",\n",
      "    ]\n",
      "  \u001b[32m+\u001b[0m \u001b[0m\u001b[1m\u001b[0mzones\u001b[0m\u001b[0m   = [\n",
      "      \u001b[32m+\u001b[0m \u001b[0m\"us-west-1b\",\n",
      "      \u001b[32m+\u001b[0m \u001b[0m\"us-west-1c\",\n",
      "    ]\n",
      "\u001b[90m\n",
      "───────────────────────────────────────────────────────────────────────────────\u001b[0m\n",
      "\n",
      "Note: You didn't use the -out option to save this plan, so Terraform can't\n",
      "guarantee to take exactly these actions if you run \"terraform apply\" now.\n"
     ]
    }
   ],
   "source": [
    "terraform plan"
   ]
  },
  {
   "cell_type": "markdown",
   "id": "dietary-review",
   "metadata": {},
   "source": [
    "**Verify** the proposed actions that terraform will take.\n",
    "\n",
    "### 6. Apply the config"
   ]
  },
  {
   "cell_type": "code",
   "execution_count": 10,
   "id": "stuffed-arrow",
   "metadata": {
    "scrolled": false
   },
   "outputs": [
    {
     "name": "stdout",
     "output_type": "stream",
     "text": [
      "\n",
      "Terraform used the selected providers to generate the following execution plan.\n",
      "Resource actions are indicated with the following symbols:\n",
      "  \u001b[32m+\u001b[0m create\n",
      "\u001b[0m\n",
      "Terraform will perform the following actions:\n",
      "\n",
      "\u001b[1m  # aws_subnet.vpc_subnets[0]\u001b[0m will be created\u001b[0m\u001b[0m\n",
      "\u001b[0m  \u001b[32m+\u001b[0m\u001b[0m resource \"aws_subnet\" \"vpc_subnets\" {\n",
      "      \u001b[32m+\u001b[0m \u001b[0m\u001b[1m\u001b[0marn\u001b[0m\u001b[0m                                            = (known after apply)\n",
      "      \u001b[32m+\u001b[0m \u001b[0m\u001b[1m\u001b[0massign_ipv6_address_on_creation\u001b[0m\u001b[0m                = false\n",
      "      \u001b[32m+\u001b[0m \u001b[0m\u001b[1m\u001b[0mavailability_zone\u001b[0m\u001b[0m                              = \"us-west-1b\"\n",
      "      \u001b[32m+\u001b[0m \u001b[0m\u001b[1m\u001b[0mavailability_zone_id\u001b[0m\u001b[0m                           = (known after apply)\n",
      "      \u001b[32m+\u001b[0m \u001b[0m\u001b[1m\u001b[0mcidr_block\u001b[0m\u001b[0m                                     = \"192.168.100.0/24\"\n",
      "      \u001b[32m+\u001b[0m \u001b[0m\u001b[1m\u001b[0menable_dns64\u001b[0m\u001b[0m                                   = false\n",
      "      \u001b[32m+\u001b[0m \u001b[0m\u001b[1m\u001b[0menable_resource_name_dns_a_record_on_launch\u001b[0m\u001b[0m    = false\n",
      "      \u001b[32m+\u001b[0m \u001b[0m\u001b[1m\u001b[0menable_resource_name_dns_aaaa_record_on_launch\u001b[0m\u001b[0m = false\n",
      "      \u001b[32m+\u001b[0m \u001b[0m\u001b[1m\u001b[0mid\u001b[0m\u001b[0m                                             = (known after apply)\n",
      "      \u001b[32m+\u001b[0m \u001b[0m\u001b[1m\u001b[0mipv6_cidr_block_association_id\u001b[0m\u001b[0m                 = (known after apply)\n",
      "      \u001b[32m+\u001b[0m \u001b[0m\u001b[1m\u001b[0mipv6_native\u001b[0m\u001b[0m                                    = false\n",
      "      \u001b[32m+\u001b[0m \u001b[0m\u001b[1m\u001b[0mmap_public_ip_on_launch\u001b[0m\u001b[0m                        = false\n",
      "      \u001b[32m+\u001b[0m \u001b[0m\u001b[1m\u001b[0mowner_id\u001b[0m\u001b[0m                                       = (known after apply)\n",
      "      \u001b[32m+\u001b[0m \u001b[0m\u001b[1m\u001b[0mprivate_dns_hostname_type_on_launch\u001b[0m\u001b[0m            = (known after apply)\n",
      "      \u001b[32m+\u001b[0m \u001b[0m\u001b[1m\u001b[0mtags\u001b[0m\u001b[0m                                           = {\n",
      "          \u001b[32m+\u001b[0m \u001b[0m\"LabName\" = \"4.ControlStructures\"\n",
      "          \u001b[32m+\u001b[0m \u001b[0m\"Name\"    = \"subnet-1\"\n",
      "        }\n",
      "      \u001b[32m+\u001b[0m \u001b[0m\u001b[1m\u001b[0mtags_all\u001b[0m\u001b[0m                                       = {\n",
      "          \u001b[32m+\u001b[0m \u001b[0m\"Environment\" = \"Terraform Introduction\"\n",
      "          \u001b[32m+\u001b[0m \u001b[0m\"LabName\"     = \"4.ControlStructures\"\n",
      "          \u001b[32m+\u001b[0m \u001b[0m\"Name\"        = \"subnet-1\"\n",
      "        }\n",
      "      \u001b[32m+\u001b[0m \u001b[0m\u001b[1m\u001b[0mvpc_id\u001b[0m\u001b[0m                                         = (known after apply)\n",
      "    }\n",
      "\n",
      "\u001b[1m  # aws_subnet.vpc_subnets[1]\u001b[0m will be created\u001b[0m\u001b[0m\n",
      "\u001b[0m  \u001b[32m+\u001b[0m\u001b[0m resource \"aws_subnet\" \"vpc_subnets\" {\n",
      "      \u001b[32m+\u001b[0m \u001b[0m\u001b[1m\u001b[0marn\u001b[0m\u001b[0m                                            = (known after apply)\n",
      "      \u001b[32m+\u001b[0m \u001b[0m\u001b[1m\u001b[0massign_ipv6_address_on_creation\u001b[0m\u001b[0m                = false\n",
      "      \u001b[32m+\u001b[0m \u001b[0m\u001b[1m\u001b[0mavailability_zone\u001b[0m\u001b[0m                              = \"us-west-1c\"\n",
      "      \u001b[32m+\u001b[0m \u001b[0m\u001b[1m\u001b[0mavailability_zone_id\u001b[0m\u001b[0m                           = (known after apply)\n",
      "      \u001b[32m+\u001b[0m \u001b[0m\u001b[1m\u001b[0mcidr_block\u001b[0m\u001b[0m                                     = \"192.168.101.0/24\"\n",
      "      \u001b[32m+\u001b[0m \u001b[0m\u001b[1m\u001b[0menable_dns64\u001b[0m\u001b[0m                                   = false\n",
      "      \u001b[32m+\u001b[0m \u001b[0m\u001b[1m\u001b[0menable_resource_name_dns_a_record_on_launch\u001b[0m\u001b[0m    = false\n",
      "      \u001b[32m+\u001b[0m \u001b[0m\u001b[1m\u001b[0menable_resource_name_dns_aaaa_record_on_launch\u001b[0m\u001b[0m = false\n",
      "      \u001b[32m+\u001b[0m \u001b[0m\u001b[1m\u001b[0mid\u001b[0m\u001b[0m                                             = (known after apply)\n",
      "      \u001b[32m+\u001b[0m \u001b[0m\u001b[1m\u001b[0mipv6_cidr_block_association_id\u001b[0m\u001b[0m                 = (known after apply)\n",
      "      \u001b[32m+\u001b[0m \u001b[0m\u001b[1m\u001b[0mipv6_native\u001b[0m\u001b[0m                                    = false\n",
      "      \u001b[32m+\u001b[0m \u001b[0m\u001b[1m\u001b[0mmap_public_ip_on_launch\u001b[0m\u001b[0m                        = false\n",
      "      \u001b[32m+\u001b[0m \u001b[0m\u001b[1m\u001b[0mowner_id\u001b[0m\u001b[0m                                       = (known after apply)\n",
      "      \u001b[32m+\u001b[0m \u001b[0m\u001b[1m\u001b[0mprivate_dns_hostname_type_on_launch\u001b[0m\u001b[0m            = (known after apply)\n",
      "      \u001b[32m+\u001b[0m \u001b[0m\u001b[1m\u001b[0mtags\u001b[0m\u001b[0m                                           = {\n",
      "          \u001b[32m+\u001b[0m \u001b[0m\"LabName\" = \"4.ControlStructures\"\n",
      "          \u001b[32m+\u001b[0m \u001b[0m\"Name\"    = \"subnet-2\"\n",
      "        }\n",
      "      \u001b[32m+\u001b[0m \u001b[0m\u001b[1m\u001b[0mtags_all\u001b[0m\u001b[0m                                       = {\n",
      "          \u001b[32m+\u001b[0m \u001b[0m\"Environment\" = \"Terraform Introduction\"\n",
      "          \u001b[32m+\u001b[0m \u001b[0m\"LabName\"     = \"4.ControlStructures\"\n",
      "          \u001b[32m+\u001b[0m \u001b[0m\"Name\"        = \"subnet-2\"\n",
      "        }\n",
      "      \u001b[32m+\u001b[0m \u001b[0m\u001b[1m\u001b[0mvpc_id\u001b[0m\u001b[0m                                         = (known after apply)\n",
      "    }\n",
      "\n",
      "\u001b[1m  # aws_vpc.main_vpc\u001b[0m will be created\u001b[0m\u001b[0m\n",
      "\u001b[0m  \u001b[32m+\u001b[0m\u001b[0m resource \"aws_vpc\" \"main_vpc\" {\n",
      "      \u001b[32m+\u001b[0m \u001b[0m\u001b[1m\u001b[0marn\u001b[0m\u001b[0m                                  = (known after apply)\n",
      "      \u001b[32m+\u001b[0m \u001b[0m\u001b[1m\u001b[0mcidr_block\u001b[0m\u001b[0m                           = \"192.168.0.0/16\"\n",
      "      \u001b[32m+\u001b[0m \u001b[0m\u001b[1m\u001b[0mdefault_network_acl_id\u001b[0m\u001b[0m               = (known after apply)\n",
      "      \u001b[32m+\u001b[0m \u001b[0m\u001b[1m\u001b[0mdefault_route_table_id\u001b[0m\u001b[0m               = (known after apply)\n",
      "      \u001b[32m+\u001b[0m \u001b[0m\u001b[1m\u001b[0mdefault_security_group_id\u001b[0m\u001b[0m            = (known after apply)\n",
      "      \u001b[32m+\u001b[0m \u001b[0m\u001b[1m\u001b[0mdhcp_options_id\u001b[0m\u001b[0m                      = (known after apply)\n",
      "      \u001b[32m+\u001b[0m \u001b[0m\u001b[1m\u001b[0menable_classiclink\u001b[0m\u001b[0m                   = (known after apply)\n",
      "      \u001b[32m+\u001b[0m \u001b[0m\u001b[1m\u001b[0menable_classiclink_dns_support\u001b[0m\u001b[0m       = (known after apply)\n",
      "      \u001b[32m+\u001b[0m \u001b[0m\u001b[1m\u001b[0menable_dns_hostnames\u001b[0m\u001b[0m                 = (known after apply)\n",
      "      \u001b[32m+\u001b[0m \u001b[0m\u001b[1m\u001b[0menable_dns_support\u001b[0m\u001b[0m                   = true\n",
      "      \u001b[32m+\u001b[0m \u001b[0m\u001b[1m\u001b[0menable_network_address_usage_metrics\u001b[0m\u001b[0m = (known after apply)\n",
      "      \u001b[32m+\u001b[0m \u001b[0m\u001b[1m\u001b[0mid\u001b[0m\u001b[0m                                   = (known after apply)\n",
      "      \u001b[32m+\u001b[0m \u001b[0m\u001b[1m\u001b[0minstance_tenancy\u001b[0m\u001b[0m                     = \"default\"\n",
      "      \u001b[32m+\u001b[0m \u001b[0m\u001b[1m\u001b[0mipv6_association_id\u001b[0m\u001b[0m                  = (known after apply)\n",
      "      \u001b[32m+\u001b[0m \u001b[0m\u001b[1m\u001b[0mipv6_cidr_block\u001b[0m\u001b[0m                      = (known after apply)\n",
      "      \u001b[32m+\u001b[0m \u001b[0m\u001b[1m\u001b[0mipv6_cidr_block_network_border_group\u001b[0m\u001b[0m = (known after apply)\n",
      "      \u001b[32m+\u001b[0m \u001b[0m\u001b[1m\u001b[0mmain_route_table_id\u001b[0m\u001b[0m                  = (known after apply)\n",
      "      \u001b[32m+\u001b[0m \u001b[0m\u001b[1m\u001b[0mowner_id\u001b[0m\u001b[0m                             = (known after apply)\n",
      "      \u001b[32m+\u001b[0m \u001b[0m\u001b[1m\u001b[0mtags\u001b[0m\u001b[0m                                 = {\n",
      "          \u001b[32m+\u001b[0m \u001b[0m\"LabName\"  = \"4.ControlStructures\"\n",
      "          \u001b[32m+\u001b[0m \u001b[0m\"Location\" = \"London\"\n",
      "          \u001b[32m+\u001b[0m \u001b[0m\"Name\"     = \"Main\"\n",
      "        }\n",
      "      \u001b[32m+\u001b[0m \u001b[0m\u001b[1m\u001b[0mtags_all\u001b[0m\u001b[0m                             = {\n",
      "          \u001b[32m+\u001b[0m \u001b[0m\"Environment\" = \"Terraform Introduction\"\n",
      "          \u001b[32m+\u001b[0m \u001b[0m\"LabName\"     = \"4.ControlStructures\"\n",
      "          \u001b[32m+\u001b[0m \u001b[0m\"Location\"    = \"London\"\n",
      "          \u001b[32m+\u001b[0m \u001b[0m\"Name\"        = \"Main\"\n",
      "        }\n",
      "    }\n",
      "\n",
      "\u001b[0m\u001b[1mPlan:\u001b[0m 3 to add, 0 to change, 0 to destroy.\n",
      "\u001b[0m\u001b[0m\n",
      "\u001b[1mChanges to Outputs:\u001b[0m\u001b[0m\n",
      "  \u001b[32m+\u001b[0m \u001b[0m\u001b[1m\u001b[0msubnets\u001b[0m\u001b[0m = [\n",
      "      \u001b[32m+\u001b[0m \u001b[0m\"192.168.100.0/24\",\n",
      "      \u001b[32m+\u001b[0m \u001b[0m\"192.168.101.0/24\",\n",
      "    ]\n",
      "  \u001b[32m+\u001b[0m \u001b[0m\u001b[1m\u001b[0mzones\u001b[0m\u001b[0m   = [\n",
      "      \u001b[32m+\u001b[0m \u001b[0m\"us-west-1b\",\n",
      "      \u001b[32m+\u001b[0m \u001b[0m\"us-west-1c\",\n",
      "    ]\n",
      "\u001b[0m\u001b[1maws_vpc.main_vpc: Creating...\u001b[0m\u001b[0m\n",
      "\u001b[0m\u001b[1maws_vpc.main_vpc: Creation complete after 3s [id=vpc-0e3b272622a64a4fd]\u001b[0m\n",
      "\u001b[0m\u001b[1maws_subnet.vpc_subnets[1]: Creating...\u001b[0m\u001b[0m\n",
      "\u001b[0m\u001b[1maws_subnet.vpc_subnets[0]: Creating...\u001b[0m\u001b[0m\n",
      "\u001b[0m\u001b[1maws_subnet.vpc_subnets[0]: Creation complete after 1s [id=subnet-0fb8e127d9a35f71e]\u001b[0m\n",
      "\u001b[0m\u001b[1maws_subnet.vpc_subnets[1]: Creation complete after 1s [id=subnet-03dac58cee0dd0ff5]\u001b[0m\n",
      "\u001b[0m\u001b[1m\u001b[32m\n",
      "Apply complete! Resources: 3 added, 0 changed, 0 destroyed.\n",
      "\u001b[0m\u001b[0m\u001b[1m\u001b[32m\n",
      "Outputs:\n",
      "\n",
      "\u001b[0msubnets = [\n",
      "  \"192.168.100.0/24\",\n",
      "  \"192.168.101.0/24\",\n",
      "]\n",
      "zones = [\n",
      "  \"us-west-1b\",\n",
      "  \"us-west-1c\",\n",
      "]\n"
     ]
    }
   ],
   "source": [
    "TF_APPLY"
   ]
  },
  {
   "cell_type": "markdown",
   "id": "widespread-suffering",
   "metadata": {},
   "source": [
    "Assuming that this works correctly, AWS create a VPC and two subnets - **ONLY** if both availability_zones are in fact available. \n",
    "\n",
    "<!-- Check this with the AWS console. -->\n",
    "\n",
    "**Note**: You may get a **vpc limit reached** error message.\n",
    "\n",
    "To work around this change the value of the region variable in vars.tf.\n",
    "\n",
    "Once you have successfully applied the config, move onto the next step.\n",
    "\n",
    "### 7. The configuration when visualized should look like\n",
    "\n",
    "<div>\n",
    "    <object data=\"graph.svg\" type=\"image/svg+xml\">\n",
    "    </object>\n",
    "</div>\n",
    "\n",
    "### 8. Re-Apply the config\n",
    "\n",
    "If we re-apply the config nothing changes"
   ]
  },
  {
   "cell_type": "code",
   "execution_count": 11,
   "id": "laughing-favorite",
   "metadata": {},
   "outputs": [
    {
     "name": "stdout",
     "output_type": "stream",
     "text": [
      "\u001b[0m\u001b[1maws_vpc.main_vpc: Refreshing state... [id=vpc-0e3b272622a64a4fd]\u001b[0m\n",
      "\u001b[0m\u001b[1maws_subnet.vpc_subnets[1]: Refreshing state... [id=subnet-03dac58cee0dd0ff5]\u001b[0m\n",
      "\u001b[0m\u001b[1maws_subnet.vpc_subnets[0]: Refreshing state... [id=subnet-0fb8e127d9a35f71e]\u001b[0m\n",
      "\n",
      "\u001b[0m\u001b[1m\u001b[32mNo changes.\u001b[0m\u001b[1m Your infrastructure matches the configuration.\u001b[0m\n",
      "\n",
      "\u001b[0mTerraform has compared your real infrastructure against your configuration and\n",
      "found no differences, so no changes are needed.\n",
      "\u001b[0m\u001b[1m\u001b[32m\n",
      "Apply complete! Resources: 0 added, 0 changed, 0 destroyed.\n",
      "\u001b[0m\u001b[0m\u001b[1m\u001b[32m\n",
      "Outputs:\n",
      "\n",
      "\u001b[0msubnets = [\n",
      "  \"192.168.100.0/24\",\n",
      "  \"192.168.101.0/24\",\n",
      "]\n",
      "zones = [\n",
      "  \"us-west-1b\",\n",
      "  \"us-west-1c\",\n",
      "]\n"
     ]
    }
   ],
   "source": [
    "TF_APPLY"
   ]
  },
  {
   "cell_type": "markdown",
   "id": "optimum-michigan",
   "metadata": {},
   "source": [
    "### 9. Tainting resources\n",
    "\n",
    "Now let us try *tainting* a resource and redoing the apply\n",
    "\n",
    "We would apply a taint if we knew that the resource has some problem independent of Terraform.\n",
    "\n",
    "Tainting a resource marks it for deletion/creation at the next apply"
   ]
  },
  {
   "cell_type": "code",
   "execution_count": 12,
   "id": "swedish-vanilla",
   "metadata": {},
   "outputs": [
    {
     "name": "stdout",
     "output_type": "stream",
     "text": [
      "Resource instance aws_subnet.vpc_subnets[0] has been marked as tainted.\n"
     ]
    }
   ],
   "source": [
    "terraform taint aws_subnet.vpc_subnets[0]"
   ]
  },
  {
   "cell_type": "markdown",
   "id": "noble-connectivity",
   "metadata": {},
   "source": [
    "Now redo the apply, but *refuse* the apply when prompted, type \"no\" or ctrl-C.\n",
    "\n",
    "\n",
    "We can undo the effect of taint with untaint:"
   ]
  },
  {
   "cell_type": "code",
   "execution_count": 13,
   "id": "after-alabama",
   "metadata": {},
   "outputs": [
    {
     "name": "stdout",
     "output_type": "stream",
     "text": [
      "Resource instance aws_subnet.vpc_subnets[0] has been successfully untainted.\n"
     ]
    }
   ],
   "source": [
    "terraform untaint aws_subnet.vpc_subnets[0]"
   ]
  },
  {
   "cell_type": "markdown",
   "id": "06fa4357",
   "metadata": {},
   "source": [
    "Now redo the apply, and note that no changes would be made"
   ]
  },
  {
   "cell_type": "code",
   "execution_count": 14,
   "id": "b4c8104c",
   "metadata": {},
   "outputs": [
    {
     "name": "stdout",
     "output_type": "stream",
     "text": [
      "\u001b[0m\u001b[1maws_vpc.main_vpc: Refreshing state... [id=vpc-0e3b272622a64a4fd]\u001b[0m\n",
      "\u001b[0m\u001b[1maws_subnet.vpc_subnets[0]: Refreshing state... [id=subnet-0fb8e127d9a35f71e]\u001b[0m\n",
      "\u001b[0m\u001b[1maws_subnet.vpc_subnets[1]: Refreshing state... [id=subnet-03dac58cee0dd0ff5]\u001b[0m\n",
      "\n",
      "\u001b[0m\u001b[1m\u001b[32mNo changes.\u001b[0m\u001b[1m Your infrastructure matches the configuration.\u001b[0m\n",
      "\n",
      "\u001b[0mTerraform has compared your real infrastructure against your configuration and\n",
      "found no differences, so no changes are needed.\n",
      "\u001b[0m\u001b[1m\u001b[32m\n",
      "Apply complete! Resources: 0 added, 0 changed, 0 destroyed.\n",
      "\u001b[0m\u001b[0m\u001b[1m\u001b[32m\n",
      "Outputs:\n",
      "\n",
      "\u001b[0msubnets = [\n",
      "  \"192.168.100.0/24\",\n",
      "  \"192.168.101.0/24\",\n",
      "]\n",
      "zones = [\n",
      "  \"us-west-1b\",\n",
      "  \"us-west-1c\",\n",
      "]\n"
     ]
    }
   ],
   "source": [
    "TF_APPLY"
   ]
  },
  {
   "cell_type": "markdown",
   "id": "rural-provision",
   "metadata": {},
   "source": [
    "### 10. Clean up"
   ]
  },
  {
   "cell_type": "code",
   "execution_count": 15,
   "id": "piano-terminology",
   "metadata": {
    "scrolled": false
   },
   "outputs": [
    {
     "name": "stdout",
     "output_type": "stream",
     "text": [
      "\u001b[0m\u001b[1maws_vpc.main_vpc: Refreshing state... [id=vpc-0e3b272622a64a4fd]\u001b[0m\n",
      "\u001b[0m\u001b[1maws_subnet.vpc_subnets[1]: Refreshing state... [id=subnet-03dac58cee0dd0ff5]\u001b[0m\n",
      "\u001b[0m\u001b[1maws_subnet.vpc_subnets[0]: Refreshing state... [id=subnet-0fb8e127d9a35f71e]\u001b[0m\n",
      "\n",
      "Terraform used the selected providers to generate the following execution plan.\n",
      "Resource actions are indicated with the following symbols:\n",
      "  \u001b[31m-\u001b[0m destroy\n",
      "\u001b[0m\n",
      "Terraform will perform the following actions:\n",
      "\n",
      "\u001b[1m  # aws_subnet.vpc_subnets[0]\u001b[0m will be \u001b[1m\u001b[31mdestroyed\u001b[0m\u001b[0m\n",
      "\u001b[0m  \u001b[31m-\u001b[0m\u001b[0m resource \"aws_subnet\" \"vpc_subnets\" {\n",
      "      \u001b[31m-\u001b[0m \u001b[0m\u001b[1m\u001b[0marn\u001b[0m\u001b[0m                                            = \"arn:aws:ec2:us-west-1:816376574968:subnet/subnet-0fb8e127d9a35f71e\" \u001b[90m->\u001b[0m \u001b[0m\u001b[90mnull\u001b[0m\u001b[0m\n",
      "      \u001b[31m-\u001b[0m \u001b[0m\u001b[1m\u001b[0massign_ipv6_address_on_creation\u001b[0m\u001b[0m                = false \u001b[90m->\u001b[0m \u001b[0m\u001b[90mnull\u001b[0m\u001b[0m\n",
      "      \u001b[31m-\u001b[0m \u001b[0m\u001b[1m\u001b[0mavailability_zone\u001b[0m\u001b[0m                              = \"us-west-1b\" \u001b[90m->\u001b[0m \u001b[0m\u001b[90mnull\u001b[0m\u001b[0m\n",
      "      \u001b[31m-\u001b[0m \u001b[0m\u001b[1m\u001b[0mavailability_zone_id\u001b[0m\u001b[0m                           = \"usw1-az3\" \u001b[90m->\u001b[0m \u001b[0m\u001b[90mnull\u001b[0m\u001b[0m\n",
      "      \u001b[31m-\u001b[0m \u001b[0m\u001b[1m\u001b[0mcidr_block\u001b[0m\u001b[0m                                     = \"192.168.100.0/24\" \u001b[90m->\u001b[0m \u001b[0m\u001b[90mnull\u001b[0m\u001b[0m\n",
      "      \u001b[31m-\u001b[0m \u001b[0m\u001b[1m\u001b[0menable_dns64\u001b[0m\u001b[0m                                   = false \u001b[90m->\u001b[0m \u001b[0m\u001b[90mnull\u001b[0m\u001b[0m\n",
      "      \u001b[31m-\u001b[0m \u001b[0m\u001b[1m\u001b[0menable_resource_name_dns_a_record_on_launch\u001b[0m\u001b[0m    = false \u001b[90m->\u001b[0m \u001b[0m\u001b[90mnull\u001b[0m\u001b[0m\n",
      "      \u001b[31m-\u001b[0m \u001b[0m\u001b[1m\u001b[0menable_resource_name_dns_aaaa_record_on_launch\u001b[0m\u001b[0m = false \u001b[90m->\u001b[0m \u001b[0m\u001b[90mnull\u001b[0m\u001b[0m\n",
      "      \u001b[31m-\u001b[0m \u001b[0m\u001b[1m\u001b[0mid\u001b[0m\u001b[0m                                             = \"subnet-0fb8e127d9a35f71e\" \u001b[90m->\u001b[0m \u001b[0m\u001b[90mnull\u001b[0m\u001b[0m\n",
      "      \u001b[31m-\u001b[0m \u001b[0m\u001b[1m\u001b[0mipv6_native\u001b[0m\u001b[0m                                    = false \u001b[90m->\u001b[0m \u001b[0m\u001b[90mnull\u001b[0m\u001b[0m\n",
      "      \u001b[31m-\u001b[0m \u001b[0m\u001b[1m\u001b[0mmap_customer_owned_ip_on_launch\u001b[0m\u001b[0m                = false \u001b[90m->\u001b[0m \u001b[0m\u001b[90mnull\u001b[0m\u001b[0m\n",
      "      \u001b[31m-\u001b[0m \u001b[0m\u001b[1m\u001b[0mmap_public_ip_on_launch\u001b[0m\u001b[0m                        = false \u001b[90m->\u001b[0m \u001b[0m\u001b[90mnull\u001b[0m\u001b[0m\n",
      "      \u001b[31m-\u001b[0m \u001b[0m\u001b[1m\u001b[0mowner_id\u001b[0m\u001b[0m                                       = \"816376574968\" \u001b[90m->\u001b[0m \u001b[0m\u001b[90mnull\u001b[0m\u001b[0m\n",
      "      \u001b[31m-\u001b[0m \u001b[0m\u001b[1m\u001b[0mprivate_dns_hostname_type_on_launch\u001b[0m\u001b[0m            = \"ip-name\" \u001b[90m->\u001b[0m \u001b[0m\u001b[90mnull\u001b[0m\u001b[0m\n",
      "      \u001b[31m-\u001b[0m \u001b[0m\u001b[1m\u001b[0mtags\u001b[0m\u001b[0m                                           = {\n",
      "          \u001b[31m-\u001b[0m \u001b[0m\"LabName\" = \"4.ControlStructures\"\n",
      "          \u001b[31m-\u001b[0m \u001b[0m\"Name\"    = \"subnet-1\"\n",
      "        } \u001b[90m->\u001b[0m \u001b[0m\u001b[90mnull\u001b[0m\u001b[0m\n",
      "      \u001b[31m-\u001b[0m \u001b[0m\u001b[1m\u001b[0mtags_all\u001b[0m\u001b[0m                                       = {\n",
      "          \u001b[31m-\u001b[0m \u001b[0m\"Environment\" = \"Terraform Introduction\"\n",
      "          \u001b[31m-\u001b[0m \u001b[0m\"LabName\"     = \"4.ControlStructures\"\n",
      "          \u001b[31m-\u001b[0m \u001b[0m\"Name\"        = \"subnet-1\"\n",
      "        } \u001b[90m->\u001b[0m \u001b[0m\u001b[90mnull\u001b[0m\u001b[0m\n",
      "      \u001b[31m-\u001b[0m \u001b[0m\u001b[1m\u001b[0mvpc_id\u001b[0m\u001b[0m                                         = \"vpc-0e3b272622a64a4fd\" \u001b[90m->\u001b[0m \u001b[0m\u001b[90mnull\u001b[0m\u001b[0m\n",
      "    }\n",
      "\n",
      "\u001b[1m  # aws_subnet.vpc_subnets[1]\u001b[0m will be \u001b[1m\u001b[31mdestroyed\u001b[0m\u001b[0m\n",
      "\u001b[0m  \u001b[31m-\u001b[0m\u001b[0m resource \"aws_subnet\" \"vpc_subnets\" {\n",
      "      \u001b[31m-\u001b[0m \u001b[0m\u001b[1m\u001b[0marn\u001b[0m\u001b[0m                                            = \"arn:aws:ec2:us-west-1:816376574968:subnet/subnet-03dac58cee0dd0ff5\" \u001b[90m->\u001b[0m \u001b[0m\u001b[90mnull\u001b[0m\u001b[0m\n",
      "      \u001b[31m-\u001b[0m \u001b[0m\u001b[1m\u001b[0massign_ipv6_address_on_creation\u001b[0m\u001b[0m                = false \u001b[90m->\u001b[0m \u001b[0m\u001b[90mnull\u001b[0m\u001b[0m\n",
      "      \u001b[31m-\u001b[0m \u001b[0m\u001b[1m\u001b[0mavailability_zone\u001b[0m\u001b[0m                              = \"us-west-1c\" \u001b[90m->\u001b[0m \u001b[0m\u001b[90mnull\u001b[0m\u001b[0m\n",
      "      \u001b[31m-\u001b[0m \u001b[0m\u001b[1m\u001b[0mavailability_zone_id\u001b[0m\u001b[0m                           = \"usw1-az1\" \u001b[90m->\u001b[0m \u001b[0m\u001b[90mnull\u001b[0m\u001b[0m\n",
      "      \u001b[31m-\u001b[0m \u001b[0m\u001b[1m\u001b[0mcidr_block\u001b[0m\u001b[0m                                     = \"192.168.101.0/24\" \u001b[90m->\u001b[0m \u001b[0m\u001b[90mnull\u001b[0m\u001b[0m\n",
      "      \u001b[31m-\u001b[0m \u001b[0m\u001b[1m\u001b[0menable_dns64\u001b[0m\u001b[0m                                   = false \u001b[90m->\u001b[0m \u001b[0m\u001b[90mnull\u001b[0m\u001b[0m\n",
      "      \u001b[31m-\u001b[0m \u001b[0m\u001b[1m\u001b[0menable_resource_name_dns_a_record_on_launch\u001b[0m\u001b[0m    = false \u001b[90m->\u001b[0m \u001b[0m\u001b[90mnull\u001b[0m\u001b[0m\n",
      "      \u001b[31m-\u001b[0m \u001b[0m\u001b[1m\u001b[0menable_resource_name_dns_aaaa_record_on_launch\u001b[0m\u001b[0m = false \u001b[90m->\u001b[0m \u001b[0m\u001b[90mnull\u001b[0m\u001b[0m\n",
      "      \u001b[31m-\u001b[0m \u001b[0m\u001b[1m\u001b[0mid\u001b[0m\u001b[0m                                             = \"subnet-03dac58cee0dd0ff5\" \u001b[90m->\u001b[0m \u001b[0m\u001b[90mnull\u001b[0m\u001b[0m\n",
      "      \u001b[31m-\u001b[0m \u001b[0m\u001b[1m\u001b[0mipv6_native\u001b[0m\u001b[0m                                    = false \u001b[90m->\u001b[0m \u001b[0m\u001b[90mnull\u001b[0m\u001b[0m\n",
      "      \u001b[31m-\u001b[0m \u001b[0m\u001b[1m\u001b[0mmap_customer_owned_ip_on_launch\u001b[0m\u001b[0m                = false \u001b[90m->\u001b[0m \u001b[0m\u001b[90mnull\u001b[0m\u001b[0m\n",
      "      \u001b[31m-\u001b[0m \u001b[0m\u001b[1m\u001b[0mmap_public_ip_on_launch\u001b[0m\u001b[0m                        = false \u001b[90m->\u001b[0m \u001b[0m\u001b[90mnull\u001b[0m\u001b[0m\n",
      "      \u001b[31m-\u001b[0m \u001b[0m\u001b[1m\u001b[0mowner_id\u001b[0m\u001b[0m                                       = \"816376574968\" \u001b[90m->\u001b[0m \u001b[0m\u001b[90mnull\u001b[0m\u001b[0m\n",
      "      \u001b[31m-\u001b[0m \u001b[0m\u001b[1m\u001b[0mprivate_dns_hostname_type_on_launch\u001b[0m\u001b[0m            = \"ip-name\" \u001b[90m->\u001b[0m \u001b[0m\u001b[90mnull\u001b[0m\u001b[0m\n",
      "      \u001b[31m-\u001b[0m \u001b[0m\u001b[1m\u001b[0mtags\u001b[0m\u001b[0m                                           = {\n",
      "          \u001b[31m-\u001b[0m \u001b[0m\"LabName\" = \"4.ControlStructures\"\n",
      "          \u001b[31m-\u001b[0m \u001b[0m\"Name\"    = \"subnet-2\"\n",
      "        } \u001b[90m->\u001b[0m \u001b[0m\u001b[90mnull\u001b[0m\u001b[0m\n",
      "      \u001b[31m-\u001b[0m \u001b[0m\u001b[1m\u001b[0mtags_all\u001b[0m\u001b[0m                                       = {\n",
      "          \u001b[31m-\u001b[0m \u001b[0m\"Environment\" = \"Terraform Introduction\"\n",
      "          \u001b[31m-\u001b[0m \u001b[0m\"LabName\"     = \"4.ControlStructures\"\n",
      "          \u001b[31m-\u001b[0m \u001b[0m\"Name\"        = \"subnet-2\"\n",
      "        } \u001b[90m->\u001b[0m \u001b[0m\u001b[90mnull\u001b[0m\u001b[0m\n",
      "      \u001b[31m-\u001b[0m \u001b[0m\u001b[1m\u001b[0mvpc_id\u001b[0m\u001b[0m                                         = \"vpc-0e3b272622a64a4fd\" \u001b[90m->\u001b[0m \u001b[0m\u001b[90mnull\u001b[0m\u001b[0m\n",
      "    }\n",
      "\n",
      "\u001b[1m  # aws_vpc.main_vpc\u001b[0m will be \u001b[1m\u001b[31mdestroyed\u001b[0m\u001b[0m\n",
      "\u001b[0m  \u001b[31m-\u001b[0m\u001b[0m resource \"aws_vpc\" \"main_vpc\" {\n",
      "      \u001b[31m-\u001b[0m \u001b[0m\u001b[1m\u001b[0marn\u001b[0m\u001b[0m                                  = \"arn:aws:ec2:us-west-1:816376574968:vpc/vpc-0e3b272622a64a4fd\" \u001b[90m->\u001b[0m \u001b[0m\u001b[90mnull\u001b[0m\u001b[0m\n",
      "      \u001b[31m-\u001b[0m \u001b[0m\u001b[1m\u001b[0massign_generated_ipv6_cidr_block\u001b[0m\u001b[0m     = false \u001b[90m->\u001b[0m \u001b[0m\u001b[90mnull\u001b[0m\u001b[0m\n",
      "      \u001b[31m-\u001b[0m \u001b[0m\u001b[1m\u001b[0mcidr_block\u001b[0m\u001b[0m                           = \"192.168.0.0/16\" \u001b[90m->\u001b[0m \u001b[0m\u001b[90mnull\u001b[0m\u001b[0m\n",
      "      \u001b[31m-\u001b[0m \u001b[0m\u001b[1m\u001b[0mdefault_network_acl_id\u001b[0m\u001b[0m               = \"acl-0656485f2b0e4f211\" \u001b[90m->\u001b[0m \u001b[0m\u001b[90mnull\u001b[0m\u001b[0m\n",
      "      \u001b[31m-\u001b[0m \u001b[0m\u001b[1m\u001b[0mdefault_route_table_id\u001b[0m\u001b[0m               = \"rtb-02b576cb0d84522a8\" \u001b[90m->\u001b[0m \u001b[0m\u001b[90mnull\u001b[0m\u001b[0m\n",
      "      \u001b[31m-\u001b[0m \u001b[0m\u001b[1m\u001b[0mdefault_security_group_id\u001b[0m\u001b[0m            = \"sg-04d5ecca7ae2e9766\" \u001b[90m->\u001b[0m \u001b[0m\u001b[90mnull\u001b[0m\u001b[0m\n",
      "      \u001b[31m-\u001b[0m \u001b[0m\u001b[1m\u001b[0mdhcp_options_id\u001b[0m\u001b[0m                      = \"dopt-5f798839\" \u001b[90m->\u001b[0m \u001b[0m\u001b[90mnull\u001b[0m\u001b[0m\n",
      "      \u001b[31m-\u001b[0m \u001b[0m\u001b[1m\u001b[0menable_classiclink\u001b[0m\u001b[0m                   = false \u001b[90m->\u001b[0m \u001b[0m\u001b[90mnull\u001b[0m\u001b[0m\n",
      "      \u001b[31m-\u001b[0m \u001b[0m\u001b[1m\u001b[0menable_classiclink_dns_support\u001b[0m\u001b[0m       = false \u001b[90m->\u001b[0m \u001b[0m\u001b[90mnull\u001b[0m\u001b[0m\n",
      "      \u001b[31m-\u001b[0m \u001b[0m\u001b[1m\u001b[0menable_dns_hostnames\u001b[0m\u001b[0m                 = false \u001b[90m->\u001b[0m \u001b[0m\u001b[90mnull\u001b[0m\u001b[0m\n",
      "      \u001b[31m-\u001b[0m \u001b[0m\u001b[1m\u001b[0menable_dns_support\u001b[0m\u001b[0m                   = true \u001b[90m->\u001b[0m \u001b[0m\u001b[90mnull\u001b[0m\u001b[0m\n",
      "      \u001b[31m-\u001b[0m \u001b[0m\u001b[1m\u001b[0menable_network_address_usage_metrics\u001b[0m\u001b[0m = false \u001b[90m->\u001b[0m \u001b[0m\u001b[90mnull\u001b[0m\u001b[0m\n",
      "      \u001b[31m-\u001b[0m \u001b[0m\u001b[1m\u001b[0mid\u001b[0m\u001b[0m                                   = \"vpc-0e3b272622a64a4fd\" \u001b[90m->\u001b[0m \u001b[0m\u001b[90mnull\u001b[0m\u001b[0m\n",
      "      \u001b[31m-\u001b[0m \u001b[0m\u001b[1m\u001b[0minstance_tenancy\u001b[0m\u001b[0m                     = \"default\" \u001b[90m->\u001b[0m \u001b[0m\u001b[90mnull\u001b[0m\u001b[0m\n",
      "      \u001b[31m-\u001b[0m \u001b[0m\u001b[1m\u001b[0mipv6_netmask_length\u001b[0m\u001b[0m                  = 0 \u001b[90m->\u001b[0m \u001b[0m\u001b[90mnull\u001b[0m\u001b[0m\n",
      "      \u001b[31m-\u001b[0m \u001b[0m\u001b[1m\u001b[0mmain_route_table_id\u001b[0m\u001b[0m                  = \"rtb-02b576cb0d84522a8\" \u001b[90m->\u001b[0m \u001b[0m\u001b[90mnull\u001b[0m\u001b[0m\n",
      "      \u001b[31m-\u001b[0m \u001b[0m\u001b[1m\u001b[0mowner_id\u001b[0m\u001b[0m                             = \"816376574968\" \u001b[90m->\u001b[0m \u001b[0m\u001b[90mnull\u001b[0m\u001b[0m\n",
      "      \u001b[31m-\u001b[0m \u001b[0m\u001b[1m\u001b[0mtags\u001b[0m\u001b[0m                                 = {\n"
     ]
    },
    {
     "name": "stdout",
     "output_type": "stream",
     "text": [
      "          \u001b[31m-\u001b[0m \u001b[0m\"LabName\"  = \"4.ControlStructures\"\n",
      "          \u001b[31m-\u001b[0m \u001b[0m\"Location\" = \"London\"\n",
      "          \u001b[31m-\u001b[0m \u001b[0m\"Name\"     = \"Main\"\n",
      "        } \u001b[90m->\u001b[0m \u001b[0m\u001b[90mnull\u001b[0m\u001b[0m\n",
      "      \u001b[31m-\u001b[0m \u001b[0m\u001b[1m\u001b[0mtags_all\u001b[0m\u001b[0m                             = {\n",
      "          \u001b[31m-\u001b[0m \u001b[0m\"Environment\" = \"Terraform Introduction\"\n",
      "          \u001b[31m-\u001b[0m \u001b[0m\"LabName\"     = \"4.ControlStructures\"\n",
      "          \u001b[31m-\u001b[0m \u001b[0m\"Location\"    = \"London\"\n",
      "          \u001b[31m-\u001b[0m \u001b[0m\"Name\"        = \"Main\"\n",
      "        } \u001b[90m->\u001b[0m \u001b[0m\u001b[90mnull\u001b[0m\u001b[0m\n",
      "    }\n",
      "\n",
      "\u001b[0m\u001b[1mPlan:\u001b[0m 0 to add, 0 to change, 3 to destroy.\n",
      "\u001b[0m\u001b[0m\n",
      "\u001b[1mChanges to Outputs:\u001b[0m\u001b[0m\n",
      "  \u001b[31m-\u001b[0m \u001b[0m\u001b[1m\u001b[0msubnets\u001b[0m\u001b[0m = [\n",
      "      \u001b[31m-\u001b[0m \u001b[0m\"192.168.100.0/24\",\n",
      "      \u001b[31m-\u001b[0m \u001b[0m\"192.168.101.0/24\",\n",
      "    ] \u001b[90m->\u001b[0m \u001b[0m\u001b[90mnull\u001b[0m\u001b[0m\n",
      "  \u001b[31m-\u001b[0m \u001b[0m\u001b[1m\u001b[0mzones\u001b[0m\u001b[0m   = [\n",
      "      \u001b[31m-\u001b[0m \u001b[0m\"us-west-1b\",\n",
      "      \u001b[31m-\u001b[0m \u001b[0m\"us-west-1c\",\n",
      "    ] \u001b[90m->\u001b[0m \u001b[0m\u001b[90mnull\u001b[0m\u001b[0m\n",
      "\u001b[0m\u001b[1maws_subnet.vpc_subnets[0]: Destroying... [id=subnet-0fb8e127d9a35f71e]\u001b[0m\u001b[0m\n",
      "\u001b[0m\u001b[1maws_subnet.vpc_subnets[1]: Destroying... [id=subnet-03dac58cee0dd0ff5]\u001b[0m\u001b[0m\n",
      "\u001b[0m\u001b[1maws_subnet.vpc_subnets[1]: Destruction complete after 1s\u001b[0m\n",
      "\u001b[0m\u001b[1maws_subnet.vpc_subnets[0]: Destruction complete after 2s\u001b[0m\n",
      "\u001b[0m\u001b[1maws_vpc.main_vpc: Destroying... [id=vpc-0e3b272622a64a4fd]\u001b[0m\u001b[0m\n",
      "\u001b[0m\u001b[1maws_vpc.main_vpc: Destruction complete after 0s\u001b[0m\n",
      "\u001b[0m\u001b[1m\u001b[32m\n",
      "Destroy complete! Resources: 3 destroyed.\n",
      "\u001b[0m\n"
     ]
    }
   ],
   "source": [
    "TF_DESTROY"
   ]
  },
  {
   "cell_type": "markdown",
   "id": "alternate-array",
   "metadata": {},
   "source": [
    "To destroy the formerly created AWS vpc, and all subnets.\n",
    "\n",
    "<hr/>\n",
    "\n",
    "# Summary\n",
    "\n",
    "In this exercise we used the count special attribute to create multiple *aws_subnet* resources,\n",
    "1 per availabiity_zone.\n",
    "\n",
    "# Solutions\n",
    "\n",
    "Solutions are available in the *github* repo at ```https://github.com/mjbright/tf-scenarios``` under Solutions at https://github.com/mjbright/tf-scenarios/tree/main/Solutions/lab4\n",
    "\n",
    "\n",
    "\n",
    "# **Stretch Goal 1:** Template Directives & String Interpolation\n",
    "\n",
    "Consider how using Template directives allow to build up an interpolated string where each string contains the\n",
    "- public_ip\n",
    "- public_dns\n",
    "- private_ip\n",
    "of the *aws_instance* resource\n",
    "\n",
    "You might want to refer to https://github.com/hashicorp/terraform-guides/tree/master/infrastructure-as-code/terraform-0.12-examples/new-template-syntax\n",
    "\n",
    "# **Stretch Goal 2:** \"for\" Expressions\n",
    "\n",
    "Modify the previous output to convert the availability zone to upper case\n",
    "\n",
    "You might want to refer to https://github.com/hashicorp/terraform-guides/tree/master/infrastructure-as-code/terraform-0.12-examples/for-expressions"
   ]
  },
  {
   "cell_type": "markdown",
   "id": "naval-adolescent",
   "metadata": {},
   "source": [
    "<hr/>\n",
    "\n",
    "<!-- Why does this no longer work ??\n",
    "<img src=\"../../../static/images/ThickBlueBar.png\" />\n",
    "<img src=\"../../../static/images/LOGO.jpg\" width=200 />\n",
    "-->\n",
    "\n",
    "<img src=\"../images/ThickBlueBar.png\" />\n",
    "<img src=\"../images/LOGO.jpg\" width=200 />"
   ]
  },
  {
   "cell_type": "code",
   "execution_count": 16,
   "id": "d86582a4",
   "metadata": {},
   "outputs": [
    {
     "name": "stdout",
     "output_type": "stream",
     "text": [
      "2023-Jan-09:[TF-1.3.7] Lab updated on node tf[terraform 1.3.7]\n"
     ]
    },
    {
     "ename": "",
     "evalue": "1",
     "output_type": "error",
     "traceback": []
    }
   ],
   "source": [
    "EXEC cd $NB_DIR\n",
    "EXCL_FN_LAB_ENV"
   ]
  },
  {
   "cell_type": "markdown",
   "id": "dbff0fbb",
   "metadata": {},
   "source": [
    "# Pragma --EXCLUDE--SECTION--\n",
    "\n",
    "<div class=\"alert alert-danger\"> <b>NOTE</b> Save notebook first </div>\n",
    "<!-- ## **NOTE:** Save notebook first -->\n",
    "\n",
    "<div id=\"END\" /> <a href=\"#TOP\" > TOP OF PAGE </a>  <!-- must appear after EXCLUDE pragma !! -->"
   ]
  },
  {
   "cell_type": "code",
   "execution_count": 17,
   "id": "38e8d12e",
   "metadata": {},
   "outputs": [
    {
     "name": "stdout",
     "output_type": "stream",
     "text": [
      "TF-1.3.7 -rw-rw-r-- 1 student student 9 Jan  8 19:18 /home/student/.environment\n",
      "Reading package lists... 0%Reading package lists... 100%Reading package lists... Done\n",
      "Building dependency tree... 0%Building dependency tree... 0%Building dependency tree... 50%Building dependency tree... 50%Building dependency tree       \n",
      "Reading state information... 0%Reading state information... 0%Reading state information... Done\n",
      "sysvbanner is already the newest version (1:1.0-17fakesync1).\n",
      "The following packages were automatically installed and are no longer required:\n",
      "  linux-headers-5.4.0-120 linux-headers-5.4.0-120-generic\n",
      "  linux-image-5.4.0-120-generic linux-modules-5.4.0-120-generic\n",
      "Use 'sudo apt autoremove' to remove them.\n",
      "0 upgraded, 0 newly installed, 0 to remove and 0 not upgraded.\n",
      "/home/student/src/tf-labs/4.ControlStructures\n",
      "\n",
      "==== Filtering current notebook [/home/student/src/tf-labs/4.ControlStructures/README.ipynb] ====\n",
      "\n",
      "******** Mon 09 Jan 2023 02:42:02 PM UTC: Notebook filtered on tf TF-1.3.7\n",
      "\n",
      "mv: cannot move '/home/student/Solutions/Lab' to '/home/student/Solutions/BAK/Lab': Directory not empty\n",
      "-- . ~/scripts/nbtool.rc\n",
      "TF-1.3.7 -rw-rw-r-- 1 student student 9 Jan  8 19:18 /home/student/.environment\n",
      "Reading package lists... 0%Reading package lists... 100%Reading package lists... Done\n",
      "Building dependency tree... 0%Building dependency tree... 0%Building dependency tree... 50%Building dependency tree... 50%Building dependency tree       \n",
      "Reading state information... 0%Reading state information... 0%Reading state information... Done\n",
      "sysvbanner is already the newest version (1:1.0-17fakesync1).\n",
      "The following packages were automatically installed and are no longer required:\n",
      "  linux-headers-5.4.0-120 linux-headers-5.4.0-120-generic\n",
      "  linux-image-5.4.0-120-generic linux-modules-5.4.0-120-generic\n",
      "Use 'sudo apt autoremove' to remove them.\n",
      "0 upgraded, 0 newly installed, 0 to remove and 0 not upgraded.\n",
      "/home/student/.venv/TRAINING/bin/python3\n",
      "\n",
      "-- ~/.venv/TRAINING/bin/python3 ~/scripts/nbtool.py -f ~/src/tf-labs/4.ControlStructures/README.ipynb\n",
      "---- no VARS_SEEN ----\n",
      "i/p nb has 0 variables\n",
      "/home/student/src/tf-labs/4.ControlStructures/README.ipynb:\n",
      "\t#cells=39\n",
      "cells to include[#29]=[[4, 5, 7, 8, 9, 10, 11, 12, 13, 14, 15, 16, 17, 18, 19, 20, 21, 22, 23, 24, 25, 26, 27, 28, 29, 30, 31, 32, 33]]\n",
      "cells to include[#29]=[[33, 32, 31, 30, 29, 28, 27, 26, 25, 24, 23, 22, 21, 20, 19, 18, 17, 16, 15, 14, 13, 12, 11, 10, 9, 8, 7, 5, 4]]\n",
      "included markdown cells=[5, 8, 10, 11, 13, 15, 17, 19, 21, 23, 25, 27, 29, 31, 32]\n",
      "included code     cells=[4, 7, 9, 12, 14, 16, 18, 20, 22, 24, 26, 28, 30, 33]\n",
      "excluded          cells=[0, 1, 2, 3, 6, 34, 35, 36, 37]\n",
      "---- no VARS_SEEN ----\n",
      "o/p nb has 0 variables\n",
      "/home/student/src/tf-labs/4.ControlStructures/README.ipynb.filtered.ipynb:\n",
      "\t#cells=29\n",
      "-rw-rw-r-- 1 student student 34926 Jan  9 14:42 README.ipynb.filtered.ipynb\n",
      "\n",
      "1 VAR defs/usages in i/p file: ~/src/tf-labs/4.ControlStructures/README.ipynb\n",
      "\n",
      "Good: No VAR defs/usages in o/p file\n",
      "\n",
      "-- jupyter-nbconvert --to markdown README.ipynb.filtered.ipynb\n",
      "[NbConvertApp] Converting notebook README.ipynb.filtered.ipynb to markdown\n",
      "[NbConvertApp] Writing 28427 bytes to README.ipynb.filtered.md\n",
      "\n",
      "-- jupyter-nbconvert --to html README.ipynb.filtered.ipynb\n",
      "[NbConvertApp] Converting notebook README.ipynb.filtered.ipynb to html\n",
      "[NbConvertApp] Writing 628579 bytes to README.ipynb.filtered.html\n",
      "\n",
      "\u001b[32m-rw-rw-r-- 1 student student 34926 Jan  9 14:42 Lab_4.ControlStructures.ipynb\u001b[0m\n",
      "\u001b[32m-rw-rw-r-- 1 student student 57218 Jan  9 14:42 Lab_4.ControlStructures.md\u001b[0m\n"
     ]
    }
   ],
   "source": [
    "set +x\n",
    ". ~/scripts/nbtool.rc\n",
    "pwd\n",
    "#NB_DIR=$PWD\n",
    "#echo NB=$NB\n",
    "#echo NB_DIR=$NB_DIR\n",
    "#set -x\n",
    "set +x\n",
    "EXCL_FN_FILTER_NOTEBOOK $NB"
   ]
  },
  {
   "cell_type": "code",
   "execution_count": null,
   "id": "13aacad3",
   "metadata": {},
   "outputs": [],
   "source": [
    "exit 1"
   ]
  },
  {
   "cell_type": "code",
   "execution_count": null,
   "id": "1fd3c6ec",
   "metadata": {},
   "outputs": [],
   "source": [
    "cd $NB_DIR\n",
    "\n",
    "nbtool.py -f index.ipynb\n",
    "\n",
    "ls -altr *.ipynb\n",
    "\n",
    "jupyter-nbconvert --to markdown index.ipynb.filtered.ipynb\n",
    "\n",
    "echo \"$FRONTMATTER\" > index.md\n",
    "\n",
    "cat index.ipynb.filtered.md >> index.md\n",
    "mv index.ipynb.filtered.md index.ipynb.filtered.md.bak\n",
    "\n",
    "ls -altr *.md"
   ]
  },
  {
   "cell_type": "code",
   "execution_count": null,
   "id": "719d7347",
   "metadata": {},
   "outputs": [],
   "source": []
  }
 ],
 "metadata": {
  "kernelspec": {
   "display_name": "Bash",
   "language": "bash",
   "name": "bash"
  },
  "language_info": {
   "codemirror_mode": "shell",
   "file_extension": ".sh",
   "mimetype": "text/x-sh",
   "name": "bash"
  }
 },
 "nbformat": 4,
 "nbformat_minor": 5
}
