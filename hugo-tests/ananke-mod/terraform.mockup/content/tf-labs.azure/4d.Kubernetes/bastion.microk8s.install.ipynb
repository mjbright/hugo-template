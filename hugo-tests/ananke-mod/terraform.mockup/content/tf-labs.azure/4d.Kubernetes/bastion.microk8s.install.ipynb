{
 "cells": [
  {
   "cell_type": "markdown",
   "id": "numerous-weight",
   "metadata": {},
   "source": [
    "# Installing microk8s on ubuntu\n",
    "\n",
    "sudo snap install microk8s --classic\n",
    "sudo microk8s status\n",
    "\n",
    "sudo usermod -aG microk8s ubuntu\n",
    "\n",
    "  vi .bashrc\n",
    "  . .bashrc\n",
    "\n",
    "\n",
    "sudo cp .kube/config /home/student20/.kube/\n",
    "<> ubuntu@bastion ~> sudo chown -R -f student20 /home/student20/.kube/\n",
    "\n",
    "\n",
    "# In a new shell on bastion\n",
    "\n",
    "microk8s kubectl get nodes   \n",
    "#microk8s config > microk8s.config\n",
    "[ -f ~/.kube/config ] && die \"Not overwriting ~/.kube/config\"\n",
    "microk8s config > ~/.kube/config\n",
    "kubectl get nodes   \n",
    "\n",
    "\n",
    "ubuntu@bastion:~$ sudo mkdir /home/student1/.kube\n",
    "ubuntu@bastion:~$ sudo cp .kube/config /home/student1/.kube/\n",
    "ubuntu@bastion:~$ sudo chown -R -f ubuntu /home/student1/.kube/\n",
    "ubuntu@bastion:~$ sudo mkdir /home/student2/.kube\n",
    "ubuntu@bastion:~$ sudo cp .kube/config /home/student2/.kube/\n",
    "ubuntu@bastion:~$ sudo chown -R -f ubuntu /home/student2/.kube/"
   ]
  }
 ],
 "metadata": {
  "kernelspec": {
   "display_name": "Bash",
   "language": "bash",
   "name": "bash"
  },
  "language_info": {
   "codemirror_mode": "shell",
   "file_extension": ".sh",
   "mimetype": "text/x-sh",
   "name": "bash"
  }
 },
 "nbformat": 4,
 "nbformat_minor": 5
}
