{
 "cells": [
  {
   "cell_type": "markdown",
   "id": "1c28b315",
   "metadata": {},
   "source": [
    "<div id=\"TOP\" />\n",
    "<a href=\"#END\" > END of Notebook (filter) </a>\n",
    "\n",
    "$__ A BOX $\n",
    "<div class=\"alert alert-info\"> <b>Info</b>  - an info </div>\n",
    "<div class=\"alert alert-warning\"> <b>Info</b>  - a warning </div>\n",
    "<div class=\"alert alert-danger\"> <b>Info</b>  - an danger </div>"
   ]
  },
  {
   "cell_type": "code",
   "execution_count": 9,
   "id": "22bba49f",
   "metadata": {
    "scrolled": false
   },
   "outputs": [
    {
     "name": "stdout",
     "output_type": "stream",
     "text": [
      "==== Reading nbtool functions from '/home/student/scripts/nbtool.rc' ====\n",
      "TF-1.3.7 -rw-rw-r-- 1 student student 9 Jan  8 19:18 /home/student/.environment\n",
      "Reading package lists... 0%Reading package lists... 100%Reading package lists... Done\n",
      "Building dependency tree... 0%Building dependency tree... 0%Building dependency tree... 50%Building dependency tree... 50%Building dependency tree       \n",
      "Reading state information... 0%Reading state information... 0%Reading state information... Done\n",
      "sysvbanner is already the newest version (1:1.0-17fakesync1).\n",
      "The following packages were automatically installed and are no longer required:\n",
      "  linux-headers-5.4.0-120 linux-headers-5.4.0-120-generic\n",
      "  linux-image-5.4.0-120-generic linux-modules-5.4.0-120-generic\n",
      "Use 'sudo apt autoremove' to remove them.\n",
      "0 upgraded, 0 newly installed, 0 to remove and 0 not upgraded.\n",
      "\n",
      "******** Sun 08 Jan 2023 07:18:33 PM UTC: Notebook initialized on tf TF-1.3.7\n",
      "\n",
      "\u001b[01;31m\u001b[KNB_DIR=/home/student/src/mjbright.tf-scenarios-private/ServeUpLabs/content/tf-labs/1.InstallTerraform\u001b[m\u001b[K\n",
      "\n",
      "==== Setting TF_DATA_DIR ====\n",
      "TF_DATA_DIR\u001b[01;31m\u001b[K=/home/student/dot.terraform\u001b[m\u001b[K\n",
      "\n",
      "==== Setting AWS vars for student20 account ====\n",
      "bash: /home/student/.aws/linked/student20.rc: No such file or directory\n",
      "==== Terraform Lab \u001b[01;31m\u001b[Kweight[20] / tag[1.InstallTerraform] / name[Lab 1. SETUP - Install Terraform] ====\u001b[m\u001b[K\n",
      "NB_DIR=/home/student/src/mjbright.tf-scenarios-private/ServeUpLabs/content/tf-labs/1.InstallTerraform\n",
      "NB=/home/student/src/mjbright.tf-scenarios-private/ServeUpLabs/content/tf-labs/1.InstallTerraform/README.ipynb\n",
      "\n",
      "==== Filtering current notebook [/home/student/src/mjbright.tf-scenarios-private/ServeUpLabs/content/tf-labs/1.InstallTerraform/README.ipynb] ====\n",
      "\n",
      "******** Sun 08 Jan 2023 07:18:33 PM UTC: Notebook filtered on tf TF-1.3.7\n",
      "\n",
      "-- . ~/scripts/nbtool.rc\n",
      "TF-1.3.7 -rw-rw-r-- 1 student student 9 Jan  8 19:18 /home/student/.environment\n",
      "Reading package lists... 0%Reading package lists... 100%Reading package lists... Done\n",
      "Building dependency tree... 0%Building dependency tree... 0%Building dependency tree... 50%Building dependency tree... 50%Building dependency tree       \n",
      "Reading state information... 0%Reading state information... 0%Reading state information... Done\n",
      "sysvbanner is already the newest version (1:1.0-17fakesync1).\n",
      "The following packages were automatically installed and are no longer required:\n",
      "  linux-headers-5.4.0-120 linux-headers-5.4.0-120-generic\n",
      "  linux-image-5.4.0-120-generic linux-modules-5.4.0-120-generic\n",
      "Use 'sudo apt autoremove' to remove them.\n",
      "0 upgraded, 0 newly installed, 0 to remove and 0 not upgraded.\n",
      "/home/student/.venv/TRAINING/bin/python3\n",
      "\n",
      "-- ~/.venv/TRAINING/bin/python3 ~/scripts/nbtool.py -f ~/src/mjbright.tf-scenarios-private/ServeUpLabs/content/tf-labs/1.InstallTerraform/README.ipynb\n",
      "---- no VARS_SEEN ----\n",
      "i/p nb has 0 variables\n",
      "/home/student/src/mjbright.tf-scenarios-private/ServeUpLabs/content/tf-labs/1.InstallTerraform/README.ipynb:\n",
      "\t#cells=59\n",
      "[filter_nb] long wget \"https://releases.hashicorp.com/terraform/1.3.7/terraform_1.3.7_linux_amd64.zip\"\n",
      " > 80 False\n",
      "[filter_nb] \u001b[00;31mlen=86 > 80 in cell In [5] \u001b[00mof section  in line 'wget $__DOWNLOAD_URL\n",
      "'\n",
      "[filter_nb] long     description = \"It is good practice to add a description to explain the variable's purpose\"\n",
      " > 80 False\n",
      "[filter_nb] \u001b[00;31mlen=95 > 80 in cell In [13] \u001b[00mof section  in line '    description = \"It is good practice to add a description to explain the variable's purpose\"\n",
      "'\n",
      "[filter_nb] long output op_test2 { value = \"The same variablea' ${var.test}' using string interpolation\" } \n",
      " > 80 False\n",
      "[filter_nb] \u001b[00;31mlen=91 > 80 in cell In [13] \u001b[00mof section  in line 'output op_test2 { value = \"The same variablea' ${var.test}' using string interpolation\" } \n",
      "'\n",
      "cells to include[#42]=[[5, 6, 8, 9, 10, 11, 12, 13, 14, 15, 16, 17, 18, 19, 20, 22, 23, 24, 25, 26, 27, 28, 30, 32, 33, 34, 35, 36, 37, 38, 39, 40, 41, 43, 45, 46, 47, 48, 49, 50, 51, 52]]\n",
      "cells to include[#42]=[[52, 51, 50, 49, 48, 47, 46, 45, 43, 41, 40, 39, 38, 37, 36, 35, 34, 33, 32, 30, 28, 27, 26, 25, 24, 23, 22, 20, 19, 18, 17, 16, 15, 14, 13, 12, 11, 10, 9, 8, 6, 5]]\n",
      "included markdown cells=[6, 9, 11, 13, 15, 16, 18, 19, 22, 24, 28, 32, 34, 36, 38, 40, 41, 45, 46, 48, 49, 50, 51]\n",
      "included code     cells=[5, 8, 10, 12, 14, 17, 20, 23, 25, 26, 27, 30, 33, 35, 37, 39, 43, 47, 52]\n",
      "excluded          cells=[0, 1, 2, 3, 4, 7, 21, 29, 31, 42, 44, 53, 54, 55, 56, 57]\n",
      "----- VARS_SEEN [/home/student/src/mjbright.tf-scenarios-private/ServeUpLabs/content/tf-labs/1.InstallTerraform/README.ipynb.filtered.ipynb] ------\n",
      "nb __DOWNLOAD_URL\t (last value: \"\"https://releases.hashicorp.com/terraform/1.3.7/terraform_1.3.7_linux_amd64.zip\"\")\n",
      "---------------------------------\n",
      "/home/student/src/mjbright.tf-scenarios-private/ServeUpLabs/content/tf-labs/1.InstallTerraform/README.ipynb.filtered.ipynb:\n",
      "\t#cells=42\n",
      "-rw-rw-r-- 1 student student 47080 Jan  8 19:18 README.ipynb.filtered.ipynb\n",
      "\n",
      "-- Error: EXCLUDE/FN_EXCL seen in README.ipynb.filtered.ipynb:\n",
      "{\"cells\": [{\"cell_type\": \"code\", \"execution_count\": 5, \"id\": \"cfd83bdd\", \"metadata\": {}, \"outputs\": [{\"name\": \"stdout\", \"output_type\": \"stream\", \"text\": [\"2023-Jan-08:[**** NO ~/.environment ****] Lab updated on node tf[terraform missing]\\n\"]}, {\"ename\": \"\", \"evalue\": \"1\", \"output_type\": \"error\", \"traceback\": []}], \"source\": [\"\"]}, {\"cell_type\": \"markdown\", \"id\": \"varying-russian\", \"metadata\": {}, \"source\": [\"\\n\\n<img align=\\\"left\\\" src=\\\"../images/ThinBlueBar.png\\\" width=\\\"400\\\" /><br/>\\n\\n## Background:\\n\", \"In this initial setup we will download the Terraform binary from the https://terraform.io website.\\n\", \"\\n\", \"<!-- You should already have the following: -->\\n\", \"\\n\", \"\\n\\n<img align=\\\"left\\\" src=\\\"../images/ThinBlueBar.png\\\" /><br/>\\n\\n# 1.1 Login to the *Bastion* node\\n\", \"\\n\", \"\\n\\n<img align=\\\"left\\\" src=\\\"../images/ThinBlueBar.png\\\" width=\\\"400\\\" /><br/>\\n\\n## 1.1.1 Download the Terraform binary to the bastion:\\n\", \"\\n\", \"Go to [Terraform Downloads (https://www.terraform.io/downloads.html)](https://www.terraform.io/downloads.html).\\n\", \"\\n\", \"**Note:** we can download or install Terraform in various ways for each operating system - we will simply download static binaries to the provided bastion *virtual machine*\\n\", \"\\n\", \"Download the latest binary for your platform - *linux-amd64* - in this case.\\n\", \"\\n\", \"Right-click on the 64-bit link for Linux, as shown below, and copy the link:\\n\", \"\\n\", \"![](../../../static/images/terraform_download.png)\\n\", \"\\n\", \"In your VM, use wget to download the zip file containing terraform and then unzip that file\"]}, {\"cell_type\": \"code\", \"execution_count\": 5, \"id\": \"historic-insulin\", \"metadata\": {}, \"outputs\": [{\"name\": \"stdout\", \"output_type\": \"stream\", \"text\": [\"DOWNLOAD_URL=https://releases.hashicorp.com/terraform/1.2.2/terraform_1.2.2_linux_amd64.zip\\n\", \"\\n\", \"--2022-06-07 14:46:41--  https://releases.hashicorp.com/terraform/1.2.2/terraform_1.2.2_linux_amd64.zip\\n\", \"Resolving releases.hashicorp.com (releases.hashicorp.com)... 151.101.54.49\\n\", \"Connecting to releases.hashicorp.com (releases.hashicorp.com)|151.101.54.49|:443... connected.\\n\", \"HTTP request sent, awaiting response... 200 OK\\n\", \"Length: 19889133 (19M) [application/zip]\\n\", \"Saving to: \\u2018terraform_1.2.2_linux_amd64.zip\\u2019\\n\", \"\\n\", \"terraform_1.2.2_lin 100%[===================>]  18.97M  66.2MB/s    in 0.3s    \\n\", \"\\n\", \"2022-06-07 14:46:41 (66.2 MB/s) - \\u2018terraform_1.2.2_linux_amd64.zip\\u2019 saved [19889133/19889133]\\n\", \"\\n\", \"Archive:  terraform_1.2.2_linux_amd64.zip\\n\", \"  inflating: terraform               \\n\"]}], \"source\": [\"mkdir -p ~/tmp/\\n\", \"cd ~/tmp/\\n\", \"\\n\", \"echo DOWNLOAD_URL=$DOWNLOAD_URL\\n\", \"echo\\n\", \"wget \\\"https://releases.hashicorp.com/terraform/1.3.7/terraform_1.3.7_linux_amd64.zip\\\"\\n\", \"\\n\", \"unzip terraform_*_linux_amd64.zip\"]}, {\"cell_type\": \"markdown\", \"id\": \"union-anthony\", \"metadata\": {}, \"source\": [\"\\n\\n<img align=\\\"left\\\" src=\\\"../images/ThinBlueBar.png\\\" width=\\\"400\\\" /><br/>\\n\\n## 1.1.2 Check Terraform Version\\n\", \"\\n\", \"Check the terraform version, you should see output similar to:\"]}, {\"cell_type\": \"code\", \"execution_count\": 6, \"id\": \"sorted-strengthening\", \"metadata\": {}, \"outputs\": [{\"name\": \"stdout\", \"output_type\": \"stream\", \"text\": [\"Terraform v1.2.2\\n\", \"on linux_amd64\\n\"]}], \"source\": [\"./terraform version\"]}, {\"cell_type\": \"markdown\", \"id\": \"cooked-delivery\", \"metadata\": {}, \"source\": [\"\\n\\n<img align=\\\"left\\\" src=\\\"../images/ThinBlueBar.png\\\" width=\\\"400\\\" /><br/>\\n\\n## 1.1.3 Move Terraform into ~/bin\"]}, {\"cell_type\": \"code\", \"execution_count\": 7, \"id\": \"quality-swift\", \"metadata\": {}, \"outputs\": [], \"source\": [\"mkdir -p ~/bin\\n\", \"mv terraform ~/bin\\n\", \"\\n\", \"echo 'export PATH=~/bin:$PATH' >> ~/.bashrc\\n\", \" . ~/.bashrc\"]}, {\"cell_type\": \"markdown\", \"id\": \"marine-prevention\", \"metadata\": {}, \"source\": [\"Log out and then log in again and make sure that the command\"]}, {\"cell_type\": \"code\", \"execution_count\": 8, \"id\": \"talented-orleans\", \"metadata\": {}, \"outputs\": [{\"name\": \"stdout\", \"output_type\": \"stream\", \"text\": [\"Terraform v1.2.2\\n\", \"on linux_amd64\\n\"]}], \"source\": [\"terraform version\"]}, {\"cell_type\": \"markdown\", \"id\": \"small-opera\", \"metadata\": {}, \"source\": [\"works correctly\\n\", \"\\n\", \"You can delete the zip file which you downloaded.\"]}, {\"cell_type\": \"markdown\", \"id\": \"athletic-governor\", \"metadata\": {}, \"source\": [\"\\n\\n<img align=\\\"left\\\" src=\\\"../images/ThinBlueBar.png\\\" /><br/>\\n\\n# 1.2 Investigate Terraform sub-commands\\n\", \"\\n\", \"Type ```terraform``` to see the Terraform sub-commands available\"]}, {\"cell_type\": \"code\", \"execution_count\": 9, \"id\": \"appropriate-tragedy\", \"metadata\": {}, \"outputs\": [{\"name\": \"stdout\", \"output_type\": \"stream\", \"text\": [\"Usage: terraform [global options] <subcommand> [args]\\n\", \"\\n\", \"The available commands for execution are listed below.\\n\", \"The primary workflow commands are given first, followed by\\n\", \"less common or more advanced commands.\\n\", \"\\n\", \"Main commands:\\n\", \"  init          Prepare your working directory for other commands\\n\", \"  validate      Check whether the configuration is valid\\n\", \"  plan          Show changes required by the current configuration\\n\", \"  apply         Create or update infrastructure\\n\", \"  destroy       Destroy previously-created infrastructure\\n\", \"\\n\", \"All other commands:\\n\", \"  console       Try Terraform expressions at an interactive command prompt\\n\", \"  fmt           Reformat your configuration in the standard style\\n\", \"  force-unlock  Release a stuck lock on the current workspace\\n\", \"  get           Install or upgrade remote Terraform modules\\n\", \"  graph         Generate a Graphviz graph of the steps in an operation\\n\", \"  import        Associate existing infrastructure with a Terraform resource\\n\", \"  login         Obtain and save credentials for a remote host\\n\", \"  logout        Remove locally-stored credentials for a remote host\\n\", \"  output        Show output values from your root module\\n\", \"  providers     Show the providers required for this configuration\\n\", \"  refresh       Update the state to match remote systems\\n\", \"  show          Show the current state or a saved plan\\n\", \"  state         Advanced state management\\n\", \"  taint         Mark a resource instance as not fully functional\\n\", \"  test          Experimental support for module integration testing\\n\", \"  untaint       Remove the 'tainted' state from a resource instance\\n\", \"  version       Show the current Terraform version\\n\", \"  workspace     Workspace management\\n\", \"\\n\", \"Global options (use these before the subcommand, if any):\\n\", \"  -chdir=DIR    Switch to a different working directory before executing the\\n\", \"                given subcommand.\\n\", \"  -help         Show this help output, or the help for a specified subcommand.\\n\", \"  -version      An alias for the \\\"version\\\" subcommand.\\n\"]}, {\"ename\": \"\", \"evalue\": \"127\", \"output_type\": \"error\", \"traceback\": []}], \"source\": [\"terraform\"]}, {\"cell_type\": \"markdown\", \"id\": \"caroline-jefferson\", \"metadata\": {}, \"source\": [\"Investigate this list of sub-commands\\n\", \"\\n\", \"\\n\\n<img align=\\\"left\\\" src=\\\"../images/ThinBlueBar.png\\\" width=\\\"400\\\" /><br/>\\n\\n## 1.2.1 Look for more information about sub-commands\\n\", \"\\n\", \"#### Look for cli help for a sub-command\\n\", \"\\n\", \"You can get help from the command-line tool using ```terraform <sub-command> --help```\\n\", \"e.g. ```terraform apply --help```\\n\", \"\\n\", \"#### Look for online help for a sub-command\\n\", \"\\n\", \"Browse to the ```Terraform Documentation``` site and look at the ```Commands``` section:\\n\", \"\\n\", \"https://www.terraform.io/docs/commands/index.html\\n\", \"\\n\", \"Look there for specific sub-commands, e.g. for ```terraform apply```\\n\", \"https://www.terraform.io/docs/commands/apply.html\\n\", \"\\n\", \"\\n\\n<img align=\\\"left\\\" src=\\\"../images/ThinBlueBar.png\\\" width=\\\"400\\\" /><br/>\\n\\n## 1.2.2 Investigate the Terraform CHANGELOG\\n\", \"\\n\", \"Open a browser at https://github.com/hashicorp/terraform/blob/master/CHANGELOG.md\\n\", \"\\n\", \"Look at the changes introduced in Terraform 1.0 & Terraform 1.1\\n\"]}, {\"cell_type\": \"markdown\", \"id\": \"desperate-cutting\", \"metadata\": {}, \"source\": [\"\\n\\n<img align=\\\"left\\\" src=\\\"../images/ThinBlueBar.png\\\" /><br/>\\n\\n# 1.3 Starting with the smallest configurations ...\\n\", \"\\n\", \"1. Make a new directory ~/labs/lab1.\\n\", \"2. Change to that directory\"]}, {\"cell_type\": \"code\", \"execution_count\": 10, \"id\": \"virtual-provider\", \"metadata\": {\"attributes\": {\"classes\": [\"hcl\"], \"id\": \"\"}}, \"outputs\": [], \"source\": [\"mkdir -p ~/labs/lab1\\n\", \"cd       ~/labs/lab1\"]}, {\"cell_type\": \"markdown\", \"id\": \"a12284eb\", \"metadata\": {}, \"source\": [\"Now that we have Terraform installed let's build up some minimalist configurations to discover the structure of a Terraform configuration.\\n\", \"\\n\", \"In this step we won't yet create any resource, but we will see how we can interact with a Provider.\\n\", \"\\n\", \"\\n\\n<img align=\\\"left\\\" src=\\\"../images/ThinBlueBar.png\\\" width=\\\"400\\\" /><br/>\\n\\n## 1.3.1 the smallest configuration - without a provider\\n\", \"\\n\", \"#### create the main.tf file\\n\", \"\\n\", \"create an empty file main.tf\\n\", \"\\n\", \"```\\n\", \"touch main.tf\\n\", \"```\\n\", \"\\n\", \"This is the absolute minimum configuration possible and this simply tells Terraform which Provider we will be using\\n\", \"\\n\", \"#### try a 'terraform plan'\\n\", \"\\n\", \"Run the command ```terraform plan``` or ```terraform apply``` with this configuration.\\n\"]}, {\"cell_type\": \"code\", \"execution_count\": 12, \"id\": \"accredited-charleston\", \"metadata\": {}, \"outputs\": [{\"name\": \"stdout\", \"output_type\": \"stream\", \"text\": [\"\\n\", \"No changes. Your infrastructure matches the configuration.\\n\", \"\\n\", \"Terraform has compared your real infrastructure against your configuration and\\n\", \"found no differences, so no changes are needed.\\n\"]}], \"source\": [\"terraform plan\"]}, {\"cell_type\": \"markdown\", \"id\": \"textile-flooring\", \"metadata\": {}, \"source\": [\"\\n\\n<img align=\\\"left\\\" src=\\\"../images/ThinBlueBar.png\\\" width=\\\"400\\\" /><br/>\\n\\n## 1.3.2 simple variable definition - without a provider\\n\", \"\\n\", \"#### add a variable definition\\n\", \"\\n\", \"Now edit your main.tf and add the following lines at the end of the file:\\n\", \"\\n\", \"```\\n\", \"variable test {\\n\", \"}\\n\", \"```\\n\", \"\\n\", \"Re-run the ```terraform plan``` command.\\n\", \"\\n\", \"Note that Terraform will now prompt you to provide a value for the test variable as we did not assign anything.\\n\", \"\\n\", \"Enter any string at the prompt and see that the plan succeeds.\\n\", \"\\n\", \"Try running ```terraform apply``` and you will be prompted again to enter a value.\\n\", \"\\n\", \"You may also be prompted to enter \\\"*yes*\\\" to apply the config.\\n\", \"\\n\", \"#### add a variable default value\\n\", \"\\n\", \"Let's now define a default value for the variable to prevent these prompts.\\n\", \"\\n\", \"Modify the variable definition to look like\\n\", \"\\n\", \"```\\n\", \"variable test {\\n\", \"    description = \\\"It is good practice to add a description to explain the variable's purpose\\\"\\n\", \"    default = \\\"a test value\\\"\\n\", \"}\\n\", \"```\\n\", \"\\n\", \"Rerun the ```terraform plan``` and ```terraform apply```\\n\", \"\\n\", \"#### add an output definition\\n\", \"\\n\", \"We will now add some output definitions which Terraform will use to report information.\\n\", \"\\n\", \"```\\n\", \"output op_test  { value = var.test }\\n\", \"output op_test2 { value = \\\"The same variablea' ${var.test}' using string interpolation\\\" } \\n\", \"```\\n\", \"\\n\", \"Rerun the ```terraform plan``` and ```terraform apply```\\n\", \"\\n\", \"\\n\", \"Later we will see how the output command is useful to extract specific information such as an assigned IP address, to be easily accessible.\"]}, {\"cell_type\": \"code\", \"execution_count\": 13, \"id\": \"f20fa313\", \"metadata\": {}, \"outputs\": [], \"source\": [\"# \u001b[01;31m\u001b[KEXCLUDE\u001b[m\u001b[K\\n\", \"\\n\", \"cat > main.tf <<\\\"EOF\\\"\\n\", \"\\n\", \"variable test {\\n\", \"    description = \\\"It is good practice to add a description to explain the variable's purpose\\\"\\n\", \"    default = \\\"a test value\\\"\\n\", \"}\\n\", \"\\n\", \"output op_test  { value = var.test }\\n\", \"output op_test2 { value = \\\"The same variablea' ${var.test}' using string interpolation\\\" } \\n\", \"\\n\", \"EOF\\n\"]}, {\"cell_type\": \"code\", \"execution_count\": 14, \"id\": \"894d59b2\", \"metadata\": {}, \"outputs\": [{\"name\": \"stdout\", \"output_type\": \"stream\", \"text\": [\"\\n\", \"Changes to Outputs:\\n\", \"  + op_test  = \\\"a test value\\\"\\n\", \"  + op_test2 = \\\"The same variablea' a test value' using string interpolation\\\"\\n\", \"\\n\", \"You can apply this plan to save these new output values to the Terraform state,\\n\", \"without changing any real infrastructure.\\n\", \"\\u001b[90m\\n\", \"\\u2500\\u2500\\u2500\\u2500\\u2500\\u2500\\u2500\\u2500\\u2500\\u2500\\u2500\\u2500\\u2500\\u2500\\u2500\\u2500\\u2500\\u2500\\u2500\\u2500\\u2500\\u2500\\u2500\\u2500\\u2500\\u2500\\u2500\\u2500\\u2500\\u2500\\u2500\\u2500\\u2500\\u2500\\u2500\\u2500\\u2500\\u2500\\u2500\\u2500\\u2500\\u2500\\u2500\\u2500\\u2500\\u2500\\u2500\\u2500\\u2500\\u2500\\u2500\\u2500\\u2500\\u2500\\u2500\\u2500\\u2500\\u2500\\u2500\\u2500\\u2500\\u2500\\u2500\\u2500\\u2500\\u2500\\u2500\\u2500\\u2500\\u2500\\u2500\\u2500\\u2500\\u2500\\u2500\\u2500\\u2500\\u2500\\u2500\\n\", \"\\n\", \"Note: You didn't use the -out option to save this plan, so Terraform can't\\n\", \"guarantee to take exactly these actions if you run \\\"terraform apply\\\" now.\\n\"]}], \"source\": [\"terraform plan\"]}, {\"cell_type\": \"code\", \"execution_count\": 18, \"id\": \"c144f780\", \"metadata\": {}, \"outputs\": [{\"name\": \"stdout\", \"output_type\": \"stream\", \"text\": [\"\\n\", \"Changes to Outputs:\\n\", \"  + op_test  = \\\"a test value\\\"\\n\", \"  + op_test2 = \\\"The same variablea' a test value' using string interpolation\\\"\\n\", \"\\n\", \"You can apply this plan to save these new output values to the Terraform state,\\n\", \"without changing any real infrastructure.\\n\", \"\\n\", \"Apply complete! Resources: 0 added, 0 changed, 0 destroyed.\\n\", \"\\n\", \"Outputs:\\n\", \"\\n\", \"op_test = \\\"a test value\\\"\\n\", \"op_test2 = \\\"The same variablea' a test value' using string interpolation\\\"\\n\"]}], \"source\": [\"terraform apply \"]}, {\"cell_type\": \"markdown\", \"id\": \"committed-operations\", \"metadata\": {}, \"source\": [\"\\n\\n<img align=\\\"left\\\" src=\\\"../images/ThinBlueBar.png\\\" /><br/>\\n\\n# 1.4 Creating a first resource - with the AWS Provider\\n\", \"\\n\", \"So far we have seen the most minimal configs, but they were of course useless as we created no resources !\\n\", \"\\n\", \"Now let's create our first resource, an \\\"*aws_instance*\\\" which corresponds to an AWS EC2 Virtual Machine instance.\\n\", \"\\n\", \"Recreate your main.tf file with the following content.\\n\", \"\\n\", \"Note that we must now specify the *AWS* Provider to be used:\"]}, {\"cell_type\": \"code\", \"execution_count\": 20, \"id\": \"fd888d5d\", \"metadata\": {}, \"outputs\": [{\"name\": \"stdout\", \"output_type\": \"stream\", \"text\": [\"\\n\", \"provider \\\"aws\\\" {\\n\", \"  region = \\\"us-west-1\\\"\\n\", \"}\\n\", \"\\n\", \"resource \\\"aws_instance\\\" \\\"example\\\" {\\n\", \"  ami           = \\\"ami-0e81aa4c57820bb57\\\"\\n\", \"  instance_type = \\\"t2.micro\\\"\\n\", \"\\n\", \"  tags = { LabName = \\\"1.InstallTerraform\\\" }\\n\", \"}\\n\", \"\\n\", \"output  \\\"public_ip\\\"     { value = aws_instance.example.public_ip }\\n\", \"\\n\"]}], \"source\": [\"cat main.tf\"]}, {\"cell_type\": \"markdown\", \"id\": \"235812a0\", \"metadata\": {}, \"source\": [\"### Perform a Terraform plan\\n\", \"\\n\", \"Now perform a Terraform plan with the new configuration - but this time we will get an error.\\n\", \"\\n\", \"Because we now specify the *AWS* Provider we must first initialize our configuration using ```terraform init``` which will download the provider plugin.\"]}, {\"cell_type\": \"code\", \"execution_count\": 22, \"id\": \"e0c12094\", \"metadata\": {}, \"outputs\": [{\"name\": \"stdout\", \"output_type\": \"stream\", \"text\": [\"\\u2577\\n\", \"\\u2502 Error: Inconsistent dependency lock file\\n\", \"\\u2502 \\n\", \"\\u2502 The following dependency selections recorded in the lock file are\\n\", \"\\u2502 inconsistent with the current configuration:\\n\", \"\\u2502   - provider registry.terraform.io/hashicorp/aws: required by this configuration but no version is selected\\n\", \"\\u2502 \\n\", \"\\u2502 To make the initial dependency selections that will initialize the dependency\\n\", \"\\u2502 lock file, run:\\n\", \"\\u2502   terraform init\\n\", \"\\u2575\\n\"]}, {\"ename\": \"\", \"evalue\": \"1\", \"output_type\": \"error\", \"traceback\": []}], \"source\": [\"terraform plan\"]}, {\"cell_type\": \"markdown\", \"id\": \"operational-lease\", \"metadata\": {}, \"source\": [\"\\n\\n<img align=\\\"left\\\" src=\\\"../images/ThinBlueBar.png\\\" width=\\\"400\\\" /><br/>\\n\\n## 1.4.1 terraform init\\n\", \"\\n\", \"So perform ```terraform init``` and you will see that the plugin is downloaded automatically for us from the Terraform registry\"]}, {\"cell_type\": \"code\", \"execution_count\": 23, \"id\": \"f99fa9aa\", \"metadata\": {}, \"outputs\": [{\"name\": \"stdout\", \"output_type\": \"stream\", \"text\": [\"\\n\", \"Initializing the backend...\\n\", \"\\n\", \"Initializing provider plugins...\\n\", \"- Finding latest version of hashicorp/aws...\\n\", \"- Installing hashicorp/aws v4.17.1...\\n\", \"- Installed hashicorp/aws v4.17.1 (signed by HashiCorp)\\n\", \"\\n\", \"Terraform has created a lock file .terraform.lock.hcl to record the provider\\n\", \"selections it made above. Include this file in your version control repository\\n\", \"so that Terraform can guarantee to make the same selections by default when\\n\", \"you run \\\"terraform init\\\" in the future.\\n\", \"\\n\", \"Terraform has been successfully initialized!\\n\", \"\\n\", \"You may now begin working with Terraform. Try running \\\"terraform plan\\\" to see\\n\", \"any changes that are required for your infrastructure. All Terraform commands\\n\", \"should now work.\\n\", \"\\n\", \"If you ever set or change modules or backend configuration for Terraform,\\n\", \"rerun this command to reinitialize your working directory. If you forget, other\\n\", \"commands will detect it and remind you to do so if necessary.\\n\"]}], \"source\": [\"terraform init\"]}, {\"cell_type\": \"markdown\", \"id\": \"f6ea5d80\", \"metadata\": {}, \"source\": [\"Note that after performing ```terraform init``` a local file ```.terraform.lock.hcl``` is created and probably a ```.terraform``` directory where the aws provider is downloaded.\\n\", \"\\n\", \"**Note:** The aws provider is large ~ 186Mbytes - we will see later how to store this file in a shared location\"]}, {\"cell_type\": \"code\", \"execution_count\": 24, \"id\": \"f336f49b\", \"metadata\": {}, \"outputs\": [{\"name\": \"stdout\", \"output_type\": \"stream\", \"text\": [\"/home/student/labs/lab1\\n\", \"total 24\\n\", \"drwxrwxr-x 5 student student 4096 May 25 18:42 \\u001b[01;34m..\\n\", \"-rw-rw-r-- 1 student student  155 Jun  7 14:47 terraform.tfstate.backup\\n\", \"-rw-rw-r-- 1 student student  362 Jun  7 14:48 terraform.tfstate\\n\", \"-rw-rw-r-- 1 student student  267 Jun  7 14:48 main.tf\\n\", \"-rw-r--r-- 1 student student 1152 Jun  7 14:48 .terraform.lock.hcl\\n\", \"drwxrwxr-x 2 student student 4096 Jun  7 14:48 \\u001b[01;34m.\\n\"]}], \"source\": [\"pwd\\n\", \"\\n\", \"ls -altr\"]}, {\"cell_type\": \"markdown\", \"id\": \"e7191683\", \"metadata\": {}, \"source\": [\"\\n\\n<img align=\\\"left\\\" src=\\\"../images/ThinBlueBar.png\\\" width=\\\"400\\\" /><br/>\\n\\n## 1.4.2 terraform plan\\n\", \"\\n\", \"#### retry 'terraform plan'\\n\", \"\\n\", \"Now try again the ```terraform plan``` and you will see that this now succeeds\\n\", \"\\n\", \"Terraform will also inform us of the changes it will make when we ```terraform apply``` this config.\\n\"]}, {\"cell_type\": \"code\", \"execution_count\": 25, \"id\": \"82595bdb\", \"metadata\": {\"scrolled\": false}, \"outputs\": [{\"name\": \"stdout\", \"output_type\": \"stream\", \"text\": [\"\\n\", \"Terraform used the selected providers to generate the following execution plan.\\n\", \"Resource actions are indicated with the following symbols:\\n\", \"  + create\\n\", \"\\n\", \"Terraform will perform the following actions:\\n\", \"\\n\", \"  # aws_instance.example will be created\\n\", \"  + resource \\\"aws_instance\\\" \\\"example\\\" {\\n\", \"      + ami                                  = \\\"ami-0e81aa4c57820bb57\\\"\\n\", \"      + arn                                  = (known after apply)\\n\", \"      + associate_public_ip_address          = (known after apply)\\n\", \"      + availability_zone                    = (known after apply)\\n\", \"      + cpu_core_count                       = (known after apply)\\n\", \"      + cpu_threads_per_core                 = (known after apply)\\n\", \"      + disable_api_termination              = (known after apply)\\n\", \"      + ebs_optimized                        = (known after apply)\\n\", \"      + get_password_data                    = false\\n\", \"      + host_id                              = (known after apply)\\n\", \"      + id                                   = (known after apply)\\n\", \"      + instance_initiated_shutdown_behavior = (known after apply)\\n\", \"      + instance_state                       = (known after apply)\\n\", \"      + instance_type                        = \\\"t2.micro\\\"\\n\", \"      + ipv6_address_count                   = (known after apply)\\n\", \"      + ipv6_addresses                       = (known after apply)\\n\", \"      + key_name                             = (known after apply)\\n\", \"      + monitoring                           = (known after apply)\\n\", \"      + outpost_arn                          = (known after apply)\\n\", \"      + password_data                        = (known after apply)\\n\", \"      + placement_group                      = (known after apply)\\n\", \"      + placement_partition_number           = (known after apply)\\n\", \"      + primary_network_interface_id         = (known after apply)\\n\", \"      + private_dns                          = (known after apply)\\n\", \"      + private_ip                           = (known after apply)\\n\", \"      + public_dns                           = (known after apply)\\n\", \"      + public_ip                            = (known after apply)\\n\", \"      + secondary_private_ips                = (known after apply)\\n\", \"      + security_groups                      = (known after apply)\\n\", \"      + source_dest_check                    = true\\n\", \"      + subnet_id                            = (known after apply)\\n\", \"      + tags                                 = {\\n\", \"          + \\\"LabName\\\" = \\\"1.InstallTerraform\\\"\\n\", \"        }\\n\", \"      + tags_all                             = {\\n\", \"          + \\\"LabName\\\" = \\\"1.InstallTerraform\\\"\\n\", \"        }\\n\", \"      + tenancy                              = (known after apply)\\n\", \"      + user_data                            = (known after apply)\\n\", \"      + user_data_base64                     = (known after apply)\\n\", \"      + user_data_replace_on_change          = false\\n\", \"      + vpc_security_group_ids               = (known after apply)\\n\", \"\\n\", \"      + capacity_reservation_specification {\\n\", \"          + capacity_reservation_preference = (known after apply)\\n\", \"\\n\", \"          + capacity_reservation_target {\\n\", \"              + capacity_reservation_id                 = (known after apply)\\n\", \"              + capacity_reservation_resource_group_arn = (known after apply)\\n\", \"            }\\n\", \"        }\\n\", \"\\n\", \"      + ebs_block_device {\\n\", \"          + delete_on_termination = (known after apply)\\n\", \"          + device_name           = (known after apply)\\n\", \"          + encrypted             = (known after apply)\\n\", \"          + iops                  = (known after apply)\\n\", \"          + kms_key_id            = (known after apply)\\n\", \"          + snapshot_id           = (known after apply)\\n\", \"          + tags                  = (known after apply)\\n\", \"          + throughput            = (known after apply)\\n\", \"          + volume_id             = (known after apply)\\n\", \"          + volume_size           = (known after apply)\\n\", \"          + volume_type           = (known after apply)\\n\", \"        }\\n\", \"\\n\", \"      + enclave_options {\\n\", \"          + enabled = (known after apply)\\n\", \"        }\\n\", \"\\n\", \"      + ephemeral_block_device {\\n\", \"          + device_name  = (known after apply)\\n\", \"          + no_device    = (known after apply)\\n\", \"          + virtual_name = (known after apply)\\n\", \"        }\\n\", \"\\n\", \"      + maintenance_options {\\n\", \"          + auto_recovery = (known after apply)\\n\", \"        }\\n\", \"\\n\", \"      + metadata_options {\\n\", \"          + http_endpoint               = (known after apply)\\n\", \"          + http_put_response_hop_limit = (known after apply)\\n\", \"          + http_tokens                 = (known after apply)\\n\", \"          + instance_metadata_tags      = (known after apply)\\n\", \"        }\\n\", \"\\n\", \"      + network_interface {\\n\", \"          + delete_on_termination = (known after apply)\\n\", \"          + device_index          = (known after apply)\\n\", \"          + network_card_index    = (known after apply)\\n\", \"          + network_interface_id  = (known after apply)\\n\", \"        }\\n\", \"\\n\", \"      + root_block_device {\\n\", \"          + delete_on_termination = (known after apply)\\n\", \"          + device_name           = (known after apply)\\n\", \"          + encrypted             = (known after apply)\\n\", \"          + iops                  = (known after apply)\\n\", \"          + kms_key_id            = (known after apply)\\n\", \"          + tags                  = (known after apply)\\n\", \"          + throughput            = (known after apply)\\n\", \"          + volume_id             = (known after apply)\\n\", \"          + volume_size           = (known after apply)\\n\", \"          + volume_type           = (known after apply)\\n\", \"        }\\n\", \"    }\\n\", \"\\n\", \"Plan: 1 to add, 0 to change, 0 to destroy.\\n\", \"\\n\", \"Changes to Outputs:\\n\", \"  - op_test   = \\\"a test value\\\" \\u001b[90m-> \\u001b[90mnull\\n\", \"  - op_test2  = \\\"The same variablea' a test value' using string interpolation\\\" \\u001b[90m-> \\u001b[90mnull\\n\", \"  + public_ip = (known after apply)\\n\", \"\\u001b[90m\\n\", \"\\u2500\\u2500\\u2500\\u2500\\u2500\\u2500\\u2500\\u2500\\u2500\\u2500\\u2500\\u2500\\u2500\\u2500\\u2500\\u2500\\u2500\\u2500\\u2500\\u2500\\u2500\\u2500\\u2500\\u2500\\u2500\\u2500\\u2500\\u2500\\u2500\\u2500\\u2500\\u2500\\u2500\\u2500\\u2500\\u2500\\u2500\\u2500\\u2500\\u2500\\u2500\\u2500\\u2500\\u2500\\u2500\\u2500\\u2500\\u2500\\u2500\\u2500\\u2500\\u2500\\u2500\\u2500\\u2500\\u2500\\u2500\\u2500\\u2500\\u2500\\u2500\\u2500\\u2500\\u2500\\u2500\\u2500\\u2500\\u2500\\u2500\\u2500\\u2500\\u2500\\u2500\\u2500\\u2500\\u2500\\u2500\\u2500\\u2500\\n\"]}, {\"name\": \"stdout\", \"output_type\": \"stream\", \"text\": [\"\\n\", \"Note: You didn't use the -out option to save this plan, so Terraform can't\\n\", \"guarantee to take exactly these actions if you run \\\"terraform apply\\\" now.\\n\"]}], \"source\": [\"terraform plan\"]}, {\"cell_type\": \"markdown\", \"id\": \"basic-radar\", \"metadata\": {}, \"source\": [\"Note that a new directory .terraform has been created, look at the contents of that directory\\n\", \"\\n\", \"**Note**: If you have environment variable TF_DATA_DIR set, then this will point to a directory to be used - created if necessary - in place of .terraform\"]}, {\"cell_type\": \"markdown\", \"id\": \"specified-today\", \"metadata\": {}, \"source\": [\"We see that a new \\\"aws_instance\\\" would be created.\\n\", \"\\n\", \"Note the line **Plan: 1 to add, 0 to change, 0 to destroy.** informing us of the change which would be made\\n\", \"\\n\", \"\\n\\n<img align=\\\"left\\\" src=\\\"../images/ThinBlueBar.png\\\" width=\\\"400\\\" /><br/>\\n\\n## 1.4.3 terraform apply\\n\", \"\\n\", \"We will now perform an apply to create that resource\"]}, {\"cell_type\": \"code\", \"execution_count\": 27, \"id\": \"6ede5d7d\", \"metadata\": {\"scrolled\": false}, \"outputs\": [{\"name\": \"stdout\", \"output_type\": \"stream\", \"text\": [\"\\n\", \"Terraform used the selected providers to generate the following execution plan.\\n\", \"Resource actions are indicated with the following symbols:\\n\", \"  + create\\n\", \"\\n\", \"Terraform will perform the following actions:\\n\", \"\\n\", \"  # aws_instance.example will be created\\n\", \"  + resource \\\"aws_instance\\\" \\\"example\\\" {\\n\", \"      + ami                                  = \\\"ami-0e81aa4c57820bb57\\\"\\n\", \"      + arn                                  = (known after apply)\\n\", \"      + associate_public_ip_address          = (known after apply)\\n\", \"      + availability_zone                    = (known after apply)\\n\", \"      + cpu_core_count                       = (known after apply)\\n\", \"      + cpu_threads_per_core                 = (known after apply)\\n\", \"      + disable_api_termination              = (known after apply)\\n\", \"      + ebs_optimized                        = (known after apply)\\n\", \"      + get_password_data                    = false\\n\", \"      + host_id                              = (known after apply)\\n\", \"      + id                                   = (known after apply)\\n\", \"      + instance_initiated_shutdown_behavior = (known after apply)\\n\", \"      + instance_state                       = (known after apply)\\n\", \"      + instance_type                        = \\\"t2.micro\\\"\\n\", \"      + ipv6_address_count                   = (known after apply)\\n\", \"      + ipv6_addresses                       = (known after apply)\\n\", \"      + key_name                             = (known after apply)\\n\", \"      + monitoring                           = (known after apply)\\n\", \"      + outpost_arn                          = (known after apply)\\n\", \"      + password_data                        = (known after apply)\\n\", \"      + placement_group                      = (known after apply)\\n\", \"      + placement_partition_number           = (known after apply)\\n\", \"      + primary_network_interface_id         = (known after apply)\\n\", \"      + private_dns                          = (known after apply)\\n\", \"      + private_ip                           = (known after apply)\\n\", \"      + public_dns                           = (known after apply)\\n\", \"      + public_ip                            = (known after apply)\\n\", \"      + secondary_private_ips                = (known after apply)\\n\", \"      + security_groups                      = (known after apply)\\n\", \"      + source_dest_check                    = true\\n\", \"      + subnet_id                            = (known after apply)\\n\", \"      + tags                                 = {\\n\", \"          + \\\"LabName\\\" = \\\"1.InstallTerraform\\\"\\n\", \"        }\\n\", \"      + tags_all                             = {\\n\", \"          + \\\"LabName\\\" = \\\"1.InstallTerraform\\\"\\n\", \"        }\\n\", \"      + tenancy                              = (known after apply)\\n\", \"      + user_data                            = (known after apply)\\n\", \"      + user_data_base64                     = (known after apply)\\n\", \"      + user_data_replace_on_change          = false\\n\", \"      + vpc_security_group_ids               = (known after apply)\\n\", \"\\n\", \"      + capacity_reservation_specification {\\n\", \"          + capacity_reservation_preference = (known after apply)\\n\", \"\\n\", \"          + capacity_reservation_target {\\n\", \"              + capacity_reservation_id                 = (known after apply)\\n\", \"              + capacity_reservation_resource_group_arn = (known after apply)\\n\", \"            }\\n\", \"        }\\n\", \"\\n\", \"      + ebs_block_device {\\n\", \"          + delete_on_termination = (known after apply)\\n\", \"          + device_name           = (known after apply)\\n\", \"          + encrypted             = (known after apply)\\n\", \"          + iops                  = (known after apply)\\n\", \"          + kms_key_id            = (known after apply)\\n\", \"          + snapshot_id           = (known after apply)\\n\", \"          + tags                  = (known after apply)\\n\", \"          + throughput            = (known after apply)\\n\", \"          + volume_id             = (known after apply)\\n\", \"          + volume_size           = (known after apply)\\n\", \"          + volume_type           = (known after apply)\\n\", \"        }\\n\", \"\\n\", \"      + enclave_options {\\n\", \"          + enabled = (known after apply)\\n\", \"        }\\n\", \"\\n\", \"      + ephemeral_block_device {\\n\", \"          + device_name  = (known after apply)\\n\", \"          + no_device    = (known after apply)\\n\", \"          + virtual_name = (known after apply)\\n\", \"        }\\n\", \"\\n\", \"      + maintenance_options {\\n\", \"          + auto_recovery = (known after apply)\\n\", \"        }\\n\", \"\\n\", \"      + metadata_options {\\n\", \"          + http_endpoint               = (known after apply)\\n\", \"          + http_put_response_hop_limit = (known after apply)\\n\", \"          + http_tokens                 = (known after apply)\\n\", \"          + instance_metadata_tags      = (known after apply)\\n\", \"        }\\n\", \"\\n\", \"      + network_interface {\\n\", \"          + delete_on_termination = (known after apply)\\n\", \"          + device_index          = (known after apply)\\n\", \"          + network_card_index    = (known after apply)\\n\", \"          + network_interface_id  = (known after apply)\\n\", \"        }\\n\", \"\\n\", \"      + root_block_device {\\n\", \"          + delete_on_termination = (known after apply)\\n\", \"          + device_name           = (known after apply)\\n\", \"          + encrypted             = (known after apply)\\n\", \"          + iops                  = (known after apply)\\n\", \"          + kms_key_id            = (known after apply)\\n\", \"          + tags                  = (known after apply)\\n\", \"          + throughput            = (known after apply)\\n\", \"          + volume_id             = (known after apply)\\n\", \"          + volume_size           = (known after apply)\\n\", \"          + volume_type           = (known after apply)\\n\", \"        }\\n\", \"    }\\n\", \"\\n\", \"Plan: 1 to add, 0 to change, 0 to destroy.\\n\", \"\\n\", \"Changes to Outputs:\\n\", \"  + public_ip = (known after apply)\\n\", \"aws_instance.example: Creating...\\n\", \"aws_instance.example: Still creating... [10s elapsed]\\n\", \"aws_instance.example: Still creating... [20s elapsed]\\n\", \"aws_instance.example: Still creating... [30s elapsed]\\n\", \"aws_instance.example: Creation complete after 32s [id=i-09c4e2c5641250473]\\n\"]}, {\"name\": \"stdout\", \"output_type\": \"stream\", \"text\": [\"\\n\", \"Apply complete! Resources: 1 added, 0 changed, 0 destroyed.\\n\", \"\\n\", \"Outputs:\\n\", \"\\n\", \"public_ip = \\\"54.151.38.99\\\"\\n\"]}], \"source\": [\"terraform apply \"]}, {\"cell_type\": \"markdown\", \"id\": \"vertical-memorabilia\", \"metadata\": {}, \"source\": [\"This time we are prompted to confirm that we wish to apply the plan.\\n\", \"\\n\", \"After replying 'yes' the resource is created.\\n\", \"\\n\", \"The output block statement provides us the public_ip of the created VM instance.\\n\", \"\\n\", \"**Note**: For the moment we have not created a *Security Group* nor have we associated a keypair with this VM and so we cannot yet connect to it - we will do that in the next exercise.\\n\", \"\\n\", \"\\n\", \"\\n\\n<img align=\\\"left\\\" src=\\\"../images/ThinBlueBar.png\\\" width=\\\"400\\\" /><br/>\\n\\n## 1.4.4 Inspecting the created resources\\n\", \"\\n\", \"We can view the resulting resources by performing either through:\\n\", \"\\n\", \"### terraform state list\\n\", \"\\n\", \"This reads the information from the terraform.tfstate file to list each resource now being managed by Terraform.\\n\", \"\\n\", \"Note that ```aws_instance.example``` corresponds to the name which Terraform asssociates with the resource as specified by the ```resource \\\"aws_instance\\\" \\\"example\\\"``` line in our config.\\n\", \"\\n\", \"Try the\\n\", \"- ```terraform state list ``` and\\n\", \"- ```terraform state show``` commands, e.g. ```terraform state show aws_instance.example```.\\n\", \"\\n\", \"### terraform show\\n\", \"\\n\", \"This reads the information from the terraform.tfstate file\\n\", \"\\n\", \"### aws ec2 describe-instances\\n\", \"\\n\", \"Uses the aws cli to show all instances (very verbose!!)\\n\", \"\\n\", \"### /usr/local/bin/get_instances.sh\\n\", \"\\n\", \"A wrapper around *aws ec2 describe-instances* (quite succinct!!)\\n\", \"\\n\", \"### terraform.tfstate\\n\", \"\\n\", \"the raw terraform.tfstate json file\\n\", \"\\n\", \"### jq\\n\", \"\\n\", \"```\\n\", \"jq '.' terraform.tfstate\\n\", \"```\\n\", \"\\n\", \"Extracting fields using jq:\\n\", \"```\\n\", \"jq '.resources[0].instances[].attributes.public_ip' terraform.tfstate\\n\", \"```\\n\", \"\\n\", \"### terraform output\\n\", \"\\n\", \"We can also obtain any output values using the ```terraform output``` command\\n\"]}, {\"cell_type\": \"markdown\", \"id\": \"conceptual-february\", \"metadata\": {}, \"source\": [\"\\n\\n<img align=\\\"left\\\" src=\\\"../images/ThinBlueBar.png\\\" /><br/>\\n\\n# 1.5 Cleanup\\n\", \"\\n\", \"- Now cleanup the generated resource using the ```terraform destroy``` command\\n\", \"- Then also remove the .terraform directory (about 190 MBy in size)\"]}, {\"cell_type\": \"code\", \"execution_count\": 29, \"id\": \"fatty-resident\", \"metadata\": {}, \"outputs\": [{\"name\": \"stdout\", \"output_type\": \"stream\", \"text\": [\"aws_instance.example: Refreshing state... [id=i-09c4e2c5641250473]\\n\", \"\\n\", \"Terraform used the selected providers to generate the following execution plan.\\n\", \"Resource actions are indicated with the following symbols:\\n\", \"  - destroy\\n\", \"\\n\", \"Terraform will perform the following actions:\\n\", \"\\n\", \"  # aws_instance.example will be destroyed\\n\", \"  - resource \\\"aws_instance\\\" \\\"example\\\" {\\n\", \"      - ami                                  = \\\"ami-0e81aa4c57820bb57\\\" \\u001b[90m-> \\u001b[90mnull\\n\", \"      - arn                                  = \\\"arn:aws:ec2:us-west-1:604682923221:instance/i-09c4e2c5641250473\\\" \\u001b[90m-> \\u001b[90mnull\\n\", \"      - associate_public_ip_address          = true \\u001b[90m-> \\u001b[90mnull\\n\", \"      - availability_zone                    = \\\"us-west-1c\\\" \\u001b[90m-> \\u001b[90mnull\\n\", \"      - cpu_core_count                       = 1 \\u001b[90m-> \\u001b[90mnull\\n\", \"      - cpu_threads_per_core                 = 1 \\u001b[90m-> \\u001b[90mnull\\n\", \"      - disable_api_termination              = false \\u001b[90m-> \\u001b[90mnull\\n\", \"      - ebs_optimized                        = false \\u001b[90m-> \\u001b[90mnull\\n\", \"      - get_password_data                    = false \\u001b[90m-> \\u001b[90mnull\\n\", \"      - hibernation                          = false \\u001b[90m-> \\u001b[90mnull\\n\", \"      - id                                   = \\\"i-09c4e2c5641250473\\\" \\u001b[90m-> \\u001b[90mnull\\n\", \"      - instance_initiated_shutdown_behavior = \\\"stop\\\" \\u001b[90m-> \\u001b[90mnull\\n\", \"      - instance_state                       = \\\"running\\\" \\u001b[90m-> \\u001b[90mnull\\n\", \"      - instance_type                        = \\\"t2.micro\\\" \\u001b[90m-> \\u001b[90mnull\\n\", \"      - ipv6_address_count                   = 0 \\u001b[90m-> \\u001b[90mnull\\n\", \"      - ipv6_addresses                       = [] \\u001b[90m-> \\u001b[90mnull\\n\", \"      - monitoring                           = false \\u001b[90m-> \\u001b[90mnull\\n\", \"      - primary_network_interface_id         = \\\"eni-0c8e1ceac8ad69379\\\" \\u001b[90m-> \\u001b[90mnull\\n\", \"      - private_dns                          = \\\"ip-172-31-28-119.us-west-1.compute.internal\\\" \\u001b[90m-> \\u001b[90mnull\\n\", \"      - private_ip                           = \\\"172.31.28.119\\\" \\u001b[90m-> \\u001b[90mnull\\n\", \"      - public_dns                           = \\\"ec2-54-151-38-99.us-west-1.compute.amazonaws.com\\\" \\u001b[90m-> \\u001b[90mnull\\n\", \"      - public_ip                            = \\\"54.151.38.99\\\" \\u001b[90m-> \\u001b[90mnull\\n\", \"      - secondary_private_ips                = [] \\u001b[90m-> \\u001b[90mnull\\n\", \"      - security_groups                      = [\\n\", \"          - \\\"default\\\",\\n\", \"        ] \\u001b[90m-> \\u001b[90mnull\\n\", \"      - source_dest_check                    = true \\u001b[90m-> \\u001b[90mnull\\n\", \"      - subnet_id                            = \\\"subnet-b0e757d6\\\" \\u001b[90m-> \\u001b[90mnull\\n\", \"      - tags                                 = {\\n\", \"          - \\\"LabName\\\" = \\\"1.InstallTerraform\\\"\\n\", \"        } \\u001b[90m-> \\u001b[90mnull\\n\", \"      - tags_all                             = {\\n\", \"          - \\\"LabName\\\" = \\\"1.InstallTerraform\\\"\\n\", \"        } \\u001b[90m-> \\u001b[90mnull\\n\", \"      - tenancy                              = \\\"default\\\" \\u001b[90m-> \\u001b[90mnull\\n\", \"      - user_data_replace_on_change          = false \\u001b[90m-> \\u001b[90mnull\\n\", \"      - vpc_security_group_ids               = [\\n\", \"          - \\\"sg-4ab88d3e\\\",\\n\", \"        ] \\u001b[90m-> \\u001b[90mnull\\n\", \"\\n\", \"      - capacity_reservation_specification {\\n\", \"          - capacity_reservation_preference = \\\"open\\\" \\u001b[90m-> \\u001b[90mnull\\n\", \"        }\\n\", \"\\n\", \"      - credit_specification {\\n\", \"          - cpu_credits = \\\"standard\\\" \\u001b[90m-> \\u001b[90mnull\\n\", \"        }\\n\", \"\\n\", \"      - enclave_options {\\n\", \"          - enabled = false \\u001b[90m-> \\u001b[90mnull\\n\", \"        }\\n\", \"\\n\", \"      - maintenance_options {\\n\", \"          - auto_recovery = \\\"default\\\" \\u001b[90m-> \\u001b[90mnull\\n\", \"        }\\n\", \"\\n\", \"      - metadata_options {\\n\", \"          - http_endpoint               = \\\"enabled\\\" \\u001b[90m-> \\u001b[90mnull\\n\", \"          - http_put_response_hop_limit = 1 \\u001b[90m-> \\u001b[90mnull\\n\", \"          - http_tokens                 = \\\"optional\\\" \\u001b[90m-> \\u001b[90mnull\\n\", \"          - instance_metadata_tags      = \\\"disabled\\\" \\u001b[90m-> \\u001b[90mnull\\n\", \"        }\\n\", \"\\n\", \"      - root_block_device {\\n\", \"          - delete_on_termination = true \\u001b[90m-> \\u001b[90mnull\\n\", \"          - device_name           = \\\"/dev/sda1\\\" \\u001b[90m-> \\u001b[90mnull\\n\", \"          - encrypted             = false \\u001b[90m-> \\u001b[90mnull\\n\", \"          - iops                  = 100 \\u001b[90m-> \\u001b[90mnull\\n\", \"          - tags                  = {} \\u001b[90m-> \\u001b[90mnull\\n\", \"          - throughput            = 0 \\u001b[90m-> \\u001b[90mnull\\n\", \"          - volume_id             = \\\"vol-0b7299321039a1a19\\\" \\u001b[90m-> \\u001b[90mnull\\n\", \"          - volume_size           = 8 \\u001b[90m-> \\u001b[90mnull\\n\", \"          - volume_type           = \\\"gp2\\\" \\u001b[90m-> \\u001b[90mnull\\n\", \"        }\\n\", \"    }\\n\", \"\\n\", \"Plan: 0 to add, 0 to change, 1 to destroy.\\n\", \"\\n\", \"Changes to Outputs:\\n\", \"  - public_ip = \\\"54.151.38.99\\\" \\u001b[90m-> \\u001b[90mnull\\n\", \"aws_instance.example: Destroying... [id=i-09c4e2c5641250473]\\n\", \"aws_instance.example: Still destroying... [id=i-09c4e2c5641250473, 10s elapsed]\\n\", \"aws_instance.example: Still destroying... [id=i-09c4e2c5641250473, 20s elapsed]\\n\", \"aws_instance.example: Destruction complete after 29s\\n\", \"\\n\", \"Destroy complete! Resources: 1 destroyed.\\n\", \"\"]}], \"source\": [\"terraform destroy \"]}, {\"cell_type\": \"markdown\", \"id\": \"comprehensive-community\", \"metadata\": {}, \"source\": [\"<hr/>\\n\", \"\\n\", \"\\n\\n<img align=\\\"left\\\" src=\\\"../images/ThinBlueBar.png\\\" /><br/>\\n\\n# 1.6 Blog Posts about recent Terraform releases:\\n\", \"\\n\", \"- https://www.hashicorp.com/blog/announcing-hashicorp-terraform-1-0-general-availability\\n\", \"- https://www.hashicorp.com/blog/terraform-1-1-improves-refactoring-and-the-cloud-cli-experience\\n\", \"- https://www.hashicorp.com/blog/terraform-1-2-improves-exception-handling-and-updates-to-the-cli-driven-workflow\"]}, {\"cell_type\": \"markdown\", \"id\": \"liked-layer\", \"metadata\": {}, \"source\": [\"<hr/>\\n\", \"\\n\", \"\\n\\n<img align=\\\"left\\\" src=\\\"../images/ThinBlueBar.png\\\" /><br/>\\n\\n# 1.7 Summary\\n\", \"\\n\", \"In this section we downloaded the Terraform binary.\\n\", \"\\n\", \"We then created a simple configuration in which we specified\\n\", \"- use of the AWS Provider\\n\", \"- the AWS region to use\\n\", \"- An *aws_instance* resource, i.e. an EC2 VM, called \\\"example\\\"\\n\", \"- the type of instance \\\"*t2.micro*\\\"\\n\", \"- the AMI (machine image) to use\\n\", \"\\n\", \"We then performed a ```terraform init``` which downloads any modules or providers - in this case the \\\"AWS\\\" provider was downloaded.\\n\", \"\\n\", \"We performed an execution plan using ```terraform plan``` to see what changes would be made by applying this plan.\\n\", \"Terraform plan never makes changes.\\n\", \"\\n\", \"We then performed a ```terraform apply``` and confirmed that we wish to make the change\\n\", \"\\n\", \"We saw that the instance was created with a public ip address.\\n\", \"\\n\", \"We are not able to access the VM as no security group was specified.\\n\", \"\\n\", \"**Note:** The *AWS Provider plugin* is maintained by *HashiCorp* the company behind Terraform - it is updated very frequently to match AWS service evolutions.\"]}, {\"cell_type\": \"markdown\", \"id\": \"warming-toddler\", \"metadata\": {}, \"source\": [\"<hr/>\\n\", \"\\n\", \"\\n\\n<img align=\\\"left\\\" src=\\\"../images/ThinBlueBar.png\\\" /><br/>\\n\\n# **Stretch Goals**\\n\", \"\\n\", \"### 1: Variations on a theme\\n\", \"\\n\", \"The *github* repo at ```https://github.com/mjbright/tf-scenarios``` contains various demos and also lab solutions (*work in progress*).\\n\", \"\\n\", \"The ```main.tf``` file we created here is at https://github.com/mjbright/tf-scenarios/tree/main/Solutions/lab1\\n\", \"\\n\", \"There is also a slightly extended example there.\\n\", \"\\n\", \"Note that the file is named as ```main.tf_MORE``` so as not to conflict with the ```main.tf``` file.\\n\", \"\\n\", \"If you want to try it you should replace ```cp main.tf_MORE main.tf``` before performing the apply.\\n\", \"\\n\", \"### 2: Terraform Beta Releases\\n\", \"\\n\", \"<!-- Well there isn't one ... for the moment, since the recent (December 2020) release of Terraform 0.14 -->\\n\", \"\\n\", \"What alpha/beta/rc (*release candidate*) releases - ```if any``` have been made since the current stable release of Terraform ?\\n\", \"\\n\", \"### Releases\\n\", \"\\n\", \"Any alpha/beta releases will appear on\\n\", \"- the github release page here: https://github.com/hashicorp/terraform/releases\\n\", \"- and also on the *HashiCorp* release page here: https://releases.hashicorp.com/terraform/\\n\", \"\\n\", \"### Downloading\\n\", \"\\n\", \"You can download the beta release from either of those locations.\\n\", \"\\n\", \"**Note**: Of course beta releases bring risk, but we're only in a lab environment (with real AWS resources).  You'll probably have less trouble if you use terraform or terraform_beta in the same workspace.  Switching between both could cause problems.\\n\", \"\\n\", \"If you wish to try this, we recommend downloading and unpacking the binary as ```terraform_beta``` to differentiate from the current stable version.\\n\", \"\\n\", \"<!--\\n\", \"\\n\", \"### Blog Post about the latest beta release:\\n\", \"https://www.hashicorp.com/blog/announcing-hashicorp-terraform-0-14-beta\\n\", \"\\n\", \"-->\\n\", \"\\n\", \"Verify the versions you have installed using the ```terraform version``` and ```terraform_beta version``` commands.\\n\"]}, {\"cell_type\": \"markdown\", \"id\": \"checked-judgment\", \"metadata\": {}, \"source\": [\"<hr/>\\n\", \"\\n\", \"<!-- Why does this no longer work ??\\n\", \"<img src=\\\"../../../static/images/ThickBlueBar.png\\\" />\\n\", \"<img src=\\\"../../../static/images/LOGO.jpg\\\" width=200 />\\n\", \"-->\\n\", \"\\n\", \"<img src=\\\"../images/ThickBlueBar.png\\\" />\\n\", \"<img src=\\\"../images/LOGO.jpg\\\" width=200 />\"]}, {\"cell_type\": \"code\", \"execution_count\": 30, \"id\": \"92894c37\", \"metadata\": {}, \"outputs\": [{\"name\": \"stdout\", \"output_type\": \"stream\", \"text\": [\"2022-Jun-07:[TF-LS] Lab updated on node ip-172-26-29-85[terraform 1.2.2]\\n\", \"git repo https://git@github.com/mjbright/tf-scenarios-private last commit Mon May 16 21:10:11 2022 +0000: c8201200266fae53301dfae2b62a78a7f8698614\\n\"]}], \"source\": [\"\", \"\"]}], \"metadata\": {\"kernelspec\": {\"display_name\": \"Bash\", \"language\": \"bash\", \"name\": \"bash\"}, \"language_info\": {\"codemirror_mode\": \"shell\", \"file_extension\": \".sh\", \"mimetype\": \"text/x-sh\", \"name\": \"bash\"}}, \"nbformat\": 4, \"nbformat_minor\": 5}\n"
     ]
    },
    {
     "name": "stdout",
     "output_type": "stream",
     "text": [
      "\n",
      "8 VAR defs/usages in i/p file: ~/src/mjbright.tf-scenarios-private/ServeUpLabs/content/tf-labs/1.InstallTerraform/README.ipynb\n",
      "\n",
      "Good: No VAR defs/usages in o/p file\n",
      "\n",
      "-- jupyter-nbconvert --to markdown README.ipynb.filtered.ipynb\n",
      "[NbConvertApp] Converting notebook README.ipynb.filtered.ipynb to markdown\n",
      "[NbConvertApp] Writing 38032 bytes to README.ipynb.filtered.md\n",
      "\n",
      "-- jupyter-nbconvert --to html README.ipynb.filtered.ipynb\n",
      "[NbConvertApp] Converting notebook README.ipynb.filtered.ipynb to html\n",
      "[NbConvertApp] Writing 649043 bytes to README.ipynb.filtered.html\n",
      "\n",
      "\u001b[32m-rw-rw-r-- 1 student student 47080 Jan  8 19:18 Lab_1._SETUP_-_Install_Terraform.ipynb\u001b[0m\n",
      "\u001b[32m-rw-rw-r-- 1 student student 76790 Jan  8 19:18 Lab_1._SETUP_-_Install_Terraform.md\u001b[0m\n"
     ]
    }
   ],
   "source": [
    "# -- CONFIG ------------------------------------\n",
    "LAB_TAG=${PWD##*/} \n",
    "LAB_NAME=\"TFI_Azure_Lab1. SETUP - Install Terraform\"\n",
    "LAB_WEIGHT=20\n",
    "LAB_MODE=\"Terraform\"\n",
    "export MAX_LINE_LEN=80\n",
    "# ----------------------------------------------\n",
    "set +x\n",
    "DIE() { echo \"[$PWD] Error: $*\"; banner \"ERROR\"; exit 1; }\n",
    "NBTOOL_RC=~/scripts/nbtool.rc; [ ! -f $NBTOOL_RC ] && DIE \"No such script as $NBTOOL_RC\"\n",
    "echo \"==== Reading nbtool functions from '$NBTOOL_RC' ====\"; . $NBTOOL_RC\n",
    "EXCL_FN_INIT_NOTEBOOK\n",
    "## --INCLUDE--SECTION--\n",
    "## --EXCLUDE--SECTION--"
   ]
  },
  {
   "cell_type": "markdown",
   "id": "784c7ce3",
   "metadata": {},
   "source": [
    "# OLD: IGNORE\n",
    "\n",
    "NB_DIR=$PWD;   rm -rf ~/tmp/terraform*;    #rm -rf ~/labs\n",
    "\n",
    "\n",
    "FRONTMATTER=$(cat <<END_HEREDOC\n",
    "---\n",
    "title: 'Lab 1. SETUP - Install Terraform'\n",
    "date: 2019-02-11T19:27:37+10:00\n",
    "weight: 10\n",
    "---\n",
    "\n",
    "END_HEREDOC\n",
    ")\n",
    "\n",
    "echo\n",
    "echo \"==== Reading nbtool functions ====\"\n",
    ". ~/bin/nbtool.rc\n",
    "\n",
    "echo\n",
    "echo \"==== Setting Exercise tag ====\"\n",
    "LABTAG=${PWD##*/}\n",
    "echo \"LABTAG=$LAB_TAG\" | EXCL_FN_HIGHLIGHT_EOL =\n",
    "\n",
    "\n",
    "\n",
    "\n",
    "echo\n",
    "echo \"==== Setting TF_DATA_DIR ====\"\n",
    "export TF_DATA_DIR=~/dot.terraform\n",
    "echo \"TF_DATA_DIR=$TF_DATA_DIR\" | EXCL_FN_HIGHLIGHT_EOL =\n",
    "\n",
    "NO_EXEC echo SHOULD NOT BE SEEN | EXCL_FN_HIGHLIGHT_SOL SHOULD\n",
    "EXEC    echo SHOULD BE SEEN     | EXCL_FN_HIGHLIGHT_SOL SHOULD\n",
    "\n",
    "# echo\n",
    "# echo \"==== Filtering current notebook ====\"\n",
    "#\n",
    "# EXCL_FN_FILTER_NOTEBOOK index.ipynb\n",
    "\n",
    "echo\n",
    "echo \"==== Setting AWS vars for student account ====\"\n",
    ". ~/.aws/linked/student20.rc\n",
    "env | grep AWS_LINKED_ACCOUNT= | EXCL_FN_HIGHLIGHT_EOL =\n"
   ]
  },
  {
   "cell_type": "code",
   "execution_count": 10,
   "id": "5c1311ce",
   "metadata": {},
   "outputs": [
    {
     "name": "stdout",
     "output_type": "stream",
     "text": [
      "/home/student/.awsrc\n"
     ]
    }
   ],
   "source": [
    "grep -rl $AWS_SECRET_ACCESS_KEY ~/.aws*"
   ]
  },
  {
   "cell_type": "markdown",
   "id": "allied-prague",
   "metadata": {},
   "source": [
    "# --INCLUDE--SECTION--"
   ]
  },
  {
   "cell_type": "code",
   "execution_count": 11,
   "id": "cfd83bdd",
   "metadata": {},
   "outputs": [
    {
     "name": "stdout",
     "output_type": "stream",
     "text": [
      "2023-Jan-08:[TF-1.3.7] Lab updated on node tf[terraform missing]\n"
     ]
    },
    {
     "ename": "",
     "evalue": "1",
     "output_type": "error",
     "traceback": []
    }
   ],
   "source": [
    "EXCL_FN_LAB_ENV"
   ]
  },
  {
   "cell_type": "markdown",
   "id": "varying-russian",
   "metadata": {},
   "source": [
    "## Background:\n",
    "In this initial setup we will download the Terraform binary from the https://terraform.io website.\n",
    "\n",
    "<!-- You should already have the following: -->\n",
    "\n",
    "# 1.1 Login to the provided VM\n",
    "\n",
    "## 1.1.1 Download the Terraform binary from the VM command-line:\n",
    "\n",
    "Go to [Terraform Downloads (https://www.terraform.io/downloads.html)](https://www.terraform.io/downloads.html).\n",
    "\n",
    "**Note:** we can download or install Terraform in various ways for each operating system - we will simply download static binaries to the provided *virtual machine*\n",
    "\n",
    "Download the latest binary for your platform - *linux-amd64* - in this case.\n",
    "\n",
    "Right-click on the 64-bit link for Linux, as shown below, and copy the link:\n",
    "\n",
    "<!--\n",
    "    Why doesn't this work any more ?\n",
    "       ![](../../../static/images/terraform_download.png)\n",
    "    This does:\n",
    "       ![](../images/terraform_download.png)\n",
    "    But we'll use html to get a useful border\n",
    "       <img src=\"../images/terraform_download.png\" style=\"border:5px solid black\" />\n",
    "-->\n",
    "<img src=\"../images/terraform_download.png\" style=\"border:5px solid #0c40c4\" />\n",
    "\n",
    "\n",
    "\n",
    "In your VM, use wget to download the zip file containing terraform and then unzip that file"
   ]
  },
  {
   "cell_type": "code",
   "execution_count": 12,
   "id": "505aa785",
   "metadata": {},
   "outputs": [
    {
     "name": "stdout",
     "output_type": "stream",
     "text": [
      "DOWNLOAD_URL=https://releases.hashicorp.com/terraform/1.3.7/terraform_1.3.7_linux_amd64.zip\n",
      "\n",
      "Correcting var name 'DOWNLOAD_URL' to '__DOWNLOAD_URL'\n",
      "VAR __DOWNLOAD_URL=\"https://releases.hashicorp.com/terraform/1.3.7/terraform_1.3.7_linux_amd64.zip\"\n"
     ]
    }
   ],
   "source": [
    "#EXCLUDE\n",
    "\n",
    "#DOWNLOAD_URL=$( \n",
    "#    wget -qO - https://www.terraform.io/downloads.html |\n",
    "#        grep \"releases.hashicorp.com/terraform/\" | \n",
    "#        sed -e 's/.*\"\\([^\"]*linux_amd64.zip\\)\".*/\\1/'\n",
    "#        )\n",
    "\n",
    "DOWNLOAD_URL=https://releases.hashicorp.com/terraform/1.3.7/terraform_1.3.7_linux_amd64.zip\n",
    "\n",
    "echo DOWNLOAD_URL=$DOWNLOAD_URL\n",
    "echo\n",
    "\n",
    "rm ~/tmp/terraform* 2>/dev/null\n",
    "\n",
    "SET_VAR DOWNLOAD_URL $DOWNLOAD_URL"
   ]
  },
  {
   "cell_type": "code",
   "execution_count": 13,
   "id": "historic-insulin",
   "metadata": {},
   "outputs": [
    {
     "name": "stdout",
     "output_type": "stream",
     "text": [
      "DOWNLOAD_URL=https://releases.hashicorp.com/terraform/1.3.7/terraform_1.3.7_linux_amd64.zip\n",
      "\n",
      "--2023-01-08 19:19:23--  https://releases.hashicorp.com/terraform/1.3.7/terraform_1.3.7_linux_amd64.zip\n",
      "Resolving releases.hashicorp.com (releases.hashicorp.com)... 2600:9000:2450:a400:5:e2b6:b380:93a1, 2600:9000:2450:1a00:5:e2b6:b380:93a1, 2600:9000:2450:b400:5:e2b6:b380:93a1, ...\n",
      "Connecting to releases.hashicorp.com (releases.hashicorp.com)|2600:9000:2450:a400:5:e2b6:b380:93a1|:443... connected.\n",
      "HTTP request sent, awaiting response... 200 OK\n",
      "Length: 19464102 (19M) [application/zip]\n",
      "Saving to: ‘terraform_1.3.7_linux_amd64.zip’\n",
      "\n",
      "terraform_1.3.7_lin 100%[===================>]  18.56M  62.9MB/s    in 0.3s    \n",
      "\n",
      "2023-01-08 19:19:23 (62.9 MB/s) - ‘terraform_1.3.7_linux_amd64.zip’ saved [19464102/19464102]\n",
      "\n",
      "Archive:  terraform_1.3.7_linux_amd64.zip\n",
      "  inflating: terraform               \n"
     ]
    }
   ],
   "source": [
    "mkdir -p ~/tmp/\n",
    "cd ~/tmp/\n",
    "\n",
    "echo DOWNLOAD_URL=$DOWNLOAD_URL\n",
    "echo\n",
    "wget $__DOWNLOAD_URL\n",
    "\n",
    "unzip terraform_*_linux_amd64.zip"
   ]
  },
  {
   "cell_type": "markdown",
   "id": "union-anthony",
   "metadata": {},
   "source": [
    "## 1.1.2 Check Terraform Version\n",
    "\n",
    "Check the terraform version, you should see output similar to:"
   ]
  },
  {
   "cell_type": "code",
   "execution_count": 14,
   "id": "sorted-strengthening",
   "metadata": {},
   "outputs": [
    {
     "name": "stdout",
     "output_type": "stream",
     "text": [
      "Terraform v1.3.7\n",
      "on linux_amd64\n"
     ]
    }
   ],
   "source": [
    "./terraform version"
   ]
  },
  {
   "cell_type": "markdown",
   "id": "cooked-delivery",
   "metadata": {},
   "source": [
    "## 1.1.3 Move Terraform into ~/bin"
   ]
  },
  {
   "cell_type": "code",
   "execution_count": 15,
   "id": "quality-swift",
   "metadata": {},
   "outputs": [],
   "source": [
    "mkdir -p ~/bin\n",
    "mv terraform ~/bin\n",
    "\n",
    "echo 'export PATH=~/bin:$PATH' >> ~/.bashrc\n",
    "NO_EXEC . ~/.bashrc"
   ]
  },
  {
   "cell_type": "markdown",
   "id": "marine-prevention",
   "metadata": {},
   "source": [
    "Log out and then log in again and make sure that the command"
   ]
  },
  {
   "cell_type": "code",
   "execution_count": 16,
   "id": "talented-orleans",
   "metadata": {},
   "outputs": [
    {
     "name": "stdout",
     "output_type": "stream",
     "text": [
      "Terraform v1.3.7\n",
      "on linux_amd64\n"
     ]
    }
   ],
   "source": [
    "terraform version"
   ]
  },
  {
   "cell_type": "markdown",
   "id": "small-opera",
   "metadata": {},
   "source": [
    "works correctly\n",
    "\n",
    "You can delete the zip file which you downloaded."
   ]
  },
  {
   "cell_type": "markdown",
   "id": "athletic-governor",
   "metadata": {},
   "source": [
    "# 1.2 Investigate Terraform sub-commands\n",
    "\n",
    "Type ```terraform``` to see the Terraform sub-commands available"
   ]
  },
  {
   "cell_type": "code",
   "execution_count": 17,
   "id": "appropriate-tragedy",
   "metadata": {},
   "outputs": [
    {
     "name": "stdout",
     "output_type": "stream",
     "text": [
      "Usage: terraform [global options] <subcommand> [args]\n",
      "\n",
      "The available commands for execution are listed below.\n",
      "The primary workflow commands are given first, followed by\n",
      "less common or more advanced commands.\n",
      "\n",
      "Main commands:\n",
      "  init          Prepare your working directory for other commands\n",
      "  validate      Check whether the configuration is valid\n",
      "  plan          Show changes required by the current configuration\n",
      "  apply         Create or update infrastructure\n",
      "  destroy       Destroy previously-created infrastructure\n",
      "\n",
      "All other commands:\n",
      "  console       Try Terraform expressions at an interactive command prompt\n",
      "  fmt           Reformat your configuration in the standard style\n",
      "  force-unlock  Release a stuck lock on the current workspace\n",
      "  get           Install or upgrade remote Terraform modules\n",
      "  graph         Generate a Graphviz graph of the steps in an operation\n",
      "  import        Associate existing infrastructure with a Terraform resource\n",
      "  login         Obtain and save credentials for a remote host\n",
      "  logout        Remove locally-stored credentials for a remote host\n",
      "  output        Show output values from your root module\n",
      "  providers     Show the providers required for this configuration\n",
      "  refresh       Update the state to match remote systems\n",
      "  show          Show the current state or a saved plan\n",
      "  state         Advanced state management\n",
      "  taint         Mark a resource instance as not fully functional\n",
      "  test          Experimental support for module integration testing\n",
      "  untaint       Remove the 'tainted' state from a resource instance\n",
      "  version       Show the current Terraform version\n",
      "  workspace     Workspace management\n",
      "\n",
      "Global options (use these before the subcommand, if any):\n",
      "  -chdir=DIR    Switch to a different working directory before executing the\n",
      "                given subcommand.\n",
      "  -help         Show this help output, or the help for a specified subcommand.\n",
      "  -version      An alias for the \"version\" subcommand.\n"
     ]
    },
    {
     "ename": "",
     "evalue": "127",
     "output_type": "error",
     "traceback": []
    }
   ],
   "source": [
    "terraform"
   ]
  },
  {
   "cell_type": "markdown",
   "id": "caroline-jefferson",
   "metadata": {},
   "source": [
    "Investigate this list of sub-commands\n",
    "\n",
    "## 1.2.1 Look for more information about sub-commands\n",
    "\n",
    "#### Look for cli help for a sub-command\n",
    "\n",
    "You can get help from the command-line tool using ```terraform <sub-command> --help```\n",
    "e.g. ```terraform apply --help```\n",
    "\n",
    "#### Look for online help for a sub-command\n",
    "\n",
    "Browse to the ```Terraform Documentation``` site and look at the ```Commands``` section:\n",
    "\n",
    "https://www.terraform.io/docs/commands/index.html\n",
    "\n",
    "Look there for specific sub-commands, e.g. for ```terraform apply```\n",
    "https://www.terraform.io/docs/commands/apply.html\n",
    "\n",
    "## 1.2.2 Investigate the Terraform CHANGELOG\n",
    "\n",
    "Open a browser at https://github.com/hashicorp/terraform/blob/master/CHANGELOG.md\n",
    "\n",
    "Look at the changes introduced in Terraform 1.0 & Terraform 1.1\n"
   ]
  },
  {
   "cell_type": "markdown",
   "id": "desperate-cutting",
   "metadata": {},
   "source": [
    "# 1.3 Starting with the smallest configurations ...\n",
    "\n",
    "1. Make a new directory ~/labs/lab1.\n",
    "2. Change to that directory"
   ]
  },
  {
   "cell_type": "code",
   "execution_count": 18,
   "id": "virtual-provider",
   "metadata": {
    "attributes": {
     "classes": [
      "hcl"
     ],
     "id": ""
    }
   },
   "outputs": [],
   "source": [
    "mkdir -p ~/labs/lab1\n",
    "cd       ~/labs/lab1"
   ]
  },
  {
   "cell_type": "code",
   "execution_count": 19,
   "id": "cd83d447",
   "metadata": {
    "attributes": {
     "classes": [
      "hcl"
     ],
     "id": ""
    }
   },
   "outputs": [],
   "source": [
    "#EXCLUDE\n",
    "\n",
    "cat > main.tf <<EOF\n",
    "\n",
    "EOF"
   ]
  },
  {
   "cell_type": "markdown",
   "id": "a12284eb",
   "metadata": {},
   "source": [
    "Now that we have Terraform installed let's build up some minimalist configurations to discover the structure of a Terraform configuration.\n",
    "\n",
    "In this step we won't yet create any resource, but we will see how we can interact with a Provider.\n",
    "\n",
    "## 1.3.1 the smallest configuration - without a provider\n",
    "\n",
    "#### create the main.tf file\n",
    "\n",
    "create an empty file main.tf\n",
    "\n",
    "```\n",
    "touch main.tf\n",
    "```\n",
    "\n",
    "This is the absolute minimum configuration possible and this simply tells Terraform which Provider we will be using\n",
    "\n",
    "#### try a 'terraform plan'\n",
    "\n",
    "Run the command ```terraform plan``` or ```terraform apply``` with this configuration.\n"
   ]
  },
  {
   "cell_type": "code",
   "execution_count": 20,
   "id": "accredited-charleston",
   "metadata": {},
   "outputs": [
    {
     "name": "stdout",
     "output_type": "stream",
     "text": [
      "\n",
      "\u001b[0m\u001b[1m\u001b[32mNo changes.\u001b[0m\u001b[1m Your infrastructure matches the configuration.\u001b[0m\n",
      "\n",
      "\u001b[0mTerraform has compared your real infrastructure against your configuration and\n",
      "found no differences, so no changes are needed.\n"
     ]
    }
   ],
   "source": [
    "terraform plan"
   ]
  },
  {
   "cell_type": "markdown",
   "id": "textile-flooring",
   "metadata": {},
   "source": [
    "## 1.3.2 simple variable definition - without a provider\n",
    "\n",
    "#### add a variable definition\n",
    "\n",
    "Now edit your main.tf and add the following lines at the end of the file:\n",
    "\n",
    "```\n",
    "variable test {\n",
    "}\n",
    "```\n",
    "\n",
    "Re-run the ```terraform plan``` command.\n",
    "\n",
    "Note that Terraform will now prompt you to provide a value for the test variable as we did not assign anything.\n",
    "\n",
    "Enter any string at the prompt and see that the plan succeeds.\n",
    "\n",
    "Try running ```terraform apply``` and you will be prompted again to enter a value.\n",
    "\n",
    "You may also be prompted to enter \"*yes*\" to apply the config.\n",
    "\n",
    "#### add a variable default value\n",
    "\n",
    "Let's now define a default value for the variable to prevent these prompts.\n",
    "\n",
    "Modify the variable definition to look like\n",
    "\n",
    "```\n",
    "variable test {\n",
    "    description = \"It is good practice to add a description to explain the variable's purpose\"\n",
    "    default = \"a test value\"\n",
    "}\n",
    "```\n",
    "\n",
    "Rerun the ```terraform plan``` and ```terraform apply```\n",
    "\n",
    "#### add an output definition\n",
    "\n",
    "We will now add some output definitions which Terraform will use to report information.\n",
    "\n",
    "```\n",
    "output op_test  { value = var.test }\n",
    "output op_test2 { value = \"The same variablea' ${var.test}' using string interpolation\" } \n",
    "```\n",
    "\n",
    "Rerun the ```terraform plan``` and ```terraform apply```\n",
    "\n",
    "\n",
    "Later we will see how the output command is useful to extract specific information such as an assigned IP address, to be easily accessible."
   ]
  },
  {
   "cell_type": "code",
   "execution_count": 37,
   "id": "f20fa313",
   "metadata": {},
   "outputs": [],
   "source": [
    "# EXCLUDE\n",
    "\n",
    "cat > main.tf <<\"EOF\"\n",
    "\n",
    "variable test {\n",
    "  description = \"It's good practice to add descriptions for variable'se\"\n",
    "  default = \"a test value\"\n",
    "}\n",
    "\n",
    "output op_test  {\n",
    "  value = var.test\n",
    "}\n",
    "output op_test2 {\n",
    "  value = \"The same variablea' ${var.test}' using string interpolation\"\n",
    "} \n",
    "\n",
    "EOF\n"
   ]
  },
  {
   "cell_type": "code",
   "execution_count": 22,
   "id": "894d59b2",
   "metadata": {},
   "outputs": [
    {
     "name": "stdout",
     "output_type": "stream",
     "text": [
      "\u001b[0m\n",
      "\u001b[1mChanges to Outputs:\u001b[0m\u001b[0m\n",
      "  \u001b[32m+\u001b[0m \u001b[0m\u001b[1m\u001b[0mop_test\u001b[0m\u001b[0m  = \"a test value\"\n",
      "  \u001b[32m+\u001b[0m \u001b[0m\u001b[1m\u001b[0mop_test2\u001b[0m\u001b[0m = \"The same variablea' a test value' using string interpolation\"\n",
      "\n",
      "You can apply this plan to save these new output values to the Terraform state,\n",
      "without changing any real infrastructure.\n",
      "\u001b[90m\n",
      "───────────────────────────────────────────────────────────────────────────────\u001b[0m\n",
      "\n",
      "Note: You didn't use the -out option to save this plan, so Terraform can't\n",
      "guarantee to take exactly these actions if you run \"terraform apply\" now.\n"
     ]
    }
   ],
   "source": [
    "terraform plan"
   ]
  },
  {
   "cell_type": "code",
   "execution_count": 23,
   "id": "c144f780",
   "metadata": {},
   "outputs": [
    {
     "name": "stdout",
     "output_type": "stream",
     "text": [
      "\u001b[0m\n",
      "\u001b[1mChanges to Outputs:\u001b[0m\u001b[0m\n",
      "  \u001b[32m+\u001b[0m \u001b[0m\u001b[1m\u001b[0mop_test\u001b[0m\u001b[0m  = \"a test value\"\n",
      "  \u001b[32m+\u001b[0m \u001b[0m\u001b[1m\u001b[0mop_test2\u001b[0m\u001b[0m = \"The same variablea' a test value' using string interpolation\"\n",
      "\n",
      "You can apply this plan to save these new output values to the Terraform state,\n",
      "without changing any real infrastructure.\n",
      "\u001b[0m\u001b[1m\u001b[32m\n",
      "Apply complete! Resources: 0 added, 0 changed, 0 destroyed.\n",
      "\u001b[0m\u001b[0m\u001b[1m\u001b[32m\n",
      "Outputs:\n",
      "\n",
      "\u001b[0mop_test = \"a test value\"\n",
      "op_test2 = \"The same variablea' a test value' using string interpolation\"\n"
     ]
    }
   ],
   "source": [
    "TF_APPLY"
   ]
  },
  {
   "cell_type": "markdown",
   "id": "committed-operations",
   "metadata": {},
   "source": [
    "# 1.4 Creating a first resource - with the AWS Provider\n",
    "\n",
    "So far we have seen the most minimal configs, but they were of course useless as we created no resources !\n",
    "\n",
    "Now let's create our first resource, an \"*aws_instance*\" which corresponds to an AWS EC2 Virtual Machine instance.\n",
    "\n",
    "Recreate your main.tf file with the following content.\n",
    "\n",
    "Note that we must now specify the *AWS* Provider to be used:"
   ]
  },
  {
   "cell_type": "code",
   "execution_count": 24,
   "id": "ca6d1087",
   "metadata": {},
   "outputs": [],
   "source": [
    "#EXCLUDE\n",
    "\n",
    "cat > main.tf <<EOF\n",
    "\n",
    "provider \"aws\" {\n",
    "  region = \"us-west-1\"\n",
    "}\n",
    "\n",
    "resource \"aws_instance\" \"example\" {\n",
    "  ami           = \"ami-0e81aa4c57820bb57\"\n",
    "  instance_type = \"t2.micro\"\n",
    "\n",
    "  tags = { LabName = \"$LAB_TAG\" }\n",
    "}\n",
    "\n",
    "output  \"public_ip\"     { value = aws_instance.example.public_ip }\n",
    "\n",
    "EOF"
   ]
  },
  {
   "cell_type": "code",
   "execution_count": 25,
   "id": "fd888d5d",
   "metadata": {},
   "outputs": [
    {
     "name": "stdout",
     "output_type": "stream",
     "text": [
      "\n",
      "provider \"aws\" {\n",
      "  region = \"us-west-1\"\n",
      "}\n",
      "\n",
      "resource \"aws_instance\" \"example\" {\n",
      "  ami           = \"ami-0e81aa4c57820bb57\"\n",
      "  instance_type = \"t2.micro\"\n",
      "\n",
      "  tags = { LabName = \"1.InstallTerraform\" }\n",
      "}\n",
      "\n",
      "output  \"public_ip\"     { value = aws_instance.example.public_ip }\n",
      "\n"
     ]
    }
   ],
   "source": [
    "cat main.tf"
   ]
  },
  {
   "cell_type": "code",
   "execution_count": 26,
   "id": "9cf789ea",
   "metadata": {},
   "outputs": [
    {
     "ename": "",
     "evalue": "1",
     "output_type": "error",
     "traceback": []
    }
   ],
   "source": [
    "#EXCLUDE \n",
    "[ -f .terraform.lock.hcl ] && rm -f .terraform.lock.hcl\n",
    "#[ -f terraform.tfstate ] && rm -f terraform.tfstate*"
   ]
  },
  {
   "cell_type": "markdown",
   "id": "235812a0",
   "metadata": {},
   "source": [
    "### Perform a Terraform plan\n",
    "\n",
    "Now perform a Terraform plan with the new configuration - but this time we will get an error.\n",
    "\n",
    "Because we now specify the *AWS* Provider we must first initialize our configuration using ```terraform init``` which will download the provider plugin."
   ]
  },
  {
   "cell_type": "code",
   "execution_count": 27,
   "id": "e0c12094",
   "metadata": {},
   "outputs": [
    {
     "name": "stdout",
     "output_type": "stream",
     "text": [
      "\u001b[31m╷\u001b[0m\u001b[0m\n",
      "\u001b[31m│\u001b[0m \u001b[0m\u001b[1m\u001b[31mError: \u001b[0m\u001b[0m\u001b[1mInconsistent dependency lock file\u001b[0m\n",
      "\u001b[31m│\u001b[0m \u001b[0m\n",
      "\u001b[31m│\u001b[0m \u001b[0m\u001b[0mThe following dependency selections recorded in the lock file are\n",
      "\u001b[31m│\u001b[0m \u001b[0minconsistent with the current configuration:\n",
      "\u001b[31m│\u001b[0m \u001b[0m  - provider registry.terraform.io/hashicorp/aws: required by this configuration but no version is selected\n",
      "\u001b[31m│\u001b[0m \u001b[0m\n",
      "\u001b[31m│\u001b[0m \u001b[0mTo make the initial dependency selections that will initialize the dependency\n",
      "\u001b[31m│\u001b[0m \u001b[0mlock file, run:\n",
      "\u001b[31m│\u001b[0m \u001b[0m  terraform init\n",
      "\u001b[31m╵\u001b[0m\u001b[0m\n"
     ]
    },
    {
     "ename": "",
     "evalue": "1",
     "output_type": "error",
     "traceback": []
    }
   ],
   "source": [
    "terraform plan"
   ]
  },
  {
   "cell_type": "markdown",
   "id": "operational-lease",
   "metadata": {},
   "source": [
    "## 1.4.1 terraform init\n",
    "\n",
    "So perform ```terraform init``` and you will see that the plugin is downloaded automatically for us from the Terraform registry"
   ]
  },
  {
   "cell_type": "code",
   "execution_count": 28,
   "id": "f99fa9aa",
   "metadata": {},
   "outputs": [
    {
     "name": "stdout",
     "output_type": "stream",
     "text": [
      "\n",
      "\u001b[0m\u001b[1mInitializing the backend...\u001b[0m\n",
      "\n",
      "\u001b[0m\u001b[1mInitializing provider plugins...\u001b[0m\n",
      "- Finding latest version of hashicorp/aws...\n",
      "- Installing hashicorp/aws v4.49.0...\n",
      "- Installed hashicorp/aws v4.49.0 (signed by HashiCorp)\n",
      "\n",
      "Terraform has created a lock file \u001b[1m.terraform.lock.hcl\u001b[0m to record the provider\n",
      "selections it made above. Include this file in your version control repository\n",
      "so that Terraform can guarantee to make the same selections by default when\n",
      "you run \"terraform init\" in the future.\u001b[0m\n",
      "\n",
      "\u001b[0m\u001b[1m\u001b[32mTerraform has been successfully initialized!\u001b[0m\u001b[32m\u001b[0m\n",
      "\u001b[0m\u001b[32m\n",
      "You may now begin working with Terraform. Try running \"terraform plan\" to see\n",
      "any changes that are required for your infrastructure. All Terraform commands\n",
      "should now work.\n",
      "\n",
      "If you ever set or change modules or backend configuration for Terraform,\n",
      "rerun this command to reinitialize your working directory. If you forget, other\n",
      "commands will detect it and remind you to do so if necessary.\u001b[0m\n"
     ]
    }
   ],
   "source": [
    "terraform init"
   ]
  },
  {
   "cell_type": "markdown",
   "id": "f6ea5d80",
   "metadata": {},
   "source": [
    "Note that after performing ```terraform init``` a local file ```.terraform.lock.hcl``` is created and probably a ```.terraform``` directory where the aws provider is downloaded.\n",
    "\n",
    "**Note:** The aws provider is large ~ 186Mbytes - we will see later how to store this file in a shared location"
   ]
  },
  {
   "cell_type": "code",
   "execution_count": 29,
   "id": "f336f49b",
   "metadata": {},
   "outputs": [
    {
     "name": "stdout",
     "output_type": "stream",
     "text": [
      "/home/student/labs/lab1\n",
      "total 20\n",
      "drwxrwxr-x 3 student student 4096 Jan  8 19:21 ..\n",
      "-rw-rw-r-- 1 student student  387 Jan  8 19:24 terraform.tfstate\n",
      "-rw-rw-r-- 1 student student  267 Jan  8 19:24 main.tf\n",
      "-rw-r--r-- 1 student student 1377 Jan  8 19:24 .terraform.lock.hcl\n",
      "drwxrwxr-x 2 student student 4096 Jan  8 19:24 .\n"
     ]
    }
   ],
   "source": [
    "pwd\n",
    "\n",
    "ls -altr"
   ]
  },
  {
   "cell_type": "markdown",
   "id": "e7191683",
   "metadata": {},
   "source": [
    "## 1.4.2 terraform plan\n",
    "\n",
    "#### retry 'terraform plan'\n",
    "\n",
    "Now try again the ```terraform plan``` and you will see that this now succeeds\n",
    "\n",
    "Terraform will also inform us of the changes it will make when we ```terraform apply``` this config.\n"
   ]
  },
  {
   "cell_type": "code",
   "execution_count": 30,
   "id": "82595bdb",
   "metadata": {
    "scrolled": false
   },
   "outputs": [
    {
     "name": "stdout",
     "output_type": "stream",
     "text": [
      "\n",
      "Terraform used the selected providers to generate the following execution plan.\n",
      "Resource actions are indicated with the following symbols:\n",
      "  \u001b[32m+\u001b[0m create\n",
      "\u001b[0m\n",
      "Terraform will perform the following actions:\n",
      "\n",
      "\u001b[1m  # aws_instance.example\u001b[0m will be created\u001b[0m\u001b[0m\n",
      "\u001b[0m  \u001b[32m+\u001b[0m\u001b[0m resource \"aws_instance\" \"example\" {\n",
      "      \u001b[32m+\u001b[0m \u001b[0m\u001b[1m\u001b[0mami\u001b[0m\u001b[0m                                  = \"ami-0e81aa4c57820bb57\"\n",
      "      \u001b[32m+\u001b[0m \u001b[0m\u001b[1m\u001b[0marn\u001b[0m\u001b[0m                                  = (known after apply)\n",
      "      \u001b[32m+\u001b[0m \u001b[0m\u001b[1m\u001b[0massociate_public_ip_address\u001b[0m\u001b[0m          = (known after apply)\n",
      "      \u001b[32m+\u001b[0m \u001b[0m\u001b[1m\u001b[0mavailability_zone\u001b[0m\u001b[0m                    = (known after apply)\n",
      "      \u001b[32m+\u001b[0m \u001b[0m\u001b[1m\u001b[0mcpu_core_count\u001b[0m\u001b[0m                       = (known after apply)\n",
      "      \u001b[32m+\u001b[0m \u001b[0m\u001b[1m\u001b[0mcpu_threads_per_core\u001b[0m\u001b[0m                 = (known after apply)\n",
      "      \u001b[32m+\u001b[0m \u001b[0m\u001b[1m\u001b[0mdisable_api_stop\u001b[0m\u001b[0m                     = (known after apply)\n",
      "      \u001b[32m+\u001b[0m \u001b[0m\u001b[1m\u001b[0mdisable_api_termination\u001b[0m\u001b[0m              = (known after apply)\n",
      "      \u001b[32m+\u001b[0m \u001b[0m\u001b[1m\u001b[0mebs_optimized\u001b[0m\u001b[0m                        = (known after apply)\n",
      "      \u001b[32m+\u001b[0m \u001b[0m\u001b[1m\u001b[0mget_password_data\u001b[0m\u001b[0m                    = false\n",
      "      \u001b[32m+\u001b[0m \u001b[0m\u001b[1m\u001b[0mhost_id\u001b[0m\u001b[0m                              = (known after apply)\n",
      "      \u001b[32m+\u001b[0m \u001b[0m\u001b[1m\u001b[0mhost_resource_group_arn\u001b[0m\u001b[0m              = (known after apply)\n",
      "      \u001b[32m+\u001b[0m \u001b[0m\u001b[1m\u001b[0miam_instance_profile\u001b[0m\u001b[0m                 = (known after apply)\n",
      "      \u001b[32m+\u001b[0m \u001b[0m\u001b[1m\u001b[0mid\u001b[0m\u001b[0m                                   = (known after apply)\n",
      "      \u001b[32m+\u001b[0m \u001b[0m\u001b[1m\u001b[0minstance_initiated_shutdown_behavior\u001b[0m\u001b[0m = (known after apply)\n",
      "      \u001b[32m+\u001b[0m \u001b[0m\u001b[1m\u001b[0minstance_state\u001b[0m\u001b[0m                       = (known after apply)\n",
      "      \u001b[32m+\u001b[0m \u001b[0m\u001b[1m\u001b[0minstance_type\u001b[0m\u001b[0m                        = \"t2.micro\"\n",
      "      \u001b[32m+\u001b[0m \u001b[0m\u001b[1m\u001b[0mipv6_address_count\u001b[0m\u001b[0m                   = (known after apply)\n",
      "      \u001b[32m+\u001b[0m \u001b[0m\u001b[1m\u001b[0mipv6_addresses\u001b[0m\u001b[0m                       = (known after apply)\n",
      "      \u001b[32m+\u001b[0m \u001b[0m\u001b[1m\u001b[0mkey_name\u001b[0m\u001b[0m                             = (known after apply)\n",
      "      \u001b[32m+\u001b[0m \u001b[0m\u001b[1m\u001b[0mmonitoring\u001b[0m\u001b[0m                           = (known after apply)\n",
      "      \u001b[32m+\u001b[0m \u001b[0m\u001b[1m\u001b[0moutpost_arn\u001b[0m\u001b[0m                          = (known after apply)\n",
      "      \u001b[32m+\u001b[0m \u001b[0m\u001b[1m\u001b[0mpassword_data\u001b[0m\u001b[0m                        = (known after apply)\n",
      "      \u001b[32m+\u001b[0m \u001b[0m\u001b[1m\u001b[0mplacement_group\u001b[0m\u001b[0m                      = (known after apply)\n",
      "      \u001b[32m+\u001b[0m \u001b[0m\u001b[1m\u001b[0mplacement_partition_number\u001b[0m\u001b[0m           = (known after apply)\n",
      "      \u001b[32m+\u001b[0m \u001b[0m\u001b[1m\u001b[0mprimary_network_interface_id\u001b[0m\u001b[0m         = (known after apply)\n",
      "      \u001b[32m+\u001b[0m \u001b[0m\u001b[1m\u001b[0mprivate_dns\u001b[0m\u001b[0m                          = (known after apply)\n",
      "      \u001b[32m+\u001b[0m \u001b[0m\u001b[1m\u001b[0mprivate_ip\u001b[0m\u001b[0m                           = (known after apply)\n",
      "      \u001b[32m+\u001b[0m \u001b[0m\u001b[1m\u001b[0mpublic_dns\u001b[0m\u001b[0m                           = (known after apply)\n",
      "      \u001b[32m+\u001b[0m \u001b[0m\u001b[1m\u001b[0mpublic_ip\u001b[0m\u001b[0m                            = (known after apply)\n",
      "      \u001b[32m+\u001b[0m \u001b[0m\u001b[1m\u001b[0msecondary_private_ips\u001b[0m\u001b[0m                = (known after apply)\n",
      "      \u001b[32m+\u001b[0m \u001b[0m\u001b[1m\u001b[0msecurity_groups\u001b[0m\u001b[0m                      = (known after apply)\n",
      "      \u001b[32m+\u001b[0m \u001b[0m\u001b[1m\u001b[0msource_dest_check\u001b[0m\u001b[0m                    = true\n",
      "      \u001b[32m+\u001b[0m \u001b[0m\u001b[1m\u001b[0msubnet_id\u001b[0m\u001b[0m                            = (known after apply)\n",
      "      \u001b[32m+\u001b[0m \u001b[0m\u001b[1m\u001b[0mtags\u001b[0m\u001b[0m                                 = {\n",
      "          \u001b[32m+\u001b[0m \u001b[0m\"LabName\" = \"1.InstallTerraform\"\n",
      "        }\n",
      "      \u001b[32m+\u001b[0m \u001b[0m\u001b[1m\u001b[0mtags_all\u001b[0m\u001b[0m                             = {\n",
      "          \u001b[32m+\u001b[0m \u001b[0m\"LabName\" = \"1.InstallTerraform\"\n",
      "        }\n",
      "      \u001b[32m+\u001b[0m \u001b[0m\u001b[1m\u001b[0mtenancy\u001b[0m\u001b[0m                              = (known after apply)\n",
      "      \u001b[32m+\u001b[0m \u001b[0m\u001b[1m\u001b[0muser_data\u001b[0m\u001b[0m                            = (known after apply)\n",
      "      \u001b[32m+\u001b[0m \u001b[0m\u001b[1m\u001b[0muser_data_base64\u001b[0m\u001b[0m                     = (known after apply)\n",
      "      \u001b[32m+\u001b[0m \u001b[0m\u001b[1m\u001b[0muser_data_replace_on_change\u001b[0m\u001b[0m          = false\n",
      "      \u001b[32m+\u001b[0m \u001b[0m\u001b[1m\u001b[0mvpc_security_group_ids\u001b[0m\u001b[0m               = (known after apply)\n",
      "\n",
      "      \u001b[32m+\u001b[0m \u001b[0mcapacity_reservation_specification {\n",
      "          \u001b[32m+\u001b[0m \u001b[0m\u001b[1m\u001b[0mcapacity_reservation_preference\u001b[0m\u001b[0m = (known after apply)\n",
      "\n",
      "          \u001b[32m+\u001b[0m \u001b[0mcapacity_reservation_target {\n",
      "              \u001b[32m+\u001b[0m \u001b[0m\u001b[1m\u001b[0mcapacity_reservation_id\u001b[0m\u001b[0m                 = (known after apply)\n",
      "              \u001b[32m+\u001b[0m \u001b[0m\u001b[1m\u001b[0mcapacity_reservation_resource_group_arn\u001b[0m\u001b[0m = (known after apply)\n",
      "            }\n",
      "        }\n",
      "\n",
      "      \u001b[32m+\u001b[0m \u001b[0mebs_block_device {\n",
      "          \u001b[32m+\u001b[0m \u001b[0m\u001b[1m\u001b[0mdelete_on_termination\u001b[0m\u001b[0m = (known after apply)\n",
      "          \u001b[32m+\u001b[0m \u001b[0m\u001b[1m\u001b[0mdevice_name\u001b[0m\u001b[0m           = (known after apply)\n",
      "          \u001b[32m+\u001b[0m \u001b[0m\u001b[1m\u001b[0mencrypted\u001b[0m\u001b[0m             = (known after apply)\n",
      "          \u001b[32m+\u001b[0m \u001b[0m\u001b[1m\u001b[0miops\u001b[0m\u001b[0m                  = (known after apply)\n",
      "          \u001b[32m+\u001b[0m \u001b[0m\u001b[1m\u001b[0mkms_key_id\u001b[0m\u001b[0m            = (known after apply)\n",
      "          \u001b[32m+\u001b[0m \u001b[0m\u001b[1m\u001b[0msnapshot_id\u001b[0m\u001b[0m           = (known after apply)\n",
      "          \u001b[32m+\u001b[0m \u001b[0m\u001b[1m\u001b[0mtags\u001b[0m\u001b[0m                  = (known after apply)\n",
      "          \u001b[32m+\u001b[0m \u001b[0m\u001b[1m\u001b[0mthroughput\u001b[0m\u001b[0m            = (known after apply)\n",
      "          \u001b[32m+\u001b[0m \u001b[0m\u001b[1m\u001b[0mvolume_id\u001b[0m\u001b[0m             = (known after apply)\n",
      "          \u001b[32m+\u001b[0m \u001b[0m\u001b[1m\u001b[0mvolume_size\u001b[0m\u001b[0m           = (known after apply)\n",
      "          \u001b[32m+\u001b[0m \u001b[0m\u001b[1m\u001b[0mvolume_type\u001b[0m\u001b[0m           = (known after apply)\n",
      "        }\n",
      "\n",
      "      \u001b[32m+\u001b[0m \u001b[0menclave_options {\n",
      "          \u001b[32m+\u001b[0m \u001b[0m\u001b[1m\u001b[0menabled\u001b[0m\u001b[0m = (known after apply)\n",
      "        }\n",
      "\n",
      "      \u001b[32m+\u001b[0m \u001b[0mephemeral_block_device {\n",
      "          \u001b[32m+\u001b[0m \u001b[0m\u001b[1m\u001b[0mdevice_name\u001b[0m\u001b[0m  = (known after apply)\n",
      "          \u001b[32m+\u001b[0m \u001b[0m\u001b[1m\u001b[0mno_device\u001b[0m\u001b[0m    = (known after apply)\n",
      "          \u001b[32m+\u001b[0m \u001b[0m\u001b[1m\u001b[0mvirtual_name\u001b[0m\u001b[0m = (known after apply)\n",
      "        }\n",
      "\n",
      "      \u001b[32m+\u001b[0m \u001b[0mmaintenance_options {\n",
      "          \u001b[32m+\u001b[0m \u001b[0m\u001b[1m\u001b[0mauto_recovery\u001b[0m\u001b[0m = (known after apply)\n",
      "        }\n",
      "\n",
      "      \u001b[32m+\u001b[0m \u001b[0mmetadata_options {\n",
      "          \u001b[32m+\u001b[0m \u001b[0m\u001b[1m\u001b[0mhttp_endpoint\u001b[0m\u001b[0m               = (known after apply)\n",
      "          \u001b[32m+\u001b[0m \u001b[0m\u001b[1m\u001b[0mhttp_put_response_hop_limit\u001b[0m\u001b[0m = (known after apply)\n",
      "          \u001b[32m+\u001b[0m \u001b[0m\u001b[1m\u001b[0mhttp_tokens\u001b[0m\u001b[0m                 = (known after apply)\n",
      "          \u001b[32m+\u001b[0m \u001b[0m\u001b[1m\u001b[0minstance_metadata_tags\u001b[0m\u001b[0m      = (known after apply)\n",
      "        }\n",
      "\n",
      "      \u001b[32m+\u001b[0m \u001b[0mnetwork_interface {\n",
      "          \u001b[32m+\u001b[0m \u001b[0m\u001b[1m\u001b[0mdelete_on_termination\u001b[0m\u001b[0m = (known after apply)\n",
      "          \u001b[32m+\u001b[0m \u001b[0m\u001b[1m\u001b[0mdevice_index\u001b[0m\u001b[0m          = (known after apply)\n",
      "          \u001b[32m+\u001b[0m \u001b[0m\u001b[1m\u001b[0mnetwork_card_index\u001b[0m\u001b[0m    = (known after apply)\n",
      "          \u001b[32m+\u001b[0m \u001b[0m\u001b[1m\u001b[0mnetwork_interface_id\u001b[0m\u001b[0m  = (known after apply)\n",
      "        }\n",
      "\n",
      "      \u001b[32m+\u001b[0m \u001b[0mprivate_dns_name_options {\n",
      "          \u001b[32m+\u001b[0m \u001b[0m\u001b[1m\u001b[0menable_resource_name_dns_a_record\u001b[0m\u001b[0m    = (known after apply)\n",
      "          \u001b[32m+\u001b[0m \u001b[0m\u001b[1m\u001b[0menable_resource_name_dns_aaaa_record\u001b[0m\u001b[0m = (known after apply)\n",
      "          \u001b[32m+\u001b[0m \u001b[0m\u001b[1m\u001b[0mhostname_type\u001b[0m\u001b[0m                        = (known after apply)\n",
      "        }\n",
      "\n",
      "      \u001b[32m+\u001b[0m \u001b[0mroot_block_device {\n",
      "          \u001b[32m+\u001b[0m \u001b[0m\u001b[1m\u001b[0mdelete_on_termination\u001b[0m\u001b[0m = (known after apply)\n",
      "          \u001b[32m+\u001b[0m \u001b[0m\u001b[1m\u001b[0mdevice_name\u001b[0m\u001b[0m           = (known after apply)\n",
      "          \u001b[32m+\u001b[0m \u001b[0m\u001b[1m\u001b[0mencrypted\u001b[0m\u001b[0m             = (known after apply)\n",
      "          \u001b[32m+\u001b[0m \u001b[0m\u001b[1m\u001b[0miops\u001b[0m\u001b[0m                  = (known after apply)\n",
      "          \u001b[32m+\u001b[0m \u001b[0m\u001b[1m\u001b[0mkms_key_id\u001b[0m\u001b[0m            = (known after apply)\n",
      "          \u001b[32m+\u001b[0m \u001b[0m\u001b[1m\u001b[0mtags\u001b[0m\u001b[0m                  = (known after apply)\n",
      "          \u001b[32m+\u001b[0m \u001b[0m\u001b[1m\u001b[0mthroughput\u001b[0m\u001b[0m            = (known after apply)\n",
      "          \u001b[32m+\u001b[0m \u001b[0m\u001b[1m\u001b[0mvolume_id\u001b[0m\u001b[0m             = (known after apply)\n",
      "          \u001b[32m+\u001b[0m \u001b[0m\u001b[1m\u001b[0mvolume_size\u001b[0m\u001b[0m           = (known after apply)\n"
     ]
    },
    {
     "name": "stdout",
     "output_type": "stream",
     "text": [
      "          \u001b[32m+\u001b[0m \u001b[0m\u001b[1m\u001b[0mvolume_type\u001b[0m\u001b[0m           = (known after apply)\n",
      "        }\n",
      "    }\n",
      "\n",
      "\u001b[0m\u001b[1mPlan:\u001b[0m 1 to add, 0 to change, 0 to destroy.\n",
      "\u001b[0m\u001b[0m\n",
      "\u001b[1mChanges to Outputs:\u001b[0m\u001b[0m\n",
      "  \u001b[31m-\u001b[0m \u001b[0m\u001b[1m\u001b[0mop_test\u001b[0m\u001b[0m   = \"a test value\" \u001b[90m->\u001b[0m \u001b[0m\u001b[90mnull\u001b[0m\u001b[0m\n",
      "  \u001b[31m-\u001b[0m \u001b[0m\u001b[1m\u001b[0mop_test2\u001b[0m\u001b[0m  = \"The same variablea' a test value' using string interpolation\" \u001b[90m->\u001b[0m \u001b[0m\u001b[90mnull\u001b[0m\u001b[0m\n",
      "  \u001b[32m+\u001b[0m \u001b[0m\u001b[1m\u001b[0mpublic_ip\u001b[0m\u001b[0m = (known after apply)\n",
      "\u001b[90m\n",
      "───────────────────────────────────────────────────────────────────────────────\u001b[0m\n",
      "\n",
      "Note: You didn't use the -out option to save this plan, so Terraform can't\n",
      "guarantee to take exactly these actions if you run \"terraform apply\" now.\n"
     ]
    }
   ],
   "source": [
    "terraform plan"
   ]
  },
  {
   "cell_type": "markdown",
   "id": "basic-radar",
   "metadata": {},
   "source": [
    "Note that a new directory .terraform has been created, look at the contents of that directory\n",
    "\n",
    "**Note**: If you have environment variable TF_DATA_DIR set, then this will point to a directory to be used - created if necessary - in place of .terraform"
   ]
  },
  {
   "cell_type": "markdown",
   "id": "specified-today",
   "metadata": {},
   "source": [
    "We see that a new \"aws_instance\" would be created.\n",
    "\n",
    "Note the line **Plan: 1 to add, 0 to change, 0 to destroy.** informing us of the change which would be made\n",
    "\n",
    "## 1.4.3 terraform apply\n",
    "\n",
    "We will now perform an apply to create that resource"
   ]
  },
  {
   "cell_type": "code",
   "execution_count": 31,
   "id": "ec2286d5",
   "metadata": {},
   "outputs": [
    {
     "name": "stdout",
     "output_type": "stream",
     "text": [
      "\u001b[0m\n",
      "\u001b[1mChanges to Outputs:\u001b[0m\u001b[0m\n",
      "  \u001b[31m-\u001b[0m \u001b[0m\u001b[1m\u001b[0mop_test\u001b[0m\u001b[0m  = \"a test value\" \u001b[90m->\u001b[0m \u001b[0m\u001b[90mnull\u001b[0m\u001b[0m\n",
      "  \u001b[31m-\u001b[0m \u001b[0m\u001b[1m\u001b[0mop_test2\u001b[0m\u001b[0m = \"The same variablea' a test value' using string interpolation\" \u001b[90m->\u001b[0m \u001b[0m\u001b[90mnull\u001b[0m\u001b[0m\n",
      "\n",
      "You can apply this plan to save these new output values to the Terraform state,\n",
      "without changing any real infrastructure.\n",
      "\u001b[0m\u001b[1m\u001b[32m\n",
      "Destroy complete! Resources: 0 destroyed.\n",
      "\u001b[0m\n"
     ]
    }
   ],
   "source": [
    "#EXCLUDE\n",
    "terraform destroy -auto-approve"
   ]
  },
  {
   "cell_type": "code",
   "execution_count": 32,
   "id": "6ede5d7d",
   "metadata": {
    "scrolled": false
   },
   "outputs": [
    {
     "name": "stdout",
     "output_type": "stream",
     "text": [
      "\n",
      "Terraform used the selected providers to generate the following execution plan.\n",
      "Resource actions are indicated with the following symbols:\n",
      "  \u001b[32m+\u001b[0m create\n",
      "\u001b[0m\n",
      "Terraform will perform the following actions:\n",
      "\n",
      "\u001b[1m  # aws_instance.example\u001b[0m will be created\u001b[0m\u001b[0m\n",
      "\u001b[0m  \u001b[32m+\u001b[0m\u001b[0m resource \"aws_instance\" \"example\" {\n",
      "      \u001b[32m+\u001b[0m \u001b[0m\u001b[1m\u001b[0mami\u001b[0m\u001b[0m                                  = \"ami-0e81aa4c57820bb57\"\n",
      "      \u001b[32m+\u001b[0m \u001b[0m\u001b[1m\u001b[0marn\u001b[0m\u001b[0m                                  = (known after apply)\n",
      "      \u001b[32m+\u001b[0m \u001b[0m\u001b[1m\u001b[0massociate_public_ip_address\u001b[0m\u001b[0m          = (known after apply)\n",
      "      \u001b[32m+\u001b[0m \u001b[0m\u001b[1m\u001b[0mavailability_zone\u001b[0m\u001b[0m                    = (known after apply)\n",
      "      \u001b[32m+\u001b[0m \u001b[0m\u001b[1m\u001b[0mcpu_core_count\u001b[0m\u001b[0m                       = (known after apply)\n",
      "      \u001b[32m+\u001b[0m \u001b[0m\u001b[1m\u001b[0mcpu_threads_per_core\u001b[0m\u001b[0m                 = (known after apply)\n",
      "      \u001b[32m+\u001b[0m \u001b[0m\u001b[1m\u001b[0mdisable_api_stop\u001b[0m\u001b[0m                     = (known after apply)\n",
      "      \u001b[32m+\u001b[0m \u001b[0m\u001b[1m\u001b[0mdisable_api_termination\u001b[0m\u001b[0m              = (known after apply)\n",
      "      \u001b[32m+\u001b[0m \u001b[0m\u001b[1m\u001b[0mebs_optimized\u001b[0m\u001b[0m                        = (known after apply)\n",
      "      \u001b[32m+\u001b[0m \u001b[0m\u001b[1m\u001b[0mget_password_data\u001b[0m\u001b[0m                    = false\n",
      "      \u001b[32m+\u001b[0m \u001b[0m\u001b[1m\u001b[0mhost_id\u001b[0m\u001b[0m                              = (known after apply)\n",
      "      \u001b[32m+\u001b[0m \u001b[0m\u001b[1m\u001b[0mhost_resource_group_arn\u001b[0m\u001b[0m              = (known after apply)\n",
      "      \u001b[32m+\u001b[0m \u001b[0m\u001b[1m\u001b[0miam_instance_profile\u001b[0m\u001b[0m                 = (known after apply)\n",
      "      \u001b[32m+\u001b[0m \u001b[0m\u001b[1m\u001b[0mid\u001b[0m\u001b[0m                                   = (known after apply)\n",
      "      \u001b[32m+\u001b[0m \u001b[0m\u001b[1m\u001b[0minstance_initiated_shutdown_behavior\u001b[0m\u001b[0m = (known after apply)\n",
      "      \u001b[32m+\u001b[0m \u001b[0m\u001b[1m\u001b[0minstance_state\u001b[0m\u001b[0m                       = (known after apply)\n",
      "      \u001b[32m+\u001b[0m \u001b[0m\u001b[1m\u001b[0minstance_type\u001b[0m\u001b[0m                        = \"t2.micro\"\n",
      "      \u001b[32m+\u001b[0m \u001b[0m\u001b[1m\u001b[0mipv6_address_count\u001b[0m\u001b[0m                   = (known after apply)\n",
      "      \u001b[32m+\u001b[0m \u001b[0m\u001b[1m\u001b[0mipv6_addresses\u001b[0m\u001b[0m                       = (known after apply)\n",
      "      \u001b[32m+\u001b[0m \u001b[0m\u001b[1m\u001b[0mkey_name\u001b[0m\u001b[0m                             = (known after apply)\n",
      "      \u001b[32m+\u001b[0m \u001b[0m\u001b[1m\u001b[0mmonitoring\u001b[0m\u001b[0m                           = (known after apply)\n",
      "      \u001b[32m+\u001b[0m \u001b[0m\u001b[1m\u001b[0moutpost_arn\u001b[0m\u001b[0m                          = (known after apply)\n",
      "      \u001b[32m+\u001b[0m \u001b[0m\u001b[1m\u001b[0mpassword_data\u001b[0m\u001b[0m                        = (known after apply)\n",
      "      \u001b[32m+\u001b[0m \u001b[0m\u001b[1m\u001b[0mplacement_group\u001b[0m\u001b[0m                      = (known after apply)\n",
      "      \u001b[32m+\u001b[0m \u001b[0m\u001b[1m\u001b[0mplacement_partition_number\u001b[0m\u001b[0m           = (known after apply)\n",
      "      \u001b[32m+\u001b[0m \u001b[0m\u001b[1m\u001b[0mprimary_network_interface_id\u001b[0m\u001b[0m         = (known after apply)\n",
      "      \u001b[32m+\u001b[0m \u001b[0m\u001b[1m\u001b[0mprivate_dns\u001b[0m\u001b[0m                          = (known after apply)\n",
      "      \u001b[32m+\u001b[0m \u001b[0m\u001b[1m\u001b[0mprivate_ip\u001b[0m\u001b[0m                           = (known after apply)\n",
      "      \u001b[32m+\u001b[0m \u001b[0m\u001b[1m\u001b[0mpublic_dns\u001b[0m\u001b[0m                           = (known after apply)\n",
      "      \u001b[32m+\u001b[0m \u001b[0m\u001b[1m\u001b[0mpublic_ip\u001b[0m\u001b[0m                            = (known after apply)\n",
      "      \u001b[32m+\u001b[0m \u001b[0m\u001b[1m\u001b[0msecondary_private_ips\u001b[0m\u001b[0m                = (known after apply)\n",
      "      \u001b[32m+\u001b[0m \u001b[0m\u001b[1m\u001b[0msecurity_groups\u001b[0m\u001b[0m                      = (known after apply)\n",
      "      \u001b[32m+\u001b[0m \u001b[0m\u001b[1m\u001b[0msource_dest_check\u001b[0m\u001b[0m                    = true\n",
      "      \u001b[32m+\u001b[0m \u001b[0m\u001b[1m\u001b[0msubnet_id\u001b[0m\u001b[0m                            = (known after apply)\n",
      "      \u001b[32m+\u001b[0m \u001b[0m\u001b[1m\u001b[0mtags\u001b[0m\u001b[0m                                 = {\n",
      "          \u001b[32m+\u001b[0m \u001b[0m\"LabName\" = \"1.InstallTerraform\"\n",
      "        }\n",
      "      \u001b[32m+\u001b[0m \u001b[0m\u001b[1m\u001b[0mtags_all\u001b[0m\u001b[0m                             = {\n",
      "          \u001b[32m+\u001b[0m \u001b[0m\"LabName\" = \"1.InstallTerraform\"\n",
      "        }\n",
      "      \u001b[32m+\u001b[0m \u001b[0m\u001b[1m\u001b[0mtenancy\u001b[0m\u001b[0m                              = (known after apply)\n",
      "      \u001b[32m+\u001b[0m \u001b[0m\u001b[1m\u001b[0muser_data\u001b[0m\u001b[0m                            = (known after apply)\n",
      "      \u001b[32m+\u001b[0m \u001b[0m\u001b[1m\u001b[0muser_data_base64\u001b[0m\u001b[0m                     = (known after apply)\n",
      "      \u001b[32m+\u001b[0m \u001b[0m\u001b[1m\u001b[0muser_data_replace_on_change\u001b[0m\u001b[0m          = false\n",
      "      \u001b[32m+\u001b[0m \u001b[0m\u001b[1m\u001b[0mvpc_security_group_ids\u001b[0m\u001b[0m               = (known after apply)\n",
      "\n",
      "      \u001b[32m+\u001b[0m \u001b[0mcapacity_reservation_specification {\n",
      "          \u001b[32m+\u001b[0m \u001b[0m\u001b[1m\u001b[0mcapacity_reservation_preference\u001b[0m\u001b[0m = (known after apply)\n",
      "\n",
      "          \u001b[32m+\u001b[0m \u001b[0mcapacity_reservation_target {\n",
      "              \u001b[32m+\u001b[0m \u001b[0m\u001b[1m\u001b[0mcapacity_reservation_id\u001b[0m\u001b[0m                 = (known after apply)\n",
      "              \u001b[32m+\u001b[0m \u001b[0m\u001b[1m\u001b[0mcapacity_reservation_resource_group_arn\u001b[0m\u001b[0m = (known after apply)\n",
      "            }\n",
      "        }\n",
      "\n",
      "      \u001b[32m+\u001b[0m \u001b[0mebs_block_device {\n",
      "          \u001b[32m+\u001b[0m \u001b[0m\u001b[1m\u001b[0mdelete_on_termination\u001b[0m\u001b[0m = (known after apply)\n",
      "          \u001b[32m+\u001b[0m \u001b[0m\u001b[1m\u001b[0mdevice_name\u001b[0m\u001b[0m           = (known after apply)\n",
      "          \u001b[32m+\u001b[0m \u001b[0m\u001b[1m\u001b[0mencrypted\u001b[0m\u001b[0m             = (known after apply)\n",
      "          \u001b[32m+\u001b[0m \u001b[0m\u001b[1m\u001b[0miops\u001b[0m\u001b[0m                  = (known after apply)\n",
      "          \u001b[32m+\u001b[0m \u001b[0m\u001b[1m\u001b[0mkms_key_id\u001b[0m\u001b[0m            = (known after apply)\n",
      "          \u001b[32m+\u001b[0m \u001b[0m\u001b[1m\u001b[0msnapshot_id\u001b[0m\u001b[0m           = (known after apply)\n",
      "          \u001b[32m+\u001b[0m \u001b[0m\u001b[1m\u001b[0mtags\u001b[0m\u001b[0m                  = (known after apply)\n",
      "          \u001b[32m+\u001b[0m \u001b[0m\u001b[1m\u001b[0mthroughput\u001b[0m\u001b[0m            = (known after apply)\n",
      "          \u001b[32m+\u001b[0m \u001b[0m\u001b[1m\u001b[0mvolume_id\u001b[0m\u001b[0m             = (known after apply)\n",
      "          \u001b[32m+\u001b[0m \u001b[0m\u001b[1m\u001b[0mvolume_size\u001b[0m\u001b[0m           = (known after apply)\n",
      "          \u001b[32m+\u001b[0m \u001b[0m\u001b[1m\u001b[0mvolume_type\u001b[0m\u001b[0m           = (known after apply)\n",
      "        }\n",
      "\n",
      "      \u001b[32m+\u001b[0m \u001b[0menclave_options {\n",
      "          \u001b[32m+\u001b[0m \u001b[0m\u001b[1m\u001b[0menabled\u001b[0m\u001b[0m = (known after apply)\n",
      "        }\n",
      "\n",
      "      \u001b[32m+\u001b[0m \u001b[0mephemeral_block_device {\n",
      "          \u001b[32m+\u001b[0m \u001b[0m\u001b[1m\u001b[0mdevice_name\u001b[0m\u001b[0m  = (known after apply)\n",
      "          \u001b[32m+\u001b[0m \u001b[0m\u001b[1m\u001b[0mno_device\u001b[0m\u001b[0m    = (known after apply)\n",
      "          \u001b[32m+\u001b[0m \u001b[0m\u001b[1m\u001b[0mvirtual_name\u001b[0m\u001b[0m = (known after apply)\n",
      "        }\n",
      "\n",
      "      \u001b[32m+\u001b[0m \u001b[0mmaintenance_options {\n",
      "          \u001b[32m+\u001b[0m \u001b[0m\u001b[1m\u001b[0mauto_recovery\u001b[0m\u001b[0m = (known after apply)\n",
      "        }\n",
      "\n",
      "      \u001b[32m+\u001b[0m \u001b[0mmetadata_options {\n",
      "          \u001b[32m+\u001b[0m \u001b[0m\u001b[1m\u001b[0mhttp_endpoint\u001b[0m\u001b[0m               = (known after apply)\n",
      "          \u001b[32m+\u001b[0m \u001b[0m\u001b[1m\u001b[0mhttp_put_response_hop_limit\u001b[0m\u001b[0m = (known after apply)\n",
      "          \u001b[32m+\u001b[0m \u001b[0m\u001b[1m\u001b[0mhttp_tokens\u001b[0m\u001b[0m                 = (known after apply)\n",
      "          \u001b[32m+\u001b[0m \u001b[0m\u001b[1m\u001b[0minstance_metadata_tags\u001b[0m\u001b[0m      = (known after apply)\n",
      "        }\n",
      "\n",
      "      \u001b[32m+\u001b[0m \u001b[0mnetwork_interface {\n",
      "          \u001b[32m+\u001b[0m \u001b[0m\u001b[1m\u001b[0mdelete_on_termination\u001b[0m\u001b[0m = (known after apply)\n",
      "          \u001b[32m+\u001b[0m \u001b[0m\u001b[1m\u001b[0mdevice_index\u001b[0m\u001b[0m          = (known after apply)\n",
      "          \u001b[32m+\u001b[0m \u001b[0m\u001b[1m\u001b[0mnetwork_card_index\u001b[0m\u001b[0m    = (known after apply)\n",
      "          \u001b[32m+\u001b[0m \u001b[0m\u001b[1m\u001b[0mnetwork_interface_id\u001b[0m\u001b[0m  = (known after apply)\n",
      "        }\n",
      "\n",
      "      \u001b[32m+\u001b[0m \u001b[0mprivate_dns_name_options {\n",
      "          \u001b[32m+\u001b[0m \u001b[0m\u001b[1m\u001b[0menable_resource_name_dns_a_record\u001b[0m\u001b[0m    = (known after apply)\n",
      "          \u001b[32m+\u001b[0m \u001b[0m\u001b[1m\u001b[0menable_resource_name_dns_aaaa_record\u001b[0m\u001b[0m = (known after apply)\n",
      "          \u001b[32m+\u001b[0m \u001b[0m\u001b[1m\u001b[0mhostname_type\u001b[0m\u001b[0m                        = (known after apply)\n",
      "        }\n",
      "\n",
      "      \u001b[32m+\u001b[0m \u001b[0mroot_block_device {\n",
      "          \u001b[32m+\u001b[0m \u001b[0m\u001b[1m\u001b[0mdelete_on_termination\u001b[0m\u001b[0m = (known after apply)\n",
      "          \u001b[32m+\u001b[0m \u001b[0m\u001b[1m\u001b[0mdevice_name\u001b[0m\u001b[0m           = (known after apply)\n",
      "          \u001b[32m+\u001b[0m \u001b[0m\u001b[1m\u001b[0mencrypted\u001b[0m\u001b[0m             = (known after apply)\n",
      "          \u001b[32m+\u001b[0m \u001b[0m\u001b[1m\u001b[0miops\u001b[0m\u001b[0m                  = (known after apply)\n",
      "          \u001b[32m+\u001b[0m \u001b[0m\u001b[1m\u001b[0mkms_key_id\u001b[0m\u001b[0m            = (known after apply)\n",
      "          \u001b[32m+\u001b[0m \u001b[0m\u001b[1m\u001b[0mtags\u001b[0m\u001b[0m                  = (known after apply)\n",
      "          \u001b[32m+\u001b[0m \u001b[0m\u001b[1m\u001b[0mthroughput\u001b[0m\u001b[0m            = (known after apply)\n",
      "          \u001b[32m+\u001b[0m \u001b[0m\u001b[1m\u001b[0mvolume_id\u001b[0m\u001b[0m             = (known after apply)\n",
      "          \u001b[32m+\u001b[0m \u001b[0m\u001b[1m\u001b[0mvolume_size\u001b[0m\u001b[0m           = (known after apply)\n"
     ]
    },
    {
     "name": "stdout",
     "output_type": "stream",
     "text": [
      "          \u001b[32m+\u001b[0m \u001b[0m\u001b[1m\u001b[0mvolume_type\u001b[0m\u001b[0m           = (known after apply)\n",
      "        }\n",
      "    }\n",
      "\n",
      "\u001b[0m\u001b[1mPlan:\u001b[0m 1 to add, 0 to change, 0 to destroy.\n",
      "\u001b[0m\u001b[0m\n",
      "\u001b[1mChanges to Outputs:\u001b[0m\u001b[0m\n",
      "  \u001b[32m+\u001b[0m \u001b[0m\u001b[1m\u001b[0mpublic_ip\u001b[0m\u001b[0m = (known after apply)\n",
      "\u001b[0m\u001b[1maws_instance.example: Creating...\u001b[0m\u001b[0m\n",
      "\u001b[0m\u001b[1maws_instance.example: Still creating... [10s elapsed]\u001b[0m\u001b[0m\n",
      "\u001b[0m\u001b[1maws_instance.example: Still creating... [20s elapsed]\u001b[0m\u001b[0m\n",
      "\u001b[0m\u001b[1maws_instance.example: Creation complete after 23s [id=i-04e94de79c6079761]\u001b[0m\n",
      "\u001b[0m\u001b[1m\u001b[32m\n",
      "Apply complete! Resources: 1 added, 0 changed, 0 destroyed.\n",
      "\u001b[0m\u001b[0m\u001b[1m\u001b[32m\n",
      "Outputs:\n",
      "\n",
      "\u001b[0mpublic_ip = \"54.241.193.137\"\n"
     ]
    }
   ],
   "source": [
    "TF_APPLY"
   ]
  },
  {
   "cell_type": "code",
   "execution_count": 33,
   "id": "active-joyce",
   "metadata": {
    "attributes": {
     "classes": [
      "sh"
     ],
     "id": ""
    }
   },
   "outputs": [],
   "source": [
    "#EXCLUDE\n",
    "\n",
    "#Note: would be useful to have a TF_APPLY function which combines\n",
    "#      or a EXEC_ignore \"terraform apply\" \"--auto-approve\" \"\"\n",
    "#           ==> EXEC    $1 $2\n",
    "#           ==> NO_EXEC $1 $3\n",
    "#terraform destroy --auto-approve"
   ]
  },
  {
   "cell_type": "markdown",
   "id": "vertical-memorabilia",
   "metadata": {},
   "source": [
    "This time we are prompted to confirm that we wish to apply the plan.\n",
    "\n",
    "After replying 'yes' the resource is created.\n",
    "\n",
    "The output block statement provides us the public_ip of the created VM instance.\n",
    "\n",
    "**Note**: For the moment we have not created a *Security Group* nor have we associated a keypair with this VM and so we cannot yet connect to it - we will do that in the next exercise.\n",
    "\n",
    "\n",
    "## 1.4.4 Inspecting the created resources\n",
    "\n",
    "We can view the resulting resources by performing either through:\n",
    "\n",
    "### terraform state list\n",
    "\n",
    "This reads the information from the terraform.tfstate file to list each resource now being managed by Terraform.\n",
    "\n",
    "Note that ```aws_instance.example``` corresponds to the name which Terraform asssociates with the resource as specified by the ```resource \"aws_instance\" \"example\"``` line in our config.\n",
    "\n",
    "Try the\n",
    "- ```terraform state list ``` and\n",
    "- ```terraform state show``` commands, e.g. ```terraform state show aws_instance.example```.\n",
    "\n",
    "### terraform show\n",
    "\n",
    "This reads the information from the terraform.tfstate file\n",
    "\n",
    "### aws ec2 describe-instances\n",
    "\n",
    "Uses the aws cli to show all instances (very verbose!!)\n",
    "\n",
    "### /usr/local/bin/get_instances.sh\n",
    "\n",
    "A wrapper around *aws ec2 describe-instances* (quite succinct!!)\n",
    "\n",
    "### terraform.tfstate\n",
    "\n",
    "the raw terraform.tfstate json file\n",
    "\n",
    "### jq\n",
    "\n",
    "```\n",
    "jq '.' terraform.tfstate\n",
    "```\n",
    "\n",
    "Extracting fields using jq:\n",
    "```\n",
    "jq '.resources[0].instances[].attributes.public_ip' terraform.tfstate\n",
    "```\n",
    "\n",
    "### terraform output\n",
    "\n",
    "We can also obtain any output values using the ```terraform output``` command\n"
   ]
  },
  {
   "cell_type": "markdown",
   "id": "conceptual-february",
   "metadata": {},
   "source": [
    "# 1.5 Cleanup\n",
    "\n",
    "- Now cleanup the generated resource using the ```terraform destroy``` command\n",
    "- Then also remove the .terraform directory (about 190 MBy in size)"
   ]
  },
  {
   "cell_type": "code",
   "execution_count": 34,
   "id": "fatty-resident",
   "metadata": {},
   "outputs": [
    {
     "name": "stdout",
     "output_type": "stream",
     "text": [
      "\u001b[0m\u001b[1maws_instance.example: Refreshing state... [id=i-04e94de79c6079761]\u001b[0m\n",
      "\n",
      "Terraform used the selected providers to generate the following execution plan.\n",
      "Resource actions are indicated with the following symbols:\n",
      "  \u001b[31m-\u001b[0m destroy\n",
      "\u001b[0m\n",
      "Terraform will perform the following actions:\n",
      "\n",
      "\u001b[1m  # aws_instance.example\u001b[0m will be \u001b[1m\u001b[31mdestroyed\u001b[0m\u001b[0m\n",
      "\u001b[0m  \u001b[31m-\u001b[0m\u001b[0m resource \"aws_instance\" \"example\" {\n",
      "      \u001b[31m-\u001b[0m \u001b[0m\u001b[1m\u001b[0mami\u001b[0m\u001b[0m                                  = \"ami-0e81aa4c57820bb57\" \u001b[90m->\u001b[0m \u001b[0m\u001b[90mnull\u001b[0m\u001b[0m\n",
      "      \u001b[31m-\u001b[0m \u001b[0m\u001b[1m\u001b[0marn\u001b[0m\u001b[0m                                  = \"arn:aws:ec2:us-west-1:816376574968:instance/i-04e94de79c6079761\" \u001b[90m->\u001b[0m \u001b[0m\u001b[90mnull\u001b[0m\u001b[0m\n",
      "      \u001b[31m-\u001b[0m \u001b[0m\u001b[1m\u001b[0massociate_public_ip_address\u001b[0m\u001b[0m          = true \u001b[90m->\u001b[0m \u001b[0m\u001b[90mnull\u001b[0m\u001b[0m\n",
      "      \u001b[31m-\u001b[0m \u001b[0m\u001b[1m\u001b[0mavailability_zone\u001b[0m\u001b[0m                    = \"us-west-1c\" \u001b[90m->\u001b[0m \u001b[0m\u001b[90mnull\u001b[0m\u001b[0m\n",
      "      \u001b[31m-\u001b[0m \u001b[0m\u001b[1m\u001b[0mcpu_core_count\u001b[0m\u001b[0m                       = 1 \u001b[90m->\u001b[0m \u001b[0m\u001b[90mnull\u001b[0m\u001b[0m\n",
      "      \u001b[31m-\u001b[0m \u001b[0m\u001b[1m\u001b[0mcpu_threads_per_core\u001b[0m\u001b[0m                 = 1 \u001b[90m->\u001b[0m \u001b[0m\u001b[90mnull\u001b[0m\u001b[0m\n",
      "      \u001b[31m-\u001b[0m \u001b[0m\u001b[1m\u001b[0mdisable_api_stop\u001b[0m\u001b[0m                     = false \u001b[90m->\u001b[0m \u001b[0m\u001b[90mnull\u001b[0m\u001b[0m\n",
      "      \u001b[31m-\u001b[0m \u001b[0m\u001b[1m\u001b[0mdisable_api_termination\u001b[0m\u001b[0m              = false \u001b[90m->\u001b[0m \u001b[0m\u001b[90mnull\u001b[0m\u001b[0m\n",
      "      \u001b[31m-\u001b[0m \u001b[0m\u001b[1m\u001b[0mebs_optimized\u001b[0m\u001b[0m                        = false \u001b[90m->\u001b[0m \u001b[0m\u001b[90mnull\u001b[0m\u001b[0m\n",
      "      \u001b[31m-\u001b[0m \u001b[0m\u001b[1m\u001b[0mget_password_data\u001b[0m\u001b[0m                    = false \u001b[90m->\u001b[0m \u001b[0m\u001b[90mnull\u001b[0m\u001b[0m\n",
      "      \u001b[31m-\u001b[0m \u001b[0m\u001b[1m\u001b[0mhibernation\u001b[0m\u001b[0m                          = false \u001b[90m->\u001b[0m \u001b[0m\u001b[90mnull\u001b[0m\u001b[0m\n",
      "      \u001b[31m-\u001b[0m \u001b[0m\u001b[1m\u001b[0mid\u001b[0m\u001b[0m                                   = \"i-04e94de79c6079761\" \u001b[90m->\u001b[0m \u001b[0m\u001b[90mnull\u001b[0m\u001b[0m\n",
      "      \u001b[31m-\u001b[0m \u001b[0m\u001b[1m\u001b[0minstance_initiated_shutdown_behavior\u001b[0m\u001b[0m = \"stop\" \u001b[90m->\u001b[0m \u001b[0m\u001b[90mnull\u001b[0m\u001b[0m\n",
      "      \u001b[31m-\u001b[0m \u001b[0m\u001b[1m\u001b[0minstance_state\u001b[0m\u001b[0m                       = \"running\" \u001b[90m->\u001b[0m \u001b[0m\u001b[90mnull\u001b[0m\u001b[0m\n",
      "      \u001b[31m-\u001b[0m \u001b[0m\u001b[1m\u001b[0minstance_type\u001b[0m\u001b[0m                        = \"t2.micro\" \u001b[90m->\u001b[0m \u001b[0m\u001b[90mnull\u001b[0m\u001b[0m\n",
      "      \u001b[31m-\u001b[0m \u001b[0m\u001b[1m\u001b[0mipv6_address_count\u001b[0m\u001b[0m                   = 0 \u001b[90m->\u001b[0m \u001b[0m\u001b[90mnull\u001b[0m\u001b[0m\n",
      "      \u001b[31m-\u001b[0m \u001b[0m\u001b[1m\u001b[0mipv6_addresses\u001b[0m\u001b[0m                       = [] \u001b[90m->\u001b[0m \u001b[0m\u001b[90mnull\u001b[0m\u001b[0m\n",
      "      \u001b[31m-\u001b[0m \u001b[0m\u001b[1m\u001b[0mmonitoring\u001b[0m\u001b[0m                           = false \u001b[90m->\u001b[0m \u001b[0m\u001b[90mnull\u001b[0m\u001b[0m\n",
      "      \u001b[31m-\u001b[0m \u001b[0m\u001b[1m\u001b[0mprimary_network_interface_id\u001b[0m\u001b[0m         = \"eni-040b6c6861e2f1261\" \u001b[90m->\u001b[0m \u001b[0m\u001b[90mnull\u001b[0m\u001b[0m\n",
      "      \u001b[31m-\u001b[0m \u001b[0m\u001b[1m\u001b[0mprivate_dns\u001b[0m\u001b[0m                          = \"ip-172-31-24-112.us-west-1.compute.internal\" \u001b[90m->\u001b[0m \u001b[0m\u001b[90mnull\u001b[0m\u001b[0m\n",
      "      \u001b[31m-\u001b[0m \u001b[0m\u001b[1m\u001b[0mprivate_ip\u001b[0m\u001b[0m                           = \"172.31.24.112\" \u001b[90m->\u001b[0m \u001b[0m\u001b[90mnull\u001b[0m\u001b[0m\n",
      "      \u001b[31m-\u001b[0m \u001b[0m\u001b[1m\u001b[0mpublic_dns\u001b[0m\u001b[0m                           = \"ec2-54-241-193-137.us-west-1.compute.amazonaws.com\" \u001b[90m->\u001b[0m \u001b[0m\u001b[90mnull\u001b[0m\u001b[0m\n",
      "      \u001b[31m-\u001b[0m \u001b[0m\u001b[1m\u001b[0mpublic_ip\u001b[0m\u001b[0m                            = \"54.241.193.137\" \u001b[90m->\u001b[0m \u001b[0m\u001b[90mnull\u001b[0m\u001b[0m\n",
      "      \u001b[31m-\u001b[0m \u001b[0m\u001b[1m\u001b[0msecondary_private_ips\u001b[0m\u001b[0m                = [] \u001b[90m->\u001b[0m \u001b[0m\u001b[90mnull\u001b[0m\u001b[0m\n",
      "      \u001b[31m-\u001b[0m \u001b[0m\u001b[1m\u001b[0msecurity_groups\u001b[0m\u001b[0m                      = [\n",
      "          \u001b[31m-\u001b[0m \u001b[0m\"default\",\n",
      "        ] \u001b[90m->\u001b[0m \u001b[0m\u001b[90mnull\u001b[0m\u001b[0m\n",
      "      \u001b[31m-\u001b[0m \u001b[0m\u001b[1m\u001b[0msource_dest_check\u001b[0m\u001b[0m                    = true \u001b[90m->\u001b[0m \u001b[0m\u001b[90mnull\u001b[0m\u001b[0m\n",
      "      \u001b[31m-\u001b[0m \u001b[0m\u001b[1m\u001b[0msubnet_id\u001b[0m\u001b[0m                            = \"subnet-01f855549f3efdd85\" \u001b[90m->\u001b[0m \u001b[0m\u001b[90mnull\u001b[0m\u001b[0m\n",
      "      \u001b[31m-\u001b[0m \u001b[0m\u001b[1m\u001b[0mtags\u001b[0m\u001b[0m                                 = {\n",
      "          \u001b[31m-\u001b[0m \u001b[0m\"LabName\" = \"1.InstallTerraform\"\n",
      "        } \u001b[90m->\u001b[0m \u001b[0m\u001b[90mnull\u001b[0m\u001b[0m\n",
      "      \u001b[31m-\u001b[0m \u001b[0m\u001b[1m\u001b[0mtags_all\u001b[0m\u001b[0m                             = {\n",
      "          \u001b[31m-\u001b[0m \u001b[0m\"LabName\" = \"1.InstallTerraform\"\n",
      "        } \u001b[90m->\u001b[0m \u001b[0m\u001b[90mnull\u001b[0m\u001b[0m\n",
      "      \u001b[31m-\u001b[0m \u001b[0m\u001b[1m\u001b[0mtenancy\u001b[0m\u001b[0m                              = \"default\" \u001b[90m->\u001b[0m \u001b[0m\u001b[90mnull\u001b[0m\u001b[0m\n",
      "      \u001b[31m-\u001b[0m \u001b[0m\u001b[1m\u001b[0muser_data_replace_on_change\u001b[0m\u001b[0m          = false \u001b[90m->\u001b[0m \u001b[0m\u001b[90mnull\u001b[0m\u001b[0m\n",
      "      \u001b[31m-\u001b[0m \u001b[0m\u001b[1m\u001b[0mvpc_security_group_ids\u001b[0m\u001b[0m               = [\n",
      "          \u001b[31m-\u001b[0m \u001b[0m\"sg-07e7db9f93d86103e\",\n",
      "        ] \u001b[90m->\u001b[0m \u001b[0m\u001b[90mnull\u001b[0m\u001b[0m\n",
      "\n",
      "      \u001b[31m-\u001b[0m \u001b[0mcapacity_reservation_specification {\n",
      "          \u001b[31m-\u001b[0m \u001b[0m\u001b[1m\u001b[0mcapacity_reservation_preference\u001b[0m\u001b[0m = \"open\" \u001b[90m->\u001b[0m \u001b[0m\u001b[90mnull\u001b[0m\u001b[0m\n",
      "        }\n",
      "\n",
      "      \u001b[31m-\u001b[0m \u001b[0mcredit_specification {\n",
      "          \u001b[31m-\u001b[0m \u001b[0m\u001b[1m\u001b[0mcpu_credits\u001b[0m\u001b[0m = \"standard\" \u001b[90m->\u001b[0m \u001b[0m\u001b[90mnull\u001b[0m\u001b[0m\n",
      "        }\n",
      "\n",
      "      \u001b[31m-\u001b[0m \u001b[0menclave_options {\n",
      "          \u001b[31m-\u001b[0m \u001b[0m\u001b[1m\u001b[0menabled\u001b[0m\u001b[0m = false \u001b[90m->\u001b[0m \u001b[0m\u001b[90mnull\u001b[0m\u001b[0m\n",
      "        }\n",
      "\n",
      "      \u001b[31m-\u001b[0m \u001b[0mmaintenance_options {\n",
      "          \u001b[31m-\u001b[0m \u001b[0m\u001b[1m\u001b[0mauto_recovery\u001b[0m\u001b[0m = \"default\" \u001b[90m->\u001b[0m \u001b[0m\u001b[90mnull\u001b[0m\u001b[0m\n",
      "        }\n",
      "\n",
      "      \u001b[31m-\u001b[0m \u001b[0mmetadata_options {\n",
      "          \u001b[31m-\u001b[0m \u001b[0m\u001b[1m\u001b[0mhttp_endpoint\u001b[0m\u001b[0m               = \"enabled\" \u001b[90m->\u001b[0m \u001b[0m\u001b[90mnull\u001b[0m\u001b[0m\n",
      "          \u001b[31m-\u001b[0m \u001b[0m\u001b[1m\u001b[0mhttp_put_response_hop_limit\u001b[0m\u001b[0m = 1 \u001b[90m->\u001b[0m \u001b[0m\u001b[90mnull\u001b[0m\u001b[0m\n",
      "          \u001b[31m-\u001b[0m \u001b[0m\u001b[1m\u001b[0mhttp_tokens\u001b[0m\u001b[0m                 = \"optional\" \u001b[90m->\u001b[0m \u001b[0m\u001b[90mnull\u001b[0m\u001b[0m\n",
      "          \u001b[31m-\u001b[0m \u001b[0m\u001b[1m\u001b[0minstance_metadata_tags\u001b[0m\u001b[0m      = \"disabled\" \u001b[90m->\u001b[0m \u001b[0m\u001b[90mnull\u001b[0m\u001b[0m\n",
      "        }\n",
      "\n",
      "      \u001b[31m-\u001b[0m \u001b[0mprivate_dns_name_options {\n",
      "          \u001b[31m-\u001b[0m \u001b[0m\u001b[1m\u001b[0menable_resource_name_dns_a_record\u001b[0m\u001b[0m    = false \u001b[90m->\u001b[0m \u001b[0m\u001b[90mnull\u001b[0m\u001b[0m\n",
      "          \u001b[31m-\u001b[0m \u001b[0m\u001b[1m\u001b[0menable_resource_name_dns_aaaa_record\u001b[0m\u001b[0m = false \u001b[90m->\u001b[0m \u001b[0m\u001b[90mnull\u001b[0m\u001b[0m\n",
      "          \u001b[31m-\u001b[0m \u001b[0m\u001b[1m\u001b[0mhostname_type\u001b[0m\u001b[0m                        = \"ip-name\" \u001b[90m->\u001b[0m \u001b[0m\u001b[90mnull\u001b[0m\u001b[0m\n",
      "        }\n",
      "\n",
      "      \u001b[31m-\u001b[0m \u001b[0mroot_block_device {\n",
      "          \u001b[31m-\u001b[0m \u001b[0m\u001b[1m\u001b[0mdelete_on_termination\u001b[0m\u001b[0m = true \u001b[90m->\u001b[0m \u001b[0m\u001b[90mnull\u001b[0m\u001b[0m\n",
      "          \u001b[31m-\u001b[0m \u001b[0m\u001b[1m\u001b[0mdevice_name\u001b[0m\u001b[0m           = \"/dev/sda1\" \u001b[90m->\u001b[0m \u001b[0m\u001b[90mnull\u001b[0m\u001b[0m\n",
      "          \u001b[31m-\u001b[0m \u001b[0m\u001b[1m\u001b[0mencrypted\u001b[0m\u001b[0m             = false \u001b[90m->\u001b[0m \u001b[0m\u001b[90mnull\u001b[0m\u001b[0m\n",
      "          \u001b[31m-\u001b[0m \u001b[0m\u001b[1m\u001b[0miops\u001b[0m\u001b[0m                  = 100 \u001b[90m->\u001b[0m \u001b[0m\u001b[90mnull\u001b[0m\u001b[0m\n",
      "          \u001b[31m-\u001b[0m \u001b[0m\u001b[1m\u001b[0mtags\u001b[0m\u001b[0m                  = {} \u001b[90m->\u001b[0m \u001b[0m\u001b[90mnull\u001b[0m\u001b[0m\n",
      "          \u001b[31m-\u001b[0m \u001b[0m\u001b[1m\u001b[0mthroughput\u001b[0m\u001b[0m            = 0 \u001b[90m->\u001b[0m \u001b[0m\u001b[90mnull\u001b[0m\u001b[0m\n",
      "          \u001b[31m-\u001b[0m \u001b[0m\u001b[1m\u001b[0mvolume_id\u001b[0m\u001b[0m             = \"vol-0c2e59c6fdcbdaa61\" \u001b[90m->\u001b[0m \u001b[0m\u001b[90mnull\u001b[0m\u001b[0m\n",
      "          \u001b[31m-\u001b[0m \u001b[0m\u001b[1m\u001b[0mvolume_size\u001b[0m\u001b[0m           = 8 \u001b[90m->\u001b[0m \u001b[0m\u001b[90mnull\u001b[0m\u001b[0m\n",
      "          \u001b[31m-\u001b[0m \u001b[0m\u001b[1m\u001b[0mvolume_type\u001b[0m\u001b[0m           = \"gp2\" \u001b[90m->\u001b[0m \u001b[0m\u001b[90mnull\u001b[0m\u001b[0m\n",
      "        }\n",
      "    }\n",
      "\n",
      "\u001b[0m\u001b[1mPlan:\u001b[0m 0 to add, 0 to change, 1 to destroy.\n",
      "\u001b[0m\u001b[0m\n",
      "\u001b[1mChanges to Outputs:\u001b[0m\u001b[0m\n",
      "  \u001b[31m-\u001b[0m \u001b[0m\u001b[1m\u001b[0mpublic_ip\u001b[0m\u001b[0m = \"54.241.193.137\" \u001b[90m->\u001b[0m \u001b[0m\u001b[90mnull\u001b[0m\u001b[0m\n",
      "\u001b[0m\u001b[1maws_instance.example: Destroying... [id=i-04e94de79c6079761]\u001b[0m\u001b[0m\n",
      "\u001b[0m\u001b[1maws_instance.example: Still destroying... [id=i-04e94de79c6079761, 10s elapsed]\u001b[0m\u001b[0m\n",
      "\u001b[0m\u001b[1maws_instance.example: Still destroying... [id=i-04e94de79c6079761, 20s elapsed]\u001b[0m\u001b[0m\n",
      "\u001b[0m\u001b[1maws_instance.example: Still destroying... [id=i-04e94de79c6079761, 30s elapsed]\u001b[0m\u001b[0m\n",
      "\u001b[0m\u001b[1maws_instance.example: Destruction complete after 31s\u001b[0m\n",
      "\u001b[0m\u001b[1m\u001b[32m\n",
      "Destroy complete! Resources: 1 destroyed.\n",
      "\u001b[0m\n"
     ]
    }
   ],
   "source": [
    "TF_DESTROY"
   ]
  },
  {
   "cell_type": "markdown",
   "id": "comprehensive-community",
   "metadata": {},
   "source": [
    "<hr/>\n",
    "\n",
    "# 1.6 Blog Posts about recent Terraform releases:\n",
    "\n",
    "- https://www.hashicorp.com/blog/announcing-hashicorp-terraform-1-0-general-availability\n",
    "- https://www.hashicorp.com/blog/terraform-1-1-improves-refactoring-and-the-cloud-cli-experience\n",
    "- https://www.hashicorp.com/blog/terraform-1-2-improves-exception-handling-and-updates-to-the-cli-driven-workflow\n",
    "- https://www.hashicorp.com/blog/terraform-1-3-improves-extensibility-and-maintainability-of-terraform-modules\n"
   ]
  },
  {
   "cell_type": "markdown",
   "id": "liked-layer",
   "metadata": {},
   "source": [
    "<hr/>\n",
    "\n",
    "# 1.7 Summary\n",
    "\n",
    "In this section we downloaded the Terraform binary.\n",
    "\n",
    "We then created a simple configuration in which we specified\n",
    "- use of the AWS Provider\n",
    "- the AWS region to use\n",
    "- An *aws_instance* resource, i.e. an EC2 VM, called \"example\"\n",
    "- the type of instance \"*t2.micro*\"\n",
    "- the AMI (machine image) to use\n",
    "\n",
    "We then performed a ```terraform init``` which downloads any modules or providers - in this case the \"AWS\" provider was downloaded.\n",
    "\n",
    "We performed an execution plan using ```terraform plan``` to see what changes would be made by applying this plan.\n",
    "Terraform plan never makes changes.\n",
    "\n",
    "We then performed a ```terraform apply``` and confirmed that we wish to make the change\n",
    "\n",
    "We saw that the instance was created with a public ip address.\n",
    "\n",
    "We are not able to access the VM as no security group was specified.\n",
    "\n",
    "**Note:** The *AWS Provider plugin* is maintained by *HashiCorp* the company behind Terraform - it is updated very frequently to match AWS service evolutions."
   ]
  },
  {
   "cell_type": "markdown",
   "id": "warming-toddler",
   "metadata": {},
   "source": [
    "# STRETCH-GOALS\n",
    "\n",
    "### 1: Variations on a theme\n",
    "\n",
    "The *github* repo at ```https://github.com/mjbright/tf-scenarios``` contains various demos and also lab solutions (*work in progress*).\n",
    "\n",
    "The ```main.tf``` file we created here is at https://github.com/mjbright/tf-scenarios/tree/main/Solutions/lab1\n",
    "\n",
    "There is also a slightly extended example there.\n",
    "\n",
    "Note that the file is named as ```main.tf_MORE``` so as not to conflict with the ```main.tf``` file.\n",
    "\n",
    "If you want to try it you should replace ```cp main.tf_MORE main.tf``` before performing the apply.\n",
    "\n",
    "### 2: Terraform Beta Releases\n",
    "\n",
    "<!-- Well there isn't one ... for the moment, since the recent (December 2020) release of Terraform 0.14 -->\n",
    "\n",
    "What alpha/beta/rc (*release candidate*) releases - ```if any``` have been made since the current stable release of Terraform ?\n",
    "\n",
    "The latest binaries are downloadable from https://releases.hashicorp.com/terraform/\n",
    "\n",
    "More information about full and intermediate releases is available on the github repository releases page: https://github.com/hashicorp/terraform/releases\n",
    "\n",
    "### Releases\n",
    "\n",
    "Any alpha/beta releases will appear on\n",
    "- the github release page here: https://github.com/hashicorp/terraform/releases\n",
    "- and also on the *HashiCorp* release page here: https://releases.hashicorp.com/terraform/\n",
    "\n",
    "### Downloading\n",
    "\n",
    "You can download a more recent beta or alpha release from either of those locations.\n",
    "\n",
    "**Note**: Of course beta releases bring risk, but we're only in a lab environment (with real AWS resources).  You'll probably have less trouble if you use terraform or terraform_beta in the same workspace.  Switching between both could cause problems.\n",
    "\n",
    "If you wish to try this, we recommend downloading and unpacking the binary as ```terraform_beta``` to differentiate from the current stable version.\n",
    "\n",
    "You can refer to the CHANGELOG at https://github.com/hashicorp/terraform/blob/main/CHANGELOG.md to learn more about the different releases.\n",
    "\n",
    "<!--\n",
    "### Blog Post about the latest beta release:\n",
    "https://www.hashicorp.com/blog/announcing-hashicorp-terraform-0-14-beta\n",
    "-->\n",
    "\n",
    "Verify the versions you have installed using the ```terraform version``` and ```terraform_beta version``` commands."
   ]
  },
  {
   "cell_type": "markdown",
   "id": "checked-judgment",
   "metadata": {},
   "source": [
    "<hr/>\n",
    "\n",
    "<!-- Why does this no longer work ??\n",
    "<img src=\"../../../static/images/ThickBlueBar.png\" />\n",
    "<img src=\"../../../static/images/LOGO.jpg\" width=200 />\n",
    "-->\n",
    "\n",
    "<img src=\"../images/ThickBlueBar.png\" />\n",
    "<img src=\"../images/LOGO.jpg\" width=200 />"
   ]
  },
  {
   "cell_type": "code",
   "execution_count": 40,
   "id": "92894c37",
   "metadata": {},
   "outputs": [
    {
     "name": "stdout",
     "output_type": "stream",
     "text": [
      "2023-Jan-08:[TF-1.3.7] Lab updated on node tf[terraform 1.3.7]\n"
     ]
    },
    {
     "ename": "",
     "evalue": "1",
     "output_type": "error",
     "traceback": []
    }
   ],
   "source": [
    "EXEC cd $NB_DIR\n",
    "EXCL_FN_LAB_ENV"
   ]
  },
  {
   "cell_type": "markdown",
   "id": "c3bbb175",
   "metadata": {},
   "source": [
    "# Pragma --EXCLUDE--SECTION--\n",
    "\n",
    "## TODO: REWRITE to use local_file before using AWS\n",
    "\n",
    "## **NOTE:** Save notebook first\n",
    "\n",
    "<div id=\"END\" /> <a href=\"#TOP\" > TOP OF PAGE </a>  <!-- must appear after EXCLUDE pragma !! -->"
   ]
  },
  {
   "cell_type": "code",
   "execution_count": 42,
   "id": "883c84d5",
   "metadata": {
    "scrolled": false
   },
   "outputs": [
    {
     "name": "stdout",
     "output_type": "stream",
     "text": [
      "TF-1.3.7 -rw-rw-r-- 1 student student 9 Jan  8 19:18 /home/student/.environment\n",
      "Reading package lists... 0%Reading package lists... 100%Reading package lists... Done\n",
      "Building dependency tree... 0%Building dependency tree... 0%Building dependency tree... 50%Building dependency tree... 50%Building dependency tree       \n",
      "Reading state information... 0%Reading state information... 0%Reading state information... Done\n",
      "sysvbanner is already the newest version (1:1.0-17fakesync1).\n",
      "The following packages were automatically installed and are no longer required:\n",
      "  linux-headers-5.4.0-120 linux-headers-5.4.0-120-generic\n",
      "  linux-image-5.4.0-120-generic linux-modules-5.4.0-120-generic\n",
      "Use 'sudo apt autoremove' to remove them.\n",
      "0 upgraded, 0 newly installed, 0 to remove and 0 not upgraded.\n",
      "/home/student/src/mjbright.tf-scenarios-private/ServeUpLabs/content/tf-labs/1.InstallTerraform\n",
      "\n",
      "==== Filtering current notebook [/home/student/src/mjbright.tf-scenarios-private/ServeUpLabs/content/tf-labs/1.InstallTerraform/README.ipynb] ====\n",
      "\n",
      "******** Sun 08 Jan 2023 08:07:20 PM UTC: Notebook filtered on tf TF-1.3.7\n",
      "\n",
      "mv: cannot move '/home/student/Solutions/Lab' to '/home/student/Solutions/BAK/Lab': Directory not empty\n",
      "-- . ~/scripts/nbtool.rc\n",
      "TF-1.3.7 -rw-rw-r-- 1 student student 9 Jan  8 19:18 /home/student/.environment\n",
      "Reading package lists... 0%Reading package lists... 100%Reading package lists... Done\n",
      "Building dependency tree... 0%Building dependency tree... 0%Building dependency tree... 50%Building dependency tree... 50%Building dependency tree       \n",
      "Reading state information... 0%Reading state information... 0%Reading state information... Done\n",
      "sysvbanner is already the newest version (1:1.0-17fakesync1).\n",
      "The following packages were automatically installed and are no longer required:\n",
      "  linux-headers-5.4.0-120 linux-headers-5.4.0-120-generic\n",
      "  linux-image-5.4.0-120-generic linux-modules-5.4.0-120-generic\n",
      "Use 'sudo apt autoremove' to remove them.\n",
      "0 upgraded, 0 newly installed, 0 to remove and 0 not upgraded.\n",
      "/home/student/.venv/TRAINING/bin/python3\n",
      "\n",
      "-- ~/.venv/TRAINING/bin/python3 ~/scripts/nbtool.py -f ~/src/mjbright.tf-scenarios-private/ServeUpLabs/content/tf-labs/1.InstallTerraform/README.ipynb\n",
      "---- no VARS_SEEN ----\n",
      "i/p nb has 0 variables\n",
      "/home/student/src/mjbright.tf-scenarios-private/ServeUpLabs/content/tf-labs/1.InstallTerraform/README.ipynb:\n",
      "\t#cells=59\n",
      "[filter_nb] long wget \"https://releases.hashicorp.com/terraform/1.3.7/terraform_1.3.7_linux_amd64.zip\"\n",
      " > 80 False\n",
      "[filter_nb] \u001b[00;31mlen=86 > 80 in cell In [13] \u001b[00mof section  in line 'wget $__DOWNLOAD_URL\n",
      "'\n",
      "cells to include[#42]=[[5, 6, 8, 9, 10, 11, 12, 13, 14, 15, 16, 17, 18, 19, 20, 22, 23, 24, 25, 26, 27, 28, 30, 32, 33, 34, 35, 36, 37, 38, 39, 40, 41, 43, 45, 46, 47, 48, 49, 50, 51, 52]]\n",
      "cells to include[#42]=[[52, 51, 50, 49, 48, 47, 46, 45, 43, 41, 40, 39, 38, 37, 36, 35, 34, 33, 32, 30, 28, 27, 26, 25, 24, 23, 22, 20, 19, 18, 17, 16, 15, 14, 13, 12, 11, 10, 9, 8, 6, 5]]\n",
      "included markdown cells=[6, 9, 11, 13, 15, 16, 18, 19, 22, 24, 28, 32, 34, 36, 38, 40, 41, 45, 46, 48, 49, 50, 51]\n",
      "included code     cells=[5, 8, 10, 12, 14, 17, 20, 23, 25, 26, 27, 30, 33, 35, 37, 39, 43, 47, 52]\n",
      "excluded          cells=[0, 1, 2, 3, 4, 7, 21, 29, 31, 42, 44, 53, 54, 55, 56, 57]\n",
      "----- VARS_SEEN [/home/student/src/mjbright.tf-scenarios-private/ServeUpLabs/content/tf-labs/1.InstallTerraform/README.ipynb.filtered.ipynb] ------\n",
      "nb __DOWNLOAD_URL\t (last value: \"\"https://releases.hashicorp.com/terraform/1.3.7/terraform_1.3.7_linux_amd64.zip\"\")\n",
      "---------------------------------\n",
      "/home/student/src/mjbright.tf-scenarios-private/ServeUpLabs/content/tf-labs/1.InstallTerraform/README.ipynb.filtered.ipynb:\n",
      "\t#cells=42\n",
      "-rw-rw-r-- 1 student student 49483 Jan  8 20:07 README.ipynb.filtered.ipynb\n",
      "\n",
      "-- Error: EXCLUDE/FN_EXCL seen in README.ipynb.filtered.ipynb:\n",
      "{\"cells\": [{\"cell_type\": \"code\", \"execution_count\": 11, \"id\": \"cfd83bdd\", \"metadata\": {}, \"outputs\": [{\"name\": \"stdout\", \"output_type\": \"stream\", \"text\": [\"2023-Jan-08:[TF-1.3.7] Lab updated on node tf[terraform missing]\\n\"]}, {\"ename\": \"\", \"evalue\": \"1\", \"output_type\": \"error\", \"traceback\": []}], \"source\": [\"\"]}, {\"cell_type\": \"markdown\", \"id\": \"varying-russian\", \"metadata\": {}, \"source\": [\"\\n\\n<img align=\\\"left\\\" src=\\\"../images/ThinBlueBar.png\\\" width=\\\"400\\\" /><br/>\\n\\n## Background:\\n\", \"In this initial setup we will download the Terraform binary from the https://terraform.io website.\\n\", \"\\n\", \"<!-- You should already have the following: -->\\n\", \"\\n\", \"\\n\\n<img align=\\\"left\\\" src=\\\"../images/ThinBlueBar.png\\\" /><br/>\\n\\n# 1.1 Login to the provided VM\\n\", \"\\n\", \"\\n\\n<img align=\\\"left\\\" src=\\\"../images/ThinBlueBar.png\\\" width=\\\"400\\\" /><br/>\\n\\n## 1.1.1 Download the Terraform binary from the VM command-line:\\n\", \"\\n\", \"Go to [Terraform Downloads (https://www.terraform.io/downloads.html)](https://www.terraform.io/downloads.html).\\n\", \"\\n\", \"**Note:** we can download or install Terraform in various ways for each operating system - we will simply download static binaries to the provided *virtual machine*\\n\", \"\\n\", \"Download the latest binary for your platform - *linux-amd64* - in this case.\\n\", \"\\n\", \"Right-click on the 64-bit link for Linux, as shown below, and copy the link:\\n\", \"\\n\", \"<!--\\n\", \"    Why doesn't this work any more ?\\n\", \"       ![](../../../static/images/terraform_download.png)\\n\", \"    This does:\\n\", \"       ![](../images/terraform_download.png)\\n\", \"    But we'll use html to get a useful border\\n\", \"       <img src=\\\"../images/terraform_download.png\\\" style=\\\"border:5px solid black\\\" />\\n\", \"-->\\n\", \"<img src=\\\"../images/terraform_download.png\\\" style=\\\"border:5px solid #0c40c4\\\" />\\n\", \"\\n\", \"\\n\", \"\\n\", \"In your VM, use wget to download the zip file containing terraform and then unzip that file\"]}, {\"cell_type\": \"code\", \"execution_count\": 13, \"id\": \"historic-insulin\", \"metadata\": {}, \"outputs\": [{\"name\": \"stdout\", \"output_type\": \"stream\", \"text\": [\"DOWNLOAD_URL=https://releases.hashicorp.com/terraform/1.3.7/terraform_1.3.7_linux_amd64.zip\\n\", \"\\n\", \"--2023-01-08 19:19:23--  https://releases.hashicorp.com/terraform/1.3.7/terraform_1.3.7_linux_amd64.zip\\n\", \"Resolving releases.hashicorp.com (releases.hashicorp.com)... 2600:9000:2450:a400:5:e2b6:b380:93a1, 2600:9000:2450:1a00:5:e2b6:b380:93a1, 2600:9000:2450:b400:5:e2b6:b380:93a1, ...\\n\", \"Connecting to releases.hashicorp.com (releases.hashicorp.com)|2600:9000:2450:a400:5:e2b6:b380:93a1|:443... connected.\\n\", \"HTTP request sent, awaiting response... 200 OK\\n\", \"Length: 19464102 (19M) [application/zip]\\n\", \"Saving to: \\u2018terraform_1.3.7_linux_amd64.zip\\u2019\\n\", \"\\n\", \"terraform_1.3.7_lin 100%[===================>]  18.56M  62.9MB/s    in 0.3s    \\n\", \"\\n\", \"2023-01-08 19:19:23 (62.9 MB/s) - \\u2018terraform_1.3.7_linux_amd64.zip\\u2019 saved [19464102/19464102]\\n\", \"\\n\", \"Archive:  terraform_1.3.7_linux_amd64.zip\\n\", \"  inflating: terraform               \\n\"]}], \"source\": [\"mkdir -p ~/tmp/\\n\", \"cd ~/tmp/\\n\", \"\\n\", \"echo DOWNLOAD_URL=$DOWNLOAD_URL\\n\", \"echo\\n\", \"wget \\\"https://releases.hashicorp.com/terraform/1.3.7/terraform_1.3.7_linux_amd64.zip\\\"\\n\", \"\\n\", \"unzip terraform_*_linux_amd64.zip\"]}, {\"cell_type\": \"markdown\", \"id\": \"union-anthony\", \"metadata\": {}, \"source\": [\"\\n\\n<img align=\\\"left\\\" src=\\\"../images/ThinBlueBar.png\\\" width=\\\"400\\\" /><br/>\\n\\n## 1.1.2 Check Terraform Version\\n\", \"\\n\", \"Check the terraform version, you should see output similar to:\"]}, {\"cell_type\": \"code\", \"execution_count\": 14, \"id\": \"sorted-strengthening\", \"metadata\": {}, \"outputs\": [{\"name\": \"stdout\", \"output_type\": \"stream\", \"text\": [\"Terraform v1.3.7\\n\", \"on linux_amd64\\n\"]}], \"source\": [\"./terraform version\"]}, {\"cell_type\": \"markdown\", \"id\": \"cooked-delivery\", \"metadata\": {}, \"source\": [\"\\n\\n<img align=\\\"left\\\" src=\\\"../images/ThinBlueBar.png\\\" width=\\\"400\\\" /><br/>\\n\\n## 1.1.3 Move Terraform into ~/bin\"]}, {\"cell_type\": \"code\", \"execution_count\": 15, \"id\": \"quality-swift\", \"metadata\": {}, \"outputs\": [], \"source\": [\"mkdir -p ~/bin\\n\", \"mv terraform ~/bin\\n\", \"\\n\", \"echo 'export PATH=~/bin:$PATH' >> ~/.bashrc\\n\", \" . ~/.bashrc\"]}, {\"cell_type\": \"markdown\", \"id\": \"marine-prevention\", \"metadata\": {}, \"source\": [\"Log out and then log in again and make sure that the command\"]}, {\"cell_type\": \"code\", \"execution_count\": 16, \"id\": \"talented-orleans\", \"metadata\": {}, \"outputs\": [{\"name\": \"stdout\", \"output_type\": \"stream\", \"text\": [\"Terraform v1.3.7\\n\", \"on linux_amd64\\n\"]}], \"source\": [\"terraform version\"]}, {\"cell_type\": \"markdown\", \"id\": \"small-opera\", \"metadata\": {}, \"source\": [\"works correctly\\n\", \"\\n\", \"You can delete the zip file which you downloaded.\"]}, {\"cell_type\": \"markdown\", \"id\": \"athletic-governor\", \"metadata\": {}, \"source\": [\"\\n\\n<img align=\\\"left\\\" src=\\\"../images/ThinBlueBar.png\\\" /><br/>\\n\\n# 1.2 Investigate Terraform sub-commands\\n\", \"\\n\", \"Type ```terraform``` to see the Terraform sub-commands available\"]}, {\"cell_type\": \"code\", \"execution_count\": 17, \"id\": \"appropriate-tragedy\", \"metadata\": {}, \"outputs\": [{\"name\": \"stdout\", \"output_type\": \"stream\", \"text\": [\"Usage: terraform [global options] <subcommand> [args]\\n\", \"\\n\", \"The available commands for execution are listed below.\\n\", \"The primary workflow commands are given first, followed by\\n\", \"less common or more advanced commands.\\n\", \"\\n\", \"Main commands:\\n\", \"  init          Prepare your working directory for other commands\\n\", \"  validate      Check whether the configuration is valid\\n\", \"  plan          Show changes required by the current configuration\\n\", \"  apply         Create or update infrastructure\\n\", \"  destroy       Destroy previously-created infrastructure\\n\", \"\\n\", \"All other commands:\\n\", \"  console       Try Terraform expressions at an interactive command prompt\\n\", \"  fmt           Reformat your configuration in the standard style\\n\", \"  force-unlock  Release a stuck lock on the current workspace\\n\", \"  get           Install or upgrade remote Terraform modules\\n\", \"  graph         Generate a Graphviz graph of the steps in an operation\\n\", \"  import        Associate existing infrastructure with a Terraform resource\\n\", \"  login         Obtain and save credentials for a remote host\\n\", \"  logout        Remove locally-stored credentials for a remote host\\n\", \"  output        Show output values from your root module\\n\", \"  providers     Show the providers required for this configuration\\n\", \"  refresh       Update the state to match remote systems\\n\", \"  show          Show the current state or a saved plan\\n\", \"  state         Advanced state management\\n\", \"  taint         Mark a resource instance as not fully functional\\n\", \"  test          Experimental support for module integration testing\\n\", \"  untaint       Remove the 'tainted' state from a resource instance\\n\", \"  version       Show the current Terraform version\\n\", \"  workspace     Workspace management\\n\", \"\\n\", \"Global options (use these before the subcommand, if any):\\n\", \"  -chdir=DIR    Switch to a different working directory before executing the\\n\", \"                given subcommand.\\n\", \"  -help         Show this help output, or the help for a specified subcommand.\\n\", \"  -version      An alias for the \\\"version\\\" subcommand.\\n\"]}, {\"ename\": \"\", \"evalue\": \"127\", \"output_type\": \"error\", \"traceback\": []}], \"source\": [\"terraform\"]}, {\"cell_type\": \"markdown\", \"id\": \"caroline-jefferson\", \"metadata\": {}, \"source\": [\"Investigate this list of sub-commands\\n\", \"\\n\", \"\\n\\n<img align=\\\"left\\\" src=\\\"../images/ThinBlueBar.png\\\" width=\\\"400\\\" /><br/>\\n\\n## 1.2.1 Look for more information about sub-commands\\n\", \"\\n\", \"#### Look for cli help for a sub-command\\n\", \"\\n\", \"You can get help from the command-line tool using ```terraform <sub-command> --help```\\n\", \"e.g. ```terraform apply --help```\\n\", \"\\n\", \"#### Look for online help for a sub-command\\n\", \"\\n\", \"Browse to the ```Terraform Documentation``` site and look at the ```Commands``` section:\\n\", \"\\n\", \"https://www.terraform.io/docs/commands/index.html\\n\", \"\\n\", \"Look there for specific sub-commands, e.g. for ```terraform apply```\\n\", \"https://www.terraform.io/docs/commands/apply.html\\n\", \"\\n\", \"\\n\\n<img align=\\\"left\\\" src=\\\"../images/ThinBlueBar.png\\\" width=\\\"400\\\" /><br/>\\n\\n## 1.2.2 Investigate the Terraform CHANGELOG\\n\", \"\\n\", \"Open a browser at https://github.com/hashicorp/terraform/blob/master/CHANGELOG.md\\n\", \"\\n\", \"Look at the changes introduced in Terraform 1.0 & Terraform 1.1\\n\"]}, {\"cell_type\": \"markdown\", \"id\": \"desperate-cutting\", \"metadata\": {}, \"source\": [\"\\n\\n<img align=\\\"left\\\" src=\\\"../images/ThinBlueBar.png\\\" /><br/>\\n\\n# 1.3 Starting with the smallest configurations ...\\n\", \"\\n\", \"1. Make a new directory ~/labs/lab1.\\n\", \"2. Change to that directory\"]}, {\"cell_type\": \"code\", \"execution_count\": 18, \"id\": \"virtual-provider\", \"metadata\": {\"attributes\": {\"classes\": [\"hcl\"], \"id\": \"\"}}, \"outputs\": [], \"source\": [\"mkdir -p ~/labs/lab1\\n\", \"cd       ~/labs/lab1\"]}, {\"cell_type\": \"markdown\", \"id\": \"a12284eb\", \"metadata\": {}, \"source\": [\"Now that we have Terraform installed let's build up some minimalist configurations to discover the structure of a Terraform configuration.\\n\", \"\\n\", \"In this step we won't yet create any resource, but we will see how we can interact with a Provider.\\n\", \"\\n\", \"\\n\\n<img align=\\\"left\\\" src=\\\"../images/ThinBlueBar.png\\\" width=\\\"400\\\" /><br/>\\n\\n## 1.3.1 the smallest configuration - without a provider\\n\", \"\\n\", \"#### create the main.tf file\\n\", \"\\n\", \"create an empty file main.tf\\n\", \"\\n\", \"```\\n\", \"touch main.tf\\n\", \"```\\n\", \"\\n\", \"This is the absolute minimum configuration possible and this simply tells Terraform which Provider we will be using\\n\", \"\\n\", \"#### try a 'terraform plan'\\n\", \"\\n\", \"Run the command ```terraform plan``` or ```terraform apply``` with this configuration.\\n\"]}, {\"cell_type\": \"code\", \"execution_count\": 20, \"id\": \"accredited-charleston\", \"metadata\": {}, \"outputs\": [{\"name\": \"stdout\", \"output_type\": \"stream\", \"text\": [\"\\n\", \"No changes. Your infrastructure matches the configuration.\\n\", \"\\n\", \"Terraform has compared your real infrastructure against your configuration and\\n\", \"found no differences, so no changes are needed.\\n\"]}], \"source\": [\"terraform plan\"]}, {\"cell_type\": \"markdown\", \"id\": \"textile-flooring\", \"metadata\": {}, \"source\": [\"\\n\\n<img align=\\\"left\\\" src=\\\"../images/ThinBlueBar.png\\\" width=\\\"400\\\" /><br/>\\n\\n## 1.3.2 simple variable definition - without a provider\\n\", \"\\n\", \"#### add a variable definition\\n\", \"\\n\", \"Now edit your main.tf and add the following lines at the end of the file:\\n\", \"\\n\", \"```\\n\", \"variable test {\\n\", \"}\\n\", \"```\\n\", \"\\n\", \"Re-run the ```terraform plan``` command.\\n\", \"\\n\", \"Note that Terraform will now prompt you to provide a value for the test variable as we did not assign anything.\\n\", \"\\n\", \"Enter any string at the prompt and see that the plan succeeds.\\n\", \"\\n\", \"Try running ```terraform apply``` and you will be prompted again to enter a value.\\n\", \"\\n\", \"You may also be prompted to enter \\\"*yes*\\\" to apply the config.\\n\", \"\\n\", \"#### add a variable default value\\n\", \"\\n\", \"Let's now define a default value for the variable to prevent these prompts.\\n\", \"\\n\", \"Modify the variable definition to look like\\n\", \"\\n\", \"```\\n\", \"variable test {\\n\", \"    description = \\\"It is good practice to add a description to explain the variable's purpose\\\"\\n\", \"    default = \\\"a test value\\\"\\n\", \"}\\n\", \"```\\n\", \"\\n\", \"Rerun the ```terraform plan``` and ```terraform apply```\\n\", \"\\n\", \"#### add an output definition\\n\", \"\\n\", \"We will now add some output definitions which Terraform will use to report information.\\n\", \"\\n\", \"```\\n\", \"output op_test  { value = var.test }\\n\", \"output op_test2 { value = \\\"The same variablea' ${var.test}' using string interpolation\\\" } \\n\", \"```\\n\", \"\\n\", \"Rerun the ```terraform plan``` and ```terraform apply```\\n\", \"\\n\", \"\\n\", \"Later we will see how the output command is useful to extract specific information such as an assigned IP address, to be easily accessible.\"]}, {\"cell_type\": \"code\", \"execution_count\": 37, \"id\": \"f20fa313\", \"metadata\": {}, \"outputs\": [], \"source\": [\"# \u001b[01;31m\u001b[KEXCLUDE\u001b[m\u001b[K\\n\", \"\\n\", \"cat > main.tf <<\\\"EOF\\\"\\n\", \"\\n\", \"variable test {\\n\", \"  description = \\\"It's good practice to add descriptions for variable'se\\\"\\n\", \"  default = \\\"a test value\\\"\\n\", \"}\\n\", \"\\n\", \"output op_test  {\\n\", \"  value = var.test\\n\", \"}\\n\", \"output op_test2 {\\n\", \"  value = \\\"The same variablea' ${var.test}' using string interpolation\\\"\\n\", \"} \\n\", \"\\n\", \"EOF\\n\"]}, {\"cell_type\": \"code\", \"execution_count\": 22, \"id\": \"894d59b2\", \"metadata\": {}, \"outputs\": [{\"name\": \"stdout\", \"output_type\": \"stream\", \"text\": [\"\\n\", \"Changes to Outputs:\\n\", \"  + op_test  = \\\"a test value\\\"\\n\", \"  + op_test2 = \\\"The same variablea' a test value' using string interpolation\\\"\\n\", \"\\n\", \"You can apply this plan to save these new output values to the Terraform state,\\n\", \"without changing any real infrastructure.\\n\", \"\\u001b[90m\\n\", \"\\u2500\\u2500\\u2500\\u2500\\u2500\\u2500\\u2500\\u2500\\u2500\\u2500\\u2500\\u2500\\u2500\\u2500\\u2500\\u2500\\u2500\\u2500\\u2500\\u2500\\u2500\\u2500\\u2500\\u2500\\u2500\\u2500\\u2500\\u2500\\u2500\\u2500\\u2500\\u2500\\u2500\\u2500\\u2500\\u2500\\u2500\\u2500\\u2500\\u2500\\u2500\\u2500\\u2500\\u2500\\u2500\\u2500\\u2500\\u2500\\u2500\\u2500\\u2500\\u2500\\u2500\\u2500\\u2500\\u2500\\u2500\\u2500\\u2500\\u2500\\u2500\\u2500\\u2500\\u2500\\u2500\\u2500\\u2500\\u2500\\u2500\\u2500\\u2500\\u2500\\u2500\\u2500\\u2500\\u2500\\u2500\\u2500\\u2500\\n\", \"\\n\", \"Note: You didn't use the -out option to save this plan, so Terraform can't\\n\", \"guarantee to take exactly these actions if you run \\\"terraform apply\\\" now.\\n\"]}], \"source\": [\"terraform plan\"]}, {\"cell_type\": \"code\", \"execution_count\": 23, \"id\": \"c144f780\", \"metadata\": {}, \"outputs\": [{\"name\": \"stdout\", \"output_type\": \"stream\", \"text\": [\"\\n\", \"Changes to Outputs:\\n\", \"  + op_test  = \\\"a test value\\\"\\n\", \"  + op_test2 = \\\"The same variablea' a test value' using string interpolation\\\"\\n\", \"\\n\", \"You can apply this plan to save these new output values to the Terraform state,\\n\", \"without changing any real infrastructure.\\n\", \"\\n\", \"Apply complete! Resources: 0 added, 0 changed, 0 destroyed.\\n\", \"\\n\", \"Outputs:\\n\", \"\\n\", \"op_test = \\\"a test value\\\"\\n\", \"op_test2 = \\\"The same variablea' a test value' using string interpolation\\\"\\n\"]}], \"source\": [\"terraform apply \"]}, {\"cell_type\": \"markdown\", \"id\": \"committed-operations\", \"metadata\": {}, \"source\": [\"\\n\\n<img align=\\\"left\\\" src=\\\"../images/ThinBlueBar.png\\\" /><br/>\\n\\n# 1.4 Creating a first resource - with the AWS Provider\\n\", \"\\n\", \"So far we have seen the most minimal configs, but they were of course useless as we created no resources !\\n\", \"\\n\", \"Now let's create our first resource, an \\\"*aws_instance*\\\" which corresponds to an AWS EC2 Virtual Machine instance.\\n\", \"\\n\", \"Recreate your main.tf file with the following content.\\n\", \"\\n\", \"Note that we must now specify the *AWS* Provider to be used:\"]}, {\"cell_type\": \"code\", \"execution_count\": 25, \"id\": \"fd888d5d\", \"metadata\": {}, \"outputs\": [{\"name\": \"stdout\", \"output_type\": \"stream\", \"text\": [\"\\n\", \"provider \\\"aws\\\" {\\n\", \"  region = \\\"us-west-1\\\"\\n\", \"}\\n\", \"\\n\", \"resource \\\"aws_instance\\\" \\\"example\\\" {\\n\", \"  ami           = \\\"ami-0e81aa4c57820bb57\\\"\\n\", \"  instance_type = \\\"t2.micro\\\"\\n\", \"\\n\", \"  tags = { LabName = \\\"1.InstallTerraform\\\" }\\n\", \"}\\n\", \"\\n\", \"output  \\\"public_ip\\\"     { value = aws_instance.example.public_ip }\\n\", \"\\n\"]}], \"source\": [\"cat main.tf\"]}, {\"cell_type\": \"markdown\", \"id\": \"235812a0\", \"metadata\": {}, \"source\": [\"### Perform a Terraform plan\\n\", \"\\n\", \"Now perform a Terraform plan with the new configuration - but this time we will get an error.\\n\", \"\\n\", \"Because we now specify the *AWS* Provider we must first initialize our configuration using ```terraform init``` which will download the provider plugin.\"]}, {\"cell_type\": \"code\", \"execution_count\": 27, \"id\": \"e0c12094\", \"metadata\": {}, \"outputs\": [{\"name\": \"stdout\", \"output_type\": \"stream\", \"text\": [\"\\u2577\\n\", \"\\u2502 Error: Inconsistent dependency lock file\\n\", \"\\u2502 \\n\", \"\\u2502 The following dependency selections recorded in the lock file are\\n\", \"\\u2502 inconsistent with the current configuration:\\n\", \"\\u2502   - provider registry.terraform.io/hashicorp/aws: required by this configuration but no version is selected\\n\", \"\\u2502 \\n\", \"\\u2502 To make the initial dependency selections that will initialize the dependency\\n\", \"\\u2502 lock file, run:\\n\", \"\\u2502   terraform init\\n\", \"\\u2575\\n\"]}, {\"ename\": \"\", \"evalue\": \"1\", \"output_type\": \"error\", \"traceback\": []}], \"source\": [\"terraform plan\"]}, {\"cell_type\": \"markdown\", \"id\": \"operational-lease\", \"metadata\": {}, \"source\": [\"\\n\\n<img align=\\\"left\\\" src=\\\"../images/ThinBlueBar.png\\\" width=\\\"400\\\" /><br/>\\n\\n## 1.4.1 terraform init\\n\", \"\\n\", \"So perform ```terraform init``` and you will see that the plugin is downloaded automatically for us from the Terraform registry\"]}, {\"cell_type\": \"code\", \"execution_count\": 28, \"id\": \"f99fa9aa\", \"metadata\": {}, \"outputs\": [{\"name\": \"stdout\", \"output_type\": \"stream\", \"text\": [\"\\n\", \"Initializing the backend...\\n\", \"\\n\", \"Initializing provider plugins...\\n\", \"- Finding latest version of hashicorp/aws...\\n\", \"- Installing hashicorp/aws v4.49.0...\\n\", \"- Installed hashicorp/aws v4.49.0 (signed by HashiCorp)\\n\", \"\\n\", \"Terraform has created a lock file .terraform.lock.hcl to record the provider\\n\", \"selections it made above. Include this file in your version control repository\\n\", \"so that Terraform can guarantee to make the same selections by default when\\n\", \"you run \\\"terraform init\\\" in the future.\\n\", \"\\n\", \"Terraform has been successfully initialized!\\n\", \"\\n\", \"You may now begin working with Terraform. Try running \\\"terraform plan\\\" to see\\n\", \"any changes that are required for your infrastructure. All Terraform commands\\n\", \"should now work.\\n\", \"\\n\", \"If you ever set or change modules or backend configuration for Terraform,\\n\", \"rerun this command to reinitialize your working directory. If you forget, other\\n\", \"commands will detect it and remind you to do so if necessary.\\n\"]}], \"source\": [\"terraform init\"]}, {\"cell_type\": \"markdown\", \"id\": \"f6ea5d80\", \"metadata\": {}, \"source\": [\"Note that after performing ```terraform init``` a local file ```.terraform.lock.hcl``` is created and probably a ```.terraform``` directory where the aws provider is downloaded.\\n\", \"\\n\", \"**Note:** The aws provider is large ~ 186Mbytes - we will see later how to store this file in a shared location\"]}, {\"cell_type\": \"code\", \"execution_count\": 29, \"id\": \"f336f49b\", \"metadata\": {}, \"outputs\": [{\"name\": \"stdout\", \"output_type\": \"stream\", \"text\": [\"/home/student/labs/lab1\\n\", \"total 20\\n\", \"drwxrwxr-x 3 student student 4096 Jan  8 19:21 ..\\n\", \"-rw-rw-r-- 1 student student  387 Jan  8 19:24 terraform.tfstate\\n\", \"-rw-rw-r-- 1 student student  267 Jan  8 19:24 main.tf\\n\", \"-rw-r--r-- 1 student student 1377 Jan  8 19:24 .terraform.lock.hcl\\n\", \"drwxrwxr-x 2 student student 4096 Jan  8 19:24 .\\n\"]}], \"source\": [\"pwd\\n\", \"\\n\", \"ls -altr\"]}, {\"cell_type\": \"markdown\", \"id\": \"e7191683\", \"metadata\": {}, \"source\": [\"\\n\\n<img align=\\\"left\\\" src=\\\"../images/ThinBlueBar.png\\\" width=\\\"400\\\" /><br/>\\n\\n## 1.4.2 terraform plan\\n\", \"\\n\", \"#### retry 'terraform plan'\\n\", \"\\n\", \"Now try again the ```terraform plan``` and you will see that this now succeeds\\n\", \"\\n\", \"Terraform will also inform us of the changes it will make when we ```terraform apply``` this config.\\n\"]}, {\"cell_type\": \"code\", \"execution_count\": 30, \"id\": \"82595bdb\", \"metadata\": {\"scrolled\": false}, \"outputs\": [{\"name\": \"stdout\", \"output_type\": \"stream\", \"text\": [\"\\n\", \"Terraform used the selected providers to generate the following execution plan.\\n\", \"Resource actions are indicated with the following symbols:\\n\", \"  + create\\n\", \"\\n\", \"Terraform will perform the following actions:\\n\", \"\\n\", \"  # aws_instance.example will be created\\n\", \"  + resource \\\"aws_instance\\\" \\\"example\\\" {\\n\", \"      + ami                                  = \\\"ami-0e81aa4c57820bb57\\\"\\n\", \"      + arn                                  = (known after apply)\\n\", \"      + associate_public_ip_address          = (known after apply)\\n\", \"      + availability_zone                    = (known after apply)\\n\", \"      + cpu_core_count                       = (known after apply)\\n\", \"      + cpu_threads_per_core                 = (known after apply)\\n\", \"      + disable_api_stop                     = (known after apply)\\n\", \"      + disable_api_termination              = (known after apply)\\n\", \"      + ebs_optimized                        = (known after apply)\\n\", \"      + get_password_data                    = false\\n\", \"      + host_id                              = (known after apply)\\n\", \"      + host_resource_group_arn              = (known after apply)\\n\", \"      + iam_instance_profile                 = (known after apply)\\n\", \"      + id                                   = (known after apply)\\n\", \"      + instance_initiated_shutdown_behavior = (known after apply)\\n\", \"      + instance_state                       = (known after apply)\\n\", \"      + instance_type                        = \\\"t2.micro\\\"\\n\", \"      + ipv6_address_count                   = (known after apply)\\n\", \"      + ipv6_addresses                       = (known after apply)\\n\", \"      + key_name                             = (known after apply)\\n\", \"      + monitoring                           = (known after apply)\\n\", \"      + outpost_arn                          = (known after apply)\\n\", \"      + password_data                        = (known after apply)\\n\", \"      + placement_group                      = (known after apply)\\n\", \"      + placement_partition_number           = (known after apply)\\n\", \"      + primary_network_interface_id         = (known after apply)\\n\", \"      + private_dns                          = (known after apply)\\n\", \"      + private_ip                           = (known after apply)\\n\", \"      + public_dns                           = (known after apply)\\n\", \"      + public_ip                            = (known after apply)\\n\", \"      + secondary_private_ips                = (known after apply)\\n\", \"      + security_groups                      = (known after apply)\\n\", \"      + source_dest_check                    = true\\n\", \"      + subnet_id                            = (known after apply)\\n\", \"      + tags                                 = {\\n\", \"          + \\\"LabName\\\" = \\\"1.InstallTerraform\\\"\\n\", \"        }\\n\", \"      + tags_all                             = {\\n\", \"          + \\\"LabName\\\" = \\\"1.InstallTerraform\\\"\\n\", \"        }\\n\", \"      + tenancy                              = (known after apply)\\n\", \"      + user_data                            = (known after apply)\\n\", \"      + user_data_base64                     = (known after apply)\\n\", \"      + user_data_replace_on_change          = false\\n\", \"      + vpc_security_group_ids               = (known after apply)\\n\", \"\\n\", \"      + capacity_reservation_specification {\\n\", \"          + capacity_reservation_preference = (known after apply)\\n\", \"\\n\", \"          + capacity_reservation_target {\\n\", \"              + capacity_reservation_id                 = (known after apply)\\n\", \"              + capacity_reservation_resource_group_arn = (known after apply)\\n\", \"            }\\n\", \"        }\\n\", \"\\n\", \"      + ebs_block_device {\\n\", \"          + delete_on_termination = (known after apply)\\n\", \"          + device_name           = (known after apply)\\n\", \"          + encrypted             = (known after apply)\\n\", \"          + iops                  = (known after apply)\\n\", \"          + kms_key_id            = (known after apply)\\n\", \"          + snapshot_id           = (known after apply)\\n\", \"          + tags                  = (known after apply)\\n\", \"          + throughput            = (known after apply)\\n\", \"          + volume_id             = (known after apply)\\n\", \"          + volume_size           = (known after apply)\\n\", \"          + volume_type           = (known after apply)\\n\", \"        }\\n\", \"\\n\", \"      + enclave_options {\\n\", \"          + enabled = (known after apply)\\n\", \"        }\\n\", \"\\n\", \"      + ephemeral_block_device {\\n\", \"          + device_name  = (known after apply)\\n\", \"          + no_device    = (known after apply)\\n\", \"          + virtual_name = (known after apply)\\n\", \"        }\\n\", \"\\n\", \"      + maintenance_options {\\n\", \"          + auto_recovery = (known after apply)\\n\", \"        }\\n\", \"\\n\", \"      + metadata_options {\\n\", \"          + http_endpoint               = (known after apply)\\n\", \"          + http_put_response_hop_limit = (known after apply)\\n\", \"          + http_tokens                 = (known after apply)\\n\", \"          + instance_metadata_tags      = (known after apply)\\n\", \"        }\\n\", \"\\n\", \"      + network_interface {\\n\", \"          + delete_on_termination = (known after apply)\\n\", \"          + device_index          = (known after apply)\\n\", \"          + network_card_index    = (known after apply)\\n\", \"          + network_interface_id  = (known after apply)\\n\", \"        }\\n\", \"\\n\", \"      + private_dns_name_options {\\n\", \"          + enable_resource_name_dns_a_record    = (known after apply)\\n\", \"          + enable_resource_name_dns_aaaa_record = (known after apply)\\n\", \"          + hostname_type                        = (known after apply)\\n\", \"        }\\n\", \"\\n\", \"      + root_block_device {\\n\", \"          + delete_on_termination = (known after apply)\\n\", \"          + device_name           = (known after apply)\\n\", \"          + encrypted             = (known after apply)\\n\", \"          + iops                  = (known after apply)\\n\", \"          + kms_key_id            = (known after apply)\\n\", \"          + tags                  = (known after apply)\\n\", \"          + throughput            = (known after apply)\\n\", \"          + volume_id             = (known after apply)\\n\", \"          + volume_size           = (known after apply)\\n\"]}, {\"name\": \"stdout\", \"output_type\": \"stream\", \"text\": [\"          + volume_type           = (known after apply)\\n\", \"        }\\n\", \"    }\\n\", \"\\n\", \"Plan: 1 to add, 0 to change, 0 to destroy.\\n\", \"\\n\", \"Changes to Outputs:\\n\", \"  - op_test   = \\\"a test value\\\" \\u001b[90m-> \\u001b[90mnull\\n\", \"  - op_test2  = \\\"The same variablea' a test value' using string interpolation\\\" \\u001b[90m-> \\u001b[90mnull\\n\", \"  + public_ip = (known after apply)\\n\", \"\\u001b[90m\\n\", \"\\u2500\\u2500\\u2500\\u2500\\u2500\\u2500\\u2500\\u2500\\u2500\\u2500\\u2500\\u2500\\u2500\\u2500\\u2500\\u2500\\u2500\\u2500\\u2500\\u2500\\u2500\\u2500\\u2500\\u2500\\u2500\\u2500\\u2500\\u2500\\u2500\\u2500\\u2500\\u2500\\u2500\\u2500\\u2500\\u2500\\u2500\\u2500\\u2500\\u2500\\u2500\\u2500\\u2500\\u2500\\u2500\\u2500\\u2500\\u2500\\u2500\\u2500\\u2500\\u2500\\u2500\\u2500\\u2500\\u2500\\u2500\\u2500\\u2500\\u2500\\u2500\\u2500\\u2500\\u2500\\u2500\\u2500\\u2500\\u2500\\u2500\\u2500\\u2500\\u2500\\u2500\\u2500\\u2500\\u2500\\u2500\\u2500\\u2500\\n\", \"\\n\", \"Note: You didn't use the -out option to save this plan, so Terraform can't\\n\", \"guarantee to take exactly these actions if you run \\\"terraform apply\\\" now.\\n\"]}], \"source\": [\"terraform plan\"]}, {\"cell_type\": \"markdown\", \"id\": \"basic-radar\", \"metadata\": {}, \"source\": [\"Note that a new directory .terraform has been created, look at the contents of that directory\\n\", \"\\n\", \"**Note**: If you have environment variable TF_DATA_DIR set, then this will point to a directory to be used - created if necessary - in place of .terraform\"]}, {\"cell_type\": \"markdown\", \"id\": \"specified-today\", \"metadata\": {}, \"source\": [\"We see that a new \\\"aws_instance\\\" would be created.\\n\", \"\\n\", \"Note the line **Plan: 1 to add, 0 to change, 0 to destroy.** informing us of the change which would be made\\n\", \"\\n\", \"\\n\\n<img align=\\\"left\\\" src=\\\"../images/ThinBlueBar.png\\\" width=\\\"400\\\" /><br/>\\n\\n## 1.4.3 terraform apply\\n\", \"\\n\", \"We will now perform an apply to create that resource\"]}, {\"cell_type\": \"code\", \"execution_count\": 32, \"id\": \"6ede5d7d\", \"metadata\": {\"scrolled\": false}, \"outputs\": [{\"name\": \"stdout\", \"output_type\": \"stream\", \"text\": [\"\\n\", \"Terraform used the selected providers to generate the following execution plan.\\n\", \"Resource actions are indicated with the following symbols:\\n\", \"  + create\\n\", \"\\n\", \"Terraform will perform the following actions:\\n\", \"\\n\", \"  # aws_instance.example will be created\\n\", \"  + resource \\\"aws_instance\\\" \\\"example\\\" {\\n\", \"      + ami                                  = \\\"ami-0e81aa4c57820bb57\\\"\\n\", \"      + arn                                  = (known after apply)\\n\", \"      + associate_public_ip_address          = (known after apply)\\n\", \"      + availability_zone                    = (known after apply)\\n\", \"      + cpu_core_count                       = (known after apply)\\n\", \"      + cpu_threads_per_core                 = (known after apply)\\n\", \"      + disable_api_stop                     = (known after apply)\\n\", \"      + disable_api_termination              = (known after apply)\\n\", \"      + ebs_optimized                        = (known after apply)\\n\", \"      + get_password_data                    = false\\n\", \"      + host_id                              = (known after apply)\\n\", \"      + host_resource_group_arn              = (known after apply)\\n\", \"      + iam_instance_profile                 = (known after apply)\\n\", \"      + id                                   = (known after apply)\\n\", \"      + instance_initiated_shutdown_behavior = (known after apply)\\n\", \"      + instance_state                       = (known after apply)\\n\", \"      + instance_type                        = \\\"t2.micro\\\"\\n\", \"      + ipv6_address_count                   = (known after apply)\\n\", \"      + ipv6_addresses                       = (known after apply)\\n\", \"      + key_name                             = (known after apply)\\n\", \"      + monitoring                           = (known after apply)\\n\", \"      + outpost_arn                          = (known after apply)\\n\", \"      + password_data                        = (known after apply)\\n\", \"      + placement_group                      = (known after apply)\\n\", \"      + placement_partition_number           = (known after apply)\\n\", \"      + primary_network_interface_id         = (known after apply)\\n\", \"      + private_dns                          = (known after apply)\\n\", \"      + private_ip                           = (known after apply)\\n\", \"      + public_dns                           = (known after apply)\\n\", \"      + public_ip                            = (known after apply)\\n\", \"      + secondary_private_ips                = (known after apply)\\n\", \"      + security_groups                      = (known after apply)\\n\", \"      + source_dest_check                    = true\\n\", \"      + subnet_id                            = (known after apply)\\n\", \"      + tags                                 = {\\n\", \"          + \\\"LabName\\\" = \\\"1.InstallTerraform\\\"\\n\", \"        }\\n\", \"      + tags_all                             = {\\n\", \"          + \\\"LabName\\\" = \\\"1.InstallTerraform\\\"\\n\", \"        }\\n\", \"      + tenancy                              = (known after apply)\\n\", \"      + user_data                            = (known after apply)\\n\", \"      + user_data_base64                     = (known after apply)\\n\", \"      + user_data_replace_on_change          = false\\n\", \"      + vpc_security_group_ids               = (known after apply)\\n\", \"\\n\", \"      + capacity_reservation_specification {\\n\", \"          + capacity_reservation_preference = (known after apply)\\n\", \"\\n\", \"          + capacity_reservation_target {\\n\", \"              + capacity_reservation_id                 = (known after apply)\\n\", \"              + capacity_reservation_resource_group_arn = (known after apply)\\n\", \"            }\\n\", \"        }\\n\", \"\\n\", \"      + ebs_block_device {\\n\", \"          + delete_on_termination = (known after apply)\\n\", \"          + device_name           = (known after apply)\\n\", \"          + encrypted             = (known after apply)\\n\", \"          + iops                  = (known after apply)\\n\", \"          + kms_key_id            = (known after apply)\\n\", \"          + snapshot_id           = (known after apply)\\n\", \"          + tags                  = (known after apply)\\n\", \"          + throughput            = (known after apply)\\n\", \"          + volume_id             = (known after apply)\\n\", \"          + volume_size           = (known after apply)\\n\", \"          + volume_type           = (known after apply)\\n\", \"        }\\n\", \"\\n\", \"      + enclave_options {\\n\", \"          + enabled = (known after apply)\\n\", \"        }\\n\", \"\\n\", \"      + ephemeral_block_device {\\n\", \"          + device_name  = (known after apply)\\n\", \"          + no_device    = (known after apply)\\n\", \"          + virtual_name = (known after apply)\\n\", \"        }\\n\", \"\\n\", \"      + maintenance_options {\\n\", \"          + auto_recovery = (known after apply)\\n\", \"        }\\n\", \"\\n\", \"      + metadata_options {\\n\", \"          + http_endpoint               = (known after apply)\\n\", \"          + http_put_response_hop_limit = (known after apply)\\n\", \"          + http_tokens                 = (known after apply)\\n\", \"          + instance_metadata_tags      = (known after apply)\\n\", \"        }\\n\", \"\\n\", \"      + network_interface {\\n\", \"          + delete_on_termination = (known after apply)\\n\", \"          + device_index          = (known after apply)\\n\", \"          + network_card_index    = (known after apply)\\n\", \"          + network_interface_id  = (known after apply)\\n\", \"        }\\n\", \"\\n\", \"      + private_dns_name_options {\\n\", \"          + enable_resource_name_dns_a_record    = (known after apply)\\n\", \"          + enable_resource_name_dns_aaaa_record = (known after apply)\\n\", \"          + hostname_type                        = (known after apply)\\n\", \"        }\\n\", \"\\n\", \"      + root_block_device {\\n\", \"          + delete_on_termination = (known after apply)\\n\", \"          + device_name           = (known after apply)\\n\", \"          + encrypted             = (known after apply)\\n\", \"          + iops                  = (known after apply)\\n\", \"          + kms_key_id            = (known after apply)\\n\", \"          + tags                  = (known after apply)\\n\", \"          + throughput            = (known after apply)\\n\", \"          + volume_id             = (known after apply)\\n\", \"          + volume_size           = (known after apply)\\n\"]}, {\"name\": \"stdout\", \"output_type\": \"stream\", \"text\": [\"          + volume_type           = (known after apply)\\n\", \"        }\\n\", \"    }\\n\", \"\\n\", \"Plan: 1 to add, 0 to change, 0 to destroy.\\n\", \"\\n\", \"Changes to Outputs:\\n\", \"  + public_ip = (known after apply)\\n\", \"aws_instance.example: Creating...\\n\", \"aws_instance.example: Still creating... [10s elapsed]\\n\", \"aws_instance.example: Still creating... [20s elapsed]\\n\", \"aws_instance.example: Creation complete after 23s [id=i-04e94de79c6079761]\\n\", \"\\n\", \"Apply complete! Resources: 1 added, 0 changed, 0 destroyed.\\n\", \"\\n\", \"Outputs:\\n\", \"\\n\", \"public_ip = \\\"54.241.193.137\\\"\\n\"]}], \"source\": [\"terraform apply \"]}, {\"cell_type\": \"markdown\", \"id\": \"vertical-memorabilia\", \"metadata\": {}, \"source\": [\"This time we are prompted to confirm that we wish to apply the plan.\\n\", \"\\n\", \"After replying 'yes' the resource is created.\\n\", \"\\n\", \"The output block statement provides us the public_ip of the created VM instance.\\n\", \"\\n\", \"**Note**: For the moment we have not created a *Security Group* nor have we associated a keypair with this VM and so we cannot yet connect to it - we will do that in the next exercise.\\n\", \"\\n\", \"\\n\", \"\\n\\n<img align=\\\"left\\\" src=\\\"../images/ThinBlueBar.png\\\" width=\\\"400\\\" /><br/>\\n\\n## 1.4.4 Inspecting the created resources\\n\", \"\\n\", \"We can view the resulting resources by performing either through:\\n\", \"\\n\", \"### terraform state list\\n\", \"\\n\", \"This reads the information from the terraform.tfstate file to list each resource now being managed by Terraform.\\n\", \"\\n\", \"Note that ```aws_instance.example``` corresponds to the name which Terraform asssociates with the resource as specified by the ```resource \\\"aws_instance\\\" \\\"example\\\"``` line in our config.\\n\", \"\\n\", \"Try the\\n\", \"- ```terraform state list ``` and\\n\", \"- ```terraform state show``` commands, e.g. ```terraform state show aws_instance.example```.\\n\", \"\\n\", \"### terraform show\\n\", \"\\n\", \"This reads the information from the terraform.tfstate file\\n\", \"\\n\", \"### aws ec2 describe-instances\\n\", \"\\n\", \"Uses the aws cli to show all instances (very verbose!!)\\n\", \"\\n\", \"### /usr/local/bin/get_instances.sh\\n\", \"\\n\", \"A wrapper around *aws ec2 describe-instances* (quite succinct!!)\\n\", \"\\n\", \"### terraform.tfstate\\n\", \"\\n\", \"the raw terraform.tfstate json file\\n\", \"\\n\", \"### jq\\n\", \"\\n\", \"```\\n\", \"jq '.' terraform.tfstate\\n\", \"```\\n\", \"\\n\", \"Extracting fields using jq:\\n\", \"```\\n\", \"jq '.resources[0].instances[].attributes.public_ip' terraform.tfstate\\n\", \"```\\n\", \"\\n\", \"### terraform output\\n\", \"\\n\", \"We can also obtain any output values using the ```terraform output``` command\\n\"]}, {\"cell_type\": \"markdown\", \"id\": \"conceptual-february\", \"metadata\": {}, \"source\": [\"\\n\\n<img align=\\\"left\\\" src=\\\"../images/ThinBlueBar.png\\\" /><br/>\\n\\n# 1.5 Cleanup\\n\", \"\\n\", \"- Now cleanup the generated resource using the ```terraform destroy``` command\\n\", \"- Then also remove the .terraform directory (about 190 MBy in size)\"]}, {\"cell_type\": \"code\", \"execution_count\": 34, \"id\": \"fatty-resident\", \"metadata\": {}, \"outputs\": [{\"name\": \"stdout\", \"output_type\": \"stream\", \"text\": [\"aws_instance.example: Refreshing state... [id=i-04e94de79c6079761]\\n\", \"\\n\", \"Terraform used the selected providers to generate the following execution plan.\\n\", \"Resource actions are indicated with the following symbols:\\n\", \"  - destroy\\n\", \"\\n\", \"Terraform will perform the following actions:\\n\", \"\\n\", \"  # aws_instance.example will be destroyed\\n\", \"  - resource \\\"aws_instance\\\" \\\"example\\\" {\\n\", \"      - ami                                  = \\\"ami-0e81aa4c57820bb57\\\" \\u001b[90m-> \\u001b[90mnull\\n\", \"      - arn                                  = \\\"arn:aws:ec2:us-west-1:816376574968:instance/i-04e94de79c6079761\\\" \\u001b[90m-> \\u001b[90mnull\\n\", \"      - associate_public_ip_address          = true \\u001b[90m-> \\u001b[90mnull\\n\", \"      - availability_zone                    = \\\"us-west-1c\\\" \\u001b[90m-> \\u001b[90mnull\\n\", \"      - cpu_core_count                       = 1 \\u001b[90m-> \\u001b[90mnull\\n\", \"      - cpu_threads_per_core                 = 1 \\u001b[90m-> \\u001b[90mnull\\n\", \"      - disable_api_stop                     = false \\u001b[90m-> \\u001b[90mnull\\n\", \"      - disable_api_termination              = false \\u001b[90m-> \\u001b[90mnull\\n\", \"      - ebs_optimized                        = false \\u001b[90m-> \\u001b[90mnull\\n\", \"      - get_password_data                    = false \\u001b[90m-> \\u001b[90mnull\\n\", \"      - hibernation                          = false \\u001b[90m-> \\u001b[90mnull\\n\", \"      - id                                   = \\\"i-04e94de79c6079761\\\" \\u001b[90m-> \\u001b[90mnull\\n\", \"      - instance_initiated_shutdown_behavior = \\\"stop\\\" \\u001b[90m-> \\u001b[90mnull\\n\", \"      - instance_state                       = \\\"running\\\" \\u001b[90m-> \\u001b[90mnull\\n\", \"      - instance_type                        = \\\"t2.micro\\\" \\u001b[90m-> \\u001b[90mnull\\n\", \"      - ipv6_address_count                   = 0 \\u001b[90m-> \\u001b[90mnull\\n\", \"      - ipv6_addresses                       = [] \\u001b[90m-> \\u001b[90mnull\\n\", \"      - monitoring                           = false \\u001b[90m-> \\u001b[90mnull\\n\", \"      - primary_network_interface_id         = \\\"eni-040b6c6861e2f1261\\\" \\u001b[90m-> \\u001b[90mnull\\n\", \"      - private_dns                          = \\\"ip-172-31-24-112.us-west-1.compute.internal\\\" \\u001b[90m-> \\u001b[90mnull\\n\", \"      - private_ip                           = \\\"172.31.24.112\\\" \\u001b[90m-> \\u001b[90mnull\\n\", \"      - public_dns                           = \\\"ec2-54-241-193-137.us-west-1.compute.amazonaws.com\\\" \\u001b[90m-> \\u001b[90mnull\\n\", \"      - public_ip                            = \\\"54.241.193.137\\\" \\u001b[90m-> \\u001b[90mnull\\n\", \"      - secondary_private_ips                = [] \\u001b[90m-> \\u001b[90mnull\\n\", \"      - security_groups                      = [\\n\", \"          - \\\"default\\\",\\n\", \"        ] \\u001b[90m-> \\u001b[90mnull\\n\", \"      - source_dest_check                    = true \\u001b[90m-> \\u001b[90mnull\\n\", \"      - subnet_id                            = \\\"subnet-01f855549f3efdd85\\\" \\u001b[90m-> \\u001b[90mnull\\n\", \"      - tags                                 = {\\n\", \"          - \\\"LabName\\\" = \\\"1.InstallTerraform\\\"\\n\", \"        } \\u001b[90m-> \\u001b[90mnull\\n\", \"      - tags_all                             = {\\n\", \"          - \\\"LabName\\\" = \\\"1.InstallTerraform\\\"\\n\", \"        } \\u001b[90m-> \\u001b[90mnull\\n\", \"      - tenancy                              = \\\"default\\\" \\u001b[90m-> \\u001b[90mnull\\n\", \"      - user_data_replace_on_change          = false \\u001b[90m-> \\u001b[90mnull\\n\", \"      - vpc_security_group_ids               = [\\n\", \"          - \\\"sg-07e7db9f93d86103e\\\",\\n\", \"        ] \\u001b[90m-> \\u001b[90mnull\\n\", \"\\n\", \"      - capacity_reservation_specification {\\n\", \"          - capacity_reservation_preference = \\\"open\\\" \\u001b[90m-> \\u001b[90mnull\\n\", \"        }\\n\", \"\\n\", \"      - credit_specification {\\n\", \"          - cpu_credits = \\\"standard\\\" \\u001b[90m-> \\u001b[90mnull\\n\", \"        }\\n\", \"\\n\", \"      - enclave_options {\\n\", \"          - enabled = false \\u001b[90m-> \\u001b[90mnull\\n\", \"        }\\n\", \"\\n\", \"      - maintenance_options {\\n\", \"          - auto_recovery = \\\"default\\\" \\u001b[90m-> \\u001b[90mnull\\n\", \"        }\\n\", \"\\n\", \"      - metadata_options {\\n\", \"          - http_endpoint               = \\\"enabled\\\" \\u001b[90m-> \\u001b[90mnull\\n\", \"          - http_put_response_hop_limit = 1 \\u001b[90m-> \\u001b[90mnull\\n\", \"          - http_tokens                 = \\\"optional\\\" \\u001b[90m-> \\u001b[90mnull\\n\", \"          - instance_metadata_tags      = \\\"disabled\\\" \\u001b[90m-> \\u001b[90mnull\\n\", \"        }\\n\", \"\\n\", \"      - private_dns_name_options {\\n\", \"          - enable_resource_name_dns_a_record    = false \\u001b[90m-> \\u001b[90mnull\\n\", \"          - enable_resource_name_dns_aaaa_record = false \\u001b[90m-> \\u001b[90mnull\\n\", \"          - hostname_type                        = \\\"ip-name\\\" \\u001b[90m-> \\u001b[90mnull\\n\", \"        }\\n\", \"\\n\", \"      - root_block_device {\\n\", \"          - delete_on_termination = true \\u001b[90m-> \\u001b[90mnull\\n\", \"          - device_name           = \\\"/dev/sda1\\\" \\u001b[90m-> \\u001b[90mnull\\n\", \"          - encrypted             = false \\u001b[90m-> \\u001b[90mnull\\n\", \"          - iops                  = 100 \\u001b[90m-> \\u001b[90mnull\\n\", \"          - tags                  = {} \\u001b[90m-> \\u001b[90mnull\\n\", \"          - throughput            = 0 \\u001b[90m-> \\u001b[90mnull\\n\", \"          - volume_id             = \\\"vol-0c2e59c6fdcbdaa61\\\" \\u001b[90m-> \\u001b[90mnull\\n\", \"          - volume_size           = 8 \\u001b[90m-> \\u001b[90mnull\\n\", \"          - volume_type           = \\\"gp2\\\" \\u001b[90m-> \\u001b[90mnull\\n\", \"        }\\n\", \"    }\\n\", \"\\n\", \"Plan: 0 to add, 0 to change, 1 to destroy.\\n\", \"\\n\", \"Changes to Outputs:\\n\", \"  - public_ip = \\\"54.241.193.137\\\" \\u001b[90m-> \\u001b[90mnull\\n\", \"aws_instance.example: Destroying... [id=i-04e94de79c6079761]\\n\", \"aws_instance.example: Still destroying... [id=i-04e94de79c6079761, 10s elapsed]\\n\", \"aws_instance.example: Still destroying... [id=i-04e94de79c6079761, 20s elapsed]\\n\", \"aws_instance.example: Still destroying... [id=i-04e94de79c6079761, 30s elapsed]\\n\", \"aws_instance.example: Destruction complete after 31s\\n\", \"\\n\", \"Destroy complete! Resources: 1 destroyed.\\n\", \"\\n\"]}], \"source\": [\"terraform destroy \"]}, {\"cell_type\": \"markdown\", \"id\": \"comprehensive-community\", \"metadata\": {}, \"source\": [\"<hr/>\\n\", \"\\n\", \"\\n\\n<img align=\\\"left\\\" src=\\\"../images/ThinBlueBar.png\\\" /><br/>\\n\\n# 1.6 Blog Posts about recent Terraform releases:\\n\", \"\\n\", \"- https://www.hashicorp.com/blog/announcing-hashicorp-terraform-1-0-general-availability\\n\", \"- https://www.hashicorp.com/blog/terraform-1-1-improves-refactoring-and-the-cloud-cli-experience\\n\", \"- https://www.hashicorp.com/blog/terraform-1-2-improves-exception-handling-and-updates-to-the-cli-driven-workflow\\n\", \"- https://www.hashicorp.com/blog/terraform-1-3-improves-extensibility-and-maintainability-of-terraform-modules\\n\"]}, {\"cell_type\": \"markdown\", \"id\": \"liked-layer\", \"metadata\": {}, \"source\": [\"<hr/>\\n\", \"\\n\", \"\\n\\n<img align=\\\"left\\\" src=\\\"../images/ThinBlueBar.png\\\" /><br/>\\n\\n# 1.7 Summary\\n\", \"\\n\", \"In this section we downloaded the Terraform binary.\\n\", \"\\n\", \"We then created a simple configuration in which we specified\\n\", \"- use of the AWS Provider\\n\", \"- the AWS region to use\\n\", \"- An *aws_instance* resource, i.e. an EC2 VM, called \\\"example\\\"\\n\", \"- the type of instance \\\"*t2.micro*\\\"\\n\", \"- the AMI (machine image) to use\\n\", \"\\n\", \"We then performed a ```terraform init``` which downloads any modules or providers - in this case the \\\"AWS\\\" provider was downloaded.\\n\", \"\\n\", \"We performed an execution plan using ```terraform plan``` to see what changes would be made by applying this plan.\\n\", \"Terraform plan never makes changes.\\n\", \"\\n\", \"We then performed a ```terraform apply``` and confirmed that we wish to make the change\\n\", \"\\n\", \"We saw that the instance was created with a public ip address.\\n\", \"\\n\", \"We are not able to access the VM as no security group was specified.\\n\", \"\\n\", \"**Note:** The *AWS Provider plugin* is maintained by *HashiCorp* the company behind Terraform - it is updated very frequently to match AWS service evolutions.\"]}, {\"cell_type\": \"markdown\", \"id\": \"warming-toddler\", \"metadata\": {}, \"source\": [\"\\n\\n<img align=\\\"left\\\" src=\\\"../images/Thick240BlueBar.png\\\" height=\\\"200\\\" /><br/><img align=\\\"left\\\" src=\\\"../images/Thick240BlueBar.png\\\" height=\\\"200\\\" /><br/>\\n\\n# STRETCH-GOALS\\n\", \"\\n\", \"### 1: Variations on a theme\\n\", \"\\n\", \"The *github* repo at ```https://github.com/mjbright/tf-scenarios``` contains various demos and also lab solutions (*work in progress*).\\n\", \"\\n\", \"The ```main.tf``` file we created here is at https://github.com/mjbright/tf-scenarios/tree/main/Solutions/lab1\\n\", \"\\n\", \"There is also a slightly extended example there.\\n\", \"\\n\", \"Note that the file is named as ```main.tf_MORE``` so as not to conflict with the ```main.tf``` file.\\n\", \"\\n\", \"If you want to try it you should replace ```cp main.tf_MORE main.tf``` before performing the apply.\\n\", \"\\n\", \"### 2: Terraform Beta Releases\\n\", \"\\n\", \"<!-- Well there isn't one ... for the moment, since the recent (December 2020) release of Terraform 0.14 -->\\n\", \"\\n\", \"What alpha/beta/rc (*release candidate*) releases - ```if any``` have been made since the current stable release of Terraform ?\\n\", \"\\n\", \"The latest binaries are downloadable from https://releases.hashicorp.com/terraform/\\n\", \"\\n\", \"More information about full and intermediate releases is available on the github repository releases page: https://github.com/hashicorp/terraform/releases\\n\", \"\\n\", \"### Releases\\n\", \"\\n\", \"Any alpha/beta releases will appear on\\n\", \"- the github release page here: https://github.com/hashicorp/terraform/releases\\n\", \"- and also on the *HashiCorp* release page here: https://releases.hashicorp.com/terraform/\\n\", \"\\n\", \"### Downloading\\n\", \"\\n\", \"You can download a more recent beta or alpha release from either of those locations.\\n\", \"\\n\", \"**Note**: Of course beta releases bring risk, but we're only in a lab environment (with real AWS resources).  You'll probably have less trouble if you use terraform or terraform_beta in the same workspace.  Switching between both could cause problems.\\n\", \"\\n\", \"If you wish to try this, we recommend downloading and unpacking the binary as ```terraform_beta``` to differentiate from the current stable version.\\n\", \"\\n\", \"You can refer to the CHANGELOG at https://github.com/hashicorp/terraform/blob/main/CHANGELOG.md to learn more about the different releases.\\n\", \"\\n\", \"<!--\\n\", \"### Blog Post about the latest beta release:\\n\", \"https://www.hashicorp.com/blog/announcing-hashicorp-terraform-0-14-beta\\n\", \"-->\\n\", \"\\n\", \"Verify the versions you have installed using the ```terraform version``` and ```terraform_beta version``` commands.\"]}, {\"cell_type\": \"markdown\", \"id\": \"checked-judgment\", \"metadata\": {}, \"source\": [\"<hr/>\\n\", \"\\n\", \"<!-- Why does this no longer work ??\\n\", \"<img src=\\\"../../../static/images/ThickBlueBar.png\\\" />\\n\", \"<img src=\\\"../../../static/images/LOGO.jpg\\\" width=200 />\\n\", \"-->\\n\", \"\\n\", \"<img src=\\\"../images/ThickBlueBar.png\\\" />\\n\", \"<img src=\\\"../images/LOGO.jpg\\\" width=200 />\"]}, {\"cell_type\": \"code\", \"execution_count\": 40, \"id\": \"92894c37\", \"metadata\": {}, \"outputs\": [{\"name\": \"stdout\", \"output_type\": \"stream\", \"text\": [\"2023-Jan-08:[TF-1.3.7] Lab updated on node tf[terraform 1.3.7]\\n\"]}, {\"ename\": \"\", \"evalue\": \"1\", \"output_type\": \"error\", \"traceback\": []}], \"source\": [\"\", \"\"]}], \"metadata\": {\"kernelspec\": {\"display_name\": \"Bash\", \"language\": \"bash\", \"name\": \"bash\"}, \"language_info\": {\"codemirror_mode\": \"shell\", \"file_extension\": \".sh\", \"mimetype\": \"text/x-sh\", \"name\": \"bash\"}}, \"nbformat\": 4, \"nbformat_minor\": 5}\n"
     ]
    },
    {
     "name": "stdout",
     "output_type": "stream",
     "text": [
      "\n",
      "8 VAR defs/usages in i/p file: ~/src/mjbright.tf-scenarios-private/ServeUpLabs/content/tf-labs/1.InstallTerraform/README.ipynb\n",
      "\n",
      "Good: No VAR defs/usages in o/p file\n",
      "\n",
      "-- jupyter-nbconvert --to markdown README.ipynb.filtered.ipynb\n",
      "[NbConvertApp] Converting notebook README.ipynb.filtered.ipynb to markdown\n",
      "[NbConvertApp] Writing 40207 bytes to README.ipynb.filtered.md\n",
      "\n",
      "-- jupyter-nbconvert --to html README.ipynb.filtered.ipynb\n",
      "[NbConvertApp] Converting notebook README.ipynb.filtered.ipynb to html\n",
      "[NbConvertApp] Writing 651863 bytes to README.ipynb.filtered.html\n",
      "\n",
      "\u001b[32m-rw-rw-r-- 1 student student 49483 Jan  8 20:07 Lab_1._SETUP_-_Install_Terraform.ipynb\u001b[0m\n",
      "\u001b[32m-rw-rw-r-- 1 student student 81140 Jan  8 20:07 Lab_1._SETUP_-_Install_Terraform.md\u001b[0m\n"
     ]
    }
   ],
   "source": [
    "#cd ~/nb/2022-Terraform/content/tf-labs/1.InstallTerraform/\n",
    "#cd ~/src/mjbright.tf-scenarios-private/ServeUpLabs/content/tf-labs/1.InstallTerraform/\n",
    "NB_DIR=$PWD\n",
    "set +x\n",
    ". ~/scripts/nbtool.rc\n",
    "pwd\n",
    "#NB_DIR=$PWD\n",
    "#echo NB=$NB\n",
    "#echo NB_DIR=$NB_DIR\n",
    "#set -x\n",
    "set +x\n",
    "EXCL_FN_FILTER_NOTEBOOK $NB"
   ]
  },
  {
   "cell_type": "code",
   "execution_count": null,
   "id": "90be7259",
   "metadata": {},
   "outputs": [],
   "source": [
    "exit 1"
   ]
  },
  {
   "cell_type": "code",
   "execution_count": null,
   "id": "1585435d",
   "metadata": {},
   "outputs": [],
   "source": [
    "cd $NB_DIR\n",
    "\n",
    "nbtool.py -f index.ipynb\n",
    "\n",
    "ls -altr *.ipynb"
   ]
  },
  {
   "cell_type": "code",
   "execution_count": null,
   "id": "ac0115b7",
   "metadata": {},
   "outputs": [],
   "source": [
    "jupyter-nbconvert --to markdown index.ipynb.filtered.ipynb\n",
    "\n",
    "echo \"$FRONTMATTER\" > index.md\n",
    "\n",
    "cat index.ipynb.filtered.md >> index.md\n",
    "mv index.ipynb.filtered.md index.ipynb.filtered.md.bak\n",
    "\n",
    "ls -altr *.md"
   ]
  },
  {
   "cell_type": "code",
   "execution_count": null,
   "id": "6a377d3f",
   "metadata": {},
   "outputs": [],
   "source": []
  }
 ],
 "metadata": {
  "kernelspec": {
   "display_name": "Bash",
   "language": "bash",
   "name": "bash"
  },
  "language_info": {
   "codemirror_mode": "shell",
   "file_extension": ".sh",
   "mimetype": "text/x-sh",
   "name": "bash"
  }
 },
 "nbformat": 4,
 "nbformat_minor": 5
}
