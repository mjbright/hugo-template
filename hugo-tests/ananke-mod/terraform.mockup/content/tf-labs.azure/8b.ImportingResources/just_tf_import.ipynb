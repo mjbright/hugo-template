{
 "cells": [
  {
   "cell_type": "markdown",
   "id": "56d7f672",
   "metadata": {},
   "source": [
    "<div id=\"TOP\" />\n",
    "<a href=\"#END\" > END of Notebook (filter) </a>"
   ]
  },
  {
   "cell_type": "code",
   "execution_count": 1,
   "id": "89134cc2",
   "metadata": {
    "scrolled": false
   },
   "outputs": [
    {
     "name": "stdout",
     "output_type": "stream",
     "text": [
      "==== Reading nbtool functions from '/home/student/scripts/nbtool.rc' ====\n",
      "TF-1.3.7 -rw-rw-r-- 1 student student 9 Jan  8 19:18 /home/student/.environment\n",
      "Reading package lists... 0%Reading package lists... 100%Reading package lists... Done\n",
      "Building dependency tree... 0%Building dependency tree... 0%Building dependency tree... 50%Building dependency tree... 50%Building dependency tree       \n",
      "Reading state information... 0%Reading state information... 0%Reading state information... Done\n",
      "sysvbanner is already the newest version (1:1.0-17fakesync1).\n",
      "The following packages were automatically installed and are no longer required:\n",
      "  linux-headers-5.4.0-120 linux-headers-5.4.0-120-generic\n",
      "  linux-image-5.4.0-120-generic linux-modules-5.4.0-120-generic\n",
      "Use 'sudo apt autoremove' to remove them.\n",
      "0 upgraded, 0 newly installed, 0 to remove and 0 not upgraded.\n",
      "\n",
      "******** Tue 10 Jan 2023 03:55:53 PM UTC: Notebook initialized on tf TF-1.3.7\n",
      "\n",
      "\u001b[01;31m\u001b[KNB_DIR=/home/student/src/mjbright.tf-scenarios-private/ServeUpLabs/content/tf-labs/8b.ImportingResources\u001b[m\u001b[K\n",
      "\n",
      "==== Setting TF_DATA_DIR ====\n",
      "TF_DATA_DIR\u001b[01;31m\u001b[K=/home/student/dot.terraform\u001b[m\u001b[K\n",
      "\n",
      "==== Setting AWS vars for student20 account ====\n",
      "bash: /home/student/.aws/linked/student20.rc: No such file or directory\n",
      "==== Terraform Lab \u001b[01;31m\u001b[Kweight[82] / tag[8b.ImportingResources] / name[Lab 8b. Importing Foreign Resources] ====\u001b[m\u001b[K\n",
      "NB_DIR=/home/student/src/mjbright.tf-scenarios-private/ServeUpLabs/content/tf-labs/8b.ImportingResources\n",
      "NB=/home/student/src/mjbright.tf-scenarios-private/ServeUpLabs/content/tf-labs/8b.ImportingResources/README.ipynb\n",
      "\n",
      "==== Filtering current notebook [/home/student/src/mjbright.tf-scenarios-private/ServeUpLabs/content/tf-labs/8b.ImportingResources/README.ipynb] ====\n",
      "\n",
      "******** Tue 10 Jan 2023 03:55:53 PM UTC: Notebook filtered on tf TF-1.3.7\n",
      "\n",
      "mv: cannot move '/home/student/Solutions/Lab' to '/home/student/Solutions/BAK/Lab': Directory not empty\n",
      "-- . ~/scripts/nbtool.rc\n",
      "TF-1.3.7 -rw-rw-r-- 1 student student 9 Jan  8 19:18 /home/student/.environment\n",
      "Reading package lists... 0%Reading package lists... 100%Reading package lists... Done\n",
      "Building dependency tree... 0%Building dependency tree... 0%Building dependency tree... 50%Building dependency tree... 50%Building dependency tree       \n",
      "Reading state information... 0%Reading state information... 0%Reading state information... Done\n",
      "sysvbanner is already the newest version (1:1.0-17fakesync1).\n",
      "The following packages were automatically installed and are no longer required:\n",
      "  linux-headers-5.4.0-120 linux-headers-5.4.0-120-generic\n",
      "  linux-image-5.4.0-120-generic linux-modules-5.4.0-120-generic\n",
      "Use 'sudo apt autoremove' to remove them.\n",
      "0 upgraded, 0 newly installed, 0 to remove and 0 not upgraded.\n",
      "/home/student/.venv/TRAINING/bin/python3\n",
      "\n",
      "-- ~/.venv/TRAINING/bin/python3 ~/scripts/nbtool.py -f ~/src/mjbright.tf-scenarios-private/ServeUpLabs/content/tf-labs/8b.ImportingResources/README.ipynb\n",
      "---- no VARS_SEEN ----\n",
      "i/p nb has 0 variables\n",
      "/home/student/src/mjbright.tf-scenarios-private/ServeUpLabs/content/tf-labs/8b.ImportingResources/README.ipynb:\n",
      "\t#cells=32\n",
      "cells to include[#22]=[[3, 4, 5, 6, 7, 8, 9, 10, 11, 12, 13, 14, 15, 16, 18, 20, 21, 23, 24, 26, 27, 28]]\n",
      "cells to include[#22]=[[28, 27, 26, 24, 23, 21, 20, 18, 16, 15, 14, 13, 12, 11, 10, 9, 8, 7, 6, 5, 4, 3]]\n",
      "included markdown cells=[3, 4, 6, 7, 10, 12, 15, 16, 18, 21, 23, 24, 26, 27, 28]\n",
      "included code     cells=[5, 8, 9, 11, 13, 14, 20]\n",
      "excluded          cells=[0, 1, 2, 17, 19, 22, 25, 29, 30]\n",
      "----- VARS_SEEN [/home/student/src/mjbright.tf-scenarios-private/ServeUpLabs/content/tf-labs/8b.ImportingResources/README.ipynb.filtered.ipynb] ------\n",
      "nb __AWS_ID\t (last value: \"'i-0c64a2a817f87d708'\")\n",
      "---------------------------------\n",
      "/home/student/src/mjbright.tf-scenarios-private/ServeUpLabs/content/tf-labs/8b.ImportingResources/README.ipynb.filtered.ipynb:\n",
      "\t#cells=22\n",
      "-rw-rw-r-- 1 student student 14118 Jan 10 15:55 README.ipynb.filtered.ipynb\n",
      "\n",
      "4 VAR defs/usages in i/p file: ~/src/mjbright.tf-scenarios-private/ServeUpLabs/content/tf-labs/8b.ImportingResources/README.ipynb\n",
      "\n",
      "Good: No VAR defs/usages in o/p file\n",
      "\n",
      "-- jupyter-nbconvert --to markdown README.ipynb.filtered.ipynb\n",
      "[NbConvertApp] Converting notebook README.ipynb.filtered.ipynb to markdown\n",
      "[NbConvertApp] Writing 10597 bytes to README.ipynb.filtered.md\n",
      "\n",
      "-- jupyter-nbconvert --to html README.ipynb.filtered.ipynb\n",
      "[NbConvertApp] Converting notebook README.ipynb.filtered.ipynb to html\n",
      "[NbConvertApp] Writing 600421 bytes to README.ipynb.filtered.html\n",
      "\n",
      "\u001b[32m-rw-rw-r-- 1 student student 14118 Jan 10 15:55 Lab_8b._Importing_Foreign_Resources.ipynb\u001b[0m\n",
      "\u001b[32m-rw-rw-r-- 1 student student 21261 Jan 10 15:55 Lab_8b._Importing_Foreign_Resources.md\u001b[0m\n"
     ]
    }
   ],
   "source": [
    "# -- CONFIG ------------------------------------\n",
    "LAB_TAG=${PWD##*/} \n",
    "LAB_NAME=\"TFI_Azure_Lab8b. Importing Foreign Resources\"\n",
    "LAB_WEIGHT=82\n",
    "LAB_MODE=\"Terraform\"\n",
    "# ----------------------------------------------\n",
    "\n",
    "# NB=\"\"; cd ~/nb/2021-Terraform/content/tf-labs/XXXX; set +x\n",
    "DIE() { echo \"[$PWD] Error: $*\"; banner \"ERROR\"; exit 1; }\n",
    "NBTOOL_RC=~/scripts/nbtool.rc; [ ! -f $NBTOOL_RC ] && DIE \"No such script as $NBTOOL_RC\"\n",
    "echo \"==== Reading nbtool functions from '$NBTOOL_RC' ====\"; . $NBTOOL_RC\n",
    "EXCL_FN_INIT_NOTEBOOK\n",
    "## --INCLUDE--SECTION--\n",
    "## --EXCLUDE--SECTION--"
   ]
  },
  {
   "cell_type": "markdown",
   "id": "fe5d1eb5",
   "metadata": {},
   "source": [
    "# --INCLUDE--SECTION--"
   ]
  },
  {
   "cell_type": "code",
   "execution_count": 2,
   "id": "7bf3be03",
   "metadata": {},
   "outputs": [
    {
     "name": "stdout",
     "output_type": "stream",
     "text": [
      "2023-Jan-10:[TF-1.3.7] Lab updated on node tf[terraform 1.3.7]\n"
     ]
    },
    {
     "ename": "",
     "evalue": "1",
     "output_type": "error",
     "traceback": []
    }
   ],
   "source": [
    "EXCL_FN_LAB_ENV"
   ]
  },
  {
   "cell_type": "markdown",
   "id": "52bbc09b",
   "metadata": {},
   "source": [
    "## Background:\n",
    "\n",
    "In this lab, we will see how we can import AWS resources which were not created by Terraform itself so that Terraform can be subsequently used to manage these resources.\n",
    "\n",
    "**Note**: Be careful not to manage resource both *outside* and *inside* Terraform\n",
    "\n",
    "We will look at importing resources using\n",
    "- the ```terraform import``` command\n",
    "\n",
    "Tasks.\n",
    "- As before, create a new directory lab 8b, and create three files, resources.tf, main.tf and vars.tf.\n",
    "\n",
    "## Tasks\n",
    "\n",
    "## 1. Importing a resource using ```terraform import```"
   ]
  },
  {
   "cell_type": "markdown",
   "id": "c7b8c511",
   "metadata": {},
   "source": [
    "### First Create a new lab directory and move to that directory\n"
   ]
  },
  {
   "cell_type": "code",
   "execution_count": 3,
   "id": "e3cdde51",
   "metadata": {},
   "outputs": [],
   "source": [
    "mkdir -p ~/labs/lab8b\n",
    "\n",
    "cd       ~/labs/lab8b"
   ]
  },
  {
   "cell_type": "markdown",
   "id": "pregnant-guess",
   "metadata": {},
   "source": []
  },
  {
   "cell_type": "markdown",
   "id": "57dd7ede",
   "metadata": {},
   "source": [
    "#### First we will check if there are any instances running\n",
    "\n",
    "Use the command ```/usr/local/bin/get_instances.sh -ir``` to determine if there are already running instances.\n",
    "\n",
    "If there are any you may wish to return to previous lab directories and perform ```terraform destroy``` to delete these resources.\n",
    "\n",
    "The important thing is to know what instances if any are currently running\n",
    "\n",
    "You should have no Terraform managed resources in the current workspace, verify this"
   ]
  },
  {
   "cell_type": "code",
   "execution_count": 4,
   "id": "feca53f6",
   "metadata": {},
   "outputs": [
    {
     "name": "stdout",
     "output_type": "stream",
     "text": [
      "Instance data written to /home/student/tmp/get_instances/get_instances.1594593.json\n",
      "\n",
      "--[count:0]-- All running instances -----------------\n"
     ]
    },
    {
     "ename": "",
     "evalue": "1",
     "output_type": "error",
     "traceback": []
    }
   ],
   "source": [
    "/usr/local/bin/get_instances.sh -ir"
   ]
  },
  {
   "cell_type": "code",
   "execution_count": 5,
   "id": "eleven-envelope",
   "metadata": {},
   "outputs": [
    {
     "name": "stdout",
     "output_type": "stream",
     "text": [
      "No state.\n"
     ]
    }
   ],
   "source": [
    "terraform show"
   ]
  },
  {
   "cell_type": "markdown",
   "id": "fluid-enemy",
   "metadata": {},
   "source": [
    "#### Launch a new instance using the aws client\n",
    "\n",
    "Launch a new aws_instance using the aws cli client using the following command:"
   ]
  },
  {
   "cell_type": "code",
   "execution_count": 6,
   "id": "promising-franklin",
   "metadata": {
    "scrolled": false
   },
   "outputs": [
    {
     "name": "stdout",
     "output_type": "stream",
     "text": [
      "{\n",
      "    \"Groups\": [],\n",
      "    \"Instances\": [\n",
      "        {\n",
      "            \"AmiLaunchIndex\": 0,\n",
      "            \"ImageId\": \"ami-0e42deec9aa2c90ce\",\n",
      "            \"InstanceId\": \"i-030a9593c957b7aee\",\n",
      "            \"InstanceType\": \"t2.micro\",\n",
      "            \"LaunchTime\": \"2023-01-10T15:58:08.000Z\",\n",
      "            \"Monitoring\": {\n",
      "                \"State\": \"disabled\"\n",
      "            },\n",
      "            \"Placement\": {\n",
      "                \"AvailabilityZone\": \"us-west-1c\",\n",
      "                \"GroupName\": \"\",\n",
      "                \"Tenancy\": \"default\"\n",
      "            },\n",
      "            \"PrivateDnsName\": \"ip-172-31-28-165.us-west-1.compute.internal\",\n",
      "            \"PrivateIpAddress\": \"172.31.28.165\",\n",
      "            \"ProductCodes\": [],\n",
      "            \"PublicDnsName\": \"\",\n",
      "            \"State\": {\n",
      "                \"Code\": 0,\n",
      "                \"Name\": \"pending\"\n",
      "            },\n",
      "            \"StateTransitionReason\": \"\",\n",
      "            \"SubnetId\": \"subnet-01f855549f3efdd85\",\n",
      "            \"VpcId\": \"vpc-0c4ad4047839bc08f\",\n",
      "            \"Architecture\": \"x86_64\",\n",
      "            \"BlockDeviceMappings\": [],\n",
      "            \"ClientToken\": \"9fc84b48-f454-4487-9386-051eee14cb00\",\n",
      "            \"EbsOptimized\": false,\n",
      "            \"EnaSupport\": true,\n",
      "            \"Hypervisor\": \"xen\",\n",
      "            \"NetworkInterfaces\": [\n",
      "                {\n",
      "                    \"Attachment\": {\n",
      "                        \"AttachTime\": \"2023-01-10T15:58:08.000Z\",\n",
      "                        \"AttachmentId\": \"eni-attach-007f3d354f3df28cd\",\n",
      "                        \"DeleteOnTermination\": true,\n",
      "                        \"DeviceIndex\": 0,\n",
      "                        \"Status\": \"attaching\"\n",
      "                    },\n",
      "                    \"Description\": \"\",\n",
      "                    \"Groups\": [\n",
      "                        {\n",
      "                            \"GroupName\": \"default\",\n",
      "                            \"GroupId\": \"sg-07e7db9f93d86103e\"\n",
      "                        }\n",
      "                    ],\n",
      "                    \"Ipv6Addresses\": [],\n",
      "                    \"MacAddress\": \"02:5e:22:c8:cb:05\",\n",
      "                    \"NetworkInterfaceId\": \"eni-035124e4255fc8def\",\n",
      "                    \"OwnerId\": \"816376574968\",\n",
      "                    \"PrivateDnsName\": \"ip-172-31-28-165.us-west-1.compute.internal\",\n",
      "                    \"PrivateIpAddress\": \"172.31.28.165\",\n",
      "                    \"PrivateIpAddresses\": [\n",
      "                        {\n",
      "                            \"Primary\": true,\n",
      "                            \"PrivateDnsName\": \"ip-172-31-28-165.us-west-1.compute.internal\",\n",
      "                            \"PrivateIpAddress\": \"172.31.28.165\"\n",
      "                        }\n",
      "                    ],\n",
      "                    \"SourceDestCheck\": true,\n",
      "                    \"Status\": \"in-use\",\n",
      "                    \"SubnetId\": \"subnet-01f855549f3efdd85\",\n",
      "                    \"VpcId\": \"vpc-0c4ad4047839bc08f\",\n",
      "                    \"InterfaceType\": \"interface\"\n",
      "                }\n",
      "            ],\n",
      "            \"RootDeviceName\": \"/dev/sda1\",\n",
      "            \"RootDeviceType\": \"ebs\",\n",
      "            \"SecurityGroups\": [\n",
      "                {\n",
      "                    \"GroupName\": \"default\",\n",
      "                    \"GroupId\": \"sg-07e7db9f93d86103e\"\n",
      "                }\n",
      "            ],\n",
      "            \"SourceDestCheck\": true,\n",
      "            \"StateReason\": {\n",
      "                \"Code\": \"pending\",\n",
      "                \"Message\": \"pending\"\n",
      "            },\n",
      "            \"Tags\": [\n",
      "                {\n",
      "                    \"Key\": \"aws-cli\",\n",
      "                    \"Value\": \"true\"\n",
      "                }\n",
      "            ],\n",
      "            \"VirtualizationType\": \"hvm\",\n",
      "            \"CpuOptions\": {\n",
      "                \"CoreCount\": 1,\n",
      "                \"ThreadsPerCore\": 1\n",
      "            },\n",
      "            \"CapacityReservationSpecification\": {\n",
      "                \"CapacityReservationPreference\": \"open\"\n",
      "            },\n",
      "            \"MetadataOptions\": {\n",
      "                \"State\": \"pending\",\n",
      "                \"HttpTokens\": \"optional\",\n",
      "                \"HttpPutResponseHopLimit\": 1,\n",
      "                \"HttpEndpoint\": \"enabled\"\n",
      "            }\n",
      "        }\n",
      "    ],\n",
      "    \"OwnerId\": \"816376574968\",\n",
      "    \"ReservationId\": \"r-0cc1a2f6a2da7ab28\"\n",
      "}\n"
     ]
    }
   ],
   "source": [
    "aws ec2 run-instances --count 1  --tag-specifications \\\n",
    "    'ResourceType=instance,Tags=[{Key=aws-cli,Value=true}]' \\\n",
    "    --image-id ami-0e42deec9aa2c90ce --instance-type t2.micro"
   ]
  },
  {
   "cell_type": "markdown",
   "id": "entitled-investigation",
   "metadata": {},
   "source": [
    "**Note**: that we added a tag to identify this as a non-Terraform resource\n",
    "\n",
    "**Note**: You may need to wait a minute for the VM to be visible ( in the running state )\n",
    "\n",
    "then verify the running instances again using"
   ]
  },
  {
   "cell_type": "code",
   "execution_count": 7,
   "id": "revised-theory",
   "metadata": {},
   "outputs": [
    {
     "name": "stdout",
     "output_type": "stream",
     "text": [
      "Instance data written to /home/student/tmp/get_instances/get_instances.1594992.json\n",
      "\n",
      "--[count:0]-- All running instances -----------------\n"
     ]
    },
    {
     "ename": "",
     "evalue": "1",
     "output_type": "error",
     "traceback": []
    }
   ],
   "source": [
    "/usr/local/bin/get_instances.sh -ir"
   ]
  },
  {
   "cell_type": "code",
   "execution_count": 8,
   "id": "6a5b35de",
   "metadata": {},
   "outputs": [
    {
     "name": "stdout",
     "output_type": "stream",
     "text": [
      "Instance data written to /home/student/tmp/get_instances/get_instances.1595634.json\n",
      "\n",
      "--[count:1]-- All running instances -----------------\n",
      "{\"id\":\"i-030a9593c957b7aee\",\"image\":\"ami-0e42deec9aa2c90ce\",\"state\":\"\u001b[00;32mrunning\u001b[00m\",\"Tags\":[{\"Key\":\"aws-cli\",\"Value\":\"true\"}],\"LaunchTime\":\"2023-01-10T15:58:08.000Z\"}\n"
     ]
    },
    {
     "ename": "",
     "evalue": "1",
     "output_type": "error",
     "traceback": []
    }
   ],
   "source": [
    "/usr/local/bin/get_instances.sh -ir"
   ]
  },
  {
   "cell_type": "markdown",
   "id": "copyrighted-certificate",
   "metadata": {},
   "source": [
    "Again, you should have no Terraform managed resources in the current workspace, verify this\n",
    "\n",
    "\n",
    "#### Create a resource file for the running instance (not yet managed by Terraform)\n",
    "\n",
    "We can create a simple terraform resource to be able to import this instance so it can be managed by terraform.\n",
    "\n",
    "Create a new file import.tf with the **following form** with the **appropriate values** for the instance **you created** earlier:"
   ]
  },
  {
   "cell_type": "markdown",
   "id": "f13cc975",
   "metadata": {
    "attributes": {
     "classes": [
      "tf"
     ],
     "id": ""
    }
   },
   "source": [
    "```hcl\n",
    "resource \"aws_instance\" \"imported_item\" {\n",
    "    ami = \"YOUR_IMAGE_ID\"\n",
    "    instance_type = \"YOUR_TYPE\"\n",
    "}\n",
    "```"
   ]
  },
  {
   "cell_type": "code",
   "execution_count": 9,
   "id": "5009354a",
   "metadata": {},
   "outputs": [
    {
     "name": "stdout",
     "output_type": "stream",
     "text": [
      "Instance data written to /home/student/tmp/get_instances/get_instances.1595848.json\n",
      "Correcting var name 'AWS_ID' to '__AWS_ID'\n",
      "VAR __AWS_ID=\"i-030a9593c957b7aee\"\n"
     ]
    }
   ],
   "source": [
    "#EXCLUDE\n",
    "\n",
    "cat > import.tf <<EOF\n",
    "resource \"aws_instance\" \"imported_item\" {\n",
    "    ami           = \"ami-0e42deec9aa2c90ce\"\n",
    "    instance_type = \"t2.micro\"\n",
    "}\n",
    "EOF\n",
    "\n",
    "#. ~/scripts/nbtool.rc\n",
    "\n",
    "SET_VAR AWS_ID $( /usr/local/bin/get_instances.sh -ir |\n",
    "                grep -m 1 '\"id\":' |  sed -e 's/{\"id\":\"//' -e 's/\".*//' )\n",
    "#echo $XX_AWS_ID\n",
    "#terraform import aws_instance.imported_item $XX_AWS_ID\n",
    "\n",
    "# TODO: FIX var setting ... do we need XX_VAR_AWS_ID in code cell ??"
   ]
  },
  {
   "cell_type": "markdown",
   "id": "cognitive-carroll",
   "metadata": {},
   "source": [
    "You can now import your resource - use your instance id from the above output, e.g. *\"i-06817c3963d2716c9\"* in the command below:"
   ]
  },
  {
   "cell_type": "code",
   "execution_count": 10,
   "id": "8fcbe505",
   "metadata": {},
   "outputs": [
    {
     "name": "stdout",
     "output_type": "stream",
     "text": [
      "\n",
      "\u001b[0m\u001b[1mInitializing the backend...\u001b[0m\n",
      "\n",
      "\u001b[0m\u001b[1mInitializing provider plugins...\u001b[0m\n",
      "- Finding latest version of hashicorp/aws...\n",
      "- Installing hashicorp/aws v4.49.0...\n",
      "- Installed hashicorp/aws v4.49.0 (signed by HashiCorp)\n",
      "\n",
      "Terraform has created a lock file \u001b[1m.terraform.lock.hcl\u001b[0m to record the provider\n",
      "selections it made above. Include this file in your version control repository\n",
      "so that Terraform can guarantee to make the same selections by default when\n",
      "you run \"terraform init\" in the future.\u001b[0m\n",
      "\n",
      "\u001b[0m\u001b[1m\u001b[32mTerraform has been successfully initialized!\u001b[0m\u001b[32m\u001b[0m\n",
      "\u001b[0m\u001b[32m\n",
      "You may now begin working with Terraform. Try running \"terraform plan\" to see\n",
      "any changes that are required for your infrastructure. All Terraform commands\n",
      "should now work.\n",
      "\n",
      "If you ever set or change modules or backend configuration for Terraform,\n",
      "rerun this command to reinitialize your working directory. If you forget, other\n",
      "commands will detect it and remind you to do so if necessary.\u001b[0m\n"
     ]
    }
   ],
   "source": [
    "#EXCLUDE\n",
    "\n",
    "# Let them think for themselves about the terraform init !!\n",
    "\n",
    "terraform init"
   ]
  },
  {
   "cell_type": "code",
   "execution_count": 11,
   "id": "external-dayton",
   "metadata": {},
   "outputs": [
    {
     "name": "stdout",
     "output_type": "stream",
     "text": [
      "\u001b[0m\u001b[1maws_instance.imported_item: Importing from ID \"i-030a9593c957b7aee\"...\u001b[0m\n",
      "\u001b[0m\u001b[1m\u001b[32maws_instance.imported_item: Import prepared!\u001b[0m\n",
      "\u001b[0m\u001b[32m  Prepared aws_instance for import\u001b[0m\n",
      "\u001b[0m\u001b[1maws_instance.imported_item: Refreshing state... [id=i-030a9593c957b7aee]\u001b[0m\n",
      "\u001b[0m\u001b[32m\n",
      "Import successful!\n",
      "\n",
      "The resources that were imported are shown above. These resources are now in\n",
      "your Terraform state and will henceforth be managed by Terraform.\n",
      "\u001b[0m\n"
     ]
    }
   ],
   "source": [
    "terraform import aws_instance.imported_item $__AWS_ID"
   ]
  },
  {
   "cell_type": "markdown",
   "id": "e827e63b",
   "metadata": {},
   "source": [
    "### Verify that terraform has imported the resource\n",
    "\n",
    "Now verify that you can see the instance using \n",
    "- Looking at the newly created ```terraform.tfstate``` file\n",
    "- Using the ```terraform show``` and ```terraform state list``` commands"
   ]
  },
  {
   "cell_type": "code",
   "execution_count": 12,
   "id": "9183ca5b",
   "metadata": {},
   "outputs": [
    {
     "name": "stdout",
     "output_type": "stream",
     "text": [
      "terraform show:\n",
      "\u001b[0m# aws_instance.imported_item:\n",
      "resource \"aws_instance\" \"imported_item\" {\n",
      "    \u001b[1m\u001b[0mami\u001b[0m\u001b[0m                                  = \"ami-0e42deec9aa2c90ce\"\n",
      "    \u001b[1m\u001b[0marn\u001b[0m\u001b[0m                                  = \"arn:aws:ec2:us-west-1:816376574968:instance/i-030a9593c957b7aee\"\n",
      "    \u001b[1m\u001b[0massociate_public_ip_address\u001b[0m\u001b[0m          = true\n",
      "    \u001b[1m\u001b[0mavailability_zone\u001b[0m\u001b[0m                    = \"us-west-1c\"\n",
      "    \u001b[1m\u001b[0mcpu_core_count\u001b[0m\u001b[0m                       = 1\n",
      "    \u001b[1m\u001b[0mcpu_threads_per_core\u001b[0m\u001b[0m                 = 1\n",
      "    \u001b[1m\u001b[0mdisable_api_stop\u001b[0m\u001b[0m                     = false\n",
      "    \u001b[1m\u001b[0mdisable_api_termination\u001b[0m\u001b[0m              = false\n",
      "    \u001b[1m\u001b[0mebs_optimized\u001b[0m\u001b[0m                        = false\n",
      "    \u001b[1m\u001b[0mget_password_data\u001b[0m\u001b[0m                    = false\n",
      "    \u001b[1m\u001b[0mhibernation\u001b[0m\u001b[0m                          = false\n",
      "    \u001b[1m\u001b[0mid\u001b[0m\u001b[0m                                   = \"i-030a9593c957b7aee\"\n",
      "    \u001b[1m\u001b[0minstance_initiated_shutdown_behavior\u001b[0m\u001b[0m = \"stop\"\n",
      "    \u001b[1m\u001b[0minstance_state\u001b[0m\u001b[0m                       = \"running\"\n",
      "    \u001b[1m\u001b[0minstance_type\u001b[0m\u001b[0m                        = \"t2.micro\"\n",
      "    \u001b[1m\u001b[0mipv6_address_count\u001b[0m\u001b[0m                   = 0\n",
      "    \u001b[1m\u001b[0mipv6_addresses\u001b[0m\u001b[0m                       = []\n",
      "    \u001b[1m\u001b[0mmonitoring\u001b[0m\u001b[0m                           = false\n",
      "    \u001b[1m\u001b[0mprimary_network_interface_id\u001b[0m\u001b[0m         = \"eni-035124e4255fc8def\"\n",
      "    \u001b[1m\u001b[0mprivate_dns\u001b[0m\u001b[0m                          = \"ip-172-31-28-165.us-west-1.compute.internal\"\n",
      "    \u001b[1m\u001b[0mprivate_ip\u001b[0m\u001b[0m                           = \"172.31.28.165\"\n",
      "    \u001b[1m\u001b[0mpublic_dns\u001b[0m\u001b[0m                           = \"ec2-52-53-190-110.us-west-1.compute.amazonaws.com\"\n",
      "    \u001b[1m\u001b[0mpublic_ip\u001b[0m\u001b[0m                            = \"52.53.190.110\"\n",
      "    \u001b[1m\u001b[0msecondary_private_ips\u001b[0m\u001b[0m                = []\n",
      "    \u001b[1m\u001b[0msecurity_groups\u001b[0m\u001b[0m                      = [\n",
      "        \"default\",\n",
      "    ]\n",
      "    \u001b[1m\u001b[0msource_dest_check\u001b[0m\u001b[0m                    = true\n",
      "    \u001b[1m\u001b[0msubnet_id\u001b[0m\u001b[0m                            = \"subnet-01f855549f3efdd85\"\n",
      "    \u001b[1m\u001b[0mtags\u001b[0m\u001b[0m                                 = {\n",
      "        \"aws-cli\" = \"true\"\n",
      "    }\n",
      "    \u001b[1m\u001b[0mtags_all\u001b[0m\u001b[0m                             = {\n",
      "        \"aws-cli\" = \"true\"\n",
      "    }\n",
      "    \u001b[1m\u001b[0mtenancy\u001b[0m\u001b[0m                              = \"default\"\n",
      "    \u001b[1m\u001b[0mvpc_security_group_ids\u001b[0m\u001b[0m               = [\n",
      "        \"sg-07e7db9f93d86103e\",\n",
      "    ]\n",
      "\n",
      "    capacity_reservation_specification {\n",
      "        \u001b[1m\u001b[0mcapacity_reservation_preference\u001b[0m\u001b[0m = \"open\"\n",
      "    }\n",
      "\n",
      "    credit_specification {\n",
      "        \u001b[1m\u001b[0mcpu_credits\u001b[0m\u001b[0m = \"standard\"\n",
      "    }\n",
      "\n",
      "    enclave_options {\n",
      "        \u001b[1m\u001b[0menabled\u001b[0m\u001b[0m = false\n",
      "    }\n",
      "\n",
      "    maintenance_options {\n",
      "        \u001b[1m\u001b[0mauto_recovery\u001b[0m\u001b[0m = \"default\"\n",
      "    }\n",
      "\n",
      "    metadata_options {\n",
      "        \u001b[1m\u001b[0mhttp_endpoint\u001b[0m\u001b[0m               = \"enabled\"\n",
      "        \u001b[1m\u001b[0mhttp_put_response_hop_limit\u001b[0m\u001b[0m = 1\n",
      "        \u001b[1m\u001b[0mhttp_tokens\u001b[0m\u001b[0m                 = \"optional\"\n",
      "        \u001b[1m\u001b[0minstance_metadata_tags\u001b[0m\u001b[0m      = \"disabled\"\n",
      "    }\n",
      "\n",
      "    private_dns_name_options {\n",
      "        \u001b[1m\u001b[0menable_resource_name_dns_a_record\u001b[0m\u001b[0m    = false\n",
      "        \u001b[1m\u001b[0menable_resource_name_dns_aaaa_record\u001b[0m\u001b[0m = false\n",
      "        \u001b[1m\u001b[0mhostname_type\u001b[0m\u001b[0m                        = \"ip-name\"\n",
      "    }\n",
      "\n",
      "    root_block_device {\n",
      "        \u001b[1m\u001b[0mdelete_on_termination\u001b[0m\u001b[0m = true\n",
      "        \u001b[1m\u001b[0mdevice_name\u001b[0m\u001b[0m           = \"/dev/sda1\"\n",
      "        \u001b[1m\u001b[0mencrypted\u001b[0m\u001b[0m             = false\n",
      "        \u001b[1m\u001b[0miops\u001b[0m\u001b[0m                  = 100\n",
      "        \u001b[1m\u001b[0mtags\u001b[0m\u001b[0m                  = {}\n",
      "        \u001b[1m\u001b[0mthroughput\u001b[0m\u001b[0m            = 0\n",
      "        \u001b[1m\u001b[0mvolume_id\u001b[0m\u001b[0m             = \"vol-08424cafca0bc57d2\"\n",
      "        \u001b[1m\u001b[0mvolume_size\u001b[0m\u001b[0m           = 8\n",
      "        \u001b[1m\u001b[0mvolume_type\u001b[0m\u001b[0m           = \"gp2\"\n",
      "    }\n",
      "\n",
      "    timeouts {}\n",
      "}\u001b[0m\u001b[0m\n",
      "\n",
      "terraform state list:\n",
      "aws_instance.imported_item\n"
     ]
    }
   ],
   "source": [
    "#EXCLUDE\n",
    "\n",
    "echo terraform show:\n",
    "terraform show\n",
    "\n",
    "echo\n",
    "echo terraform state list:\n",
    "terraform state list"
   ]
  },
  {
   "cell_type": "markdown",
   "id": "8ca41db3",
   "metadata": {},
   "source": [
    "### Reflect on this\n",
    "\n",
    "Think about what we just did, we\n",
    "\n",
    "- created an *AWS EC2 instance* without using Terraform\n",
    "\n",
    "- we then created a dummy *import.tf* partially describing the resource, containing just\n",
    "  - the *ami_id*\n",
    "  - the *instance_type*\n",
    "  \n",
    "- we then ran the ```terraform import``` command referencing the instance *id* of the EC2 instance\n",
    "\n",
    "Once we performed these steps the resource has now been imported into the terraform state.\n",
    "\n",
    "We can use this mechanism to start to manage infrastructure resources previously generated outside of *Terraform*.\n",
    "\n",
    "**NOTE:** Note also that this is not very functional, there are a lot of manual steps to take to import a single resource - but 3rd-party tools exist ..."
   ]
  },
  {
   "cell_type": "markdown",
   "id": "3bc48223",
   "metadata": {},
   "source": [
    "#### Now we can destroy the instance\n",
    "\n",
    "You succeeded, you can now cleanup using ```terraform destroy```\n",
    "\n",
    "Remove, or rename import.tf as import.tf.bak"
   ]
  },
  {
   "cell_type": "code",
   "execution_count": 13,
   "id": "950cad53",
   "metadata": {},
   "outputs": [
    {
     "name": "stdout",
     "output_type": "stream",
     "text": [
      "\u001b[0m\u001b[1maws_instance.imported_item: Refreshing state... [id=i-030a9593c957b7aee]\u001b[0m\n",
      "\n",
      "Terraform used the selected providers to generate the following execution plan.\n",
      "Resource actions are indicated with the following symbols:\n",
      "  \u001b[31m-\u001b[0m destroy\n",
      "\u001b[0m\n",
      "Terraform will perform the following actions:\n",
      "\n",
      "\u001b[1m  # aws_instance.imported_item\u001b[0m will be \u001b[1m\u001b[31mdestroyed\u001b[0m\u001b[0m\n",
      "\u001b[0m  \u001b[31m-\u001b[0m\u001b[0m resource \"aws_instance\" \"imported_item\" {\n",
      "      \u001b[31m-\u001b[0m \u001b[0m\u001b[1m\u001b[0mami\u001b[0m\u001b[0m                                  = \"ami-0e42deec9aa2c90ce\" \u001b[90m->\u001b[0m \u001b[0m\u001b[90mnull\u001b[0m\u001b[0m\n",
      "      \u001b[31m-\u001b[0m \u001b[0m\u001b[1m\u001b[0marn\u001b[0m\u001b[0m                                  = \"arn:aws:ec2:us-west-1:816376574968:instance/i-030a9593c957b7aee\" \u001b[90m->\u001b[0m \u001b[0m\u001b[90mnull\u001b[0m\u001b[0m\n",
      "      \u001b[31m-\u001b[0m \u001b[0m\u001b[1m\u001b[0massociate_public_ip_address\u001b[0m\u001b[0m          = true \u001b[90m->\u001b[0m \u001b[0m\u001b[90mnull\u001b[0m\u001b[0m\n",
      "      \u001b[31m-\u001b[0m \u001b[0m\u001b[1m\u001b[0mavailability_zone\u001b[0m\u001b[0m                    = \"us-west-1c\" \u001b[90m->\u001b[0m \u001b[0m\u001b[90mnull\u001b[0m\u001b[0m\n",
      "      \u001b[31m-\u001b[0m \u001b[0m\u001b[1m\u001b[0mcpu_core_count\u001b[0m\u001b[0m                       = 1 \u001b[90m->\u001b[0m \u001b[0m\u001b[90mnull\u001b[0m\u001b[0m\n",
      "      \u001b[31m-\u001b[0m \u001b[0m\u001b[1m\u001b[0mcpu_threads_per_core\u001b[0m\u001b[0m                 = 1 \u001b[90m->\u001b[0m \u001b[0m\u001b[90mnull\u001b[0m\u001b[0m\n",
      "      \u001b[31m-\u001b[0m \u001b[0m\u001b[1m\u001b[0mdisable_api_stop\u001b[0m\u001b[0m                     = false \u001b[90m->\u001b[0m \u001b[0m\u001b[90mnull\u001b[0m\u001b[0m\n",
      "      \u001b[31m-\u001b[0m \u001b[0m\u001b[1m\u001b[0mdisable_api_termination\u001b[0m\u001b[0m              = false \u001b[90m->\u001b[0m \u001b[0m\u001b[90mnull\u001b[0m\u001b[0m\n",
      "      \u001b[31m-\u001b[0m \u001b[0m\u001b[1m\u001b[0mebs_optimized\u001b[0m\u001b[0m                        = false \u001b[90m->\u001b[0m \u001b[0m\u001b[90mnull\u001b[0m\u001b[0m\n",
      "      \u001b[31m-\u001b[0m \u001b[0m\u001b[1m\u001b[0mget_password_data\u001b[0m\u001b[0m                    = false \u001b[90m->\u001b[0m \u001b[0m\u001b[90mnull\u001b[0m\u001b[0m\n",
      "      \u001b[31m-\u001b[0m \u001b[0m\u001b[1m\u001b[0mhibernation\u001b[0m\u001b[0m                          = false \u001b[90m->\u001b[0m \u001b[0m\u001b[90mnull\u001b[0m\u001b[0m\n",
      "      \u001b[31m-\u001b[0m \u001b[0m\u001b[1m\u001b[0mid\u001b[0m\u001b[0m                                   = \"i-030a9593c957b7aee\" \u001b[90m->\u001b[0m \u001b[0m\u001b[90mnull\u001b[0m\u001b[0m\n",
      "      \u001b[31m-\u001b[0m \u001b[0m\u001b[1m\u001b[0minstance_initiated_shutdown_behavior\u001b[0m\u001b[0m = \"stop\" \u001b[90m->\u001b[0m \u001b[0m\u001b[90mnull\u001b[0m\u001b[0m\n",
      "      \u001b[31m-\u001b[0m \u001b[0m\u001b[1m\u001b[0minstance_state\u001b[0m\u001b[0m                       = \"running\" \u001b[90m->\u001b[0m \u001b[0m\u001b[90mnull\u001b[0m\u001b[0m\n",
      "      \u001b[31m-\u001b[0m \u001b[0m\u001b[1m\u001b[0minstance_type\u001b[0m\u001b[0m                        = \"t2.micro\" \u001b[90m->\u001b[0m \u001b[0m\u001b[90mnull\u001b[0m\u001b[0m\n",
      "      \u001b[31m-\u001b[0m \u001b[0m\u001b[1m\u001b[0mipv6_address_count\u001b[0m\u001b[0m                   = 0 \u001b[90m->\u001b[0m \u001b[0m\u001b[90mnull\u001b[0m\u001b[0m\n",
      "      \u001b[31m-\u001b[0m \u001b[0m\u001b[1m\u001b[0mipv6_addresses\u001b[0m\u001b[0m                       = [] \u001b[90m->\u001b[0m \u001b[0m\u001b[90mnull\u001b[0m\u001b[0m\n",
      "      \u001b[31m-\u001b[0m \u001b[0m\u001b[1m\u001b[0mmonitoring\u001b[0m\u001b[0m                           = false \u001b[90m->\u001b[0m \u001b[0m\u001b[90mnull\u001b[0m\u001b[0m\n",
      "      \u001b[31m-\u001b[0m \u001b[0m\u001b[1m\u001b[0mprimary_network_interface_id\u001b[0m\u001b[0m         = \"eni-035124e4255fc8def\" \u001b[90m->\u001b[0m \u001b[0m\u001b[90mnull\u001b[0m\u001b[0m\n",
      "      \u001b[31m-\u001b[0m \u001b[0m\u001b[1m\u001b[0mprivate_dns\u001b[0m\u001b[0m                          = \"ip-172-31-28-165.us-west-1.compute.internal\" \u001b[90m->\u001b[0m \u001b[0m\u001b[90mnull\u001b[0m\u001b[0m\n",
      "      \u001b[31m-\u001b[0m \u001b[0m\u001b[1m\u001b[0mprivate_ip\u001b[0m\u001b[0m                           = \"172.31.28.165\" \u001b[90m->\u001b[0m \u001b[0m\u001b[90mnull\u001b[0m\u001b[0m\n",
      "      \u001b[31m-\u001b[0m \u001b[0m\u001b[1m\u001b[0mpublic_dns\u001b[0m\u001b[0m                           = \"ec2-52-53-190-110.us-west-1.compute.amazonaws.com\" \u001b[90m->\u001b[0m \u001b[0m\u001b[90mnull\u001b[0m\u001b[0m\n",
      "      \u001b[31m-\u001b[0m \u001b[0m\u001b[1m\u001b[0mpublic_ip\u001b[0m\u001b[0m                            = \"52.53.190.110\" \u001b[90m->\u001b[0m \u001b[0m\u001b[90mnull\u001b[0m\u001b[0m\n",
      "      \u001b[31m-\u001b[0m \u001b[0m\u001b[1m\u001b[0msecondary_private_ips\u001b[0m\u001b[0m                = [] \u001b[90m->\u001b[0m \u001b[0m\u001b[90mnull\u001b[0m\u001b[0m\n",
      "      \u001b[31m-\u001b[0m \u001b[0m\u001b[1m\u001b[0msecurity_groups\u001b[0m\u001b[0m                      = [\n",
      "          \u001b[31m-\u001b[0m \u001b[0m\"default\",\n",
      "        ] \u001b[90m->\u001b[0m \u001b[0m\u001b[90mnull\u001b[0m\u001b[0m\n",
      "      \u001b[31m-\u001b[0m \u001b[0m\u001b[1m\u001b[0msource_dest_check\u001b[0m\u001b[0m                    = true \u001b[90m->\u001b[0m \u001b[0m\u001b[90mnull\u001b[0m\u001b[0m\n",
      "      \u001b[31m-\u001b[0m \u001b[0m\u001b[1m\u001b[0msubnet_id\u001b[0m\u001b[0m                            = \"subnet-01f855549f3efdd85\" \u001b[90m->\u001b[0m \u001b[0m\u001b[90mnull\u001b[0m\u001b[0m\n",
      "      \u001b[31m-\u001b[0m \u001b[0m\u001b[1m\u001b[0mtags\u001b[0m\u001b[0m                                 = {\n",
      "          \u001b[31m-\u001b[0m \u001b[0m\"aws-cli\" = \"true\"\n",
      "        } \u001b[90m->\u001b[0m \u001b[0m\u001b[90mnull\u001b[0m\u001b[0m\n",
      "      \u001b[31m-\u001b[0m \u001b[0m\u001b[1m\u001b[0mtags_all\u001b[0m\u001b[0m                             = {\n",
      "          \u001b[31m-\u001b[0m \u001b[0m\"aws-cli\" = \"true\"\n",
      "        } \u001b[90m->\u001b[0m \u001b[0m\u001b[90mnull\u001b[0m\u001b[0m\n",
      "      \u001b[31m-\u001b[0m \u001b[0m\u001b[1m\u001b[0mtenancy\u001b[0m\u001b[0m                              = \"default\" \u001b[90m->\u001b[0m \u001b[0m\u001b[90mnull\u001b[0m\u001b[0m\n",
      "      \u001b[31m-\u001b[0m \u001b[0m\u001b[1m\u001b[0mvpc_security_group_ids\u001b[0m\u001b[0m               = [\n",
      "          \u001b[31m-\u001b[0m \u001b[0m\"sg-07e7db9f93d86103e\",\n",
      "        ] \u001b[90m->\u001b[0m \u001b[0m\u001b[90mnull\u001b[0m\u001b[0m\n",
      "\n",
      "      \u001b[31m-\u001b[0m \u001b[0mcapacity_reservation_specification {\n",
      "          \u001b[31m-\u001b[0m \u001b[0m\u001b[1m\u001b[0mcapacity_reservation_preference\u001b[0m\u001b[0m = \"open\" \u001b[90m->\u001b[0m \u001b[0m\u001b[90mnull\u001b[0m\u001b[0m\n",
      "        }\n",
      "\n",
      "      \u001b[31m-\u001b[0m \u001b[0mcredit_specification {\n",
      "          \u001b[31m-\u001b[0m \u001b[0m\u001b[1m\u001b[0mcpu_credits\u001b[0m\u001b[0m = \"standard\" \u001b[90m->\u001b[0m \u001b[0m\u001b[90mnull\u001b[0m\u001b[0m\n",
      "        }\n",
      "\n",
      "      \u001b[31m-\u001b[0m \u001b[0menclave_options {\n",
      "          \u001b[31m-\u001b[0m \u001b[0m\u001b[1m\u001b[0menabled\u001b[0m\u001b[0m = false \u001b[90m->\u001b[0m \u001b[0m\u001b[90mnull\u001b[0m\u001b[0m\n",
      "        }\n",
      "\n",
      "      \u001b[31m-\u001b[0m \u001b[0mmaintenance_options {\n",
      "          \u001b[31m-\u001b[0m \u001b[0m\u001b[1m\u001b[0mauto_recovery\u001b[0m\u001b[0m = \"default\" \u001b[90m->\u001b[0m \u001b[0m\u001b[90mnull\u001b[0m\u001b[0m\n",
      "        }\n",
      "\n",
      "      \u001b[31m-\u001b[0m \u001b[0mmetadata_options {\n",
      "          \u001b[31m-\u001b[0m \u001b[0m\u001b[1m\u001b[0mhttp_endpoint\u001b[0m\u001b[0m               = \"enabled\" \u001b[90m->\u001b[0m \u001b[0m\u001b[90mnull\u001b[0m\u001b[0m\n",
      "          \u001b[31m-\u001b[0m \u001b[0m\u001b[1m\u001b[0mhttp_put_response_hop_limit\u001b[0m\u001b[0m = 1 \u001b[90m->\u001b[0m \u001b[0m\u001b[90mnull\u001b[0m\u001b[0m\n",
      "          \u001b[31m-\u001b[0m \u001b[0m\u001b[1m\u001b[0mhttp_tokens\u001b[0m\u001b[0m                 = \"optional\" \u001b[90m->\u001b[0m \u001b[0m\u001b[90mnull\u001b[0m\u001b[0m\n",
      "          \u001b[31m-\u001b[0m \u001b[0m\u001b[1m\u001b[0minstance_metadata_tags\u001b[0m\u001b[0m      = \"disabled\" \u001b[90m->\u001b[0m \u001b[0m\u001b[90mnull\u001b[0m\u001b[0m\n",
      "        }\n",
      "\n",
      "      \u001b[31m-\u001b[0m \u001b[0mprivate_dns_name_options {\n",
      "          \u001b[31m-\u001b[0m \u001b[0m\u001b[1m\u001b[0menable_resource_name_dns_a_record\u001b[0m\u001b[0m    = false \u001b[90m->\u001b[0m \u001b[0m\u001b[90mnull\u001b[0m\u001b[0m\n",
      "          \u001b[31m-\u001b[0m \u001b[0m\u001b[1m\u001b[0menable_resource_name_dns_aaaa_record\u001b[0m\u001b[0m = false \u001b[90m->\u001b[0m \u001b[0m\u001b[90mnull\u001b[0m\u001b[0m\n",
      "          \u001b[31m-\u001b[0m \u001b[0m\u001b[1m\u001b[0mhostname_type\u001b[0m\u001b[0m                        = \"ip-name\" \u001b[90m->\u001b[0m \u001b[0m\u001b[90mnull\u001b[0m\u001b[0m\n",
      "        }\n",
      "\n",
      "      \u001b[31m-\u001b[0m \u001b[0mroot_block_device {\n",
      "          \u001b[31m-\u001b[0m \u001b[0m\u001b[1m\u001b[0mdelete_on_termination\u001b[0m\u001b[0m = true \u001b[90m->\u001b[0m \u001b[0m\u001b[90mnull\u001b[0m\u001b[0m\n",
      "          \u001b[31m-\u001b[0m \u001b[0m\u001b[1m\u001b[0mdevice_name\u001b[0m\u001b[0m           = \"/dev/sda1\" \u001b[90m->\u001b[0m \u001b[0m\u001b[90mnull\u001b[0m\u001b[0m\n",
      "          \u001b[31m-\u001b[0m \u001b[0m\u001b[1m\u001b[0mencrypted\u001b[0m\u001b[0m             = false \u001b[90m->\u001b[0m \u001b[0m\u001b[90mnull\u001b[0m\u001b[0m\n",
      "          \u001b[31m-\u001b[0m \u001b[0m\u001b[1m\u001b[0miops\u001b[0m\u001b[0m                  = 100 \u001b[90m->\u001b[0m \u001b[0m\u001b[90mnull\u001b[0m\u001b[0m\n",
      "          \u001b[31m-\u001b[0m \u001b[0m\u001b[1m\u001b[0mtags\u001b[0m\u001b[0m                  = {} \u001b[90m->\u001b[0m \u001b[0m\u001b[90mnull\u001b[0m\u001b[0m\n",
      "          \u001b[31m-\u001b[0m \u001b[0m\u001b[1m\u001b[0mthroughput\u001b[0m\u001b[0m            = 0 \u001b[90m->\u001b[0m \u001b[0m\u001b[90mnull\u001b[0m\u001b[0m\n",
      "          \u001b[31m-\u001b[0m \u001b[0m\u001b[1m\u001b[0mvolume_id\u001b[0m\u001b[0m             = \"vol-08424cafca0bc57d2\" \u001b[90m->\u001b[0m \u001b[0m\u001b[90mnull\u001b[0m\u001b[0m\n",
      "          \u001b[31m-\u001b[0m \u001b[0m\u001b[1m\u001b[0mvolume_size\u001b[0m\u001b[0m           = 8 \u001b[90m->\u001b[0m \u001b[0m\u001b[90mnull\u001b[0m\u001b[0m\n",
      "          \u001b[31m-\u001b[0m \u001b[0m\u001b[1m\u001b[0mvolume_type\u001b[0m\u001b[0m           = \"gp2\" \u001b[90m->\u001b[0m \u001b[0m\u001b[90mnull\u001b[0m\u001b[0m\n",
      "        }\n",
      "\n",
      "      \u001b[31m-\u001b[0m \u001b[0mtimeouts {}\n",
      "    }\n",
      "\n",
      "\u001b[0m\u001b[1mPlan:\u001b[0m 0 to add, 0 to change, 1 to destroy.\n",
      "\u001b[0m\u001b[0m\u001b[1maws_instance.imported_item: Destroying... [id=i-030a9593c957b7aee]\u001b[0m\u001b[0m\n",
      "\u001b[0m\u001b[1maws_instance.imported_item: Still destroying... [id=i-030a9593c957b7aee, 10s elapsed]\u001b[0m\u001b[0m\n",
      "\u001b[0m\u001b[1maws_instance.imported_item: Still destroying... [id=i-030a9593c957b7aee, 20s elapsed]\u001b[0m\u001b[0m\n",
      "\u001b[0m\u001b[1maws_instance.imported_item: Still destroying... [id=i-030a9593c957b7aee, 30s elapsed]\u001b[0m\u001b[0m\n",
      "\u001b[0m\u001b[1maws_instance.imported_item: Still destroying... [id=i-030a9593c957b7aee, 40s elapsed]\u001b[0m\u001b[0m\n",
      "\u001b[0m\u001b[1maws_instance.imported_item: Destruction complete after 41s\u001b[0m\n",
      "\u001b[0m\u001b[1m\u001b[32m\n",
      "Destroy complete! Resources: 1 destroyed.\n",
      "\u001b[0m\n"
     ]
    }
   ],
   "source": [
    "#EXCLUDE\n",
    "terraform destroy -auto-approve"
   ]
  },
  {
   "cell_type": "markdown",
   "id": "f589bb89",
   "metadata": {},
   "source": [
    "### Verify that the terraform state is empty\n",
    "\n",
    "Check the ```terraform.tfstate``` file and run ```terraform state list``` to verify that we have now destroyed the resource.\n",
    "\n",
    "### Note that independently of Terraform the VM instance is nevertheless present in AWS but ```Terminating```\n",
    "\n",
    "Note that the ```/usr/local/bin/get_instances.sh -ir``` command shows ```Running``` instances only ... the previously destroyed instance may still be present but in the ```Terminated``` or other state-*\n",
    "\n",
    "You can verify none ```Running``` instances using either of the commands\n",
    "- ```/usr/local/bin/get_instances.sh```\n",
    "- or ```aws ec2 describe-instances```\n"
   ]
  },
  {
   "cell_type": "markdown",
   "id": "79254b6f",
   "metadata": {},
   "source": [
    "\n",
    "# **Stretch Goal**: Import other resource types\n",
    "\n",
    "\n",
    "- Try now to import other resource types, such as an S3 bucket, using *terraform import*' and/or '*terraforming*' tools"
   ]
  },
  {
   "cell_type": "code",
   "execution_count": 14,
   "id": "5e643f64",
   "metadata": {},
   "outputs": [
    {
     "name": "stdout",
     "output_type": "stream",
     "text": [
      "2023-Jan-10:[TF-1.3.7] Lab updated on node tf[terraform 1.3.7]\n"
     ]
    },
    {
     "ename": "",
     "evalue": "1",
     "output_type": "error",
     "traceback": []
    }
   ],
   "source": [
    "EXCL_FN_LAB_ENV"
   ]
  },
  {
   "cell_type": "markdown",
   "id": "several-nickel",
   "metadata": {},
   "source": [
    "<hr/>\n",
    "<!-- ![](../../../static/images/LOGO_v2_CROPPED.jpg) -->\n",
    "<img src=\"../images/LOGO_v2_CROPPED.jpg\" width=\"200\" />"
   ]
  },
  {
   "cell_type": "markdown",
   "id": "b452fe78",
   "metadata": {},
   "source": [
    "# --EXCLUDE--SECTION--\n",
    "\n",
    "## **NOTE:** Save notebook first\n",
    "\n",
    "<div id=\"END\" /> <a href=\"#TOP\" > TOP OF PAGE </a>  <!-- must appear after EXCLUDE pragma !! -->"
   ]
  },
  {
   "cell_type": "code",
   "execution_count": null,
   "id": "d149b113",
   "metadata": {},
   "outputs": [
    {
     "name": "stdout",
     "output_type": "stream",
     "text": [
      "bash: cd: /home/student/nb/2022-Terraform/content/tf-labs/8b.ImportingResources/: No such file or directory\n",
      "TF-1.3.7 -rw-rw-r-- 1 student student 9 Jan  8 19:18 /home/student/.environment\n",
      "Reading package lists... 0%Reading package lists... 100%Reading package lists... Done\n",
      "Building dependency tree... 0%Building dependency tree... 0%Building dependency tree... 50%Building dependency tree... 50%Building dependency tree       \n",
      "Reading state information... 0%Reading state information... 0%Reading state information... Done\n",
      "sysvbanner is already the newest version (1:1.0-17fakesync1).\n",
      "The following packages were automatically installed and are no longer required:\n",
      "  linux-headers-5.4.0-120 linux-headers-5.4.0-120-generic\n",
      "  linux-image-5.4.0-120-generic linux-modules-5.4.0-120-generic\n",
      "Use 'sudo apt autoremove' to remove them.\n",
      "0 upgraded, 0 newly installed, 0 to remove and 0 not upgraded.\n",
      "/home/student/labs/lab8b\n",
      "\n",
      "==== Filtering current notebook [/home/student/src/mjbright.tf-scenarios-private/ServeUpLabs/content/tf-labs/8b.ImportingResources/README.ipynb] ====\n",
      "\n",
      "******** Tue 10 Jan 2023 04:01:18 PM UTC: Notebook filtered on tf TF-1.3.7\n",
      "\n",
      "mv: cannot move '/home/student/Solutions/Lab' to '/home/student/Solutions/BAK/Lab': Directory not empty\n",
      "-- . ~/scripts/nbtool.rc\n",
      "TF-1.3.7 -rw-rw-r-- 1 student student 9 Jan  8 19:18 /home/student/.environment\n",
      "Reading package lists... 0%Reading package lists... 100%Reading package lists... Done\n",
      "Building dependency tree... 0%Building dependency tree... 0%Building dependency tree... 50%Building dependency tree... 50%Building dependency tree       \n",
      "Reading state information... 0%Reading state information... 0%Reading state information... Done\n",
      "sysvbanner is already the newest version (1:1.0-17fakesync1).\n",
      "The following packages were automatically installed and are no longer required:\n",
      "  linux-headers-5.4.0-120 linux-headers-5.4.0-120-generic\n",
      "  linux-image-5.4.0-120-generic linux-modules-5.4.0-120-generic\n",
      "Use 'sudo apt autoremove' to remove them.\n",
      "0 upgraded, 0 newly installed, 0 to remove and 0 not upgraded.\n",
      "/home/student/.venv/TRAINING/bin/python3\n",
      "\n",
      "-- ~/.venv/TRAINING/bin/python3 ~/scripts/nbtool.py -f ~/src/mjbright.tf-scenarios-private/ServeUpLabs/content/tf-labs/8b.ImportingResources/README.ipynb\n",
      "---- no VARS_SEEN ----\n",
      "i/p nb has 0 variables\n",
      "/home/student/src/mjbright.tf-scenarios-private/ServeUpLabs/content/tf-labs/8b.ImportingResources/README.ipynb:\n",
      "\t#cells=34\n",
      "cells to include[#23]=[[3, 4, 5, 6, 8, 9, 10, 11, 12, 13, 14, 15, 16, 17, 19, 21, 22, 24, 25, 27, 28, 29, 30]]\n",
      "cells to include[#23]=[[30, 29, 28, 27, 25, 24, 22, 21, 19, 17, 16, 15, 14, 13, 12, 11, 10, 9, 8, 6, 5, 4, 3]]\n",
      "included markdown cells=[4, 5, 8, 11, 13, 16, 17, 19, 22, 24, 25, 27, 28, 30]\n",
      "included code     cells=[3, 6, 9, 10, 12, 14, 15, 21, 29]\n",
      "excluded          cells=[0, 1, 2, 18, 20, 23, 26, 31, 32]\n",
      "----- VARS_SEEN [/home/student/src/mjbright.tf-scenarios-private/ServeUpLabs/content/tf-labs/8b.ImportingResources/README.ipynb.filtered.ipynb] ------\n",
      "nb __AWS_ID\t (last value: \"\"i-030a9593c957b7aee\"\")\n",
      "---------------------------------\n",
      "/home/student/src/mjbright.tf-scenarios-private/ServeUpLabs/content/tf-labs/8b.ImportingResources/README.ipynb.filtered.ipynb:\n",
      "\t#cells=23\n",
      "ls: cannot access '/home/student/nb/2022-Terraform/content/tf-labs/8b.ImportingResources//': No such file or directory\n"
     ]
    }
   ],
   "source": [
    "NB_DIR=~/nb/2022-Terraform/content/tf-labs/8b.ImportingResources/\n",
    "cd $NB_DIR\n",
    "\n",
    ". ~/scripts/nbtool.rc\n",
    "pwd\n",
    "EXCL_FN_FILTER_NOTEBOOK $NB"
   ]
  },
  {
   "cell_type": "code",
   "execution_count": null,
   "id": "5fd55549",
   "metadata": {},
   "outputs": [],
   "source": []
  }
 ],
 "metadata": {
  "kernelspec": {
   "display_name": "Bash",
   "language": "bash",
   "name": "bash"
  },
  "language_info": {
   "codemirror_mode": "shell",
   "file_extension": ".sh",
   "mimetype": "text/x-sh",
   "name": "bash"
  }
 },
 "nbformat": 4,
 "nbformat_minor": 5
}
