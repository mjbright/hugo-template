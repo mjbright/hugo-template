{
 "cells": [
  {
   "cell_type": "markdown",
   "id": "d103c05d",
   "metadata": {},
   "source": [
    "<div id=\"TOP\" />\n",
    "<a href=\"#END\" > END of Notebook (filter) </a>\n",
    "\n",
    "$__ A BOX $\n",
    "<div class=\"alert alert-info\"> <b>Info</b>  - an info </div>\n",
    "<div class=\"alert alert-warning\"> <b>Info</b>  - a warning </div>\n",
    "<div class=\"alert alert-danger\"> <b>Info</b>  - an danger </div>"
   ]
  },
  {
   "cell_type": "code",
   "execution_count": 1,
   "id": "abe11e85",
   "metadata": {},
   "outputs": [
    {
     "name": "stdout",
     "output_type": "stream",
     "text": [
      "==== Reading nbtool functions from '/home/student/scripts/nbtool.rc' ====\n",
      "TF-1.3.7 -rw-rw-r-- 1 student student 9 Jan  8 19:18 /home/student/.environment\n",
      "Reading package lists... 0%Reading package lists... 100%Reading package lists... Done\n",
      "Building dependency tree... 0%Building dependency tree... 0%Building dependency tree... 50%Building dependency tree... 50%Building dependency tree       \n",
      "Reading state information... 0%Reading state information... 0%Reading state information... Done\n",
      "sysvbanner is already the newest version (1:1.0-17fakesync1).\n",
      "The following packages were automatically installed and are no longer required:\n",
      "  linux-headers-5.4.0-120 linux-headers-5.4.0-120-generic\n",
      "  linux-image-5.4.0-120-generic linux-modules-5.4.0-120-generic\n",
      "Use 'sudo apt autoremove' to remove them.\n",
      "0 upgraded, 0 newly installed, 0 to remove and 0 not upgraded.\n",
      "\n",
      "******** Mon 09 Jan 2023 06:33:28 PM UTC: Notebook initialized on tf TF-1.3.7\n",
      "\n",
      "\u001b[01;31m\u001b[KNB_DIR=/home/student/src/tf-labs/5.TerraformDataSources\u001b[m\u001b[K\n",
      "\n",
      "==== Setting TF_DATA_DIR ====\n",
      "TF_DATA_DIR\u001b[01;31m\u001b[K=/home/student/dot.terraform\u001b[m\u001b[K\n",
      "\n",
      "==== Setting AWS vars for student20 account ====\n",
      "bash: /home/student/.aws/linked/student20.rc: No such file or directory\n",
      "==== Terraform Lab \u001b[01;31m\u001b[Kweight[50] / tag[5.TerraformDataSources] / name[Lab 5.DataSources] ====\u001b[m\u001b[K\n",
      "NB_DIR=/home/student/src/tf-labs/5.TerraformDataSources\n",
      "NB=/home/student/src/tf-labs/5.TerraformDataSources/README.ipynb\n",
      "\n",
      "==== Filtering current notebook [/home/student/src/tf-labs/5.TerraformDataSources/README.ipynb] ====\n",
      "\n",
      "******** Mon 09 Jan 2023 06:33:28 PM UTC: Notebook filtered on tf TF-1.3.7\n",
      "\n",
      "mv: cannot move '/home/student/Solutions/Lab' to '/home/student/Solutions/BAK/Lab': Directory not empty\n",
      "-- . ~/scripts/nbtool.rc\n",
      "TF-1.3.7 -rw-rw-r-- 1 student student 9 Jan  8 19:18 /home/student/.environment\n",
      "Reading package lists... 0%Reading package lists... 100%Reading package lists... Done\n",
      "Building dependency tree... 0%Building dependency tree... 0%Building dependency tree... 50%Building dependency tree... 50%Building dependency tree       \n",
      "Reading state information... 0%Reading state information... 0%Reading state information... Done\n",
      "sysvbanner is already the newest version (1:1.0-17fakesync1).\n",
      "The following packages were automatically installed and are no longer required:\n",
      "  linux-headers-5.4.0-120 linux-headers-5.4.0-120-generic\n",
      "  linux-image-5.4.0-120-generic linux-modules-5.4.0-120-generic\n",
      "Use 'sudo apt autoremove' to remove them.\n",
      "0 upgraded, 0 newly installed, 0 to remove and 0 not upgraded.\n",
      "/home/student/.venv/TRAINING/bin/python3\n",
      "\n",
      "-- ~/.venv/TRAINING/bin/python3 ~/scripts/nbtool.py -f ~/src/tf-labs/5.TerraformDataSources/README.ipynb\n",
      "---- no VARS_SEEN ----\n",
      "i/p nb has 0 variables\n",
      "/home/student/src/tf-labs/5.TerraformDataSources/README.ipynb:\n",
      "\t#cells=40\n",
      "cells to include[#32]=[[3, 5, 6, 7, 8, 9, 10, 11, 12, 13, 14, 15, 16, 17, 18, 19, 20, 21, 22, 23, 25, 26, 27, 28, 29, 30, 31, 32, 33, 34, 35, 36]]\n",
      "cells to include[#32]=[[36, 35, 34, 33, 32, 31, 30, 29, 28, 27, 26, 25, 23, 22, 21, 20, 19, 18, 17, 16, 15, 14, 13, 12, 11, 10, 9, 8, 7, 6, 5, 3]]\n",
      "included markdown cells=[3, 6, 8, 10, 12, 14, 16, 18, 20, 21, 22, 23, 25, 27, 29, 30, 32, 33, 34, 36]\n",
      "included code     cells=[5, 7, 9, 11, 13, 15, 17, 19, 26, 28, 31, 35]\n",
      "excluded          cells=[0, 1, 2, 4, 24, 37, 38]\n",
      "---- no VARS_SEEN ----\n",
      "o/p nb has 0 variables\n",
      "/home/student/src/tf-labs/5.TerraformDataSources/README.ipynb.filtered.ipynb:\n",
      "\t#cells=32\n",
      "-rw-rw-r-- 1 student student 45424 Jan  9 18:33 README.ipynb.filtered.ipynb\n",
      "\n",
      "1 VAR defs/usages in i/p file: ~/src/tf-labs/5.TerraformDataSources/README.ipynb\n",
      "\n",
      "Good: No VAR defs/usages in o/p file\n",
      "\n",
      "-- jupyter-nbconvert --to markdown README.ipynb.filtered.ipynb\n",
      "[NbConvertApp] Converting notebook README.ipynb.filtered.ipynb to markdown\n",
      "[NbConvertApp] Writing 37497 bytes to README.ipynb.filtered.md\n",
      "\n",
      "-- jupyter-nbconvert --to html README.ipynb.filtered.ipynb\n",
      "[NbConvertApp] Converting notebook README.ipynb.filtered.ipynb to html\n",
      "[NbConvertApp] Writing 640514 bytes to README.ipynb.filtered.html\n",
      "\n",
      "\u001b[32m-rw-rw-r-- 1 student student 45424 Jan  9 18:33 Lab_5.DataSources.ipynb\u001b[0m\n",
      "\u001b[32m-rw-rw-r-- 1 student student 75352 Jan  9 18:33 Lab_5.DataSources.md\u001b[0m\n"
     ]
    }
   ],
   "source": [
    "#cd ~/nb/2022-Terraform/content/tf-labs/5.TerraformDataSources/\n",
    "cd ~/src/tf-labs/5.TerraformDataSources/\n",
    "\n",
    "# -- CONFIG ------------------------------------\n",
    "LAB_TAG=${PWD##*/} \n",
    "LAB_NAME=\"TFI_Azure_Lab5.DataSources\"\n",
    "LAB_WEIGHT=50\n",
    "LAB_MODE=\"Terraform\"\n",
    "export MAX_LINE_LEN=80\n",
    "# ----------------------------------------------\n",
    "\n",
    "DIE() { echo \"[$PWD] Error: $*\"; banner \"ERROR\"; exit 1; }\n",
    "NBTOOL_RC=~/scripts/nbtool.rc; [ ! -f $NBTOOL_RC ] && DIE \"No such script as $NBTOOL_RC\"\n",
    "echo \"==== Reading nbtool functions from '$NBTOOL_RC' ====\"; . $NBTOOL_RC\n",
    "EXCL_FN_INIT_NOTEBOOK\n",
    "## --INCLUDE--SECTION--\n",
    "## --EXCLUDE--SECTION--"
   ]
  },
  {
   "cell_type": "markdown",
   "id": "protected-literature",
   "metadata": {},
   "source": [
    "# --INCLUDE--SECTION--"
   ]
  },
  {
   "cell_type": "code",
   "execution_count": 2,
   "id": "ab0d5233",
   "metadata": {},
   "outputs": [
    {
     "name": "stdout",
     "output_type": "stream",
     "text": [
      "2023-Jan-09:[TF-1.3.7] Lab updated on node tf[terraform 1.3.7]\n"
     ]
    },
    {
     "ename": "",
     "evalue": "1",
     "output_type": "error",
     "traceback": []
    }
   ],
   "source": [
    "EXCL_FN_LAB_ENV"
   ]
  },
  {
   "cell_type": "markdown",
   "id": "authorized-optimum",
   "metadata": {},
   "source": [
    "# Data Sources\n",
    "\n",
    "## Background:\n",
    "\n",
    "In previous exercises we have used map variables to get AMIs or availability_zones according to the region value.\n",
    "But we are reproducing data that the provider knows about.\n",
    "\n",
    "so, in this lab we will use data sources to get data directly from the provider.\n",
    "\n",
    "## Tasks:\n",
    "### 1. Make a directory called ‘lab5’ underneath the labs directory.\n",
    "### 2. Change into the directory.\n",
    "### 3. Create the following files: main.tf, resources.tf, vars.tf\n",
    "\n",
    "The main.tf file should contain:"
   ]
  },
  {
   "cell_type": "code",
   "execution_count": 5,
   "id": "personalized-solution",
   "metadata": {},
   "outputs": [],
   "source": [
    "#EXCLUDE:\n",
    "\n",
    "mkdir -p ~/labs/lab5\n",
    "cd ~/labs/lab5\n",
    "\n",
    "\n",
    "cat > main.tf <<EOF\n",
    "\n",
    "terraform {\n",
    "  # Enforce Terraform version to be 1.3.x\n",
    "  required_version = \"~> 1.3\"\n",
    "  \n",
    "  # Enforce AWS Provider version to be 4.x\n",
    "\n",
    "  required_providers {\n",
    "    aws = {\n",
    "      source  = \"hashicorp/aws\"\n",
    "      version = \"~> 4.0\"\n",
    "    }\n",
    "  }\n",
    "}\n",
    "\n",
    "provider \"aws\" {\n",
    "    region = var.region\n",
    "}\n",
    "\n",
    "EOF\n",
    "\n",
    "\n",
    "cat > vars.tf <<EOF\n",
    "\n",
    "variable \"region\" {\n",
    "    description = \"Region in which to create resources\"\n",
    "}\n",
    "\n",
    "variable \"vpc_cidr\" {\n",
    "    description = \"CIDR range to use for the VPC\"\n",
    "}\n",
    "\n",
    "variable \"vpc_subnet_cidr\" {\n",
    "    type = list(string)\n",
    "    description = \"list of subnet CIDR ranges to use for VPC subnets\"\n",
    "    # ranges must all lie within the vpc_cidr\n",
    "}\n",
    "\n",
    "variable \"ami_instance\" {\n",
    "    description = \"AMI instance to use (region specific)\"\n",
    "}\n",
    "\n",
    "variable \"instance_type\" {\n",
    "   description = \"Type of instance to use (AWS EC2 instance type)\"\n",
    "}\n",
    "\n",
    "data \"aws_availability_zones\" \"aaz\" {}\n",
    "\n",
    "EOF\n",
    "\n",
    "\n",
    "cat > terraform.tfvars <<EOF\n",
    "\n",
    "region = \"us-west-1\"\n",
    "\n",
    "vpc_cidr = \"192.168.0.0/16\"\n",
    "\n",
    "vpc_subnet_cidr = [\"192.168.100.0/24\",\"192.168.101.0/24\",\"192.168.102.0/24\"]\n",
    "\n",
    "ami_instance = \"ami-0ac019f4fcb7cb7e6\"\n",
    "\n",
    "instance_type = \"t2.micro\"\n",
    "\n",
    "EOF\n",
    "\n",
    "\n",
    "cat > resources.tf <<EOF\n",
    "\n",
    "resource \"aws_vpc\" \"main_vpc\" {\n",
    "    cidr_block = var.vpc_cidr\n",
    "    instance_tenancy = \"default\"\n",
    "    tags = {\n",
    "        LabName = \"$LAB_TAG\"\n",
    "        Name = \"Main\"\n",
    "        Location = \"London\"\n",
    "    }\n",
    "}\n",
    "\n",
    "resource \"aws_subnet\" \"vpc_subnets\" {\n",
    "    count             = length(var.vpc_subnet_cidr)\n",
    "\n",
    "    vpc_id            = aws_vpc.main_vpc.id\n",
    "    cidr_block        = element(var.vpc_subnet_cidr,count.index)\n",
    "    availability_zone = element(data.aws_availability_zones.aaz.names,count.index)\n",
    "\n",
    "    tags = {\n",
    "        LabName = \"$LAB_TAG\"\n",
    "        Name = \"subnet-\\${count.index+1}\"\n",
    "    }\n",
    "}\n",
    "\n",
    "EOF\n",
    "\n",
    "cat > outputs.tf <<EOF\n",
    "\n",
    "output  \"aazs\"    { value = data.aws_availability_zones.aaz.names }\n",
    "\n",
    "EOF"
   ]
  },
  {
   "cell_type": "code",
   "execution_count": 6,
   "id": "occupational-aside",
   "metadata": {
    "attributes": {
     "classes": [
      "tf"
     ],
     "id": ""
    }
   },
   "outputs": [
    {
     "name": "stdout",
     "output_type": "stream",
     "text": [
      "\n",
      "terraform {\n",
      "  # Enforce Terraform version to be 1.3.x\n",
      "  required_version = \"~> 1.3\"\n",
      "  \n",
      "  # Enforce AWS Provider version to be 4.x\n",
      "\n",
      "  required_providers {\n",
      "    aws = {\n",
      "      source  = \"hashicorp/aws\"\n",
      "      version = \"~> 4.0\"\n",
      "    }\n",
      "  }\n",
      "}\n",
      "\n",
      "provider \"aws\" {\n",
      "    region = var.region\n",
      "}\n",
      "\n"
     ]
    }
   ],
   "source": [
    "cat main.tf"
   ]
  },
  {
   "cell_type": "markdown",
   "id": "aquatic-carter",
   "metadata": {},
   "source": [
    "The vars.tf file should contain:"
   ]
  },
  {
   "cell_type": "code",
   "execution_count": 7,
   "id": "palestinian-generator",
   "metadata": {
    "attributes": {
     "classes": [
      "tf"
     ],
     "id": ""
    }
   },
   "outputs": [
    {
     "name": "stdout",
     "output_type": "stream",
     "text": [
      "\n",
      "variable \"region\" {\n",
      "    description = \"Region in which to create resources\"\n",
      "}\n",
      "\n",
      "variable \"vpc_cidr\" {\n",
      "    description = \"CIDR range to use for the VPC\"\n",
      "}\n",
      "\n",
      "variable \"vpc_subnet_cidr\" {\n",
      "    type = list(string)\n",
      "    description = \"list of subnet CIDR ranges to use for VPC subnets\"\n",
      "    # ranges must all lie within the vpc_cidr\n",
      "}\n",
      "\n",
      "variable \"ami_instance\" {\n",
      "    description = \"AMI instance to use (region specific)\"\n",
      "}\n",
      "\n",
      "variable \"instance_type\" {\n",
      "   description = \"Type of instance to use (AWS EC2 instance type)\"\n",
      "}\n",
      "\n",
      "data \"aws_availability_zones\" \"aaz\" {}\n",
      "\n"
     ]
    }
   ],
   "source": [
    "cat vars.tf"
   ]
  },
  {
   "cell_type": "markdown",
   "id": "4daa9c25",
   "metadata": {},
   "source": [
    "The terraform.tfvars file should contain:"
   ]
  },
  {
   "cell_type": "code",
   "execution_count": 8,
   "id": "a701951b",
   "metadata": {},
   "outputs": [
    {
     "name": "stdout",
     "output_type": "stream",
     "text": [
      "\n",
      "region = \"us-west-1\"\n",
      "\n",
      "vpc_cidr = \"192.168.0.0/16\"\n",
      "\n",
      "vpc_subnet_cidr = [\"192.168.100.0/24\",\"192.168.101.0/24\",\"192.168.102.0/24\"]\n",
      "\n",
      "ami_instance = \"ami-0ac019f4fcb7cb7e6\"\n",
      "\n",
      "instance_type = \"t2.micro\"\n",
      "\n"
     ]
    }
   ],
   "source": [
    "cat terraform.tfvars"
   ]
  },
  {
   "cell_type": "markdown",
   "id": "packed-update",
   "metadata": {},
   "source": [
    "The resources.tf file should contain:"
   ]
  },
  {
   "cell_type": "code",
   "execution_count": 9,
   "id": "divine-package",
   "metadata": {
    "attributes": {
     "classes": [
      "tf"
     ],
     "id": ""
    }
   },
   "outputs": [
    {
     "name": "stdout",
     "output_type": "stream",
     "text": [
      "\n",
      "resource \"aws_vpc\" \"main_vpc\" {\n",
      "    cidr_block = var.vpc_cidr\n",
      "    instance_tenancy = \"default\"\n",
      "    tags = {\n",
      "        LabName = \"5.TerraformDataSources\"\n",
      "        Name = \"Main\"\n",
      "        Location = \"London\"\n",
      "    }\n",
      "}\n",
      "\n",
      "resource \"aws_subnet\" \"vpc_subnets\" {\n",
      "    count             = length(var.vpc_subnet_cidr)\n",
      "\n",
      "    vpc_id            = aws_vpc.main_vpc.id\n",
      "    cidr_block        = element(var.vpc_subnet_cidr,count.index)\n",
      "    availability_zone = element(data.aws_availability_zones.aaz.names,count.index)\n",
      "\n",
      "    tags = {\n",
      "        LabName = \"5.TerraformDataSources\"\n",
      "        Name = \"subnet-${count.index+1}\"\n",
      "    }\n",
      "}\n",
      "\n"
     ]
    }
   ],
   "source": [
    "cat resources.tf"
   ]
  },
  {
   "cell_type": "markdown",
   "id": "artistic-ranch",
   "metadata": {},
   "source": [
    "<!-- NO LONGER NEEDED with linked accounts:\n",
    "  Note: For each student, change the CIDR for the VPC and subnets to a unique value!\n",
    "-->\n",
    "\n",
    "### 4. Output the availability zones data source\n",
    "\n",
    "Create an outputs.tf\n",
    " to show the available \"*availability_zones*\" from the provider"
   ]
  },
  {
   "cell_type": "code",
   "execution_count": 10,
   "id": "verbal-mistake",
   "metadata": {
    "attributes": {
     "classes": [
      "tf"
     ],
     "id": ""
    }
   },
   "outputs": [
    {
     "name": "stdout",
     "output_type": "stream",
     "text": [
      "\n",
      "output  \"aazs\"    { value = data.aws_availability_zones.aaz.names }\n",
      "\n"
     ]
    }
   ],
   "source": [
    "cat outputs.tf"
   ]
  },
  {
   "cell_type": "markdown",
   "id": "fitted-minneapolis",
   "metadata": {},
   "source": [
    "### 5. Initialize the configuration"
   ]
  },
  {
   "cell_type": "code",
   "execution_count": 11,
   "id": "reliable-primary",
   "metadata": {
    "attributes": {
     "classes": [
      "sh"
     ],
     "id": ""
    }
   },
   "outputs": [
    {
     "name": "stdout",
     "output_type": "stream",
     "text": [
      "\n",
      "\u001b[0m\u001b[1mInitializing the backend...\u001b[0m\n",
      "\n",
      "\u001b[0m\u001b[1mInitializing provider plugins...\u001b[0m\n",
      "- Finding hashicorp/aws versions matching \"~> 4.0\"...\n",
      "- Installing hashicorp/aws v4.49.0...\n",
      "- Installed hashicorp/aws v4.49.0 (signed by HashiCorp)\n",
      "\n",
      "Terraform has created a lock file \u001b[1m.terraform.lock.hcl\u001b[0m to record the provider\n",
      "selections it made above. Include this file in your version control repository\n",
      "so that Terraform can guarantee to make the same selections by default when\n",
      "you run \"terraform init\" in the future.\u001b[0m\n",
      "\n",
      "\u001b[0m\u001b[1m\u001b[32mTerraform has been successfully initialized!\u001b[0m\u001b[32m\u001b[0m\n",
      "\u001b[0m\u001b[32m\n",
      "You may now begin working with Terraform. Try running \"terraform plan\" to see\n",
      "any changes that are required for your infrastructure. All Terraform commands\n",
      "should now work.\n",
      "\n",
      "If you ever set or change modules or backend configuration for Terraform,\n",
      "rerun this command to reinitialize your working directory. If you forget, other\n",
      "commands will detect it and remind you to do so if necessary.\u001b[0m\n"
     ]
    }
   ],
   "source": [
    "terraform init"
   ]
  },
  {
   "cell_type": "markdown",
   "id": "becoming-telephone",
   "metadata": {},
   "source": [
    "\n",
    "### 6.  Preview the configuration"
   ]
  },
  {
   "cell_type": "code",
   "execution_count": 12,
   "id": "earned-congress",
   "metadata": {
    "attributes": {
     "classes": [
      "sh"
     ],
     "id": ""
    },
    "scrolled": false
   },
   "outputs": [
    {
     "name": "stdout",
     "output_type": "stream",
     "text": [
      "\u001b[0m\u001b[1mdata.aws_availability_zones.aaz: Reading...\u001b[0m\u001b[0m\n",
      "\u001b[0m\u001b[1mdata.aws_availability_zones.aaz: Read complete after 1s [id=us-west-1]\u001b[0m\n",
      "\n",
      "Terraform used the selected providers to generate the following execution plan.\n",
      "Resource actions are indicated with the following symbols:\n",
      "  \u001b[32m+\u001b[0m create\n",
      "\u001b[0m\n",
      "Terraform will perform the following actions:\n",
      "\n",
      "\u001b[1m  # aws_subnet.vpc_subnets[0]\u001b[0m will be created\u001b[0m\u001b[0m\n",
      "\u001b[0m  \u001b[32m+\u001b[0m\u001b[0m resource \"aws_subnet\" \"vpc_subnets\" {\n",
      "      \u001b[32m+\u001b[0m \u001b[0m\u001b[1m\u001b[0marn\u001b[0m\u001b[0m                                            = (known after apply)\n",
      "      \u001b[32m+\u001b[0m \u001b[0m\u001b[1m\u001b[0massign_ipv6_address_on_creation\u001b[0m\u001b[0m                = false\n",
      "      \u001b[32m+\u001b[0m \u001b[0m\u001b[1m\u001b[0mavailability_zone\u001b[0m\u001b[0m                              = \"us-west-1b\"\n",
      "      \u001b[32m+\u001b[0m \u001b[0m\u001b[1m\u001b[0mavailability_zone_id\u001b[0m\u001b[0m                           = (known after apply)\n",
      "      \u001b[32m+\u001b[0m \u001b[0m\u001b[1m\u001b[0mcidr_block\u001b[0m\u001b[0m                                     = \"192.168.100.0/24\"\n",
      "      \u001b[32m+\u001b[0m \u001b[0m\u001b[1m\u001b[0menable_dns64\u001b[0m\u001b[0m                                   = false\n",
      "      \u001b[32m+\u001b[0m \u001b[0m\u001b[1m\u001b[0menable_resource_name_dns_a_record_on_launch\u001b[0m\u001b[0m    = false\n",
      "      \u001b[32m+\u001b[0m \u001b[0m\u001b[1m\u001b[0menable_resource_name_dns_aaaa_record_on_launch\u001b[0m\u001b[0m = false\n",
      "      \u001b[32m+\u001b[0m \u001b[0m\u001b[1m\u001b[0mid\u001b[0m\u001b[0m                                             = (known after apply)\n",
      "      \u001b[32m+\u001b[0m \u001b[0m\u001b[1m\u001b[0mipv6_cidr_block_association_id\u001b[0m\u001b[0m                 = (known after apply)\n",
      "      \u001b[32m+\u001b[0m \u001b[0m\u001b[1m\u001b[0mipv6_native\u001b[0m\u001b[0m                                    = false\n",
      "      \u001b[32m+\u001b[0m \u001b[0m\u001b[1m\u001b[0mmap_public_ip_on_launch\u001b[0m\u001b[0m                        = false\n",
      "      \u001b[32m+\u001b[0m \u001b[0m\u001b[1m\u001b[0mowner_id\u001b[0m\u001b[0m                                       = (known after apply)\n",
      "      \u001b[32m+\u001b[0m \u001b[0m\u001b[1m\u001b[0mprivate_dns_hostname_type_on_launch\u001b[0m\u001b[0m            = (known after apply)\n",
      "      \u001b[32m+\u001b[0m \u001b[0m\u001b[1m\u001b[0mtags\u001b[0m\u001b[0m                                           = {\n",
      "          \u001b[32m+\u001b[0m \u001b[0m\"LabName\" = \"5.TerraformDataSources\"\n",
      "          \u001b[32m+\u001b[0m \u001b[0m\"Name\"    = \"subnet-1\"\n",
      "        }\n",
      "      \u001b[32m+\u001b[0m \u001b[0m\u001b[1m\u001b[0mtags_all\u001b[0m\u001b[0m                                       = {\n",
      "          \u001b[32m+\u001b[0m \u001b[0m\"LabName\" = \"5.TerraformDataSources\"\n",
      "          \u001b[32m+\u001b[0m \u001b[0m\"Name\"    = \"subnet-1\"\n",
      "        }\n",
      "      \u001b[32m+\u001b[0m \u001b[0m\u001b[1m\u001b[0mvpc_id\u001b[0m\u001b[0m                                         = (known after apply)\n",
      "    }\n",
      "\n",
      "\u001b[1m  # aws_subnet.vpc_subnets[1]\u001b[0m will be created\u001b[0m\u001b[0m\n",
      "\u001b[0m  \u001b[32m+\u001b[0m\u001b[0m resource \"aws_subnet\" \"vpc_subnets\" {\n",
      "      \u001b[32m+\u001b[0m \u001b[0m\u001b[1m\u001b[0marn\u001b[0m\u001b[0m                                            = (known after apply)\n",
      "      \u001b[32m+\u001b[0m \u001b[0m\u001b[1m\u001b[0massign_ipv6_address_on_creation\u001b[0m\u001b[0m                = false\n",
      "      \u001b[32m+\u001b[0m \u001b[0m\u001b[1m\u001b[0mavailability_zone\u001b[0m\u001b[0m                              = \"us-west-1c\"\n",
      "      \u001b[32m+\u001b[0m \u001b[0m\u001b[1m\u001b[0mavailability_zone_id\u001b[0m\u001b[0m                           = (known after apply)\n",
      "      \u001b[32m+\u001b[0m \u001b[0m\u001b[1m\u001b[0mcidr_block\u001b[0m\u001b[0m                                     = \"192.168.101.0/24\"\n",
      "      \u001b[32m+\u001b[0m \u001b[0m\u001b[1m\u001b[0menable_dns64\u001b[0m\u001b[0m                                   = false\n",
      "      \u001b[32m+\u001b[0m \u001b[0m\u001b[1m\u001b[0menable_resource_name_dns_a_record_on_launch\u001b[0m\u001b[0m    = false\n",
      "      \u001b[32m+\u001b[0m \u001b[0m\u001b[1m\u001b[0menable_resource_name_dns_aaaa_record_on_launch\u001b[0m\u001b[0m = false\n",
      "      \u001b[32m+\u001b[0m \u001b[0m\u001b[1m\u001b[0mid\u001b[0m\u001b[0m                                             = (known after apply)\n",
      "      \u001b[32m+\u001b[0m \u001b[0m\u001b[1m\u001b[0mipv6_cidr_block_association_id\u001b[0m\u001b[0m                 = (known after apply)\n",
      "      \u001b[32m+\u001b[0m \u001b[0m\u001b[1m\u001b[0mipv6_native\u001b[0m\u001b[0m                                    = false\n",
      "      \u001b[32m+\u001b[0m \u001b[0m\u001b[1m\u001b[0mmap_public_ip_on_launch\u001b[0m\u001b[0m                        = false\n",
      "      \u001b[32m+\u001b[0m \u001b[0m\u001b[1m\u001b[0mowner_id\u001b[0m\u001b[0m                                       = (known after apply)\n",
      "      \u001b[32m+\u001b[0m \u001b[0m\u001b[1m\u001b[0mprivate_dns_hostname_type_on_launch\u001b[0m\u001b[0m            = (known after apply)\n",
      "      \u001b[32m+\u001b[0m \u001b[0m\u001b[1m\u001b[0mtags\u001b[0m\u001b[0m                                           = {\n",
      "          \u001b[32m+\u001b[0m \u001b[0m\"LabName\" = \"5.TerraformDataSources\"\n",
      "          \u001b[32m+\u001b[0m \u001b[0m\"Name\"    = \"subnet-2\"\n",
      "        }\n",
      "      \u001b[32m+\u001b[0m \u001b[0m\u001b[1m\u001b[0mtags_all\u001b[0m\u001b[0m                                       = {\n",
      "          \u001b[32m+\u001b[0m \u001b[0m\"LabName\" = \"5.TerraformDataSources\"\n",
      "          \u001b[32m+\u001b[0m \u001b[0m\"Name\"    = \"subnet-2\"\n",
      "        }\n",
      "      \u001b[32m+\u001b[0m \u001b[0m\u001b[1m\u001b[0mvpc_id\u001b[0m\u001b[0m                                         = (known after apply)\n",
      "    }\n",
      "\n",
      "\u001b[1m  # aws_subnet.vpc_subnets[2]\u001b[0m will be created\u001b[0m\u001b[0m\n",
      "\u001b[0m  \u001b[32m+\u001b[0m\u001b[0m resource \"aws_subnet\" \"vpc_subnets\" {\n",
      "      \u001b[32m+\u001b[0m \u001b[0m\u001b[1m\u001b[0marn\u001b[0m\u001b[0m                                            = (known after apply)\n",
      "      \u001b[32m+\u001b[0m \u001b[0m\u001b[1m\u001b[0massign_ipv6_address_on_creation\u001b[0m\u001b[0m                = false\n",
      "      \u001b[32m+\u001b[0m \u001b[0m\u001b[1m\u001b[0mavailability_zone\u001b[0m\u001b[0m                              = \"us-west-1b\"\n",
      "      \u001b[32m+\u001b[0m \u001b[0m\u001b[1m\u001b[0mavailability_zone_id\u001b[0m\u001b[0m                           = (known after apply)\n",
      "      \u001b[32m+\u001b[0m \u001b[0m\u001b[1m\u001b[0mcidr_block\u001b[0m\u001b[0m                                     = \"192.168.102.0/24\"\n",
      "      \u001b[32m+\u001b[0m \u001b[0m\u001b[1m\u001b[0menable_dns64\u001b[0m\u001b[0m                                   = false\n",
      "      \u001b[32m+\u001b[0m \u001b[0m\u001b[1m\u001b[0menable_resource_name_dns_a_record_on_launch\u001b[0m\u001b[0m    = false\n",
      "      \u001b[32m+\u001b[0m \u001b[0m\u001b[1m\u001b[0menable_resource_name_dns_aaaa_record_on_launch\u001b[0m\u001b[0m = false\n",
      "      \u001b[32m+\u001b[0m \u001b[0m\u001b[1m\u001b[0mid\u001b[0m\u001b[0m                                             = (known after apply)\n",
      "      \u001b[32m+\u001b[0m \u001b[0m\u001b[1m\u001b[0mipv6_cidr_block_association_id\u001b[0m\u001b[0m                 = (known after apply)\n",
      "      \u001b[32m+\u001b[0m \u001b[0m\u001b[1m\u001b[0mipv6_native\u001b[0m\u001b[0m                                    = false\n",
      "      \u001b[32m+\u001b[0m \u001b[0m\u001b[1m\u001b[0mmap_public_ip_on_launch\u001b[0m\u001b[0m                        = false\n",
      "      \u001b[32m+\u001b[0m \u001b[0m\u001b[1m\u001b[0mowner_id\u001b[0m\u001b[0m                                       = (known after apply)\n",
      "      \u001b[32m+\u001b[0m \u001b[0m\u001b[1m\u001b[0mprivate_dns_hostname_type_on_launch\u001b[0m\u001b[0m            = (known after apply)\n",
      "      \u001b[32m+\u001b[0m \u001b[0m\u001b[1m\u001b[0mtags\u001b[0m\u001b[0m                                           = {\n",
      "          \u001b[32m+\u001b[0m \u001b[0m\"LabName\" = \"5.TerraformDataSources\"\n",
      "          \u001b[32m+\u001b[0m \u001b[0m\"Name\"    = \"subnet-3\"\n",
      "        }\n",
      "      \u001b[32m+\u001b[0m \u001b[0m\u001b[1m\u001b[0mtags_all\u001b[0m\u001b[0m                                       = {\n",
      "          \u001b[32m+\u001b[0m \u001b[0m\"LabName\" = \"5.TerraformDataSources\"\n",
      "          \u001b[32m+\u001b[0m \u001b[0m\"Name\"    = \"subnet-3\"\n",
      "        }\n",
      "      \u001b[32m+\u001b[0m \u001b[0m\u001b[1m\u001b[0mvpc_id\u001b[0m\u001b[0m                                         = (known after apply)\n",
      "    }\n",
      "\n",
      "\u001b[1m  # aws_vpc.main_vpc\u001b[0m will be created\u001b[0m\u001b[0m\n",
      "\u001b[0m  \u001b[32m+\u001b[0m\u001b[0m resource \"aws_vpc\" \"main_vpc\" {\n",
      "      \u001b[32m+\u001b[0m \u001b[0m\u001b[1m\u001b[0marn\u001b[0m\u001b[0m                                  = (known after apply)\n",
      "      \u001b[32m+\u001b[0m \u001b[0m\u001b[1m\u001b[0mcidr_block\u001b[0m\u001b[0m                           = \"192.168.0.0/16\"\n",
      "      \u001b[32m+\u001b[0m \u001b[0m\u001b[1m\u001b[0mdefault_network_acl_id\u001b[0m\u001b[0m               = (known after apply)\n",
      "      \u001b[32m+\u001b[0m \u001b[0m\u001b[1m\u001b[0mdefault_route_table_id\u001b[0m\u001b[0m               = (known after apply)\n",
      "      \u001b[32m+\u001b[0m \u001b[0m\u001b[1m\u001b[0mdefault_security_group_id\u001b[0m\u001b[0m            = (known after apply)\n",
      "      \u001b[32m+\u001b[0m \u001b[0m\u001b[1m\u001b[0mdhcp_options_id\u001b[0m\u001b[0m                      = (known after apply)\n",
      "      \u001b[32m+\u001b[0m \u001b[0m\u001b[1m\u001b[0menable_classiclink\u001b[0m\u001b[0m                   = (known after apply)\n",
      "      \u001b[32m+\u001b[0m \u001b[0m\u001b[1m\u001b[0menable_classiclink_dns_support\u001b[0m\u001b[0m       = (known after apply)\n",
      "      \u001b[32m+\u001b[0m \u001b[0m\u001b[1m\u001b[0menable_dns_hostnames\u001b[0m\u001b[0m                 = (known after apply)\n",
      "      \u001b[32m+\u001b[0m \u001b[0m\u001b[1m\u001b[0menable_dns_support\u001b[0m\u001b[0m                   = true\n",
      "      \u001b[32m+\u001b[0m \u001b[0m\u001b[1m\u001b[0menable_network_address_usage_metrics\u001b[0m\u001b[0m = (known after apply)\n",
      "      \u001b[32m+\u001b[0m \u001b[0m\u001b[1m\u001b[0mid\u001b[0m\u001b[0m                                   = (known after apply)\n",
      "      \u001b[32m+\u001b[0m \u001b[0m\u001b[1m\u001b[0minstance_tenancy\u001b[0m\u001b[0m                     = \"default\"\n",
      "      \u001b[32m+\u001b[0m \u001b[0m\u001b[1m\u001b[0mipv6_association_id\u001b[0m\u001b[0m                  = (known after apply)\n",
      "      \u001b[32m+\u001b[0m \u001b[0m\u001b[1m\u001b[0mipv6_cidr_block\u001b[0m\u001b[0m                      = (known after apply)\n",
      "      \u001b[32m+\u001b[0m \u001b[0m\u001b[1m\u001b[0mipv6_cidr_block_network_border_group\u001b[0m\u001b[0m = (known after apply)\n",
      "      \u001b[32m+\u001b[0m \u001b[0m\u001b[1m\u001b[0mmain_route_table_id\u001b[0m\u001b[0m                  = (known after apply)\n",
      "      \u001b[32m+\u001b[0m \u001b[0m\u001b[1m\u001b[0mowner_id\u001b[0m\u001b[0m                             = (known after apply)\n"
     ]
    },
    {
     "name": "stdout",
     "output_type": "stream",
     "text": [
      "      \u001b[32m+\u001b[0m \u001b[0m\u001b[1m\u001b[0mtags\u001b[0m\u001b[0m                                 = {\n",
      "          \u001b[32m+\u001b[0m \u001b[0m\"LabName\"  = \"5.TerraformDataSources\"\n",
      "          \u001b[32m+\u001b[0m \u001b[0m\"Location\" = \"London\"\n",
      "          \u001b[32m+\u001b[0m \u001b[0m\"Name\"     = \"Main\"\n",
      "        }\n",
      "      \u001b[32m+\u001b[0m \u001b[0m\u001b[1m\u001b[0mtags_all\u001b[0m\u001b[0m                             = {\n",
      "          \u001b[32m+\u001b[0m \u001b[0m\"LabName\"  = \"5.TerraformDataSources\"\n",
      "          \u001b[32m+\u001b[0m \u001b[0m\"Location\" = \"London\"\n",
      "          \u001b[32m+\u001b[0m \u001b[0m\"Name\"     = \"Main\"\n",
      "        }\n",
      "    }\n",
      "\n",
      "\u001b[0m\u001b[1mPlan:\u001b[0m 4 to add, 0 to change, 0 to destroy.\n",
      "\u001b[0m\u001b[0m\n",
      "\u001b[1mChanges to Outputs:\u001b[0m\u001b[0m\n",
      "  \u001b[32m+\u001b[0m \u001b[0m\u001b[1m\u001b[0maazs\u001b[0m\u001b[0m = [\n",
      "      \u001b[32m+\u001b[0m \u001b[0m\"us-west-1b\",\n",
      "      \u001b[32m+\u001b[0m \u001b[0m\"us-west-1c\",\n",
      "    ]\n",
      "\u001b[90m\n",
      "───────────────────────────────────────────────────────────────────────────────\u001b[0m\n",
      "\n",
      "Note: You didn't use the -out option to save this plan, so Terraform can't\n",
      "guarantee to take exactly these actions if you run \"terraform apply\" now.\n"
     ]
    }
   ],
   "source": [
    "terraform plan"
   ]
  },
  {
   "cell_type": "markdown",
   "id": "induced-corner",
   "metadata": {},
   "source": [
    "\n",
    "### 7. Apply the configuration"
   ]
  },
  {
   "cell_type": "code",
   "execution_count": 13,
   "id": "eleven-description",
   "metadata": {
    "attributes": {
     "classes": [
      "sh"
     ],
     "id": ""
    },
    "scrolled": false
   },
   "outputs": [
    {
     "name": "stdout",
     "output_type": "stream",
     "text": [
      "\u001b[0m\u001b[1mdata.aws_availability_zones.aaz: Reading...\u001b[0m\u001b[0m\n",
      "\u001b[0m\u001b[1mdata.aws_availability_zones.aaz: Read complete after 1s [id=us-west-1]\u001b[0m\n",
      "\n",
      "Terraform used the selected providers to generate the following execution plan.\n",
      "Resource actions are indicated with the following symbols:\n",
      "  \u001b[32m+\u001b[0m create\n",
      "\u001b[0m\n",
      "Terraform will perform the following actions:\n",
      "\n",
      "\u001b[1m  # aws_subnet.vpc_subnets[0]\u001b[0m will be created\u001b[0m\u001b[0m\n",
      "\u001b[0m  \u001b[32m+\u001b[0m\u001b[0m resource \"aws_subnet\" \"vpc_subnets\" {\n",
      "      \u001b[32m+\u001b[0m \u001b[0m\u001b[1m\u001b[0marn\u001b[0m\u001b[0m                                            = (known after apply)\n",
      "      \u001b[32m+\u001b[0m \u001b[0m\u001b[1m\u001b[0massign_ipv6_address_on_creation\u001b[0m\u001b[0m                = false\n",
      "      \u001b[32m+\u001b[0m \u001b[0m\u001b[1m\u001b[0mavailability_zone\u001b[0m\u001b[0m                              = \"us-west-1b\"\n",
      "      \u001b[32m+\u001b[0m \u001b[0m\u001b[1m\u001b[0mavailability_zone_id\u001b[0m\u001b[0m                           = (known after apply)\n",
      "      \u001b[32m+\u001b[0m \u001b[0m\u001b[1m\u001b[0mcidr_block\u001b[0m\u001b[0m                                     = \"192.168.100.0/24\"\n",
      "      \u001b[32m+\u001b[0m \u001b[0m\u001b[1m\u001b[0menable_dns64\u001b[0m\u001b[0m                                   = false\n",
      "      \u001b[32m+\u001b[0m \u001b[0m\u001b[1m\u001b[0menable_resource_name_dns_a_record_on_launch\u001b[0m\u001b[0m    = false\n",
      "      \u001b[32m+\u001b[0m \u001b[0m\u001b[1m\u001b[0menable_resource_name_dns_aaaa_record_on_launch\u001b[0m\u001b[0m = false\n",
      "      \u001b[32m+\u001b[0m \u001b[0m\u001b[1m\u001b[0mid\u001b[0m\u001b[0m                                             = (known after apply)\n",
      "      \u001b[32m+\u001b[0m \u001b[0m\u001b[1m\u001b[0mipv6_cidr_block_association_id\u001b[0m\u001b[0m                 = (known after apply)\n",
      "      \u001b[32m+\u001b[0m \u001b[0m\u001b[1m\u001b[0mipv6_native\u001b[0m\u001b[0m                                    = false\n",
      "      \u001b[32m+\u001b[0m \u001b[0m\u001b[1m\u001b[0mmap_public_ip_on_launch\u001b[0m\u001b[0m                        = false\n",
      "      \u001b[32m+\u001b[0m \u001b[0m\u001b[1m\u001b[0mowner_id\u001b[0m\u001b[0m                                       = (known after apply)\n",
      "      \u001b[32m+\u001b[0m \u001b[0m\u001b[1m\u001b[0mprivate_dns_hostname_type_on_launch\u001b[0m\u001b[0m            = (known after apply)\n",
      "      \u001b[32m+\u001b[0m \u001b[0m\u001b[1m\u001b[0mtags\u001b[0m\u001b[0m                                           = {\n",
      "          \u001b[32m+\u001b[0m \u001b[0m\"LabName\" = \"5.TerraformDataSources\"\n",
      "          \u001b[32m+\u001b[0m \u001b[0m\"Name\"    = \"subnet-1\"\n",
      "        }\n",
      "      \u001b[32m+\u001b[0m \u001b[0m\u001b[1m\u001b[0mtags_all\u001b[0m\u001b[0m                                       = {\n",
      "          \u001b[32m+\u001b[0m \u001b[0m\"LabName\" = \"5.TerraformDataSources\"\n",
      "          \u001b[32m+\u001b[0m \u001b[0m\"Name\"    = \"subnet-1\"\n",
      "        }\n",
      "      \u001b[32m+\u001b[0m \u001b[0m\u001b[1m\u001b[0mvpc_id\u001b[0m\u001b[0m                                         = (known after apply)\n",
      "    }\n",
      "\n",
      "\u001b[1m  # aws_subnet.vpc_subnets[1]\u001b[0m will be created\u001b[0m\u001b[0m\n",
      "\u001b[0m  \u001b[32m+\u001b[0m\u001b[0m resource \"aws_subnet\" \"vpc_subnets\" {\n",
      "      \u001b[32m+\u001b[0m \u001b[0m\u001b[1m\u001b[0marn\u001b[0m\u001b[0m                                            = (known after apply)\n",
      "      \u001b[32m+\u001b[0m \u001b[0m\u001b[1m\u001b[0massign_ipv6_address_on_creation\u001b[0m\u001b[0m                = false\n",
      "      \u001b[32m+\u001b[0m \u001b[0m\u001b[1m\u001b[0mavailability_zone\u001b[0m\u001b[0m                              = \"us-west-1c\"\n",
      "      \u001b[32m+\u001b[0m \u001b[0m\u001b[1m\u001b[0mavailability_zone_id\u001b[0m\u001b[0m                           = (known after apply)\n",
      "      \u001b[32m+\u001b[0m \u001b[0m\u001b[1m\u001b[0mcidr_block\u001b[0m\u001b[0m                                     = \"192.168.101.0/24\"\n",
      "      \u001b[32m+\u001b[0m \u001b[0m\u001b[1m\u001b[0menable_dns64\u001b[0m\u001b[0m                                   = false\n",
      "      \u001b[32m+\u001b[0m \u001b[0m\u001b[1m\u001b[0menable_resource_name_dns_a_record_on_launch\u001b[0m\u001b[0m    = false\n",
      "      \u001b[32m+\u001b[0m \u001b[0m\u001b[1m\u001b[0menable_resource_name_dns_aaaa_record_on_launch\u001b[0m\u001b[0m = false\n",
      "      \u001b[32m+\u001b[0m \u001b[0m\u001b[1m\u001b[0mid\u001b[0m\u001b[0m                                             = (known after apply)\n",
      "      \u001b[32m+\u001b[0m \u001b[0m\u001b[1m\u001b[0mipv6_cidr_block_association_id\u001b[0m\u001b[0m                 = (known after apply)\n",
      "      \u001b[32m+\u001b[0m \u001b[0m\u001b[1m\u001b[0mipv6_native\u001b[0m\u001b[0m                                    = false\n",
      "      \u001b[32m+\u001b[0m \u001b[0m\u001b[1m\u001b[0mmap_public_ip_on_launch\u001b[0m\u001b[0m                        = false\n",
      "      \u001b[32m+\u001b[0m \u001b[0m\u001b[1m\u001b[0mowner_id\u001b[0m\u001b[0m                                       = (known after apply)\n",
      "      \u001b[32m+\u001b[0m \u001b[0m\u001b[1m\u001b[0mprivate_dns_hostname_type_on_launch\u001b[0m\u001b[0m            = (known after apply)\n",
      "      \u001b[32m+\u001b[0m \u001b[0m\u001b[1m\u001b[0mtags\u001b[0m\u001b[0m                                           = {\n",
      "          \u001b[32m+\u001b[0m \u001b[0m\"LabName\" = \"5.TerraformDataSources\"\n",
      "          \u001b[32m+\u001b[0m \u001b[0m\"Name\"    = \"subnet-2\"\n",
      "        }\n",
      "      \u001b[32m+\u001b[0m \u001b[0m\u001b[1m\u001b[0mtags_all\u001b[0m\u001b[0m                                       = {\n",
      "          \u001b[32m+\u001b[0m \u001b[0m\"LabName\" = \"5.TerraformDataSources\"\n",
      "          \u001b[32m+\u001b[0m \u001b[0m\"Name\"    = \"subnet-2\"\n",
      "        }\n",
      "      \u001b[32m+\u001b[0m \u001b[0m\u001b[1m\u001b[0mvpc_id\u001b[0m\u001b[0m                                         = (known after apply)\n",
      "    }\n",
      "\n",
      "\u001b[1m  # aws_subnet.vpc_subnets[2]\u001b[0m will be created\u001b[0m\u001b[0m\n",
      "\u001b[0m  \u001b[32m+\u001b[0m\u001b[0m resource \"aws_subnet\" \"vpc_subnets\" {\n",
      "      \u001b[32m+\u001b[0m \u001b[0m\u001b[1m\u001b[0marn\u001b[0m\u001b[0m                                            = (known after apply)\n",
      "      \u001b[32m+\u001b[0m \u001b[0m\u001b[1m\u001b[0massign_ipv6_address_on_creation\u001b[0m\u001b[0m                = false\n",
      "      \u001b[32m+\u001b[0m \u001b[0m\u001b[1m\u001b[0mavailability_zone\u001b[0m\u001b[0m                              = \"us-west-1b\"\n",
      "      \u001b[32m+\u001b[0m \u001b[0m\u001b[1m\u001b[0mavailability_zone_id\u001b[0m\u001b[0m                           = (known after apply)\n",
      "      \u001b[32m+\u001b[0m \u001b[0m\u001b[1m\u001b[0mcidr_block\u001b[0m\u001b[0m                                     = \"192.168.102.0/24\"\n",
      "      \u001b[32m+\u001b[0m \u001b[0m\u001b[1m\u001b[0menable_dns64\u001b[0m\u001b[0m                                   = false\n",
      "      \u001b[32m+\u001b[0m \u001b[0m\u001b[1m\u001b[0menable_resource_name_dns_a_record_on_launch\u001b[0m\u001b[0m    = false\n",
      "      \u001b[32m+\u001b[0m \u001b[0m\u001b[1m\u001b[0menable_resource_name_dns_aaaa_record_on_launch\u001b[0m\u001b[0m = false\n",
      "      \u001b[32m+\u001b[0m \u001b[0m\u001b[1m\u001b[0mid\u001b[0m\u001b[0m                                             = (known after apply)\n",
      "      \u001b[32m+\u001b[0m \u001b[0m\u001b[1m\u001b[0mipv6_cidr_block_association_id\u001b[0m\u001b[0m                 = (known after apply)\n",
      "      \u001b[32m+\u001b[0m \u001b[0m\u001b[1m\u001b[0mipv6_native\u001b[0m\u001b[0m                                    = false\n",
      "      \u001b[32m+\u001b[0m \u001b[0m\u001b[1m\u001b[0mmap_public_ip_on_launch\u001b[0m\u001b[0m                        = false\n",
      "      \u001b[32m+\u001b[0m \u001b[0m\u001b[1m\u001b[0mowner_id\u001b[0m\u001b[0m                                       = (known after apply)\n",
      "      \u001b[32m+\u001b[0m \u001b[0m\u001b[1m\u001b[0mprivate_dns_hostname_type_on_launch\u001b[0m\u001b[0m            = (known after apply)\n",
      "      \u001b[32m+\u001b[0m \u001b[0m\u001b[1m\u001b[0mtags\u001b[0m\u001b[0m                                           = {\n",
      "          \u001b[32m+\u001b[0m \u001b[0m\"LabName\" = \"5.TerraformDataSources\"\n",
      "          \u001b[32m+\u001b[0m \u001b[0m\"Name\"    = \"subnet-3\"\n",
      "        }\n",
      "      \u001b[32m+\u001b[0m \u001b[0m\u001b[1m\u001b[0mtags_all\u001b[0m\u001b[0m                                       = {\n",
      "          \u001b[32m+\u001b[0m \u001b[0m\"LabName\" = \"5.TerraformDataSources\"\n",
      "          \u001b[32m+\u001b[0m \u001b[0m\"Name\"    = \"subnet-3\"\n",
      "        }\n",
      "      \u001b[32m+\u001b[0m \u001b[0m\u001b[1m\u001b[0mvpc_id\u001b[0m\u001b[0m                                         = (known after apply)\n",
      "    }\n",
      "\n",
      "\u001b[1m  # aws_vpc.main_vpc\u001b[0m will be created\u001b[0m\u001b[0m\n",
      "\u001b[0m  \u001b[32m+\u001b[0m\u001b[0m resource \"aws_vpc\" \"main_vpc\" {\n",
      "      \u001b[32m+\u001b[0m \u001b[0m\u001b[1m\u001b[0marn\u001b[0m\u001b[0m                                  = (known after apply)\n",
      "      \u001b[32m+\u001b[0m \u001b[0m\u001b[1m\u001b[0mcidr_block\u001b[0m\u001b[0m                           = \"192.168.0.0/16\"\n",
      "      \u001b[32m+\u001b[0m \u001b[0m\u001b[1m\u001b[0mdefault_network_acl_id\u001b[0m\u001b[0m               = (known after apply)\n",
      "      \u001b[32m+\u001b[0m \u001b[0m\u001b[1m\u001b[0mdefault_route_table_id\u001b[0m\u001b[0m               = (known after apply)\n",
      "      \u001b[32m+\u001b[0m \u001b[0m\u001b[1m\u001b[0mdefault_security_group_id\u001b[0m\u001b[0m            = (known after apply)\n",
      "      \u001b[32m+\u001b[0m \u001b[0m\u001b[1m\u001b[0mdhcp_options_id\u001b[0m\u001b[0m                      = (known after apply)\n",
      "      \u001b[32m+\u001b[0m \u001b[0m\u001b[1m\u001b[0menable_classiclink\u001b[0m\u001b[0m                   = (known after apply)\n",
      "      \u001b[32m+\u001b[0m \u001b[0m\u001b[1m\u001b[0menable_classiclink_dns_support\u001b[0m\u001b[0m       = (known after apply)\n",
      "      \u001b[32m+\u001b[0m \u001b[0m\u001b[1m\u001b[0menable_dns_hostnames\u001b[0m\u001b[0m                 = (known after apply)\n",
      "      \u001b[32m+\u001b[0m \u001b[0m\u001b[1m\u001b[0menable_dns_support\u001b[0m\u001b[0m                   = true\n",
      "      \u001b[32m+\u001b[0m \u001b[0m\u001b[1m\u001b[0menable_network_address_usage_metrics\u001b[0m\u001b[0m = (known after apply)\n",
      "      \u001b[32m+\u001b[0m \u001b[0m\u001b[1m\u001b[0mid\u001b[0m\u001b[0m                                   = (known after apply)\n",
      "      \u001b[32m+\u001b[0m \u001b[0m\u001b[1m\u001b[0minstance_tenancy\u001b[0m\u001b[0m                     = \"default\"\n",
      "      \u001b[32m+\u001b[0m \u001b[0m\u001b[1m\u001b[0mipv6_association_id\u001b[0m\u001b[0m                  = (known after apply)\n",
      "      \u001b[32m+\u001b[0m \u001b[0m\u001b[1m\u001b[0mipv6_cidr_block\u001b[0m\u001b[0m                      = (known after apply)\n",
      "      \u001b[32m+\u001b[0m \u001b[0m\u001b[1m\u001b[0mipv6_cidr_block_network_border_group\u001b[0m\u001b[0m = (known after apply)\n",
      "      \u001b[32m+\u001b[0m \u001b[0m\u001b[1m\u001b[0mmain_route_table_id\u001b[0m\u001b[0m                  = (known after apply)\n",
      "      \u001b[32m+\u001b[0m \u001b[0m\u001b[1m\u001b[0mowner_id\u001b[0m\u001b[0m                             = (known after apply)\n"
     ]
    },
    {
     "name": "stdout",
     "output_type": "stream",
     "text": [
      "      \u001b[32m+\u001b[0m \u001b[0m\u001b[1m\u001b[0mtags\u001b[0m\u001b[0m                                 = {\n",
      "          \u001b[32m+\u001b[0m \u001b[0m\"LabName\"  = \"5.TerraformDataSources\"\n",
      "          \u001b[32m+\u001b[0m \u001b[0m\"Location\" = \"London\"\n",
      "          \u001b[32m+\u001b[0m \u001b[0m\"Name\"     = \"Main\"\n",
      "        }\n",
      "      \u001b[32m+\u001b[0m \u001b[0m\u001b[1m\u001b[0mtags_all\u001b[0m\u001b[0m                             = {\n",
      "          \u001b[32m+\u001b[0m \u001b[0m\"LabName\"  = \"5.TerraformDataSources\"\n",
      "          \u001b[32m+\u001b[0m \u001b[0m\"Location\" = \"London\"\n",
      "          \u001b[32m+\u001b[0m \u001b[0m\"Name\"     = \"Main\"\n",
      "        }\n",
      "    }\n",
      "\n",
      "\u001b[0m\u001b[1mPlan:\u001b[0m 4 to add, 0 to change, 0 to destroy.\n",
      "\u001b[0m\u001b[0m\n",
      "\u001b[1mChanges to Outputs:\u001b[0m\u001b[0m\n",
      "  \u001b[32m+\u001b[0m \u001b[0m\u001b[1m\u001b[0maazs\u001b[0m\u001b[0m = [\n",
      "      \u001b[32m+\u001b[0m \u001b[0m\"us-west-1b\",\n",
      "      \u001b[32m+\u001b[0m \u001b[0m\"us-west-1c\",\n",
      "    ]\n",
      "\u001b[0m\u001b[1maws_vpc.main_vpc: Creating...\u001b[0m\u001b[0m\n",
      "\u001b[0m\u001b[1maws_vpc.main_vpc: Creation complete after 3s [id=vpc-075666587b30dc7c7]\u001b[0m\n",
      "\u001b[0m\u001b[1maws_subnet.vpc_subnets[1]: Creating...\u001b[0m\u001b[0m\n",
      "\u001b[0m\u001b[1maws_subnet.vpc_subnets[2]: Creating...\u001b[0m\u001b[0m\n",
      "\u001b[0m\u001b[1maws_subnet.vpc_subnets[0]: Creating...\u001b[0m\u001b[0m\n",
      "\u001b[0m\u001b[1maws_subnet.vpc_subnets[1]: Creation complete after 2s [id=subnet-052095bbbc7de838f]\u001b[0m\n",
      "\u001b[0m\u001b[1maws_subnet.vpc_subnets[0]: Creation complete after 2s [id=subnet-0401a56d620806ee4]\u001b[0m\n",
      "\u001b[0m\u001b[1maws_subnet.vpc_subnets[2]: Creation complete after 2s [id=subnet-0ecaa7f2931d95631]\u001b[0m\n",
      "\u001b[0m\u001b[1m\u001b[32m\n",
      "Apply complete! Resources: 4 added, 0 changed, 0 destroyed.\n",
      "\u001b[0m\u001b[0m\u001b[1m\u001b[32m\n",
      "Outputs:\n",
      "\n",
      "\u001b[0maazs = tolist([\n",
      "  \"us-west-1b\",\n",
      "  \"us-west-1c\",\n",
      "])\n"
     ]
    }
   ],
   "source": [
    "TF_APPLY"
   ]
  },
  {
   "cell_type": "markdown",
   "id": "46e711c6",
   "metadata": {},
   "source": [
    "### 8. The configuration when visualized should look like\n",
    "\n",
    "<div>\n",
    "    <object data=\"graph.svg\" type=\"image/svg+xml\">\n",
    "    </object>\n",
    "</div>\n",
    "\n",
    "<img src=\"graph.svg\" />\n",
    "\n",
    "#### Viewing your terraform.tfstate file as a graph\n",
    "\n",
    "**Note:** Remember that you **once you have applied this config** can obtain a representation of this graph using the ```terraform graph``` command which you can copy into the web site https://dreampuf.github.io/GraphvizOnline/\n",
    "\n",
    "The output of ```terraform graph``` should look something like:\n",
    "```\n",
    "digraph {\n",
    "        compound = \"true\"\n",
    "        newrank = \"true\"\n",
    "        subgraph \"root\" {\n",
    "                \"[root] aws_subnet.vpc_subnets (expand)\" [label = \"aws_subnet.vpc_subnets\", shape = \"box\"]\n",
    "                \"[root] aws_vpc.main_vpc (expand)\" [label = \"aws_vpc.main_vpc\", shape = \"box\"]\n",
    "                \"[root] data.aws_availability_zones.aaz (expand)\" [label = \"data.aws_availability_zones.aaz\", shape = \"box\"]\n",
    "                \"[root] output.aazs\" [label = \"output.aazs\", shape = \"note\"]\n",
    "                \"[root] provider[\\\"registry.terraform.io/hashicorp/aws\\\"]\" [label = \"provider[\\\"registry.terraform.io/hashicorp/aws\\\"]\", shape = \"diamond\"]\n",
    "                \"[root] var.ami_instance\" [label = \"var.ami_instance\", shape = \"note\"]\n",
    "                \"[root] var.instance_type\" [label = \"var.instance_type\", shape = \"note\"]\n",
    "                \"[root] var.region\" [label = \"var.region\", shape = \"note\"]\n",
    "                \"[root] var.vpc_cidr\" [label = \"var.vpc_cidr\", shape = \"note\"]\n",
    "                \"[root] var.vpc_subnet_cidr\" [label = \"var.vpc_subnet_cidr\", shape = \"note\"]\n",
    "                \"[root] aws_subnet.vpc_subnets (expand)\" -> \"[root] aws_vpc.main_vpc (expand)\"\n",
    "                \"[root] aws_subnet.vpc_subnets (expand)\" -> \"[root] data.aws_availability_zones.aaz (expand)\"\n",
    "                \"[root] aws_subnet.vpc_subnets (expand)\" -> \"[root] var.vpc_subnet_cidr\"\n",
    "                \"[root] aws_vpc.main_vpc (expand)\" -> \"[root] provider[\\\"registry.terraform.io/hashicorp/aws\\\"]\"\n",
    "                \"[root] aws_vpc.main_vpc (expand)\" -> \"[root] var.vpc_cidr\"\n",
    "                \"[root] data.aws_availability_zones.aaz (expand)\" -> \"[root] provider[\\\"registry.terraform.io/hashicorp/aws\\\"]\"\n",
    "                \"[root] meta.count-boundary (EachMode fixup)\" -> \"[root] aws_subnet.vpc_subnets (expand)\"\n",
    "                \"[root] meta.count-boundary (EachMode fixup)\" -> \"[root] output.aazs\"\n",
    "                \"[root] meta.count-boundary (EachMode fixup)\" -> \"[root] var.ami_instance\"\n",
    "                \"[root] meta.count-boundary (EachMode fixup)\" -> \"[root] var.instance_type\"\n",
    "                \"[root] output.aazs\" -> \"[root] data.aws_availability_zones.aaz (expand)\"\n",
    "                \"[root] provider[\\\"registry.terraform.io/hashicorp/aws\\\"] (close)\" -> \"[root] aws_subnet.vpc_subnets (expand)\"\n",
    "                \"[root] provider[\\\"registry.terraform.io/hashicorp/aws\\\"]\" -> \"[root] var.region\"\n",
    "                \"[root] root\" -> \"[root] meta.count-boundary (EachMode fixup)\"\n",
    "                \"[root] root\" -> \"[root] provider[\\\"registry.terraform.io/hashicorp/aws\\\"] (close)\"\n",
    "        }\n",
    "}\n",
    "```"
   ]
  },
  {
   "cell_type": "markdown",
   "id": "sonic-cargo",
   "metadata": {},
   "source": [
    "When this config is applied AWS will create a VPC, with 3 subnets which will be assigned to one of the availability zones for the specified region."
   ]
  },
  {
   "cell_type": "markdown",
   "id": "0555ba6b",
   "metadata": {},
   "source": [
    "### Stretch goal\n",
    "\n",
    "Modify the code to\n",
    "\n",
    "- use array indexed notation ```array[index]``` rather than using the ```element()``` function\n",
    "- use modulo arithmetic (A % N) so that if only 2 availability zones are present, the 3rd subnet will use the 0th aaz\n",
    "- extend the variable to include a 4th subnet to check that the resulting config changes\n",
    "- create an *aws_instance* for each subnet, connect to that machine\n"
   ]
  },
  {
   "cell_type": "markdown",
   "id": "daily-sentence",
   "metadata": {},
   "source": [
    "**Hint:** use locals\n",
    "\n",
    "To simplify individual lines you can use \"*local* variables, e.g. create local variables for aaz_names and num_aaz and use these in your resource definitions\n",
    "\n",
    "Note: locals blocks look like:\n",
    "\n",
    "```\n",
    "locals {\n",
    "    aaz_names       = ... for you to fill in ...\n",
    "    num_vpc_subnets = ... for you to fill in ...\n",
    "}  \n",
    "```\n",
    "\n",
    "which can then be referenced as ```local.aaz-names``` and ```local.num_vpc_subnets```\n",
    "\n",
    "This will help to make your code more readable\n",
    "\n",
    "The solution is available in the https://github.com/mjbright/tf-scenarios repository - **but have a try yourself first ... !!**\n"
   ]
  },
  {
   "cell_type": "code",
   "execution_count": 14,
   "id": "incoming-notice",
   "metadata": {},
   "outputs": [],
   "source": [
    "#EXCLUDE:\n",
    "\n",
    "#TODO\n",
    "\n",
    "#NOTE: requires updating\n",
    "#-> remove use of element() function !!\n",
    "#-> use modular arithmetic"
   ]
  },
  {
   "cell_type": "markdown",
   "id": "d61db9ad",
   "metadata": {},
   "source": [
    "### 9. Cleanup\n",
    "\n",
    "#### Investigating the terraform.tfstate files before & after running *terraform destroy*\n",
    "\n",
    "Before we destroy our configuration first investigate the terraform.tfstate and it's backup file terraform.tfstate.backup\n",
    "\n",
    "#### Cleanup the resources from this config before proceding to the next step\n",
    "\n"
   ]
  },
  {
   "cell_type": "code",
   "execution_count": 18,
   "id": "17e7f7ef",
   "metadata": {},
   "outputs": [
    {
     "name": "stdout",
     "output_type": "stream",
     "text": [
      "\u001b[0m\u001b[1mdata.aws_availability_zones.aaz: Reading...\u001b[0m\u001b[0m\n",
      "\u001b[0m\u001b[1maws_vpc.main_vpc: Refreshing state... [id=vpc-075666587b30dc7c7]\u001b[0m\n",
      "\u001b[0m\u001b[1mdata.aws_availability_zones.aaz: Read complete after 0s [id=us-west-1]\u001b[0m\n",
      "\u001b[0m\u001b[1maws_subnet.vpc_subnets[2]: Refreshing state... [id=subnet-0ecaa7f2931d95631]\u001b[0m\n",
      "\u001b[0m\u001b[1maws_subnet.vpc_subnets[0]: Refreshing state... [id=subnet-0401a56d620806ee4]\u001b[0m\n",
      "\u001b[0m\u001b[1maws_subnet.vpc_subnets[1]: Refreshing state... [id=subnet-052095bbbc7de838f]\u001b[0m\n",
      "\n",
      "Terraform used the selected providers to generate the following execution plan.\n",
      "Resource actions are indicated with the following symbols:\n",
      "  \u001b[31m-\u001b[0m destroy\n",
      "\u001b[0m\n",
      "Terraform will perform the following actions:\n",
      "\n",
      "\u001b[1m  # aws_subnet.vpc_subnets[0]\u001b[0m will be \u001b[1m\u001b[31mdestroyed\u001b[0m\u001b[0m\n",
      "\u001b[0m  \u001b[31m-\u001b[0m\u001b[0m resource \"aws_subnet\" \"vpc_subnets\" {\n",
      "      \u001b[31m-\u001b[0m \u001b[0m\u001b[1m\u001b[0marn\u001b[0m\u001b[0m                                            = \"arn:aws:ec2:us-west-1:816376574968:subnet/subnet-0401a56d620806ee4\" \u001b[90m->\u001b[0m \u001b[0m\u001b[90mnull\u001b[0m\u001b[0m\n",
      "      \u001b[31m-\u001b[0m \u001b[0m\u001b[1m\u001b[0massign_ipv6_address_on_creation\u001b[0m\u001b[0m                = false \u001b[90m->\u001b[0m \u001b[0m\u001b[90mnull\u001b[0m\u001b[0m\n",
      "      \u001b[31m-\u001b[0m \u001b[0m\u001b[1m\u001b[0mavailability_zone\u001b[0m\u001b[0m                              = \"us-west-1b\" \u001b[90m->\u001b[0m \u001b[0m\u001b[90mnull\u001b[0m\u001b[0m\n",
      "      \u001b[31m-\u001b[0m \u001b[0m\u001b[1m\u001b[0mavailability_zone_id\u001b[0m\u001b[0m                           = \"usw1-az3\" \u001b[90m->\u001b[0m \u001b[0m\u001b[90mnull\u001b[0m\u001b[0m\n",
      "      \u001b[31m-\u001b[0m \u001b[0m\u001b[1m\u001b[0mcidr_block\u001b[0m\u001b[0m                                     = \"192.168.100.0/24\" \u001b[90m->\u001b[0m \u001b[0m\u001b[90mnull\u001b[0m\u001b[0m\n",
      "      \u001b[31m-\u001b[0m \u001b[0m\u001b[1m\u001b[0menable_dns64\u001b[0m\u001b[0m                                   = false \u001b[90m->\u001b[0m \u001b[0m\u001b[90mnull\u001b[0m\u001b[0m\n",
      "      \u001b[31m-\u001b[0m \u001b[0m\u001b[1m\u001b[0menable_resource_name_dns_a_record_on_launch\u001b[0m\u001b[0m    = false \u001b[90m->\u001b[0m \u001b[0m\u001b[90mnull\u001b[0m\u001b[0m\n",
      "      \u001b[31m-\u001b[0m \u001b[0m\u001b[1m\u001b[0menable_resource_name_dns_aaaa_record_on_launch\u001b[0m\u001b[0m = false \u001b[90m->\u001b[0m \u001b[0m\u001b[90mnull\u001b[0m\u001b[0m\n",
      "      \u001b[31m-\u001b[0m \u001b[0m\u001b[1m\u001b[0mid\u001b[0m\u001b[0m                                             = \"subnet-0401a56d620806ee4\" \u001b[90m->\u001b[0m \u001b[0m\u001b[90mnull\u001b[0m\u001b[0m\n",
      "      \u001b[31m-\u001b[0m \u001b[0m\u001b[1m\u001b[0mipv6_native\u001b[0m\u001b[0m                                    = false \u001b[90m->\u001b[0m \u001b[0m\u001b[90mnull\u001b[0m\u001b[0m\n",
      "      \u001b[31m-\u001b[0m \u001b[0m\u001b[1m\u001b[0mmap_customer_owned_ip_on_launch\u001b[0m\u001b[0m                = false \u001b[90m->\u001b[0m \u001b[0m\u001b[90mnull\u001b[0m\u001b[0m\n",
      "      \u001b[31m-\u001b[0m \u001b[0m\u001b[1m\u001b[0mmap_public_ip_on_launch\u001b[0m\u001b[0m                        = false \u001b[90m->\u001b[0m \u001b[0m\u001b[90mnull\u001b[0m\u001b[0m\n",
      "      \u001b[31m-\u001b[0m \u001b[0m\u001b[1m\u001b[0mowner_id\u001b[0m\u001b[0m                                       = \"816376574968\" \u001b[90m->\u001b[0m \u001b[0m\u001b[90mnull\u001b[0m\u001b[0m\n",
      "      \u001b[31m-\u001b[0m \u001b[0m\u001b[1m\u001b[0mprivate_dns_hostname_type_on_launch\u001b[0m\u001b[0m            = \"ip-name\" \u001b[90m->\u001b[0m \u001b[0m\u001b[90mnull\u001b[0m\u001b[0m\n",
      "      \u001b[31m-\u001b[0m \u001b[0m\u001b[1m\u001b[0mtags\u001b[0m\u001b[0m                                           = {\n",
      "          \u001b[31m-\u001b[0m \u001b[0m\"LabName\" = \"5.TerraformDataSources\"\n",
      "          \u001b[31m-\u001b[0m \u001b[0m\"Name\"    = \"subnet-1\"\n",
      "        } \u001b[90m->\u001b[0m \u001b[0m\u001b[90mnull\u001b[0m\u001b[0m\n",
      "      \u001b[31m-\u001b[0m \u001b[0m\u001b[1m\u001b[0mtags_all\u001b[0m\u001b[0m                                       = {\n",
      "          \u001b[31m-\u001b[0m \u001b[0m\"LabName\" = \"5.TerraformDataSources\"\n",
      "          \u001b[31m-\u001b[0m \u001b[0m\"Name\"    = \"subnet-1\"\n",
      "        } \u001b[90m->\u001b[0m \u001b[0m\u001b[90mnull\u001b[0m\u001b[0m\n",
      "      \u001b[31m-\u001b[0m \u001b[0m\u001b[1m\u001b[0mvpc_id\u001b[0m\u001b[0m                                         = \"vpc-075666587b30dc7c7\" \u001b[90m->\u001b[0m \u001b[0m\u001b[90mnull\u001b[0m\u001b[0m\n",
      "    }\n",
      "\n",
      "\u001b[1m  # aws_subnet.vpc_subnets[1]\u001b[0m will be \u001b[1m\u001b[31mdestroyed\u001b[0m\u001b[0m\n",
      "\u001b[0m  \u001b[31m-\u001b[0m\u001b[0m resource \"aws_subnet\" \"vpc_subnets\" {\n",
      "      \u001b[31m-\u001b[0m \u001b[0m\u001b[1m\u001b[0marn\u001b[0m\u001b[0m                                            = \"arn:aws:ec2:us-west-1:816376574968:subnet/subnet-052095bbbc7de838f\" \u001b[90m->\u001b[0m \u001b[0m\u001b[90mnull\u001b[0m\u001b[0m\n",
      "      \u001b[31m-\u001b[0m \u001b[0m\u001b[1m\u001b[0massign_ipv6_address_on_creation\u001b[0m\u001b[0m                = false \u001b[90m->\u001b[0m \u001b[0m\u001b[90mnull\u001b[0m\u001b[0m\n",
      "      \u001b[31m-\u001b[0m \u001b[0m\u001b[1m\u001b[0mavailability_zone\u001b[0m\u001b[0m                              = \"us-west-1c\" \u001b[90m->\u001b[0m \u001b[0m\u001b[90mnull\u001b[0m\u001b[0m\n",
      "      \u001b[31m-\u001b[0m \u001b[0m\u001b[1m\u001b[0mavailability_zone_id\u001b[0m\u001b[0m                           = \"usw1-az1\" \u001b[90m->\u001b[0m \u001b[0m\u001b[90mnull\u001b[0m\u001b[0m\n",
      "      \u001b[31m-\u001b[0m \u001b[0m\u001b[1m\u001b[0mcidr_block\u001b[0m\u001b[0m                                     = \"192.168.101.0/24\" \u001b[90m->\u001b[0m \u001b[0m\u001b[90mnull\u001b[0m\u001b[0m\n",
      "      \u001b[31m-\u001b[0m \u001b[0m\u001b[1m\u001b[0menable_dns64\u001b[0m\u001b[0m                                   = false \u001b[90m->\u001b[0m \u001b[0m\u001b[90mnull\u001b[0m\u001b[0m\n",
      "      \u001b[31m-\u001b[0m \u001b[0m\u001b[1m\u001b[0menable_resource_name_dns_a_record_on_launch\u001b[0m\u001b[0m    = false \u001b[90m->\u001b[0m \u001b[0m\u001b[90mnull\u001b[0m\u001b[0m\n",
      "      \u001b[31m-\u001b[0m \u001b[0m\u001b[1m\u001b[0menable_resource_name_dns_aaaa_record_on_launch\u001b[0m\u001b[0m = false \u001b[90m->\u001b[0m \u001b[0m\u001b[90mnull\u001b[0m\u001b[0m\n",
      "      \u001b[31m-\u001b[0m \u001b[0m\u001b[1m\u001b[0mid\u001b[0m\u001b[0m                                             = \"subnet-052095bbbc7de838f\" \u001b[90m->\u001b[0m \u001b[0m\u001b[90mnull\u001b[0m\u001b[0m\n",
      "      \u001b[31m-\u001b[0m \u001b[0m\u001b[1m\u001b[0mipv6_native\u001b[0m\u001b[0m                                    = false \u001b[90m->\u001b[0m \u001b[0m\u001b[90mnull\u001b[0m\u001b[0m\n",
      "      \u001b[31m-\u001b[0m \u001b[0m\u001b[1m\u001b[0mmap_customer_owned_ip_on_launch\u001b[0m\u001b[0m                = false \u001b[90m->\u001b[0m \u001b[0m\u001b[90mnull\u001b[0m\u001b[0m\n",
      "      \u001b[31m-\u001b[0m \u001b[0m\u001b[1m\u001b[0mmap_public_ip_on_launch\u001b[0m\u001b[0m                        = false \u001b[90m->\u001b[0m \u001b[0m\u001b[90mnull\u001b[0m\u001b[0m\n",
      "      \u001b[31m-\u001b[0m \u001b[0m\u001b[1m\u001b[0mowner_id\u001b[0m\u001b[0m                                       = \"816376574968\" \u001b[90m->\u001b[0m \u001b[0m\u001b[90mnull\u001b[0m\u001b[0m\n",
      "      \u001b[31m-\u001b[0m \u001b[0m\u001b[1m\u001b[0mprivate_dns_hostname_type_on_launch\u001b[0m\u001b[0m            = \"ip-name\" \u001b[90m->\u001b[0m \u001b[0m\u001b[90mnull\u001b[0m\u001b[0m\n",
      "      \u001b[31m-\u001b[0m \u001b[0m\u001b[1m\u001b[0mtags\u001b[0m\u001b[0m                                           = {\n",
      "          \u001b[31m-\u001b[0m \u001b[0m\"LabName\" = \"5.TerraformDataSources\"\n",
      "          \u001b[31m-\u001b[0m \u001b[0m\"Name\"    = \"subnet-2\"\n",
      "        } \u001b[90m->\u001b[0m \u001b[0m\u001b[90mnull\u001b[0m\u001b[0m\n",
      "      \u001b[31m-\u001b[0m \u001b[0m\u001b[1m\u001b[0mtags_all\u001b[0m\u001b[0m                                       = {\n",
      "          \u001b[31m-\u001b[0m \u001b[0m\"LabName\" = \"5.TerraformDataSources\"\n",
      "          \u001b[31m-\u001b[0m \u001b[0m\"Name\"    = \"subnet-2\"\n",
      "        } \u001b[90m->\u001b[0m \u001b[0m\u001b[90mnull\u001b[0m\u001b[0m\n",
      "      \u001b[31m-\u001b[0m \u001b[0m\u001b[1m\u001b[0mvpc_id\u001b[0m\u001b[0m                                         = \"vpc-075666587b30dc7c7\" \u001b[90m->\u001b[0m \u001b[0m\u001b[90mnull\u001b[0m\u001b[0m\n",
      "    }\n",
      "\n",
      "\u001b[1m  # aws_subnet.vpc_subnets[2]\u001b[0m will be \u001b[1m\u001b[31mdestroyed\u001b[0m\u001b[0m\n",
      "\u001b[0m  \u001b[31m-\u001b[0m\u001b[0m resource \"aws_subnet\" \"vpc_subnets\" {\n",
      "      \u001b[31m-\u001b[0m \u001b[0m\u001b[1m\u001b[0marn\u001b[0m\u001b[0m                                            = \"arn:aws:ec2:us-west-1:816376574968:subnet/subnet-0ecaa7f2931d95631\" \u001b[90m->\u001b[0m \u001b[0m\u001b[90mnull\u001b[0m\u001b[0m\n",
      "      \u001b[31m-\u001b[0m \u001b[0m\u001b[1m\u001b[0massign_ipv6_address_on_creation\u001b[0m\u001b[0m                = false \u001b[90m->\u001b[0m \u001b[0m\u001b[90mnull\u001b[0m\u001b[0m\n",
      "      \u001b[31m-\u001b[0m \u001b[0m\u001b[1m\u001b[0mavailability_zone\u001b[0m\u001b[0m                              = \"us-west-1b\" \u001b[90m->\u001b[0m \u001b[0m\u001b[90mnull\u001b[0m\u001b[0m\n",
      "      \u001b[31m-\u001b[0m \u001b[0m\u001b[1m\u001b[0mavailability_zone_id\u001b[0m\u001b[0m                           = \"usw1-az3\" \u001b[90m->\u001b[0m \u001b[0m\u001b[90mnull\u001b[0m\u001b[0m\n",
      "      \u001b[31m-\u001b[0m \u001b[0m\u001b[1m\u001b[0mcidr_block\u001b[0m\u001b[0m                                     = \"192.168.102.0/24\" \u001b[90m->\u001b[0m \u001b[0m\u001b[90mnull\u001b[0m\u001b[0m\n",
      "      \u001b[31m-\u001b[0m \u001b[0m\u001b[1m\u001b[0menable_dns64\u001b[0m\u001b[0m                                   = false \u001b[90m->\u001b[0m \u001b[0m\u001b[90mnull\u001b[0m\u001b[0m\n",
      "      \u001b[31m-\u001b[0m \u001b[0m\u001b[1m\u001b[0menable_resource_name_dns_a_record_on_launch\u001b[0m\u001b[0m    = false \u001b[90m->\u001b[0m \u001b[0m\u001b[90mnull\u001b[0m\u001b[0m\n",
      "      \u001b[31m-\u001b[0m \u001b[0m\u001b[1m\u001b[0menable_resource_name_dns_aaaa_record_on_launch\u001b[0m\u001b[0m = false \u001b[90m->\u001b[0m \u001b[0m\u001b[90mnull\u001b[0m\u001b[0m\n",
      "      \u001b[31m-\u001b[0m \u001b[0m\u001b[1m\u001b[0mid\u001b[0m\u001b[0m                                             = \"subnet-0ecaa7f2931d95631\" \u001b[90m->\u001b[0m \u001b[0m\u001b[90mnull\u001b[0m\u001b[0m\n",
      "      \u001b[31m-\u001b[0m \u001b[0m\u001b[1m\u001b[0mipv6_native\u001b[0m\u001b[0m                                    = false \u001b[90m->\u001b[0m \u001b[0m\u001b[90mnull\u001b[0m\u001b[0m\n",
      "      \u001b[31m-\u001b[0m \u001b[0m\u001b[1m\u001b[0mmap_customer_owned_ip_on_launch\u001b[0m\u001b[0m                = false \u001b[90m->\u001b[0m \u001b[0m\u001b[90mnull\u001b[0m\u001b[0m\n",
      "      \u001b[31m-\u001b[0m \u001b[0m\u001b[1m\u001b[0mmap_public_ip_on_launch\u001b[0m\u001b[0m                        = false \u001b[90m->\u001b[0m \u001b[0m\u001b[90mnull\u001b[0m\u001b[0m\n",
      "      \u001b[31m-\u001b[0m \u001b[0m\u001b[1m\u001b[0mowner_id\u001b[0m\u001b[0m                                       = \"816376574968\" \u001b[90m->\u001b[0m \u001b[0m\u001b[90mnull\u001b[0m\u001b[0m\n",
      "      \u001b[31m-\u001b[0m \u001b[0m\u001b[1m\u001b[0mprivate_dns_hostname_type_on_launch\u001b[0m\u001b[0m            = \"ip-name\" \u001b[90m->\u001b[0m \u001b[0m\u001b[90mnull\u001b[0m\u001b[0m\n",
      "      \u001b[31m-\u001b[0m \u001b[0m\u001b[1m\u001b[0mtags\u001b[0m\u001b[0m                                           = {\n",
      "          \u001b[31m-\u001b[0m \u001b[0m\"LabName\" = \"5.TerraformDataSources\"\n",
      "          \u001b[31m-\u001b[0m \u001b[0m\"Name\"    = \"subnet-3\"\n"
     ]
    },
    {
     "name": "stdout",
     "output_type": "stream",
     "text": [
      "        } \u001b[90m->\u001b[0m \u001b[0m\u001b[90mnull\u001b[0m\u001b[0m\n",
      "      \u001b[31m-\u001b[0m \u001b[0m\u001b[1m\u001b[0mtags_all\u001b[0m\u001b[0m                                       = {\n",
      "          \u001b[31m-\u001b[0m \u001b[0m\"LabName\" = \"5.TerraformDataSources\"\n",
      "          \u001b[31m-\u001b[0m \u001b[0m\"Name\"    = \"subnet-3\"\n",
      "        } \u001b[90m->\u001b[0m \u001b[0m\u001b[90mnull\u001b[0m\u001b[0m\n",
      "      \u001b[31m-\u001b[0m \u001b[0m\u001b[1m\u001b[0mvpc_id\u001b[0m\u001b[0m                                         = \"vpc-075666587b30dc7c7\" \u001b[90m->\u001b[0m \u001b[0m\u001b[90mnull\u001b[0m\u001b[0m\n",
      "    }\n",
      "\n",
      "\u001b[1m  # aws_vpc.main_vpc\u001b[0m will be \u001b[1m\u001b[31mdestroyed\u001b[0m\u001b[0m\n",
      "\u001b[0m  \u001b[31m-\u001b[0m\u001b[0m resource \"aws_vpc\" \"main_vpc\" {\n",
      "      \u001b[31m-\u001b[0m \u001b[0m\u001b[1m\u001b[0marn\u001b[0m\u001b[0m                                  = \"arn:aws:ec2:us-west-1:816376574968:vpc/vpc-075666587b30dc7c7\" \u001b[90m->\u001b[0m \u001b[0m\u001b[90mnull\u001b[0m\u001b[0m\n",
      "      \u001b[31m-\u001b[0m \u001b[0m\u001b[1m\u001b[0massign_generated_ipv6_cidr_block\u001b[0m\u001b[0m     = false \u001b[90m->\u001b[0m \u001b[0m\u001b[90mnull\u001b[0m\u001b[0m\n",
      "      \u001b[31m-\u001b[0m \u001b[0m\u001b[1m\u001b[0mcidr_block\u001b[0m\u001b[0m                           = \"192.168.0.0/16\" \u001b[90m->\u001b[0m \u001b[0m\u001b[90mnull\u001b[0m\u001b[0m\n",
      "      \u001b[31m-\u001b[0m \u001b[0m\u001b[1m\u001b[0mdefault_network_acl_id\u001b[0m\u001b[0m               = \"acl-0fdd799f7b8676d19\" \u001b[90m->\u001b[0m \u001b[0m\u001b[90mnull\u001b[0m\u001b[0m\n",
      "      \u001b[31m-\u001b[0m \u001b[0m\u001b[1m\u001b[0mdefault_route_table_id\u001b[0m\u001b[0m               = \"rtb-02df8d0be4c03dbec\" \u001b[90m->\u001b[0m \u001b[0m\u001b[90mnull\u001b[0m\u001b[0m\n",
      "      \u001b[31m-\u001b[0m \u001b[0m\u001b[1m\u001b[0mdefault_security_group_id\u001b[0m\u001b[0m            = \"sg-039ccf601abfcdbcf\" \u001b[90m->\u001b[0m \u001b[0m\u001b[90mnull\u001b[0m\u001b[0m\n",
      "      \u001b[31m-\u001b[0m \u001b[0m\u001b[1m\u001b[0mdhcp_options_id\u001b[0m\u001b[0m                      = \"dopt-5f798839\" \u001b[90m->\u001b[0m \u001b[0m\u001b[90mnull\u001b[0m\u001b[0m\n",
      "      \u001b[31m-\u001b[0m \u001b[0m\u001b[1m\u001b[0menable_classiclink\u001b[0m\u001b[0m                   = false \u001b[90m->\u001b[0m \u001b[0m\u001b[90mnull\u001b[0m\u001b[0m\n",
      "      \u001b[31m-\u001b[0m \u001b[0m\u001b[1m\u001b[0menable_classiclink_dns_support\u001b[0m\u001b[0m       = false \u001b[90m->\u001b[0m \u001b[0m\u001b[90mnull\u001b[0m\u001b[0m\n",
      "      \u001b[31m-\u001b[0m \u001b[0m\u001b[1m\u001b[0menable_dns_hostnames\u001b[0m\u001b[0m                 = false \u001b[90m->\u001b[0m \u001b[0m\u001b[90mnull\u001b[0m\u001b[0m\n",
      "      \u001b[31m-\u001b[0m \u001b[0m\u001b[1m\u001b[0menable_dns_support\u001b[0m\u001b[0m                   = true \u001b[90m->\u001b[0m \u001b[0m\u001b[90mnull\u001b[0m\u001b[0m\n",
      "      \u001b[31m-\u001b[0m \u001b[0m\u001b[1m\u001b[0menable_network_address_usage_metrics\u001b[0m\u001b[0m = false \u001b[90m->\u001b[0m \u001b[0m\u001b[90mnull\u001b[0m\u001b[0m\n",
      "      \u001b[31m-\u001b[0m \u001b[0m\u001b[1m\u001b[0mid\u001b[0m\u001b[0m                                   = \"vpc-075666587b30dc7c7\" \u001b[90m->\u001b[0m \u001b[0m\u001b[90mnull\u001b[0m\u001b[0m\n",
      "      \u001b[31m-\u001b[0m \u001b[0m\u001b[1m\u001b[0minstance_tenancy\u001b[0m\u001b[0m                     = \"default\" \u001b[90m->\u001b[0m \u001b[0m\u001b[90mnull\u001b[0m\u001b[0m\n",
      "      \u001b[31m-\u001b[0m \u001b[0m\u001b[1m\u001b[0mipv6_netmask_length\u001b[0m\u001b[0m                  = 0 \u001b[90m->\u001b[0m \u001b[0m\u001b[90mnull\u001b[0m\u001b[0m\n",
      "      \u001b[31m-\u001b[0m \u001b[0m\u001b[1m\u001b[0mmain_route_table_id\u001b[0m\u001b[0m                  = \"rtb-02df8d0be4c03dbec\" \u001b[90m->\u001b[0m \u001b[0m\u001b[90mnull\u001b[0m\u001b[0m\n",
      "      \u001b[31m-\u001b[0m \u001b[0m\u001b[1m\u001b[0mowner_id\u001b[0m\u001b[0m                             = \"816376574968\" \u001b[90m->\u001b[0m \u001b[0m\u001b[90mnull\u001b[0m\u001b[0m\n",
      "      \u001b[31m-\u001b[0m \u001b[0m\u001b[1m\u001b[0mtags\u001b[0m\u001b[0m                                 = {\n",
      "          \u001b[31m-\u001b[0m \u001b[0m\"LabName\"  = \"5.TerraformDataSources\"\n",
      "          \u001b[31m-\u001b[0m \u001b[0m\"Location\" = \"London\"\n",
      "          \u001b[31m-\u001b[0m \u001b[0m\"Name\"     = \"Main\"\n",
      "        } \u001b[90m->\u001b[0m \u001b[0m\u001b[90mnull\u001b[0m\u001b[0m\n",
      "      \u001b[31m-\u001b[0m \u001b[0m\u001b[1m\u001b[0mtags_all\u001b[0m\u001b[0m                             = {\n",
      "          \u001b[31m-\u001b[0m \u001b[0m\"LabName\"  = \"5.TerraformDataSources\"\n",
      "          \u001b[31m-\u001b[0m \u001b[0m\"Location\" = \"London\"\n",
      "          \u001b[31m-\u001b[0m \u001b[0m\"Name\"     = \"Main\"\n",
      "        } \u001b[90m->\u001b[0m \u001b[0m\u001b[90mnull\u001b[0m\u001b[0m\n",
      "    }\n",
      "\n",
      "\u001b[0m\u001b[1mPlan:\u001b[0m 0 to add, 0 to change, 4 to destroy.\n",
      "\u001b[0m\u001b[0m\n",
      "\u001b[1mChanges to Outputs:\u001b[0m\u001b[0m\n",
      "  \u001b[31m-\u001b[0m \u001b[0m\u001b[1m\u001b[0maazs\u001b[0m\u001b[0m = [\n",
      "      \u001b[31m-\u001b[0m \u001b[0m\"us-west-1b\",\n",
      "      \u001b[31m-\u001b[0m \u001b[0m\"us-west-1c\",\n",
      "    ] \u001b[90m->\u001b[0m \u001b[0m\u001b[90mnull\u001b[0m\u001b[0m\n",
      "\u001b[0m\u001b[1maws_subnet.vpc_subnets[1]: Destroying... [id=subnet-052095bbbc7de838f]\u001b[0m\u001b[0m\n",
      "\u001b[0m\u001b[1maws_subnet.vpc_subnets[0]: Destroying... [id=subnet-0401a56d620806ee4]\u001b[0m\u001b[0m\n",
      "\u001b[0m\u001b[1maws_subnet.vpc_subnets[2]: Destroying... [id=subnet-0ecaa7f2931d95631]\u001b[0m\u001b[0m\n",
      "\u001b[0m\u001b[1maws_subnet.vpc_subnets[2]: Destruction complete after 2s\u001b[0m\n",
      "\u001b[0m\u001b[1maws_subnet.vpc_subnets[0]: Destruction complete after 2s\u001b[0m\n",
      "\u001b[0m\u001b[1maws_subnet.vpc_subnets[1]: Destruction complete after 2s\u001b[0m\n",
      "\u001b[0m\u001b[1maws_vpc.main_vpc: Destroying... [id=vpc-075666587b30dc7c7]\u001b[0m\u001b[0m\n",
      "\u001b[0m\u001b[1maws_vpc.main_vpc: Destruction complete after 1s\u001b[0m\n",
      "\u001b[0m\u001b[1m\u001b[32m\n",
      "Destroy complete! Resources: 4 destroyed.\n",
      "\u001b[0m\n"
     ]
    }
   ],
   "source": [
    "TF_DESTROY"
   ]
  },
  {
   "cell_type": "code",
   "execution_count": 19,
   "id": "signed-pavilion",
   "metadata": {
    "attributes": {
     "classes": [
      "sh"
     ],
     "id": ""
    },
    "scrolled": false
   },
   "outputs": [
    {
     "name": "stdout",
     "output_type": "stream",
     "text": [
      "-rw-rw-r-- 1 student student  181 Jan  9 18:39 terraform.tfstate\n",
      "-rw-rw-r-- 1 student student 8125 Jan  9 18:39 terraform.tfstate.backup\n",
      "   9 terraform.tfstate\n",
      " 229 terraform.tfstate.backup\n",
      " 238 total\n",
      "{\n",
      "  \"version\": 4,\n",
      "  \"terraform_version\": \"1.3.7\",\n",
      "  \"serial\": 11,\n",
      "  \"lineage\": \"dc9ba3cc-28c2-4ab6-97ab-e673f750cf30\",\n",
      "  \"outputs\": {},\n",
      "  \"resources\": [],\n",
      "  \"check_results\": null\n",
      "}\n"
     ]
    }
   ],
   "source": [
    "ls -al terraform.tfstate*\n",
    "\n",
    "wc -l terraform.tfstate*\n",
    "\n",
    "cat terraform.tfstate"
   ]
  },
  {
   "cell_type": "markdown",
   "id": "collective-village",
   "metadata": {},
   "source": [
    "Now let's investigate the terraform.tfstate files again"
   ]
  },
  {
   "cell_type": "code",
   "execution_count": 20,
   "id": "unnecessary-moderator",
   "metadata": {
    "attributes": {
     "classes": [
      "sh"
     ],
     "id": ""
    }
   },
   "outputs": [
    {
     "name": "stdout",
     "output_type": "stream",
     "text": [
      "-rw-rw-r-- 1 student student  181 Jan  9 18:39 terraform.tfstate\n",
      "-rw-rw-r-- 1 student student 8125 Jan  9 18:39 terraform.tfstate.backup\n",
      "   9 terraform.tfstate\n",
      " 229 terraform.tfstate.backup\n",
      " 238 total\n"
     ]
    }
   ],
   "source": [
    "ls -al terraform.tfstate*\n",
    "\n",
    "wc -l terraform.tfstate*"
   ]
  },
  {
   "cell_type": "markdown",
   "id": "stunning-chosen",
   "metadata": {},
   "source": [
    "Look at the backuped up state:\n",
    "\n",
    "```cat terraform.tfstate.backup```"
   ]
  },
  {
   "cell_type": "markdown",
   "id": "third-fundamentals",
   "metadata": {},
   "source": [
    "Look at the new empty state:"
   ]
  },
  {
   "cell_type": "code",
   "execution_count": 21,
   "id": "adopted-sequence",
   "metadata": {
    "attributes": {
     "classes": [
      "sh"
     ],
     "id": ""
    }
   },
   "outputs": [
    {
     "name": "stdout",
     "output_type": "stream",
     "text": [
      "{\n",
      "  \"version\": 4,\n",
      "  \"terraform_version\": \"1.3.7\",\n",
      "  \"serial\": 11,\n",
      "  \"lineage\": \"dc9ba3cc-28c2-4ab6-97ab-e673f750cf30\",\n",
      "  \"outputs\": {},\n",
      "  \"resources\": [],\n",
      "  \"check_results\": null\n",
      "}\n"
     ]
    }
   ],
   "source": [
    "cat terraform.tfstate"
   ]
  },
  {
   "cell_type": "markdown",
   "id": "be7766d6",
   "metadata": {},
   "source": [
    "### 10. Investigate other data sources available in the AWS resources\n",
    "\n",
    "Go to https://www.terraform.io/docs/providers/aws/\n",
    "\n",
    "From there you will need to look for specific services/data sources, e.g.\n",
    "\n",
    "- \"Select \"EC2\" in the left-hand menu\n",
    "  - collapse the \"Resource\" sub-menu\n",
    "  - expand the \"Data Sources\" sub-menu\n",
    "  - look at the example data sources, e.g. aws_instance\n",
    "  - Write a configuration to create an aws_instance (a VM!)\n",
    "    - add a tag to identify the instance\n",
    "  - In the same configuration find your own instance using aws_instance:\n",
    "    - https://registry.terraform.io/providers/hashicorp/aws/latest/docs/data-sources/instance\n",
    "    - look for running instances and set a filter on\n",
    "      - the ami_id you are using\n",
    "      - the tag you are using"
   ]
  },
  {
   "cell_type": "markdown",
   "id": "da98557a",
   "metadata": {},
   "source": [
    "#### Experiment with other data sources\n",
    "\n",
    "See https://www.terraform.io/docs/language/data-sources/index.html#local-only-data-sources\n",
    "\n",
    "Try the local data sources, go to https://registry.terraform.io/browse/providers?category=utility (Note the *\"utility\"* category selected).\n",
    "\n",
    "Try some of these data source types especially\n",
    "- Archive\n",
    "  - e.g. archive_file at \n",
    "  \n",
    "  https://registry.terraform.io/providers/hashicorp/archive/latest/docs/data-sources/archive_file\n",
    "\n",
    "\n",
    "- Random\n",
    "  - e.g. random_string (*could be used for creating unique S3 bucket names*) at \n",
    "  \n",
    "  https://registry.terraform.io/providers/hashicorp/random/latest/docs/resources/string\n",
    "\n",
    "  - Note: there are several interesting *Resources* in this provider, see random_id, random_integer etc\n",
    "\n",
    "\n",
    "- Local\n",
    "  - e.g. local_file at \n",
    "  \n",
    "  https://registry.terraform.io/providers/hashicorp/local/latest/docs/data-sources/file\n",
    "\n",
    "\n"
   ]
  },
  {
   "cell_type": "markdown",
   "id": "1170dc10",
   "metadata": {},
   "source": [
    "### 11. Cleanup\n",
    "\n",
    "Now destroy any resources you created"
   ]
  },
  {
   "cell_type": "code",
   "execution_count": 22,
   "id": "liquid-string",
   "metadata": {
    "attributes": {
     "classes": [
      "sh"
     ],
     "id": ""
    },
    "scrolled": false
   },
   "outputs": [
    {
     "name": "stdout",
     "output_type": "stream",
     "text": [
      "\n",
      "\u001b[0m\u001b[1m\u001b[32mNo changes.\u001b[0m\u001b[1m No objects need to be destroyed.\u001b[0m\n",
      "\n",
      "\u001b[0mEither you have not created any objects yet or the existing objects were\n",
      "already deleted outside of Terraform.\n",
      "\u001b[0m\u001b[1m\u001b[32m\n",
      "Destroy complete! Resources: 0 destroyed.\n",
      "\u001b[0m\n"
     ]
    }
   ],
   "source": [
    "TF_DESTROY"
   ]
  },
  {
   "cell_type": "code",
   "execution_count": 23,
   "id": "52968b80",
   "metadata": {},
   "outputs": [
    {
     "name": "stdout",
     "output_type": "stream",
     "text": [
      "2023-Jan-09:[TF-1.3.7] Lab updated on node tf[terraform 1.3.7]\n"
     ]
    },
    {
     "ename": "",
     "evalue": "1",
     "output_type": "error",
     "traceback": []
    }
   ],
   "source": [
    "EXCL_FN_LAB_ENV"
   ]
  },
  {
   "cell_type": "markdown",
   "id": "present-plastic",
   "metadata": {},
   "source": [
    "<hr/>\n",
    "\n",
    "<!-- Why does this no longer work ??\n",
    "<img src=\"../../../static/images/ThickBlueBar.png\" />\n",
    "<img src=\"../../../static/images/LOGO.jpg\" width=200 />\n",
    "-->\n",
    "\n",
    "<img src=\"../images/ThickBlueBar.png\" />\n",
    "<img src=\"../images/LOGO.jpg\" width=200 />"
   ]
  },
  {
   "cell_type": "markdown",
   "id": "591cf488",
   "metadata": {},
   "source": [
    "# Pragma --EXCLUDE--SECTION--\n",
    "\n",
    "## **NOTE:** Save notebook first\n",
    "\n",
    "<div id=\"END\" /> <a href=\"#TOP\" > TOP OF PAGE </a>  <!-- must appear after EXCLUDE pragma !! -->"
   ]
  },
  {
   "cell_type": "code",
   "execution_count": 24,
   "id": "bbeb14a5",
   "metadata": {},
   "outputs": [
    {
     "name": "stdout",
     "output_type": "stream",
     "text": [
      "TF-1.3.7 -rw-rw-r-- 1 student student 9 Jan  8 19:18 /home/student/.environment\n",
      "Reading package lists... 0%Reading package lists... 100%Reading package lists... Done\n",
      "Building dependency tree... 0%Building dependency tree... 0%Building dependency tree... 50%Building dependency tree... 50%Building dependency tree       \n",
      "Reading state information... 0%Reading state information... 0%Reading state information... Done\n",
      "sysvbanner is already the newest version (1:1.0-17fakesync1).\n",
      "The following packages were automatically installed and are no longer required:\n",
      "  linux-headers-5.4.0-120 linux-headers-5.4.0-120-generic\n",
      "  linux-image-5.4.0-120-generic linux-modules-5.4.0-120-generic\n",
      "Use 'sudo apt autoremove' to remove them.\n",
      "0 upgraded, 0 newly installed, 0 to remove and 0 not upgraded.\n",
      "/home/student/labs/lab5\n",
      "\n",
      "==== Filtering current notebook [/home/student/src/tf-labs/5.TerraformDataSources/README.ipynb] ====\n",
      "\n",
      "******** Mon 09 Jan 2023 06:40:23 PM UTC: Notebook filtered on tf TF-1.3.7\n",
      "\n",
      "mv: cannot move '/home/student/Solutions/Lab' to '/home/student/Solutions/BAK/Lab': Directory not empty\n",
      "-- . ~/scripts/nbtool.rc\n",
      "TF-1.3.7 -rw-rw-r-- 1 student student 9 Jan  8 19:18 /home/student/.environment\n",
      "Reading package lists... 0%Reading package lists... 100%Reading package lists... Done\n",
      "Building dependency tree... 0%Building dependency tree... 0%Building dependency tree... 50%Building dependency tree... 50%Building dependency tree       \n",
      "Reading state information... 0%Reading state information... 0%Reading state information... Done\n",
      "sysvbanner is already the newest version (1:1.0-17fakesync1).\n",
      "The following packages were automatically installed and are no longer required:\n",
      "  linux-headers-5.4.0-120 linux-headers-5.4.0-120-generic\n",
      "  linux-image-5.4.0-120-generic linux-modules-5.4.0-120-generic\n",
      "Use 'sudo apt autoremove' to remove them.\n",
      "0 upgraded, 0 newly installed, 0 to remove and 0 not upgraded.\n",
      "/home/student/.venv/TRAINING/bin/python3\n",
      "\n",
      "-- ~/.venv/TRAINING/bin/python3 ~/scripts/nbtool.py -f ~/src/tf-labs/5.TerraformDataSources/README.ipynb\n",
      "---- no VARS_SEEN ----\n",
      "i/p nb has 0 variables\n",
      "/home/student/src/tf-labs/5.TerraformDataSources/README.ipynb:\n",
      "\t#cells=43\n",
      "cells to include[#35]=[[3, 4, 6, 7, 8, 9, 10, 11, 12, 13, 14, 15, 16, 17, 18, 19, 20, 21, 22, 23, 24, 26, 27, 28, 29, 30, 31, 32, 33, 34, 35, 36, 37, 38, 39]]\n",
      "cells to include[#35]=[[39, 38, 37, 36, 35, 34, 33, 32, 31, 30, 29, 28, 27, 26, 24, 23, 22, 21, 20, 19, 18, 17, 16, 15, 14, 13, 12, 11, 10, 9, 8, 7, 6, 4, 3]]\n",
      "included markdown cells=[4, 7, 9, 11, 13, 15, 17, 19, 21, 22, 23, 24, 26, 29, 31, 32, 34, 35, 36, 39]\n",
      "included code     cells=[3, 6, 8, 10, 12, 14, 16, 18, 20, 27, 28, 30, 33, 37, 38]\n",
      "excluded          cells=[0, 1, 2, 5, 25, 40, 41]\n",
      "---- no VARS_SEEN ----\n",
      "o/p nb has 0 variables\n",
      "/home/student/src/tf-labs/5.TerraformDataSources/README.ipynb.filtered.ipynb:\n",
      "\t#cells=35\n",
      "jq: error: Could not open file README.ipynb.filtered.ipynb: No such file or directory\n",
      "ls: cannot access 'README.ipynb.filtered.ipynb': No such file or directory\n",
      "grep: README.ipynb.filtered.ipynb: No such file or directory\n",
      "grep: README.ipynb.filtered.ipynb: No such file or directory\n",
      "grep: README.ipynb.filtered.ipynb: No such file or directory\n",
      "\n",
      "1 VAR defs/usages in i/p file: ~/src/tf-labs/5.TerraformDataSources/README.ipynb\n",
      "jq: error: Could not open file README.ipynb.filtered.ipynb: No such file or directory\n",
      "\n",
      "Good: No VAR defs/usages in o/p file\n",
      "jq: error: Could not open file README.ipynb.filtered.ipynb: No such file or directory\n",
      "\n",
      "-- jupyter-nbconvert --to markdown README.ipynb.filtered.ipynb\n",
      "[NbConvertApp] Converting notebook README.ipynb.filtered.ipynb to markdown\n",
      "[NbConvertApp] Writing 36596 bytes to README.ipynb.filtered.md\n",
      "\n",
      "-- jupyter-nbconvert --to html README.ipynb.filtered.ipynb\n",
      "[NbConvertApp] Converting notebook README.ipynb.filtered.ipynb to html\n",
      "[NbConvertApp] Writing 642679 bytes to README.ipynb.filtered.html\n",
      "\n",
      "\u001b[32m-rw-rw-r-- 1 student student 44778 Jan  9 18:40 Lab_5.DataSources.ipynb\u001b[0m\n",
      "\u001b[32m-rw-rw-r-- 1 student student 73550 Jan  9 18:40 Lab_5.DataSources.md\u001b[0m\n"
     ]
    }
   ],
   "source": [
    "set +x\n",
    ". ~/scripts/nbtool.rc\n",
    "pwd\n",
    "#NB_DIR=$PWD\n",
    "#echo NB=$NB\n",
    "#echo NB_DIR=$NB_DIR\n",
    "#set -x\n",
    "set +x\n",
    "EXCL_FN_FILTER_NOTEBOOK $NB"
   ]
  },
  {
   "cell_type": "code",
   "execution_count": null,
   "id": "a70e9d24",
   "metadata": {},
   "outputs": [],
   "source": []
  }
 ],
 "metadata": {
  "kernelspec": {
   "display_name": "Bash",
   "language": "bash",
   "name": "bash"
  },
  "language_info": {
   "codemirror_mode": "shell",
   "file_extension": ".sh",
   "mimetype": "text/x-sh",
   "name": "bash"
  }
 },
 "nbformat": 4,
 "nbformat_minor": 5
}
