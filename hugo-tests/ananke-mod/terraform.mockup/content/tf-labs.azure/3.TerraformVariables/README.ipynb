{
 "cells": [
  {
   "cell_type": "markdown",
   "id": "495ad6ea",
   "metadata": {},
   "source": [
    "<div id=\"TOP\" />\n",
    "<a href=\"#END\" > END of Notebook (filter) </a>\n",
    "\n",
    "$__ A BOX $\n",
    "<div class=\"alert alert-info\"> <b>Info</b>  - an info </div>\n",
    "<div class=\"alert alert-warning\"> <b>Info</b>  - a warning </div>\n",
    "<div class=\"alert alert-danger\"> <b>Info</b>  - an danger </div>"
   ]
  },
  {
   "cell_type": "markdown",
   "id": "f9631ddf",
   "metadata": {},
   "source": [
    "# TODO: REWRITE LAB to avodi annoying timeouts !!!!\n",
    "\n",
    "- Don't use var.region\n",
    "- Don't use AWS resources\n",
    "- Use either local_file or just outputs to show effect of variable setting ..."
   ]
  },
  {
   "cell_type": "code",
   "execution_count": 1,
   "id": "0db56c33",
   "metadata": {
    "scrolled": false
   },
   "outputs": [
    {
     "name": "stdout",
     "output_type": "stream",
     "text": [
      "bash: cd: /home/student/nb/2022-Terraform/content/tf-labs/3.TerraformVariables/: No such file or directory\n",
      "==== Reading nbtool functions from '/home/student/scripts/nbtool.rc' ====\n",
      "TF-1.3.7 -rw-rw-r-- 1 student student 9 Jan  8 19:18 /home/student/.environment\n",
      "Reading package lists... 0%Reading package lists... 100%Reading package lists... Done\n",
      "Building dependency tree... 0%Building dependency tree... 0%Building dependency tree... 50%Building dependency tree... 50%Building dependency tree       \n",
      "Reading state information... 0%Reading state information... 0%Reading state information... Done\n",
      "sysvbanner is already the newest version (1:1.0-17fakesync1).\n",
      "The following packages were automatically installed and are no longer required:\n",
      "  linux-headers-5.4.0-120 linux-headers-5.4.0-120-generic\n",
      "  linux-image-5.4.0-120-generic linux-modules-5.4.0-120-generic\n",
      "Use 'sudo apt autoremove' to remove them.\n",
      "0 upgraded, 0 newly installed, 0 to remove and 0 not upgraded.\n",
      "\n",
      "******** Mon 09 Jan 2023 02:18:48 PM UTC: Notebook initialized on tf TF-1.3.7\n",
      "\n",
      "\u001b[01;31m\u001b[KNB_DIR=/home/student/src/mjbright.tf-scenarios-private/ServeUpLabs/content/tf-labs/3.TerraformVariables\u001b[m\u001b[K\n",
      "\n",
      "==== Setting TF_DATA_DIR ====\n",
      "TF_DATA_DIR\u001b[01;31m\u001b[K=/home/student/dot.terraform\u001b[m\u001b[K\n",
      "\n",
      "==== Setting AWS vars for student20 account ====\n",
      "bash: /home/student/.aws/linked/student20.rc: No such file or directory\n",
      "==== Terraform Lab \u001b[01;31m\u001b[Kweight[30] / tag[3.TerraformVariables] / name[Lab 3.TerraformVariables] ====\u001b[m\u001b[K\n",
      "NB_DIR=/home/student/src/mjbright.tf-scenarios-private/ServeUpLabs/content/tf-labs/3.TerraformVariables\n",
      "NB=/home/student/src/mjbright.tf-scenarios-private/ServeUpLabs/content/tf-labs/3.TerraformVariables/README.ipynb\n",
      "\n",
      "==== Filtering current notebook [/home/student/src/mjbright.tf-scenarios-private/ServeUpLabs/content/tf-labs/3.TerraformVariables/README.ipynb] ====\n",
      "\n",
      "******** Mon 09 Jan 2023 02:18:48 PM UTC: Notebook filtered on tf TF-1.3.7\n",
      "\n",
      "mv: cannot move '/home/student/Solutions/Lab' to '/home/student/Solutions/BAK/Lab': Directory not empty\n",
      "-- . ~/scripts/nbtool.rc\n",
      "TF-1.3.7 -rw-rw-r-- 1 student student 9 Jan  8 19:18 /home/student/.environment\n",
      "Reading package lists... 0%Reading package lists... 100%Reading package lists... Done\n",
      "Building dependency tree... 0%Building dependency tree... 0%Building dependency tree... 50%Building dependency tree... 50%Building dependency tree       \n",
      "Reading state information... 0%Reading state information... 0%Reading state information... Done\n",
      "sysvbanner is already the newest version (1:1.0-17fakesync1).\n",
      "The following packages were automatically installed and are no longer required:\n",
      "  linux-headers-5.4.0-120 linux-headers-5.4.0-120-generic\n",
      "  linux-image-5.4.0-120-generic linux-modules-5.4.0-120-generic\n",
      "Use 'sudo apt autoremove' to remove them.\n",
      "0 upgraded, 0 newly installed, 0 to remove and 0 not upgraded.\n",
      "/home/student/.venv/TRAINING/bin/python3\n",
      "\n",
      "-- ~/.venv/TRAINING/bin/python3 ~/scripts/nbtool.py -f ~/src/mjbright.tf-scenarios-private/ServeUpLabs/content/tf-labs/3.TerraformVariables/README.ipynb\n",
      "---- no VARS_SEEN ----\n",
      "i/p nb has 0 variables\n",
      "/home/student/src/mjbright.tf-scenarios-private/ServeUpLabs/content/tf-labs/3.TerraformVariables/README.ipynb:\n",
      "\t#cells=61\n",
      "cells to include[#36]=[[5, 6, 9, 10, 11, 12, 13, 15, 16, 17, 18, 19, 20, 22, 24, 25, 27, 29, 31, 32, 38, 39, 41, 42, 43, 45, 46, 47, 48, 49, 50, 51, 52, 53, 54, 55]]\n",
      "cells to include[#36]=[[55, 54, 53, 52, 51, 50, 49, 48, 47, 46, 45, 43, 42, 41, 39, 38, 32, 31, 29, 27, 25, 24, 22, 20, 19, 18, 17, 16, 15, 13, 12, 11, 10, 9, 6, 5]]\n",
      "included markdown cells=[5, 9, 11, 13, 16, 18, 19, 22, 24, 25, 27, 29, 31, 32, 38, 41, 42, 43, 46, 47, 48, 49, 51, 52, 53, 54]\n",
      "included code     cells=[6, 10, 12, 15, 17, 20, 39, 45, 50, 55]\n",
      "excluded          cells=[0, 1, 2, 3, 4, 7, 8, 14, 21, 23, 26, 28, 30, 33, 34, 35, 36, 37, 40, 44, 56, 57, 58, 59]\n",
      "---- no VARS_SEEN ----\n",
      "o/p nb has 0 variables\n",
      "/home/student/src/mjbright.tf-scenarios-private/ServeUpLabs/content/tf-labs/3.TerraformVariables/README.ipynb.filtered.ipynb:\n",
      "\t#cells=36\n",
      "-rw-rw-r-- 1 student student 26908 Jan  9 14:18 README.ipynb.filtered.ipynb\n",
      "\n",
      "1 VAR defs/usages in i/p file: ~/src/mjbright.tf-scenarios-private/ServeUpLabs/content/tf-labs/3.TerraformVariables/README.ipynb\n",
      "\n",
      "Good: No VAR defs/usages in o/p file\n",
      "\n",
      "-- jupyter-nbconvert --to markdown README.ipynb.filtered.ipynb\n",
      "[NbConvertApp] Converting notebook README.ipynb.filtered.ipynb to markdown\n",
      "[NbConvertApp] Writing 20897 bytes to README.ipynb.filtered.md\n",
      "\n",
      "-- jupyter-nbconvert --to html README.ipynb.filtered.ipynb\n",
      "[NbConvertApp] Converting notebook README.ipynb.filtered.ipynb to html\n",
      "[NbConvertApp] Writing 620730 bytes to README.ipynb.filtered.html\n",
      "\n",
      "\u001b[32m-rw-rw-r-- 1 student student 26908 Jan  9 14:18 Lab_3.TerraformVariables.ipynb\u001b[0m\n",
      "\u001b[32m-rw-rw-r-- 1 student student 41871 Jan  9 14:18 Lab_3.TerraformVariables.md\u001b[0m\n"
     ]
    }
   ],
   "source": [
    "# -- CONFIG ------------------------------------\n",
    "LAB_TAG=${PWD##*/} \n",
    "LAB_NAME=\"TFI_Azure_Lab3.TerraformVariables\"\n",
    "LAB_WEIGHT=30\n",
    "LAB_MODE=\"Terraform\"\n",
    "export MAX_LINE_LEN=80\n",
    "# ----------------------------------------------\n",
    "\n",
    "cd ~/nb/2022-Terraform/content/tf-labs/3.TerraformVariables/\n",
    "DIE() { echo \"[$PWD] Error: $*\"; banner \"ERROR\"; exit 1; }\n",
    "NBTOOL_RC=~/scripts/nbtool.rc; [ ! -f $NBTOOL_RC ] && DIE \"No such script as $NBTOOL_RC\"\n",
    "echo \"==== Reading nbtool functions from '$NBTOOL_RC' ====\"; . $NBTOOL_RC\n",
    "EXCL_FN_INIT_NOTEBOOK\n",
    "## --INCLUDE--SECTION--\n",
    "## --EXCLUDE--SECTION--"
   ]
  },
  {
   "cell_type": "markdown",
   "id": "17ad5a81",
   "metadata": {},
   "source": [
    "#EXCLUDE\n",
    "\n",
    "NB_DIR=$PWD\n",
    "rm -rf ~/tmp/terraform*\n",
    "#rm -rf ~/labs\n",
    "\n",
    "FRONTMATTER=$(cat <<END_HEREDOC\n",
    "---\n",
    "title: 'Lab 3.TerraformVariables'\n",
    "date: 2019-02-11T19:27:37+10:00\n",
    "weight: 30\n",
    "---\n",
    "\n",
    "END_HEREDOC\n",
    ")\n",
    "\n",
    "\n",
    "echo\n",
    "echo \"==== Reading nbtool functions ====\"\n",
    ". ~/bin/nbtool.rc\n",
    "\n",
    "echo\n",
    "echo \"==== Setting Exercise tag ====\"\n",
    "pwd\n",
    "LABTAG=${PWD##*/}\n",
    "#LABTAG=\"3.Variables\"\n",
    "echo \"LABTAG=$LAB_TAG\" | EXCL_FN_HIGHLIGHT_EOL =\n",
    "\n",
    "echo\n",
    "echo \"==== Setting TF_DATA_DIR ====\"\n",
    "export TF_DATA_DIR=~/dot.terraform\n",
    "echo \"TF_DATA_DIR=$TF_DATA_DIR\" | EXCL_FN_HIGHLIGHT_EOL =\n",
    "\n",
    "NO_EXEC echo SHOULD NOT BE SEEN | EXCL_FN_HIGHLIGHT_SOL SHOULD\n",
    "EXEC    echo SHOULD BE SEEN     | EXCL_FN_HIGHLIGHT_SOL SHOULD\n",
    "\n",
    "# echo\n",
    "# echo \"==== Filtering current notebook ====\"\n",
    "#\n",
    "# EXCL_FN_FILTER_NOTEBOOK index.ipynb\n",
    "\n",
    "echo\n",
    "echo \"==== Setting AWS vars for student20 account ====\"\n",
    ". ~/.aws/linked/student20.rc\n",
    "env | grep MYAWS_ACCOUNT_NAME= | EXCL_FN_HIGHLIGHT_EOL ="
   ]
  },
  {
   "cell_type": "markdown",
   "id": "backed-generation",
   "metadata": {},
   "source": [
    "#  --INCLUDE--SECTION--"
   ]
  },
  {
   "cell_type": "markdown",
   "id": "9a760718",
   "metadata": {},
   "source": [
    "# Terraform Variables"
   ]
  },
  {
   "cell_type": "code",
   "execution_count": 2,
   "id": "13f4b8a3",
   "metadata": {},
   "outputs": [
    {
     "name": "stdout",
     "output_type": "stream",
     "text": [
      "2023-Jan-09:[TF-1.3.7] Lab updated on node tf[terraform 1.3.7]\n"
     ]
    },
    {
     "ename": "",
     "evalue": "1",
     "output_type": "error",
     "traceback": []
    }
   ],
   "source": [
    "EXCL_FN_LAB_ENV 0"
   ]
  },
  {
   "cell_type": "code",
   "execution_count": 3,
   "id": "unnecessary-tournament",
   "metadata": {
    "attributes": {
     "classes": [
      "tf"
     ],
     "id": ""
    }
   },
   "outputs": [
    {
     "ename": "",
     "evalue": "1",
     "output_type": "error",
     "traceback": []
    }
   ],
   "source": [
    "#EXCLUDE\n",
    "\n",
    "mkdir -p ~/labs/lab3\n",
    "cd  ~/labs/lab3\n",
    "\n",
    "rm ~/labs/lab3/*vars 2>/dev/null"
   ]
  },
  {
   "cell_type": "code",
   "execution_count": 4,
   "id": "elementary-superior",
   "metadata": {
    "attributes": {
     "classes": [
      "tf"
     ],
     "id": ""
    }
   },
   "outputs": [],
   "source": [
    "#EXCLUDE\n",
    "\n",
    "cat > main.tf <<EOF\n",
    "\n",
    "terraform {\n",
    "  required_version = \">= 1.1.0\"\n",
    "\n",
    "  required_providers {\n",
    "    aws = {\n",
    "      version = \"~> 4.0\"\n",
    "    }\n",
    "  }\n",
    "}\n",
    "\n",
    "provider \"aws\" {\n",
    "  region = var.region\n",
    "  \n",
    "  default_tags {\n",
    "    tags = {\n",
    "      Environment = \"Terraform Introduction\"\n",
    "    }\n",
    "  }\n",
    "}\n",
    "EOF\n",
    "\n",
    "cat > resources.tf <<EOF\n",
    "resource \"aws_vpc\" \"main_vpc\" {\n",
    "  cidr_block = var.vpc_cidr\n",
    "  instance_tenancy = \"default\"\n",
    "    \n",
    "  tags = {\n",
    "    Name = \"Main\"\n",
    "    LabName = \"$LAB_TAG\"\n",
    "    Location = \"London - with cidr \\${var.vpc_cidr}\"\n",
    "  }\n",
    "}\n",
    "\n",
    "resource \"aws_subnet\" \"vpc_subnet\" {\n",
    "  vpc_id = aws_vpc.main_vpc.id\n",
    "  cidr_block = var.vpc_cidr\n",
    "  availability_zone = var.aws_availability_zone\n",
    "\n",
    "  tags = {\n",
    "    Name = \"subnet1\"\n",
    "    LabName = \"$LAB_TAG\"\n",
    "  }\n",
    "}\n",
    "EOF\n",
    "\n",
    "cat > vars.tf <<EOF\n",
    "variable \"region\" {\n",
    "  # **** SET A BAD REGION DEFAULT FOR NOW: ****\n",
    "  default = \"bad-region-1\"\n",
    "}\n",
    "variable \"vpc_cidr\" {\n",
    "  default = \"192.168.0.0/16\"\n",
    "}\n",
    "variable \"vpc_subnet_cidr\" {\n",
    "  default = \"192.168.100.0/24\"\n",
    "}\n",
    "variable \"ami_instance\" {\n",
    "  default = \"ami-0ac019f4fcb7cb7e6\"\n",
    "}\n",
    "variable \"ami_instance_type\" {\n",
    "  default = \"t2.micro\"\n",
    "}\n",
    "variable \"aws_availability_zone\" {\n",
    "  default = \"us-west-1a\"\n",
    "}\n",
    "EOF"
   ]
  },
  {
   "cell_type": "markdown",
   "id": "knowing-february",
   "metadata": {},
   "source": [
    "## Background:\n",
    "\n",
    "Here, we will use terraform variables to parameterize our terraform templates and make them customizable rather than just supplying static values.\n",
    "\n",
    "# 3.1 Create the Terraform configuration \n",
    "\n",
    "### 1. Make a directory called ‘lab3’ underneath the labs directory.\n",
    "### 2. Change into the directory.\n",
    "### 3. Create the following files: main.tf resources.tf and vars.tf.\n",
    "\n",
    "We will start to split our configuration across several files to make them more easily manageable.\n",
    "\n",
    "The main.tf file should contain:"
   ]
  },
  {
   "cell_type": "code",
   "execution_count": 5,
   "id": "cooked-electricity",
   "metadata": {
    "attributes": {
     "classes": [
      "tf"
     ],
     "id": ""
    }
   },
   "outputs": [
    {
     "name": "stdout",
     "output_type": "stream",
     "text": [
      "\n",
      "terraform {\n",
      "  required_version = \">= 1.1.0\"\n",
      "\n",
      "  required_providers {\n",
      "    aws = {\n",
      "      version = \"~> 4.0\"\n",
      "    }\n",
      "  }\n",
      "}\n",
      "\n",
      "provider \"aws\" {\n",
      "  region = var.region\n",
      "  \n",
      "  default_tags {\n",
      "    tags = {\n",
      "      Environment = \"Terraform Introduction\"\n",
      "    }\n",
      "  }\n",
      "}\n"
     ]
    }
   ],
   "source": [
    "EXEC cat main.tf"
   ]
  },
  {
   "cell_type": "markdown",
   "id": "marine-cable",
   "metadata": {},
   "source": [
    "The resources.tf file should contain:"
   ]
  },
  {
   "cell_type": "code",
   "execution_count": 6,
   "id": "cardiac-nightlife",
   "metadata": {
    "attributes": {
     "classes": [
      "tf"
     ],
     "id": ""
    }
   },
   "outputs": [
    {
     "name": "stdout",
     "output_type": "stream",
     "text": [
      "resource \"aws_vpc\" \"main_vpc\" {\n",
      "  cidr_block = var.vpc_cidr\n",
      "  instance_tenancy = \"default\"\n",
      "    \n",
      "  tags = {\n",
      "    Name = \"Main\"\n",
      "    LabName = \"3.TerraformVariables\"\n",
      "    Location = \"London - with cidr ${var.vpc_cidr}\"\n",
      "  }\n",
      "}\n",
      "\n",
      "resource \"aws_subnet\" \"vpc_subnet\" {\n",
      "  vpc_id = aws_vpc.main_vpc.id\n",
      "  cidr_block = var.vpc_cidr\n",
      "  availability_zone = var.aws_availability_zone\n",
      "\n",
      "  tags = {\n",
      "    Name = \"subnet1\"\n",
      "    LabName = \"3.TerraformVariables\"\n",
      "  }\n",
      "}\n"
     ]
    }
   ],
   "source": [
    "EXEC cat resources.tf"
   ]
  },
  {
   "cell_type": "markdown",
   "id": "dominant-advancement",
   "metadata": {},
   "source": [
    "The vars.tf file should contain:"
   ]
  },
  {
   "cell_type": "code",
   "execution_count": 7,
   "id": "9e0db892",
   "metadata": {},
   "outputs": [
    {
     "name": "stdout",
     "output_type": "stream",
     "text": [
      "\u001b[0;32m\"ec2.ap-south-1.amazonaws.com\"\u001b[0m\n",
      "\u001b[0;32m\"ec2.eu-north-1.amazonaws.com\"\u001b[0m\n",
      "\u001b[0;32m\"ec2.eu-west-3.amazonaws.com\"\u001b[0m\n",
      "\u001b[0;32m\"ec2.eu-west-2.amazonaws.com\"\u001b[0m\n",
      "\u001b[0;32m\"ec2.eu-west-1.amazonaws.com\"\u001b[0m\n",
      "\u001b[0;32m\"ec2.ap-northeast-3.amazonaws.com\"\u001b[0m\n",
      "\u001b[0;32m\"ec2.ap-northeast-2.amazonaws.com\"\u001b[0m\n",
      "\u001b[0;32m\"ec2.ap-northeast-1.amazonaws.com\"\u001b[0m\n",
      "\u001b[0;32m\"ec2.ca-central-1.amazonaws.com\"\u001b[0m\n",
      "\u001b[0;32m\"ec2.sa-east-1.amazonaws.com\"\u001b[0m\n",
      "\u001b[0;32m\"ec2.ap-southeast-1.amazonaws.com\"\u001b[0m\n",
      "\u001b[0;32m\"ec2.ap-southeast-2.amazonaws.com\"\u001b[0m\n",
      "\u001b[0;32m\"ec2.eu-central-1.amazonaws.com\"\u001b[0m\n",
      "\u001b[0;32m\"ec2.us-east-1.amazonaws.com\"\u001b[0m\n",
      "\u001b[0;32m\"ec2.us-east-2.amazonaws.com\"\u001b[0m\n",
      "\u001b[0;32m\"ec2.us-west-1.amazonaws.com\"\u001b[0m\n",
      "\u001b[0;32m\"ec2.us-west-2.amazonaws.com\"\u001b[0m\n"
     ]
    }
   ],
   "source": [
    "#EXCLUDE\n",
    "aws ec2 describe-regions | tee ~/tmp/aws_regions.json | jq -c '.Regions[].Endpoint'"
   ]
  },
  {
   "cell_type": "code",
   "execution_count": 8,
   "id": "public-colors",
   "metadata": {
    "attributes": {
     "classes": [
      "tf"
     ],
     "id": ""
    }
   },
   "outputs": [
    {
     "name": "stdout",
     "output_type": "stream",
     "text": [
      "variable \"region\" {\n",
      "  # **** SET A BAD REGION DEFAULT FOR NOW: ****\n",
      "  default = \"bad-region-1\"\n",
      "}\n",
      "variable \"vpc_cidr\" {\n",
      "  default = \"192.168.0.0/16\"\n",
      "}\n",
      "variable \"vpc_subnet_cidr\" {\n",
      "  default = \"192.168.100.0/24\"\n",
      "}\n",
      "variable \"ami_instance\" {\n",
      "  default = \"ami-0ac019f4fcb7cb7e6\"\n",
      "}\n",
      "variable \"ami_instance_type\" {\n",
      "  default = \"t2.micro\"\n",
      "}\n",
      "variable \"aws_availability_zone\" {\n",
      "  default = \"us-west-1a\"\n",
      "}\n"
     ]
    }
   ],
   "source": [
    "EXEC cat vars.tf"
   ]
  },
  {
   "cell_type": "markdown",
   "id": "excited-lying",
   "metadata": {},
   "source": [
    "# 3.2 Initalize the configuration"
   ]
  },
  {
   "cell_type": "code",
   "execution_count": 9,
   "id": "invalid-reggae",
   "metadata": {
    "scrolled": false
   },
   "outputs": [
    {
     "name": "stdout",
     "output_type": "stream",
     "text": [
      "\n",
      "\u001b[0m\u001b[1mInitializing the backend...\u001b[0m\n",
      "\n",
      "\u001b[0m\u001b[1mInitializing provider plugins...\u001b[0m\n",
      "- Finding hashicorp/aws versions matching \"~> 4.0\"...\n",
      "- Installing hashicorp/aws v4.49.0...\n",
      "- Installed hashicorp/aws v4.49.0 (signed by HashiCorp)\n",
      "\n",
      "Terraform has created a lock file \u001b[1m.terraform.lock.hcl\u001b[0m to record the provider\n",
      "selections it made above. Include this file in your version control repository\n",
      "so that Terraform can guarantee to make the same selections by default when\n",
      "you run \"terraform init\" in the future.\u001b[0m\n",
      "\n",
      "\u001b[0m\u001b[1m\u001b[32mTerraform has been successfully initialized!\u001b[0m\u001b[32m\u001b[0m\n",
      "\u001b[0m\u001b[32m\n",
      "You may now begin working with Terraform. Try running \"terraform plan\" to see\n",
      "any changes that are required for your infrastructure. All Terraform commands\n",
      "should now work.\n",
      "\n",
      "If you ever set or change modules or backend configuration for Terraform,\n",
      "rerun this command to reinitialize your working directory. If you forget, other\n",
      "commands will detect it and remind you to do so if necessary.\u001b[0m\n"
     ]
    }
   ],
   "source": [
    "TF_INIT"
   ]
  },
  {
   "cell_type": "markdown",
   "id": "twenty-logan",
   "metadata": {},
   "source": [
    "# 3.3 Preview the configuration - experiment with variable settings\n",
    "\n",
    "We will preview our configuration but in so doing we will experiment with the setting of the *region* variable to see the order of precedence of variable value definitions.\n",
    "\n",
    "**Note**: You can learn about variable definition precedence at https://www.terraform.io/docs/configuration/variables.html#variable-definition-precedence\n",
    "\n",
    "# 3.4 terraform plan\n",
    "\n",
    "Attempt to preview the configuration using ```terraform plan```.\n",
    "\n",
    "<div class=\"alert alert-danger\"> <b>NOTE</b> You may need to wait a minute or two before this plan completes - with an error. </div>\n",
    " \n",
    "\n",
    "You should see an error because ```var.region``` was set to a non-existing AWS region:\n",
    "\n",
    "```\n",
    "╷\n",
    "│ Error: error configuring Terraform AWS Provider: error validating provider credentials: error calling sts:GetCallerIdentity: operation error STS: GetCallerIdentity, exceeded maximum number of attempts, 9, https response error StatusCode: 0, RequestID: , request send failed, Post \"https://sts.bad-region-1.amazonaws.com/\": dial tcp: lookup sts.bad-region-1.amazonaws.com on 127.0.0.53:53: no such host\n",
    "│\n",
    "│   with provider[\"registry.terraform.io/hashicorp/aws\"],\n",
    "│   on main.tf line 12, in provider \"aws\":\n",
    "│   12: provider \"aws\" {\n",
    "│\n",
    "```\n"
   ]
  },
  {
   "cell_type": "markdown",
   "id": "northern-nirvana",
   "metadata": {},
   "source": [
    "Note that we purposefully configured a bad value for the region variable in *vars.tf* and so this plan should fail as \n",
    "*bad-region-1* is not an acceptable value to assign to the \"aws_provider\" attribute \"*region*\"\n",
    "\n",
    "## 3.4.1 terraform plan / TF_VAR_region\n",
    "\n",
    "Now export an environment variable called TF_VAR_region as shown below.\n",
    "\n",
    "Note that exporting an environment variable TF_VAR_&lt;name&gt; will cause the variable &lt;name&gt; to be set in your plan\n",
    "\n",
    "**Note:** To make the following examples run quicker, let's force a timeout\n",
    "\n",
    "So instead of ```terraform plan``` each time do rather ```timeout -k 0 --foreground 10 terraform plan``` which will force a timeout at 20 seconds.  Although the error message is not so clear, the timeout is due to the bad region being attempted - because of the bad setting of ```var.region```"
   ]
  },
  {
   "cell_type": "code",
   "execution_count": 10,
   "id": "pharmaceutical-jesus",
   "metadata": {
    "attributes": {
     "classes": [
      "sh"
     ],
     "id": ""
    }
   },
   "outputs": [],
   "source": [
    "export TF_VAR_region=\"another-bad-region-2\""
   ]
  },
  {
   "cell_type": "code",
   "execution_count": 11,
   "id": "occasional-mining",
   "metadata": {
    "attributes": {
     "classes": [
      "sh"
     ],
     "id": ""
    }
   },
   "outputs": [
    {
     "name": "stdout",
     "output_type": "stream",
     "text": [
      "\n",
      "Interrupt received.\n",
      "Please wait for Terraform to exit or data loss may occur.\n",
      "Gracefully shutting down...\n",
      "\n",
      "Stopping operation...\n",
      "\u001b[31m╷\u001b[0m\u001b[0m\n",
      "\u001b[31m│\u001b[0m \u001b[0m\u001b[1m\u001b[31mError: \u001b[0m\u001b[0m\u001b[1mconfiguring Terraform AWS Provider: error validating provider credentials: error calling sts:GetCallerIdentity: operation error STS: GetCallerIdentity, request canceled, context canceled\u001b[0m\n",
      "\u001b[31m│\u001b[0m \u001b[0m\n",
      "\u001b[31m│\u001b[0m \u001b[0m\u001b[0m  with provider[\"registry.terraform.io/hashicorp/aws\"],\n",
      "\u001b[31m│\u001b[0m \u001b[0m  on main.tf line 12, in provider \"aws\":\n",
      "\u001b[31m│\u001b[0m \u001b[0m  12: provider \"aws\" \u001b[4m{\u001b[0m\u001b[0m\n",
      "\u001b[31m│\u001b[0m \u001b[0m\n",
      "\u001b[31m╵\u001b[0m\u001b[0m\n"
     ]
    },
    {
     "ename": "",
     "evalue": "124",
     "output_type": "error",
     "traceback": []
    }
   ],
   "source": [
    "#EXCLUDE\n",
    "timeout -k 0 --foreground 10 terraform plan "
   ]
  },
  {
   "cell_type": "markdown",
   "id": "beautiful-office",
   "metadata": {},
   "source": [
    "Attempt to plan the configuration again\n",
    "\n",
    "**Note**: that the error message is different now - what happened this time ?\n",
    "\n",
    "## 3.4.2 terraform plan / terraform.tfvars\n",
    "\n",
    "Now create a file called *terraform.tfvars* with contents:"
   ]
  },
  {
   "cell_type": "code",
   "execution_count": 12,
   "id": "wound-intent",
   "metadata": {
    "attributes": {
     "classes": [
      "sh"
     ],
     "id": ""
    }
   },
   "outputs": [],
   "source": [
    "#EXCLUDE:\n",
    "\n",
    "# SET A BAD DEFAULT FOR NOW:\n",
    "\n",
    "cat > terraform.tfvars <<EOF\n",
    "region = \"yet-another-bad-region-3\"\n",
    "EOF"
   ]
  },
  {
   "cell_type": "markdown",
   "id": "alternate-stopping",
   "metadata": {
    "attributes": {
     "classes": [
      "sh"
     ],
     "id": ""
    }
   },
   "source": [
    "\n",
    "```region = \"yet-another-bad-region-3\"```"
   ]
  },
  {
   "cell_type": "markdown",
   "id": "overall-talent",
   "metadata": {},
   "source": [
    "Attempt to plan the configuration again\n",
    "\n",
    "Note again what happens"
   ]
  },
  {
   "cell_type": "code",
   "execution_count": 13,
   "id": "later-photograph",
   "metadata": {
    "attributes": {
     "classes": [
      "sh"
     ],
     "id": ""
    }
   },
   "outputs": [
    {
     "name": "stdout",
     "output_type": "stream",
     "text": [
      "\n",
      "Interrupt received.\n",
      "Please wait for Terraform to exit or data loss may occur.\n",
      "Gracefully shutting down...\n",
      "\n",
      "Stopping operation...\n",
      "\u001b[31m╷\u001b[0m\u001b[0m\n",
      "\u001b[31m│\u001b[0m \u001b[0m\u001b[1m\u001b[31mError: \u001b[0m\u001b[0m\u001b[1mconfiguring Terraform AWS Provider: error validating provider credentials: error calling sts:GetCallerIdentity: operation error STS: GetCallerIdentity, request canceled, context canceled\u001b[0m\n",
      "\u001b[31m│\u001b[0m \u001b[0m\n",
      "\u001b[31m│\u001b[0m \u001b[0m\u001b[0m  with provider[\"registry.terraform.io/hashicorp/aws\"],\n",
      "\u001b[31m│\u001b[0m \u001b[0m  on main.tf line 12, in provider \"aws\":\n",
      "\u001b[31m│\u001b[0m \u001b[0m  12: provider \"aws\" \u001b[4m{\u001b[0m\u001b[0m\n",
      "\u001b[31m│\u001b[0m \u001b[0m\n",
      "\u001b[31m╵\u001b[0m\u001b[0m\n",
      "\n",
      "real\t0m10.019s\n",
      "user\t0m3.342s\n",
      "sys\t0m0.315s\n"
     ]
    },
    {
     "ename": "",
     "evalue": "124",
     "output_type": "error",
     "traceback": []
    }
   ],
   "source": [
    "#EXCLUDE:\n",
    "\n",
    "time timeout -k 0 --foreground 10 terraform plan "
   ]
  },
  {
   "cell_type": "markdown",
   "id": "breathing-blues",
   "metadata": {},
   "source": [
    "## 3.4.3 terraform plan / \\*.auto.tfvars\n",
    "\n",
    "Now create a new file, with name ending in .auto.tfvars, e.g. anyname.auto.tfvars, with content\n",
    "\n",
    "```region = \"YET-ANOTHER-bad-region-4\"```"
   ]
  },
  {
   "cell_type": "code",
   "execution_count": 14,
   "id": "gentle-saying",
   "metadata": {
    "attributes": {
     "classes": [
      "sh"
     ],
     "id": ""
    }
   },
   "outputs": [
    {
     "name": "stdout",
     "output_type": "stream",
     "text": [
      "\n",
      "Interrupt received.\n",
      "Please wait for Terraform to exit or data loss may occur.\n",
      "Gracefully shutting down...\n",
      "\n",
      "Stopping operation...\n",
      "\u001b[31m╷\u001b[0m\u001b[0m\n",
      "\u001b[31m│\u001b[0m \u001b[0m\u001b[1m\u001b[31mError: \u001b[0m\u001b[0m\u001b[1mconfiguring Terraform AWS Provider: error validating provider credentials: error calling sts:GetCallerIdentity: operation error STS: GetCallerIdentity, request canceled, context canceled\u001b[0m\n",
      "\u001b[31m│\u001b[0m \u001b[0m\n",
      "\u001b[31m│\u001b[0m \u001b[0m\u001b[0m  with provider[\"registry.terraform.io/hashicorp/aws\"],\n",
      "\u001b[31m│\u001b[0m \u001b[0m  on main.tf line 12, in provider \"aws\":\n",
      "\u001b[31m│\u001b[0m \u001b[0m  12: provider \"aws\" \u001b[4m{\u001b[0m\u001b[0m\n",
      "\u001b[31m│\u001b[0m \u001b[0m\n",
      "\u001b[31m╵\u001b[0m\u001b[0m\n",
      "\n",
      "real\t0m10.019s\n",
      "user\t0m3.308s\n",
      "sys\t0m0.284s\n"
     ]
    },
    {
     "ename": "",
     "evalue": "124",
     "output_type": "error",
     "traceback": []
    }
   ],
   "source": [
    "#EXCLUDE:\n",
    "\n",
    "cat > test.auto.tfvars <<EOF\n",
    "region = \"YET-ANOTHER-bad-region-4\"\n",
    "EOF\n",
    "\n",
    "time timeout -k 0 --foreground 10 terraform plan "
   ]
  },
  {
   "cell_type": "markdown",
   "id": "desperate-wagner",
   "metadata": {},
   "source": [
    "Attempt the plan again and observe how this file now takes precedenece\n",
    "\n",
    "## 3.4.4 terraform plan / --var\n",
    "\n",
    "\n",
    "Now try the command\n",
    "\n",
    "```terraform plan --var region=BAD-region-5```"
   ]
  },
  {
   "cell_type": "code",
   "execution_count": 15,
   "id": "afraid-particle",
   "metadata": {
    "attributes": {
     "classes": [
      "sh"
     ],
     "id": ""
    }
   },
   "outputs": [
    {
     "name": "stdout",
     "output_type": "stream",
     "text": [
      "\n",
      "Interrupt received.\n",
      "Please wait for Terraform to exit or data loss may occur.\n",
      "Gracefully shutting down...\n",
      "\n",
      "Stopping operation...\n",
      "\u001b[31m╷\u001b[0m\u001b[0m\n",
      "\u001b[31m│\u001b[0m \u001b[0m\u001b[1m\u001b[31mError: \u001b[0m\u001b[0m\u001b[1mconfiguring Terraform AWS Provider: error validating provider credentials: error calling sts:GetCallerIdentity: operation error STS: GetCallerIdentity, request canceled, context canceled\u001b[0m\n",
      "\u001b[31m│\u001b[0m \u001b[0m\n",
      "\u001b[31m│\u001b[0m \u001b[0m\u001b[0m  with provider[\"registry.terraform.io/hashicorp/aws\"],\n",
      "\u001b[31m│\u001b[0m \u001b[0m  on main.tf line 12, in provider \"aws\":\n",
      "\u001b[31m│\u001b[0m \u001b[0m  12: provider \"aws\" \u001b[4m{\u001b[0m\u001b[0m\n",
      "\u001b[31m│\u001b[0m \u001b[0m\n",
      "\u001b[31m╵\u001b[0m\u001b[0m\n",
      "\n",
      "real\t0m10.018s\n",
      "user\t0m3.389s\n",
      "sys\t0m0.287s\n"
     ]
    },
    {
     "ename": "",
     "evalue": "124",
     "output_type": "error",
     "traceback": []
    }
   ],
   "source": [
    "#EXCLUDE:\n",
    "time timeout -k 0 --foreground 10 terraform plan "
   ]
  },
  {
   "cell_type": "markdown",
   "id": "monetary-superior",
   "metadata": {},
   "source": [
    "## 3.4.5 terraform plan / --var-file\n",
    "\n",
    "Now create a file called production.tfvars containing:\n",
    "\n",
    "```region = \"BAD-region-6\"```"
   ]
  },
  {
   "cell_type": "markdown",
   "id": "inside-driver",
   "metadata": {},
   "source": [
    "Try respectively the commands below and note the different errors obtained:\n",
    "\n",
    "- **terraform plan**\n",
    "- **terraform plan --var region=BAD-REGION-5**\n",
    "- **terraform plan --var region=BAD-REGION-5 --var-file=production.tfvars**\n",
    "- **terraform plan --var-file=production.tfvars --var region=BAD-REGION-5**\n",
    "- **terraform plan --var region=BAD-region-7 --var region=BAD-REGION-5**"
   ]
  },
  {
   "cell_type": "code",
   "execution_count": 16,
   "id": "north-willow",
   "metadata": {
    "attributes": {
     "classes": [
      "sh"
     ],
     "id": ""
    }
   },
   "outputs": [
    {
     "name": "stdout",
     "output_type": "stream",
     "text": [
      "\n",
      "Interrupt received.\n",
      "Please wait for Terraform to exit or data loss may occur.\n",
      "Gracefully shutting down...\n",
      "\n",
      "Stopping operation...\n",
      "\u001b[31m╷\u001b[0m\u001b[0m\n",
      "\u001b[31m│\u001b[0m \u001b[0m\u001b[1m\u001b[31mError: \u001b[0m\u001b[0m\u001b[1mconfiguring Terraform AWS Provider: error validating provider credentials: error calling sts:GetCallerIdentity: operation error STS: GetCallerIdentity, request canceled, context canceled\u001b[0m\n",
      "\u001b[31m│\u001b[0m \u001b[0m\n",
      "\u001b[31m│\u001b[0m \u001b[0m\u001b[0m  with provider[\"registry.terraform.io/hashicorp/aws\"],\n",
      "\u001b[31m│\u001b[0m \u001b[0m  on main.tf line 12, in provider \"aws\":\n",
      "\u001b[31m│\u001b[0m \u001b[0m  12: provider \"aws\" \u001b[4m{\u001b[0m\u001b[0m\n",
      "\u001b[31m│\u001b[0m \u001b[0m\n",
      "\u001b[31m╵\u001b[0m\u001b[0m\n",
      "\n",
      "real\t0m10.021s\n",
      "user\t0m4.193s\n",
      "sys\t0m0.385s\n"
     ]
    },
    {
     "ename": "",
     "evalue": "124",
     "output_type": "error",
     "traceback": []
    }
   ],
   "source": [
    "#EXCLUDE:\n",
    "\n",
    "cat > production.tfvars <<EOF\n",
    "region = \"BAD-region-6\"\n",
    "EOF\n",
    "\n",
    "time timeout -k 0 --foreground 10 terraform plan "
   ]
  },
  {
   "cell_type": "code",
   "execution_count": 17,
   "id": "automatic-consideration",
   "metadata": {
    "attributes": {
     "classes": [
      "sh"
     ],
     "id": ""
    }
   },
   "outputs": [
    {
     "name": "stdout",
     "output_type": "stream",
     "text": [
      "\n",
      "Interrupt received.\n",
      "Please wait for Terraform to exit or data loss may occur.\n",
      "Gracefully shutting down...\n",
      "\n",
      "Stopping operation...\n",
      "\u001b[31m╷\u001b[0m\u001b[0m\n",
      "\u001b[31m│\u001b[0m \u001b[0m\u001b[1m\u001b[31mError: \u001b[0m\u001b[0m\u001b[1mconfiguring Terraform AWS Provider: error validating provider credentials: error calling sts:GetCallerIdentity: operation error STS: GetCallerIdentity, request canceled, context canceled\u001b[0m\n",
      "\u001b[31m│\u001b[0m \u001b[0m\n",
      "\u001b[31m│\u001b[0m \u001b[0m\u001b[0m  with provider[\"registry.terraform.io/hashicorp/aws\"],\n",
      "\u001b[31m│\u001b[0m \u001b[0m  on main.tf line 12, in provider \"aws\":\n",
      "\u001b[31m│\u001b[0m \u001b[0m  12: provider \"aws\" \u001b[4m{\u001b[0m\u001b[0m\n",
      "\u001b[31m│\u001b[0m \u001b[0m\n",
      "\u001b[31m╵\u001b[0m\u001b[0m\n",
      "\n",
      "real\t0m10.040s\n",
      "user\t0m4.770s\n",
      "sys\t0m0.603s\n"
     ]
    },
    {
     "ename": "",
     "evalue": "124",
     "output_type": "error",
     "traceback": []
    }
   ],
   "source": [
    "#EXCLUDE:\n",
    "time timeout -k 0 --foreground 10 terraform plan  --var region=BAD-REGION-5"
   ]
  },
  {
   "cell_type": "code",
   "execution_count": 18,
   "id": "analyzed-history",
   "metadata": {
    "attributes": {
     "classes": [
      "sh"
     ],
     "id": ""
    }
   },
   "outputs": [
    {
     "name": "stdout",
     "output_type": "stream",
     "text": [
      "\n",
      "Interrupt received.\n",
      "Please wait for Terraform to exit or data loss may occur.\n",
      "Gracefully shutting down...\n",
      "\n",
      "Stopping operation...\n",
      "\u001b[31m╷\u001b[0m\u001b[0m\n",
      "\u001b[31m│\u001b[0m \u001b[0m\u001b[1m\u001b[31mError: \u001b[0m\u001b[0m\u001b[1mconfiguring Terraform AWS Provider: error validating provider credentials: error calling sts:GetCallerIdentity: operation error STS: GetCallerIdentity, request canceled, context canceled\u001b[0m\n",
      "\u001b[31m│\u001b[0m \u001b[0m\n",
      "\u001b[31m│\u001b[0m \u001b[0m\u001b[0m  with provider[\"registry.terraform.io/hashicorp/aws\"],\n",
      "\u001b[31m│\u001b[0m \u001b[0m  on main.tf line 12, in provider \"aws\":\n",
      "\u001b[31m│\u001b[0m \u001b[0m  12: provider \"aws\" \u001b[4m{\u001b[0m\u001b[0m\n",
      "\u001b[31m│\u001b[0m \u001b[0m\n",
      "\u001b[31m╵\u001b[0m\u001b[0m\n",
      "\n",
      "real\t0m10.043s\n",
      "user\t0m5.168s\n",
      "sys\t0m0.824s\n"
     ]
    },
    {
     "ename": "",
     "evalue": "124",
     "output_type": "error",
     "traceback": []
    }
   ],
   "source": [
    "#EXCLUDE:\n",
    "time timeout -k 0 --foreground 10 terraform plan  --var region=BAD-REGION-5 --var-file=production.tfvars"
   ]
  },
  {
   "cell_type": "code",
   "execution_count": 19,
   "id": "received-turner",
   "metadata": {
    "attributes": {
     "classes": [
      "sh"
     ],
     "id": ""
    }
   },
   "outputs": [
    {
     "name": "stdout",
     "output_type": "stream",
     "text": [
      "\n",
      "Interrupt received.\n",
      "Please wait for Terraform to exit or data loss may occur.\n",
      "Gracefully shutting down...\n",
      "\n",
      "Stopping operation...\n",
      "\u001b[31m╷\u001b[0m\u001b[0m\n",
      "\u001b[31m│\u001b[0m \u001b[0m\u001b[1m\u001b[31mError: \u001b[0m\u001b[0m\u001b[1mconfiguring Terraform AWS Provider: error validating provider credentials: error calling sts:GetCallerIdentity: operation error STS: GetCallerIdentity, request canceled, context canceled\u001b[0m\n",
      "\u001b[31m│\u001b[0m \u001b[0m\n",
      "\u001b[31m│\u001b[0m \u001b[0m\u001b[0m  with provider[\"registry.terraform.io/hashicorp/aws\"],\n",
      "\u001b[31m│\u001b[0m \u001b[0m  on main.tf line 12, in provider \"aws\":\n",
      "\u001b[31m│\u001b[0m \u001b[0m  12: provider \"aws\" \u001b[4m{\u001b[0m\u001b[0m\n",
      "\u001b[31m│\u001b[0m \u001b[0m\n",
      "\u001b[31m╵\u001b[0m\u001b[0m\n",
      "\n",
      "real\t0m10.021s\n",
      "user\t0m5.145s\n",
      "sys\t0m0.622s\n"
     ]
    },
    {
     "ename": "",
     "evalue": "124",
     "output_type": "error",
     "traceback": []
    }
   ],
   "source": [
    "#EXCLUDE:\n",
    "time timeout -k 0 --foreground 10 terraform plan  --var-file=production.tfvars --var region=BAD-REGION-5"
   ]
  },
  {
   "cell_type": "code",
   "execution_count": 20,
   "id": "hidden-david",
   "metadata": {
    "attributes": {
     "classes": [
      "sh"
     ],
     "id": ""
    }
   },
   "outputs": [
    {
     "name": "stdout",
     "output_type": "stream",
     "text": [
      "\n",
      "Interrupt received.\n",
      "Please wait for Terraform to exit or data loss may occur.\n",
      "Gracefully shutting down...\n",
      "\n",
      "Stopping operation...\n",
      "\u001b[31m╷\u001b[0m\u001b[0m\n",
      "\u001b[31m│\u001b[0m \u001b[0m\u001b[1m\u001b[31mError: \u001b[0m\u001b[0m\u001b[1mconfiguring Terraform AWS Provider: error validating provider credentials: error calling sts:GetCallerIdentity: operation error STS: GetCallerIdentity, request canceled, context canceled\u001b[0m\n",
      "\u001b[31m│\u001b[0m \u001b[0m\n",
      "\u001b[31m│\u001b[0m \u001b[0m\u001b[0m  with provider[\"registry.terraform.io/hashicorp/aws\"],\n",
      "\u001b[31m│\u001b[0m \u001b[0m  on main.tf line 12, in provider \"aws\":\n",
      "\u001b[31m│\u001b[0m \u001b[0m  12: provider \"aws\" \u001b[4m{\u001b[0m\u001b[0m\n",
      "\u001b[31m│\u001b[0m \u001b[0m\n",
      "\u001b[31m╵\u001b[0m\u001b[0m\n",
      "\n",
      "real\t0m10.025s\n",
      "user\t0m4.711s\n",
      "sys\t0m0.708s\n"
     ]
    },
    {
     "ename": "",
     "evalue": "124",
     "output_type": "error",
     "traceback": []
    }
   ],
   "source": [
    "#EXCLUDE:\n",
    "time timeout -k 0 --foreground 10 terraform plan  --var region=BAD-region-7 --var region=BAD-REGION-5"
   ]
  },
  {
   "cell_type": "markdown",
   "id": "everyday-farming",
   "metadata": {},
   "source": [
    "This exercise had demonstrated the different ways in which variables can be given default values or not and be overridden through a variety of methods.\n",
    "\n",
    "# 3.5 terraform plan / FINALLY\n",
    "\n",
    "- Now remove, or move elsewhere, the various files \\*.tfvars files\n",
    "\n",
    "- Unset the TF_VAR_region variable"
   ]
  },
  {
   "cell_type": "code",
   "execution_count": 21,
   "id": "institutional-truck",
   "metadata": {
    "attributes": {
     "classes": [
      "sh"
     ],
     "id": ""
    }
   },
   "outputs": [],
   "source": [
    "unset TF_VAR_region"
   ]
  },
  {
   "cell_type": "code",
   "execution_count": 22,
   "id": "27f164b8",
   "metadata": {
    "attributes": {
     "classes": [
      "sh"
     ],
     "id": ""
    }
   },
   "outputs": [],
   "source": [
    "#EXCLUDE\n",
    "\n",
    "sed -i.bak -e 's/bad-region-1/us-west-1/' vars.tf"
   ]
  },
  {
   "cell_type": "markdown",
   "id": "embedded-jefferson",
   "metadata": {},
   "source": [
    "- Edit the vars.tf file to set us-west-1 as the default region\n",
    "\n",
    "- Run the plan again which should complete successfully now\n",
    "\n",
    "**Note**: Your account is limited to use the *us-west-1* region.  If you set the default var.region to another value, *us-west-2* for example, the ```terraform plan``` will succeed, but the ```terraform apply``` will produce an error of the form"
   ]
  },
  {
   "cell_type": "markdown",
   "id": "secret-ceramic",
   "metadata": {},
   "source": [
    "\n",
    "**Error:** ```Error creating VPC: UnauthorizedOperation: You are not authorized to perform this operation```"
   ]
  },
  {
   "cell_type": "markdown",
   "id": "corrected-comment",
   "metadata": {},
   "source": [
    "This would be an example where ```terraform plan``` succeeds but the subsequent ```terraform apply``` can fail due to Provider specific constraints\n",
    "\n",
    "# 3.6 Apply the configuration\n",
    "\n",
    "1. remove the tfvars files you created earlier\n",
    "2. Using the region *us-west-1* now configured in vars.tf, now apply the configuration:\n",
    "\n",
    "**Note**: If you see an error message of the form ```Error: error creating subnet: InvalidParameterValue: Value (us-west-1a) for parameter availabilityZone is invalid. Subnets can currently only be created in the following availability zones: us-west-1b, us-west-1c.\n",
    "\tstatus code: 400, request id: 437fa72c-a0f1-41ea-b2b1-245baf0a8cb1``` you will need to modify the **aws_availability_zone** variable in vars.tf to use *us-west-1b* or us-west-1c*"
   ]
  },
  {
   "cell_type": "code",
   "execution_count": 23,
   "id": "coupled-roommate",
   "metadata": {
    "attributes": {
     "classes": [
      "sh"
     ],
     "id": ""
    }
   },
   "outputs": [],
   "source": [
    "#EXCLUDE\n",
    "sed -i.bak -e 's/us-west-1a/us-west-1b/' vars.tf"
   ]
  },
  {
   "cell_type": "code",
   "execution_count": 24,
   "id": "coordinated-paraguay",
   "metadata": {},
   "outputs": [
    {
     "name": "stdout",
     "output_type": "stream",
     "text": [
      "\n",
      "Terraform used the selected providers to generate the following execution plan.\n",
      "Resource actions are indicated with the following symbols:\n",
      "  \u001b[32m+\u001b[0m create\n",
      "\u001b[0m\n",
      "Terraform will perform the following actions:\n",
      "\n",
      "\u001b[1m  # aws_subnet.vpc_subnet\u001b[0m will be created\u001b[0m\u001b[0m\n",
      "\u001b[0m  \u001b[32m+\u001b[0m\u001b[0m resource \"aws_subnet\" \"vpc_subnet\" {\n",
      "      \u001b[32m+\u001b[0m \u001b[0m\u001b[1m\u001b[0marn\u001b[0m\u001b[0m                                            = (known after apply)\n",
      "      \u001b[32m+\u001b[0m \u001b[0m\u001b[1m\u001b[0massign_ipv6_address_on_creation\u001b[0m\u001b[0m                = false\n",
      "      \u001b[32m+\u001b[0m \u001b[0m\u001b[1m\u001b[0mavailability_zone\u001b[0m\u001b[0m                              = \"us-west-1b\"\n",
      "      \u001b[32m+\u001b[0m \u001b[0m\u001b[1m\u001b[0mavailability_zone_id\u001b[0m\u001b[0m                           = (known after apply)\n",
      "      \u001b[32m+\u001b[0m \u001b[0m\u001b[1m\u001b[0mcidr_block\u001b[0m\u001b[0m                                     = \"192.168.0.0/16\"\n",
      "      \u001b[32m+\u001b[0m \u001b[0m\u001b[1m\u001b[0menable_dns64\u001b[0m\u001b[0m                                   = false\n",
      "      \u001b[32m+\u001b[0m \u001b[0m\u001b[1m\u001b[0menable_resource_name_dns_a_record_on_launch\u001b[0m\u001b[0m    = false\n",
      "      \u001b[32m+\u001b[0m \u001b[0m\u001b[1m\u001b[0menable_resource_name_dns_aaaa_record_on_launch\u001b[0m\u001b[0m = false\n",
      "      \u001b[32m+\u001b[0m \u001b[0m\u001b[1m\u001b[0mid\u001b[0m\u001b[0m                                             = (known after apply)\n",
      "      \u001b[32m+\u001b[0m \u001b[0m\u001b[1m\u001b[0mipv6_cidr_block_association_id\u001b[0m\u001b[0m                 = (known after apply)\n",
      "      \u001b[32m+\u001b[0m \u001b[0m\u001b[1m\u001b[0mipv6_native\u001b[0m\u001b[0m                                    = false\n",
      "      \u001b[32m+\u001b[0m \u001b[0m\u001b[1m\u001b[0mmap_public_ip_on_launch\u001b[0m\u001b[0m                        = false\n",
      "      \u001b[32m+\u001b[0m \u001b[0m\u001b[1m\u001b[0mowner_id\u001b[0m\u001b[0m                                       = (known after apply)\n",
      "      \u001b[32m+\u001b[0m \u001b[0m\u001b[1m\u001b[0mprivate_dns_hostname_type_on_launch\u001b[0m\u001b[0m            = (known after apply)\n",
      "      \u001b[32m+\u001b[0m \u001b[0m\u001b[1m\u001b[0mtags\u001b[0m\u001b[0m                                           = {\n",
      "          \u001b[32m+\u001b[0m \u001b[0m\"LabName\" = \"3.TerraformVariables\"\n",
      "          \u001b[32m+\u001b[0m \u001b[0m\"Name\"    = \"subnet1\"\n",
      "        }\n",
      "      \u001b[32m+\u001b[0m \u001b[0m\u001b[1m\u001b[0mtags_all\u001b[0m\u001b[0m                                       = {\n",
      "          \u001b[32m+\u001b[0m \u001b[0m\"Environment\" = \"Terraform Introduction\"\n",
      "          \u001b[32m+\u001b[0m \u001b[0m\"LabName\"     = \"3.TerraformVariables\"\n",
      "          \u001b[32m+\u001b[0m \u001b[0m\"Name\"        = \"subnet1\"\n",
      "        }\n",
      "      \u001b[32m+\u001b[0m \u001b[0m\u001b[1m\u001b[0mvpc_id\u001b[0m\u001b[0m                                         = (known after apply)\n",
      "    }\n",
      "\n",
      "\u001b[1m  # aws_vpc.main_vpc\u001b[0m will be created\u001b[0m\u001b[0m\n",
      "\u001b[0m  \u001b[32m+\u001b[0m\u001b[0m resource \"aws_vpc\" \"main_vpc\" {\n",
      "      \u001b[32m+\u001b[0m \u001b[0m\u001b[1m\u001b[0marn\u001b[0m\u001b[0m                                  = (known after apply)\n",
      "      \u001b[32m+\u001b[0m \u001b[0m\u001b[1m\u001b[0mcidr_block\u001b[0m\u001b[0m                           = \"192.168.0.0/16\"\n",
      "      \u001b[32m+\u001b[0m \u001b[0m\u001b[1m\u001b[0mdefault_network_acl_id\u001b[0m\u001b[0m               = (known after apply)\n",
      "      \u001b[32m+\u001b[0m \u001b[0m\u001b[1m\u001b[0mdefault_route_table_id\u001b[0m\u001b[0m               = (known after apply)\n",
      "      \u001b[32m+\u001b[0m \u001b[0m\u001b[1m\u001b[0mdefault_security_group_id\u001b[0m\u001b[0m            = (known after apply)\n",
      "      \u001b[32m+\u001b[0m \u001b[0m\u001b[1m\u001b[0mdhcp_options_id\u001b[0m\u001b[0m                      = (known after apply)\n",
      "      \u001b[32m+\u001b[0m \u001b[0m\u001b[1m\u001b[0menable_classiclink\u001b[0m\u001b[0m                   = (known after apply)\n",
      "      \u001b[32m+\u001b[0m \u001b[0m\u001b[1m\u001b[0menable_classiclink_dns_support\u001b[0m\u001b[0m       = (known after apply)\n",
      "      \u001b[32m+\u001b[0m \u001b[0m\u001b[1m\u001b[0menable_dns_hostnames\u001b[0m\u001b[0m                 = (known after apply)\n",
      "      \u001b[32m+\u001b[0m \u001b[0m\u001b[1m\u001b[0menable_dns_support\u001b[0m\u001b[0m                   = true\n",
      "      \u001b[32m+\u001b[0m \u001b[0m\u001b[1m\u001b[0menable_network_address_usage_metrics\u001b[0m\u001b[0m = (known after apply)\n",
      "      \u001b[32m+\u001b[0m \u001b[0m\u001b[1m\u001b[0mid\u001b[0m\u001b[0m                                   = (known after apply)\n",
      "      \u001b[32m+\u001b[0m \u001b[0m\u001b[1m\u001b[0minstance_tenancy\u001b[0m\u001b[0m                     = \"default\"\n",
      "      \u001b[32m+\u001b[0m \u001b[0m\u001b[1m\u001b[0mipv6_association_id\u001b[0m\u001b[0m                  = (known after apply)\n",
      "      \u001b[32m+\u001b[0m \u001b[0m\u001b[1m\u001b[0mipv6_cidr_block\u001b[0m\u001b[0m                      = (known after apply)\n",
      "      \u001b[32m+\u001b[0m \u001b[0m\u001b[1m\u001b[0mipv6_cidr_block_network_border_group\u001b[0m\u001b[0m = (known after apply)\n",
      "      \u001b[32m+\u001b[0m \u001b[0m\u001b[1m\u001b[0mmain_route_table_id\u001b[0m\u001b[0m                  = (known after apply)\n",
      "      \u001b[32m+\u001b[0m \u001b[0m\u001b[1m\u001b[0mowner_id\u001b[0m\u001b[0m                             = (known after apply)\n",
      "      \u001b[32m+\u001b[0m \u001b[0m\u001b[1m\u001b[0mtags\u001b[0m\u001b[0m                                 = {\n",
      "          \u001b[32m+\u001b[0m \u001b[0m\"LabName\"  = \"3.TerraformVariables\"\n",
      "          \u001b[32m+\u001b[0m \u001b[0m\"Location\" = \"London - with cidr 192.168.0.0/16\"\n",
      "          \u001b[32m+\u001b[0m \u001b[0m\"Name\"     = \"Main\"\n",
      "        }\n",
      "      \u001b[32m+\u001b[0m \u001b[0m\u001b[1m\u001b[0mtags_all\u001b[0m\u001b[0m                             = {\n",
      "          \u001b[32m+\u001b[0m \u001b[0m\"Environment\" = \"Terraform Introduction\"\n",
      "          \u001b[32m+\u001b[0m \u001b[0m\"LabName\"     = \"3.TerraformVariables\"\n",
      "          \u001b[32m+\u001b[0m \u001b[0m\"Location\"    = \"London - with cidr 192.168.0.0/16\"\n",
      "          \u001b[32m+\u001b[0m \u001b[0m\"Name\"        = \"Main\"\n",
      "        }\n",
      "    }\n",
      "\n",
      "\u001b[0m\u001b[1mPlan:\u001b[0m 2 to add, 0 to change, 0 to destroy.\n",
      "\u001b[0m\u001b[0m\u001b[1maws_vpc.main_vpc: Creating...\u001b[0m\u001b[0m\n",
      "\u001b[0m\u001b[1maws_vpc.main_vpc: Creation complete after 3s [id=vpc-01738d3a6a6d7e6bf]\u001b[0m\n",
      "\u001b[0m\u001b[1maws_subnet.vpc_subnet: Creating...\u001b[0m\u001b[0m\n",
      "\u001b[0m\u001b[1maws_subnet.vpc_subnet: Creation complete after 1s [id=subnet-092c4dc12f25cb69e]\u001b[0m\n",
      "\u001b[0m\u001b[1m\u001b[32m\n",
      "Apply complete! Resources: 2 added, 0 changed, 0 destroyed.\n",
      "\u001b[0m\n"
     ]
    }
   ],
   "source": [
    "rm *.tfvars\n",
    "TF_APPLY"
   ]
  },
  {
   "cell_type": "markdown",
   "id": "italic-invasion",
   "metadata": {},
   "source": [
    "Assuming that this works correctly, AWS will create a VPC, and a subnet in the vpc.\n",
    "\n",
    "Note that we have not created a VM instance this time, so we cannot use ssh to connect to anythng.\n",
    "\n",
    "We will revisit *vpc* later."
   ]
  },
  {
   "cell_type": "markdown",
   "id": "rough-drove",
   "metadata": {},
   "source": [
    "# 3.7. The configuration when visualized should look like\n",
    "\n",
    "<div>\n",
    "    <object data=\"graph.svg\" type=\"image/svg+xml\">\n",
    "    </object>\n",
    "</div>\n",
    "\n",
    "![](./graph.svg)"
   ]
  },
  {
   "cell_type": "markdown",
   "id": "artificial-republic",
   "metadata": {},
   "source": [
    "# 3.8. Environment\n",
    "\n",
    "Look at the AWS and TF environment variables which are already set in your environment\n",
    "\n",
    "Look at the AWS secret keys using: ```env | grep ^AWS_```\n",
    "\n",
    "Look at the TF_DATA_DIR variable: ```env | grep ^TF_```"
   ]
  },
  {
   "cell_type": "markdown",
   "id": "surface-taylor",
   "metadata": {},
   "source": [
    "# 3.9. Clean up"
   ]
  },
  {
   "cell_type": "code",
   "execution_count": 25,
   "id": "phantom-petroleum",
   "metadata": {},
   "outputs": [
    {
     "name": "stdout",
     "output_type": "stream",
     "text": [
      "\u001b[0m\u001b[1maws_vpc.main_vpc: Refreshing state... [id=vpc-01738d3a6a6d7e6bf]\u001b[0m\n",
      "\u001b[0m\u001b[1maws_subnet.vpc_subnet: Refreshing state... [id=subnet-092c4dc12f25cb69e]\u001b[0m\n",
      "\n",
      "Terraform used the selected providers to generate the following execution plan.\n",
      "Resource actions are indicated with the following symbols:\n",
      "  \u001b[31m-\u001b[0m destroy\n",
      "\u001b[0m\n",
      "Terraform will perform the following actions:\n",
      "\n",
      "\u001b[1m  # aws_subnet.vpc_subnet\u001b[0m will be \u001b[1m\u001b[31mdestroyed\u001b[0m\u001b[0m\n",
      "\u001b[0m  \u001b[31m-\u001b[0m\u001b[0m resource \"aws_subnet\" \"vpc_subnet\" {\n",
      "      \u001b[31m-\u001b[0m \u001b[0m\u001b[1m\u001b[0marn\u001b[0m\u001b[0m                                            = \"arn:aws:ec2:us-west-1:816376574968:subnet/subnet-092c4dc12f25cb69e\" \u001b[90m->\u001b[0m \u001b[0m\u001b[90mnull\u001b[0m\u001b[0m\n",
      "      \u001b[31m-\u001b[0m \u001b[0m\u001b[1m\u001b[0massign_ipv6_address_on_creation\u001b[0m\u001b[0m                = false \u001b[90m->\u001b[0m \u001b[0m\u001b[90mnull\u001b[0m\u001b[0m\n",
      "      \u001b[31m-\u001b[0m \u001b[0m\u001b[1m\u001b[0mavailability_zone\u001b[0m\u001b[0m                              = \"us-west-1b\" \u001b[90m->\u001b[0m \u001b[0m\u001b[90mnull\u001b[0m\u001b[0m\n",
      "      \u001b[31m-\u001b[0m \u001b[0m\u001b[1m\u001b[0mavailability_zone_id\u001b[0m\u001b[0m                           = \"usw1-az3\" \u001b[90m->\u001b[0m \u001b[0m\u001b[90mnull\u001b[0m\u001b[0m\n",
      "      \u001b[31m-\u001b[0m \u001b[0m\u001b[1m\u001b[0mcidr_block\u001b[0m\u001b[0m                                     = \"192.168.0.0/16\" \u001b[90m->\u001b[0m \u001b[0m\u001b[90mnull\u001b[0m\u001b[0m\n",
      "      \u001b[31m-\u001b[0m \u001b[0m\u001b[1m\u001b[0menable_dns64\u001b[0m\u001b[0m                                   = false \u001b[90m->\u001b[0m \u001b[0m\u001b[90mnull\u001b[0m\u001b[0m\n",
      "      \u001b[31m-\u001b[0m \u001b[0m\u001b[1m\u001b[0menable_resource_name_dns_a_record_on_launch\u001b[0m\u001b[0m    = false \u001b[90m->\u001b[0m \u001b[0m\u001b[90mnull\u001b[0m\u001b[0m\n",
      "      \u001b[31m-\u001b[0m \u001b[0m\u001b[1m\u001b[0menable_resource_name_dns_aaaa_record_on_launch\u001b[0m\u001b[0m = false \u001b[90m->\u001b[0m \u001b[0m\u001b[90mnull\u001b[0m\u001b[0m\n",
      "      \u001b[31m-\u001b[0m \u001b[0m\u001b[1m\u001b[0mid\u001b[0m\u001b[0m                                             = \"subnet-092c4dc12f25cb69e\" \u001b[90m->\u001b[0m \u001b[0m\u001b[90mnull\u001b[0m\u001b[0m\n",
      "      \u001b[31m-\u001b[0m \u001b[0m\u001b[1m\u001b[0mipv6_native\u001b[0m\u001b[0m                                    = false \u001b[90m->\u001b[0m \u001b[0m\u001b[90mnull\u001b[0m\u001b[0m\n",
      "      \u001b[31m-\u001b[0m \u001b[0m\u001b[1m\u001b[0mmap_customer_owned_ip_on_launch\u001b[0m\u001b[0m                = false \u001b[90m->\u001b[0m \u001b[0m\u001b[90mnull\u001b[0m\u001b[0m\n",
      "      \u001b[31m-\u001b[0m \u001b[0m\u001b[1m\u001b[0mmap_public_ip_on_launch\u001b[0m\u001b[0m                        = false \u001b[90m->\u001b[0m \u001b[0m\u001b[90mnull\u001b[0m\u001b[0m\n",
      "      \u001b[31m-\u001b[0m \u001b[0m\u001b[1m\u001b[0mowner_id\u001b[0m\u001b[0m                                       = \"816376574968\" \u001b[90m->\u001b[0m \u001b[0m\u001b[90mnull\u001b[0m\u001b[0m\n",
      "      \u001b[31m-\u001b[0m \u001b[0m\u001b[1m\u001b[0mprivate_dns_hostname_type_on_launch\u001b[0m\u001b[0m            = \"ip-name\" \u001b[90m->\u001b[0m \u001b[0m\u001b[90mnull\u001b[0m\u001b[0m\n",
      "      \u001b[31m-\u001b[0m \u001b[0m\u001b[1m\u001b[0mtags\u001b[0m\u001b[0m                                           = {\n",
      "          \u001b[31m-\u001b[0m \u001b[0m\"LabName\" = \"3.TerraformVariables\"\n",
      "          \u001b[31m-\u001b[0m \u001b[0m\"Name\"    = \"subnet1\"\n",
      "        } \u001b[90m->\u001b[0m \u001b[0m\u001b[90mnull\u001b[0m\u001b[0m\n",
      "      \u001b[31m-\u001b[0m \u001b[0m\u001b[1m\u001b[0mtags_all\u001b[0m\u001b[0m                                       = {\n",
      "          \u001b[31m-\u001b[0m \u001b[0m\"Environment\" = \"Terraform Introduction\"\n",
      "          \u001b[31m-\u001b[0m \u001b[0m\"LabName\"     = \"3.TerraformVariables\"\n",
      "          \u001b[31m-\u001b[0m \u001b[0m\"Name\"        = \"subnet1\"\n",
      "        } \u001b[90m->\u001b[0m \u001b[0m\u001b[90mnull\u001b[0m\u001b[0m\n",
      "      \u001b[31m-\u001b[0m \u001b[0m\u001b[1m\u001b[0mvpc_id\u001b[0m\u001b[0m                                         = \"vpc-01738d3a6a6d7e6bf\" \u001b[90m->\u001b[0m \u001b[0m\u001b[90mnull\u001b[0m\u001b[0m\n",
      "    }\n",
      "\n",
      "\u001b[1m  # aws_vpc.main_vpc\u001b[0m will be \u001b[1m\u001b[31mdestroyed\u001b[0m\u001b[0m\n",
      "\u001b[0m  \u001b[31m-\u001b[0m\u001b[0m resource \"aws_vpc\" \"main_vpc\" {\n",
      "      \u001b[31m-\u001b[0m \u001b[0m\u001b[1m\u001b[0marn\u001b[0m\u001b[0m                                  = \"arn:aws:ec2:us-west-1:816376574968:vpc/vpc-01738d3a6a6d7e6bf\" \u001b[90m->\u001b[0m \u001b[0m\u001b[90mnull\u001b[0m\u001b[0m\n",
      "      \u001b[31m-\u001b[0m \u001b[0m\u001b[1m\u001b[0massign_generated_ipv6_cidr_block\u001b[0m\u001b[0m     = false \u001b[90m->\u001b[0m \u001b[0m\u001b[90mnull\u001b[0m\u001b[0m\n",
      "      \u001b[31m-\u001b[0m \u001b[0m\u001b[1m\u001b[0mcidr_block\u001b[0m\u001b[0m                           = \"192.168.0.0/16\" \u001b[90m->\u001b[0m \u001b[0m\u001b[90mnull\u001b[0m\u001b[0m\n",
      "      \u001b[31m-\u001b[0m \u001b[0m\u001b[1m\u001b[0mdefault_network_acl_id\u001b[0m\u001b[0m               = \"acl-0ac2cb8fd7db99a33\" \u001b[90m->\u001b[0m \u001b[0m\u001b[90mnull\u001b[0m\u001b[0m\n",
      "      \u001b[31m-\u001b[0m \u001b[0m\u001b[1m\u001b[0mdefault_route_table_id\u001b[0m\u001b[0m               = \"rtb-0e8ff2d0c302e88a1\" \u001b[90m->\u001b[0m \u001b[0m\u001b[90mnull\u001b[0m\u001b[0m\n",
      "      \u001b[31m-\u001b[0m \u001b[0m\u001b[1m\u001b[0mdefault_security_group_id\u001b[0m\u001b[0m            = \"sg-0601d2790a93b5f17\" \u001b[90m->\u001b[0m \u001b[0m\u001b[90mnull\u001b[0m\u001b[0m\n",
      "      \u001b[31m-\u001b[0m \u001b[0m\u001b[1m\u001b[0mdhcp_options_id\u001b[0m\u001b[0m                      = \"dopt-5f798839\" \u001b[90m->\u001b[0m \u001b[0m\u001b[90mnull\u001b[0m\u001b[0m\n",
      "      \u001b[31m-\u001b[0m \u001b[0m\u001b[1m\u001b[0menable_classiclink\u001b[0m\u001b[0m                   = false \u001b[90m->\u001b[0m \u001b[0m\u001b[90mnull\u001b[0m\u001b[0m\n",
      "      \u001b[31m-\u001b[0m \u001b[0m\u001b[1m\u001b[0menable_classiclink_dns_support\u001b[0m\u001b[0m       = false \u001b[90m->\u001b[0m \u001b[0m\u001b[90mnull\u001b[0m\u001b[0m\n",
      "      \u001b[31m-\u001b[0m \u001b[0m\u001b[1m\u001b[0menable_dns_hostnames\u001b[0m\u001b[0m                 = false \u001b[90m->\u001b[0m \u001b[0m\u001b[90mnull\u001b[0m\u001b[0m\n",
      "      \u001b[31m-\u001b[0m \u001b[0m\u001b[1m\u001b[0menable_dns_support\u001b[0m\u001b[0m                   = true \u001b[90m->\u001b[0m \u001b[0m\u001b[90mnull\u001b[0m\u001b[0m\n",
      "      \u001b[31m-\u001b[0m \u001b[0m\u001b[1m\u001b[0menable_network_address_usage_metrics\u001b[0m\u001b[0m = false \u001b[90m->\u001b[0m \u001b[0m\u001b[90mnull\u001b[0m\u001b[0m\n",
      "      \u001b[31m-\u001b[0m \u001b[0m\u001b[1m\u001b[0mid\u001b[0m\u001b[0m                                   = \"vpc-01738d3a6a6d7e6bf\" \u001b[90m->\u001b[0m \u001b[0m\u001b[90mnull\u001b[0m\u001b[0m\n",
      "      \u001b[31m-\u001b[0m \u001b[0m\u001b[1m\u001b[0minstance_tenancy\u001b[0m\u001b[0m                     = \"default\" \u001b[90m->\u001b[0m \u001b[0m\u001b[90mnull\u001b[0m\u001b[0m\n",
      "      \u001b[31m-\u001b[0m \u001b[0m\u001b[1m\u001b[0mipv6_netmask_length\u001b[0m\u001b[0m                  = 0 \u001b[90m->\u001b[0m \u001b[0m\u001b[90mnull\u001b[0m\u001b[0m\n",
      "      \u001b[31m-\u001b[0m \u001b[0m\u001b[1m\u001b[0mmain_route_table_id\u001b[0m\u001b[0m                  = \"rtb-0e8ff2d0c302e88a1\" \u001b[90m->\u001b[0m \u001b[0m\u001b[90mnull\u001b[0m\u001b[0m\n",
      "      \u001b[31m-\u001b[0m \u001b[0m\u001b[1m\u001b[0mowner_id\u001b[0m\u001b[0m                             = \"816376574968\" \u001b[90m->\u001b[0m \u001b[0m\u001b[90mnull\u001b[0m\u001b[0m\n",
      "      \u001b[31m-\u001b[0m \u001b[0m\u001b[1m\u001b[0mtags\u001b[0m\u001b[0m                                 = {\n",
      "          \u001b[31m-\u001b[0m \u001b[0m\"LabName\"  = \"3.TerraformVariables\"\n",
      "          \u001b[31m-\u001b[0m \u001b[0m\"Location\" = \"London - with cidr 192.168.0.0/16\"\n",
      "          \u001b[31m-\u001b[0m \u001b[0m\"Name\"     = \"Main\"\n",
      "        } \u001b[90m->\u001b[0m \u001b[0m\u001b[90mnull\u001b[0m\u001b[0m\n",
      "      \u001b[31m-\u001b[0m \u001b[0m\u001b[1m\u001b[0mtags_all\u001b[0m\u001b[0m                             = {\n",
      "          \u001b[31m-\u001b[0m \u001b[0m\"Environment\" = \"Terraform Introduction\"\n",
      "          \u001b[31m-\u001b[0m \u001b[0m\"LabName\"     = \"3.TerraformVariables\"\n",
      "          \u001b[31m-\u001b[0m \u001b[0m\"Location\"    = \"London - with cidr 192.168.0.0/16\"\n",
      "          \u001b[31m-\u001b[0m \u001b[0m\"Name\"        = \"Main\"\n",
      "        } \u001b[90m->\u001b[0m \u001b[0m\u001b[90mnull\u001b[0m\u001b[0m\n",
      "    }\n",
      "\n",
      "\u001b[0m\u001b[1mPlan:\u001b[0m 0 to add, 0 to change, 2 to destroy.\n",
      "\u001b[0m\u001b[0m\u001b[1maws_subnet.vpc_subnet: Destroying... [id=subnet-092c4dc12f25cb69e]\u001b[0m\u001b[0m\n",
      "\u001b[0m\u001b[1maws_subnet.vpc_subnet: Destruction complete after 1s\u001b[0m\n",
      "\u001b[0m\u001b[1maws_vpc.main_vpc: Destroying... [id=vpc-01738d3a6a6d7e6bf]\u001b[0m\u001b[0m\n",
      "\u001b[0m\u001b[1maws_vpc.main_vpc: Destruction complete after 1s\u001b[0m\n",
      "\u001b[0m\u001b[1m\u001b[32m\n",
      "Destroy complete! Resources: 2 destroyed.\n",
      "\u001b[0m\n"
     ]
    }
   ],
   "source": [
    "TF_DESTROY"
   ]
  },
  {
   "cell_type": "markdown",
   "id": "meaning-notice",
   "metadata": {},
   "source": [
    "To destroy the formerly created AWS vpc, and all subnets.\n",
    "\n",
    "**Note**: If you're really sure, really really sure, you can auto approve the destroy by using the -auto-approve option:\n",
    "\n",
    "```terraform destroy -auto-approve```"
   ]
  },
  {
   "cell_type": "markdown",
   "id": "sustained-prospect",
   "metadata": {},
   "source": [
    "<hr/>\n",
    "\n",
    "# Summary\n",
    "\n",
    "In this exercise we experimented with different methods to define variable values in Terraform and the order of precedence between those methods\n",
    "\n",
    "# Solutions\n",
    "\n",
    "Solutions are available in the *github* repo at ```https://github.com/mjbright/tf-scenarios``` under Solutions at https://github.com/mjbright/tf-scenarios/tree/main/Solutions/lab3\n",
    "\n",
    "# **Stretch Goal 1:** Outputs\n",
    "\n",
    "1. Extend the current configuration to create an aws_instance resource as we did in the previous exercise\n",
    "2. Add output blocks in outputs.tf to show\n",
    "  - Each of public_ip, public_dns and private_ip values for the instance\n",
    "  - One interpolated string containing each of the above values\n",
    "\n",
    "# **Stretch Goal 2:** *locals*\n",
    "\n",
    "Look at the concept of locals\n",
    "\n",
    "https://www.terraform.io/docs/configuration/locals.html\n",
    "\n",
    "and especially \"*When To Use Local Values*\"\n",
    "\n",
    "https://www.terraform.io/docs/configuration/locals.html#when-to-use-local-values\n",
    "\n",
    "Look at your config: are there cases where we could use locals to simplify\n",
    "\n",
    "Locals could be useful on more complex configurations especially\n",
    "\n",
    "# **Stretch Goal 3:** *terraform console*\n",
    "\n",
    "The *terraform console* provides a REPL environment (Read-Eval-Print-Loop interpreter) which allows to manipulate variables of the current Terraform state\n",
    "\n",
    "Launch the console using ```terraform console``` and inspect variables, attributes and outputs which you've defined in your configuration\n",
    "\n",
    "<div class=\"alert alert-danger\"> <b>NOTE</b> Terraform console is not very useable !! </div>\n",
    "\n"
   ]
  },
  {
   "cell_type": "markdown",
   "id": "b4e7febf",
   "metadata": {},
   "source": [
    "## Cleanup\n",
    "\n",
    "Again cleanup your config afterwards\n",
    "\n",
    "```terraform destroy -auto-approve```"
   ]
  },
  {
   "cell_type": "markdown",
   "id": "organizational-blues",
   "metadata": {},
   "source": [
    "<hr/>\n",
    "\n",
    "<!-- Why did this work before - but not now ??\n",
    "<img src=\"../../../static/images/ThickBlueBar.png\" />\n",
    "<img src=\"../../../static/images/LOGO.jpg\" width=200 />\n",
    "-->\n",
    "\n",
    "<img src=\"../images/ThickBlueBar.png\" />\n",
    "<img src=\"../images/LOGO.jpg\" width=200 />"
   ]
  },
  {
   "cell_type": "code",
   "execution_count": 26,
   "id": "14dc9b26",
   "metadata": {},
   "outputs": [
    {
     "name": "stdout",
     "output_type": "stream",
     "text": [
      "2023-Jan-09:[TF-1.3.7] Lab updated on node tf[terraform 1.3.7]\n"
     ]
    },
    {
     "ename": "",
     "evalue": "1",
     "output_type": "error",
     "traceback": []
    }
   ],
   "source": [
    "EXEC cd $NB_DIR\n",
    "EXCL_FN_LAB_ENV"
   ]
  },
  {
   "cell_type": "markdown",
   "id": "731e664c",
   "metadata": {},
   "source": [
    "# Pragma --EXCLUDE--SECTION--\n",
    "\n",
    "<div class=\"alert alert-danger\"> <b>NOTE</b> Save notebook first </div>\n",
    "<!-- ## **NOTE:** Save notebook first -->\n",
    "\n",
    "<div id=\"END\" /> <a href=\"#TOP\" > TOP OF PAGE </a>  <!-- must appear after EXCLUDE pragma !! -->"
   ]
  },
  {
   "cell_type": "code",
   "execution_count": 27,
   "id": "4287f8ab",
   "metadata": {
    "scrolled": false
   },
   "outputs": [
    {
     "name": "stdout",
     "output_type": "stream",
     "text": [
      "TF-1.3.7 -rw-rw-r-- 1 student student 9 Jan  8 19:18 /home/student/.environment\n",
      "Reading package lists... 0%Reading package lists... 100%Reading package lists... Done\n",
      "Building dependency tree... 0%Building dependency tree... 0%Building dependency tree... 50%Building dependency tree... 50%Building dependency tree       \n",
      "Reading state information... 0%Reading state information... 0%Reading state information... Done\n",
      "sysvbanner is already the newest version (1:1.0-17fakesync1).\n",
      "The following packages were automatically installed and are no longer required:\n",
      "  linux-headers-5.4.0-120 linux-headers-5.4.0-120-generic\n",
      "  linux-image-5.4.0-120-generic linux-modules-5.4.0-120-generic\n",
      "Use 'sudo apt autoremove' to remove them.\n",
      "0 upgraded, 0 newly installed, 0 to remove and 0 not upgraded.\n",
      "/home/student/src/mjbright.tf-scenarios-private/ServeUpLabs/content/tf-labs/3.TerraformVariables\n",
      "\n",
      "==== Filtering current notebook [/home/student/src/mjbright.tf-scenarios-private/ServeUpLabs/content/tf-labs/3.TerraformVariables/README.ipynb] ====\n",
      "\n",
      "******** Mon 09 Jan 2023 02:33:19 PM UTC: Notebook filtered on tf TF-1.3.7\n",
      "\n",
      "mv: cannot move '/home/student/Solutions/Lab' to '/home/student/Solutions/BAK/Lab': Directory not empty\n",
      "-- . ~/scripts/nbtool.rc\n",
      "TF-1.3.7 -rw-rw-r-- 1 student student 9 Jan  8 19:18 /home/student/.environment\n",
      "Reading package lists... 0%Reading package lists... 100%Reading package lists... Done\n",
      "Building dependency tree... 0%Building dependency tree... 0%Building dependency tree... 50%Building dependency tree... 50%Building dependency tree       \n",
      "Reading state information... 0%Reading state information... 0%Reading state information... Done\n",
      "sysvbanner is already the newest version (1:1.0-17fakesync1).\n",
      "The following packages were automatically installed and are no longer required:\n",
      "  linux-headers-5.4.0-120 linux-headers-5.4.0-120-generic\n",
      "  linux-image-5.4.0-120-generic linux-modules-5.4.0-120-generic\n",
      "Use 'sudo apt autoremove' to remove them.\n",
      "0 upgraded, 0 newly installed, 0 to remove and 0 not upgraded.\n",
      "/home/student/.venv/TRAINING/bin/python3\n",
      "\n",
      "-- ~/.venv/TRAINING/bin/python3 ~/scripts/nbtool.py -f ~/src/mjbright.tf-scenarios-private/ServeUpLabs/content/tf-labs/3.TerraformVariables/README.ipynb\n",
      "---- no VARS_SEEN ----\n",
      "i/p nb has 0 variables\n",
      "/home/student/src/mjbright.tf-scenarios-private/ServeUpLabs/content/tf-labs/3.TerraformVariables/README.ipynb:\n",
      "\t#cells=61\n",
      "cells to include[#36]=[[5, 6, 9, 10, 11, 12, 13, 15, 16, 17, 18, 19, 20, 22, 24, 25, 27, 29, 31, 32, 38, 39, 41, 42, 43, 45, 46, 47, 48, 49, 50, 51, 52, 53, 54, 55]]\n",
      "cells to include[#36]=[[55, 54, 53, 52, 51, 50, 49, 48, 47, 46, 45, 43, 42, 41, 39, 38, 32, 31, 29, 27, 25, 24, 22, 20, 19, 18, 17, 16, 15, 13, 12, 11, 10, 9, 6, 5]]\n",
      "included markdown cells=[5, 9, 11, 13, 16, 18, 19, 22, 24, 25, 27, 29, 31, 32, 38, 41, 42, 43, 46, 47, 48, 49, 51, 52, 53, 54]\n",
      "included code     cells=[6, 10, 12, 15, 17, 20, 39, 45, 50, 55]\n",
      "excluded          cells=[0, 1, 2, 3, 4, 7, 8, 14, 21, 23, 26, 28, 30, 33, 34, 35, 36, 37, 40, 44, 56, 57, 58, 59]\n",
      "---- no VARS_SEEN ----\n",
      "o/p nb has 0 variables\n",
      "/home/student/src/mjbright.tf-scenarios-private/ServeUpLabs/content/tf-labs/3.TerraformVariables/README.ipynb.filtered.ipynb:\n",
      "\t#cells=36\n",
      "-rw-rw-r-- 1 student student 27290 Jan  9 14:33 README.ipynb.filtered.ipynb\n",
      "\n",
      "1 VAR defs/usages in i/p file: ~/src/mjbright.tf-scenarios-private/ServeUpLabs/content/tf-labs/3.TerraformVariables/README.ipynb\n",
      "\n",
      "Good: No VAR defs/usages in o/p file\n",
      "\n",
      "-- jupyter-nbconvert --to markdown README.ipynb.filtered.ipynb\n",
      "[NbConvertApp] Converting notebook README.ipynb.filtered.ipynb to markdown\n",
      "[NbConvertApp] Writing 21127 bytes to README.ipynb.filtered.md\n",
      "\n",
      "-- jupyter-nbconvert --to html README.ipynb.filtered.ipynb\n",
      "[NbConvertApp] Converting notebook README.ipynb.filtered.ipynb to html\n",
      "[NbConvertApp] Writing 621476 bytes to README.ipynb.filtered.html\n",
      "\n",
      "\u001b[32m-rw-rw-r-- 1 student student 27290 Jan  9 14:33 Lab_3.TerraformVariables.ipynb\u001b[0m\n",
      "\u001b[32m-rw-rw-r-- 1 student student 42331 Jan  9 14:33 Lab_3.TerraformVariables.md\u001b[0m\n"
     ]
    }
   ],
   "source": [
    "set +x\n",
    ". ~/scripts/nbtool.rc\n",
    "pwd\n",
    "#NB_DIR=$PWD\n",
    "#echo NB=$NB\n",
    "#echo NB_DIR=$NB_DIR\n",
    "#set -x\n",
    "set +x\n",
    "EXCL_FN_FILTER_NOTEBOOK $NB"
   ]
  },
  {
   "cell_type": "code",
   "execution_count": null,
   "id": "80d91a7e",
   "metadata": {},
   "outputs": [],
   "source": [
    "exit 1"
   ]
  },
  {
   "cell_type": "code",
   "execution_count": null,
   "id": "d4f1fc10",
   "metadata": {},
   "outputs": [],
   "source": [
    "cd $NB_DIR\n",
    "\n",
    "nbtool.py -f index.ipynb\n",
    "\n",
    "ls -altr *.ipynb\n",
    "\n",
    "jupyter-nbconvert --to markdown index.ipynb.filtered.ipynb\n",
    "\n",
    "echo \"$FRONTMATTER\" > index.md\n",
    "\n",
    "cat index.ipynb.filtered.md >> index.md\n",
    "mv index.ipynb.filtered.md index.ipynb.filtered.md.bak\n",
    "\n",
    "ls -altr *.md"
   ]
  },
  {
   "cell_type": "code",
   "execution_count": null,
   "id": "b5cb122f",
   "metadata": {},
   "outputs": [],
   "source": []
  }
 ],
 "metadata": {
  "kernelspec": {
   "display_name": "Bash",
   "language": "bash",
   "name": "bash"
  },
  "language_info": {
   "codemirror_mode": "shell",
   "file_extension": ".sh",
   "mimetype": "text/x-sh",
   "name": "bash"
  }
 },
 "nbformat": 4,
 "nbformat_minor": 5
}
