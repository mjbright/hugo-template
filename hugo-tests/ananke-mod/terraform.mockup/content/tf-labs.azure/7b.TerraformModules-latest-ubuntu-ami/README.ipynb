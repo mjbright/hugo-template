{
 "cells": [
  {
   "cell_type": "markdown",
   "id": "3612c257",
   "metadata": {},
   "source": [
    "<div id=\"TOP\" />\n",
    "<a href=\"#END\" > END of Notebook (filter) </a>"
   ]
  },
  {
   "cell_type": "code",
   "execution_count": 1,
   "id": "0b592c5e",
   "metadata": {
    "scrolled": false
   },
   "outputs": [
    {
     "name": "stdout",
     "output_type": "stream",
     "text": [
      "==== Reading nbtool functions from '/home/student/scripts/nbtool.rc' ====\n",
      "TF-1.3.7 -rw-rw-r-- 1 student student 9 Jan  8 19:18 /home/student/.environment\n",
      "Reading package lists... 0%Reading package lists... 100%Reading package lists... Done\n",
      "Building dependency tree... 0%Building dependency tree... 0%Building dependency tree... 50%Building dependency tree... 50%Building dependency tree       \n",
      "Reading state information... 0%Reading state information... 0%Reading state information... Done\n",
      "sysvbanner is already the newest version (1:1.0-17fakesync1).\n",
      "The following packages were automatically installed and are no longer required:\n",
      "  linux-headers-5.4.0-120 linux-headers-5.4.0-120-generic\n",
      "  linux-image-5.4.0-120-generic linux-modules-5.4.0-120-generic\n",
      "Use 'sudo apt autoremove' to remove them.\n",
      "0 upgraded, 0 newly installed, 0 to remove and 0 not upgraded.\n",
      "\n",
      "******** Mon 09 Jan 2023 07:03:12 PM UTC: Notebook initialized on tf TF-1.3.7\n",
      "\n",
      "\u001b[01;31m\u001b[KNB_DIR=/home/student/src/mjbright.tf-scenarios-private/ServeUpLabs/content/tf-labs/7b.TerraformModules-latest-ubuntu-ami\u001b[m\u001b[K\n",
      "\n",
      "==== Setting TF_DATA_DIR ====\n",
      "TF_DATA_DIR\u001b[01;31m\u001b[K=/home/student/dot.terraform\u001b[m\u001b[K\n",
      "\n",
      "==== Setting AWS vars for student20 account ====\n",
      "bash: /home/student/.aws/linked/student20.rc: No such file or directory\n",
      "==== Terraform Lab \u001b[01;31m\u001b[Kweight[71] / tag[7b.TerraformModules-latest-ubuntu-ami] / name[Lab 7b.TerraformModules-from-github.com] ====\u001b[m\u001b[K\n",
      "NB_DIR=/home/student/src/mjbright.tf-scenarios-private/ServeUpLabs/content/tf-labs/7b.TerraformModules-latest-ubuntu-ami\n",
      "NB=/home/student/src/mjbright.tf-scenarios-private/ServeUpLabs/content/tf-labs/7b.TerraformModules-latest-ubuntu-ami/README.ipynb\n",
      "\n",
      "==== Filtering current notebook [/home/student/src/mjbright.tf-scenarios-private/ServeUpLabs/content/tf-labs/7b.TerraformModules-latest-ubuntu-ami/README.ipynb] ====\n",
      "\n",
      "******** Mon 09 Jan 2023 07:03:12 PM UTC: Notebook filtered on tf TF-1.3.7\n",
      "\n",
      "mv: cannot move '/home/student/Solutions/Lab' to '/home/student/Solutions/BAK/Lab': Directory not empty\n",
      "-- . ~/scripts/nbtool.rc\n",
      "TF-1.3.7 -rw-rw-r-- 1 student student 9 Jan  8 19:18 /home/student/.environment\n",
      "Reading package lists... 0%Reading package lists... 100%Reading package lists... Done\n",
      "Building dependency tree... 0%Building dependency tree... 0%Building dependency tree... 50%Building dependency tree... 50%Building dependency tree       \n",
      "Reading state information... 0%Reading state information... 0%Reading state information... Done\n",
      "sysvbanner is already the newest version (1:1.0-17fakesync1).\n",
      "The following packages were automatically installed and are no longer required:\n",
      "  linux-headers-5.4.0-120 linux-headers-5.4.0-120-generic\n",
      "  linux-image-5.4.0-120-generic linux-modules-5.4.0-120-generic\n",
      "Use 'sudo apt autoremove' to remove them.\n",
      "0 upgraded, 0 newly installed, 0 to remove and 0 not upgraded.\n",
      "/home/student/.venv/TRAINING/bin/python3\n",
      "\n",
      "-- ~/.venv/TRAINING/bin/python3 ~/scripts/nbtool.py -f ~/src/mjbright.tf-scenarios-private/ServeUpLabs/content/tf-labs/7b.TerraformModules-latest-ubuntu-ami/README.ipynb\n",
      "---- no VARS_SEEN ----\n",
      "i/p nb has 0 variables\n",
      "/home/student/src/mjbright.tf-scenarios-private/ServeUpLabs/content/tf-labs/7b.TerraformModules-latest-ubuntu-ami/README.ipynb:\n",
      "\t#cells=37\n",
      "cells to include[#25]=[[3, 5, 7, 8, 9, 11, 12, 13, 17, 18, 19, 20, 21, 22, 23, 24, 25, 26, 27, 28, 29, 30, 31, 32, 33]]\n",
      "cells to include[#25]=[[33, 32, 31, 30, 29, 28, 27, 26, 25, 24, 23, 22, 21, 20, 19, 18, 17, 13, 12, 11, 9, 8, 7, 5, 3]]\n",
      "included markdown cells=[3, 5, 7, 9, 12, 13, 17, 19, 24, 25, 28, 29, 31, 32, 33]\n",
      "included code     cells=[8, 11, 18, 20, 21, 22, 23, 26, 27, 30]\n",
      "excluded          cells=[0, 1, 2, 4, 6, 10, 14, 15, 16, 34, 35]\n",
      "---- no VARS_SEEN ----\n",
      "o/p nb has 0 variables\n",
      "/home/student/src/mjbright.tf-scenarios-private/ServeUpLabs/content/tf-labs/7b.TerraformModules-latest-ubuntu-ami/README.ipynb.filtered.ipynb:\n",
      "\t#cells=25\n",
      "-rw-rw-r-- 1 student student 28470 Jan  9 19:03 README.ipynb.filtered.ipynb\n",
      "\n",
      "Good: No VAR defs/usages in i/p file\n",
      "\n",
      "Good: No VAR defs/usages in o/p file\n",
      "\n",
      "-- jupyter-nbconvert --to markdown README.ipynb.filtered.ipynb\n",
      "[NbConvertApp] Converting notebook README.ipynb.filtered.ipynb to markdown\n",
      "[NbConvertApp] Writing 23773 bytes to README.ipynb.filtered.md\n",
      "\n",
      "-- jupyter-nbconvert --to html README.ipynb.filtered.ipynb\n",
      "[NbConvertApp] Converting notebook README.ipynb.filtered.ipynb to html\n",
      "[NbConvertApp] Writing 619323 bytes to README.ipynb.filtered.html\n",
      "\n",
      "\u001b[32m-rw-rw-r-- 1 student student 28470 Jan  9 19:03 Lab_7b.TerraformModules-from-github.com.ipynb\u001b[0m\n",
      "\u001b[32m-rw-rw-r-- 1 student student 47625 Jan  9 19:03 Lab_7b.TerraformModules-from-github.com.md\u001b[0m\n"
     ]
    }
   ],
   "source": [
    "# -- CONFIG ------------------------------------\n",
    "LAB_TAG=${PWD##*/} \n",
    "LAB_NAME=\"TFI_Azure_Lab7b.TerraformModules-from-github.com\"\n",
    "LAB_WEIGHT=71\n",
    "LAB_MODE=\"Terraform\"\n",
    "# ----------------------------------------------\n",
    "\n",
    "# NB=\"\"; cd ~/nb/2021-Terraform/content/tf-labs/XXXX; set +x\n",
    "DIE() { echo \"[$PWD] Error: $*\"; banner \"ERROR\"; exit 1; }\n",
    "NBTOOL_RC=~/scripts/nbtool.rc; [ ! -f $NBTOOL_RC ] && DIE \"No such script as $NBTOOL_RC\"\n",
    "echo \"==== Reading nbtool functions from '$NBTOOL_RC' ====\"; . $NBTOOL_RC\n",
    "EXCL_FN_INIT_NOTEBOOK\n",
    "## --INCLUDE--SECTION--\n",
    "## --EXCLUDE--SECTION--"
   ]
  },
  {
   "cell_type": "markdown",
   "id": "3ed6dc44",
   "metadata": {},
   "source": [
    "# --INCLUDE--SECTION--"
   ]
  },
  {
   "cell_type": "code",
   "execution_count": 2,
   "id": "1af9fa4a",
   "metadata": {},
   "outputs": [
    {
     "name": "stdout",
     "output_type": "stream",
     "text": [
      "2023-Jan-09:[TF-1.3.7] Lab updated on node tf[terraform 1.3.7]\n"
     ]
    },
    {
     "ename": "",
     "evalue": "1",
     "output_type": "error",
     "traceback": []
    }
   ],
   "source": [
    "EXCL_FN_LAB_ENV"
   ]
  },
  {
   "cell_type": "markdown",
   "id": "gentle-viewer",
   "metadata": {},
   "source": [
    "# Lab 7b - Using Terraform Modules from github.com\n",
    "\n",
    "## Background:\n",
    "\n",
    "In this exercise, we will take a look at the example module:\n",
    "\n",
    "https://github.com/mjbright/terraform-modules/tree/master/latest-ubuntu-ami\n",
    "\n",
    "which allows to look up the latest \"bionic\" ubuntu ami.\n",
    "\n",
    "\n",
    "## Tasks:\n",
    "### 1. Make a directory called ‘lab7b’ underneath the labs directory.\n",
    "### 2. Change into the directory."
   ]
  },
  {
   "cell_type": "code",
   "execution_count": 3,
   "id": "0eed2a38",
   "metadata": {},
   "outputs": [],
   "source": [
    "#EXCLUDE\n",
    "\n",
    "mkdir -p ~/labs/lab7b/modules\n",
    "\n",
    "cd ~/labs/lab7b"
   ]
  },
  {
   "cell_type": "markdown",
   "id": "28cdf318",
   "metadata": {},
   "source": [
    "### 3. Create a main.tf for the root-module which will call out to the '*latest-ubuntu-ami*' module\n",
    "\n",
    "This module refers to \"github.com/\" as source and so will pull the code down from Github.\n",
    "\n",
    "The module will be stored in our ~/dot.terraform directory - if our TF_DATA_DIR environment variable is set to that value."
   ]
  },
  {
   "cell_type": "code",
   "execution_count": 4,
   "id": "transparent-negative",
   "metadata": {
    "attributes": {
     "classes": [
      "tf"
     ],
     "id": ""
    }
   },
   "outputs": [],
   "source": [
    "#EXCLUDE\n",
    "\n",
    "cat > main.tf <<EOF\n",
    "\n",
    "provider \"aws\" {\n",
    "    region = var.region\n",
    "}\n",
    "\n",
    "variable \"region\" {\n",
    "    description = \"the AWS region to use\"\n",
    "}\n",
    "\n",
    "variable ami_instance {\n",
    "    default = \"unset\"\n",
    "}\n",
    "\n",
    "module \"latest-ubuntu-ami\" {\n",
    "    # Reference module latest-ubuntu-ami in github repo github.com/mjbright/terraform-modules\n",
    "    # NOTE: double-slash to reference subdirectory of the repo:  //modules/latest-ubuntu-ami\n",
    "    source = \"github.com/mjbright/terraform-modules//modules/latest-ubuntu-ami\"\n",
    "    \n",
    "    # translates to:\n",
    "    #   git::https://github.com/mjbright/terraform-modules.git\n",
    "    # To verify try:\n",
    "    #     rm -rf $TF_DATA_DIR/modules\n",
    "    #     TF_LOG=trace terraform init |& grep fetch\n",
    "    \n",
    "    region = var.region\n",
    "}\n",
    "\n",
    "resource \"aws_instance\" \"example\" {\n",
    "    ami = module.latest-ubuntu-ami.amis_latest_ubuntu_bionic_LTS\n",
    "\n",
    "    instance_type = \"t2.micro\"\n",
    "    vpc_security_group_ids = [aws_security_group.secgroup-user10.id]\n",
    "}\n",
    "\n",
    "resource \"aws_security_group\" \"secgroup-user10\" {\n",
    "    name = \"simple security group - user10\"\n",
    "\n",
    "    # Enable incoming ssh connection:\n",
    "    ingress {\n",
    "        from_port   = \"22\"\n",
    "        to_port     = \"22\"\n",
    "        protocol    = \"tcp\"\n",
    "        cidr_blocks = [\"0.0.0.0/0\"]\n",
    "    }\n",
    "}\n",
    "\n",
    "output ami_instance {\n",
    "  value = module.latest-ubuntu-ami.amis_latest_ubuntu_bionic_LTS\n",
    "}\n",
    "\n",
    "EOF"
   ]
  },
  {
   "cell_type": "markdown",
   "id": "critical-boating",
   "metadata": {},
   "source": [
    "Create a main.tf file there should containing:"
   ]
  },
  {
   "cell_type": "code",
   "execution_count": 5,
   "id": "b5e1e3dc",
   "metadata": {},
   "outputs": [
    {
     "name": "stdout",
     "output_type": "stream",
     "text": [
      "\n",
      "provider \"aws\" {\n",
      "    region = var.region\n",
      "}\n",
      "\n",
      "variable \"region\" {\n",
      "    description = \"the AWS region to use\"\n",
      "}\n",
      "\n",
      "variable ami_instance {\n",
      "    default = \"unset\"\n",
      "}\n",
      "\n",
      "module \"latest-ubuntu-ami\" {\n",
      "    # Reference module latest-ubuntu-ami in github repo github.com/mjbright/terraform-modules\n",
      "    # NOTE: double-slash to reference subdirectory of the repo:  //modules/latest-ubuntu-ami\n",
      "    source = \"github.com/mjbright/terraform-modules//modules/latest-ubuntu-ami\"\n",
      "    \n",
      "    # translates to:\n",
      "    #   git::https://github.com/mjbright/terraform-modules.git\n",
      "    # To verify try:\n",
      "    #     rm -rf /home/student/dot.terraform/modules\n",
      "    #     TF_LOG=trace terraform init |& grep fetch\n",
      "    \n",
      "    region = var.region\n",
      "}\n",
      "\n",
      "resource \"aws_instance\" \"example\" {\n",
      "    ami = module.latest-ubuntu-ami.amis_latest_ubuntu_bionic_LTS\n",
      "\n",
      "    instance_type = \"t2.micro\"\n",
      "    vpc_security_group_ids = [aws_security_group.secgroup-user10.id]\n",
      "}\n",
      "\n",
      "resource \"aws_security_group\" \"secgroup-user10\" {\n",
      "    name = \"simple security group - user10\"\n",
      "\n",
      "    # Enable incoming ssh connection:\n",
      "    ingress {\n",
      "        from_port   = \"22\"\n",
      "        to_port     = \"22\"\n",
      "        protocol    = \"tcp\"\n",
      "        cidr_blocks = [\"0.0.0.0/0\"]\n",
      "    }\n",
      "}\n",
      "\n",
      "output ami_instance {\n",
      "  value = module.latest-ubuntu-ami.amis_latest_ubuntu_bionic_LTS\n",
      "}\n",
      "\n"
     ]
    }
   ],
   "source": [
    "cat main.tf"
   ]
  },
  {
   "cell_type": "markdown",
   "id": "87881556",
   "metadata": {},
   "source": [
    "#### terraform.tfvars\n",
    "\n",
    "We will also create a terraform.tfvars file to provide a value for the region to use:"
   ]
  },
  {
   "cell_type": "code",
   "execution_count": 6,
   "id": "9d59ff39",
   "metadata": {},
   "outputs": [],
   "source": [
    "#EXCLUDE\n",
    "\n",
    "cat > terraform.tfvars <<EOF\n",
    "\n",
    "region=\"us-west-1\"\n",
    "\n",
    "EOF"
   ]
  },
  {
   "cell_type": "code",
   "execution_count": 7,
   "id": "65a684d7",
   "metadata": {},
   "outputs": [
    {
     "name": "stdout",
     "output_type": "stream",
     "text": [
      "\n",
      "region=\"us-west-1\"\n",
      "\n"
     ]
    }
   ],
   "source": [
    "cat terraform.tfvars"
   ]
  },
  {
   "cell_type": "markdown",
   "id": "1cc685a8",
   "metadata": {},
   "source": [
    "#### Root module\n",
    "\n",
    "The above  is our root-module which makes a **call** to the \n",
    "    \"*latest-ubuntu-ami*\" module."
   ]
  },
  {
   "cell_type": "markdown",
   "id": "07290dfe",
   "metadata": {},
   "source": [
    "### 4. Initialize the root config\n",
    "\n",
    "To use this module we must first download the module from github - this is done automatically for us when we call either ```terraform get``` or ```terraform init```\n",
    "\n",
    "**Note:** ```terraform get``` differs in that it downloads modules, but not the Provider plugin.\n",
    "\n",
    "#### terraform get\n",
    "\n",
    "Let's perform a ```terraform get``` just to see this in action - it is not a ```necessary``` step as we will perform ```terraform init``` after anyway."
   ]
  },
  {
   "cell_type": "code",
   "execution_count": 8,
   "id": "8a956971",
   "metadata": {},
   "outputs": [],
   "source": [
    "#EXCLUDE\n",
    "rm -rf $TF_DATA_DIR/modules/\n",
    "#mkdir -p $TF_DATA_DIR/modules/latest-ubuntu-ami/latest-ubuntu-ami\n",
    "\n",
    "#terraform init"
   ]
  },
  {
   "cell_type": "code",
   "execution_count": 9,
   "id": "92d28b6d",
   "metadata": {},
   "outputs": [],
   "source": [
    "#EXCLUDE\n",
    "rm -rf $TF_DATA_DIR/modules/"
   ]
  },
  {
   "cell_type": "code",
   "execution_count": 10,
   "id": "d1366787",
   "metadata": {},
   "outputs": [],
   "source": [
    "#EXCLUDE\n",
    "#terraform get"
   ]
  },
  {
   "cell_type": "markdown",
   "id": "de2b368d",
   "metadata": {},
   "source": [
    "#### terraform init"
   ]
  },
  {
   "cell_type": "code",
   "execution_count": 11,
   "id": "14ef205d",
   "metadata": {},
   "outputs": [
    {
     "name": "stdout",
     "output_type": "stream",
     "text": [
      "\u001b[0m\u001b[1mInitializing modules...\u001b[0m\n",
      "Downloading git::https://github.com/mjbright/terraform-modules.git for latest-ubuntu-ami...\n",
      "- latest-ubuntu-ami in /home/student/dot.terraform/modules/latest-ubuntu-ami/modules/latest-ubuntu-ami\n",
      "\n",
      "\u001b[0m\u001b[1mInitializing the backend...\u001b[0m\n",
      "\n",
      "\u001b[0m\u001b[1mInitializing provider plugins...\u001b[0m\n",
      "- Finding latest version of hashicorp/aws...\n",
      "- Installing hashicorp/aws v4.49.0...\n",
      "- Installed hashicorp/aws v4.49.0 (signed by HashiCorp)\n",
      "\n",
      "Terraform has created a lock file \u001b[1m.terraform.lock.hcl\u001b[0m to record the provider\n",
      "selections it made above. Include this file in your version control repository\n",
      "so that Terraform can guarantee to make the same selections by default when\n",
      "you run \"terraform init\" in the future.\u001b[0m\n",
      "\n",
      "\u001b[0m\u001b[1m\u001b[32mTerraform has been successfully initialized!\u001b[0m\u001b[32m\u001b[0m\n",
      "\u001b[0m\u001b[32m\n",
      "You may now begin working with Terraform. Try running \"terraform plan\" to see\n",
      "any changes that are required for your infrastructure. All Terraform commands\n",
      "should now work.\n",
      "\n",
      "If you ever set or change modules or backend configuration for Terraform,\n",
      "rerun this command to reinitialize your working directory. If you forget, other\n",
      "commands will detect it and remind you to do so if necessary.\u001b[0m\n"
     ]
    }
   ],
   "source": [
    "terraform init"
   ]
  },
  {
   "cell_type": "markdown",
   "id": "881940f3",
   "metadata": {},
   "source": [
    "### 5. Study the module source files\n",
    "\n",
    "Now that we have performed ```terraform init``` we see that the module was downloaded from github.com for us and was placed under the ```~/dot.terraform/modules/``` folder.\n",
    "\n",
    "**Note:** the github repository is ```github.com/mjbright/terraform-modules/``` but we specified a path of ```github.com/mjbright/terraform-modules/latest-ubuntu-ami``` where our module source is located - there could be multiple module sources in that repository.\n",
    "\n",
    "Look at the files under ```~/dot.terraform/modules/latest-ubuntu-ami/latest-ubuntu-ami```"
   ]
  },
  {
   "cell_type": "code",
   "execution_count": 12,
   "id": "5a84becc",
   "metadata": {
    "scrolled": false
   },
   "outputs": [
    {
     "name": "stdout",
     "output_type": "stream",
     "text": [
      "/home/student/dot.terraform/modules/latest-ubuntu-ami/modules\n",
      "/home/student/dot.terraform/modules/latest-ubuntu-ami/modules/azure-instances\n",
      "/home/student/dot.terraform/modules/latest-ubuntu-ami/modules/azure-instances/main.tf\n",
      "/home/student/dot.terraform/modules/latest-ubuntu-ami/modules/azure-instances/tls_private_key.tf\n",
      "/home/student/dot.terraform/modules/latest-ubuntu-ami/modules/azure-instances/outputs.tf\n",
      "/home/student/dot.terraform/modules/latest-ubuntu-ami/modules/azure-instances/variables.tf\n",
      "/home/student/dot.terraform/modules/latest-ubuntu-ami/modules/azure-instances/setup.sh\n",
      "/home/student/dot.terraform/modules/latest-ubuntu-ami/modules/latest-ubuntu-ami\n",
      "/home/student/dot.terraform/modules/latest-ubuntu-ami/modules/latest-ubuntu-ami/main.tf\n",
      "/home/student/dot.terraform/modules/latest-ubuntu-ami/modules/latest-ubuntu-ami/vars.tf\n",
      "/home/student/dot.terraform/modules/latest-ubuntu-ami/modules/latest-ubuntu-ami/outputs.tf\n",
      "/home/student/dot.terraform/modules/latest-ubuntu-ami/modules/data-aws-ami\n",
      "/home/student/dot.terraform/modules/latest-ubuntu-ami/modules/data-aws-ami/vars.tf\n",
      "/home/student/dot.terraform/modules/latest-ubuntu-ami/modules/data-aws-ami/outputs.tf\n",
      "/home/student/dot.terraform/modules/latest-ubuntu-ami/modules/data-aws-ami/data_aws_ami.tf\n",
      "/home/student/dot.terraform/modules/latest-ubuntu-ami/modules/data-aws-ami/README.md\n",
      "/home/student/dot.terraform/modules/latest-ubuntu-ami/modules/aws-lightsail\n",
      "/home/student/dot.terraform/modules/latest-ubuntu-ami/modules/aws-lightsail/resources_route53_record.tf\n",
      "/home/student/dot.terraform/modules/latest-ubuntu-ami/modules/aws-lightsail/resources_aws_lightsail.tf\n",
      "/home/student/dot.terraform/modules/latest-ubuntu-ami/modules/aws-lightsail/vars.tf\n",
      "/home/student/dot.terraform/modules/latest-ubuntu-ami/modules/aws-lightsail/etc_hosts_delta.tf\n",
      "/home/student/dot.terraform/modules/latest-ubuntu-ami/modules/aws-lightsail/resources_aws_lightsail_key_pair.tf\n",
      "/home/student/dot.terraform/modules/latest-ubuntu-ami/modules/aws-lightsail/outputs.tf\n",
      "/home/student/dot.terraform/modules/latest-ubuntu-ami/modules/aws-lightsail/locals.tf\n",
      "/home/student/dot.terraform/modules/latest-ubuntu-ami/modules/aws-lightsail/data_aws_ami.tf\n",
      "/home/student/dot.terraform/modules/latest-ubuntu-ami/modules/aws-lightsail/resources_aws_lightsail_ports.tf\n",
      "/home/student/dot.terraform/modules/latest-ubuntu-ami/modules/aws-instances\n",
      "/home/student/dot.terraform/modules/latest-ubuntu-ami/modules/aws-instances/resources_route53_record.tf\n",
      "/home/student/dot.terraform/modules/latest-ubuntu-ami/modules/aws-instances/resources_aws_instance.tf\n",
      "/home/student/dot.terraform/modules/latest-ubuntu-ami/modules/aws-instances/vars.tf\n",
      "/home/student/dot.terraform/modules/latest-ubuntu-ami/modules/aws-instances/etc_hosts_delta.tf\n",
      "/home/student/dot.terraform/modules/latest-ubuntu-ami/modules/aws-instances/resources_aws_key_pair.tf\n",
      "/home/student/dot.terraform/modules/latest-ubuntu-ami/modules/aws-instances/outputs.tf\n",
      "/home/student/dot.terraform/modules/latest-ubuntu-ami/modules/aws-instances/locals.tf\n"
     ]
    }
   ],
   "source": [
    "find $TF_DATA_DIR/modules/latest-ubuntu-ami/modules"
   ]
  },
  {
   "cell_type": "code",
   "execution_count": 13,
   "id": "e8203a8e",
   "metadata": {},
   "outputs": [
    {
     "name": "stdout",
     "output_type": "stream",
     "text": [
      "\n",
      "data \"aws_ami\" \"latest_ubuntu_bionic\" {\n",
      "  most_recent = true\n",
      "\n",
      "  filter {\n",
      "    name   = \"name\"\n",
      "    values = [\"ubuntu/images/hvm-ssd/ubuntu-bionic-18.04-amd64-server-*\"]\n",
      "  }\n",
      "\n",
      "  filter {\n",
      "    name   = \"virtualization-type\"\n",
      "    values = [\"hvm\"]\n",
      "  }\n",
      "\n",
      "  owners = [\"099720109477\"] # Canonical\n",
      "}\n",
      "\n",
      "\n"
     ]
    }
   ],
   "source": [
    "cat $TF_DATA_DIR/modules/latest-ubuntu-ami/modules/latest-ubuntu-ami/main.tf"
   ]
  },
  {
   "cell_type": "code",
   "execution_count": 14,
   "id": "ec9203fb",
   "metadata": {},
   "outputs": [
    {
     "name": "stdout",
     "output_type": "stream",
     "text": [
      "\n",
      "variable \"region\" { }\n",
      "\n",
      "\n"
     ]
    }
   ],
   "source": [
    "cat $TF_DATA_DIR/modules/latest-ubuntu-ami/modules/latest-ubuntu-ami/vars.tf"
   ]
  },
  {
   "cell_type": "code",
   "execution_count": 15,
   "id": "f7e4d4c9",
   "metadata": {},
   "outputs": [
    {
     "name": "stdout",
     "output_type": "stream",
     "text": [
      "\n",
      "output  \"amis_latest_ubuntu_bionic_LTS\" { value = data.aws_ami.latest_ubuntu_bionic.id }\n",
      "\n"
     ]
    }
   ],
   "source": [
    "cat $TF_DATA_DIR/modules/latest-ubuntu-ami/modules/latest-ubuntu-ami/outputs.tf"
   ]
  },
  {
   "cell_type": "markdown",
   "id": "6a2a494f",
   "metadata": {},
   "source": [
    "The output value *\"amis_latest_ubuntu_bionic_LTS\"* will obtain the latest bionic ubuntu image for your region, which was obtained from the \"*aws_ami*\" data source of the \"*aws*\" provider.\n"
   ]
  },
  {
   "cell_type": "markdown",
   "id": "552f2d47",
   "metadata": {},
   "source": [
    "### 6.  Applying the 'root module' configuration\n",
    "\n",
    "Apply the configuration and you should see at the end of the apply the ami-instance which was selected for your region.\n"
   ]
  },
  {
   "cell_type": "code",
   "execution_count": 17,
   "id": "c37964b4",
   "metadata": {
    "scrolled": false
   },
   "outputs": [
    {
     "name": "stdout",
     "output_type": "stream",
     "text": [
      "\n",
      "\u001b[0m\u001b[1m\u001b[32mNo changes.\u001b[0m\u001b[1m No objects need to be destroyed.\u001b[0m\n",
      "\n",
      "\u001b[0mEither you have not created any objects yet or the existing objects were\n",
      "already deleted outside of Terraform.\n",
      "\u001b[0m\u001b[1m\u001b[32m\n",
      "Destroy complete! Resources: 0 destroyed.\n",
      "\u001b[0m\n"
     ]
    }
   ],
   "source": [
    "#EXCLUDE\n",
    "EXCL_FN_TF_DESTROY"
   ]
  },
  {
   "cell_type": "code",
   "execution_count": 18,
   "id": "f5b0cba1",
   "metadata": {
    "scrolled": false
   },
   "outputs": [
    {
     "name": "stdout",
     "output_type": "stream",
     "text": [
      "\u001b[0m\u001b[1mmodule.latest-ubuntu-ami.data.aws_ami.latest_ubuntu_bionic: Reading...\u001b[0m\u001b[0m\n",
      "\u001b[0m\u001b[1mmodule.latest-ubuntu-ami.data.aws_ami.latest_ubuntu_bionic: Read complete after 1s [id=ami-05bdaab9cff831ca7]\u001b[0m\n",
      "\n",
      "Terraform used the selected providers to generate the following execution plan.\n",
      "Resource actions are indicated with the following symbols:\n",
      "  \u001b[32m+\u001b[0m create\n",
      "\u001b[0m\n",
      "Terraform will perform the following actions:\n",
      "\n",
      "\u001b[1m  # aws_instance.example\u001b[0m will be created\u001b[0m\u001b[0m\n",
      "\u001b[0m  \u001b[32m+\u001b[0m\u001b[0m resource \"aws_instance\" \"example\" {\n",
      "      \u001b[32m+\u001b[0m \u001b[0m\u001b[1m\u001b[0mami\u001b[0m\u001b[0m                                  = \"ami-05bdaab9cff831ca7\"\n",
      "      \u001b[32m+\u001b[0m \u001b[0m\u001b[1m\u001b[0marn\u001b[0m\u001b[0m                                  = (known after apply)\n",
      "      \u001b[32m+\u001b[0m \u001b[0m\u001b[1m\u001b[0massociate_public_ip_address\u001b[0m\u001b[0m          = (known after apply)\n",
      "      \u001b[32m+\u001b[0m \u001b[0m\u001b[1m\u001b[0mavailability_zone\u001b[0m\u001b[0m                    = (known after apply)\n",
      "      \u001b[32m+\u001b[0m \u001b[0m\u001b[1m\u001b[0mcpu_core_count\u001b[0m\u001b[0m                       = (known after apply)\n",
      "      \u001b[32m+\u001b[0m \u001b[0m\u001b[1m\u001b[0mcpu_threads_per_core\u001b[0m\u001b[0m                 = (known after apply)\n",
      "      \u001b[32m+\u001b[0m \u001b[0m\u001b[1m\u001b[0mdisable_api_stop\u001b[0m\u001b[0m                     = (known after apply)\n",
      "      \u001b[32m+\u001b[0m \u001b[0m\u001b[1m\u001b[0mdisable_api_termination\u001b[0m\u001b[0m              = (known after apply)\n",
      "      \u001b[32m+\u001b[0m \u001b[0m\u001b[1m\u001b[0mebs_optimized\u001b[0m\u001b[0m                        = (known after apply)\n",
      "      \u001b[32m+\u001b[0m \u001b[0m\u001b[1m\u001b[0mget_password_data\u001b[0m\u001b[0m                    = false\n",
      "      \u001b[32m+\u001b[0m \u001b[0m\u001b[1m\u001b[0mhost_id\u001b[0m\u001b[0m                              = (known after apply)\n",
      "      \u001b[32m+\u001b[0m \u001b[0m\u001b[1m\u001b[0mhost_resource_group_arn\u001b[0m\u001b[0m              = (known after apply)\n",
      "      \u001b[32m+\u001b[0m \u001b[0m\u001b[1m\u001b[0miam_instance_profile\u001b[0m\u001b[0m                 = (known after apply)\n",
      "      \u001b[32m+\u001b[0m \u001b[0m\u001b[1m\u001b[0mid\u001b[0m\u001b[0m                                   = (known after apply)\n",
      "      \u001b[32m+\u001b[0m \u001b[0m\u001b[1m\u001b[0minstance_initiated_shutdown_behavior\u001b[0m\u001b[0m = (known after apply)\n",
      "      \u001b[32m+\u001b[0m \u001b[0m\u001b[1m\u001b[0minstance_state\u001b[0m\u001b[0m                       = (known after apply)\n",
      "      \u001b[32m+\u001b[0m \u001b[0m\u001b[1m\u001b[0minstance_type\u001b[0m\u001b[0m                        = \"t2.micro\"\n",
      "      \u001b[32m+\u001b[0m \u001b[0m\u001b[1m\u001b[0mipv6_address_count\u001b[0m\u001b[0m                   = (known after apply)\n",
      "      \u001b[32m+\u001b[0m \u001b[0m\u001b[1m\u001b[0mipv6_addresses\u001b[0m\u001b[0m                       = (known after apply)\n",
      "      \u001b[32m+\u001b[0m \u001b[0m\u001b[1m\u001b[0mkey_name\u001b[0m\u001b[0m                             = (known after apply)\n",
      "      \u001b[32m+\u001b[0m \u001b[0m\u001b[1m\u001b[0mmonitoring\u001b[0m\u001b[0m                           = (known after apply)\n",
      "      \u001b[32m+\u001b[0m \u001b[0m\u001b[1m\u001b[0moutpost_arn\u001b[0m\u001b[0m                          = (known after apply)\n",
      "      \u001b[32m+\u001b[0m \u001b[0m\u001b[1m\u001b[0mpassword_data\u001b[0m\u001b[0m                        = (known after apply)\n",
      "      \u001b[32m+\u001b[0m \u001b[0m\u001b[1m\u001b[0mplacement_group\u001b[0m\u001b[0m                      = (known after apply)\n",
      "      \u001b[32m+\u001b[0m \u001b[0m\u001b[1m\u001b[0mplacement_partition_number\u001b[0m\u001b[0m           = (known after apply)\n",
      "      \u001b[32m+\u001b[0m \u001b[0m\u001b[1m\u001b[0mprimary_network_interface_id\u001b[0m\u001b[0m         = (known after apply)\n",
      "      \u001b[32m+\u001b[0m \u001b[0m\u001b[1m\u001b[0mprivate_dns\u001b[0m\u001b[0m                          = (known after apply)\n",
      "      \u001b[32m+\u001b[0m \u001b[0m\u001b[1m\u001b[0mprivate_ip\u001b[0m\u001b[0m                           = (known after apply)\n",
      "      \u001b[32m+\u001b[0m \u001b[0m\u001b[1m\u001b[0mpublic_dns\u001b[0m\u001b[0m                           = (known after apply)\n",
      "      \u001b[32m+\u001b[0m \u001b[0m\u001b[1m\u001b[0mpublic_ip\u001b[0m\u001b[0m                            = (known after apply)\n",
      "      \u001b[32m+\u001b[0m \u001b[0m\u001b[1m\u001b[0msecondary_private_ips\u001b[0m\u001b[0m                = (known after apply)\n",
      "      \u001b[32m+\u001b[0m \u001b[0m\u001b[1m\u001b[0msecurity_groups\u001b[0m\u001b[0m                      = (known after apply)\n",
      "      \u001b[32m+\u001b[0m \u001b[0m\u001b[1m\u001b[0msource_dest_check\u001b[0m\u001b[0m                    = true\n",
      "      \u001b[32m+\u001b[0m \u001b[0m\u001b[1m\u001b[0msubnet_id\u001b[0m\u001b[0m                            = (known after apply)\n",
      "      \u001b[32m+\u001b[0m \u001b[0m\u001b[1m\u001b[0mtags_all\u001b[0m\u001b[0m                             = (known after apply)\n",
      "      \u001b[32m+\u001b[0m \u001b[0m\u001b[1m\u001b[0mtenancy\u001b[0m\u001b[0m                              = (known after apply)\n",
      "      \u001b[32m+\u001b[0m \u001b[0m\u001b[1m\u001b[0muser_data\u001b[0m\u001b[0m                            = (known after apply)\n",
      "      \u001b[32m+\u001b[0m \u001b[0m\u001b[1m\u001b[0muser_data_base64\u001b[0m\u001b[0m                     = (known after apply)\n",
      "      \u001b[32m+\u001b[0m \u001b[0m\u001b[1m\u001b[0muser_data_replace_on_change\u001b[0m\u001b[0m          = false\n",
      "      \u001b[32m+\u001b[0m \u001b[0m\u001b[1m\u001b[0mvpc_security_group_ids\u001b[0m\u001b[0m               = (known after apply)\n",
      "\n",
      "      \u001b[32m+\u001b[0m \u001b[0mcapacity_reservation_specification {\n",
      "          \u001b[32m+\u001b[0m \u001b[0m\u001b[1m\u001b[0mcapacity_reservation_preference\u001b[0m\u001b[0m = (known after apply)\n",
      "\n",
      "          \u001b[32m+\u001b[0m \u001b[0mcapacity_reservation_target {\n",
      "              \u001b[32m+\u001b[0m \u001b[0m\u001b[1m\u001b[0mcapacity_reservation_id\u001b[0m\u001b[0m                 = (known after apply)\n",
      "              \u001b[32m+\u001b[0m \u001b[0m\u001b[1m\u001b[0mcapacity_reservation_resource_group_arn\u001b[0m\u001b[0m = (known after apply)\n",
      "            }\n",
      "        }\n",
      "\n",
      "      \u001b[32m+\u001b[0m \u001b[0mebs_block_device {\n",
      "          \u001b[32m+\u001b[0m \u001b[0m\u001b[1m\u001b[0mdelete_on_termination\u001b[0m\u001b[0m = (known after apply)\n",
      "          \u001b[32m+\u001b[0m \u001b[0m\u001b[1m\u001b[0mdevice_name\u001b[0m\u001b[0m           = (known after apply)\n",
      "          \u001b[32m+\u001b[0m \u001b[0m\u001b[1m\u001b[0mencrypted\u001b[0m\u001b[0m             = (known after apply)\n",
      "          \u001b[32m+\u001b[0m \u001b[0m\u001b[1m\u001b[0miops\u001b[0m\u001b[0m                  = (known after apply)\n",
      "          \u001b[32m+\u001b[0m \u001b[0m\u001b[1m\u001b[0mkms_key_id\u001b[0m\u001b[0m            = (known after apply)\n",
      "          \u001b[32m+\u001b[0m \u001b[0m\u001b[1m\u001b[0msnapshot_id\u001b[0m\u001b[0m           = (known after apply)\n",
      "          \u001b[32m+\u001b[0m \u001b[0m\u001b[1m\u001b[0mtags\u001b[0m\u001b[0m                  = (known after apply)\n",
      "          \u001b[32m+\u001b[0m \u001b[0m\u001b[1m\u001b[0mthroughput\u001b[0m\u001b[0m            = (known after apply)\n",
      "          \u001b[32m+\u001b[0m \u001b[0m\u001b[1m\u001b[0mvolume_id\u001b[0m\u001b[0m             = (known after apply)\n",
      "          \u001b[32m+\u001b[0m \u001b[0m\u001b[1m\u001b[0mvolume_size\u001b[0m\u001b[0m           = (known after apply)\n",
      "          \u001b[32m+\u001b[0m \u001b[0m\u001b[1m\u001b[0mvolume_type\u001b[0m\u001b[0m           = (known after apply)\n",
      "        }\n",
      "\n",
      "      \u001b[32m+\u001b[0m \u001b[0menclave_options {\n",
      "          \u001b[32m+\u001b[0m \u001b[0m\u001b[1m\u001b[0menabled\u001b[0m\u001b[0m = (known after apply)\n",
      "        }\n",
      "\n",
      "      \u001b[32m+\u001b[0m \u001b[0mephemeral_block_device {\n",
      "          \u001b[32m+\u001b[0m \u001b[0m\u001b[1m\u001b[0mdevice_name\u001b[0m\u001b[0m  = (known after apply)\n",
      "          \u001b[32m+\u001b[0m \u001b[0m\u001b[1m\u001b[0mno_device\u001b[0m\u001b[0m    = (known after apply)\n",
      "          \u001b[32m+\u001b[0m \u001b[0m\u001b[1m\u001b[0mvirtual_name\u001b[0m\u001b[0m = (known after apply)\n",
      "        }\n",
      "\n",
      "      \u001b[32m+\u001b[0m \u001b[0mmaintenance_options {\n",
      "          \u001b[32m+\u001b[0m \u001b[0m\u001b[1m\u001b[0mauto_recovery\u001b[0m\u001b[0m = (known after apply)\n",
      "        }\n",
      "\n",
      "      \u001b[32m+\u001b[0m \u001b[0mmetadata_options {\n",
      "          \u001b[32m+\u001b[0m \u001b[0m\u001b[1m\u001b[0mhttp_endpoint\u001b[0m\u001b[0m               = (known after apply)\n",
      "          \u001b[32m+\u001b[0m \u001b[0m\u001b[1m\u001b[0mhttp_put_response_hop_limit\u001b[0m\u001b[0m = (known after apply)\n",
      "          \u001b[32m+\u001b[0m \u001b[0m\u001b[1m\u001b[0mhttp_tokens\u001b[0m\u001b[0m                 = (known after apply)\n",
      "          \u001b[32m+\u001b[0m \u001b[0m\u001b[1m\u001b[0minstance_metadata_tags\u001b[0m\u001b[0m      = (known after apply)\n",
      "        }\n",
      "\n",
      "      \u001b[32m+\u001b[0m \u001b[0mnetwork_interface {\n",
      "          \u001b[32m+\u001b[0m \u001b[0m\u001b[1m\u001b[0mdelete_on_termination\u001b[0m\u001b[0m = (known after apply)\n",
      "          \u001b[32m+\u001b[0m \u001b[0m\u001b[1m\u001b[0mdevice_index\u001b[0m\u001b[0m          = (known after apply)\n",
      "          \u001b[32m+\u001b[0m \u001b[0m\u001b[1m\u001b[0mnetwork_card_index\u001b[0m\u001b[0m    = (known after apply)\n",
      "          \u001b[32m+\u001b[0m \u001b[0m\u001b[1m\u001b[0mnetwork_interface_id\u001b[0m\u001b[0m  = (known after apply)\n",
      "        }\n",
      "\n",
      "      \u001b[32m+\u001b[0m \u001b[0mprivate_dns_name_options {\n",
      "          \u001b[32m+\u001b[0m \u001b[0m\u001b[1m\u001b[0menable_resource_name_dns_a_record\u001b[0m\u001b[0m    = (known after apply)\n",
      "          \u001b[32m+\u001b[0m \u001b[0m\u001b[1m\u001b[0menable_resource_name_dns_aaaa_record\u001b[0m\u001b[0m = (known after apply)\n",
      "          \u001b[32m+\u001b[0m \u001b[0m\u001b[1m\u001b[0mhostname_type\u001b[0m\u001b[0m                        = (known after apply)\n",
      "        }\n",
      "\n",
      "      \u001b[32m+\u001b[0m \u001b[0mroot_block_device {\n",
      "          \u001b[32m+\u001b[0m \u001b[0m\u001b[1m\u001b[0mdelete_on_termination\u001b[0m\u001b[0m = (known after apply)\n",
      "          \u001b[32m+\u001b[0m \u001b[0m\u001b[1m\u001b[0mdevice_name\u001b[0m\u001b[0m           = (known after apply)\n",
      "          \u001b[32m+\u001b[0m \u001b[0m\u001b[1m\u001b[0mencrypted\u001b[0m\u001b[0m             = (known after apply)\n",
      "          \u001b[32m+\u001b[0m \u001b[0m\u001b[1m\u001b[0miops\u001b[0m\u001b[0m                  = (known after apply)\n",
      "          \u001b[32m+\u001b[0m \u001b[0m\u001b[1m\u001b[0mkms_key_id\u001b[0m\u001b[0m            = (known after apply)\n",
      "          \u001b[32m+\u001b[0m \u001b[0m\u001b[1m\u001b[0mtags\u001b[0m\u001b[0m                  = (known after apply)\n",
      "          \u001b[32m+\u001b[0m \u001b[0m\u001b[1m\u001b[0mthroughput\u001b[0m\u001b[0m            = (known after apply)\n",
      "          \u001b[32m+\u001b[0m \u001b[0m\u001b[1m\u001b[0mvolume_id\u001b[0m\u001b[0m             = (known after apply)\n",
      "          \u001b[32m+\u001b[0m \u001b[0m\u001b[1m\u001b[0mvolume_size\u001b[0m\u001b[0m           = (known after apply)\n"
     ]
    },
    {
     "name": "stdout",
     "output_type": "stream",
     "text": [
      "          \u001b[32m+\u001b[0m \u001b[0m\u001b[1m\u001b[0mvolume_type\u001b[0m\u001b[0m           = (known after apply)\n",
      "        }\n",
      "    }\n",
      "\n",
      "\u001b[1m  # aws_security_group.secgroup-user10\u001b[0m will be created\u001b[0m\u001b[0m\n",
      "\u001b[0m  \u001b[32m+\u001b[0m\u001b[0m resource \"aws_security_group\" \"secgroup-user10\" {\n",
      "      \u001b[32m+\u001b[0m \u001b[0m\u001b[1m\u001b[0marn\u001b[0m\u001b[0m                    = (known after apply)\n",
      "      \u001b[32m+\u001b[0m \u001b[0m\u001b[1m\u001b[0mdescription\u001b[0m\u001b[0m            = \"Managed by Terraform\"\n",
      "      \u001b[32m+\u001b[0m \u001b[0m\u001b[1m\u001b[0megress\u001b[0m\u001b[0m                 = (known after apply)\n",
      "      \u001b[32m+\u001b[0m \u001b[0m\u001b[1m\u001b[0mid\u001b[0m\u001b[0m                     = (known after apply)\n",
      "      \u001b[32m+\u001b[0m \u001b[0m\u001b[1m\u001b[0mingress\u001b[0m\u001b[0m                = [\n",
      "          \u001b[32m+\u001b[0m \u001b[0m{\n",
      "              \u001b[32m+\u001b[0m \u001b[0mcidr_blocks      = [\n",
      "                  \u001b[32m+\u001b[0m \u001b[0m\"0.0.0.0/0\",\n",
      "                ]\n",
      "              \u001b[32m+\u001b[0m \u001b[0mdescription      = \"\"\n",
      "              \u001b[32m+\u001b[0m \u001b[0mfrom_port        = 22\n",
      "              \u001b[32m+\u001b[0m \u001b[0mipv6_cidr_blocks = []\n",
      "              \u001b[32m+\u001b[0m \u001b[0mprefix_list_ids  = []\n",
      "              \u001b[32m+\u001b[0m \u001b[0mprotocol         = \"tcp\"\n",
      "              \u001b[32m+\u001b[0m \u001b[0msecurity_groups  = []\n",
      "              \u001b[32m+\u001b[0m \u001b[0mself             = false\n",
      "              \u001b[32m+\u001b[0m \u001b[0mto_port          = 22\n",
      "            },\n",
      "        ]\n",
      "      \u001b[32m+\u001b[0m \u001b[0m\u001b[1m\u001b[0mname\u001b[0m\u001b[0m                   = \"simple security group - user10\"\n",
      "      \u001b[32m+\u001b[0m \u001b[0m\u001b[1m\u001b[0mname_prefix\u001b[0m\u001b[0m            = (known after apply)\n",
      "      \u001b[32m+\u001b[0m \u001b[0m\u001b[1m\u001b[0mowner_id\u001b[0m\u001b[0m               = (known after apply)\n",
      "      \u001b[32m+\u001b[0m \u001b[0m\u001b[1m\u001b[0mrevoke_rules_on_delete\u001b[0m\u001b[0m = false\n",
      "      \u001b[32m+\u001b[0m \u001b[0m\u001b[1m\u001b[0mtags_all\u001b[0m\u001b[0m               = (known after apply)\n",
      "      \u001b[32m+\u001b[0m \u001b[0m\u001b[1m\u001b[0mvpc_id\u001b[0m\u001b[0m                 = (known after apply)\n",
      "    }\n",
      "\n",
      "\u001b[0m\u001b[1mPlan:\u001b[0m 2 to add, 0 to change, 0 to destroy.\n",
      "\u001b[0m\u001b[0m\n",
      "\u001b[1mChanges to Outputs:\u001b[0m\u001b[0m\n",
      "  \u001b[32m+\u001b[0m \u001b[0m\u001b[1m\u001b[0mami_instance\u001b[0m\u001b[0m = \"ami-05bdaab9cff831ca7\"\n",
      "\u001b[0m\u001b[1maws_security_group.secgroup-user10: Creating...\u001b[0m\u001b[0m\n",
      "\u001b[0m\u001b[1maws_security_group.secgroup-user10: Creation complete after 3s [id=sg-018669c5177c7e214]\u001b[0m\n",
      "\u001b[0m\u001b[1maws_instance.example: Creating...\u001b[0m\u001b[0m\n",
      "\u001b[0m\u001b[1maws_instance.example: Still creating... [10s elapsed]\u001b[0m\u001b[0m\n",
      "\u001b[0m\u001b[1maws_instance.example: Still creating... [20s elapsed]\u001b[0m\u001b[0m\n",
      "\u001b[0m\u001b[1maws_instance.example: Still creating... [30s elapsed]\u001b[0m\u001b[0m\n",
      "\u001b[0m\u001b[1maws_instance.example: Creation complete after 34s [id=i-0b9cca4fc26840125]\u001b[0m\n",
      "\u001b[0m\u001b[1m\u001b[32m\n",
      "Apply complete! Resources: 2 added, 0 changed, 0 destroyed.\n",
      "\u001b[0m\u001b[0m\u001b[1m\u001b[32m\n",
      "Outputs:\n",
      "\n",
      "\u001b[0mami_instance = \"ami-05bdaab9cff831ca7\"\n"
     ]
    }
   ],
   "source": [
    "TF_APPLY"
   ]
  },
  {
   "cell_type": "markdown",
   "id": "alternative-declaration",
   "metadata": {},
   "source": [
    "### 8. Cleanup"
   ]
  },
  {
   "cell_type": "markdown",
   "id": "30628b45",
   "metadata": {},
   "source": [
    "To destroy the formerly created AWS instance."
   ]
  },
  {
   "cell_type": "code",
   "execution_count": 19,
   "id": "nuclear-republic",
   "metadata": {
    "scrolled": false
   },
   "outputs": [
    {
     "name": "stdout",
     "output_type": "stream",
     "text": [
      "\u001b[0m\u001b[1mmodule.latest-ubuntu-ami.data.aws_ami.latest_ubuntu_bionic: Reading...\u001b[0m\u001b[0m\n",
      "\u001b[0m\u001b[1maws_security_group.secgroup-user10: Refreshing state... [id=sg-018669c5177c7e214]\u001b[0m\n",
      "\u001b[0m\u001b[1mmodule.latest-ubuntu-ami.data.aws_ami.latest_ubuntu_bionic: Read complete after 1s [id=ami-05bdaab9cff831ca7]\u001b[0m\n",
      "\u001b[0m\u001b[1maws_instance.example: Refreshing state... [id=i-0b9cca4fc26840125]\u001b[0m\n",
      "\n",
      "Terraform used the selected providers to generate the following execution plan.\n",
      "Resource actions are indicated with the following symbols:\n",
      "  \u001b[31m-\u001b[0m destroy\n",
      "\u001b[0m\n",
      "Terraform will perform the following actions:\n",
      "\n",
      "\u001b[1m  # aws_instance.example\u001b[0m will be \u001b[1m\u001b[31mdestroyed\u001b[0m\u001b[0m\n",
      "\u001b[0m  \u001b[31m-\u001b[0m\u001b[0m resource \"aws_instance\" \"example\" {\n",
      "      \u001b[31m-\u001b[0m \u001b[0m\u001b[1m\u001b[0mami\u001b[0m\u001b[0m                                  = \"ami-05bdaab9cff831ca7\" \u001b[90m->\u001b[0m \u001b[0m\u001b[90mnull\u001b[0m\u001b[0m\n",
      "      \u001b[31m-\u001b[0m \u001b[0m\u001b[1m\u001b[0marn\u001b[0m\u001b[0m                                  = \"arn:aws:ec2:us-west-1:816376574968:instance/i-0b9cca4fc26840125\" \u001b[90m->\u001b[0m \u001b[0m\u001b[90mnull\u001b[0m\u001b[0m\n",
      "      \u001b[31m-\u001b[0m \u001b[0m\u001b[1m\u001b[0massociate_public_ip_address\u001b[0m\u001b[0m          = true \u001b[90m->\u001b[0m \u001b[0m\u001b[90mnull\u001b[0m\u001b[0m\n",
      "      \u001b[31m-\u001b[0m \u001b[0m\u001b[1m\u001b[0mavailability_zone\u001b[0m\u001b[0m                    = \"us-west-1c\" \u001b[90m->\u001b[0m \u001b[0m\u001b[90mnull\u001b[0m\u001b[0m\n",
      "      \u001b[31m-\u001b[0m \u001b[0m\u001b[1m\u001b[0mcpu_core_count\u001b[0m\u001b[0m                       = 1 \u001b[90m->\u001b[0m \u001b[0m\u001b[90mnull\u001b[0m\u001b[0m\n",
      "      \u001b[31m-\u001b[0m \u001b[0m\u001b[1m\u001b[0mcpu_threads_per_core\u001b[0m\u001b[0m                 = 1 \u001b[90m->\u001b[0m \u001b[0m\u001b[90mnull\u001b[0m\u001b[0m\n",
      "      \u001b[31m-\u001b[0m \u001b[0m\u001b[1m\u001b[0mdisable_api_stop\u001b[0m\u001b[0m                     = false \u001b[90m->\u001b[0m \u001b[0m\u001b[90mnull\u001b[0m\u001b[0m\n",
      "      \u001b[31m-\u001b[0m \u001b[0m\u001b[1m\u001b[0mdisable_api_termination\u001b[0m\u001b[0m              = false \u001b[90m->\u001b[0m \u001b[0m\u001b[90mnull\u001b[0m\u001b[0m\n",
      "      \u001b[31m-\u001b[0m \u001b[0m\u001b[1m\u001b[0mebs_optimized\u001b[0m\u001b[0m                        = false \u001b[90m->\u001b[0m \u001b[0m\u001b[90mnull\u001b[0m\u001b[0m\n",
      "      \u001b[31m-\u001b[0m \u001b[0m\u001b[1m\u001b[0mget_password_data\u001b[0m\u001b[0m                    = false \u001b[90m->\u001b[0m \u001b[0m\u001b[90mnull\u001b[0m\u001b[0m\n",
      "      \u001b[31m-\u001b[0m \u001b[0m\u001b[1m\u001b[0mhibernation\u001b[0m\u001b[0m                          = false \u001b[90m->\u001b[0m \u001b[0m\u001b[90mnull\u001b[0m\u001b[0m\n",
      "      \u001b[31m-\u001b[0m \u001b[0m\u001b[1m\u001b[0mid\u001b[0m\u001b[0m                                   = \"i-0b9cca4fc26840125\" \u001b[90m->\u001b[0m \u001b[0m\u001b[90mnull\u001b[0m\u001b[0m\n",
      "      \u001b[31m-\u001b[0m \u001b[0m\u001b[1m\u001b[0minstance_initiated_shutdown_behavior\u001b[0m\u001b[0m = \"stop\" \u001b[90m->\u001b[0m \u001b[0m\u001b[90mnull\u001b[0m\u001b[0m\n",
      "      \u001b[31m-\u001b[0m \u001b[0m\u001b[1m\u001b[0minstance_state\u001b[0m\u001b[0m                       = \"running\" \u001b[90m->\u001b[0m \u001b[0m\u001b[90mnull\u001b[0m\u001b[0m\n",
      "      \u001b[31m-\u001b[0m \u001b[0m\u001b[1m\u001b[0minstance_type\u001b[0m\u001b[0m                        = \"t2.micro\" \u001b[90m->\u001b[0m \u001b[0m\u001b[90mnull\u001b[0m\u001b[0m\n",
      "      \u001b[31m-\u001b[0m \u001b[0m\u001b[1m\u001b[0mipv6_address_count\u001b[0m\u001b[0m                   = 0 \u001b[90m->\u001b[0m \u001b[0m\u001b[90mnull\u001b[0m\u001b[0m\n",
      "      \u001b[31m-\u001b[0m \u001b[0m\u001b[1m\u001b[0mipv6_addresses\u001b[0m\u001b[0m                       = [] \u001b[90m->\u001b[0m \u001b[0m\u001b[90mnull\u001b[0m\u001b[0m\n",
      "      \u001b[31m-\u001b[0m \u001b[0m\u001b[1m\u001b[0mmonitoring\u001b[0m\u001b[0m                           = false \u001b[90m->\u001b[0m \u001b[0m\u001b[90mnull\u001b[0m\u001b[0m\n",
      "      \u001b[31m-\u001b[0m \u001b[0m\u001b[1m\u001b[0mprimary_network_interface_id\u001b[0m\u001b[0m         = \"eni-0a51de6d13eab21fa\" \u001b[90m->\u001b[0m \u001b[0m\u001b[90mnull\u001b[0m\u001b[0m\n",
      "      \u001b[31m-\u001b[0m \u001b[0m\u001b[1m\u001b[0mprivate_dns\u001b[0m\u001b[0m                          = \"ip-172-31-19-209.us-west-1.compute.internal\" \u001b[90m->\u001b[0m \u001b[0m\u001b[90mnull\u001b[0m\u001b[0m\n",
      "      \u001b[31m-\u001b[0m \u001b[0m\u001b[1m\u001b[0mprivate_ip\u001b[0m\u001b[0m                           = \"172.31.19.209\" \u001b[90m->\u001b[0m \u001b[0m\u001b[90mnull\u001b[0m\u001b[0m\n",
      "      \u001b[31m-\u001b[0m \u001b[0m\u001b[1m\u001b[0mpublic_dns\u001b[0m\u001b[0m                           = \"ec2-54-177-223-218.us-west-1.compute.amazonaws.com\" \u001b[90m->\u001b[0m \u001b[0m\u001b[90mnull\u001b[0m\u001b[0m\n",
      "      \u001b[31m-\u001b[0m \u001b[0m\u001b[1m\u001b[0mpublic_ip\u001b[0m\u001b[0m                            = \"54.177.223.218\" \u001b[90m->\u001b[0m \u001b[0m\u001b[90mnull\u001b[0m\u001b[0m\n",
      "      \u001b[31m-\u001b[0m \u001b[0m\u001b[1m\u001b[0msecondary_private_ips\u001b[0m\u001b[0m                = [] \u001b[90m->\u001b[0m \u001b[0m\u001b[90mnull\u001b[0m\u001b[0m\n",
      "      \u001b[31m-\u001b[0m \u001b[0m\u001b[1m\u001b[0msecurity_groups\u001b[0m\u001b[0m                      = [\n",
      "          \u001b[31m-\u001b[0m \u001b[0m\"simple security group - user10\",\n",
      "        ] \u001b[90m->\u001b[0m \u001b[0m\u001b[90mnull\u001b[0m\u001b[0m\n",
      "      \u001b[31m-\u001b[0m \u001b[0m\u001b[1m\u001b[0msource_dest_check\u001b[0m\u001b[0m                    = true \u001b[90m->\u001b[0m \u001b[0m\u001b[90mnull\u001b[0m\u001b[0m\n",
      "      \u001b[31m-\u001b[0m \u001b[0m\u001b[1m\u001b[0msubnet_id\u001b[0m\u001b[0m                            = \"subnet-01f855549f3efdd85\" \u001b[90m->\u001b[0m \u001b[0m\u001b[90mnull\u001b[0m\u001b[0m\n",
      "      \u001b[31m-\u001b[0m \u001b[0m\u001b[1m\u001b[0mtags\u001b[0m\u001b[0m                                 = {} \u001b[90m->\u001b[0m \u001b[0m\u001b[90mnull\u001b[0m\u001b[0m\n",
      "      \u001b[31m-\u001b[0m \u001b[0m\u001b[1m\u001b[0mtags_all\u001b[0m\u001b[0m                             = {} \u001b[90m->\u001b[0m \u001b[0m\u001b[90mnull\u001b[0m\u001b[0m\n",
      "      \u001b[31m-\u001b[0m \u001b[0m\u001b[1m\u001b[0mtenancy\u001b[0m\u001b[0m                              = \"default\" \u001b[90m->\u001b[0m \u001b[0m\u001b[90mnull\u001b[0m\u001b[0m\n",
      "      \u001b[31m-\u001b[0m \u001b[0m\u001b[1m\u001b[0muser_data_replace_on_change\u001b[0m\u001b[0m          = false \u001b[90m->\u001b[0m \u001b[0m\u001b[90mnull\u001b[0m\u001b[0m\n",
      "      \u001b[31m-\u001b[0m \u001b[0m\u001b[1m\u001b[0mvpc_security_group_ids\u001b[0m\u001b[0m               = [\n",
      "          \u001b[31m-\u001b[0m \u001b[0m\"sg-018669c5177c7e214\",\n",
      "        ] \u001b[90m->\u001b[0m \u001b[0m\u001b[90mnull\u001b[0m\u001b[0m\n",
      "\n",
      "      \u001b[31m-\u001b[0m \u001b[0mcapacity_reservation_specification {\n",
      "          \u001b[31m-\u001b[0m \u001b[0m\u001b[1m\u001b[0mcapacity_reservation_preference\u001b[0m\u001b[0m = \"open\" \u001b[90m->\u001b[0m \u001b[0m\u001b[90mnull\u001b[0m\u001b[0m\n",
      "        }\n",
      "\n",
      "      \u001b[31m-\u001b[0m \u001b[0mcredit_specification {\n",
      "          \u001b[31m-\u001b[0m \u001b[0m\u001b[1m\u001b[0mcpu_credits\u001b[0m\u001b[0m = \"standard\" \u001b[90m->\u001b[0m \u001b[0m\u001b[90mnull\u001b[0m\u001b[0m\n",
      "        }\n",
      "\n",
      "      \u001b[31m-\u001b[0m \u001b[0menclave_options {\n",
      "          \u001b[31m-\u001b[0m \u001b[0m\u001b[1m\u001b[0menabled\u001b[0m\u001b[0m = false \u001b[90m->\u001b[0m \u001b[0m\u001b[90mnull\u001b[0m\u001b[0m\n",
      "        }\n",
      "\n",
      "      \u001b[31m-\u001b[0m \u001b[0mmaintenance_options {\n",
      "          \u001b[31m-\u001b[0m \u001b[0m\u001b[1m\u001b[0mauto_recovery\u001b[0m\u001b[0m = \"default\" \u001b[90m->\u001b[0m \u001b[0m\u001b[90mnull\u001b[0m\u001b[0m\n",
      "        }\n",
      "\n",
      "      \u001b[31m-\u001b[0m \u001b[0mmetadata_options {\n",
      "          \u001b[31m-\u001b[0m \u001b[0m\u001b[1m\u001b[0mhttp_endpoint\u001b[0m\u001b[0m               = \"enabled\" \u001b[90m->\u001b[0m \u001b[0m\u001b[90mnull\u001b[0m\u001b[0m\n",
      "          \u001b[31m-\u001b[0m \u001b[0m\u001b[1m\u001b[0mhttp_put_response_hop_limit\u001b[0m\u001b[0m = 1 \u001b[90m->\u001b[0m \u001b[0m\u001b[90mnull\u001b[0m\u001b[0m\n",
      "          \u001b[31m-\u001b[0m \u001b[0m\u001b[1m\u001b[0mhttp_tokens\u001b[0m\u001b[0m                 = \"optional\" \u001b[90m->\u001b[0m \u001b[0m\u001b[90mnull\u001b[0m\u001b[0m\n",
      "          \u001b[31m-\u001b[0m \u001b[0m\u001b[1m\u001b[0minstance_metadata_tags\u001b[0m\u001b[0m      = \"disabled\" \u001b[90m->\u001b[0m \u001b[0m\u001b[90mnull\u001b[0m\u001b[0m\n",
      "        }\n",
      "\n",
      "      \u001b[31m-\u001b[0m \u001b[0mprivate_dns_name_options {\n",
      "          \u001b[31m-\u001b[0m \u001b[0m\u001b[1m\u001b[0menable_resource_name_dns_a_record\u001b[0m\u001b[0m    = false \u001b[90m->\u001b[0m \u001b[0m\u001b[90mnull\u001b[0m\u001b[0m\n",
      "          \u001b[31m-\u001b[0m \u001b[0m\u001b[1m\u001b[0menable_resource_name_dns_aaaa_record\u001b[0m\u001b[0m = false \u001b[90m->\u001b[0m \u001b[0m\u001b[90mnull\u001b[0m\u001b[0m\n",
      "          \u001b[31m-\u001b[0m \u001b[0m\u001b[1m\u001b[0mhostname_type\u001b[0m\u001b[0m                        = \"ip-name\" \u001b[90m->\u001b[0m \u001b[0m\u001b[90mnull\u001b[0m\u001b[0m\n",
      "        }\n",
      "\n",
      "      \u001b[31m-\u001b[0m \u001b[0mroot_block_device {\n",
      "          \u001b[31m-\u001b[0m \u001b[0m\u001b[1m\u001b[0mdelete_on_termination\u001b[0m\u001b[0m = true \u001b[90m->\u001b[0m \u001b[0m\u001b[90mnull\u001b[0m\u001b[0m\n",
      "          \u001b[31m-\u001b[0m \u001b[0m\u001b[1m\u001b[0mdevice_name\u001b[0m\u001b[0m           = \"/dev/sda1\" \u001b[90m->\u001b[0m \u001b[0m\u001b[90mnull\u001b[0m\u001b[0m\n",
      "          \u001b[31m-\u001b[0m \u001b[0m\u001b[1m\u001b[0mencrypted\u001b[0m\u001b[0m             = false \u001b[90m->\u001b[0m \u001b[0m\u001b[90mnull\u001b[0m\u001b[0m\n",
      "          \u001b[31m-\u001b[0m \u001b[0m\u001b[1m\u001b[0miops\u001b[0m\u001b[0m                  = 100 \u001b[90m->\u001b[0m \u001b[0m\u001b[90mnull\u001b[0m\u001b[0m\n",
      "          \u001b[31m-\u001b[0m \u001b[0m\u001b[1m\u001b[0mtags\u001b[0m\u001b[0m                  = {} \u001b[90m->\u001b[0m \u001b[0m\u001b[90mnull\u001b[0m\u001b[0m\n",
      "          \u001b[31m-\u001b[0m \u001b[0m\u001b[1m\u001b[0mthroughput\u001b[0m\u001b[0m            = 0 \u001b[90m->\u001b[0m \u001b[0m\u001b[90mnull\u001b[0m\u001b[0m\n",
      "          \u001b[31m-\u001b[0m \u001b[0m\u001b[1m\u001b[0mvolume_id\u001b[0m\u001b[0m             = \"vol-019fad3031132552d\" \u001b[90m->\u001b[0m \u001b[0m\u001b[90mnull\u001b[0m\u001b[0m\n",
      "          \u001b[31m-\u001b[0m \u001b[0m\u001b[1m\u001b[0mvolume_size\u001b[0m\u001b[0m           = 8 \u001b[90m->\u001b[0m \u001b[0m\u001b[90mnull\u001b[0m\u001b[0m\n",
      "          \u001b[31m-\u001b[0m \u001b[0m\u001b[1m\u001b[0mvolume_type\u001b[0m\u001b[0m           = \"gp2\" \u001b[90m->\u001b[0m \u001b[0m\u001b[90mnull\u001b[0m\u001b[0m\n",
      "        }\n",
      "    }\n",
      "\n",
      "\u001b[1m  # aws_security_group.secgroup-user10\u001b[0m will be \u001b[1m\u001b[31mdestroyed\u001b[0m\u001b[0m\n",
      "\u001b[0m  \u001b[31m-\u001b[0m\u001b[0m resource \"aws_security_group\" \"secgroup-user10\" {\n",
      "      \u001b[31m-\u001b[0m \u001b[0m\u001b[1m\u001b[0marn\u001b[0m\u001b[0m                    = \"arn:aws:ec2:us-west-1:816376574968:security-group/sg-018669c5177c7e214\" \u001b[90m->\u001b[0m \u001b[0m\u001b[90mnull\u001b[0m\u001b[0m\n",
      "      \u001b[31m-\u001b[0m \u001b[0m\u001b[1m\u001b[0mdescription\u001b[0m\u001b[0m            = \"Managed by Terraform\" \u001b[90m->\u001b[0m \u001b[0m\u001b[90mnull\u001b[0m\u001b[0m\n",
      "      \u001b[31m-\u001b[0m \u001b[0m\u001b[1m\u001b[0megress\u001b[0m\u001b[0m                 = [] \u001b[90m->\u001b[0m \u001b[0m\u001b[90mnull\u001b[0m\u001b[0m\n",
      "      \u001b[31m-\u001b[0m \u001b[0m\u001b[1m\u001b[0mid\u001b[0m\u001b[0m                     = \"sg-018669c5177c7e214\" \u001b[90m->\u001b[0m \u001b[0m\u001b[90mnull\u001b[0m\u001b[0m\n",
      "      \u001b[31m-\u001b[0m \u001b[0m\u001b[1m\u001b[0mingress\u001b[0m\u001b[0m                = [\n",
      "          \u001b[31m-\u001b[0m \u001b[0m{\n",
      "              \u001b[31m-\u001b[0m \u001b[0mcidr_blocks      = [\n",
      "                  \u001b[31m-\u001b[0m \u001b[0m\"0.0.0.0/0\",\n"
     ]
    },
    {
     "name": "stdout",
     "output_type": "stream",
     "text": [
      "                ]\n",
      "              \u001b[31m-\u001b[0m \u001b[0mdescription      = \"\"\n",
      "              \u001b[31m-\u001b[0m \u001b[0mfrom_port        = 22\n",
      "              \u001b[31m-\u001b[0m \u001b[0mipv6_cidr_blocks = []\n",
      "              \u001b[31m-\u001b[0m \u001b[0mprefix_list_ids  = []\n",
      "              \u001b[31m-\u001b[0m \u001b[0mprotocol         = \"tcp\"\n",
      "              \u001b[31m-\u001b[0m \u001b[0msecurity_groups  = []\n",
      "              \u001b[31m-\u001b[0m \u001b[0mself             = false\n",
      "              \u001b[31m-\u001b[0m \u001b[0mto_port          = 22\n",
      "            },\n",
      "        ] \u001b[90m->\u001b[0m \u001b[0m\u001b[90mnull\u001b[0m\u001b[0m\n",
      "      \u001b[31m-\u001b[0m \u001b[0m\u001b[1m\u001b[0mname\u001b[0m\u001b[0m                   = \"simple security group - user10\" \u001b[90m->\u001b[0m \u001b[0m\u001b[90mnull\u001b[0m\u001b[0m\n",
      "      \u001b[31m-\u001b[0m \u001b[0m\u001b[1m\u001b[0mowner_id\u001b[0m\u001b[0m               = \"816376574968\" \u001b[90m->\u001b[0m \u001b[0m\u001b[90mnull\u001b[0m\u001b[0m\n",
      "      \u001b[31m-\u001b[0m \u001b[0m\u001b[1m\u001b[0mrevoke_rules_on_delete\u001b[0m\u001b[0m = false \u001b[90m->\u001b[0m \u001b[0m\u001b[90mnull\u001b[0m\u001b[0m\n",
      "      \u001b[31m-\u001b[0m \u001b[0m\u001b[1m\u001b[0mtags\u001b[0m\u001b[0m                   = {} \u001b[90m->\u001b[0m \u001b[0m\u001b[90mnull\u001b[0m\u001b[0m\n",
      "      \u001b[31m-\u001b[0m \u001b[0m\u001b[1m\u001b[0mtags_all\u001b[0m\u001b[0m               = {} \u001b[90m->\u001b[0m \u001b[0m\u001b[90mnull\u001b[0m\u001b[0m\n",
      "      \u001b[31m-\u001b[0m \u001b[0m\u001b[1m\u001b[0mvpc_id\u001b[0m\u001b[0m                 = \"vpc-0c4ad4047839bc08f\" \u001b[90m->\u001b[0m \u001b[0m\u001b[90mnull\u001b[0m\u001b[0m\n",
      "    }\n",
      "\n",
      "\u001b[0m\u001b[1mPlan:\u001b[0m 0 to add, 0 to change, 2 to destroy.\n",
      "\u001b[0m\u001b[0m\n",
      "\u001b[1mChanges to Outputs:\u001b[0m\u001b[0m\n",
      "  \u001b[31m-\u001b[0m \u001b[0m\u001b[1m\u001b[0mami_instance\u001b[0m\u001b[0m = \"ami-05bdaab9cff831ca7\" \u001b[90m->\u001b[0m \u001b[0m\u001b[90mnull\u001b[0m\u001b[0m\n",
      "\u001b[0m\u001b[1maws_instance.example: Destroying... [id=i-0b9cca4fc26840125]\u001b[0m\u001b[0m\n",
      "\u001b[0m\u001b[1maws_instance.example: Still destroying... [id=i-0b9cca4fc26840125, 10s elapsed]\u001b[0m\u001b[0m\n",
      "\u001b[0m\u001b[1maws_instance.example: Still destroying... [id=i-0b9cca4fc26840125, 20s elapsed]\u001b[0m\u001b[0m\n",
      "\u001b[0m\u001b[1maws_instance.example: Still destroying... [id=i-0b9cca4fc26840125, 30s elapsed]\u001b[0m\u001b[0m\n",
      "\u001b[0m\u001b[1maws_instance.example: Destruction complete after 31s\u001b[0m\n",
      "\u001b[0m\u001b[1maws_security_group.secgroup-user10: Destroying... [id=sg-018669c5177c7e214]\u001b[0m\u001b[0m\n",
      "\u001b[0m\u001b[1maws_security_group.secgroup-user10: Destruction complete after 1s\u001b[0m\n",
      "\u001b[0m\u001b[1m\u001b[32m\n",
      "Destroy complete! Resources: 2 destroyed.\n",
      "\u001b[0m\n"
     ]
    }
   ],
   "source": [
    "TF_DESTROY"
   ]
  },
  {
   "cell_type": "markdown",
   "id": "distinct-zimbabwe",
   "metadata": {},
   "source": [
    "# Summary\n",
    "\n",
    "- In this section we saw another example of using modules\n",
    "\n",
    "In this case we specfified a github.com repository as our module source.\n",
    "\n",
    "The module uses a data_source to obtain a lastest ubuntu aws ami image according to our criteria\n",
    "\n",
    "<!--\n",
    "\n",
    "# **Stretch Goal:** Change region/ami\n",
    "\n",
    "Run terraform apply with a different region, e.g. us-east-1, to verify that a different ami is proposed\n",
    "\n",
    "```TF_VAR_region=us-east-1 terraform apply```\n",
    "-->"
   ]
  },
  {
   "cell_type": "markdown",
   "id": "4c2b45e3",
   "metadata": {},
   "source": [
    "# Stretch Goals\n",
    "\n",
    "## Stretch Goal 1. Modify the module\n",
    "\n",
    "... you're way ahead of the pack ... try this ...\n",
    "\n",
    "Clone the module definition using ```git clone https://github.com/mjbright/terraform-modules/``` and place this under a local module directory, then modify your config to use this new module\n",
    "- git clone the repo\n",
    "- move the source to modules/mymodule\n",
    "- modify the module definition to take extra input variables:\n",
    "  - *release*  : to pull a specific Ubuntu release\n",
    "  - *num_vms*  : to specify how many instances to create\n",
    "  - *key_pair* : to pass a tls_private key to use\n",
    "\n",
    "For *'release'*, you should be able to pass an argument like \"focal-20.04\", \"bionic-18.04\", \"trusty-14.04\" and return a candidate ami\n",
    "\n",
    "## Stretch Goal 2. Create your own module\n",
    "\n",
    "Create your own module to\n",
    "- Create your own module to create multiple file instances\n",
    "- experiment with passing different arguments to the module\n",
    "- experiment with recuperating output values from the module\n",
    "- add features such as\n",
    "  - calculating file checksums\n",
    "  - create a zip archive file\n",
    "- Create your own github repository containing the module\n",
    "- Use the module directly from github - as described at https://www.terraform.io/docs/language/modules/sources.html#github\n",
    "\n",
    "## Stretch Goal 3. Investigate AWS Modules\n",
    "\n",
    "- Investigate the AWS Modules here: https://registry.terraform.io/namespaces/terraform-aws-modules\n",
    "- Create EC2 instances using: https://registry.terraform.io/modules/terraform-aws-modules/ec2-instance/aws/latest"
   ]
  },
  {
   "cell_type": "code",
   "execution_count": 21,
   "id": "b3d9fbcd",
   "metadata": {},
   "outputs": [
    {
     "name": "stdout",
     "output_type": "stream",
     "text": [
      "2023-Jan-09:[TF-1.3.7] Lab updated on node tf[terraform 1.3.7]\n"
     ]
    },
    {
     "ename": "",
     "evalue": "1",
     "output_type": "error",
     "traceback": []
    }
   ],
   "source": [
    "EXCL_FN_LAB_ENV"
   ]
  },
  {
   "cell_type": "markdown",
   "id": "artistic-contractor",
   "metadata": {},
   "source": [
    "<hr/>\n",
    "<!-- ![](../../../static/images/LOGO_v2_CROPPED.jpg) -->\n",
    "<img src=\"../images/LOGO_v2_CROPPED.jpg\" width=\"200\" />"
   ]
  },
  {
   "cell_type": "markdown",
   "id": "f9cdb234",
   "metadata": {},
   "source": [
    "# --EXCLUDE--SECTION--\n",
    "\n",
    "## **NOTE:** Save notebook first\n",
    "\n",
    "<div id=\"END\" /> <a href=\"#TOP\" > TOP OF PAGE </a>  <!-- must appear after EXCLUDE pragma !! -->"
   ]
  },
  {
   "cell_type": "code",
   "execution_count": 61,
   "id": "ea9b065b",
   "metadata": {},
   "outputs": [
    {
     "name": "stdout",
     "output_type": "stream",
     "text": [
      "\n",
      "==== Filtering current notebook [/home/student/nb/2022-Terraform/content/tf-labs/7b.TerraformModules-latest-ubuntu-ami/README.ipynb] ====\n",
      "-- . ~/scripts/nbtool.rc\n",
      "\n",
      "-- /usr/bin/python3 ~/scripts/nbtool.py -f ~/nb/2022-Terraform/content/tf-labs/7b.TerraformModules-latest-ubuntu-ami/README.ipynb\n",
      "---- no VARS_SEEN ----\n",
      "i/p nb has 0 variables\n",
      "/home/student/nb/2022-Terraform/content/tf-labs/7b.TerraformModules-latest-ubuntu-ami/README.ipynb:\n",
      "\t#cells=37\n",
      "cells to include[#25]=[[3, 5, 7, 8, 9, 11, 12, 13, 17, 18, 19, 20, 21, 22, 23, 24, 25, 26, 27, 28, 29, 30, 31, 32, 33]]\n",
      "cells to include[#25]=[[33, 32, 31, 30, 29, 28, 27, 26, 25, 24, 23, 22, 21, 20, 19, 18, 17, 13, 12, 11, 9, 8, 7, 5, 3]]\n",
      "included markdown cells=[3, 5, 7, 9, 12, 13, 17, 19, 24, 25, 28, 29, 31, 32, 33]\n",
      "included code     cells=[8, 11, 18, 20, 21, 22, 23, 26, 27, 30]\n",
      "excluded          cells=[0, 1, 2, 4, 6, 10, 14, 15, 16, 34, 35]\n",
      "---- no VARS_SEEN ----\n",
      "o/p nb has 0 variables\n",
      "/home/student/nb/2022-Terraform/content/tf-labs/7b.TerraformModules-latest-ubuntu-ami/README.ipynb.filtered.ipynb:\n",
      "\t#cells=25\n",
      "ls: cannot access 'README.ipynb.filtered.ipynb': No such file or directory\n",
      "grep: README.ipynb.filtered.ipynb: No such file or directory\n",
      "grep: README.ipynb.filtered.ipynb: No such file or directory\n",
      "grep: README.ipynb.filtered.ipynb: No such file or directory\n",
      "\n",
      "Good: No VAR defs/usages in i/p file\n",
      "jq: error: Could not open file README.ipynb.filtered.ipynb: No such file or directory\n",
      "\n",
      "Good: No VAR defs/usages in o/p file\n",
      "jq: error: Could not open file README.ipynb.filtered.ipynb: No such file or directory\n",
      "\n",
      "-- jupyter-nbconvert --to markdown README.ipynb.filtered.ipynb\n",
      "[NbConvertApp] Converting notebook README.ipynb.filtered.ipynb to markdown\n",
      "[NbConvertApp] Writing 23166 bytes to README.ipynb.filtered.md\n",
      "\n",
      "\u001b[32m-rw-r--r-- 1 student docker 27779 Feb 15 12:43 Lab_7b.TerraformModules-from-github.com.ipynb\u001b[0m\n",
      "\u001b[32m-rw-r--r-- 1 student docker 46426 Feb 15 12:43 Lab_7b.TerraformModules-from-github.com.md\u001b[0m\n"
     ]
    }
   ],
   "source": [
    "#set -x\n",
    "#set +x\n",
    ". ~/scripts/nbtool.rc\n",
    "EXCL_FN_FILTER_NOTEBOOK $NB"
   ]
  },
  {
   "cell_type": "code",
   "execution_count": null,
   "id": "9086cc9e",
   "metadata": {},
   "outputs": [],
   "source": []
  }
 ],
 "metadata": {
  "kernelspec": {
   "display_name": "Bash",
   "language": "bash",
   "name": "bash"
  },
  "language_info": {
   "codemirror_mode": "shell",
   "file_extension": ".sh",
   "mimetype": "text/x-sh",
   "name": "bash"
  }
 },
 "nbformat": 4,
 "nbformat_minor": 5
}
