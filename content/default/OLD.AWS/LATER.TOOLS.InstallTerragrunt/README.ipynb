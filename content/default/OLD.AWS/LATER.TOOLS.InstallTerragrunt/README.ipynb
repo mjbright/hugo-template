{
 "cells": [
  {
   "cell_type": "markdown",
   "id": "concrete-idaho",
   "metadata": {},
   "source": [
    "---\n",
    "title: 'Lab 0b SETUP - Install Terragrunt'\n",
    "date: 2019-02-11T19:27:37+10:00\n",
    "weight: 02\n",
    "---\n",
    "\n",
    "Go to [Terragrunt Releases (https://github.com/gruntwork-io/terragrunt/releases/download/v0.21.1/terragrunt_linux_amd64)](https://github.com/gruntwork-io/terragrunt/releases/download/v0.21.1/terragrunt_linux_amd64).\n",
    "Download the latest stable binary for your platform - linux-amd64 in this case.\n",
    "\n",
    "In your VM, type"
   ]
  },
  {
   "cell_type": "code",
   "execution_count": null,
   "id": "collect-penguin",
   "metadata": {},
   "outputs": [],
   "source": [
    "%%bash\n",
    "wget https://github.com/gruntwork-io/terragrunt/releases/download/v0.21.1/terragrunt_linux_amd64"
   ]
  },
  {
   "cell_type": "markdown",
   "id": "thousand-chapel",
   "metadata": {},
   "source": [
    "### Check Terragrunt Version"
   ]
  },
  {
   "cell_type": "code",
   "execution_count": null,
   "id": "prepared-sampling",
   "metadata": {},
   "outputs": [],
   "source": [
    "%%bash\n",
    "~/terragrunt_linux_amd64 --version"
   ]
  },
  {
   "cell_type": "markdown",
   "id": "distinct-search",
   "metadata": {},
   "source": [
    "You should see output like:"
   ]
  },
  {
   "cell_type": "code",
   "execution_count": null,
   "id": "contemporary-strategy",
   "metadata": {},
   "outputs": [],
   "source": [
    "terragrunt version v0.21.1"
   ]
  },
  {
   "cell_type": "markdown",
   "id": "civic-edmonton",
   "metadata": {},
   "source": [
    "### Move Terragrunt into ~/bin"
   ]
  },
  {
   "cell_type": "code",
   "execution_count": null,
   "id": "aggregate-ivory",
   "metadata": {},
   "outputs": [],
   "source": [
    "%%bash\n",
    "mv terragrunt_linux_amd64 ~/bin/terragrunt"
   ]
  },
  {
   "cell_type": "markdown",
   "id": "patient-folder",
   "metadata": {},
   "source": [
    "Make sure that the command"
   ]
  },
  {
   "cell_type": "code",
   "execution_count": null,
   "id": "moving-miniature",
   "metadata": {},
   "outputs": [],
   "source": [
    "terragrunt --version"
   ]
  },
  {
   "cell_type": "markdown",
   "id": "moral-scheme",
   "metadata": {},
   "source": [
    "works correctly\n",
    "\n",
    "### Investigate Terragrunt sub-commands\n",
    "\n",
    "Type"
   ]
  },
  {
   "cell_type": "code",
   "execution_count": null,
   "id": "laughing-plane",
   "metadata": {},
   "outputs": [],
   "source": [
    "terragrunt"
   ]
  },
  {
   "cell_type": "markdown",
   "id": "boxed-logging",
   "metadata": {},
   "source": [
    "to see the Terragrunt sub-commands available\n",
    "\n",
    "\n",
    "### Investigate the Terragrunt 0.12 CHANGELOG\n",
    "\n",
    "\n",
    "\n",
    "<hr/>\n",
    "<!-- ![](../../../static/images/LOGO_v2_CROPPED.jpg) --> <img src=\"../../../static/images/LOGO_v2_CROPPED.jpg\" width=\"200\" />"
   ]
  }
 ],
 "metadata": {
  "kernelspec": {
   "display_name": "Bash",
   "language": "bash",
   "name": "bash"
  },
  "language_info": {
   "codemirror_mode": "shell",
   "file_extension": ".sh",
   "mimetype": "text/x-sh",
   "name": "bash"
  }
 },
 "nbformat": 4,
 "nbformat_minor": 5
}
