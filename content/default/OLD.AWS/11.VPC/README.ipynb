{
 "cells": [
  {
   "cell_type": "markdown",
   "id": "diagnostic-sunday",
   "metadata": {},
   "source": [
    "---\n",
    "title: 'Lab 11. VPC (Virtual Private Cloud)'\n",
    "date: 2019-02-11T19:27:37+10:00\n",
    "weight: 110\n",
    "---\n",
    "\n",
    "\n",
    "## Background:\n",
    "In this exercise we will demonstrate creation of a VPC\n",
    "\n",
    "\n",
    "## Tasks:\n",
    "\n",
    "### 1. Make a directory called ‘labs/lab11’ underneath the home directory.\n",
    "### 2. Change into the directory.\n",
    "\n",
    "### 3. Create a file named main.tf with the following content"
   ]
  },
  {
   "cell_type": "code",
   "execution_count": null,
   "id": "advised-ontario",
   "metadata": {
    "attributes": {
     "classes": [
      "tf"
     ],
     "id": ""
    }
   },
   "outputs": [],
   "source": [
    "provider \"aws\" {\n",
    "        region = var.region\n",
    "}\n"
   ]
  },
  {
   "cell_type": "markdown",
   "id": "illegal-statistics",
   "metadata": {},
   "source": [
    "### 4. Create a file named instance.tf with the following content"
   ]
  },
  {
   "cell_type": "code",
   "execution_count": null,
   "id": "significant-sunset",
   "metadata": {
    "attributes": {
     "classes": [
      "tf"
     ],
     "id": ""
    }
   },
   "outputs": [],
   "source": [
    "resource \"aws_instance\" \"example\" {\n",
    "  ami           = \"ami-0e81aa4c57820bb57\"\n",
    "  instance_type = \"t2.micro\"\n",
    "\n",
    "  # the VPC subnet\n",
    "  subnet_id = \"${aws_subnet.main-public-1.id}\"\n",
    "\n",
    "  # the security group\n",
    "  vpc_security_group_ids = [\"${aws_security_group.allow-ssh.id}\"]\n",
    "\n",
    "  # the public SSH key\n",
    "  key_name = \"terraform-course-keypair\"\n",
    "}\n",
    "\n",
    "resource \"aws_ebs_volume\" \"ebs-volume-1\" {\n",
    "    availability_zone = \"us-west-1a\"\n",
    "    size = 20\n",
    "    type = \"gp2\"\n",
    "    tags = {\n",
    "        Name = \"extra volume data\"\n",
    "    }\n",
    "}\n",
    "\n",
    "resource \"aws_volume_attachment\" \"ebs-volume-1-attachment\" {\n",
    "  device_name = \"/dev/xvdh\"\n",
    "  volume_id = \"${aws_ebs_volume.ebs-volume-1.id}\"\n",
    "  instance_id = \"${aws_instance.example.id}\"\n",
    "}\n",
    "\n",
    "resource \"aws_security_group\" \"allow-ssh\" {\n",
    "  vpc_id = \"${aws_vpc.main.id}\"\n",
    "  name = \"allow-ssh\"\n",
    "  description = \"security group that allows ssh and all egress traffic\"\n",
    "  egress {\n",
    "      from_port = 0\n",
    "      to_port = 0\n",
    "      protocol = \"-1\"\n",
    "      cidr_blocks = [\"0.0.0.0/0\"]\n",
    "  }\n",
    "\n",
    "  ingress {\n",
    "      from_port = 22\n",
    "      to_port = 22\n",
    "      protocol = \"tcp\"\n",
    "      cidr_blocks = [\"0.0.0.0/0\"]\n",
    "  }\n",
    "  tags = {\n",
    "    Name = \"allow-ssh\"\n",
    "  }\n",
    "}\n"
   ]
  },
  {
   "cell_type": "markdown",
   "id": "specified-elevation",
   "metadata": {},
   "source": [
    "Note how this file defines the instance, a EBS raw disk volume which is attached/mounted on the instance.\n",
    "\n",
    "\n",
    "### 4. Create a file named outputs.tf with the following content"
   ]
  },
  {
   "cell_type": "code",
   "execution_count": null,
   "id": "abroad-awareness",
   "metadata": {
    "attributes": {
     "classes": [
      "tf"
     ],
     "id": ""
    }
   },
   "outputs": [],
   "source": [
    "output \"public_ip\" {\n",
    "  value = aws_instance.example.public_ip\n",
    "}\n",
    "\n",
    "output \"public_dns\" {\n",
    "  value = aws_instance.example.public_dns\n",
    "}\n"
   ]
  },
  {
   "cell_type": "markdown",
   "id": "republican-placement",
   "metadata": {},
   "source": [
    "To output instance ip/dns information for connectiing.\n",
    "\n",
    "### 5. Create a file named vars.tf with the following content"
   ]
  },
  {
   "cell_type": "code",
   "execution_count": null,
   "id": "small-roads",
   "metadata": {
    "attributes": {
     "classes": [
      "tf"
     ],
     "id": ""
    }
   },
   "outputs": [],
   "source": [
    "\n",
    "variable \"region\" {\n",
    "  default = \"us-west-1\"\n",
    "}\n"
   ]
  },
  {
   "cell_type": "markdown",
   "id": "rubber-juvenile",
   "metadata": {},
   "source": [
    "### 6. Create a file named vpc.tf with the following content"
   ]
  },
  {
   "cell_type": "code",
   "execution_count": null,
   "id": "altered-mercury",
   "metadata": {
    "attributes": {
     "classes": [
      "tf"
     ],
     "id": ""
    }
   },
   "outputs": [],
   "source": [
    "# Internet VPC\n",
    "resource \"aws_vpc\" \"main\" {\n",
    "    cidr_block = \"10.0.0.0/16\"\n",
    "    instance_tenancy = \"default\"\n",
    "    enable_dns_support = \"true\"\n",
    "    enable_dns_hostnames = \"true\"\n",
    "    enable_classiclink = \"false\"\n",
    "    tags = {\n",
    "        Name = \"main\"\n",
    "    }\n",
    "}\n",
    "\n",
    "# Subnets\n",
    "resource \"aws_subnet\" \"main-public-1\" {\n",
    "    vpc_id = \"${aws_vpc.main.id}\"\n",
    "    cidr_block = \"10.0.1.0/24\"\n",
    "    map_public_ip_on_launch = \"true\"\n",
    "    availability_zone = \"us-west-1a\"\n",
    "\n",
    "    tags = {\n",
    "        Name = \"main-public-1\"\n",
    "    }\n",
    "}\n",
    "\n",
    "resource \"aws_subnet\" \"main-public-2\" {\n",
    "    vpc_id = \"${aws_vpc.main.id}\"\n",
    "    cidr_block = \"10.0.2.0/24\"\n",
    "    map_public_ip_on_launch = \"true\"\n",
    "    availability_zone = \"us-west-1b\"\n",
    "    tags = {\n",
    "        Name = \"main-public-2\"\n",
    "    }\n",
    "}\n",
    "\n",
    "resource \"aws_subnet\" \"main-private-1\" {\n",
    "    vpc_id = \"${aws_vpc.main.id}\"\n",
    "    cidr_block = \"10.0.4.0/24\"\n",
    "    map_public_ip_on_launch = \"false\"\n",
    "    availability_zone = \"us-west-1a\"\n",
    "\n",
    "    tags = {\n",
    "        Name = \"main-private-1\"\n",
    "    }\n",
    "}\n",
    "\n",
    "resource \"aws_subnet\" \"main-private-2\" {\n",
    "    vpc_id = \"${aws_vpc.main.id}\"\n",
    "    cidr_block = \"10.0.5.0/24\"\n",
    "    map_public_ip_on_launch = \"false\"\n",
    "    availability_zone = \"us-west-1b\"\n",
    "\n",
    "    tags = {\n",
    "        Name = \"main-private-2\"\n",
    "    }\n",
    "}\n",
    "\n",
    "# Internet GW\n",
    "resource \"aws_internet_gateway\" \"main-gw\" {\n",
    "    vpc_id = \"${aws_vpc.main.id}\"\n",
    "   tags = {\n",
    "        Name = \"main\"\n",
    "    }\n",
    "}\n",
    "\n",
    "# route tables\n",
    "resource \"aws_route_table\" \"main-public\" {\n",
    "    vpc_id = \"${aws_vpc.main.id}\"\n",
    "    route {\n",
    "        cidr_block = \"0.0.0.0/0\"\n",
    "        gateway_id = \"${aws_internet_gateway.main-gw.id}\"\n",
    "    }\n",
    "\n",
    "    tags = {\n",
    "        Name = \"main-public-1\"\n",
    "    }\n",
    "}\n",
    "\n",
    "# route associations public\n",
    "resource \"aws_route_table_association\" \"main-public-1-a\" {\n",
    "    subnet_id = \"${aws_subnet.main-public-1.id}\"\n",
    "    route_table_id = \"${aws_route_table.main-public.id}\"\n",
    "}\n",
    "\n",
    "resource \"aws_route_table_association\" \"main-public-2-a\" {\n",
    "    subnet_id = \"${aws_subnet.main-public-2.id}\"\n",
    "    route_table_id = \"${aws_route_table.main-public.id}\"\n",
    "}\n"
   ]
  },
  {
   "cell_type": "markdown",
   "id": "framed-comparison",
   "metadata": {},
   "source": [
    "### 7. Study the above vpc creation information and also the EBS definition\n",
    "\n",
    "### 8. Apply the configuration\n",
    "Run the following command:"
   ]
  },
  {
   "cell_type": "code",
   "execution_count": null,
   "id": "serial-sucking",
   "metadata": {},
   "outputs": [],
   "source": [
    "%%bash\n",
    "> terraform apply"
   ]
  },
  {
   "cell_type": "markdown",
   "id": "efficient-recorder",
   "metadata": {},
   "source": [
    "Assuming that this works correctly, AWS will create a new VM instance\n",
    "\n",
    "### 9. Connect to the instance"
   ]
  },
  {
   "cell_type": "code",
   "execution_count": null,
   "id": "employed-allah",
   "metadata": {},
   "outputs": [],
   "source": [
    "%%bash\n",
    "ssh ubuntu@<public_dns>"
   ]
  },
  {
   "cell_type": "markdown",
   "id": "numerous-money",
   "metadata": {},
   "source": [
    "Once connected look at ip networking information and disk block information using commands:"
   ]
  },
  {
   "cell_type": "code",
   "execution_count": null,
   "id": "ignored-mistress",
   "metadata": {},
   "outputs": [],
   "source": [
    "%%bash\n",
    "> ip a\n",
    "1: lo: <LOOPBACK,UP,LOWER_UP> mtu 65536 qdisc noqueue state UNKNOWN group default qlen 1000\n",
    "    link/loopback 00:00:00:00:00:00 brd 00:00:00:00:00:00\n",
    "    inet 127.0.0.1/8 scope host lo\n",
    "       valid_lft forever preferred_lft forever\n",
    "    inet6 ::1/128 scope host\n",
    "       valid_lft forever preferred_lft forever\n",
    "2: eth0: <BROADCAST,MULTICAST,UP,LOWER_UP> mtu 9001 qdisc fq_codel state UP group default qlen 1000\n",
    "    link/ether 06:9a:61:8a:9f:b7 brd ff:ff:ff:ff:ff:ff\n",
    "    inet 10.0.1.171/24 brd 10.0.1.255 scope global dynamic eth0\n",
    "       valid_lft 2660sec preferred_lft 2660sec\n",
    "    inet6 fe80::49a:61ff:fe8a:9fb7/64 scope link\n",
    "       valid_lft forever preferred_lft forever"
   ]
  },
  {
   "cell_type": "markdown",
   "id": "administrative-conference",
   "metadata": {},
   "source": [
    "#### Let's check that our new EBS volume is present on the instance"
   ]
  },
  {
   "cell_type": "code",
   "execution_count": null,
   "id": "dominican-assessment",
   "metadata": {},
   "outputs": [],
   "source": [
    "%%bash\n",
    "\n",
    ">  sudo parted --list\n",
    "Model: Xen Virtual Block Device (xvd)\n",
    "Disk /dev/xvda: 8590MB\n",
    "Sector size (logical/physical): 512B/512B\n",
    "Partition Table: msdos\n",
    "Disk Flags:\n",
    "\n",
    "Number  Start   End     Size    Type     File system  Flags\n",
    " 1      1049kB  8590MB  8589MB  primary  ext4         boot\n",
    "\n",
    "\n",
    "Error: /dev/xvdh: unrecognised disk label\n",
    "Model: Xen Virtual Block Device (xvd)\n",
    "Disk /dev/xvdh: 21.5GB\n",
    "Sector size (logical/physical): 512B/512B\n",
    "Partition Table: unknown\n",
    "Disk Flags:\n"
   ]
  },
  {
   "cell_type": "markdown",
   "id": "oriental-manitoba",
   "metadata": {},
   "source": [
    "#### We can see that the disk exists, now let's create a filesystem on the raw device and mount it.\n",
    "\n",
    "First create an ext4 filesystem on the device:"
   ]
  },
  {
   "cell_type": "code",
   "execution_count": null,
   "id": "enclosed-switch",
   "metadata": {},
   "outputs": [],
   "source": [
    "%%bash\n",
    "sudo mkfs.ext4 /dev/xvdh"
   ]
  },
  {
   "cell_type": "markdown",
   "id": "loved-disaster",
   "metadata": {},
   "source": [
    "Create a new mountpoint"
   ]
  },
  {
   "cell_type": "code",
   "execution_count": null,
   "id": "eligible-livestock",
   "metadata": {},
   "outputs": [],
   "source": [
    "%%bash\n",
    "sudo mkdir /mnt/extra"
   ]
  },
  {
   "cell_type": "markdown",
   "id": "acute-rough",
   "metadata": {},
   "source": [
    "Mount the device new mountpoint"
   ]
  },
  {
   "cell_type": "code",
   "execution_count": null,
   "id": "cleared-independence",
   "metadata": {},
   "outputs": [],
   "source": [
    "%%bash\n",
    "sudo mount /dev/xvdh /mnt/extra"
   ]
  },
  {
   "cell_type": "markdown",
   "id": "collective-consent",
   "metadata": {},
   "source": [
    "Verify that the mount looks correct"
   ]
  },
  {
   "cell_type": "code",
   "execution_count": null,
   "id": "apparent-culture",
   "metadata": {},
   "outputs": [],
   "source": [
    "%%bash\n",
    "df -h /mnt/extra/"
   ]
  },
  {
   "cell_type": "markdown",
   "id": "understood-curtis",
   "metadata": {},
   "source": [
    "You should see something similar to:"
   ]
  },
  {
   "cell_type": "code",
   "execution_count": null,
   "id": "worth-county",
   "metadata": {},
   "outputs": [],
   "source": [
    "Filesystem      Size  Used Avail Use% Mounted on\n",
    "/dev/xvdh        20G   45M   19G   1% /mnt/extra"
   ]
  },
  {
   "cell_type": "markdown",
   "id": "variable-washington",
   "metadata": {},
   "source": [
    "### 15. Cleanup"
   ]
  },
  {
   "cell_type": "code",
   "execution_count": null,
   "id": "ideal-coffee",
   "metadata": {},
   "outputs": [],
   "source": [
    "%%bash\n",
    "> terraform destroy"
   ]
  },
  {
   "cell_type": "markdown",
   "id": "universal-denmark",
   "metadata": {},
   "source": [
    "<hr/>\n",
    "<!-- ![](../../../static/images/LOGO_v2_CROPPED.jpg) --> <img src=\"../../../static/images/LOGO_v2_CROPPED.jpg\" width=\"200\" />"
   ]
  }
 ],
 "metadata": {
  "kernelspec": {
   "display_name": "Bash",
   "language": "bash",
   "name": "bash"
  },
  "language_info": {
   "codemirror_mode": "shell",
   "file_extension": ".sh",
   "mimetype": "text/x-sh",
   "name": "bash"
  }
 },
 "nbformat": 4,
 "nbformat_minor": 5
}
